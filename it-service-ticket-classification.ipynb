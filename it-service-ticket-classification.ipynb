{
 "cells": [
  {
   "cell_type": "code",
   "execution_count": 1,
   "id": "1816e218",
   "metadata": {
    "_cell_guid": "b1076dfc-b9ad-4769-8c92-a6c4dae69d19",
    "_uuid": "8f2839f25d086af736a60e9eeb907d3b93b6e0e5",
    "execution": {
     "iopub.execute_input": "2025-05-15T14:42:13.283048Z",
     "iopub.status.busy": "2025-05-15T14:42:13.282705Z",
     "iopub.status.idle": "2025-05-15T14:42:14.873872Z",
     "shell.execute_reply": "2025-05-15T14:42:14.872868Z"
    },
    "papermill": {
     "duration": 1.601247,
     "end_time": "2025-05-15T14:42:14.875458",
     "exception": false,
     "start_time": "2025-05-15T14:42:13.274211",
     "status": "completed"
    },
    "tags": []
   },
   "outputs": [
    {
     "name": "stdout",
     "output_type": "stream",
     "text": [
      "/kaggle/input/it-service-ticket-classification-dataset/all_tickets_processed_improved_v3.csv\n"
     ]
    }
   ],
   "source": [
    "# This Python 3 environment comes with many helpful analytics libraries installed\n",
    "# It is defined by the kaggle/python Docker image: https://github.com/kaggle/docker-python\n",
    "# For example, here's several helpful packages to load\n",
    "\n",
    "import numpy as np # linear algebra\n",
    "import pandas as pd # data processing, CSV file I/O (e.g. pd.read_csv)\n",
    "\n",
    "# Input data files are available in the read-only \"../input/\" directory\n",
    "# For example, running this (by clicking run or pressing Shift+Enter) will list all files under the input directory\n",
    "\n",
    "import os\n",
    "for dirname, _, filenames in os.walk('/kaggle/input'):\n",
    "    for filename in filenames:\n",
    "        print(os.path.join(dirname, filename))\n",
    "\n",
    "# You can write up to 20GB to the current directory (/kaggle/working/) that gets preserved as output when you create a version using \"Save & Run All\" \n",
    "# You can also write temporary files to /kaggle/temp/, but they won't be saved outside of the current session"
   ]
  },
  {
   "cell_type": "markdown",
   "id": "53e35db1",
   "metadata": {
    "papermill": {
     "duration": 0.006422,
     "end_time": "2025-05-15T14:42:14.889142",
     "exception": false,
     "start_time": "2025-05-15T14:42:14.882720",
     "status": "completed"
    },
    "tags": []
   },
   "source": [
    "# Loading data"
   ]
  },
  {
   "cell_type": "code",
   "execution_count": 2,
   "id": "d0fd3ed4",
   "metadata": {
    "execution": {
     "iopub.execute_input": "2025-05-15T14:42:14.903098Z",
     "iopub.status.busy": "2025-05-15T14:42:14.902758Z",
     "iopub.status.idle": "2025-05-15T14:42:14.906313Z",
     "shell.execute_reply": "2025-05-15T14:42:14.905675Z"
    },
    "papermill": {
     "duration": 0.011668,
     "end_time": "2025-05-15T14:42:14.907367",
     "exception": false,
     "start_time": "2025-05-15T14:42:14.895699",
     "status": "completed"
    },
    "tags": []
   },
   "outputs": [],
   "source": [
    "import pandas as pd\n",
    "import numpy as np\n",
    "import matplotlib.pyplot as plt "
   ]
  },
  {
   "cell_type": "code",
   "execution_count": 3,
   "id": "93076ad3",
   "metadata": {
    "execution": {
     "iopub.execute_input": "2025-05-15T14:42:14.921144Z",
     "iopub.status.busy": "2025-05-15T14:42:14.920943Z",
     "iopub.status.idle": "2025-05-15T14:42:15.428474Z",
     "shell.execute_reply": "2025-05-15T14:42:15.427798Z"
    },
    "papermill": {
     "duration": 0.515722,
     "end_time": "2025-05-15T14:42:15.429605",
     "exception": false,
     "start_time": "2025-05-15T14:42:14.913883",
     "status": "completed"
    },
    "tags": []
   },
   "outputs": [
    {
     "name": "stdout",
     "output_type": "stream",
     "text": [
      "Path to dataset files: /kaggle/input/it-service-ticket-classification-dataset\n"
     ]
    }
   ],
   "source": [
    "import kagglehub\n",
    "\n",
    "# Download latest version\n",
    "path = kagglehub.dataset_download(\"adisongoh/it-service-ticket-classification-dataset\")\n",
    "\n",
    "print(\"Path to dataset files:\", path)"
   ]
  },
  {
   "cell_type": "code",
   "execution_count": 4,
   "id": "4a8434a9",
   "metadata": {
    "execution": {
     "iopub.execute_input": "2025-05-15T14:42:15.443960Z",
     "iopub.status.busy": "2025-05-15T14:42:15.443749Z",
     "iopub.status.idle": "2025-05-15T14:42:15.784776Z",
     "shell.execute_reply": "2025-05-15T14:42:15.783940Z"
    },
    "papermill": {
     "duration": 0.349854,
     "end_time": "2025-05-15T14:42:15.786138",
     "exception": false,
     "start_time": "2025-05-15T14:42:15.436284",
     "status": "completed"
    },
    "tags": []
   },
   "outputs": [],
   "source": [
    "#reading df\n",
    "df = pd.read_csv('/kaggle/input/it-service-ticket-classification-dataset/all_tickets_processed_improved_v3.csv')"
   ]
  },
  {
   "cell_type": "code",
   "execution_count": 5,
   "id": "e7d7e9ea",
   "metadata": {
    "execution": {
     "iopub.execute_input": "2025-05-15T14:42:15.802014Z",
     "iopub.status.busy": "2025-05-15T14:42:15.801762Z",
     "iopub.status.idle": "2025-05-15T14:42:15.834362Z",
     "shell.execute_reply": "2025-05-15T14:42:15.833600Z"
    },
    "papermill": {
     "duration": 0.041158,
     "end_time": "2025-05-15T14:42:15.835530",
     "exception": false,
     "start_time": "2025-05-15T14:42:15.794372",
     "status": "completed"
    },
    "tags": []
   },
   "outputs": [
    {
     "name": "stdout",
     "output_type": "stream",
     "text": [
      "<class 'pandas.core.frame.DataFrame'>\n",
      "RangeIndex: 47837 entries, 0 to 47836\n",
      "Data columns (total 2 columns):\n",
      " #   Column       Non-Null Count  Dtype \n",
      "---  ------       --------------  ----- \n",
      " 0   Document     47837 non-null  object\n",
      " 1   Topic_group  47837 non-null  object\n",
      "dtypes: object(2)\n",
      "memory usage: 747.6+ KB\n"
     ]
    }
   ],
   "source": [
    "df.info()"
   ]
  },
  {
   "cell_type": "code",
   "execution_count": 6,
   "id": "9dbb6d2b",
   "metadata": {
    "execution": {
     "iopub.execute_input": "2025-05-15T14:42:15.849820Z",
     "iopub.status.busy": "2025-05-15T14:42:15.849609Z",
     "iopub.status.idle": "2025-05-15T14:42:15.866271Z",
     "shell.execute_reply": "2025-05-15T14:42:15.865745Z"
    },
    "papermill": {
     "duration": 0.024536,
     "end_time": "2025-05-15T14:42:15.867186",
     "exception": false,
     "start_time": "2025-05-15T14:42:15.842650",
     "status": "completed"
    },
    "tags": []
   },
   "outputs": [
    {
     "data": {
      "text/html": [
       "<div>\n",
       "<style scoped>\n",
       "    .dataframe tbody tr th:only-of-type {\n",
       "        vertical-align: middle;\n",
       "    }\n",
       "\n",
       "    .dataframe tbody tr th {\n",
       "        vertical-align: top;\n",
       "    }\n",
       "\n",
       "    .dataframe thead th {\n",
       "        text-align: right;\n",
       "    }\n",
       "</style>\n",
       "<table border=\"1\" class=\"dataframe\">\n",
       "  <thead>\n",
       "    <tr style=\"text-align: right;\">\n",
       "      <th></th>\n",
       "      <th>Document</th>\n",
       "      <th>Topic_group</th>\n",
       "    </tr>\n",
       "  </thead>\n",
       "  <tbody>\n",
       "    <tr>\n",
       "      <th>0</th>\n",
       "      <td>connection with icon icon dear please setup ic...</td>\n",
       "      <td>Hardware</td>\n",
       "    </tr>\n",
       "    <tr>\n",
       "      <th>1</th>\n",
       "      <td>work experience user work experience user hi w...</td>\n",
       "      <td>Access</td>\n",
       "    </tr>\n",
       "    <tr>\n",
       "      <th>2</th>\n",
       "      <td>requesting for meeting requesting meeting hi p...</td>\n",
       "      <td>Hardware</td>\n",
       "    </tr>\n",
       "    <tr>\n",
       "      <th>3</th>\n",
       "      <td>reset passwords for external accounts re expir...</td>\n",
       "      <td>Access</td>\n",
       "    </tr>\n",
       "    <tr>\n",
       "      <th>4</th>\n",
       "      <td>mail verification warning hi has got attached ...</td>\n",
       "      <td>Miscellaneous</td>\n",
       "    </tr>\n",
       "  </tbody>\n",
       "</table>\n",
       "</div>"
      ],
      "text/plain": [
       "                                            Document    Topic_group\n",
       "0  connection with icon icon dear please setup ic...       Hardware\n",
       "1  work experience user work experience user hi w...         Access\n",
       "2  requesting for meeting requesting meeting hi p...       Hardware\n",
       "3  reset passwords for external accounts re expir...         Access\n",
       "4  mail verification warning hi has got attached ...  Miscellaneous"
      ]
     },
     "execution_count": 6,
     "metadata": {},
     "output_type": "execute_result"
    }
   ],
   "source": [
    "#quick preview of the df\n",
    "df.head()"
   ]
  },
  {
   "cell_type": "code",
   "execution_count": 7,
   "id": "0413edd3",
   "metadata": {
    "execution": {
     "iopub.execute_input": "2025-05-15T14:42:15.881732Z",
     "iopub.status.busy": "2025-05-15T14:42:15.881507Z",
     "iopub.status.idle": "2025-05-15T14:42:15.890711Z",
     "shell.execute_reply": "2025-05-15T14:42:15.890160Z"
    },
    "papermill": {
     "duration": 0.017678,
     "end_time": "2025-05-15T14:42:15.891645",
     "exception": false,
     "start_time": "2025-05-15T14:42:15.873967",
     "status": "completed"
    },
    "tags": []
   },
   "outputs": [
    {
     "data": {
      "text/plain": [
       "array(['Hardware', 'Access', 'Miscellaneous', 'HR Support', 'Purchase',\n",
       "       'Administrative rights', 'Storage', 'Internal Project'],\n",
       "      dtype=object)"
      ]
     },
     "execution_count": 7,
     "metadata": {},
     "output_type": "execute_result"
    }
   ],
   "source": [
    "#viewing unique values (categories) in Topic_group\n",
    "df['Topic_group'].nunique()\n",
    "df['Topic_group'].unique()"
   ]
  },
  {
   "cell_type": "code",
   "execution_count": 8,
   "id": "310a5f03",
   "metadata": {
    "execution": {
     "iopub.execute_input": "2025-05-15T14:42:15.906101Z",
     "iopub.status.busy": "2025-05-15T14:42:15.905909Z",
     "iopub.status.idle": "2025-05-15T14:42:15.916424Z",
     "shell.execute_reply": "2025-05-15T14:42:15.915897Z"
    },
    "papermill": {
     "duration": 0.019028,
     "end_time": "2025-05-15T14:42:15.917483",
     "exception": false,
     "start_time": "2025-05-15T14:42:15.898455",
     "status": "completed"
    },
    "tags": []
   },
   "outputs": [
    {
     "data": {
      "text/plain": [
       "Document       0\n",
       "Topic_group    0\n",
       "dtype: int64"
      ]
     },
     "execution_count": 8,
     "metadata": {},
     "output_type": "execute_result"
    }
   ],
   "source": [
    "#checking na\n",
    "df.isnull().sum()"
   ]
  },
  {
   "cell_type": "code",
   "execution_count": 9,
   "id": "7fd3eedb",
   "metadata": {
    "execution": {
     "iopub.execute_input": "2025-05-15T14:42:15.931747Z",
     "iopub.status.busy": "2025-05-15T14:42:15.931520Z",
     "iopub.status.idle": "2025-05-15T14:42:15.975820Z",
     "shell.execute_reply": "2025-05-15T14:42:15.975274Z"
    },
    "papermill": {
     "duration": 0.052607,
     "end_time": "2025-05-15T14:42:15.976946",
     "exception": false,
     "start_time": "2025-05-15T14:42:15.924339",
     "status": "completed"
    },
    "tags": []
   },
   "outputs": [
    {
     "data": {
      "text/plain": [
       "0"
      ]
     },
     "execution_count": 9,
     "metadata": {},
     "output_type": "execute_result"
    }
   ],
   "source": [
    "#checking duplicates\n",
    "df.duplicated().sum()"
   ]
  },
  {
   "cell_type": "markdown",
   "id": "69e2d7e6",
   "metadata": {
    "papermill": {
     "duration": 0.006644,
     "end_time": "2025-05-15T14:42:15.991099",
     "exception": false,
     "start_time": "2025-05-15T14:42:15.984455",
     "status": "completed"
    },
    "tags": []
   },
   "source": [
    "# Text Preprocessing"
   ]
  },
  {
   "cell_type": "code",
   "execution_count": 10,
   "id": "12f62a23",
   "metadata": {
    "execution": {
     "iopub.execute_input": "2025-05-15T14:42:16.006110Z",
     "iopub.status.busy": "2025-05-15T14:42:16.005620Z",
     "iopub.status.idle": "2025-05-15T14:42:16.283632Z",
     "shell.execute_reply": "2025-05-15T14:42:16.282893Z"
    },
    "papermill": {
     "duration": 0.286844,
     "end_time": "2025-05-15T14:42:16.284939",
     "exception": false,
     "start_time": "2025-05-15T14:42:15.998095",
     "status": "completed"
    },
    "tags": []
   },
   "outputs": [],
   "source": [
    "import re\n",
    "import string\n",
    "from bs4 import BeautifulSoup"
   ]
  },
  {
   "cell_type": "code",
   "execution_count": 11,
   "id": "9cc916a0",
   "metadata": {
    "execution": {
     "iopub.execute_input": "2025-05-15T14:42:16.299894Z",
     "iopub.status.busy": "2025-05-15T14:42:16.299549Z",
     "iopub.status.idle": "2025-05-15T14:42:16.303532Z",
     "shell.execute_reply": "2025-05-15T14:42:16.303022Z"
    },
    "papermill": {
     "duration": 0.012474,
     "end_time": "2025-05-15T14:42:16.304463",
     "exception": false,
     "start_time": "2025-05-15T14:42:16.291989",
     "status": "completed"
    },
    "tags": []
   },
   "outputs": [],
   "source": [
    "def cleaned_text (text):\n",
    "    text = text.lower() #converting to lower case\n",
    "    text = re.sub(r'\\d+', '', text) #removing numbers\n",
    "    text = text.translate(str.maketrans('', '', string.punctuation)) \n",
    "    #removing punctuation\n",
    "    text = re.sub(r'\\W', ' ', text) #removing special characters\n",
    "    text = BeautifulSoup(text, \"html.parser\").get_text() #removing HTML tags\n",
    "    return text"
   ]
  },
  {
   "cell_type": "code",
   "execution_count": 12,
   "id": "15a23595",
   "metadata": {
    "execution": {
     "iopub.execute_input": "2025-05-15T14:42:16.318925Z",
     "iopub.status.busy": "2025-05-15T14:42:16.318472Z",
     "iopub.status.idle": "2025-05-15T14:42:19.113071Z",
     "shell.execute_reply": "2025-05-15T14:42:19.112485Z"
    },
    "papermill": {
     "duration": 2.8031,
     "end_time": "2025-05-15T14:42:19.114366",
     "exception": false,
     "start_time": "2025-05-15T14:42:16.311266",
     "status": "completed"
    },
    "tags": []
   },
   "outputs": [],
   "source": [
    "df['Cleaned_Document'] = df['Document'].apply(cleaned_text)"
   ]
  },
  {
   "cell_type": "code",
   "execution_count": 13,
   "id": "a37323d7",
   "metadata": {
    "execution": {
     "iopub.execute_input": "2025-05-15T14:42:19.131209Z",
     "iopub.status.busy": "2025-05-15T14:42:19.130976Z",
     "iopub.status.idle": "2025-05-15T14:42:21.240254Z",
     "shell.execute_reply": "2025-05-15T14:42:21.239719Z"
    },
    "papermill": {
     "duration": 2.119167,
     "end_time": "2025-05-15T14:42:21.241815",
     "exception": false,
     "start_time": "2025-05-15T14:42:19.122648",
     "status": "completed"
    },
    "tags": []
   },
   "outputs": [],
   "source": [
    "import nltk\n",
    "\n",
    "#specifying the path to the already downloaded punkt dataset and other packages\n",
    "nltk.data.path.append('/kaggle/input/nltk-datasets/nltk_data')"
   ]
  },
  {
   "cell_type": "code",
   "execution_count": 14,
   "id": "b43d92a8",
   "metadata": {
    "execution": {
     "iopub.execute_input": "2025-05-15T14:42:21.257267Z",
     "iopub.status.busy": "2025-05-15T14:42:21.256535Z",
     "iopub.status.idle": "2025-05-15T14:42:21.260233Z",
     "shell.execute_reply": "2025-05-15T14:42:21.259540Z"
    },
    "papermill": {
     "duration": 0.012179,
     "end_time": "2025-05-15T14:42:21.261308",
     "exception": false,
     "start_time": "2025-05-15T14:42:21.249129",
     "status": "completed"
    },
    "tags": []
   },
   "outputs": [],
   "source": [
    "from nltk.tokenize import word_tokenize"
   ]
  },
  {
   "cell_type": "code",
   "execution_count": 15,
   "id": "66077747",
   "metadata": {
    "execution": {
     "iopub.execute_input": "2025-05-15T14:42:21.275650Z",
     "iopub.status.busy": "2025-05-15T14:42:21.275425Z",
     "iopub.status.idle": "2025-05-15T14:42:28.788569Z",
     "shell.execute_reply": "2025-05-15T14:42:28.787988Z"
    },
    "papermill": {
     "duration": 7.52187,
     "end_time": "2025-05-15T14:42:28.789980",
     "exception": false,
     "start_time": "2025-05-15T14:42:21.268110",
     "status": "completed"
    },
    "tags": []
   },
   "outputs": [],
   "source": [
    "#splitting text into words\n",
    "df['Cleaned_Document'] = df['Cleaned_Document'].apply(word_tokenize)"
   ]
  },
  {
   "cell_type": "code",
   "execution_count": 16,
   "id": "4383aded",
   "metadata": {
    "execution": {
     "iopub.execute_input": "2025-05-15T14:42:28.847140Z",
     "iopub.status.busy": "2025-05-15T14:42:28.846885Z",
     "iopub.status.idle": "2025-05-15T14:42:28.854437Z",
     "shell.execute_reply": "2025-05-15T14:42:28.853845Z"
    },
    "papermill": {
     "duration": 0.016453,
     "end_time": "2025-05-15T14:42:28.855498",
     "exception": false,
     "start_time": "2025-05-15T14:42:28.839045",
     "status": "completed"
    },
    "tags": []
   },
   "outputs": [
    {
     "data": {
      "text/plain": [
       "0        [connection, with, icon, icon, dear, please, s...\n",
       "1        [work, experience, user, work, experience, use...\n",
       "2        [requesting, for, meeting, requesting, meeting...\n",
       "3        [reset, passwords, for, external, accounts, re...\n",
       "4        [mail, verification, warning, hi, has, got, at...\n",
       "                               ...                        \n",
       "47832    [git, space, for, a, project, issues, with, ad...\n",
       "47833    [error, sent, july, error, hi, guys, can, you,...\n",
       "47834    [connection, issues, sent, tuesday, july, conn...\n",
       "47835    [error, cube, reports, sent, tuesday, july, er...\n",
       "47836    [running, out, on, extensions, hello, please, ...\n",
       "Name: Cleaned_Document, Length: 47837, dtype: object"
      ]
     },
     "execution_count": 16,
     "metadata": {},
     "output_type": "execute_result"
    }
   ],
   "source": [
    "df['Cleaned_Document']"
   ]
  },
  {
   "cell_type": "code",
   "execution_count": 17,
   "id": "821cd31a",
   "metadata": {
    "execution": {
     "iopub.execute_input": "2025-05-15T14:42:28.870080Z",
     "iopub.status.busy": "2025-05-15T14:42:28.869800Z",
     "iopub.status.idle": "2025-05-15T14:42:28.879129Z",
     "shell.execute_reply": "2025-05-15T14:42:28.878402Z"
    },
    "papermill": {
     "duration": 0.017859,
     "end_time": "2025-05-15T14:42:28.880251",
     "exception": false,
     "start_time": "2025-05-15T14:42:28.862392",
     "status": "completed"
    },
    "tags": []
   },
   "outputs": [
    {
     "name": "stdout",
     "output_type": "stream",
     "text": [
      "198\n"
     ]
    }
   ],
   "source": [
    "#removing stop-words\n",
    "from nltk.corpus import stopwords\n",
    "stop_words = set(stopwords.words('english'))\n",
    "print(len(stop_words)) #checking that stop-words are downloaded"
   ]
  },
  {
   "cell_type": "code",
   "execution_count": 18,
   "id": "22c8a286",
   "metadata": {
    "execution": {
     "iopub.execute_input": "2025-05-15T14:42:28.894886Z",
     "iopub.status.busy": "2025-05-15T14:42:28.894684Z",
     "iopub.status.idle": "2025-05-15T14:42:29.246523Z",
     "shell.execute_reply": "2025-05-15T14:42:29.245883Z"
    },
    "papermill": {
     "duration": 0.360639,
     "end_time": "2025-05-15T14:42:29.248046",
     "exception": false,
     "start_time": "2025-05-15T14:42:28.887407",
     "status": "completed"
    },
    "tags": []
   },
   "outputs": [],
   "source": [
    "df['Cleaned_Document'] = df['Cleaned_Document'].apply(\n",
    "    lambda toks: [w for w in toks if w not in stop_words]\n",
    ")"
   ]
  },
  {
   "cell_type": "code",
   "execution_count": 19,
   "id": "48655403",
   "metadata": {
    "execution": {
     "iopub.execute_input": "2025-05-15T14:42:29.263400Z",
     "iopub.status.busy": "2025-05-15T14:42:29.263020Z",
     "iopub.status.idle": "2025-05-15T14:42:29.270825Z",
     "shell.execute_reply": "2025-05-15T14:42:29.270076Z"
    },
    "papermill": {
     "duration": 0.01654,
     "end_time": "2025-05-15T14:42:29.271947",
     "exception": false,
     "start_time": "2025-05-15T14:42:29.255407",
     "status": "completed"
    },
    "tags": []
   },
   "outputs": [
    {
     "data": {
      "text/plain": [
       "0        [connection, icon, icon, dear, please, setup, ...\n",
       "1        [work, experience, user, work, experience, use...\n",
       "2        [requesting, meeting, requesting, meeting, hi,...\n",
       "3        [reset, passwords, external, accounts, expire,...\n",
       "4        [mail, verification, warning, hi, got, attache...\n",
       "                               ...                        \n",
       "47832    [git, space, project, issues, adding, users, s...\n",
       "47833    [error, sent, july, error, hi, guys, help, err...\n",
       "47834    [connection, issues, sent, tuesday, july, conn...\n",
       "47835    [error, cube, reports, sent, tuesday, july, er...\n",
       "47836    [running, extensions, hello, please, advised, ...\n",
       "Name: Cleaned_Document, Length: 47837, dtype: object"
      ]
     },
     "execution_count": 19,
     "metadata": {},
     "output_type": "execute_result"
    }
   ],
   "source": [
    "df['Cleaned_Document']"
   ]
  },
  {
   "cell_type": "code",
   "execution_count": 20,
   "id": "3cf5d19c",
   "metadata": {
    "execution": {
     "iopub.execute_input": "2025-05-15T14:42:29.287153Z",
     "iopub.status.busy": "2025-05-15T14:42:29.286950Z",
     "iopub.status.idle": "2025-05-15T14:42:38.030834Z",
     "shell.execute_reply": "2025-05-15T14:42:38.030207Z"
    },
    "papermill": {
     "duration": 8.752917,
     "end_time": "2025-05-15T14:42:38.032261",
     "exception": false,
     "start_time": "2025-05-15T14:42:29.279344",
     "status": "completed"
    },
    "tags": []
   },
   "outputs": [],
   "source": [
    "#lemmatization\n",
    "from nltk.stem import PorterStemmer, WordNetLemmatizer\n",
    "lemmatizer = WordNetLemmatizer()\n",
    "df['Cleaned_Document'] = df['Cleaned_Document'].apply(lambda doc: [lemmatizer.lemmatize(word) for word in doc])"
   ]
  },
  {
   "cell_type": "code",
   "execution_count": 21,
   "id": "676e1f0c",
   "metadata": {
    "execution": {
     "iopub.execute_input": "2025-05-15T14:42:38.048222Z",
     "iopub.status.busy": "2025-05-15T14:42:38.047841Z",
     "iopub.status.idle": "2025-05-15T14:42:38.056225Z",
     "shell.execute_reply": "2025-05-15T14:42:38.055495Z"
    },
    "papermill": {
     "duration": 0.017347,
     "end_time": "2025-05-15T14:42:38.057320",
     "exception": false,
     "start_time": "2025-05-15T14:42:38.039973",
     "status": "completed"
    },
    "tags": []
   },
   "outputs": [
    {
     "data": {
      "text/plain": [
       "0     [connection, icon, icon, dear, please, setup, ...\n",
       "1     [work, experience, user, work, experience, use...\n",
       "2     [requesting, meeting, requesting, meeting, hi,...\n",
       "3     [reset, password, external, account, expire, d...\n",
       "4     [mail, verification, warning, hi, got, attache...\n",
       "5     [mail, please, dear, look, blacklisted, receiv...\n",
       "6     [prod, server, tunneling, prod, tunneling, va,...\n",
       "7     [access, request, dear, module, report, report...\n",
       "8     [reset, password, client, password, client, de...\n",
       "9     [direct, report, missing, time, please, action...\n",
       "10    [laptop, connected, request, rebuild, connecte...\n",
       "11    [device, recovery, report, printer, alert, dup...\n",
       "12            [new, starter, hello, please, fill, date]\n",
       "13    [visual, studio, license, visual, studio, lice...\n",
       "14    [system, hello, movement, left, available, dev...\n",
       "15    [access, secondary, secondary, hi, please, pro...\n",
       "16    [list, sent, copy, copy, hi, receive, copy, be...\n",
       "17    [new, purchase, po, purchase, po, dear, purcha...\n",
       "18    [invitation, cloud, strategy, workshop, februa...\n",
       "19    [change, sale, owner, contract, change, owner,...\n",
       "Name: Cleaned_Document, dtype: object"
      ]
     },
     "execution_count": 21,
     "metadata": {},
     "output_type": "execute_result"
    }
   ],
   "source": [
    "df['Cleaned_Document'].head(20)"
   ]
  },
  {
   "cell_type": "code",
   "execution_count": 22,
   "id": "d96bbf66",
   "metadata": {
    "execution": {
     "iopub.execute_input": "2025-05-15T14:42:38.072618Z",
     "iopub.status.busy": "2025-05-15T14:42:38.072395Z",
     "iopub.status.idle": "2025-05-15T14:42:38.080327Z",
     "shell.execute_reply": "2025-05-15T14:42:38.079814Z"
    },
    "papermill": {
     "duration": 0.016688,
     "end_time": "2025-05-15T14:42:38.081316",
     "exception": false,
     "start_time": "2025-05-15T14:42:38.064628",
     "status": "completed"
    },
    "tags": []
   },
   "outputs": [
    {
     "data": {
      "text/plain": [
       "47817    [submit, expense, even, though, added, electro...\n",
       "47818    [job, referral, available, sent, thursday, jul...\n",
       "47819    [oracle, update, another, bug, sent, thursday,...\n",
       "47820    [social, error, sent, thursday, july, error, d...\n",
       "47821    [backup, server, performance, issue, sent, thu...\n",
       "47822    [approving, expense, project, code, related, w...\n",
       "47823    [bug, sent, wednesday, july, bug, hello, disco...\n",
       "47824    [oracle, fusion, working, message, unplanned, ...\n",
       "47825    [issue, sent, friday, july, hi, issue, somethi...\n",
       "47826    [oracle, error, sent, thursday, july, error, h...\n",
       "47827    [bandwidth, problem, sent, thursday, july, ban...\n",
       "47828    [password, expire, day, sent, july, password, ...\n",
       "47829    [sensitive, information, access, sent, wednesd...\n",
       "47830    [malfunction, sent, tuesday, july, malfunction...\n",
       "47831    [outlook, account, laptop, laptop, sa, sa, si,...\n",
       "47832    [git, space, project, issue, adding, user, sen...\n",
       "47833    [error, sent, july, error, hi, guy, help, erro...\n",
       "47834    [connection, issue, sent, tuesday, july, conne...\n",
       "47835    [error, cube, report, sent, tuesday, july, err...\n",
       "47836    [running, extension, hello, please, advised, r...\n",
       "Name: Cleaned_Document, dtype: object"
      ]
     },
     "execution_count": 22,
     "metadata": {},
     "output_type": "execute_result"
    }
   ],
   "source": [
    "df['Cleaned_Document'].tail(20)"
   ]
  },
  {
   "cell_type": "markdown",
   "id": "1223f313",
   "metadata": {
    "papermill": {
     "duration": 0.007347,
     "end_time": "2025-05-15T14:42:38.096434",
     "exception": false,
     "start_time": "2025-05-15T14:42:38.089087",
     "status": "completed"
    },
    "tags": []
   },
   "source": [
    "As I can see, besides stop words, the corpus contains many words like 'please', 'hi', 'hello', etc. These words can affect the efficiency of the algorithm, so I would remove them manually."
   ]
  },
  {
   "cell_type": "code",
   "execution_count": 23,
   "id": "dabb9346",
   "metadata": {
    "execution": {
     "iopub.execute_input": "2025-05-15T14:42:38.111671Z",
     "iopub.status.busy": "2025-05-15T14:42:38.111439Z",
     "iopub.status.idle": "2025-05-15T14:42:38.622542Z",
     "shell.execute_reply": "2025-05-15T14:42:38.621993Z"
    },
    "papermill": {
     "duration": 0.520235,
     "end_time": "2025-05-15T14:42:38.623978",
     "exception": false,
     "start_time": "2025-05-15T14:42:38.103743",
     "status": "completed"
    },
    "tags": []
   },
   "outputs": [],
   "source": [
    "custom_stopwords = ['hi', 'hello', 'dear', 'please', 'help', 'guy', 'guys',\n",
    "                   'thanks', 'thank', 'regards', 'best', 'hey', 'appreciate',\n",
    "                    'sorry', 'welcome', 'cheers', 'hello', 'goodbye', 'bye',\n",
    "                    'kindly', 'gladly']\n",
    "\n",
    "df['Cleaned_Document'] = df['Cleaned_Document'].apply(\n",
    "    lambda doc: [word for word in doc if word not in custom_stopwords]\n",
    ")"
   ]
  },
  {
   "cell_type": "code",
   "execution_count": 24,
   "id": "76328792",
   "metadata": {
    "execution": {
     "iopub.execute_input": "2025-05-15T14:42:38.640412Z",
     "iopub.status.busy": "2025-05-15T14:42:38.640099Z",
     "iopub.status.idle": "2025-05-15T14:42:38.648147Z",
     "shell.execute_reply": "2025-05-15T14:42:38.647386Z"
    },
    "papermill": {
     "duration": 0.01721,
     "end_time": "2025-05-15T14:42:38.649303",
     "exception": false,
     "start_time": "2025-05-15T14:42:38.632093",
     "status": "completed"
    },
    "tags": []
   },
   "outputs": [
    {
     "data": {
      "text/plain": [
       "0        [connection, icon, icon, setup, icon, per, ico...\n",
       "1        [work, experience, user, work, experience, use...\n",
       "2        [requesting, meeting, requesting, meeting, fol...\n",
       "3        [reset, password, external, account, expire, d...\n",
       "4        [mail, verification, warning, got, attached, a...\n",
       "                               ...                        \n",
       "47832    [git, space, project, issue, adding, user, sen...\n",
       "47833    [error, sent, july, error, error, appearing, w...\n",
       "47834    [connection, issue, sent, tuesday, july, conne...\n",
       "47835    [error, cube, report, sent, tuesday, july, err...\n",
       "47836    [running, extension, advised, running, extensi...\n",
       "Name: Cleaned_Document, Length: 47837, dtype: object"
      ]
     },
     "execution_count": 24,
     "metadata": {},
     "output_type": "execute_result"
    }
   ],
   "source": [
    "df['Cleaned_Document']"
   ]
  },
  {
   "cell_type": "code",
   "execution_count": 25,
   "id": "f61204bf",
   "metadata": {
    "execution": {
     "iopub.execute_input": "2025-05-15T14:42:38.665787Z",
     "iopub.status.busy": "2025-05-15T14:42:38.665534Z",
     "iopub.status.idle": "2025-05-15T14:42:38.836819Z",
     "shell.execute_reply": "2025-05-15T14:42:38.836243Z"
    },
    "papermill": {
     "duration": 0.181243,
     "end_time": "2025-05-15T14:42:38.838165",
     "exception": false,
     "start_time": "2025-05-15T14:42:38.656922",
     "status": "completed"
    },
    "tags": []
   },
   "outputs": [],
   "source": [
    "#%pip install contractions\n",
    "#import contractions\n",
    "\n",
    "contraction_map = {\n",
    "    \"aren't\": \"are not\",\n",
    "    \"can't\": \"cannot\",\n",
    "    \"couldn't\": \"could not\",\n",
    "    \"didn't\": \"did not\",\n",
    "    \"doesn't\": \"does not\",\n",
    "    \"don't\": \"do not\",\n",
    "    \"hadn't\": \"had not\",\n",
    "    \"hasn't\": \"has not\",\n",
    "    \"haven't\": \"have not\",\n",
    "    \"he'd\": \"he would\",\n",
    "    \"he'll\": \"he will\",\n",
    "    \"he's\": \"he is\",\n",
    "    \"i'd\": \"i would\",\n",
    "    \"i'll\": \"i will\",\n",
    "    \"i'm\": \"i am\",\n",
    "    \"i've\": \"i have\",\n",
    "    \"isn't\": \"is not\",\n",
    "    \"it's\": \"it is\",\n",
    "    \"let's\": \"let us\",\n",
    "    \"mightn't\": \"might not\",\n",
    "    \"mustn't\": \"must not\",\n",
    "    \"shan't\": \"shall not\",\n",
    "    \"she'd\": \"she would\",\n",
    "    \"she'll\": \"she will\",\n",
    "    \"she's\": \"she is\",\n",
    "    \"shouldn't\": \"should not\",\n",
    "    \"that's\": \"that is\",\n",
    "    \"there's\": \"there is\",\n",
    "    \"they'd\": \"they would\",\n",
    "    \"they'll\": \"they will\",\n",
    "    \"they're\": \"they are\",\n",
    "    \"they've\": \"they have\",\n",
    "    \"we'd\": \"we would\",\n",
    "    \"we're\": \"we are\",\n",
    "    \"we've\": \"we have\",\n",
    "    \"weren't\": \"were not\",\n",
    "    \"what'll\": \"what will\",\n",
    "    \"what're\": \"what are\",\n",
    "    \"what's\": \"what is\",\n",
    "    \"what've\": \"what have\",\n",
    "    \"where's\": \"where is\",\n",
    "    \"who's\": \"who is\",\n",
    "    \"who'll\": \"who will\",\n",
    "    \"won't\": \"will not\",\n",
    "    \"wouldn't\": \"would not\",\n",
    "    \"you'd\": \"you would\",\n",
    "    \"you'll\": \"you will\",\n",
    "    \"you're\": \"you are\",\n",
    "    \"you've\": \"you have\"\n",
    "}\n",
    "\n",
    "def expand_contractions_tokenized(doc):\n",
    "    return [contraction_map.get(word, word) for word in doc]\n",
    "\n",
    "df['Cleaned_Document'] = df['Cleaned_Document'].apply(expand_contractions_tokenized)"
   ]
  },
  {
   "cell_type": "code",
   "execution_count": 26,
   "id": "d69619fb",
   "metadata": {
    "execution": {
     "iopub.execute_input": "2025-05-15T14:42:38.854429Z",
     "iopub.status.busy": "2025-05-15T14:42:38.854028Z",
     "iopub.status.idle": "2025-05-15T14:42:38.861235Z",
     "shell.execute_reply": "2025-05-15T14:42:38.860714Z"
    },
    "papermill": {
     "duration": 0.016464,
     "end_time": "2025-05-15T14:42:38.862262",
     "exception": false,
     "start_time": "2025-05-15T14:42:38.845798",
     "status": "completed"
    },
    "tags": []
   },
   "outputs": [
    {
     "data": {
      "text/plain": [
       "0        [connection, icon, icon, setup, icon, per, ico...\n",
       "1        [work, experience, user, work, experience, use...\n",
       "2        [requesting, meeting, requesting, meeting, fol...\n",
       "3        [reset, password, external, account, expire, d...\n",
       "4        [mail, verification, warning, got, attached, a...\n",
       "                               ...                        \n",
       "47832    [git, space, project, issue, adding, user, sen...\n",
       "47833    [error, sent, july, error, error, appearing, w...\n",
       "47834    [connection, issue, sent, tuesday, july, conne...\n",
       "47835    [error, cube, report, sent, tuesday, july, err...\n",
       "47836    [running, extension, advised, running, extensi...\n",
       "Name: Cleaned_Document, Length: 47837, dtype: object"
      ]
     },
     "execution_count": 26,
     "metadata": {},
     "output_type": "execute_result"
    }
   ],
   "source": [
    "df['Cleaned_Document'] "
   ]
  },
  {
   "cell_type": "code",
   "execution_count": 27,
   "id": "277af450",
   "metadata": {
    "execution": {
     "iopub.execute_input": "2025-05-15T14:42:38.877838Z",
     "iopub.status.busy": "2025-05-15T14:42:38.877457Z",
     "iopub.status.idle": "2025-05-15T14:42:40.282880Z",
     "shell.execute_reply": "2025-05-15T14:42:40.282243Z"
    },
    "papermill": {
     "duration": 1.414569,
     "end_time": "2025-05-15T14:42:40.284170",
     "exception": false,
     "start_time": "2025-05-15T14:42:38.869601",
     "status": "completed"
    },
    "tags": []
   },
   "outputs": [],
   "source": [
    "#saving dataset\n",
    "df['Cleaned_Document_Str'] = df['Cleaned_Document'].apply(lambda tokens: ' '.join(tokens))\n",
    "df.to_csv('cleaned_dataset.csv', index=False)"
   ]
  },
  {
   "cell_type": "markdown",
   "id": "25e3347d",
   "metadata": {
    "papermill": {
     "duration": 0.007413,
     "end_time": "2025-05-15T14:42:40.299684",
     "exception": false,
     "start_time": "2025-05-15T14:42:40.292271",
     "status": "completed"
    },
    "tags": []
   },
   "source": [
    "# EDA"
   ]
  },
  {
   "cell_type": "markdown",
   "id": "f92b93e2",
   "metadata": {
    "papermill": {
     "duration": 0.007405,
     "end_time": "2025-05-15T14:42:40.314798",
     "exception": false,
     "start_time": "2025-05-15T14:42:40.307393",
     "status": "completed"
    },
    "tags": []
   },
   "source": [
    "## Text part "
   ]
  },
  {
   "cell_type": "code",
   "execution_count": 28,
   "id": "9725a45a",
   "metadata": {
    "execution": {
     "iopub.execute_input": "2025-05-15T14:42:40.331139Z",
     "iopub.status.busy": "2025-05-15T14:42:40.330918Z",
     "iopub.status.idle": "2025-05-15T14:42:40.360964Z",
     "shell.execute_reply": "2025-05-15T14:42:40.360131Z"
    },
    "papermill": {
     "duration": 0.039732,
     "end_time": "2025-05-15T14:42:40.362249",
     "exception": false,
     "start_time": "2025-05-15T14:42:40.322517",
     "status": "completed"
    },
    "tags": []
   },
   "outputs": [
    {
     "name": "stdout",
     "output_type": "stream",
     "text": [
      "count    47837.000000\n",
      "mean        33.148860\n",
      "std         44.508495\n",
      "min          0.000000\n",
      "25%         12.000000\n",
      "50%         20.000000\n",
      "75%         35.000000\n",
      "max        817.000000\n",
      "Name: doc_length, dtype: float64\n"
     ]
    }
   ],
   "source": [
    "#number of tokens per document.\n",
    "df['doc_length'] = df['Cleaned_Document'].apply(len)\n",
    "print(df['doc_length'].describe())"
   ]
  },
  {
   "cell_type": "markdown",
   "id": "a89a5107",
   "metadata": {
    "papermill": {
     "duration": 0.007178,
     "end_time": "2025-05-15T14:42:40.376809",
     "exception": false,
     "start_time": "2025-05-15T14:42:40.369631",
     "status": "completed"
    },
    "tags": []
   },
   "source": [
    "As we can see, there are some tickets with zero tokens, meaning they are essentially empty"
   ]
  },
  {
   "cell_type": "code",
   "execution_count": 29,
   "id": "2cc82b3d",
   "metadata": {
    "execution": {
     "iopub.execute_input": "2025-05-15T14:42:40.392507Z",
     "iopub.status.busy": "2025-05-15T14:42:40.392306Z",
     "iopub.status.idle": "2025-05-15T14:42:40.403021Z",
     "shell.execute_reply": "2025-05-15T14:42:40.402302Z"
    },
    "papermill": {
     "duration": 0.019876,
     "end_time": "2025-05-15T14:42:40.404199",
     "exception": false,
     "start_time": "2025-05-15T14:42:40.384323",
     "status": "completed"
    },
    "tags": []
   },
   "outputs": [
    {
     "data": {
      "text/html": [
       "<div>\n",
       "<style scoped>\n",
       "    .dataframe tbody tr th:only-of-type {\n",
       "        vertical-align: middle;\n",
       "    }\n",
       "\n",
       "    .dataframe tbody tr th {\n",
       "        vertical-align: top;\n",
       "    }\n",
       "\n",
       "    .dataframe thead th {\n",
       "        text-align: right;\n",
       "    }\n",
       "</style>\n",
       "<table border=\"1\" class=\"dataframe\">\n",
       "  <thead>\n",
       "    <tr style=\"text-align: right;\">\n",
       "      <th></th>\n",
       "      <th>Document</th>\n",
       "      <th>Topic_group</th>\n",
       "      <th>Cleaned_Document</th>\n",
       "      <th>Cleaned_Document_Str</th>\n",
       "      <th>doc_length</th>\n",
       "    </tr>\n",
       "  </thead>\n",
       "  <tbody>\n",
       "    <tr>\n",
       "      <th>35590</th>\n",
       "      <td>for is down again for down again hi for down a...</td>\n",
       "      <td>Administrative rights</td>\n",
       "      <td>[]</td>\n",
       "      <td></td>\n",
       "      <td>0</td>\n",
       "    </tr>\n",
       "  </tbody>\n",
       "</table>\n",
       "</div>"
      ],
      "text/plain": [
       "                                                Document  \\\n",
       "35590  for is down again for down again hi for down a...   \n",
       "\n",
       "                 Topic_group Cleaned_Document Cleaned_Document_Str  doc_length  \n",
       "35590  Administrative rights               []                                0  "
      ]
     },
     "execution_count": 29,
     "metadata": {},
     "output_type": "execute_result"
    }
   ],
   "source": [
    "df[df['doc_length'] == 0]"
   ]
  },
  {
   "cell_type": "code",
   "execution_count": 30,
   "id": "b2f75653",
   "metadata": {
    "execution": {
     "iopub.execute_input": "2025-05-15T14:42:40.420360Z",
     "iopub.status.busy": "2025-05-15T14:42:40.420164Z",
     "iopub.status.idle": "2025-05-15T14:42:40.429192Z",
     "shell.execute_reply": "2025-05-15T14:42:40.428457Z"
    },
    "papermill": {
     "duration": 0.018357,
     "end_time": "2025-05-15T14:42:40.430289",
     "exception": false,
     "start_time": "2025-05-15T14:42:40.411932",
     "status": "completed"
    },
    "tags": []
   },
   "outputs": [],
   "source": [
    "df = df[df['doc_length'] != 0]"
   ]
  },
  {
   "cell_type": "code",
   "execution_count": 31,
   "id": "fae78340",
   "metadata": {
    "execution": {
     "iopub.execute_input": "2025-05-15T14:42:40.446081Z",
     "iopub.status.busy": "2025-05-15T14:42:40.445894Z",
     "iopub.status.idle": "2025-05-15T14:42:41.539320Z",
     "shell.execute_reply": "2025-05-15T14:42:41.538460Z"
    },
    "papermill": {
     "duration": 1.102839,
     "end_time": "2025-05-15T14:42:41.540721",
     "exception": false,
     "start_time": "2025-05-15T14:42:40.437882",
     "status": "completed"
    },
    "tags": []
   },
   "outputs": [
    {
     "name": "stdout",
     "output_type": "stream",
     "text": [
      "[('pm', 28902), ('regard', 27286), ('sent', 14717), ('issue', 14176), ('access', 13309), ('kind', 13252), ('tuesday', 10899), ('wednesday', 10429), ('error', 10152), ('thursday', 9937)]\n"
     ]
    }
   ],
   "source": [
    "from nltk.probability import FreqDist\n",
    "# Убираем NaN и взрываем списки токенов в один Series\n",
    "doc = df['Cleaned_Document'].dropna().explode()\n",
    "\n",
    "# Фильтруем только строки\n",
    "doc = doc[doc.apply(lambda x: isinstance(x, str))]\n",
    "\n",
    "# Считаем частоты\n",
    "fdist = FreqDist(doc)\n",
    "\n",
    "# Топ-10\n",
    "top10 = fdist.most_common(10)\n",
    "print(top10)"
   ]
  },
  {
   "cell_type": "code",
   "execution_count": 32,
   "id": "24d771f7",
   "metadata": {
    "execution": {
     "iopub.execute_input": "2025-05-15T14:42:41.557044Z",
     "iopub.status.busy": "2025-05-15T14:42:41.556843Z",
     "iopub.status.idle": "2025-05-15T14:42:41.711067Z",
     "shell.execute_reply": "2025-05-15T14:42:41.710393Z"
    },
    "papermill": {
     "duration": 0.163489,
     "end_time": "2025-05-15T14:42:41.712116",
     "exception": false,
     "start_time": "2025-05-15T14:42:41.548627",
     "status": "completed"
    },
    "tags": []
   },
   "outputs": [
    {
     "name": "stdout",
     "output_type": "stream",
     "text": [
      "Lexical Diversity: 0.00662\n"
     ]
    }
   ],
   "source": [
    "#lexical diversity\n",
    "total = len(doc)\n",
    "unique = len(set(doc))\n",
    "lex_div = unique / total\n",
    "print(f\"Lexical Diversity: {lex_div:.5f}\")"
   ]
  },
  {
   "cell_type": "code",
   "execution_count": 33,
   "id": "75d9e360",
   "metadata": {
    "execution": {
     "iopub.execute_input": "2025-05-15T14:42:41.728350Z",
     "iopub.status.busy": "2025-05-15T14:42:41.727902Z",
     "iopub.status.idle": "2025-05-15T14:42:42.071544Z",
     "shell.execute_reply": "2025-05-15T14:42:42.070802Z"
    },
    "papermill": {
     "duration": 0.35283,
     "end_time": "2025-05-15T14:42:42.072706",
     "exception": false,
     "start_time": "2025-05-15T14:42:41.719876",
     "status": "completed"
    },
    "tags": []
   },
   "outputs": [
    {
     "name": "stdout",
     "output_type": "stream",
     "text": [
      "Avg. word length (mean): 6.14\n",
      "Avg. word length (median): 6.00\n"
     ]
    }
   ],
   "source": [
    "word_lengths = [len(w) for w in doc]\n",
    "print(f\"Avg. word length (mean): {np.mean(word_lengths):.2f}\")\n",
    "print(f\"Avg. word length (median): {np.median(word_lengths):.2f}\")"
   ]
  },
  {
   "cell_type": "code",
   "execution_count": 34,
   "id": "fab3a6b8",
   "metadata": {
    "execution": {
     "iopub.execute_input": "2025-05-15T14:42:42.089136Z",
     "iopub.status.busy": "2025-05-15T14:42:42.088911Z",
     "iopub.status.idle": "2025-05-15T14:42:42.103120Z",
     "shell.execute_reply": "2025-05-15T14:42:42.102297Z"
    },
    "papermill": {
     "duration": 0.023505,
     "end_time": "2025-05-15T14:42:42.104214",
     "exception": false,
     "start_time": "2025-05-15T14:42:42.080709",
     "status": "completed"
    },
    "tags": []
   },
   "outputs": [
    {
     "name": "stdout",
     "output_type": "stream",
     "text": [
      "Avg. ticket length (mean): 33.15\n",
      "Avg. ticket length (median): 20.00\n"
     ]
    }
   ],
   "source": [
    "ticket_length = [len(w) for w in df['Cleaned_Document']]\n",
    "print(f\"Avg. ticket length (mean): {np.mean(ticket_length):.2f}\")\n",
    "print(f\"Avg. ticket length (median): {np.median(ticket_length):.2f}\")"
   ]
  },
  {
   "cell_type": "code",
   "execution_count": 35,
   "id": "186a3cf8",
   "metadata": {
    "execution": {
     "iopub.execute_input": "2025-05-15T14:42:42.120613Z",
     "iopub.status.busy": "2025-05-15T14:42:42.120196Z",
     "iopub.status.idle": "2025-05-15T14:42:42.473514Z",
     "shell.execute_reply": "2025-05-15T14:42:42.472800Z"
    },
    "papermill": {
     "duration": 0.3629,
     "end_time": "2025-05-15T14:42:42.474922",
     "exception": false,
     "start_time": "2025-05-15T14:42:42.112022",
     "status": "completed"
    },
    "tags": []
   },
   "outputs": [
    {
     "data": {
      "text/plain": [
       "<Axes: xlabel='Samples', ylabel='Counts'>"
      ]
     },
     "execution_count": 35,
     "metadata": {},
     "output_type": "execute_result"
    },
    {
     "data": {
      "image/png": "[encoded data removed]",
      "text/plain": [
       "<Figure size 640x480 with 1 Axes>"
      ]
     },
     "metadata": {},
     "output_type": "display_data"
    }
   ],
   "source": [
    "fdist.plot(30, cumulative=False)  "
   ]
  },
  {
   "cell_type": "code",
   "execution_count": 36,
   "id": "4fd7ed99",
   "metadata": {
    "execution": {
     "iopub.execute_input": "2025-05-15T14:42:42.493296Z",
     "iopub.status.busy": "2025-05-15T14:42:42.493110Z",
     "iopub.status.idle": "2025-05-15T14:42:48.811700Z",
     "shell.execute_reply": "2025-05-15T14:42:48.810984Z"
    },
    "papermill": {
     "duration": 6.330886,
     "end_time": "2025-05-15T14:42:48.814951",
     "exception": false,
     "start_time": "2025-05-15T14:42:42.484065",
     "status": "completed"
    },
    "tags": []
   },
   "outputs": [
    {
     "data": {
      "image/png": "[encoded data removed]",
      "text/plain": [
       "<Figure size 640x480 with 1 Axes>"
      ]
     },
     "metadata": {},
     "output_type": "display_data"
    }
   ],
   "source": [
    "from wordcloud import WordCloud \n",
    "wc = WordCloud(width=800, height=400).generate(' '.join(doc))\n",
    "plt.imshow(wc, interpolation='bilinear')\n",
    "plt.axis('off')\n",
    "plt.show()"
   ]
  },
  {
   "cell_type": "markdown",
   "id": "954be4f1",
   "metadata": {
    "papermill": {
     "duration": 0.01161,
     "end_time": "2025-05-15T14:42:48.838737",
     "exception": false,
     "start_time": "2025-05-15T14:42:48.827127",
     "status": "completed"
    },
    "tags": []
   },
   "source": [
    "## Other "
   ]
  },
  {
   "cell_type": "markdown",
   "id": "b41b5b03",
   "metadata": {
    "papermill": {
     "duration": 0.010938,
     "end_time": "2025-05-15T14:42:48.860802",
     "exception": false,
     "start_time": "2025-05-15T14:42:48.849864",
     "status": "completed"
    },
    "tags": []
   },
   "source": [
    "Since it's classification task, let's check ticket distribution"
   ]
  },
  {
   "cell_type": "code",
   "execution_count": 37,
   "id": "d7f254a0",
   "metadata": {
    "execution": {
     "iopub.execute_input": "2025-05-15T14:42:48.884628Z",
     "iopub.status.busy": "2025-05-15T14:42:48.884194Z",
     "iopub.status.idle": "2025-05-15T14:42:48.895406Z",
     "shell.execute_reply": "2025-05-15T14:42:48.894687Z"
    },
    "papermill": {
     "duration": 0.024628,
     "end_time": "2025-05-15T14:42:48.896458",
     "exception": false,
     "start_time": "2025-05-15T14:42:48.871830",
     "status": "completed"
    },
    "tags": []
   },
   "outputs": [
    {
     "data": {
      "text/plain": [
       "count        47836\n",
       "unique           8\n",
       "top       Hardware\n",
       "freq         13617\n",
       "Name: Topic_group, dtype: object"
      ]
     },
     "execution_count": 37,
     "metadata": {},
     "output_type": "execute_result"
    }
   ],
   "source": [
    "df['Topic_group'].describe()"
   ]
  },
  {
   "cell_type": "code",
   "execution_count": 38,
   "id": "1c7ad034",
   "metadata": {
    "execution": {
     "iopub.execute_input": "2025-05-15T14:42:48.920272Z",
     "iopub.status.busy": "2025-05-15T14:42:48.920081Z",
     "iopub.status.idle": "2025-05-15T14:42:48.943519Z",
     "shell.execute_reply": "2025-05-15T14:42:48.943004Z"
    },
    "papermill": {
     "duration": 0.036477,
     "end_time": "2025-05-15T14:42:48.944506",
     "exception": false,
     "start_time": "2025-05-15T14:42:48.908029",
     "status": "completed"
    },
    "tags": []
   },
   "outputs": [
    {
     "data": {
      "text/html": [
       "<div>\n",
       "<style scoped>\n",
       "    .dataframe tbody tr th:only-of-type {\n",
       "        vertical-align: middle;\n",
       "    }\n",
       "\n",
       "    .dataframe tbody tr th {\n",
       "        vertical-align: top;\n",
       "    }\n",
       "\n",
       "    .dataframe thead th {\n",
       "        text-align: right;\n",
       "    }\n",
       "</style>\n",
       "<table border=\"1\" class=\"dataframe\">\n",
       "  <thead>\n",
       "    <tr style=\"text-align: right;\">\n",
       "      <th></th>\n",
       "      <th>Document</th>\n",
       "      <th>Cleaned_Document</th>\n",
       "      <th>Cleaned_Document_Str</th>\n",
       "      <th>doc_length</th>\n",
       "    </tr>\n",
       "    <tr>\n",
       "      <th>Topic_group</th>\n",
       "      <th></th>\n",
       "      <th></th>\n",
       "      <th></th>\n",
       "      <th></th>\n",
       "    </tr>\n",
       "  </thead>\n",
       "  <tbody>\n",
       "    <tr>\n",
       "      <th>Access</th>\n",
       "      <td>7125</td>\n",
       "      <td>7125</td>\n",
       "      <td>7125</td>\n",
       "      <td>7125</td>\n",
       "    </tr>\n",
       "    <tr>\n",
       "      <th>Administrative rights</th>\n",
       "      <td>1759</td>\n",
       "      <td>1759</td>\n",
       "      <td>1759</td>\n",
       "      <td>1759</td>\n",
       "    </tr>\n",
       "    <tr>\n",
       "      <th>HR Support</th>\n",
       "      <td>10915</td>\n",
       "      <td>10915</td>\n",
       "      <td>10915</td>\n",
       "      <td>10915</td>\n",
       "    </tr>\n",
       "    <tr>\n",
       "      <th>Hardware</th>\n",
       "      <td>13617</td>\n",
       "      <td>13617</td>\n",
       "      <td>13617</td>\n",
       "      <td>13617</td>\n",
       "    </tr>\n",
       "    <tr>\n",
       "      <th>Internal Project</th>\n",
       "      <td>2119</td>\n",
       "      <td>2119</td>\n",
       "      <td>2119</td>\n",
       "      <td>2119</td>\n",
       "    </tr>\n",
       "    <tr>\n",
       "      <th>Miscellaneous</th>\n",
       "      <td>7060</td>\n",
       "      <td>7060</td>\n",
       "      <td>7060</td>\n",
       "      <td>7060</td>\n",
       "    </tr>\n",
       "    <tr>\n",
       "      <th>Purchase</th>\n",
       "      <td>2464</td>\n",
       "      <td>2464</td>\n",
       "      <td>2464</td>\n",
       "      <td>2464</td>\n",
       "    </tr>\n",
       "    <tr>\n",
       "      <th>Storage</th>\n",
       "      <td>2777</td>\n",
       "      <td>2777</td>\n",
       "      <td>2777</td>\n",
       "      <td>2777</td>\n",
       "    </tr>\n",
       "  </tbody>\n",
       "</table>\n",
       "</div>"
      ],
      "text/plain": [
       "                       Document  Cleaned_Document  Cleaned_Document_Str  \\\n",
       "Topic_group                                                               \n",
       "Access                     7125              7125                  7125   \n",
       "Administrative rights      1759              1759                  1759   \n",
       "HR Support                10915             10915                 10915   \n",
       "Hardware                  13617             13617                 13617   \n",
       "Internal Project           2119              2119                  2119   \n",
       "Miscellaneous              7060              7060                  7060   \n",
       "Purchase                   2464              2464                  2464   \n",
       "Storage                    2777              2777                  2777   \n",
       "\n",
       "                       doc_length  \n",
       "Topic_group                        \n",
       "Access                       7125  \n",
       "Administrative rights        1759  \n",
       "HR Support                  10915  \n",
       "Hardware                    13617  \n",
       "Internal Project             2119  \n",
       "Miscellaneous                7060  \n",
       "Purchase                     2464  \n",
       "Storage                      2777  "
      ]
     },
     "execution_count": 38,
     "metadata": {},
     "output_type": "execute_result"
    }
   ],
   "source": [
    "df.groupby('Topic_group').count() "
   ]
  },
  {
   "cell_type": "markdown",
   "id": "0697d49e",
   "metadata": {
    "papermill": {
     "duration": 0.011441,
     "end_time": "2025-05-15T14:42:48.967366",
     "exception": false,
     "start_time": "2025-05-15T14:42:48.955925",
     "status": "completed"
    },
    "tags": []
   },
   "source": [
    "# Classification"
   ]
  },
  {
   "cell_type": "code",
   "execution_count": 39,
   "id": "8e0db2c4",
   "metadata": {
    "execution": {
     "iopub.execute_input": "2025-05-15T14:42:48.991358Z",
     "iopub.status.busy": "2025-05-15T14:42:48.990968Z",
     "iopub.status.idle": "2025-05-15T14:42:48.999258Z",
     "shell.execute_reply": "2025-05-15T14:42:48.998695Z"
    },
    "papermill": {
     "duration": 0.021345,
     "end_time": "2025-05-15T14:42:49.000274",
     "exception": false,
     "start_time": "2025-05-15T14:42:48.978929",
     "status": "completed"
    },
    "tags": []
   },
   "outputs": [
    {
     "data": {
      "text/html": [
       "<div>\n",
       "<style scoped>\n",
       "    .dataframe tbody tr th:only-of-type {\n",
       "        vertical-align: middle;\n",
       "    }\n",
       "\n",
       "    .dataframe tbody tr th {\n",
       "        vertical-align: top;\n",
       "    }\n",
       "\n",
       "    .dataframe thead th {\n",
       "        text-align: right;\n",
       "    }\n",
       "</style>\n",
       "<table border=\"1\" class=\"dataframe\">\n",
       "  <thead>\n",
       "    <tr style=\"text-align: right;\">\n",
       "      <th></th>\n",
       "      <th>Document</th>\n",
       "      <th>Topic_group</th>\n",
       "      <th>Cleaned_Document</th>\n",
       "      <th>Cleaned_Document_Str</th>\n",
       "      <th>doc_length</th>\n",
       "    </tr>\n",
       "  </thead>\n",
       "  <tbody>\n",
       "    <tr>\n",
       "      <th>0</th>\n",
       "      <td>connection with icon icon dear please setup ic...</td>\n",
       "      <td>Hardware</td>\n",
       "      <td>[connection, icon, icon, setup, icon, per, ico...</td>\n",
       "      <td>connection icon icon setup icon per icon engin...</td>\n",
       "      <td>12</td>\n",
       "    </tr>\n",
       "    <tr>\n",
       "      <th>1</th>\n",
       "      <td>work experience user work experience user hi w...</td>\n",
       "      <td>Access</td>\n",
       "      <td>[work, experience, user, work, experience, use...</td>\n",
       "      <td>work experience user work experience user work...</td>\n",
       "      <td>14</td>\n",
       "    </tr>\n",
       "    <tr>\n",
       "      <th>2</th>\n",
       "      <td>requesting for meeting requesting meeting hi p...</td>\n",
       "      <td>Hardware</td>\n",
       "      <td>[requesting, meeting, requesting, meeting, fol...</td>\n",
       "      <td>requesting meeting requesting meeting follow e...</td>\n",
       "      <td>10</td>\n",
       "    </tr>\n",
       "    <tr>\n",
       "      <th>3</th>\n",
       "      <td>reset passwords for external accounts re expir...</td>\n",
       "      <td>Access</td>\n",
       "      <td>[reset, password, external, account, expire, d...</td>\n",
       "      <td>reset password external account expire day ask...</td>\n",
       "      <td>112</td>\n",
       "    </tr>\n",
       "    <tr>\n",
       "      <th>4</th>\n",
       "      <td>mail verification warning hi has got attached ...</td>\n",
       "      <td>Miscellaneous</td>\n",
       "      <td>[mail, verification, warning, got, attached, a...</td>\n",
       "      <td>mail verification warning got attached address...</td>\n",
       "      <td>11</td>\n",
       "    </tr>\n",
       "  </tbody>\n",
       "</table>\n",
       "</div>"
      ],
      "text/plain": [
       "                                            Document    Topic_group  \\\n",
       "0  connection with icon icon dear please setup ic...       Hardware   \n",
       "1  work experience user work experience user hi w...         Access   \n",
       "2  requesting for meeting requesting meeting hi p...       Hardware   \n",
       "3  reset passwords for external accounts re expir...         Access   \n",
       "4  mail verification warning hi has got attached ...  Miscellaneous   \n",
       "\n",
       "                                    Cleaned_Document  \\\n",
       "0  [connection, icon, icon, setup, icon, per, ico...   \n",
       "1  [work, experience, user, work, experience, use...   \n",
       "2  [requesting, meeting, requesting, meeting, fol...   \n",
       "3  [reset, password, external, account, expire, d...   \n",
       "4  [mail, verification, warning, got, attached, a...   \n",
       "\n",
       "                                Cleaned_Document_Str  doc_length  \n",
       "0  connection icon icon setup icon per icon engin...          12  \n",
       "1  work experience user work experience user work...          14  \n",
       "2  requesting meeting requesting meeting follow e...          10  \n",
       "3  reset password external account expire day ask...         112  \n",
       "4  mail verification warning got attached address...          11  "
      ]
     },
     "execution_count": 39,
     "metadata": {},
     "output_type": "execute_result"
    }
   ],
   "source": [
    "df.head()"
   ]
  },
  {
   "cell_type": "code",
   "execution_count": 40,
   "id": "0297728d",
   "metadata": {
    "execution": {
     "iopub.execute_input": "2025-05-15T14:42:49.025008Z",
     "iopub.status.busy": "2025-05-15T14:42:49.024360Z",
     "iopub.status.idle": "2025-05-15T14:42:49.031208Z",
     "shell.execute_reply": "2025-05-15T14:42:49.030588Z"
    },
    "papermill": {
     "duration": 0.020151,
     "end_time": "2025-05-15T14:42:49.032281",
     "exception": false,
     "start_time": "2025-05-15T14:42:49.012130",
     "status": "completed"
    },
    "tags": []
   },
   "outputs": [
    {
     "data": {
      "text/plain": [
       "array(['Hardware', 'Access', 'Miscellaneous', 'HR Support', 'Purchase',\n",
       "       'Administrative rights', 'Storage', 'Internal Project'],\n",
       "      dtype=object)"
      ]
     },
     "execution_count": 40,
     "metadata": {},
     "output_type": "execute_result"
    }
   ],
   "source": [
    "df['Topic_group'].unique()"
   ]
  },
  {
   "cell_type": "markdown",
   "id": "f334b2c4",
   "metadata": {
    "papermill": {
     "duration": 0.011378,
     "end_time": "2025-05-15T14:42:49.055353",
     "exception": false,
     "start_time": "2025-05-15T14:42:49.043975",
     "status": "completed"
    },
    "tags": []
   },
   "source": [
    "## Logistic Regression"
   ]
  },
  {
   "cell_type": "code",
   "execution_count": 41,
   "id": "2313d387",
   "metadata": {
    "execution": {
     "iopub.execute_input": "2025-05-15T14:42:49.079202Z",
     "iopub.status.busy": "2025-05-15T14:42:49.078828Z",
     "iopub.status.idle": "2025-05-15T14:42:51.569183Z",
     "shell.execute_reply": "2025-05-15T14:42:51.568415Z"
    },
    "papermill": {
     "duration": 2.50377,
     "end_time": "2025-05-15T14:42:51.570655",
     "exception": false,
     "start_time": "2025-05-15T14:42:49.066885",
     "status": "completed"
    },
    "tags": []
   },
   "outputs": [],
   "source": [
    "#TF-IDF\n",
    "from sklearn.feature_extraction.text import TfidfVectorizer\n",
    "\n",
    "vectorizer = TfidfVectorizer(min_df=5, max_df=0.8, ngram_range=(1,2))\n",
    "X = vectorizer.fit_transform(df['Cleaned_Document_Str'])"
   ]
  },
  {
   "cell_type": "code",
   "execution_count": 42,
   "id": "a4d8bf4a",
   "metadata": {
    "execution": {
     "iopub.execute_input": "2025-05-15T14:42:51.595788Z",
     "iopub.status.busy": "2025-05-15T14:42:51.595274Z",
     "iopub.status.idle": "2025-05-15T14:42:51.606629Z",
     "shell.execute_reply": "2025-05-15T14:42:51.605962Z"
    },
    "papermill": {
     "duration": 0.024902,
     "end_time": "2025-05-15T14:42:51.607796",
     "exception": false,
     "start_time": "2025-05-15T14:42:51.582894",
     "status": "completed"
    },
    "tags": []
   },
   "outputs": [],
   "source": [
    "#encoding target variable\n",
    "from sklearn.preprocessing import LabelEncoder\n",
    "\n",
    "le = LabelEncoder()\n",
    "y = le.fit_transform(df['Topic_group'])"
   ]
  },
  {
   "cell_type": "code",
   "execution_count": 43,
   "id": "b7b25aaa",
   "metadata": {
    "execution": {
     "iopub.execute_input": "2025-05-15T14:42:51.632386Z",
     "iopub.status.busy": "2025-05-15T14:42:51.631989Z",
     "iopub.status.idle": "2025-05-15T14:42:51.635302Z",
     "shell.execute_reply": "2025-05-15T14:42:51.634751Z"
    },
    "papermill": {
     "duration": 0.016656,
     "end_time": "2025-05-15T14:42:51.636314",
     "exception": false,
     "start_time": "2025-05-15T14:42:51.619658",
     "status": "completed"
    },
    "tags": []
   },
   "outputs": [],
   "source": [
    "from sklearn.linear_model import LogisticRegression\n",
    "from sklearn.model_selection import train_test_split\n",
    "from sklearn.metrics import classification_report"
   ]
  },
  {
   "cell_type": "code",
   "execution_count": 44,
   "id": "dc93388f",
   "metadata": {
    "execution": {
     "iopub.execute_input": "2025-05-15T14:42:51.660824Z",
     "iopub.status.busy": "2025-05-15T14:42:51.660422Z",
     "iopub.status.idle": "2025-05-15T14:43:16.376645Z",
     "shell.execute_reply": "2025-05-15T14:43:16.375984Z"
    },
    "papermill": {
     "duration": 24.73085,
     "end_time": "2025-05-15T14:43:16.378800",
     "exception": false,
     "start_time": "2025-05-15T14:42:51.647950",
     "status": "completed"
    },
    "tags": []
   },
   "outputs": [
    {
     "name": "stdout",
     "output_type": "stream",
     "text": [
      "              precision    recall  f1-score   support\n",
      "\n",
      "           0       0.92      0.87      0.89      1468\n",
      "           1       0.91      0.64      0.75       331\n",
      "           2       0.85      0.85      0.85      2110\n",
      "           3       0.79      0.90      0.84      2761\n",
      "           4       0.92      0.78      0.84       448\n",
      "           5       0.83      0.84      0.83      1397\n",
      "           6       0.98      0.87      0.92       499\n",
      "           7       0.94      0.82      0.88       554\n",
      "\n",
      "    accuracy                           0.85      9568\n",
      "   macro avg       0.89      0.82      0.85      9568\n",
      "weighted avg       0.86      0.85      0.85      9568\n",
      "\n"
     ]
    }
   ],
   "source": [
    "X_train, X_test, y_train, y_test = train_test_split(X, y, test_size=0.2, random_state=42)\n",
    "clf = LogisticRegression(max_iter=1000)\n",
    "clf.fit(X_train, y_train)\n",
    "preds = clf.predict(X_test)\n",
    "print(classification_report(y_test, preds))"
   ]
  },
  {
   "cell_type": "markdown",
   "id": "d9cc62e6",
   "metadata": {
    "papermill": {
     "duration": 0.019314,
     "end_time": "2025-05-15T14:43:16.418422",
     "exception": false,
     "start_time": "2025-05-15T14:43:16.399108",
     "status": "completed"
    },
    "tags": []
   },
   "source": [
    "## Decision Trees / Random Forest / XGBoost:"
   ]
  },
  {
   "cell_type": "markdown",
   "id": "af951bbc",
   "metadata": {
    "papermill": {
     "duration": 0.019265,
     "end_time": "2025-05-15T14:43:16.457778",
     "exception": false,
     "start_time": "2025-05-15T14:43:16.438513",
     "status": "completed"
    },
    "tags": []
   },
   "source": [
    "## RNN"
   ]
  },
  {
   "cell_type": "markdown",
   "id": "a36f0ce3",
   "metadata": {
    "papermill": {
     "duration": 0.01165,
     "end_time": "2025-05-15T14:43:16.482114",
     "exception": false,
     "start_time": "2025-05-15T14:43:16.470464",
     "status": "completed"
    },
    "tags": []
   },
   "source": [
    "## BERT"
   ]
  }
 ],
 "metadata": {
  "kaggle": {
   "accelerator": "nvidiaTeslaT4",
   "dataSources": [
    {
     "datasetId": 4460055,
     "sourceId": 7650678,
     "sourceType": "datasetVersion"
    }
   ],
   "dockerImageVersionId": 31012,
   "isGpuEnabled": true,
   "isInternetEnabled": false,
   "language": "python",
   "sourceType": "notebook"
  },
  "kernelspec": {
   "display_name": "Python 3",
   "language": "python",
   "name": "python3"
  },
  "language_info": {
   "codemirror_mode": {
    "name": "ipython",
    "version": 3
   },
   "file_extension": ".py",
   "mimetype": "text/x-python",
   "name": "python",
   "nbconvert_exporter": "python",
   "pygments_lexer": "ipython3",
   "version": "3.11.11"
  },
  "papermill": {
   "default_parameters": {},
   "duration": 69.000171,
   "end_time": "2025-05-15T14:43:17.714293",
   "environment_variables": {},
   "exception": null,
   "input_path": "__notebook__.ipynb",
   "output_path": "__notebook__.ipynb",
   "parameters": {},
   "start_time": "2025-05-15T14:42:08.714122",
   "version": "2.6.0"
  }
 },
 "nbformat": 4,
 "nbformat_minor": 5
}
