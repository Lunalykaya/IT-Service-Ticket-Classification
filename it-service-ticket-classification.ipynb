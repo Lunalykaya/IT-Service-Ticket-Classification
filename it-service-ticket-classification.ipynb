{
 "cells": [
  {
   "cell_type": "code",
   "execution_count": 1,
   "id": "26a50096",
   "metadata": {
    "_cell_guid": "b1076dfc-b9ad-4769-8c92-a6c4dae69d19",
    "_uuid": "8f2839f25d086af736a60e9eeb907d3b93b6e0e5",
    "execution": {
     "iopub.execute_input": "2025-05-13T16:54:52.196749Z",
     "iopub.status.busy": "2025-05-13T16:54:52.195979Z",
     "iopub.status.idle": "2025-05-13T16:54:53.758468Z",
     "shell.execute_reply": "2025-05-13T16:54:53.757657Z"
    },
    "papermill": {
     "duration": 1.57079,
     "end_time": "2025-05-13T16:54:53.759800",
     "exception": false,
     "start_time": "2025-05-13T16:54:52.189010",
     "status": "completed"
    },
    "tags": []
   },
   "outputs": [
    {
     "name": "stdout",
     "output_type": "stream",
     "text": [
      "/kaggle/input/it-service-ticket-classification-dataset/all_tickets_processed_improved_v3.csv\n"
     ]
    }
   ],
   "source": [
    "# This Python 3 environment comes with many helpful analytics libraries installed\n",
    "# It is defined by the kaggle/python Docker image: https://github.com/kaggle/docker-python\n",
    "# For example, here's several helpful packages to load\n",
    "\n",
    "import numpy as np # linear algebra\n",
    "import pandas as pd # data processing, CSV file I/O (e.g. pd.read_csv)\n",
    "\n",
    "# Input data files are available in the read-only \"../input/\" directory\n",
    "# For example, running this (by clicking run or pressing Shift+Enter) will list all files under the input directory\n",
    "\n",
    "import os\n",
    "for dirname, _, filenames in os.walk('/kaggle/input'):\n",
    "    for filename in filenames:\n",
    "        print(os.path.join(dirname, filename))\n",
    "\n",
    "# You can write up to 20GB to the current directory (/kaggle/working/) that gets preserved as output when you create a version using \"Save & Run All\" \n",
    "# You can also write temporary files to /kaggle/temp/, but they won't be saved outside of the current session"
   ]
  },
  {
   "cell_type": "markdown",
   "id": "2ca6199d",
   "metadata": {
    "papermill": {
     "duration": 0.005504,
     "end_time": "2025-05-13T16:54:53.771801",
     "exception": false,
     "start_time": "2025-05-13T16:54:53.766297",
     "status": "completed"
    },
    "tags": []
   },
   "source": [
    "# Loading data"
   ]
  },
  {
   "cell_type": "code",
   "execution_count": 2,
   "id": "a9dba921",
   "metadata": {
    "execution": {
     "iopub.execute_input": "2025-05-13T16:54:53.784016Z",
     "iopub.status.busy": "2025-05-13T16:54:53.783691Z",
     "iopub.status.idle": "2025-05-13T16:54:53.787124Z",
     "shell.execute_reply": "2025-05-13T16:54:53.786575Z"
    },
    "papermill": {
     "duration": 0.010899,
     "end_time": "2025-05-13T16:54:53.788284",
     "exception": false,
     "start_time": "2025-05-13T16:54:53.777385",
     "status": "completed"
    },
    "tags": []
   },
   "outputs": [],
   "source": [
    "import pandas as pd\n",
    "import numpy as np"
   ]
  },
  {
   "cell_type": "code",
   "execution_count": 3,
   "id": "f1908652",
   "metadata": {
    "execution": {
     "iopub.execute_input": "2025-05-13T16:54:53.800559Z",
     "iopub.status.busy": "2025-05-13T16:54:53.800329Z",
     "iopub.status.idle": "2025-05-13T16:54:54.260626Z",
     "shell.execute_reply": "2025-05-13T16:54:54.259843Z"
    },
    "papermill": {
     "duration": 0.467797,
     "end_time": "2025-05-13T16:54:54.261878",
     "exception": false,
     "start_time": "2025-05-13T16:54:53.794081",
     "status": "completed"
    },
    "tags": []
   },
   "outputs": [
    {
     "name": "stdout",
     "output_type": "stream",
     "text": [
      "Path to dataset files: /kaggle/input/it-service-ticket-classification-dataset\n"
     ]
    }
   ],
   "source": [
    "import kagglehub\n",
    "\n",
    "# Download latest version\n",
    "path = kagglehub.dataset_download(\"adisongoh/it-service-ticket-classification-dataset\")\n",
    "\n",
    "print(\"Path to dataset files:\", path)"
   ]
  },
  {
   "cell_type": "code",
   "execution_count": 4,
   "id": "87268f87",
   "metadata": {
    "execution": {
     "iopub.execute_input": "2025-05-13T16:54:54.273817Z",
     "iopub.status.busy": "2025-05-13T16:54:54.273600Z",
     "iopub.status.idle": "2025-05-13T16:54:54.671053Z",
     "shell.execute_reply": "2025-05-13T16:54:54.670446Z"
    },
    "papermill": {
     "duration": 0.404846,
     "end_time": "2025-05-13T16:54:54.672345",
     "exception": false,
     "start_time": "2025-05-13T16:54:54.267499",
     "status": "completed"
    },
    "tags": []
   },
   "outputs": [],
   "source": [
    "#reading df\n",
    "df = pd.read_csv('/kaggle/input/it-service-ticket-classification-dataset/all_tickets_processed_improved_v3.csv')"
   ]
  },
  {
   "cell_type": "code",
   "execution_count": 5,
   "id": "140a2f05",
   "metadata": {
    "execution": {
     "iopub.execute_input": "2025-05-13T16:54:54.684712Z",
     "iopub.status.busy": "2025-05-13T16:54:54.684473Z",
     "iopub.status.idle": "2025-05-13T16:54:54.720883Z",
     "shell.execute_reply": "2025-05-13T16:54:54.720180Z"
    },
    "papermill": {
     "duration": 0.043563,
     "end_time": "2025-05-13T16:54:54.721991",
     "exception": false,
     "start_time": "2025-05-13T16:54:54.678428",
     "status": "completed"
    },
    "tags": []
   },
   "outputs": [
    {
     "name": "stdout",
     "output_type": "stream",
     "text": [
      "<class 'pandas.core.frame.DataFrame'>\n",
      "RangeIndex: 47837 entries, 0 to 47836\n",
      "Data columns (total 2 columns):\n",
      " #   Column       Non-Null Count  Dtype \n",
      "---  ------       --------------  ----- \n",
      " 0   Document     47837 non-null  object\n",
      " 1   Topic_group  47837 non-null  object\n",
      "dtypes: object(2)\n",
      "memory usage: 747.6+ KB\n"
     ]
    }
   ],
   "source": [
    "df.info()"
   ]
  },
  {
   "cell_type": "code",
   "execution_count": 6,
   "id": "af9f4b77",
   "metadata": {
    "execution": {
     "iopub.execute_input": "2025-05-13T16:54:54.733863Z",
     "iopub.status.busy": "2025-05-13T16:54:54.733285Z",
     "iopub.status.idle": "2025-05-13T16:54:54.749048Z",
     "shell.execute_reply": "2025-05-13T16:54:54.748386Z"
    },
    "papermill": {
     "duration": 0.022881,
     "end_time": "2025-05-13T16:54:54.750156",
     "exception": false,
     "start_time": "2025-05-13T16:54:54.727275",
     "status": "completed"
    },
    "tags": []
   },
   "outputs": [
    {
     "data": {
      "text/html": [
       "<div>\n",
       "<style scoped>\n",
       "    .dataframe tbody tr th:only-of-type {\n",
       "        vertical-align: middle;\n",
       "    }\n",
       "\n",
       "    .dataframe tbody tr th {\n",
       "        vertical-align: top;\n",
       "    }\n",
       "\n",
       "    .dataframe thead th {\n",
       "        text-align: right;\n",
       "    }\n",
       "</style>\n",
       "<table border=\"1\" class=\"dataframe\">\n",
       "  <thead>\n",
       "    <tr style=\"text-align: right;\">\n",
       "      <th></th>\n",
       "      <th>Document</th>\n",
       "      <th>Topic_group</th>\n",
       "    </tr>\n",
       "  </thead>\n",
       "  <tbody>\n",
       "    <tr>\n",
       "      <th>0</th>\n",
       "      <td>connection with icon icon dear please setup ic...</td>\n",
       "      <td>Hardware</td>\n",
       "    </tr>\n",
       "    <tr>\n",
       "      <th>1</th>\n",
       "      <td>work experience user work experience user hi w...</td>\n",
       "      <td>Access</td>\n",
       "    </tr>\n",
       "    <tr>\n",
       "      <th>2</th>\n",
       "      <td>requesting for meeting requesting meeting hi p...</td>\n",
       "      <td>Hardware</td>\n",
       "    </tr>\n",
       "    <tr>\n",
       "      <th>3</th>\n",
       "      <td>reset passwords for external accounts re expir...</td>\n",
       "      <td>Access</td>\n",
       "    </tr>\n",
       "    <tr>\n",
       "      <th>4</th>\n",
       "      <td>mail verification warning hi has got attached ...</td>\n",
       "      <td>Miscellaneous</td>\n",
       "    </tr>\n",
       "  </tbody>\n",
       "</table>\n",
       "</div>"
      ],
      "text/plain": [
       "                                            Document    Topic_group\n",
       "0  connection with icon icon dear please setup ic...       Hardware\n",
       "1  work experience user work experience user hi w...         Access\n",
       "2  requesting for meeting requesting meeting hi p...       Hardware\n",
       "3  reset passwords for external accounts re expir...         Access\n",
       "4  mail verification warning hi has got attached ...  Miscellaneous"
      ]
     },
     "execution_count": 6,
     "metadata": {},
     "output_type": "execute_result"
    }
   ],
   "source": [
    "#quick preview of the df\n",
    "df.head()"
   ]
  },
  {
   "cell_type": "code",
   "execution_count": 7,
   "id": "e05e1a19",
   "metadata": {
    "execution": {
     "iopub.execute_input": "2025-05-13T16:54:54.762266Z",
     "iopub.status.busy": "2025-05-13T16:54:54.762095Z",
     "iopub.status.idle": "2025-05-13T16:54:54.771051Z",
     "shell.execute_reply": "2025-05-13T16:54:54.770512Z"
    },
    "papermill": {
     "duration": 0.016148,
     "end_time": "2025-05-13T16:54:54.772084",
     "exception": false,
     "start_time": "2025-05-13T16:54:54.755936",
     "status": "completed"
    },
    "tags": []
   },
   "outputs": [
    {
     "data": {
      "text/plain": [
       "array(['Hardware', 'Access', 'Miscellaneous', 'HR Support', 'Purchase',\n",
       "       'Administrative rights', 'Storage', 'Internal Project'],\n",
       "      dtype=object)"
      ]
     },
     "execution_count": 7,
     "metadata": {},
     "output_type": "execute_result"
    }
   ],
   "source": [
    "#viewing unique values (categories) in Topic_group\n",
    "df['Topic_group'].nunique()\n",
    "df['Topic_group'].unique()"
   ]
  },
  {
   "cell_type": "code",
   "execution_count": 8,
   "id": "5990384b",
   "metadata": {
    "execution": {
     "iopub.execute_input": "2025-05-13T16:54:54.784169Z",
     "iopub.status.busy": "2025-05-13T16:54:54.783787Z",
     "iopub.status.idle": "2025-05-13T16:54:54.793645Z",
     "shell.execute_reply": "2025-05-13T16:54:54.793062Z"
    },
    "papermill": {
     "duration": 0.016928,
     "end_time": "2025-05-13T16:54:54.794622",
     "exception": false,
     "start_time": "2025-05-13T16:54:54.777694",
     "status": "completed"
    },
    "tags": []
   },
   "outputs": [
    {
     "data": {
      "text/plain": [
       "Document       0\n",
       "Topic_group    0\n",
       "dtype: int64"
      ]
     },
     "execution_count": 8,
     "metadata": {},
     "output_type": "execute_result"
    }
   ],
   "source": [
    "#checking na\n",
    "df.isnull().sum()"
   ]
  },
  {
   "cell_type": "code",
   "execution_count": 9,
   "id": "6c10915e",
   "metadata": {
    "execution": {
     "iopub.execute_input": "2025-05-13T16:54:54.806209Z",
     "iopub.status.busy": "2025-05-13T16:54:54.806041Z",
     "iopub.status.idle": "2025-05-13T16:54:54.850742Z",
     "shell.execute_reply": "2025-05-13T16:54:54.850006Z"
    },
    "papermill": {
     "duration": 0.05185,
     "end_time": "2025-05-13T16:54:54.851899",
     "exception": false,
     "start_time": "2025-05-13T16:54:54.800049",
     "status": "completed"
    },
    "tags": []
   },
   "outputs": [
    {
     "data": {
      "text/plain": [
       "0"
      ]
     },
     "execution_count": 9,
     "metadata": {},
     "output_type": "execute_result"
    }
   ],
   "source": [
    "#checking duplicates\n",
    "df.duplicated().sum()"
   ]
  },
  {
   "cell_type": "markdown",
   "id": "78ca7d95",
   "metadata": {
    "papermill": {
     "duration": 0.005544,
     "end_time": "2025-05-13T16:54:54.863542",
     "exception": false,
     "start_time": "2025-05-13T16:54:54.857998",
     "status": "completed"
    },
    "tags": []
   },
   "source": [
    "# Text Preprocessing"
   ]
  },
  {
   "cell_type": "code",
   "execution_count": 10,
   "id": "623ea6ff",
   "metadata": {
    "execution": {
     "iopub.execute_input": "2025-05-13T16:54:54.875742Z",
     "iopub.status.busy": "2025-05-13T16:54:54.875292Z",
     "iopub.status.idle": "2025-05-13T16:54:55.152014Z",
     "shell.execute_reply": "2025-05-13T16:54:55.151459Z"
    },
    "papermill": {
     "duration": 0.284327,
     "end_time": "2025-05-13T16:54:55.153404",
     "exception": false,
     "start_time": "2025-05-13T16:54:54.869077",
     "status": "completed"
    },
    "tags": []
   },
   "outputs": [],
   "source": [
    "import re\n",
    "import string\n",
    "from bs4 import BeautifulSoup"
   ]
  },
  {
   "cell_type": "code",
   "execution_count": 11,
   "id": "1bba0b0b",
   "metadata": {
    "execution": {
     "iopub.execute_input": "2025-05-13T16:54:55.166956Z",
     "iopub.status.busy": "2025-05-13T16:54:55.166372Z",
     "iopub.status.idle": "2025-05-13T16:54:55.170193Z",
     "shell.execute_reply": "2025-05-13T16:54:55.169724Z"
    },
    "papermill": {
     "duration": 0.011271,
     "end_time": "2025-05-13T16:54:55.171203",
     "exception": false,
     "start_time": "2025-05-13T16:54:55.159932",
     "status": "completed"
    },
    "tags": []
   },
   "outputs": [],
   "source": [
    "def cleaned_text (text):\n",
    "    text = text.lower() #converting to lower case\n",
    "    text = re.sub(r'\\d+', '', text) #removing numbers\n",
    "    text = text.translate(str.maketrans('', '', string.punctuation)) \n",
    "    #removing punctuation\n",
    "    text = re.sub(r'\\W', ' ', text) #removing special characters\n",
    "    text = BeautifulSoup(text, \"html.parser\").get_text() #removing HTML tags\n",
    "    return text"
   ]
  },
  {
   "cell_type": "code",
   "execution_count": 12,
   "id": "7f650aa1",
   "metadata": {
    "execution": {
     "iopub.execute_input": "2025-05-13T16:54:55.183488Z",
     "iopub.status.busy": "2025-05-13T16:54:55.182936Z",
     "iopub.status.idle": "2025-05-13T16:54:57.931577Z",
     "shell.execute_reply": "2025-05-13T16:54:57.930858Z"
    },
    "papermill": {
     "duration": 2.756091,
     "end_time": "2025-05-13T16:54:57.932980",
     "exception": false,
     "start_time": "2025-05-13T16:54:55.176889",
     "status": "completed"
    },
    "tags": []
   },
   "outputs": [],
   "source": [
    "df['Cleaned_Document'] = df['Document'].apply(cleaned_text)"
   ]
  },
  {
   "cell_type": "code",
   "execution_count": 13,
   "id": "648529a0",
   "metadata": {
    "execution": {
     "iopub.execute_input": "2025-05-13T16:54:57.946383Z",
     "iopub.status.busy": "2025-05-13T16:54:57.946155Z",
     "iopub.status.idle": "2025-05-13T16:55:00.031663Z",
     "shell.execute_reply": "2025-05-13T16:55:00.030866Z"
    },
    "papermill": {
     "duration": 2.093951,
     "end_time": "2025-05-13T16:55:00.033102",
     "exception": false,
     "start_time": "2025-05-13T16:54:57.939151",
     "status": "completed"
    },
    "tags": []
   },
   "outputs": [],
   "source": [
    "import nltk\n",
    "\n",
    "#specifying the path to the already downloaded punkt dataset and other packages\n",
    "nltk.data.path.append('/kaggle/input/nltk-datasets/nltk_data')"
   ]
  },
  {
   "cell_type": "code",
   "execution_count": 14,
   "id": "f4db4d53",
   "metadata": {
    "execution": {
     "iopub.execute_input": "2025-05-13T16:55:00.045899Z",
     "iopub.status.busy": "2025-05-13T16:55:00.045551Z",
     "iopub.status.idle": "2025-05-13T16:55:00.048688Z",
     "shell.execute_reply": "2025-05-13T16:55:00.048177Z"
    },
    "papermill": {
     "duration": 0.01047,
     "end_time": "2025-05-13T16:55:00.049776",
     "exception": false,
     "start_time": "2025-05-13T16:55:00.039306",
     "status": "completed"
    },
    "tags": []
   },
   "outputs": [],
   "source": [
    "from nltk.tokenize import word_tokenize"
   ]
  },
  {
   "cell_type": "code",
   "execution_count": 15,
   "id": "f7588cba",
   "metadata": {
    "execution": {
     "iopub.execute_input": "2025-05-13T16:55:00.062192Z",
     "iopub.status.busy": "2025-05-13T16:55:00.061781Z",
     "iopub.status.idle": "2025-05-13T16:55:07.423266Z",
     "shell.execute_reply": "2025-05-13T16:55:07.422708Z"
    },
    "papermill": {
     "duration": 7.369039,
     "end_time": "2025-05-13T16:55:07.424780",
     "exception": false,
     "start_time": "2025-05-13T16:55:00.055741",
     "status": "completed"
    },
    "tags": []
   },
   "outputs": [],
   "source": [
    "#splitting text into words\n",
    "df['Cleaned_Document'] = df['Cleaned_Document'].apply(word_tokenize)"
   ]
  },
  {
   "cell_type": "code",
   "execution_count": 16,
   "id": "869b61d2",
   "metadata": {
    "execution": {
     "iopub.execute_input": "2025-05-13T16:55:07.437617Z",
     "iopub.status.busy": "2025-05-13T16:55:07.436997Z",
     "iopub.status.idle": "2025-05-13T16:55:07.444505Z",
     "shell.execute_reply": "2025-05-13T16:55:07.443968Z"
    },
    "papermill": {
     "duration": 0.014734,
     "end_time": "2025-05-13T16:55:07.445500",
     "exception": false,
     "start_time": "2025-05-13T16:55:07.430766",
     "status": "completed"
    },
    "tags": []
   },
   "outputs": [
    {
     "data": {
      "text/plain": [
       "0        [connection, with, icon, icon, dear, please, s...\n",
       "1        [work, experience, user, work, experience, use...\n",
       "2        [requesting, for, meeting, requesting, meeting...\n",
       "3        [reset, passwords, for, external, accounts, re...\n",
       "4        [mail, verification, warning, hi, has, got, at...\n",
       "                               ...                        \n",
       "47832    [git, space, for, a, project, issues, with, ad...\n",
       "47833    [error, sent, july, error, hi, guys, can, you,...\n",
       "47834    [connection, issues, sent, tuesday, july, conn...\n",
       "47835    [error, cube, reports, sent, tuesday, july, er...\n",
       "47836    [running, out, on, extensions, hello, please, ...\n",
       "Name: Cleaned_Document, Length: 47837, dtype: object"
      ]
     },
     "execution_count": 16,
     "metadata": {},
     "output_type": "execute_result"
    }
   ],
   "source": [
    "df['Cleaned_Document']"
   ]
  },
  {
   "cell_type": "code",
   "execution_count": 17,
   "id": "28b499b5",
   "metadata": {
    "execution": {
     "iopub.execute_input": "2025-05-13T16:55:07.457750Z",
     "iopub.status.busy": "2025-05-13T16:55:07.457575Z",
     "iopub.status.idle": "2025-05-13T16:55:07.467607Z",
     "shell.execute_reply": "2025-05-13T16:55:07.466913Z"
    },
    "papermill": {
     "duration": 0.01717,
     "end_time": "2025-05-13T16:55:07.468624",
     "exception": false,
     "start_time": "2025-05-13T16:55:07.451454",
     "status": "completed"
    },
    "tags": []
   },
   "outputs": [
    {
     "name": "stdout",
     "output_type": "stream",
     "text": [
      "198\n"
     ]
    }
   ],
   "source": [
    "#removing stop-words\n",
    "from nltk.corpus import stopwords\n",
    "stop_words = set(stopwords.words('english'))\n",
    "print(len(stop_words)) #checking that stop-words are downloaded"
   ]
  },
  {
   "cell_type": "code",
   "execution_count": 18,
   "id": "7b1433f3",
   "metadata": {
    "execution": {
     "iopub.execute_input": "2025-05-13T16:55:07.527086Z",
     "iopub.status.busy": "2025-05-13T16:55:07.526322Z",
     "iopub.status.idle": "2025-05-13T16:55:07.738827Z",
     "shell.execute_reply": "2025-05-13T16:55:07.737962Z"
    },
    "papermill": {
     "duration": 0.220737,
     "end_time": "2025-05-13T16:55:07.740574",
     "exception": false,
     "start_time": "2025-05-13T16:55:07.519837",
     "status": "completed"
    },
    "tags": []
   },
   "outputs": [],
   "source": [
    "df['Cleaned_Document'] = df['Cleaned_Document'].apply(\n",
    "    lambda toks: [w for w in toks if w not in stop_words]\n",
    ")"
   ]
  },
  {
   "cell_type": "code",
   "execution_count": 19,
   "id": "8b385bb5",
   "metadata": {
    "execution": {
     "iopub.execute_input": "2025-05-13T16:55:07.753921Z",
     "iopub.status.busy": "2025-05-13T16:55:07.753188Z",
     "iopub.status.idle": "2025-05-13T16:55:07.760255Z",
     "shell.execute_reply": "2025-05-13T16:55:07.759578Z"
    },
    "papermill": {
     "duration": 0.014741,
     "end_time": "2025-05-13T16:55:07.761557",
     "exception": false,
     "start_time": "2025-05-13T16:55:07.746816",
     "status": "completed"
    },
    "tags": []
   },
   "outputs": [
    {
     "data": {
      "text/plain": [
       "0        [connection, icon, icon, dear, please, setup, ...\n",
       "1        [work, experience, user, work, experience, use...\n",
       "2        [requesting, meeting, requesting, meeting, hi,...\n",
       "3        [reset, passwords, external, accounts, expire,...\n",
       "4        [mail, verification, warning, hi, got, attache...\n",
       "                               ...                        \n",
       "47832    [git, space, project, issues, adding, users, s...\n",
       "47833    [error, sent, july, error, hi, guys, help, err...\n",
       "47834    [connection, issues, sent, tuesday, july, conn...\n",
       "47835    [error, cube, reports, sent, tuesday, july, er...\n",
       "47836    [running, extensions, hello, please, advised, ...\n",
       "Name: Cleaned_Document, Length: 47837, dtype: object"
      ]
     },
     "execution_count": 19,
     "metadata": {},
     "output_type": "execute_result"
    }
   ],
   "source": [
    "df['Cleaned_Document']"
   ]
  },
  {
   "cell_type": "code",
   "execution_count": 20,
   "id": "e05c4522",
   "metadata": {
    "execution": {
     "iopub.execute_input": "2025-05-13T16:55:07.773921Z",
     "iopub.status.busy": "2025-05-13T16:55:07.773723Z",
     "iopub.status.idle": "2025-05-13T16:55:16.482937Z",
     "shell.execute_reply": "2025-05-13T16:55:16.482207Z"
    },
    "papermill": {
     "duration": 8.717128,
     "end_time": "2025-05-13T16:55:16.484500",
     "exception": false,
     "start_time": "2025-05-13T16:55:07.767372",
     "status": "completed"
    },
    "tags": []
   },
   "outputs": [],
   "source": [
    "#lemmatization\n",
    "from nltk.stem import PorterStemmer, WordNetLemmatizer\n",
    "lemmatizer = WordNetLemmatizer()\n",
    "df['Cleaned_Document'] = df['Cleaned_Document'].apply(lambda doc: [lemmatizer.lemmatize(word) for word in doc])"
   ]
  },
  {
   "cell_type": "code",
   "execution_count": 21,
   "id": "236dff25",
   "metadata": {
    "execution": {
     "iopub.execute_input": "2025-05-13T16:55:16.503720Z",
     "iopub.status.busy": "2025-05-13T16:55:16.503463Z",
     "iopub.status.idle": "2025-05-13T16:55:16.511561Z",
     "shell.execute_reply": "2025-05-13T16:55:16.510808Z"
    },
    "papermill": {
     "duration": 0.016819,
     "end_time": "2025-05-13T16:55:16.512839",
     "exception": false,
     "start_time": "2025-05-13T16:55:16.496020",
     "status": "completed"
    },
    "tags": []
   },
   "outputs": [
    {
     "data": {
      "text/plain": [
       "0     [connection, icon, icon, dear, please, setup, ...\n",
       "1     [work, experience, user, work, experience, use...\n",
       "2     [requesting, meeting, requesting, meeting, hi,...\n",
       "3     [reset, password, external, account, expire, d...\n",
       "4     [mail, verification, warning, hi, got, attache...\n",
       "5     [mail, please, dear, look, blacklisted, receiv...\n",
       "6     [prod, server, tunneling, prod, tunneling, va,...\n",
       "7     [access, request, dear, module, report, report...\n",
       "8     [reset, password, client, password, client, de...\n",
       "9     [direct, report, missing, time, please, action...\n",
       "10    [laptop, connected, request, rebuild, connecte...\n",
       "11    [device, recovery, report, printer, alert, dup...\n",
       "12            [new, starter, hello, please, fill, date]\n",
       "13    [visual, studio, license, visual, studio, lice...\n",
       "14    [system, hello, movement, left, available, dev...\n",
       "15    [access, secondary, secondary, hi, please, pro...\n",
       "16    [list, sent, copy, copy, hi, receive, copy, be...\n",
       "17    [new, purchase, po, purchase, po, dear, purcha...\n",
       "18    [invitation, cloud, strategy, workshop, februa...\n",
       "19    [change, sale, owner, contract, change, owner,...\n",
       "Name: Cleaned_Document, dtype: object"
      ]
     },
     "execution_count": 21,
     "metadata": {},
     "output_type": "execute_result"
    }
   ],
   "source": [
    "df['Cleaned_Document'].head(20)"
   ]
  },
  {
   "cell_type": "code",
   "execution_count": 22,
   "id": "5e5b5773",
   "metadata": {
    "execution": {
     "iopub.execute_input": "2025-05-13T16:55:16.526939Z",
     "iopub.status.busy": "2025-05-13T16:55:16.526740Z",
     "iopub.status.idle": "2025-05-13T16:55:16.536935Z",
     "shell.execute_reply": "2025-05-13T16:55:16.536246Z"
    },
    "papermill": {
     "duration": 0.018546,
     "end_time": "2025-05-13T16:55:16.538134",
     "exception": false,
     "start_time": "2025-05-13T16:55:16.519588",
     "status": "completed"
    },
    "tags": []
   },
   "outputs": [
    {
     "data": {
      "text/plain": [
       "47817    [submit, expense, even, though, added, electro...\n",
       "47818    [job, referral, available, sent, thursday, jul...\n",
       "47819    [oracle, update, another, bug, sent, thursday,...\n",
       "47820    [social, error, sent, thursday, july, error, d...\n",
       "47821    [backup, server, performance, issue, sent, thu...\n",
       "47822    [approving, expense, project, code, related, w...\n",
       "47823    [bug, sent, wednesday, july, bug, hello, disco...\n",
       "47824    [oracle, fusion, working, message, unplanned, ...\n",
       "47825    [issue, sent, friday, july, hi, issue, somethi...\n",
       "47826    [oracle, error, sent, thursday, july, error, h...\n",
       "47827    [bandwidth, problem, sent, thursday, july, ban...\n",
       "47828    [password, expire, day, sent, july, password, ...\n",
       "47829    [sensitive, information, access, sent, wednesd...\n",
       "47830    [malfunction, sent, tuesday, july, malfunction...\n",
       "47831    [outlook, account, laptop, laptop, sa, sa, si,...\n",
       "47832    [git, space, project, issue, adding, user, sen...\n",
       "47833    [error, sent, july, error, hi, guy, help, erro...\n",
       "47834    [connection, issue, sent, tuesday, july, conne...\n",
       "47835    [error, cube, report, sent, tuesday, july, err...\n",
       "47836    [running, extension, hello, please, advised, r...\n",
       "Name: Cleaned_Document, dtype: object"
      ]
     },
     "execution_count": 22,
     "metadata": {},
     "output_type": "execute_result"
    }
   ],
   "source": [
    "df['Cleaned_Document'].tail(20)"
   ]
  },
  {
   "cell_type": "markdown",
   "id": "fd31e27b",
   "metadata": {
    "papermill": {
     "duration": 0.005888,
     "end_time": "2025-05-13T16:55:16.550740",
     "exception": false,
     "start_time": "2025-05-13T16:55:16.544852",
     "status": "completed"
    },
    "tags": []
   },
   "source": [
    "As I can see, besides stop words, the corpus contains many words like 'please', 'hi', 'hello', etc. These words can affect the efficiency of the algorithm, so I would remove them manually."
   ]
  },
  {
   "cell_type": "code",
   "execution_count": 23,
   "id": "72edfdd7",
   "metadata": {
    "execution": {
     "iopub.execute_input": "2025-05-13T16:55:16.563334Z",
     "iopub.status.busy": "2025-05-13T16:55:16.563142Z",
     "iopub.status.idle": "2025-05-13T16:55:17.408997Z",
     "shell.execute_reply": "2025-05-13T16:55:17.408427Z"
    },
    "papermill": {
     "duration": 0.853679,
     "end_time": "2025-05-13T16:55:17.410319",
     "exception": false,
     "start_time": "2025-05-13T16:55:16.556640",
     "status": "completed"
    },
    "tags": []
   },
   "outputs": [],
   "source": [
    "custom_stopwords = ['hi', 'hello', 'dear', 'please', 'help', 'guy', 'guys',\n",
    "                   'thanks', 'thank', 'regards', 'best', 'hey', 'appreciate',\n",
    "                    'sorry', 'welcome', 'cheers', 'hello', 'goodbye', 'bye',\n",
    "                    'kindly', 'gladly']\n",
    "\n",
    "df['Cleaned_Document'] = df['Cleaned_Document'].apply(\n",
    "    lambda doc: [word for word in doc if word not in custom_stopwords]\n",
    ")"
   ]
  },
  {
   "cell_type": "code",
   "execution_count": 24,
   "id": "1280258f",
   "metadata": {
    "execution": {
     "iopub.execute_input": "2025-05-13T16:55:17.423703Z",
     "iopub.status.busy": "2025-05-13T16:55:17.423460Z",
     "iopub.status.idle": "2025-05-13T16:55:17.430162Z",
     "shell.execute_reply": "2025-05-13T16:55:17.429700Z"
    },
    "papermill": {
     "duration": 0.014259,
     "end_time": "2025-05-13T16:55:17.431153",
     "exception": false,
     "start_time": "2025-05-13T16:55:17.416894",
     "status": "completed"
    },
    "tags": []
   },
   "outputs": [
    {
     "data": {
      "text/plain": [
       "0        [connection, icon, icon, setup, icon, per, ico...\n",
       "1        [work, experience, user, work, experience, use...\n",
       "2        [requesting, meeting, requesting, meeting, fol...\n",
       "3        [reset, password, external, account, expire, d...\n",
       "4        [mail, verification, warning, got, attached, a...\n",
       "                               ...                        \n",
       "47832    [git, space, project, issue, adding, user, sen...\n",
       "47833    [error, sent, july, error, error, appearing, w...\n",
       "47834    [connection, issue, sent, tuesday, july, conne...\n",
       "47835    [error, cube, report, sent, tuesday, july, err...\n",
       "47836    [running, extension, advised, running, extensi...\n",
       "Name: Cleaned_Document, Length: 47837, dtype: object"
      ]
     },
     "execution_count": 24,
     "metadata": {},
     "output_type": "execute_result"
    }
   ],
   "source": [
    "df['Cleaned_Document']"
   ]
  },
  {
   "cell_type": "code",
   "execution_count": 25,
   "id": "e6dcec35",
   "metadata": {
    "execution": {
     "iopub.execute_input": "2025-05-13T16:55:17.444366Z",
     "iopub.status.busy": "2025-05-13T16:55:17.444165Z",
     "iopub.status.idle": "2025-05-13T16:55:17.610993Z",
     "shell.execute_reply": "2025-05-13T16:55:17.610395Z"
    },
    "papermill": {
     "duration": 0.174896,
     "end_time": "2025-05-13T16:55:17.612276",
     "exception": false,
     "start_time": "2025-05-13T16:55:17.437380",
     "status": "completed"
    },
    "tags": []
   },
   "outputs": [],
   "source": [
    "#%pip install contractions\n",
    "#import contractions\n",
    "\n",
    "contraction_map = {\n",
    "    \"aren't\": \"are not\",\n",
    "    \"can't\": \"cannot\",\n",
    "    \"couldn't\": \"could not\",\n",
    "    \"didn't\": \"did not\",\n",
    "    \"doesn't\": \"does not\",\n",
    "    \"don't\": \"do not\",\n",
    "    \"hadn't\": \"had not\",\n",
    "    \"hasn't\": \"has not\",\n",
    "    \"haven't\": \"have not\",\n",
    "    \"he'd\": \"he would\",\n",
    "    \"he'll\": \"he will\",\n",
    "    \"he's\": \"he is\",\n",
    "    \"i'd\": \"i would\",\n",
    "    \"i'll\": \"i will\",\n",
    "    \"i'm\": \"i am\",\n",
    "    \"i've\": \"i have\",\n",
    "    \"isn't\": \"is not\",\n",
    "    \"it's\": \"it is\",\n",
    "    \"let's\": \"let us\",\n",
    "    \"mightn't\": \"might not\",\n",
    "    \"mustn't\": \"must not\",\n",
    "    \"shan't\": \"shall not\",\n",
    "    \"she'd\": \"she would\",\n",
    "    \"she'll\": \"she will\",\n",
    "    \"she's\": \"she is\",\n",
    "    \"shouldn't\": \"should not\",\n",
    "    \"that's\": \"that is\",\n",
    "    \"there's\": \"there is\",\n",
    "    \"they'd\": \"they would\",\n",
    "    \"they'll\": \"they will\",\n",
    "    \"they're\": \"they are\",\n",
    "    \"they've\": \"they have\",\n",
    "    \"we'd\": \"we would\",\n",
    "    \"we're\": \"we are\",\n",
    "    \"we've\": \"we have\",\n",
    "    \"weren't\": \"were not\",\n",
    "    \"what'll\": \"what will\",\n",
    "    \"what're\": \"what are\",\n",
    "    \"what's\": \"what is\",\n",
    "    \"what've\": \"what have\",\n",
    "    \"where's\": \"where is\",\n",
    "    \"who's\": \"who is\",\n",
    "    \"who'll\": \"who will\",\n",
    "    \"won't\": \"will not\",\n",
    "    \"wouldn't\": \"would not\",\n",
    "    \"you'd\": \"you would\",\n",
    "    \"you'll\": \"you will\",\n",
    "    \"you're\": \"you are\",\n",
    "    \"you've\": \"you have\"\n",
    "}\n",
    "\n",
    "def expand_contractions_tokenized(doc):\n",
    "    return [contraction_map.get(word, word) for word in doc]\n",
    "\n",
    "df['Cleaned_Document'] = df['Cleaned_Document'].apply(expand_contractions_tokenized)"
   ]
  },
  {
   "cell_type": "code",
   "execution_count": 26,
   "id": "adf43e34",
   "metadata": {
    "execution": {
     "iopub.execute_input": "2025-05-13T16:55:17.626505Z",
     "iopub.status.busy": "2025-05-13T16:55:17.626255Z",
     "iopub.status.idle": "2025-05-13T16:55:17.633556Z",
     "shell.execute_reply": "2025-05-13T16:55:17.632898Z"
    },
    "papermill": {
     "duration": 0.015485,
     "end_time": "2025-05-13T16:55:17.634655",
     "exception": false,
     "start_time": "2025-05-13T16:55:17.619170",
     "status": "completed"
    },
    "tags": []
   },
   "outputs": [
    {
     "data": {
      "text/plain": [
       "0        [connection, icon, icon, setup, icon, per, ico...\n",
       "1        [work, experience, user, work, experience, use...\n",
       "2        [requesting, meeting, requesting, meeting, fol...\n",
       "3        [reset, password, external, account, expire, d...\n",
       "4        [mail, verification, warning, got, attached, a...\n",
       "                               ...                        \n",
       "47832    [git, space, project, issue, adding, user, sen...\n",
       "47833    [error, sent, july, error, error, appearing, w...\n",
       "47834    [connection, issue, sent, tuesday, july, conne...\n",
       "47835    [error, cube, report, sent, tuesday, july, err...\n",
       "47836    [running, extension, advised, running, extensi...\n",
       "Name: Cleaned_Document, Length: 47837, dtype: object"
      ]
     },
     "execution_count": 26,
     "metadata": {},
     "output_type": "execute_result"
    }
   ],
   "source": [
    "df['Cleaned_Document'] "
   ]
  },
  {
   "cell_type": "code",
   "execution_count": 27,
   "id": "7df29051",
   "metadata": {
    "execution": {
     "iopub.execute_input": "2025-05-13T16:55:17.648375Z",
     "iopub.status.busy": "2025-05-13T16:55:17.648152Z",
     "iopub.status.idle": "2025-05-13T16:55:19.020767Z",
     "shell.execute_reply": "2025-05-13T16:55:19.020170Z"
    },
    "papermill": {
     "duration": 1.380662,
     "end_time": "2025-05-13T16:55:19.022089",
     "exception": false,
     "start_time": "2025-05-13T16:55:17.641427",
     "status": "completed"
    },
    "tags": []
   },
   "outputs": [],
   "source": [
    "#saving dataset\n",
    "df['Cleaned_Document_Str'] = df['Cleaned_Document'].apply(lambda tokens: ' '.join(tokens))\n",
    "df.to_csv('cleaned_dataset.csv', index=False)"
   ]
  },
  {
   "cell_type": "markdown",
   "id": "263d2f2a",
   "metadata": {
    "papermill": {
     "duration": 0.00614,
     "end_time": "2025-05-13T16:55:19.034899",
     "exception": false,
     "start_time": "2025-05-13T16:55:19.028759",
     "status": "completed"
    },
    "tags": []
   },
   "source": [
    "# EDA"
   ]
  },
  {
   "cell_type": "code",
   "execution_count": 28,
   "id": "b26a3f9f",
   "metadata": {
    "execution": {
     "iopub.execute_input": "2025-05-13T16:55:19.048327Z",
     "iopub.status.busy": "2025-05-13T16:55:19.048103Z",
     "iopub.status.idle": "2025-05-13T16:55:19.075185Z",
     "shell.execute_reply": "2025-05-13T16:55:19.074475Z"
    },
    "papermill": {
     "duration": 0.03481,
     "end_time": "2025-05-13T16:55:19.076198",
     "exception": false,
     "start_time": "2025-05-13T16:55:19.041388",
     "status": "completed"
    },
    "tags": []
   },
   "outputs": [
    {
     "name": "stdout",
     "output_type": "stream",
     "text": [
      "count    47837.000000\n",
      "mean        33.148860\n",
      "std         44.508495\n",
      "min          0.000000\n",
      "25%         12.000000\n",
      "50%         20.000000\n",
      "75%         35.000000\n",
      "max        817.000000\n",
      "Name: doc_length, dtype: float64\n"
     ]
    }
   ],
   "source": [
    "#number of tokens per document.\n",
    "df['doc_length'] = df['Cleaned_Document'].apply(len)\n",
    "print(df['doc_length'].describe())"
   ]
  },
  {
   "cell_type": "markdown",
   "id": "dab2b2b6",
   "metadata": {
    "papermill": {
     "duration": 0.005952,
     "end_time": "2025-05-13T16:55:19.088992",
     "exception": false,
     "start_time": "2025-05-13T16:55:19.083040",
     "status": "completed"
    },
    "tags": []
   },
   "source": [
    "As we can see, there are some tickets with zero tokens, meaning they are essentially empty"
   ]
  },
  {
   "cell_type": "code",
   "execution_count": 29,
   "id": "8a8539f0",
   "metadata": {
    "execution": {
     "iopub.execute_input": "2025-05-13T16:55:19.102413Z",
     "iopub.status.busy": "2025-05-13T16:55:19.102206Z",
     "iopub.status.idle": "2025-05-13T16:55:19.111892Z",
     "shell.execute_reply": "2025-05-13T16:55:19.111324Z"
    },
    "papermill": {
     "duration": 0.017638,
     "end_time": "2025-05-13T16:55:19.112860",
     "exception": false,
     "start_time": "2025-05-13T16:55:19.095222",
     "status": "completed"
    },
    "tags": []
   },
   "outputs": [
    {
     "data": {
      "text/html": [
       "<div>\n",
       "<style scoped>\n",
       "    .dataframe tbody tr th:only-of-type {\n",
       "        vertical-align: middle;\n",
       "    }\n",
       "\n",
       "    .dataframe tbody tr th {\n",
       "        vertical-align: top;\n",
       "    }\n",
       "\n",
       "    .dataframe thead th {\n",
       "        text-align: right;\n",
       "    }\n",
       "</style>\n",
       "<table border=\"1\" class=\"dataframe\">\n",
       "  <thead>\n",
       "    <tr style=\"text-align: right;\">\n",
       "      <th></th>\n",
       "      <th>Document</th>\n",
       "      <th>Topic_group</th>\n",
       "      <th>Cleaned_Document</th>\n",
       "      <th>Cleaned_Document_Str</th>\n",
       "      <th>doc_length</th>\n",
       "    </tr>\n",
       "  </thead>\n",
       "  <tbody>\n",
       "    <tr>\n",
       "      <th>35590</th>\n",
       "      <td>for is down again for down again hi for down a...</td>\n",
       "      <td>Administrative rights</td>\n",
       "      <td>[]</td>\n",
       "      <td></td>\n",
       "      <td>0</td>\n",
       "    </tr>\n",
       "  </tbody>\n",
       "</table>\n",
       "</div>"
      ],
      "text/plain": [
       "                                                Document  \\\n",
       "35590  for is down again for down again hi for down a...   \n",
       "\n",
       "                 Topic_group Cleaned_Document Cleaned_Document_Str  doc_length  \n",
       "35590  Administrative rights               []                                0  "
      ]
     },
     "execution_count": 29,
     "metadata": {},
     "output_type": "execute_result"
    }
   ],
   "source": [
    "df[df['doc_length'] == 0]"
   ]
  },
  {
   "cell_type": "code",
   "execution_count": 30,
   "id": "f3d251ac",
   "metadata": {
    "execution": {
     "iopub.execute_input": "2025-05-13T16:55:19.126442Z",
     "iopub.status.busy": "2025-05-13T16:55:19.126254Z",
     "iopub.status.idle": "2025-05-13T16:55:19.135305Z",
     "shell.execute_reply": "2025-05-13T16:55:19.134564Z"
    },
    "papermill": {
     "duration": 0.017328,
     "end_time": "2025-05-13T16:55:19.136520",
     "exception": false,
     "start_time": "2025-05-13T16:55:19.119192",
     "status": "completed"
    },
    "tags": []
   },
   "outputs": [],
   "source": [
    "df = df[df['doc_length'] != 0]"
   ]
  },
  {
   "cell_type": "markdown",
   "id": "f5452923",
   "metadata": {
    "papermill": {
     "duration": 0.006003,
     "end_time": "2025-05-13T16:55:19.149281",
     "exception": false,
     "start_time": "2025-05-13T16:55:19.143278",
     "status": "completed"
    },
    "tags": []
   },
   "source": [
    "# Classification"
   ]
  },
  {
   "cell_type": "code",
   "execution_count": 31,
   "id": "cbe34157",
   "metadata": {
    "execution": {
     "iopub.execute_input": "2025-05-13T16:55:19.162433Z",
     "iopub.status.busy": "2025-05-13T16:55:19.162241Z",
     "iopub.status.idle": "2025-05-13T16:55:19.171123Z",
     "shell.execute_reply": "2025-05-13T16:55:19.170375Z"
    },
    "papermill": {
     "duration": 0.016868,
     "end_time": "2025-05-13T16:55:19.172269",
     "exception": false,
     "start_time": "2025-05-13T16:55:19.155401",
     "status": "completed"
    },
    "tags": []
   },
   "outputs": [
    {
     "data": {
      "text/html": [
       "<div>\n",
       "<style scoped>\n",
       "    .dataframe tbody tr th:only-of-type {\n",
       "        vertical-align: middle;\n",
       "    }\n",
       "\n",
       "    .dataframe tbody tr th {\n",
       "        vertical-align: top;\n",
       "    }\n",
       "\n",
       "    .dataframe thead th {\n",
       "        text-align: right;\n",
       "    }\n",
       "</style>\n",
       "<table border=\"1\" class=\"dataframe\">\n",
       "  <thead>\n",
       "    <tr style=\"text-align: right;\">\n",
       "      <th></th>\n",
       "      <th>Document</th>\n",
       "      <th>Topic_group</th>\n",
       "      <th>Cleaned_Document</th>\n",
       "      <th>Cleaned_Document_Str</th>\n",
       "      <th>doc_length</th>\n",
       "    </tr>\n",
       "  </thead>\n",
       "  <tbody>\n",
       "    <tr>\n",
       "      <th>0</th>\n",
       "      <td>connection with icon icon dear please setup ic...</td>\n",
       "      <td>Hardware</td>\n",
       "      <td>[connection, icon, icon, setup, icon, per, ico...</td>\n",
       "      <td>connection icon icon setup icon per icon engin...</td>\n",
       "      <td>12</td>\n",
       "    </tr>\n",
       "    <tr>\n",
       "      <th>1</th>\n",
       "      <td>work experience user work experience user hi w...</td>\n",
       "      <td>Access</td>\n",
       "      <td>[work, experience, user, work, experience, use...</td>\n",
       "      <td>work experience user work experience user work...</td>\n",
       "      <td>14</td>\n",
       "    </tr>\n",
       "    <tr>\n",
       "      <th>2</th>\n",
       "      <td>requesting for meeting requesting meeting hi p...</td>\n",
       "      <td>Hardware</td>\n",
       "      <td>[requesting, meeting, requesting, meeting, fol...</td>\n",
       "      <td>requesting meeting requesting meeting follow e...</td>\n",
       "      <td>10</td>\n",
       "    </tr>\n",
       "    <tr>\n",
       "      <th>3</th>\n",
       "      <td>reset passwords for external accounts re expir...</td>\n",
       "      <td>Access</td>\n",
       "      <td>[reset, password, external, account, expire, d...</td>\n",
       "      <td>reset password external account expire day ask...</td>\n",
       "      <td>112</td>\n",
       "    </tr>\n",
       "    <tr>\n",
       "      <th>4</th>\n",
       "      <td>mail verification warning hi has got attached ...</td>\n",
       "      <td>Miscellaneous</td>\n",
       "      <td>[mail, verification, warning, got, attached, a...</td>\n",
       "      <td>mail verification warning got attached address...</td>\n",
       "      <td>11</td>\n",
       "    </tr>\n",
       "  </tbody>\n",
       "</table>\n",
       "</div>"
      ],
      "text/plain": [
       "                                            Document    Topic_group  \\\n",
       "0  connection with icon icon dear please setup ic...       Hardware   \n",
       "1  work experience user work experience user hi w...         Access   \n",
       "2  requesting for meeting requesting meeting hi p...       Hardware   \n",
       "3  reset passwords for external accounts re expir...         Access   \n",
       "4  mail verification warning hi has got attached ...  Miscellaneous   \n",
       "\n",
       "                                    Cleaned_Document  \\\n",
       "0  [connection, icon, icon, setup, icon, per, ico...   \n",
       "1  [work, experience, user, work, experience, use...   \n",
       "2  [requesting, meeting, requesting, meeting, fol...   \n",
       "3  [reset, password, external, account, expire, d...   \n",
       "4  [mail, verification, warning, got, attached, a...   \n",
       "\n",
       "                                Cleaned_Document_Str  doc_length  \n",
       "0  connection icon icon setup icon per icon engin...          12  \n",
       "1  work experience user work experience user work...          14  \n",
       "2  requesting meeting requesting meeting follow e...          10  \n",
       "3  reset password external account expire day ask...         112  \n",
       "4  mail verification warning got attached address...          11  "
      ]
     },
     "execution_count": 31,
     "metadata": {},
     "output_type": "execute_result"
    }
   ],
   "source": [
    "df.head()"
   ]
  },
  {
   "cell_type": "code",
   "execution_count": 32,
   "id": "8bd2e85b",
   "metadata": {
    "execution": {
     "iopub.execute_input": "2025-05-13T16:55:19.186163Z",
     "iopub.status.busy": "2025-05-13T16:55:19.185972Z",
     "iopub.status.idle": "2025-05-13T16:55:19.192236Z",
     "shell.execute_reply": "2025-05-13T16:55:19.191750Z"
    },
    "papermill": {
     "duration": 0.014214,
     "end_time": "2025-05-13T16:55:19.193235",
     "exception": false,
     "start_time": "2025-05-13T16:55:19.179021",
     "status": "completed"
    },
    "tags": []
   },
   "outputs": [
    {
     "data": {
      "text/plain": [
       "array(['Hardware', 'Access', 'Miscellaneous', 'HR Support', 'Purchase',\n",
       "       'Administrative rights', 'Storage', 'Internal Project'],\n",
       "      dtype=object)"
      ]
     },
     "execution_count": 32,
     "metadata": {},
     "output_type": "execute_result"
    }
   ],
   "source": [
    "df['Topic_group'].unique()"
   ]
  },
  {
   "cell_type": "markdown",
   "id": "86110aed",
   "metadata": {
    "papermill": {
     "duration": 0.006239,
     "end_time": "2025-05-13T16:55:19.206246",
     "exception": false,
     "start_time": "2025-05-13T16:55:19.200007",
     "status": "completed"
    },
    "tags": []
   },
   "source": [
    "## Logistic Regression"
   ]
  },
  {
   "cell_type": "code",
   "execution_count": 33,
   "id": "43ba0d32",
   "metadata": {
    "execution": {
     "iopub.execute_input": "2025-05-13T16:55:19.219844Z",
     "iopub.status.busy": "2025-05-13T16:55:19.219649Z",
     "iopub.status.idle": "2025-05-13T16:55:21.739723Z",
     "shell.execute_reply": "2025-05-13T16:55:21.738999Z"
    },
    "papermill": {
     "duration": 2.528538,
     "end_time": "2025-05-13T16:55:21.741131",
     "exception": false,
     "start_time": "2025-05-13T16:55:19.212593",
     "status": "completed"
    },
    "tags": []
   },
   "outputs": [],
   "source": [
    "#TF-IDF\n",
    "from sklearn.feature_extraction.text import TfidfVectorizer\n",
    "\n",
    "vectorizer = TfidfVectorizer(min_df=5, max_df=0.8, ngram_range=(1,2))\n",
    "X = vectorizer.fit_transform(df['Cleaned_Document_Str'])"
   ]
  },
  {
   "cell_type": "code",
   "execution_count": 34,
   "id": "9dbbd859",
   "metadata": {
    "execution": {
     "iopub.execute_input": "2025-05-13T16:55:21.756253Z",
     "iopub.status.busy": "2025-05-13T16:55:21.756023Z",
     "iopub.status.idle": "2025-05-13T16:55:21.766811Z",
     "shell.execute_reply": "2025-05-13T16:55:21.766108Z"
    },
    "papermill": {
     "duration": 0.019705,
     "end_time": "2025-05-13T16:55:21.768040",
     "exception": false,
     "start_time": "2025-05-13T16:55:21.748335",
     "status": "completed"
    },
    "tags": []
   },
   "outputs": [],
   "source": [
    "#encoding target variable\n",
    "from sklearn.preprocessing import LabelEncoder\n",
    "\n",
    "le = LabelEncoder()\n",
    "y = le.fit_transform(df['Topic_group'])"
   ]
  },
  {
   "cell_type": "code",
   "execution_count": 35,
   "id": "562ef5ed",
   "metadata": {
    "execution": {
     "iopub.execute_input": "2025-05-13T16:55:21.782074Z",
     "iopub.status.busy": "2025-05-13T16:55:21.781880Z",
     "iopub.status.idle": "2025-05-13T16:55:21.785321Z",
     "shell.execute_reply": "2025-05-13T16:55:21.784706Z"
    },
    "papermill": {
     "duration": 0.011685,
     "end_time": "2025-05-13T16:55:21.786344",
     "exception": false,
     "start_time": "2025-05-13T16:55:21.774659",
     "status": "completed"
    },
    "tags": []
   },
   "outputs": [],
   "source": [
    "from sklearn.linear_model import LogisticRegression\n",
    "from sklearn.model_selection import train_test_split\n",
    "from sklearn.metrics import classification_report"
   ]
  },
  {
   "cell_type": "code",
   "execution_count": 36,
   "id": "2ac2e11e",
   "metadata": {
    "execution": {
     "iopub.execute_input": "2025-05-13T16:55:21.800024Z",
     "iopub.status.busy": "2025-05-13T16:55:21.799828Z",
     "iopub.status.idle": "2025-05-13T16:55:44.969317Z",
     "shell.execute_reply": "2025-05-13T16:55:44.967953Z"
    },
    "papermill": {
     "duration": 23.178382,
     "end_time": "2025-05-13T16:55:44.971220",
     "exception": false,
     "start_time": "2025-05-13T16:55:21.792838",
     "status": "completed"
    },
    "tags": []
   },
   "outputs": [
    {
     "name": "stdout",
     "output_type": "stream",
     "text": [
      "              precision    recall  f1-score   support\n",
      "\n",
      "           0       0.92      0.87      0.89      1468\n",
      "           1       0.91      0.64      0.75       331\n",
      "           2       0.85      0.85      0.85      2110\n",
      "           3       0.79      0.90      0.84      2761\n",
      "           4       0.92      0.78      0.84       448\n",
      "           5       0.83      0.84      0.83      1397\n",
      "           6       0.98      0.87      0.92       499\n",
      "           7       0.94      0.82      0.88       554\n",
      "\n",
      "    accuracy                           0.85      9568\n",
      "   macro avg       0.89      0.82      0.85      9568\n",
      "weighted avg       0.86      0.85      0.85      9568\n",
      "\n"
     ]
    }
   ],
   "source": [
    "X_train, X_test, y_train, y_test = train_test_split(X, y, test_size=0.2, random_state=42)\n",
    "clf = LogisticRegression(max_iter=1000)\n",
    "clf.fit(X_train, y_train)\n",
    "preds = clf.predict(X_test)\n",
    "print(classification_report(y_test, preds))"
   ]
  },
  {
   "cell_type": "markdown",
   "id": "d1949c48",
   "metadata": {
    "papermill": {
     "duration": 0.010945,
     "end_time": "2025-05-13T16:55:44.995390",
     "exception": false,
     "start_time": "2025-05-13T16:55:44.984445",
     "status": "completed"
    },
    "tags": []
   },
   "source": [
    "## Decision Trees / Random Forest / XGBoost:"
   ]
  },
  {
   "cell_type": "markdown",
   "id": "8c281176",
   "metadata": {
    "papermill": {
     "duration": 0.010786,
     "end_time": "2025-05-13T16:55:45.017087",
     "exception": false,
     "start_time": "2025-05-13T16:55:45.006301",
     "status": "completed"
    },
    "tags": []
   },
   "source": [
    "## RNN"
   ]
  },
  {
   "cell_type": "markdown",
   "id": "3cf6f815",
   "metadata": {
    "papermill": {
     "duration": 0.011238,
     "end_time": "2025-05-13T16:55:45.039492",
     "exception": false,
     "start_time": "2025-05-13T16:55:45.028254",
     "status": "completed"
    },
    "tags": []
   },
   "source": [
    "## BERT"
   ]
  }
 ],
 "metadata": {
  "kaggle": {
   "accelerator": "nvidiaTeslaT4",
   "dataSources": [
    {
     "datasetId": 4460055,
     "sourceId": 7650678,
     "sourceType": "datasetVersion"
    }
   ],
   "dockerImageVersionId": 31012,
   "isGpuEnabled": true,
   "isInternetEnabled": false,
   "language": "python",
   "sourceType": "notebook"
  },
  "kernelspec": {
   "display_name": "Python 3",
   "language": "python",
   "name": "python3"
  },
  "language_info": {
   "codemirror_mode": {
    "name": "ipython",
    "version": 3
   },
   "file_extension": ".py",
   "mimetype": "text/x-python",
   "name": "python",
   "nbconvert_exporter": "python",
   "pygments_lexer": "ipython3",
   "version": "3.11.11"
  },
  "papermill": {
   "default_parameters": {},
   "duration": 58.72945,
   "end_time": "2025-05-13T16:55:46.369014",
   "environment_variables": {},
   "exception": null,
   "input_path": "__notebook__.ipynb",
   "output_path": "__notebook__.ipynb",
   "parameters": {},
   "start_time": "2025-05-13T16:54:47.639564",
   "version": "2.6.0"
  }
 },
 "nbformat": 4,
 "nbformat_minor": 5
}
