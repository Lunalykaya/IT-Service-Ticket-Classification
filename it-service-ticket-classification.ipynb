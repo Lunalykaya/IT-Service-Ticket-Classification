{
 "cells": [
  {
   "cell_type": "code",
   "execution_count": 1,
   "id": "93b21ce9",
   "metadata": {
    "_cell_guid": "b1076dfc-b9ad-4769-8c92-a6c4dae69d19",
    "_uuid": "8f2839f25d086af736a60e9eeb907d3b93b6e0e5",
    "execution": {
     "iopub.execute_input": "2025-05-15T17:46:56.069840Z",
     "iopub.status.busy": "2025-05-15T17:46:56.069572Z",
     "iopub.status.idle": "2025-05-15T17:46:57.957278Z",
     "shell.execute_reply": "2025-05-15T17:46:57.956455Z"
    },
    "papermill": {
     "duration": 1.897837,
     "end_time": "2025-05-15T17:46:57.958607",
     "exception": false,
     "start_time": "2025-05-15T17:46:56.060770",
     "status": "completed"
    },
    "tags": []
   },
   "outputs": [
    {
     "name": "stdout",
     "output_type": "stream",
     "text": [
      "/kaggle/input/it-service-ticket-classification-dataset/all_tickets_processed_improved_v3.csv\n"
     ]
    }
   ],
   "source": [
    "# This Python 3 environment comes with many helpful analytics libraries installed\n",
    "# It is defined by the kaggle/python Docker image: https://github.com/kaggle/docker-python\n",
    "# For example, here's several helpful packages to load\n",
    "\n",
    "import numpy as np # linear algebra\n",
    "import pandas as pd # data processing, CSV file I/O (e.g. pd.read_csv)\n",
    "\n",
    "# Input data files are available in the read-only \"../input/\" directory\n",
    "# For example, running this (by clicking run or pressing Shift+Enter) will list all files under the input directory\n",
    "\n",
    "import os\n",
    "for dirname, _, filenames in os.walk('/kaggle/input'):\n",
    "    for filename in filenames:\n",
    "        print(os.path.join(dirname, filename))\n",
    "\n",
    "# You can write up to 20GB to the current directory (/kaggle/working/) that gets preserved as output when you create a version using \"Save & Run All\" \n",
    "# You can also write temporary files to /kaggle/temp/, but they won't be saved outside of the current session"
   ]
  },
  {
   "cell_type": "markdown",
   "id": "cfd45f3f",
   "metadata": {
    "papermill": {
     "duration": 0.006804,
     "end_time": "2025-05-15T17:46:57.972821",
     "exception": false,
     "start_time": "2025-05-15T17:46:57.966017",
     "status": "completed"
    },
    "tags": []
   },
   "source": [
    "# Loading data"
   ]
  },
  {
   "cell_type": "code",
   "execution_count": 2,
   "id": "0b3f823e",
   "metadata": {
    "execution": {
     "iopub.execute_input": "2025-05-15T17:46:57.986997Z",
     "iopub.status.busy": "2025-05-15T17:46:57.986656Z",
     "iopub.status.idle": "2025-05-15T17:46:57.990103Z",
     "shell.execute_reply": "2025-05-15T17:46:57.989579Z"
    },
    "papermill": {
     "duration": 0.011747,
     "end_time": "2025-05-15T17:46:57.991174",
     "exception": false,
     "start_time": "2025-05-15T17:46:57.979427",
     "status": "completed"
    },
    "tags": []
   },
   "outputs": [],
   "source": [
    "import pandas as pd\n",
    "import numpy as np\n",
    "import matplotlib.pyplot as plt "
   ]
  },
  {
   "cell_type": "code",
   "execution_count": 3,
   "id": "32efc4c9",
   "metadata": {
    "execution": {
     "iopub.execute_input": "2025-05-15T17:46:58.005304Z",
     "iopub.status.busy": "2025-05-15T17:46:58.005057Z",
     "iopub.status.idle": "2025-05-15T17:46:58.471489Z",
     "shell.execute_reply": "2025-05-15T17:46:58.470659Z"
    },
    "papermill": {
     "duration": 0.474853,
     "end_time": "2025-05-15T17:46:58.472685",
     "exception": false,
     "start_time": "2025-05-15T17:46:57.997832",
     "status": "completed"
    },
    "tags": []
   },
   "outputs": [
    {
     "name": "stdout",
     "output_type": "stream",
     "text": [
      "Path to dataset files: /kaggle/input/it-service-ticket-classification-dataset\n"
     ]
    }
   ],
   "source": [
    "import kagglehub\n",
    "\n",
    "# Download latest version\n",
    "path = kagglehub.dataset_download(\"adisongoh/it-service-ticket-classification-dataset\")\n",
    "\n",
    "print(\"Path to dataset files:\", path)"
   ]
  },
  {
   "cell_type": "code",
   "execution_count": 4,
   "id": "da1f3e43",
   "metadata": {
    "execution": {
     "iopub.execute_input": "2025-05-15T17:46:58.488434Z",
     "iopub.status.busy": "2025-05-15T17:46:58.487783Z",
     "iopub.status.idle": "2025-05-15T17:46:58.862542Z",
     "shell.execute_reply": "2025-05-15T17:46:58.861930Z"
    },
    "papermill": {
     "duration": 0.384205,
     "end_time": "2025-05-15T17:46:58.863955",
     "exception": false,
     "start_time": "2025-05-15T17:46:58.479750",
     "status": "completed"
    },
    "tags": []
   },
   "outputs": [],
   "source": [
    "#reading df\n",
    "df = pd.read_csv('/kaggle/input/it-service-ticket-classification-dataset/all_tickets_processed_improved_v3.csv')"
   ]
  },
  {
   "cell_type": "code",
   "execution_count": 5,
   "id": "196ebb11",
   "metadata": {
    "execution": {
     "iopub.execute_input": "2025-05-15T17:46:58.878876Z",
     "iopub.status.busy": "2025-05-15T17:46:58.878624Z",
     "iopub.status.idle": "2025-05-15T17:46:58.910934Z",
     "shell.execute_reply": "2025-05-15T17:46:58.910080Z"
    },
    "papermill": {
     "duration": 0.04106,
     "end_time": "2025-05-15T17:46:58.912098",
     "exception": false,
     "start_time": "2025-05-15T17:46:58.871038",
     "status": "completed"
    },
    "tags": []
   },
   "outputs": [
    {
     "name": "stdout",
     "output_type": "stream",
     "text": [
      "<class 'pandas.core.frame.DataFrame'>\n",
      "RangeIndex: 47837 entries, 0 to 47836\n",
      "Data columns (total 2 columns):\n",
      " #   Column       Non-Null Count  Dtype \n",
      "---  ------       --------------  ----- \n",
      " 0   Document     47837 non-null  object\n",
      " 1   Topic_group  47837 non-null  object\n",
      "dtypes: object(2)\n",
      "memory usage: 747.6+ KB\n"
     ]
    }
   ],
   "source": [
    "df.info()"
   ]
  },
  {
   "cell_type": "code",
   "execution_count": 6,
   "id": "c6b75626",
   "metadata": {
    "execution": {
     "iopub.execute_input": "2025-05-15T17:46:58.926978Z",
     "iopub.status.busy": "2025-05-15T17:46:58.926747Z",
     "iopub.status.idle": "2025-05-15T17:46:58.942444Z",
     "shell.execute_reply": "2025-05-15T17:46:58.941754Z"
    },
    "papermill": {
     "duration": 0.024483,
     "end_time": "2025-05-15T17:46:58.943625",
     "exception": false,
     "start_time": "2025-05-15T17:46:58.919142",
     "status": "completed"
    },
    "tags": []
   },
   "outputs": [
    {
     "data": {
      "text/html": [
       "<div>\n",
       "<style scoped>\n",
       "    .dataframe tbody tr th:only-of-type {\n",
       "        vertical-align: middle;\n",
       "    }\n",
       "\n",
       "    .dataframe tbody tr th {\n",
       "        vertical-align: top;\n",
       "    }\n",
       "\n",
       "    .dataframe thead th {\n",
       "        text-align: right;\n",
       "    }\n",
       "</style>\n",
       "<table border=\"1\" class=\"dataframe\">\n",
       "  <thead>\n",
       "    <tr style=\"text-align: right;\">\n",
       "      <th></th>\n",
       "      <th>Document</th>\n",
       "      <th>Topic_group</th>\n",
       "    </tr>\n",
       "  </thead>\n",
       "  <tbody>\n",
       "    <tr>\n",
       "      <th>0</th>\n",
       "      <td>connection with icon icon dear please setup ic...</td>\n",
       "      <td>Hardware</td>\n",
       "    </tr>\n",
       "    <tr>\n",
       "      <th>1</th>\n",
       "      <td>work experience user work experience user hi w...</td>\n",
       "      <td>Access</td>\n",
       "    </tr>\n",
       "    <tr>\n",
       "      <th>2</th>\n",
       "      <td>requesting for meeting requesting meeting hi p...</td>\n",
       "      <td>Hardware</td>\n",
       "    </tr>\n",
       "    <tr>\n",
       "      <th>3</th>\n",
       "      <td>reset passwords for external accounts re expir...</td>\n",
       "      <td>Access</td>\n",
       "    </tr>\n",
       "    <tr>\n",
       "      <th>4</th>\n",
       "      <td>mail verification warning hi has got attached ...</td>\n",
       "      <td>Miscellaneous</td>\n",
       "    </tr>\n",
       "  </tbody>\n",
       "</table>\n",
       "</div>"
      ],
      "text/plain": [
       "                                            Document    Topic_group\n",
       "0  connection with icon icon dear please setup ic...       Hardware\n",
       "1  work experience user work experience user hi w...         Access\n",
       "2  requesting for meeting requesting meeting hi p...       Hardware\n",
       "3  reset passwords for external accounts re expir...         Access\n",
       "4  mail verification warning hi has got attached ...  Miscellaneous"
      ]
     },
     "execution_count": 6,
     "metadata": {},
     "output_type": "execute_result"
    }
   ],
   "source": [
    "#quick preview of the df\n",
    "df.head()"
   ]
  },
  {
   "cell_type": "code",
   "execution_count": 7,
   "id": "4e9ef2a2",
   "metadata": {
    "execution": {
     "iopub.execute_input": "2025-05-15T17:46:58.959162Z",
     "iopub.status.busy": "2025-05-15T17:46:58.958938Z",
     "iopub.status.idle": "2025-05-15T17:46:58.969465Z",
     "shell.execute_reply": "2025-05-15T17:46:58.968772Z"
    },
    "papermill": {
     "duration": 0.01929,
     "end_time": "2025-05-15T17:46:58.970597",
     "exception": false,
     "start_time": "2025-05-15T17:46:58.951307",
     "status": "completed"
    },
    "tags": []
   },
   "outputs": [
    {
     "data": {
      "text/plain": [
       "array(['Hardware', 'Access', 'Miscellaneous', 'HR Support', 'Purchase',\n",
       "       'Administrative rights', 'Storage', 'Internal Project'],\n",
       "      dtype=object)"
      ]
     },
     "execution_count": 7,
     "metadata": {},
     "output_type": "execute_result"
    }
   ],
   "source": [
    "#viewing unique values (categories) in Topic_group\n",
    "df['Topic_group'].nunique()\n",
    "df['Topic_group'].unique()"
   ]
  },
  {
   "cell_type": "code",
   "execution_count": 8,
   "id": "9b0e170a",
   "metadata": {
    "execution": {
     "iopub.execute_input": "2025-05-15T17:46:58.985615Z",
     "iopub.status.busy": "2025-05-15T17:46:58.985031Z",
     "iopub.status.idle": "2025-05-15T17:46:58.998120Z",
     "shell.execute_reply": "2025-05-15T17:46:58.997589Z"
    },
    "papermill": {
     "duration": 0.021572,
     "end_time": "2025-05-15T17:46:58.999187",
     "exception": false,
     "start_time": "2025-05-15T17:46:58.977615",
     "status": "completed"
    },
    "tags": []
   },
   "outputs": [
    {
     "data": {
      "text/plain": [
       "Document       0\n",
       "Topic_group    0\n",
       "dtype: int64"
      ]
     },
     "execution_count": 8,
     "metadata": {},
     "output_type": "execute_result"
    }
   ],
   "source": [
    "#checking na\n",
    "df.isnull().sum()"
   ]
  },
  {
   "cell_type": "code",
   "execution_count": 9,
   "id": "def9e370",
   "metadata": {
    "execution": {
     "iopub.execute_input": "2025-05-15T17:46:59.013929Z",
     "iopub.status.busy": "2025-05-15T17:46:59.013743Z",
     "iopub.status.idle": "2025-05-15T17:46:59.062770Z",
     "shell.execute_reply": "2025-05-15T17:46:59.062084Z"
    },
    "papermill": {
     "duration": 0.057663,
     "end_time": "2025-05-15T17:46:59.063929",
     "exception": false,
     "start_time": "2025-05-15T17:46:59.006266",
     "status": "completed"
    },
    "tags": []
   },
   "outputs": [
    {
     "data": {
      "text/plain": [
       "0"
      ]
     },
     "execution_count": 9,
     "metadata": {},
     "output_type": "execute_result"
    }
   ],
   "source": [
    "#checking duplicates\n",
    "df.duplicated().sum()"
   ]
  },
  {
   "cell_type": "markdown",
   "id": "72a77ff5",
   "metadata": {
    "papermill": {
     "duration": 0.007229,
     "end_time": "2025-05-15T17:46:59.078970",
     "exception": false,
     "start_time": "2025-05-15T17:46:59.071741",
     "status": "completed"
    },
    "tags": []
   },
   "source": [
    "# Text Preprocessing"
   ]
  },
  {
   "cell_type": "code",
   "execution_count": 10,
   "id": "3a28bb08",
   "metadata": {
    "execution": {
     "iopub.execute_input": "2025-05-15T17:46:59.094392Z",
     "iopub.status.busy": "2025-05-15T17:46:59.093922Z",
     "iopub.status.idle": "2025-05-15T17:46:59.489576Z",
     "shell.execute_reply": "2025-05-15T17:46:59.488777Z"
    },
    "papermill": {
     "duration": 0.404968,
     "end_time": "2025-05-15T17:46:59.491091",
     "exception": false,
     "start_time": "2025-05-15T17:46:59.086123",
     "status": "completed"
    },
    "tags": []
   },
   "outputs": [],
   "source": [
    "import re\n",
    "import string\n",
    "from bs4 import BeautifulSoup"
   ]
  },
  {
   "cell_type": "code",
   "execution_count": 11,
   "id": "fedff82e",
   "metadata": {
    "execution": {
     "iopub.execute_input": "2025-05-15T17:46:59.506898Z",
     "iopub.status.busy": "2025-05-15T17:46:59.506284Z",
     "iopub.status.idle": "2025-05-15T17:46:59.510480Z",
     "shell.execute_reply": "2025-05-15T17:46:59.509784Z"
    },
    "papermill": {
     "duration": 0.013093,
     "end_time": "2025-05-15T17:46:59.511575",
     "exception": false,
     "start_time": "2025-05-15T17:46:59.498482",
     "status": "completed"
    },
    "tags": []
   },
   "outputs": [],
   "source": [
    "def cleaned_text (text):\n",
    "    text = text.lower() #converting to lower case\n",
    "    text = re.sub(r'\\d+', '', text) #removing numbers\n",
    "    text = text.translate(str.maketrans('', '', string.punctuation)) \n",
    "    #removing punctuation\n",
    "    text = re.sub(r'\\W', ' ', text) #removing special characters\n",
    "    text = BeautifulSoup(text, \"html.parser\").get_text() #removing HTML tags\n",
    "    return text"
   ]
  },
  {
   "cell_type": "code",
   "execution_count": 12,
   "id": "0d447448",
   "metadata": {
    "execution": {
     "iopub.execute_input": "2025-05-15T17:46:59.526288Z",
     "iopub.status.busy": "2025-05-15T17:46:59.526056Z",
     "iopub.status.idle": "2025-05-15T17:47:02.267134Z",
     "shell.execute_reply": "2025-05-15T17:47:02.266580Z"
    },
    "papermill": {
     "duration": 2.749884,
     "end_time": "2025-05-15T17:47:02.268527",
     "exception": false,
     "start_time": "2025-05-15T17:46:59.518643",
     "status": "completed"
    },
    "tags": []
   },
   "outputs": [],
   "source": [
    "df['Cleaned_Document'] = df['Document'].apply(cleaned_text)"
   ]
  },
  {
   "cell_type": "code",
   "execution_count": 13,
   "id": "d1c17395",
   "metadata": {
    "execution": {
     "iopub.execute_input": "2025-05-15T17:47:02.283609Z",
     "iopub.status.busy": "2025-05-15T17:47:02.283360Z",
     "iopub.status.idle": "2025-05-15T17:47:04.141699Z",
     "shell.execute_reply": "2025-05-15T17:47:04.140759Z"
    },
    "papermill": {
     "duration": 1.867435,
     "end_time": "2025-05-15T17:47:04.143212",
     "exception": false,
     "start_time": "2025-05-15T17:47:02.275777",
     "status": "completed"
    },
    "tags": []
   },
   "outputs": [],
   "source": [
    "import nltk\n",
    "\n",
    "#specifying the path to the already downloaded punkt dataset and other packages\n",
    "nltk.data.path.append('/kaggle/input/nltk-datasets/nltk_data')"
   ]
  },
  {
   "cell_type": "code",
   "execution_count": 14,
   "id": "0d928904",
   "metadata": {
    "execution": {
     "iopub.execute_input": "2025-05-15T17:47:04.158827Z",
     "iopub.status.busy": "2025-05-15T17:47:04.158418Z",
     "iopub.status.idle": "2025-05-15T17:47:04.162357Z",
     "shell.execute_reply": "2025-05-15T17:47:04.161617Z"
    },
    "papermill": {
     "duration": 0.012911,
     "end_time": "2025-05-15T17:47:04.163575",
     "exception": false,
     "start_time": "2025-05-15T17:47:04.150664",
     "status": "completed"
    },
    "tags": []
   },
   "outputs": [],
   "source": [
    "from nltk.tokenize import word_tokenize"
   ]
  },
  {
   "cell_type": "code",
   "execution_count": 15,
   "id": "9dd28170",
   "metadata": {
    "execution": {
     "iopub.execute_input": "2025-05-15T17:47:04.178950Z",
     "iopub.status.busy": "2025-05-15T17:47:04.178234Z",
     "iopub.status.idle": "2025-05-15T17:47:11.562805Z",
     "shell.execute_reply": "2025-05-15T17:47:11.562198Z"
    },
    "papermill": {
     "duration": 7.393611,
     "end_time": "2025-05-15T17:47:11.564301",
     "exception": false,
     "start_time": "2025-05-15T17:47:04.170690",
     "status": "completed"
    },
    "tags": []
   },
   "outputs": [],
   "source": [
    "#splitting text into words\n",
    "df['Cleaned_Document'] = df['Cleaned_Document'].apply(word_tokenize)"
   ]
  },
  {
   "cell_type": "code",
   "execution_count": 16,
   "id": "9af49af8",
   "metadata": {
    "execution": {
     "iopub.execute_input": "2025-05-15T17:47:11.635720Z",
     "iopub.status.busy": "2025-05-15T17:47:11.635100Z",
     "iopub.status.idle": "2025-05-15T17:47:11.643557Z",
     "shell.execute_reply": "2025-05-15T17:47:11.642710Z"
    },
    "papermill": {
     "duration": 0.018094,
     "end_time": "2025-05-15T17:47:11.644793",
     "exception": false,
     "start_time": "2025-05-15T17:47:11.626699",
     "status": "completed"
    },
    "tags": []
   },
   "outputs": [
    {
     "data": {
      "text/plain": [
       "0        [connection, with, icon, icon, dear, please, s...\n",
       "1        [work, experience, user, work, experience, use...\n",
       "2        [requesting, for, meeting, requesting, meeting...\n",
       "3        [reset, passwords, for, external, accounts, re...\n",
       "4        [mail, verification, warning, hi, has, got, at...\n",
       "                               ...                        \n",
       "47832    [git, space, for, a, project, issues, with, ad...\n",
       "47833    [error, sent, july, error, hi, guys, can, you,...\n",
       "47834    [connection, issues, sent, tuesday, july, conn...\n",
       "47835    [error, cube, reports, sent, tuesday, july, er...\n",
       "47836    [running, out, on, extensions, hello, please, ...\n",
       "Name: Cleaned_Document, Length: 47837, dtype: object"
      ]
     },
     "execution_count": 16,
     "metadata": {},
     "output_type": "execute_result"
    }
   ],
   "source": [
    "df['Cleaned_Document']"
   ]
  },
  {
   "cell_type": "code",
   "execution_count": 17,
   "id": "6921709b",
   "metadata": {
    "execution": {
     "iopub.execute_input": "2025-05-15T17:47:11.660901Z",
     "iopub.status.busy": "2025-05-15T17:47:11.660513Z",
     "iopub.status.idle": "2025-05-15T17:47:11.667924Z",
     "shell.execute_reply": "2025-05-15T17:47:11.667298Z"
    },
    "papermill": {
     "duration": 0.016147,
     "end_time": "2025-05-15T17:47:11.668887",
     "exception": false,
     "start_time": "2025-05-15T17:47:11.652740",
     "status": "completed"
    },
    "tags": []
   },
   "outputs": [
    {
     "name": "stdout",
     "output_type": "stream",
     "text": [
      "198\n"
     ]
    }
   ],
   "source": [
    "#removing stop-words\n",
    "from nltk.corpus import stopwords\n",
    "stop_words = set(stopwords.words('english'))\n",
    "print(len(stop_words)) #checking that stop-words are downloaded"
   ]
  },
  {
   "cell_type": "code",
   "execution_count": 18,
   "id": "b52dfbe0",
   "metadata": {
    "execution": {
     "iopub.execute_input": "2025-05-15T17:47:11.685468Z",
     "iopub.status.busy": "2025-05-15T17:47:11.684742Z",
     "iopub.status.idle": "2025-05-15T17:47:11.910159Z",
     "shell.execute_reply": "2025-05-15T17:47:11.909365Z"
    },
    "papermill": {
     "duration": 0.235172,
     "end_time": "2025-05-15T17:47:11.911760",
     "exception": false,
     "start_time": "2025-05-15T17:47:11.676588",
     "status": "completed"
    },
    "tags": []
   },
   "outputs": [],
   "source": [
    "df['Cleaned_Document'] = df['Cleaned_Document'].apply(\n",
    "    lambda toks: [w for w in toks if w not in stop_words]\n",
    ")"
   ]
  },
  {
   "cell_type": "code",
   "execution_count": 19,
   "id": "a806184b",
   "metadata": {
    "execution": {
     "iopub.execute_input": "2025-05-15T17:47:11.927560Z",
     "iopub.status.busy": "2025-05-15T17:47:11.927049Z",
     "iopub.status.idle": "2025-05-15T17:47:11.934349Z",
     "shell.execute_reply": "2025-05-15T17:47:11.933623Z"
    },
    "papermill": {
     "duration": 0.016222,
     "end_time": "2025-05-15T17:47:11.935414",
     "exception": false,
     "start_time": "2025-05-15T17:47:11.919192",
     "status": "completed"
    },
    "tags": []
   },
   "outputs": [
    {
     "data": {
      "text/plain": [
       "0        [connection, icon, icon, dear, please, setup, ...\n",
       "1        [work, experience, user, work, experience, use...\n",
       "2        [requesting, meeting, requesting, meeting, hi,...\n",
       "3        [reset, passwords, external, accounts, expire,...\n",
       "4        [mail, verification, warning, hi, got, attache...\n",
       "                               ...                        \n",
       "47832    [git, space, project, issues, adding, users, s...\n",
       "47833    [error, sent, july, error, hi, guys, help, err...\n",
       "47834    [connection, issues, sent, tuesday, july, conn...\n",
       "47835    [error, cube, reports, sent, tuesday, july, er...\n",
       "47836    [running, extensions, hello, please, advised, ...\n",
       "Name: Cleaned_Document, Length: 47837, dtype: object"
      ]
     },
     "execution_count": 19,
     "metadata": {},
     "output_type": "execute_result"
    }
   ],
   "source": [
    "df['Cleaned_Document']"
   ]
  },
  {
   "cell_type": "code",
   "execution_count": 20,
   "id": "4a6a7502",
   "metadata": {
    "execution": {
     "iopub.execute_input": "2025-05-15T17:47:11.952575Z",
     "iopub.status.busy": "2025-05-15T17:47:11.952341Z",
     "iopub.status.idle": "2025-05-15T17:47:21.000637Z",
     "shell.execute_reply": "2025-05-15T17:47:20.999731Z"
    },
    "papermill": {
     "duration": 9.05951,
     "end_time": "2025-05-15T17:47:21.002315",
     "exception": false,
     "start_time": "2025-05-15T17:47:11.942805",
     "status": "completed"
    },
    "tags": []
   },
   "outputs": [],
   "source": [
    "#lemmatization\n",
    "from nltk.stem import PorterStemmer, WordNetLemmatizer\n",
    "lemmatizer = WordNetLemmatizer()\n",
    "df['Cleaned_Document'] = df['Cleaned_Document'].apply(lambda doc: [lemmatizer.lemmatize(word) for word in doc])"
   ]
  },
  {
   "cell_type": "code",
   "execution_count": 21,
   "id": "7c96aab2",
   "metadata": {
    "execution": {
     "iopub.execute_input": "2025-05-15T17:47:21.020546Z",
     "iopub.status.busy": "2025-05-15T17:47:21.019842Z",
     "iopub.status.idle": "2025-05-15T17:47:21.027819Z",
     "shell.execute_reply": "2025-05-15T17:47:21.027280Z"
    },
    "papermill": {
     "duration": 0.017443,
     "end_time": "2025-05-15T17:47:21.028883",
     "exception": false,
     "start_time": "2025-05-15T17:47:21.011440",
     "status": "completed"
    },
    "tags": []
   },
   "outputs": [
    {
     "data": {
      "text/plain": [
       "0     [connection, icon, icon, dear, please, setup, ...\n",
       "1     [work, experience, user, work, experience, use...\n",
       "2     [requesting, meeting, requesting, meeting, hi,...\n",
       "3     [reset, password, external, account, expire, d...\n",
       "4     [mail, verification, warning, hi, got, attache...\n",
       "5     [mail, please, dear, look, blacklisted, receiv...\n",
       "6     [prod, server, tunneling, prod, tunneling, va,...\n",
       "7     [access, request, dear, module, report, report...\n",
       "8     [reset, password, client, password, client, de...\n",
       "9     [direct, report, missing, time, please, action...\n",
       "10    [laptop, connected, request, rebuild, connecte...\n",
       "11    [device, recovery, report, printer, alert, dup...\n",
       "12            [new, starter, hello, please, fill, date]\n",
       "13    [visual, studio, license, visual, studio, lice...\n",
       "14    [system, hello, movement, left, available, dev...\n",
       "15    [access, secondary, secondary, hi, please, pro...\n",
       "16    [list, sent, copy, copy, hi, receive, copy, be...\n",
       "17    [new, purchase, po, purchase, po, dear, purcha...\n",
       "18    [invitation, cloud, strategy, workshop, februa...\n",
       "19    [change, sale, owner, contract, change, owner,...\n",
       "Name: Cleaned_Document, dtype: object"
      ]
     },
     "execution_count": 21,
     "metadata": {},
     "output_type": "execute_result"
    }
   ],
   "source": [
    "df['Cleaned_Document'].head(20)"
   ]
  },
  {
   "cell_type": "code",
   "execution_count": 22,
   "id": "cb21506b",
   "metadata": {
    "execution": {
     "iopub.execute_input": "2025-05-15T17:47:21.044894Z",
     "iopub.status.busy": "2025-05-15T17:47:21.044354Z",
     "iopub.status.idle": "2025-05-15T17:47:21.052184Z",
     "shell.execute_reply": "2025-05-15T17:47:21.051618Z"
    },
    "papermill": {
     "duration": 0.016821,
     "end_time": "2025-05-15T17:47:21.053244",
     "exception": false,
     "start_time": "2025-05-15T17:47:21.036423",
     "status": "completed"
    },
    "tags": []
   },
   "outputs": [
    {
     "data": {
      "text/plain": [
       "47817    [submit, expense, even, though, added, electro...\n",
       "47818    [job, referral, available, sent, thursday, jul...\n",
       "47819    [oracle, update, another, bug, sent, thursday,...\n",
       "47820    [social, error, sent, thursday, july, error, d...\n",
       "47821    [backup, server, performance, issue, sent, thu...\n",
       "47822    [approving, expense, project, code, related, w...\n",
       "47823    [bug, sent, wednesday, july, bug, hello, disco...\n",
       "47824    [oracle, fusion, working, message, unplanned, ...\n",
       "47825    [issue, sent, friday, july, hi, issue, somethi...\n",
       "47826    [oracle, error, sent, thursday, july, error, h...\n",
       "47827    [bandwidth, problem, sent, thursday, july, ban...\n",
       "47828    [password, expire, day, sent, july, password, ...\n",
       "47829    [sensitive, information, access, sent, wednesd...\n",
       "47830    [malfunction, sent, tuesday, july, malfunction...\n",
       "47831    [outlook, account, laptop, laptop, sa, sa, si,...\n",
       "47832    [git, space, project, issue, adding, user, sen...\n",
       "47833    [error, sent, july, error, hi, guy, help, erro...\n",
       "47834    [connection, issue, sent, tuesday, july, conne...\n",
       "47835    [error, cube, report, sent, tuesday, july, err...\n",
       "47836    [running, extension, hello, please, advised, r...\n",
       "Name: Cleaned_Document, dtype: object"
      ]
     },
     "execution_count": 22,
     "metadata": {},
     "output_type": "execute_result"
    }
   ],
   "source": [
    "df['Cleaned_Document'].tail(20)"
   ]
  },
  {
   "cell_type": "markdown",
   "id": "bde7ec0a",
   "metadata": {
    "papermill": {
     "duration": 0.007521,
     "end_time": "2025-05-15T17:47:21.069014",
     "exception": false,
     "start_time": "2025-05-15T17:47:21.061493",
     "status": "completed"
    },
    "tags": []
   },
   "source": [
    "As I can see, besides stop words, the corpus contains many words like 'please', 'hi', 'hello', etc. These words can affect the efficiency of the algorithm, so I would remove them manually."
   ]
  },
  {
   "cell_type": "code",
   "execution_count": 23,
   "id": "ab12f2d0",
   "metadata": {
    "execution": {
     "iopub.execute_input": "2025-05-15T17:47:21.085134Z",
     "iopub.status.busy": "2025-05-15T17:47:21.084896Z",
     "iopub.status.idle": "2025-05-15T17:47:21.960344Z",
     "shell.execute_reply": "2025-05-15T17:47:21.959753Z"
    },
    "papermill": {
     "duration": 0.885068,
     "end_time": "2025-05-15T17:47:21.961719",
     "exception": false,
     "start_time": "2025-05-15T17:47:21.076651",
     "status": "completed"
    },
    "tags": []
   },
   "outputs": [],
   "source": [
    "custom_stopwords = ['hi', 'hello', 'dear', 'please', 'help', 'guy', 'guys',\n",
    "                   'thanks', 'thank', 'regards', 'best', 'hey', 'appreciate',\n",
    "                    'sorry', 'welcome', 'cheers', 'hello', 'goodbye', 'bye',\n",
    "                    'kindly', 'gladly']\n",
    "\n",
    "df['Cleaned_Document'] = df['Cleaned_Document'].apply(\n",
    "    lambda doc: [word for word in doc if word not in custom_stopwords]\n",
    ")"
   ]
  },
  {
   "cell_type": "code",
   "execution_count": 24,
   "id": "1f588a63",
   "metadata": {
    "execution": {
     "iopub.execute_input": "2025-05-15T17:47:21.978504Z",
     "iopub.status.busy": "2025-05-15T17:47:21.978230Z",
     "iopub.status.idle": "2025-05-15T17:47:21.985182Z",
     "shell.execute_reply": "2025-05-15T17:47:21.984619Z"
    },
    "papermill": {
     "duration": 0.016107,
     "end_time": "2025-05-15T17:47:21.986175",
     "exception": false,
     "start_time": "2025-05-15T17:47:21.970068",
     "status": "completed"
    },
    "tags": []
   },
   "outputs": [
    {
     "data": {
      "text/plain": [
       "0        [connection, icon, icon, setup, icon, per, ico...\n",
       "1        [work, experience, user, work, experience, use...\n",
       "2        [requesting, meeting, requesting, meeting, fol...\n",
       "3        [reset, password, external, account, expire, d...\n",
       "4        [mail, verification, warning, got, attached, a...\n",
       "                               ...                        \n",
       "47832    [git, space, project, issue, adding, user, sen...\n",
       "47833    [error, sent, july, error, error, appearing, w...\n",
       "47834    [connection, issue, sent, tuesday, july, conne...\n",
       "47835    [error, cube, report, sent, tuesday, july, err...\n",
       "47836    [running, extension, advised, running, extensi...\n",
       "Name: Cleaned_Document, Length: 47837, dtype: object"
      ]
     },
     "execution_count": 24,
     "metadata": {},
     "output_type": "execute_result"
    }
   ],
   "source": [
    "df['Cleaned_Document']"
   ]
  },
  {
   "cell_type": "code",
   "execution_count": 25,
   "id": "75d6fc60",
   "metadata": {
    "execution": {
     "iopub.execute_input": "2025-05-15T17:47:22.002397Z",
     "iopub.status.busy": "2025-05-15T17:47:22.001936Z",
     "iopub.status.idle": "2025-05-15T17:47:22.176098Z",
     "shell.execute_reply": "2025-05-15T17:47:22.175301Z"
    },
    "papermill": {
     "duration": 0.183965,
     "end_time": "2025-05-15T17:47:22.177834",
     "exception": false,
     "start_time": "2025-05-15T17:47:21.993869",
     "status": "completed"
    },
    "tags": []
   },
   "outputs": [],
   "source": [
    "#%pip install contractions\n",
    "#import contractions\n",
    "\n",
    "contraction_map = {\n",
    "    \"aren't\": \"are not\",\n",
    "    \"can't\": \"cannot\",\n",
    "    \"couldn't\": \"could not\",\n",
    "    \"didn't\": \"did not\",\n",
    "    \"doesn't\": \"does not\",\n",
    "    \"don't\": \"do not\",\n",
    "    \"hadn't\": \"had not\",\n",
    "    \"hasn't\": \"has not\",\n",
    "    \"haven't\": \"have not\",\n",
    "    \"he'd\": \"he would\",\n",
    "    \"he'll\": \"he will\",\n",
    "    \"he's\": \"he is\",\n",
    "    \"i'd\": \"i would\",\n",
    "    \"i'll\": \"i will\",\n",
    "    \"i'm\": \"i am\",\n",
    "    \"i've\": \"i have\",\n",
    "    \"isn't\": \"is not\",\n",
    "    \"it's\": \"it is\",\n",
    "    \"let's\": \"let us\",\n",
    "    \"mightn't\": \"might not\",\n",
    "    \"mustn't\": \"must not\",\n",
    "    \"shan't\": \"shall not\",\n",
    "    \"she'd\": \"she would\",\n",
    "    \"she'll\": \"she will\",\n",
    "    \"she's\": \"she is\",\n",
    "    \"shouldn't\": \"should not\",\n",
    "    \"that's\": \"that is\",\n",
    "    \"there's\": \"there is\",\n",
    "    \"they'd\": \"they would\",\n",
    "    \"they'll\": \"they will\",\n",
    "    \"they're\": \"they are\",\n",
    "    \"they've\": \"they have\",\n",
    "    \"we'd\": \"we would\",\n",
    "    \"we're\": \"we are\",\n",
    "    \"we've\": \"we have\",\n",
    "    \"weren't\": \"were not\",\n",
    "    \"what'll\": \"what will\",\n",
    "    \"what're\": \"what are\",\n",
    "    \"what's\": \"what is\",\n",
    "    \"what've\": \"what have\",\n",
    "    \"where's\": \"where is\",\n",
    "    \"who's\": \"who is\",\n",
    "    \"who'll\": \"who will\",\n",
    "    \"won't\": \"will not\",\n",
    "    \"wouldn't\": \"would not\",\n",
    "    \"you'd\": \"you would\",\n",
    "    \"you'll\": \"you will\",\n",
    "    \"you're\": \"you are\",\n",
    "    \"you've\": \"you have\"\n",
    "}\n",
    "\n",
    "def expand_contractions_tokenized(doc):\n",
    "    return [contraction_map.get(word, word) for word in doc]\n",
    "\n",
    "df['Cleaned_Document'] = df['Cleaned_Document'].apply(expand_contractions_tokenized)"
   ]
  },
  {
   "cell_type": "code",
   "execution_count": 26,
   "id": "d4549a10",
   "metadata": {
    "execution": {
     "iopub.execute_input": "2025-05-15T17:47:22.194298Z",
     "iopub.status.busy": "2025-05-15T17:47:22.193703Z",
     "iopub.status.idle": "2025-05-15T17:47:22.200483Z",
     "shell.execute_reply": "2025-05-15T17:47:22.199959Z"
    },
    "papermill": {
     "duration": 0.015691,
     "end_time": "2025-05-15T17:47:22.201461",
     "exception": false,
     "start_time": "2025-05-15T17:47:22.185770",
     "status": "completed"
    },
    "tags": []
   },
   "outputs": [
    {
     "data": {
      "text/plain": [
       "0        [connection, icon, icon, setup, icon, per, ico...\n",
       "1        [work, experience, user, work, experience, use...\n",
       "2        [requesting, meeting, requesting, meeting, fol...\n",
       "3        [reset, password, external, account, expire, d...\n",
       "4        [mail, verification, warning, got, attached, a...\n",
       "                               ...                        \n",
       "47832    [git, space, project, issue, adding, user, sen...\n",
       "47833    [error, sent, july, error, error, appearing, w...\n",
       "47834    [connection, issue, sent, tuesday, july, conne...\n",
       "47835    [error, cube, report, sent, tuesday, july, err...\n",
       "47836    [running, extension, advised, running, extensi...\n",
       "Name: Cleaned_Document, Length: 47837, dtype: object"
      ]
     },
     "execution_count": 26,
     "metadata": {},
     "output_type": "execute_result"
    }
   ],
   "source": [
    "df['Cleaned_Document'] "
   ]
  },
  {
   "cell_type": "code",
   "execution_count": 27,
   "id": "94f0727e",
   "metadata": {
    "execution": {
     "iopub.execute_input": "2025-05-15T17:47:22.216974Z",
     "iopub.status.busy": "2025-05-15T17:47:22.216755Z",
     "iopub.status.idle": "2025-05-15T17:47:23.630520Z",
     "shell.execute_reply": "2025-05-15T17:47:23.629935Z"
    },
    "papermill": {
     "duration": 1.423056,
     "end_time": "2025-05-15T17:47:23.631934",
     "exception": false,
     "start_time": "2025-05-15T17:47:22.208878",
     "status": "completed"
    },
    "tags": []
   },
   "outputs": [],
   "source": [
    "#saving dataset\n",
    "df['Cleaned_Document_Str'] = df['Cleaned_Document'].apply(lambda tokens: ' '.join(tokens))\n",
    "df.to_csv('cleaned_dataset.csv', index=False)"
   ]
  },
  {
   "cell_type": "markdown",
   "id": "f84bff82",
   "metadata": {
    "papermill": {
     "duration": 0.00764,
     "end_time": "2025-05-15T17:47:23.647657",
     "exception": false,
     "start_time": "2025-05-15T17:47:23.640017",
     "status": "completed"
    },
    "tags": []
   },
   "source": [
    "# EDA"
   ]
  },
  {
   "cell_type": "code",
   "execution_count": 28,
   "id": "b36c7761",
   "metadata": {
    "execution": {
     "iopub.execute_input": "2025-05-15T17:47:23.663636Z",
     "iopub.status.busy": "2025-05-15T17:47:23.663119Z",
     "iopub.status.idle": "2025-05-15T17:47:23.687117Z",
     "shell.execute_reply": "2025-05-15T17:47:23.686431Z"
    },
    "papermill": {
     "duration": 0.033109,
     "end_time": "2025-05-15T17:47:23.688141",
     "exception": false,
     "start_time": "2025-05-15T17:47:23.655032",
     "status": "completed"
    },
    "tags": []
   },
   "outputs": [
    {
     "name": "stdout",
     "output_type": "stream",
     "text": [
      "count    47837.000000\n",
      "mean        33.148860\n",
      "std         44.508495\n",
      "min          0.000000\n",
      "25%         12.000000\n",
      "50%         20.000000\n",
      "75%         35.000000\n",
      "max        817.000000\n",
      "Name: doc_length, dtype: float64\n"
     ]
    }
   ],
   "source": [
    "#number of tokens per document.\n",
    "df['doc_length'] = df['Cleaned_Document'].apply(len)\n",
    "print(df['doc_length'].describe())"
   ]
  },
  {
   "cell_type": "markdown",
   "id": "276712d1",
   "metadata": {
    "papermill": {
     "duration": 0.007307,
     "end_time": "2025-05-15T17:47:23.703139",
     "exception": false,
     "start_time": "2025-05-15T17:47:23.695832",
     "status": "completed"
    },
    "tags": []
   },
   "source": [
    "As we can see, there are some tickets with zero tokens, meaning they are essentially empty"
   ]
  },
  {
   "cell_type": "code",
   "execution_count": 29,
   "id": "1127718c",
   "metadata": {
    "execution": {
     "iopub.execute_input": "2025-05-15T17:47:23.719167Z",
     "iopub.status.busy": "2025-05-15T17:47:23.718661Z",
     "iopub.status.idle": "2025-05-15T17:47:23.728869Z",
     "shell.execute_reply": "2025-05-15T17:47:23.728136Z"
    },
    "papermill": {
     "duration": 0.019638,
     "end_time": "2025-05-15T17:47:23.730186",
     "exception": false,
     "start_time": "2025-05-15T17:47:23.710548",
     "status": "completed"
    },
    "tags": []
   },
   "outputs": [
    {
     "data": {
      "text/html": [
       "<div>\n",
       "<style scoped>\n",
       "    .dataframe tbody tr th:only-of-type {\n",
       "        vertical-align: middle;\n",
       "    }\n",
       "\n",
       "    .dataframe tbody tr th {\n",
       "        vertical-align: top;\n",
       "    }\n",
       "\n",
       "    .dataframe thead th {\n",
       "        text-align: right;\n",
       "    }\n",
       "</style>\n",
       "<table border=\"1\" class=\"dataframe\">\n",
       "  <thead>\n",
       "    <tr style=\"text-align: right;\">\n",
       "      <th></th>\n",
       "      <th>Document</th>\n",
       "      <th>Topic_group</th>\n",
       "      <th>Cleaned_Document</th>\n",
       "      <th>Cleaned_Document_Str</th>\n",
       "      <th>doc_length</th>\n",
       "    </tr>\n",
       "  </thead>\n",
       "  <tbody>\n",
       "    <tr>\n",
       "      <th>35590</th>\n",
       "      <td>for is down again for down again hi for down a...</td>\n",
       "      <td>Administrative rights</td>\n",
       "      <td>[]</td>\n",
       "      <td></td>\n",
       "      <td>0</td>\n",
       "    </tr>\n",
       "  </tbody>\n",
       "</table>\n",
       "</div>"
      ],
      "text/plain": [
       "                                                Document  \\\n",
       "35590  for is down again for down again hi for down a...   \n",
       "\n",
       "                 Topic_group Cleaned_Document Cleaned_Document_Str  doc_length  \n",
       "35590  Administrative rights               []                                0  "
      ]
     },
     "execution_count": 29,
     "metadata": {},
     "output_type": "execute_result"
    }
   ],
   "source": [
    "df[df['doc_length'] == 0]"
   ]
  },
  {
   "cell_type": "code",
   "execution_count": 30,
   "id": "54eaaf02",
   "metadata": {
    "execution": {
     "iopub.execute_input": "2025-05-15T17:47:23.748038Z",
     "iopub.status.busy": "2025-05-15T17:47:23.747573Z",
     "iopub.status.idle": "2025-05-15T17:47:23.757507Z",
     "shell.execute_reply": "2025-05-15T17:47:23.756724Z"
    },
    "papermill": {
     "duration": 0.019565,
     "end_time": "2025-05-15T17:47:23.758735",
     "exception": false,
     "start_time": "2025-05-15T17:47:23.739170",
     "status": "completed"
    },
    "tags": []
   },
   "outputs": [],
   "source": [
    "df = df[df['doc_length'] != 0]"
   ]
  },
  {
   "cell_type": "code",
   "execution_count": 31,
   "id": "5e2ae94d",
   "metadata": {
    "execution": {
     "iopub.execute_input": "2025-05-15T17:47:23.775532Z",
     "iopub.status.busy": "2025-05-15T17:47:23.774965Z",
     "iopub.status.idle": "2025-05-15T17:47:24.884694Z",
     "shell.execute_reply": "2025-05-15T17:47:24.883883Z"
    },
    "papermill": {
     "duration": 1.119282,
     "end_time": "2025-05-15T17:47:24.885893",
     "exception": false,
     "start_time": "2025-05-15T17:47:23.766611",
     "status": "completed"
    },
    "tags": []
   },
   "outputs": [
    {
     "name": "stdout",
     "output_type": "stream",
     "text": [
      "[('pm', 28902), ('regard', 27286), ('sent', 14717), ('issue', 14176), ('access', 13309), ('kind', 13252), ('tuesday', 10899), ('wednesday', 10429), ('error', 10152), ('thursday', 9937)]\n"
     ]
    }
   ],
   "source": [
    "from nltk.probability import FreqDist\n",
    "# Убираем NaN и взрываем списки токенов в один Series\n",
    "doc = df['Cleaned_Document'].dropna().explode()\n",
    "\n",
    "# Фильтруем только строки\n",
    "doc = doc[doc.apply(lambda x: isinstance(x, str))]\n",
    "\n",
    "# Считаем частоты\n",
    "fdist = FreqDist(doc)\n",
    "\n",
    "# Топ-10\n",
    "top10 = fdist.most_common(10)\n",
    "print(top10)"
   ]
  },
  {
   "cell_type": "code",
   "execution_count": 32,
   "id": "bcee273e",
   "metadata": {
    "execution": {
     "iopub.execute_input": "2025-05-15T17:47:24.903125Z",
     "iopub.status.busy": "2025-05-15T17:47:24.902611Z",
     "iopub.status.idle": "2025-05-15T17:47:25.057521Z",
     "shell.execute_reply": "2025-05-15T17:47:25.056738Z"
    },
    "papermill": {
     "duration": 0.164519,
     "end_time": "2025-05-15T17:47:25.058692",
     "exception": false,
     "start_time": "2025-05-15T17:47:24.894173",
     "status": "completed"
    },
    "tags": []
   },
   "outputs": [
    {
     "name": "stdout",
     "output_type": "stream",
     "text": [
      "Lexical Diversity: 0.00662\n"
     ]
    }
   ],
   "source": [
    "#lexical diversity\n",
    "total = len(doc)\n",
    "unique = len(set(doc))\n",
    "lex_div = unique / total\n",
    "print(f\"Lexical Diversity: {lex_div:.5f}\")"
   ]
  },
  {
   "cell_type": "code",
   "execution_count": 33,
   "id": "cfea4e97",
   "metadata": {
    "execution": {
     "iopub.execute_input": "2025-05-15T17:47:25.075491Z",
     "iopub.status.busy": "2025-05-15T17:47:25.074987Z",
     "iopub.status.idle": "2025-05-15T17:47:25.418128Z",
     "shell.execute_reply": "2025-05-15T17:47:25.417285Z"
    },
    "papermill": {
     "duration": 0.352728,
     "end_time": "2025-05-15T17:47:25.419419",
     "exception": false,
     "start_time": "2025-05-15T17:47:25.066691",
     "status": "completed"
    },
    "tags": []
   },
   "outputs": [
    {
     "name": "stdout",
     "output_type": "stream",
     "text": [
      "Avg. word length (mean): 6.14\n",
      "Avg. word length (median): 6.00\n"
     ]
    }
   ],
   "source": [
    "word_lengths = [len(w) for w in doc]\n",
    "print(f\"Avg. word length (mean): {np.mean(word_lengths):.2f}\")\n",
    "print(f\"Avg. word length (median): {np.median(word_lengths):.2f}\")"
   ]
  },
  {
   "cell_type": "code",
   "execution_count": 34,
   "id": "b5d98f36",
   "metadata": {
    "execution": {
     "iopub.execute_input": "2025-05-15T17:47:25.441361Z",
     "iopub.status.busy": "2025-05-15T17:47:25.441047Z",
     "iopub.status.idle": "2025-05-15T17:47:25.455891Z",
     "shell.execute_reply": "2025-05-15T17:47:25.455032Z"
    },
    "papermill": {
     "duration": 0.024998,
     "end_time": "2025-05-15T17:47:25.456988",
     "exception": false,
     "start_time": "2025-05-15T17:47:25.431990",
     "status": "completed"
    },
    "tags": []
   },
   "outputs": [
    {
     "name": "stdout",
     "output_type": "stream",
     "text": [
      "Avg. ticket length (mean): 33.15\n",
      "Avg. ticket length (median): 20.00\n"
     ]
    }
   ],
   "source": [
    "ticket_length = [len(w) for w in df['Cleaned_Document']]\n",
    "print(f\"Avg. ticket length (mean): {np.mean(ticket_length):.2f}\")\n",
    "print(f\"Avg. ticket length (median): {np.median(ticket_length):.2f}\")"
   ]
  },
  {
   "cell_type": "code",
   "execution_count": 35,
   "id": "8c3072e8",
   "metadata": {
    "execution": {
     "iopub.execute_input": "2025-05-15T17:47:25.474655Z",
     "iopub.status.busy": "2025-05-15T17:47:25.474408Z",
     "iopub.status.idle": "2025-05-15T17:47:25.817465Z",
     "shell.execute_reply": "2025-05-15T17:47:25.816746Z"
    },
    "papermill": {
     "duration": 0.353864,
     "end_time": "2025-05-15T17:47:25.818887",
     "exception": false,
     "start_time": "2025-05-15T17:47:25.465023",
     "status": "completed"
    },
    "tags": []
   },
   "outputs": [
    {
     "data": {
      "text/plain": [
       "<Axes: xlabel='Samples', ylabel='Counts'>"
      ]
     },
     "execution_count": 35,
     "metadata": {},
     "output_type": "execute_result"
    },
    {
     "data": {
      "image/png": "[encoded data removed]",
      "text/plain": [
       "<Figure size 640x480 with 1 Axes>"
      ]
     },
     "metadata": {},
     "output_type": "display_data"
    }
   ],
   "source": [
    "fdist.plot(30, cumulative=False)  "
   ]
  },
  {
   "cell_type": "code",
   "execution_count": 36,
   "id": "c302601a",
   "metadata": {
    "execution": {
     "iopub.execute_input": "2025-05-15T17:47:25.837911Z",
     "iopub.status.busy": "2025-05-15T17:47:25.837651Z",
     "iopub.status.idle": "2025-05-15T17:47:32.334431Z",
     "shell.execute_reply": "2025-05-15T17:47:32.333676Z"
    },
    "papermill": {
     "duration": 6.509763,
     "end_time": "2025-05-15T17:47:32.338068",
     "exception": false,
     "start_time": "2025-05-15T17:47:25.828305",
     "status": "completed"
    },
    "tags": []
   },
   "outputs": [
    {
     "data": {
      "image/png": "[encoded data removed]",
      "text/plain": [
       "<Figure size 640x480 with 1 Axes>"
      ]
     },
     "metadata": {},
     "output_type": "display_data"
    }
   ],
   "source": [
    "from wordcloud import WordCloud \n",
    "wc = WordCloud(width=800, height=400).generate(' '.join(doc))\n",
    "plt.imshow(wc, interpolation='bilinear')\n",
    "plt.axis('off')\n",
    "plt.show()"
   ]
  },
  {
   "cell_type": "markdown",
   "id": "458e1aee",
   "metadata": {
    "papermill": {
     "duration": 0.011599,
     "end_time": "2025-05-15T17:47:32.362351",
     "exception": false,
     "start_time": "2025-05-15T17:47:32.350752",
     "status": "completed"
    },
    "tags": []
   },
   "source": [
    "Since it's classification task, let's check ticket distribution"
   ]
  },
  {
   "cell_type": "code",
   "execution_count": 37,
   "id": "2b83a907",
   "metadata": {
    "execution": {
     "iopub.execute_input": "2025-05-15T17:47:32.387173Z",
     "iopub.status.busy": "2025-05-15T17:47:32.386363Z",
     "iopub.status.idle": "2025-05-15T17:47:32.397827Z",
     "shell.execute_reply": "2025-05-15T17:47:32.397289Z"
    },
    "papermill": {
     "duration": 0.024849,
     "end_time": "2025-05-15T17:47:32.398888",
     "exception": false,
     "start_time": "2025-05-15T17:47:32.374039",
     "status": "completed"
    },
    "tags": []
   },
   "outputs": [
    {
     "data": {
      "text/plain": [
       "count        47836\n",
       "unique           8\n",
       "top       Hardware\n",
       "freq         13617\n",
       "Name: Topic_group, dtype: object"
      ]
     },
     "execution_count": 37,
     "metadata": {},
     "output_type": "execute_result"
    }
   ],
   "source": [
    "df['Topic_group'].describe()"
   ]
  },
  {
   "cell_type": "code",
   "execution_count": 38,
   "id": "9db15f9d",
   "metadata": {
    "execution": {
     "iopub.execute_input": "2025-05-15T17:47:32.423928Z",
     "iopub.status.busy": "2025-05-15T17:47:32.423172Z",
     "iopub.status.idle": "2025-05-15T17:47:32.430595Z",
     "shell.execute_reply": "2025-05-15T17:47:32.429750Z"
    },
    "papermill": {
     "duration": 0.020966,
     "end_time": "2025-05-15T17:47:32.431702",
     "exception": false,
     "start_time": "2025-05-15T17:47:32.410736",
     "status": "completed"
    },
    "tags": []
   },
   "outputs": [
    {
     "name": "stdout",
     "output_type": "stream",
     "text": [
      "Topic_group\n",
      "Hardware                 13617\n",
      "HR Support               10915\n",
      "Access                    7125\n",
      "Miscellaneous             7060\n",
      "Storage                   2777\n",
      "Purchase                  2464\n",
      "Internal Project          2119\n",
      "Administrative rights     1759\n",
      "Name: count, dtype: int64\n"
     ]
    }
   ],
   "source": [
    "print(df['Topic_group'].value_counts())"
   ]
  },
  {
   "cell_type": "code",
   "execution_count": 39,
   "id": "979e3396",
   "metadata": {
    "execution": {
     "iopub.execute_input": "2025-05-15T17:47:32.458009Z",
     "iopub.status.busy": "2025-05-15T17:47:32.457703Z",
     "iopub.status.idle": "2025-05-15T17:47:32.593826Z",
     "shell.execute_reply": "2025-05-15T17:47:32.593031Z"
    },
    "papermill": {
     "duration": 0.15076,
     "end_time": "2025-05-15T17:47:32.594995",
     "exception": false,
     "start_time": "2025-05-15T17:47:32.444235",
     "status": "completed"
    },
    "tags": []
   },
   "outputs": [
    {
     "data": {
      "image/png": "[encoded data removed]",
      "text/plain": [
       "<Figure size 700x500 with 1 Axes>"
      ]
     },
     "metadata": {},
     "output_type": "display_data"
    }
   ],
   "source": [
    "group_counts = df['Topic_group'].value_counts()\n",
    "\n",
    "plt.figure(figsize=(7, 5))\n",
    "plt.pie(group_counts, labels=group_counts.index, autopct=\"%1.1f%%\" )\n",
    "plt.title('Distribution into groups')\n",
    "plt.show()"
   ]
  },
  {
   "cell_type": "code",
   "execution_count": 40,
   "id": "eec87561",
   "metadata": {
    "execution": {
     "iopub.execute_input": "2025-05-15T17:47:32.620997Z",
     "iopub.status.busy": "2025-05-15T17:47:32.620511Z",
     "iopub.status.idle": "2025-05-15T17:47:32.643446Z",
     "shell.execute_reply": "2025-05-15T17:47:32.642512Z"
    },
    "papermill": {
     "duration": 0.036998,
     "end_time": "2025-05-15T17:47:32.644589",
     "exception": false,
     "start_time": "2025-05-15T17:47:32.607591",
     "status": "completed"
    },
    "tags": []
   },
   "outputs": [
    {
     "name": "stdout",
     "output_type": "stream",
     "text": [
      "<class 'pandas.core.frame.DataFrame'>\n",
      "Index: 47836 entries, 0 to 47836\n",
      "Data columns (total 5 columns):\n",
      " #   Column                Non-Null Count  Dtype \n",
      "---  ------                --------------  ----- \n",
      " 0   Document              47836 non-null  object\n",
      " 1   Topic_group           47836 non-null  object\n",
      " 2   Cleaned_Document      47836 non-null  object\n",
      " 3   Cleaned_Document_Str  47836 non-null  object\n",
      " 4   doc_length            47836 non-null  int64 \n",
      "dtypes: int64(1), object(4)\n",
      "memory usage: 2.2+ MB\n"
     ]
    }
   ],
   "source": [
    "df.info()"
   ]
  },
  {
   "cell_type": "markdown",
   "id": "794d0e33",
   "metadata": {
    "papermill": {
     "duration": 0.012452,
     "end_time": "2025-05-15T17:47:32.669746",
     "exception": false,
     "start_time": "2025-05-15T17:47:32.657294",
     "status": "completed"
    },
    "tags": []
   },
   "source": [
    "# Classification"
   ]
  },
  {
   "cell_type": "markdown",
   "id": "93883bbc",
   "metadata": {
    "papermill": {
     "duration": 0.012437,
     "end_time": "2025-05-15T17:47:32.694651",
     "exception": false,
     "start_time": "2025-05-15T17:47:32.682214",
     "status": "completed"
    },
    "tags": []
   },
   "source": [
    "**note: classes are imbalanced, check the perfomance later**"
   ]
  },
  {
   "cell_type": "code",
   "execution_count": 41,
   "id": "05ff7e87",
   "metadata": {
    "execution": {
     "iopub.execute_input": "2025-05-15T17:47:32.720641Z",
     "iopub.status.busy": "2025-05-15T17:47:32.720380Z",
     "iopub.status.idle": "2025-05-15T17:47:32.729802Z",
     "shell.execute_reply": "2025-05-15T17:47:32.729172Z"
    },
    "papermill": {
     "duration": 0.023772,
     "end_time": "2025-05-15T17:47:32.730898",
     "exception": false,
     "start_time": "2025-05-15T17:47:32.707126",
     "status": "completed"
    },
    "tags": []
   },
   "outputs": [
    {
     "data": {
      "text/html": [
       "<div>\n",
       "<style scoped>\n",
       "    .dataframe tbody tr th:only-of-type {\n",
       "        vertical-align: middle;\n",
       "    }\n",
       "\n",
       "    .dataframe tbody tr th {\n",
       "        vertical-align: top;\n",
       "    }\n",
       "\n",
       "    .dataframe thead th {\n",
       "        text-align: right;\n",
       "    }\n",
       "</style>\n",
       "<table border=\"1\" class=\"dataframe\">\n",
       "  <thead>\n",
       "    <tr style=\"text-align: right;\">\n",
       "      <th></th>\n",
       "      <th>Document</th>\n",
       "      <th>Topic_group</th>\n",
       "      <th>Cleaned_Document</th>\n",
       "      <th>Cleaned_Document_Str</th>\n",
       "      <th>doc_length</th>\n",
       "    </tr>\n",
       "  </thead>\n",
       "  <tbody>\n",
       "    <tr>\n",
       "      <th>0</th>\n",
       "      <td>connection with icon icon dear please setup ic...</td>\n",
       "      <td>Hardware</td>\n",
       "      <td>[connection, icon, icon, setup, icon, per, ico...</td>\n",
       "      <td>connection icon icon setup icon per icon engin...</td>\n",
       "      <td>12</td>\n",
       "    </tr>\n",
       "    <tr>\n",
       "      <th>1</th>\n",
       "      <td>work experience user work experience user hi w...</td>\n",
       "      <td>Access</td>\n",
       "      <td>[work, experience, user, work, experience, use...</td>\n",
       "      <td>work experience user work experience user work...</td>\n",
       "      <td>14</td>\n",
       "    </tr>\n",
       "    <tr>\n",
       "      <th>2</th>\n",
       "      <td>requesting for meeting requesting meeting hi p...</td>\n",
       "      <td>Hardware</td>\n",
       "      <td>[requesting, meeting, requesting, meeting, fol...</td>\n",
       "      <td>requesting meeting requesting meeting follow e...</td>\n",
       "      <td>10</td>\n",
       "    </tr>\n",
       "    <tr>\n",
       "      <th>3</th>\n",
       "      <td>reset passwords for external accounts re expir...</td>\n",
       "      <td>Access</td>\n",
       "      <td>[reset, password, external, account, expire, d...</td>\n",
       "      <td>reset password external account expire day ask...</td>\n",
       "      <td>112</td>\n",
       "    </tr>\n",
       "    <tr>\n",
       "      <th>4</th>\n",
       "      <td>mail verification warning hi has got attached ...</td>\n",
       "      <td>Miscellaneous</td>\n",
       "      <td>[mail, verification, warning, got, attached, a...</td>\n",
       "      <td>mail verification warning got attached address...</td>\n",
       "      <td>11</td>\n",
       "    </tr>\n",
       "  </tbody>\n",
       "</table>\n",
       "</div>"
      ],
      "text/plain": [
       "                                            Document    Topic_group  \\\n",
       "0  connection with icon icon dear please setup ic...       Hardware   \n",
       "1  work experience user work experience user hi w...         Access   \n",
       "2  requesting for meeting requesting meeting hi p...       Hardware   \n",
       "3  reset passwords for external accounts re expir...         Access   \n",
       "4  mail verification warning hi has got attached ...  Miscellaneous   \n",
       "\n",
       "                                    Cleaned_Document  \\\n",
       "0  [connection, icon, icon, setup, icon, per, ico...   \n",
       "1  [work, experience, user, work, experience, use...   \n",
       "2  [requesting, meeting, requesting, meeting, fol...   \n",
       "3  [reset, password, external, account, expire, d...   \n",
       "4  [mail, verification, warning, got, attached, a...   \n",
       "\n",
       "                                Cleaned_Document_Str  doc_length  \n",
       "0  connection icon icon setup icon per icon engin...          12  \n",
       "1  work experience user work experience user work...          14  \n",
       "2  requesting meeting requesting meeting follow e...          10  \n",
       "3  reset password external account expire day ask...         112  \n",
       "4  mail verification warning got attached address...          11  "
      ]
     },
     "execution_count": 41,
     "metadata": {},
     "output_type": "execute_result"
    }
   ],
   "source": [
    "df.head()"
   ]
  },
  {
   "cell_type": "code",
   "execution_count": 42,
   "id": "fe6164df",
   "metadata": {
    "execution": {
     "iopub.execute_input": "2025-05-15T17:47:32.759990Z",
     "iopub.status.busy": "2025-05-15T17:47:32.759299Z",
     "iopub.status.idle": "2025-05-15T17:47:32.766508Z",
     "shell.execute_reply": "2025-05-15T17:47:32.765954Z"
    },
    "papermill": {
     "duration": 0.022917,
     "end_time": "2025-05-15T17:47:32.767684",
     "exception": false,
     "start_time": "2025-05-15T17:47:32.744767",
     "status": "completed"
    },
    "tags": []
   },
   "outputs": [
    {
     "data": {
      "text/plain": [
       "array(['Hardware', 'Access', 'Miscellaneous', 'HR Support', 'Purchase',\n",
       "       'Administrative rights', 'Storage', 'Internal Project'],\n",
       "      dtype=object)"
      ]
     },
     "execution_count": 42,
     "metadata": {},
     "output_type": "execute_result"
    }
   ],
   "source": [
    "df['Topic_group'].unique()"
   ]
  },
  {
   "cell_type": "code",
   "execution_count": 43,
   "id": "bee2a2d6",
   "metadata": {
    "execution": {
     "iopub.execute_input": "2025-05-15T17:47:32.794198Z",
     "iopub.status.busy": "2025-05-15T17:47:32.793587Z",
     "iopub.status.idle": "2025-05-15T17:47:35.417275Z",
     "shell.execute_reply": "2025-05-15T17:47:35.416287Z"
    },
    "papermill": {
     "duration": 2.638574,
     "end_time": "2025-05-15T17:47:35.418930",
     "exception": false,
     "start_time": "2025-05-15T17:47:32.780356",
     "status": "completed"
    },
    "tags": []
   },
   "outputs": [],
   "source": [
    "#TF-IDF\n",
    "from sklearn.feature_extraction.text import TfidfVectorizer\n",
    "\n",
    "vectorizer = TfidfVectorizer(min_df=5, max_df=0.8, ngram_range=(1,2))\n",
    "X = vectorizer.fit_transform(df['Cleaned_Document_Str'])"
   ]
  },
  {
   "cell_type": "code",
   "execution_count": 44,
   "id": "e40dace3",
   "metadata": {
    "execution": {
     "iopub.execute_input": "2025-05-15T17:47:35.445778Z",
     "iopub.status.busy": "2025-05-15T17:47:35.445129Z",
     "iopub.status.idle": "2025-05-15T17:47:35.455743Z",
     "shell.execute_reply": "2025-05-15T17:47:35.455205Z"
    },
    "papermill": {
     "duration": 0.024791,
     "end_time": "2025-05-15T17:47:35.456789",
     "exception": false,
     "start_time": "2025-05-15T17:47:35.431998",
     "status": "completed"
    },
    "tags": []
   },
   "outputs": [],
   "source": [
    "#encoding target variable\n",
    "from sklearn.preprocessing import LabelEncoder\n",
    "\n",
    "le = LabelEncoder()\n",
    "y = le.fit_transform(df['Topic_group'])"
   ]
  },
  {
   "cell_type": "markdown",
   "id": "d573c0cc",
   "metadata": {
    "papermill": {
     "duration": 0.01245,
     "end_time": "2025-05-15T17:47:35.481994",
     "exception": false,
     "start_time": "2025-05-15T17:47:35.469544",
     "status": "completed"
    },
    "tags": []
   },
   "source": [
    "## Logistic Regression"
   ]
  },
  {
   "cell_type": "code",
   "execution_count": 45,
   "id": "33db2df8",
   "metadata": {
    "execution": {
     "iopub.execute_input": "2025-05-15T17:47:35.507862Z",
     "iopub.status.busy": "2025-05-15T17:47:35.507598Z",
     "iopub.status.idle": "2025-05-15T17:47:35.511046Z",
     "shell.execute_reply": "2025-05-15T17:47:35.510518Z"
    },
    "papermill": {
     "duration": 0.017537,
     "end_time": "2025-05-15T17:47:35.512024",
     "exception": false,
     "start_time": "2025-05-15T17:47:35.494487",
     "status": "completed"
    },
    "tags": []
   },
   "outputs": [],
   "source": [
    "from sklearn.linear_model import LogisticRegression\n",
    "from sklearn.model_selection import train_test_split\n",
    "from sklearn.metrics import classification_report"
   ]
  },
  {
   "cell_type": "code",
   "execution_count": 46,
   "id": "7aeab2fe",
   "metadata": {
    "execution": {
     "iopub.execute_input": "2025-05-15T17:47:35.539720Z",
     "iopub.status.busy": "2025-05-15T17:47:35.539110Z",
     "iopub.status.idle": "2025-05-15T17:48:00.788959Z",
     "shell.execute_reply": "2025-05-15T17:48:00.788289Z"
    },
    "papermill": {
     "duration": 25.268114,
     "end_time": "2025-05-15T17:48:00.793055",
     "exception": false,
     "start_time": "2025-05-15T17:47:35.524941",
     "status": "completed"
    },
    "tags": []
   },
   "outputs": [
    {
     "name": "stdout",
     "output_type": "stream",
     "text": [
      "              precision    recall  f1-score   support\n",
      "\n",
      "           0       0.92      0.87      0.89      1468\n",
      "           1       0.91      0.64      0.75       331\n",
      "           2       0.85      0.85      0.85      2110\n",
      "           3       0.79      0.90      0.84      2761\n",
      "           4       0.92      0.78      0.84       448\n",
      "           5       0.83      0.84      0.83      1397\n",
      "           6       0.98      0.87      0.92       499\n",
      "           7       0.94      0.82      0.88       554\n",
      "\n",
      "    accuracy                           0.85      9568\n",
      "   macro avg       0.89      0.82      0.85      9568\n",
      "weighted avg       0.86      0.85      0.85      9568\n",
      "\n"
     ]
    }
   ],
   "source": [
    "X_train, X_test, y_train, y_test = train_test_split(X, y, test_size=0.2, random_state=42)\n",
    "clf = LogisticRegression(max_iter=1000)\n",
    "clf.fit(X_train, y_train)\n",
    "preds = clf.predict(X_test)\n",
    "print(classification_report(y_test, preds))"
   ]
  },
  {
   "cell_type": "markdown",
   "id": "05eaa81b",
   "metadata": {
    "papermill": {
     "duration": 0.026554,
     "end_time": "2025-05-15T17:48:00.863188",
     "exception": false,
     "start_time": "2025-05-15T17:48:00.836634",
     "status": "completed"
    },
    "tags": []
   },
   "source": [
    "## Decision Trees / Random Forest / XGBoost:"
   ]
  },
  {
   "cell_type": "code",
   "execution_count": 47,
   "id": "3e57e49a",
   "metadata": {
    "execution": {
     "iopub.execute_input": "2025-05-15T17:48:00.899108Z",
     "iopub.status.busy": "2025-05-15T17:48:00.898593Z",
     "iopub.status.idle": "2025-05-15T17:49:54.685356Z",
     "shell.execute_reply": "2025-05-15T17:49:54.684517Z"
    },
    "papermill": {
     "duration": 113.814785,
     "end_time": "2025-05-15T17:49:54.699616",
     "exception": false,
     "start_time": "2025-05-15T17:48:00.884831",
     "status": "completed"
    },
    "tags": []
   },
   "outputs": [
    {
     "name": "stdout",
     "output_type": "stream",
     "text": [
      "              precision    recall  f1-score   support\n",
      "\n",
      "           0       0.90      0.85      0.88      1468\n",
      "           1       0.91      0.62      0.74       331\n",
      "           2       0.84      0.86      0.85      2110\n",
      "           3       0.77      0.89      0.83      2761\n",
      "           4       0.93      0.78      0.85       448\n",
      "           5       0.84      0.78      0.81      1397\n",
      "           6       0.98      0.86      0.92       499\n",
      "           7       0.93      0.77      0.84       554\n",
      "\n",
      "    accuracy                           0.84      9568\n",
      "   macro avg       0.89      0.80      0.84      9568\n",
      "weighted avg       0.85      0.84      0.84      9568\n",
      "\n"
     ]
    }
   ],
   "source": [
    "from sklearn.ensemble import RandomForestClassifier\n",
    "\n",
    "rf_clf = RandomForestClassifier(random_state=42)\n",
    "rf_clf.fit(X_train, y_train)\n",
    "rf_preds = rf_clf.predict(X_test)\n",
    "print(classification_report(y_test, rf_preds))"
   ]
  },
  {
   "cell_type": "markdown",
   "id": "3ffb28d3",
   "metadata": {
    "papermill": {
     "duration": 0.012516,
     "end_time": "2025-05-15T17:49:54.724707",
     "exception": false,
     "start_time": "2025-05-15T17:49:54.712191",
     "status": "completed"
    },
    "tags": []
   },
   "source": [
    "## RNN"
   ]
  },
  {
   "cell_type": "markdown",
   "id": "c10316bd",
   "metadata": {
    "papermill": {
     "duration": 0.012175,
     "end_time": "2025-05-15T17:49:54.749592",
     "exception": false,
     "start_time": "2025-05-15T17:49:54.737417",
     "status": "completed"
    },
    "tags": []
   },
   "source": [
    "## BERT"
   ]
  }
 ],
 "metadata": {
  "kaggle": {
   "accelerator": "nvidiaTeslaT4",
   "dataSources": [
    {
     "datasetId": 4460055,
     "sourceId": 7650678,
     "sourceType": "datasetVersion"
    }
   ],
   "dockerImageVersionId": 31012,
   "isGpuEnabled": true,
   "isInternetEnabled": false,
   "language": "python",
   "sourceType": "notebook"
  },
  "kernelspec": {
   "display_name": "Python 3",
   "language": "python",
   "name": "python3"
  },
  "language_info": {
   "codemirror_mode": {
    "name": "ipython",
    "version": 3
   },
   "file_extension": ".py",
   "mimetype": "text/x-python",
   "name": "python",
   "nbconvert_exporter": "python",
   "pygments_lexer": "ipython3",
   "version": "3.11.11"
  },
  "papermill": {
   "default_parameters": {},
   "duration": 184.92022,
   "end_time": "2025-05-15T17:49:56.283080",
   "environment_variables": {},
   "exception": null,
   "input_path": "__notebook__.ipynb",
   "output_path": "__notebook__.ipynb",
   "parameters": {},
   "start_time": "2025-05-15T17:46:51.362860",
   "version": "2.6.0"
  }
 },
 "nbformat": 4,
 "nbformat_minor": 5
}
