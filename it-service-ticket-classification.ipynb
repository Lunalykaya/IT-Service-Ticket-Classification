{
 "cells": [
  {
   "cell_type": "code",
   "execution_count": 1,
   "id": "a5c76966",
   "metadata": {
    "_cell_guid": "b1076dfc-b9ad-4769-8c92-a6c4dae69d19",
    "_uuid": "8f2839f25d086af736a60e9eeb907d3b93b6e0e5",
    "execution": {
     "iopub.execute_input": "2025-05-31T19:06:52.302971Z",
     "iopub.status.busy": "2025-05-31T19:06:52.302630Z",
     "iopub.status.idle": "2025-05-31T19:06:54.397646Z",
     "shell.execute_reply": "2025-05-31T19:06:54.396217Z"
    },
    "papermill": {
     "duration": 2.111937,
     "end_time": "2025-05-31T19:06:54.399363",
     "exception": false,
     "start_time": "2025-05-31T19:06:52.287426",
     "status": "completed"
    },
    "tags": []
   },
   "outputs": [
    {
     "name": "stdout",
     "output_type": "stream",
     "text": [
      "/kaggle/input/it-service-ticket-classification-dataset/all_tickets_processed_improved_v3.csv\n"
     ]
    }
   ],
   "source": [
    "# This Python 3 environment comes with many helpful analytics libraries installed\n",
    "# It is defined by the kaggle/python Docker image: https://github.com/kaggle/docker-python\n",
    "# For example, here's several helpful packages to load\n",
    "\n",
    "import numpy as np # linear algebra\n",
    "import pandas as pd # data processing, CSV file I/O (e.g. pd.read_csv)\n",
    "\n",
    "# Input data files are available in the read-only \"../input/\" directory\n",
    "# For example, running this (by clicking run or pressing Shift+Enter) will list all files under the input directory\n",
    "\n",
    "import os\n",
    "for dirname, _, filenames in os.walk('/kaggle/input'):\n",
    "    for filename in filenames:\n",
    "        print(os.path.join(dirname, filename))\n",
    "\n",
    "# You can write up to 20GB to the current directory (/kaggle/working/) that gets preserved as output when you create a version using \"Save & Run All\" \n",
    "# You can also write temporary files to /kaggle/temp/, but they won't be saved outside of the current session"
   ]
  },
  {
   "cell_type": "markdown",
   "id": "a69643ae",
   "metadata": {
    "papermill": {
     "duration": 0.011457,
     "end_time": "2025-05-31T19:06:54.423085",
     "exception": false,
     "start_time": "2025-05-31T19:06:54.411628",
     "status": "completed"
    },
    "tags": []
   },
   "source": [
    "# Loading data"
   ]
  },
  {
   "cell_type": "code",
   "execution_count": 2,
   "id": "8d889a73",
   "metadata": {
    "execution": {
     "iopub.execute_input": "2025-05-31T19:06:54.448840Z",
     "iopub.status.busy": "2025-05-31T19:06:54.448435Z",
     "iopub.status.idle": "2025-05-31T19:06:54.453452Z",
     "shell.execute_reply": "2025-05-31T19:06:54.452583Z"
    },
    "papermill": {
     "duration": 0.019964,
     "end_time": "2025-05-31T19:06:54.455109",
     "exception": false,
     "start_time": "2025-05-31T19:06:54.435145",
     "status": "completed"
    },
    "tags": []
   },
   "outputs": [],
   "source": [
    "import pandas as pd\n",
    "import numpy as np\n",
    "import matplotlib.pyplot as plt "
   ]
  },
  {
   "cell_type": "code",
   "execution_count": 3,
   "id": "d508373b",
   "metadata": {
    "execution": {
     "iopub.execute_input": "2025-05-31T19:06:54.482290Z",
     "iopub.status.busy": "2025-05-31T19:06:54.480941Z",
     "iopub.status.idle": "2025-05-31T19:06:55.310450Z",
     "shell.execute_reply": "2025-05-31T19:06:55.309069Z"
    },
    "papermill": {
     "duration": 0.845617,
     "end_time": "2025-05-31T19:06:55.312439",
     "exception": false,
     "start_time": "2025-05-31T19:06:54.466822",
     "status": "completed"
    },
    "tags": []
   },
   "outputs": [
    {
     "name": "stdout",
     "output_type": "stream",
     "text": [
      "Path to dataset files: /kaggle/input/it-service-ticket-classification-dataset\n"
     ]
    }
   ],
   "source": [
    "import kagglehub\n",
    "\n",
    "# Download latest version\n",
    "path = kagglehub.dataset_download(\"adisongoh/it-service-ticket-classification-dataset\")\n",
    "\n",
    "print(\"Path to dataset files:\", path)"
   ]
  },
  {
   "cell_type": "code",
   "execution_count": 4,
   "id": "92b01e4d",
   "metadata": {
    "execution": {
     "iopub.execute_input": "2025-05-31T19:06:55.338880Z",
     "iopub.status.busy": "2025-05-31T19:06:55.338571Z",
     "iopub.status.idle": "2025-05-31T19:06:55.693411Z",
     "shell.execute_reply": "2025-05-31T19:06:55.692277Z"
    },
    "papermill": {
     "duration": 0.370001,
     "end_time": "2025-05-31T19:06:55.695505",
     "exception": false,
     "start_time": "2025-05-31T19:06:55.325504",
     "status": "completed"
    },
    "tags": []
   },
   "outputs": [],
   "source": [
    "#reading df\n",
    "df = pd.read_csv('/kaggle/input/it-service-ticket-classification-dataset/all_tickets_processed_improved_v3.csv')"
   ]
  },
  {
   "cell_type": "code",
   "execution_count": 5,
   "id": "8b9f1392",
   "metadata": {
    "execution": {
     "iopub.execute_input": "2025-05-31T19:06:55.720122Z",
     "iopub.status.busy": "2025-05-31T19:06:55.719750Z",
     "iopub.status.idle": "2025-05-31T19:06:55.769240Z",
     "shell.execute_reply": "2025-05-31T19:06:55.767969Z"
    },
    "papermill": {
     "duration": 0.064326,
     "end_time": "2025-05-31T19:06:55.771635",
     "exception": false,
     "start_time": "2025-05-31T19:06:55.707309",
     "status": "completed"
    },
    "tags": []
   },
   "outputs": [
    {
     "name": "stdout",
     "output_type": "stream",
     "text": [
      "<class 'pandas.core.frame.DataFrame'>\n",
      "RangeIndex: 47837 entries, 0 to 47836\n",
      "Data columns (total 2 columns):\n",
      " #   Column       Non-Null Count  Dtype \n",
      "---  ------       --------------  ----- \n",
      " 0   Document     47837 non-null  object\n",
      " 1   Topic_group  47837 non-null  object\n",
      "dtypes: object(2)\n",
      "memory usage: 747.6+ KB\n"
     ]
    }
   ],
   "source": [
    "df.info()"
   ]
  },
  {
   "cell_type": "code",
   "execution_count": 6,
   "id": "e45a33c4",
   "metadata": {
    "execution": {
     "iopub.execute_input": "2025-05-31T19:06:55.797568Z",
     "iopub.status.busy": "2025-05-31T19:06:55.797229Z",
     "iopub.status.idle": "2025-05-31T19:06:55.821365Z",
     "shell.execute_reply": "2025-05-31T19:06:55.820289Z"
    },
    "papermill": {
     "duration": 0.038753,
     "end_time": "2025-05-31T19:06:55.823013",
     "exception": false,
     "start_time": "2025-05-31T19:06:55.784260",
     "status": "completed"
    },
    "tags": []
   },
   "outputs": [
    {
     "data": {
      "text/html": [
       "<div>\n",
       "<style scoped>\n",
       "    .dataframe tbody tr th:only-of-type {\n",
       "        vertical-align: middle;\n",
       "    }\n",
       "\n",
       "    .dataframe tbody tr th {\n",
       "        vertical-align: top;\n",
       "    }\n",
       "\n",
       "    .dataframe thead th {\n",
       "        text-align: right;\n",
       "    }\n",
       "</style>\n",
       "<table border=\"1\" class=\"dataframe\">\n",
       "  <thead>\n",
       "    <tr style=\"text-align: right;\">\n",
       "      <th></th>\n",
       "      <th>Document</th>\n",
       "      <th>Topic_group</th>\n",
       "    </tr>\n",
       "  </thead>\n",
       "  <tbody>\n",
       "    <tr>\n",
       "      <th>0</th>\n",
       "      <td>connection with icon icon dear please setup ic...</td>\n",
       "      <td>Hardware</td>\n",
       "    </tr>\n",
       "    <tr>\n",
       "      <th>1</th>\n",
       "      <td>work experience user work experience user hi w...</td>\n",
       "      <td>Access</td>\n",
       "    </tr>\n",
       "    <tr>\n",
       "      <th>2</th>\n",
       "      <td>requesting for meeting requesting meeting hi p...</td>\n",
       "      <td>Hardware</td>\n",
       "    </tr>\n",
       "    <tr>\n",
       "      <th>3</th>\n",
       "      <td>reset passwords for external accounts re expir...</td>\n",
       "      <td>Access</td>\n",
       "    </tr>\n",
       "    <tr>\n",
       "      <th>4</th>\n",
       "      <td>mail verification warning hi has got attached ...</td>\n",
       "      <td>Miscellaneous</td>\n",
       "    </tr>\n",
       "  </tbody>\n",
       "</table>\n",
       "</div>"
      ],
      "text/plain": [
       "                                            Document    Topic_group\n",
       "0  connection with icon icon dear please setup ic...       Hardware\n",
       "1  work experience user work experience user hi w...         Access\n",
       "2  requesting for meeting requesting meeting hi p...       Hardware\n",
       "3  reset passwords for external accounts re expir...         Access\n",
       "4  mail verification warning hi has got attached ...  Miscellaneous"
      ]
     },
     "execution_count": 6,
     "metadata": {},
     "output_type": "execute_result"
    }
   ],
   "source": [
    "#quick preview of the df\n",
    "df.head()"
   ]
  },
  {
   "cell_type": "code",
   "execution_count": 7,
   "id": "b5f35423",
   "metadata": {
    "execution": {
     "iopub.execute_input": "2025-05-31T19:06:55.858608Z",
     "iopub.status.busy": "2025-05-31T19:06:55.858303Z",
     "iopub.status.idle": "2025-05-31T19:06:55.871180Z",
     "shell.execute_reply": "2025-05-31T19:06:55.869731Z"
    },
    "papermill": {
     "duration": 0.037508,
     "end_time": "2025-05-31T19:06:55.872926",
     "exception": false,
     "start_time": "2025-05-31T19:06:55.835418",
     "status": "completed"
    },
    "tags": []
   },
   "outputs": [
    {
     "data": {
      "text/plain": [
       "array(['Hardware', 'Access', 'Miscellaneous', 'HR Support', 'Purchase',\n",
       "       'Administrative rights', 'Storage', 'Internal Project'],\n",
       "      dtype=object)"
      ]
     },
     "execution_count": 7,
     "metadata": {},
     "output_type": "execute_result"
    }
   ],
   "source": [
    "#viewing unique values (categories) in Topic_group\n",
    "df['Topic_group'].nunique()\n",
    "df['Topic_group'].unique()"
   ]
  },
  {
   "cell_type": "code",
   "execution_count": 8,
   "id": "96ef4520",
   "metadata": {
    "execution": {
     "iopub.execute_input": "2025-05-31T19:06:55.900554Z",
     "iopub.status.busy": "2025-05-31T19:06:55.900258Z",
     "iopub.status.idle": "2025-05-31T19:06:55.919320Z",
     "shell.execute_reply": "2025-05-31T19:06:55.917688Z"
    },
    "papermill": {
     "duration": 0.034035,
     "end_time": "2025-05-31T19:06:55.920983",
     "exception": false,
     "start_time": "2025-05-31T19:06:55.886948",
     "status": "completed"
    },
    "tags": []
   },
   "outputs": [
    {
     "data": {
      "text/plain": [
       "Document       0\n",
       "Topic_group    0\n",
       "dtype: int64"
      ]
     },
     "execution_count": 8,
     "metadata": {},
     "output_type": "execute_result"
    }
   ],
   "source": [
    "#checking na\n",
    "df.isnull().sum()"
   ]
  },
  {
   "cell_type": "code",
   "execution_count": 9,
   "id": "6eea4808",
   "metadata": {
    "execution": {
     "iopub.execute_input": "2025-05-31T19:06:55.949106Z",
     "iopub.status.busy": "2025-05-31T19:06:55.948711Z",
     "iopub.status.idle": "2025-05-31T19:06:56.008146Z",
     "shell.execute_reply": "2025-05-31T19:06:56.007049Z"
    },
    "papermill": {
     "duration": 0.075724,
     "end_time": "2025-05-31T19:06:56.009834",
     "exception": false,
     "start_time": "2025-05-31T19:06:55.934110",
     "status": "completed"
    },
    "tags": []
   },
   "outputs": [
    {
     "data": {
      "text/plain": [
       "0"
      ]
     },
     "execution_count": 9,
     "metadata": {},
     "output_type": "execute_result"
    }
   ],
   "source": [
    "#checking duplicates\n",
    "df.duplicated().sum()"
   ]
  },
  {
   "cell_type": "markdown",
   "id": "03168a17",
   "metadata": {
    "papermill": {
     "duration": 0.011798,
     "end_time": "2025-05-31T19:06:56.033593",
     "exception": false,
     "start_time": "2025-05-31T19:06:56.021795",
     "status": "completed"
    },
    "tags": []
   },
   "source": [
    "# Text Preprocessing"
   ]
  },
  {
   "cell_type": "code",
   "execution_count": 10,
   "id": "b0d06620",
   "metadata": {
    "execution": {
     "iopub.execute_input": "2025-05-31T19:06:56.059400Z",
     "iopub.status.busy": "2025-05-31T19:06:56.059120Z",
     "iopub.status.idle": "2025-05-31T19:06:56.422559Z",
     "shell.execute_reply": "2025-05-31T19:06:56.421391Z"
    },
    "papermill": {
     "duration": 0.378696,
     "end_time": "2025-05-31T19:06:56.424284",
     "exception": false,
     "start_time": "2025-05-31T19:06:56.045588",
     "status": "completed"
    },
    "tags": []
   },
   "outputs": [],
   "source": [
    "import re\n",
    "import string\n",
    "from bs4 import BeautifulSoup"
   ]
  },
  {
   "cell_type": "code",
   "execution_count": 11,
   "id": "fde92306",
   "metadata": {
    "execution": {
     "iopub.execute_input": "2025-05-31T19:06:56.449809Z",
     "iopub.status.busy": "2025-05-31T19:06:56.449383Z",
     "iopub.status.idle": "2025-05-31T19:06:56.455009Z",
     "shell.execute_reply": "2025-05-31T19:06:56.454022Z"
    },
    "papermill": {
     "duration": 0.020238,
     "end_time": "2025-05-31T19:06:56.456610",
     "exception": false,
     "start_time": "2025-05-31T19:06:56.436372",
     "status": "completed"
    },
    "tags": []
   },
   "outputs": [],
   "source": [
    "def cleaned_text (text):\n",
    "    text = text.lower() #converting to lower case\n",
    "    text = re.sub(r'\\d+', '', text) #removing numbers\n",
    "    text = text.translate(str.maketrans('', '', string.punctuation)) \n",
    "    #removing punctuation\n",
    "    text = re.sub(r'\\W', ' ', text) #removing special characters\n",
    "    text = BeautifulSoup(text, \"html.parser\").get_text() #removing HTML tags\n",
    "    return text"
   ]
  },
  {
   "cell_type": "code",
   "execution_count": 12,
   "id": "7ed5cafa",
   "metadata": {
    "execution": {
     "iopub.execute_input": "2025-05-31T19:06:56.482008Z",
     "iopub.status.busy": "2025-05-31T19:06:56.481683Z",
     "iopub.status.idle": "2025-05-31T19:06:59.870063Z",
     "shell.execute_reply": "2025-05-31T19:06:59.869287Z"
    },
    "papermill": {
     "duration": 3.40309,
     "end_time": "2025-05-31T19:06:59.871812",
     "exception": false,
     "start_time": "2025-05-31T19:06:56.468722",
     "status": "completed"
    },
    "tags": []
   },
   "outputs": [],
   "source": [
    "df['Cleaned_Document'] = df['Document'].apply(cleaned_text)"
   ]
  },
  {
   "cell_type": "code",
   "execution_count": 13,
   "id": "78c0eef5",
   "metadata": {
    "execution": {
     "iopub.execute_input": "2025-05-31T19:06:59.965286Z",
     "iopub.status.busy": "2025-05-31T19:06:59.964946Z",
     "iopub.status.idle": "2025-05-31T19:07:02.690442Z",
     "shell.execute_reply": "2025-05-31T19:07:02.689368Z"
    },
    "papermill": {
     "duration": 2.741495,
     "end_time": "2025-05-31T19:07:02.692200",
     "exception": false,
     "start_time": "2025-05-31T19:06:59.950705",
     "status": "completed"
    },
    "tags": []
   },
   "outputs": [],
   "source": [
    "import nltk\n",
    "\n",
    "#specifying the path to the already downloaded punkt dataset and other packages\n",
    "nltk.data.path.append('/kaggle/input/nltk-datasets/nltk_data')"
   ]
  },
  {
   "cell_type": "code",
   "execution_count": 14,
   "id": "44de11c7",
   "metadata": {
    "execution": {
     "iopub.execute_input": "2025-05-31T19:07:02.718524Z",
     "iopub.status.busy": "2025-05-31T19:07:02.717884Z",
     "iopub.status.idle": "2025-05-31T19:07:02.723175Z",
     "shell.execute_reply": "2025-05-31T19:07:02.722004Z"
    },
    "papermill": {
     "duration": 0.020049,
     "end_time": "2025-05-31T19:07:02.724834",
     "exception": false,
     "start_time": "2025-05-31T19:07:02.704785",
     "status": "completed"
    },
    "tags": []
   },
   "outputs": [],
   "source": [
    "from nltk.tokenize import word_tokenize"
   ]
  },
  {
   "cell_type": "code",
   "execution_count": 15,
   "id": "e9c35939",
   "metadata": {
    "execution": {
     "iopub.execute_input": "2025-05-31T19:07:02.750951Z",
     "iopub.status.busy": "2025-05-31T19:07:02.750566Z",
     "iopub.status.idle": "2025-05-31T19:07:12.038520Z",
     "shell.execute_reply": "2025-05-31T19:07:12.037360Z"
    },
    "papermill": {
     "duration": 9.303154,
     "end_time": "2025-05-31T19:07:12.040450",
     "exception": false,
     "start_time": "2025-05-31T19:07:02.737296",
     "status": "completed"
    },
    "tags": []
   },
   "outputs": [],
   "source": [
    "#splitting text into words\n",
    "df['Cleaned_Document'] = df['Cleaned_Document'].apply(word_tokenize)"
   ]
  },
  {
   "cell_type": "code",
   "execution_count": 16,
   "id": "b41854dd",
   "metadata": {
    "execution": {
     "iopub.execute_input": "2025-05-31T19:07:12.066917Z",
     "iopub.status.busy": "2025-05-31T19:07:12.066550Z",
     "iopub.status.idle": "2025-05-31T19:07:12.076353Z",
     "shell.execute_reply": "2025-05-31T19:07:12.075473Z"
    },
    "papermill": {
     "duration": 0.0252,
     "end_time": "2025-05-31T19:07:12.078243",
     "exception": false,
     "start_time": "2025-05-31T19:07:12.053043",
     "status": "completed"
    },
    "tags": []
   },
   "outputs": [
    {
     "data": {
      "text/plain": [
       "0        [connection, with, icon, icon, dear, please, s...\n",
       "1        [work, experience, user, work, experience, use...\n",
       "2        [requesting, for, meeting, requesting, meeting...\n",
       "3        [reset, passwords, for, external, accounts, re...\n",
       "4        [mail, verification, warning, hi, has, got, at...\n",
       "                               ...                        \n",
       "47832    [git, space, for, a, project, issues, with, ad...\n",
       "47833    [error, sent, july, error, hi, guys, can, you,...\n",
       "47834    [connection, issues, sent, tuesday, july, conn...\n",
       "47835    [error, cube, reports, sent, tuesday, july, er...\n",
       "47836    [running, out, on, extensions, hello, please, ...\n",
       "Name: Cleaned_Document, Length: 47837, dtype: object"
      ]
     },
     "execution_count": 16,
     "metadata": {},
     "output_type": "execute_result"
    }
   ],
   "source": [
    "df['Cleaned_Document']"
   ]
  },
  {
   "cell_type": "code",
   "execution_count": 17,
   "id": "a947fe3b",
   "metadata": {
    "execution": {
     "iopub.execute_input": "2025-05-31T19:07:12.104471Z",
     "iopub.status.busy": "2025-05-31T19:07:12.104119Z",
     "iopub.status.idle": "2025-05-31T19:07:12.114521Z",
     "shell.execute_reply": "2025-05-31T19:07:12.113230Z"
    },
    "papermill": {
     "duration": 0.025522,
     "end_time": "2025-05-31T19:07:12.116125",
     "exception": false,
     "start_time": "2025-05-31T19:07:12.090603",
     "status": "completed"
    },
    "tags": []
   },
   "outputs": [
    {
     "name": "stdout",
     "output_type": "stream",
     "text": [
      "198\n"
     ]
    }
   ],
   "source": [
    "#removing stop-words\n",
    "from nltk.corpus import stopwords\n",
    "stop_words = set(stopwords.words('english'))\n",
    "print(len(stop_words)) #checking that stop-words are downloaded"
   ]
  },
  {
   "cell_type": "code",
   "execution_count": 18,
   "id": "8223aab4",
   "metadata": {
    "execution": {
     "iopub.execute_input": "2025-05-31T19:07:12.143097Z",
     "iopub.status.busy": "2025-05-31T19:07:12.142661Z",
     "iopub.status.idle": "2025-05-31T19:07:12.422568Z",
     "shell.execute_reply": "2025-05-31T19:07:12.421515Z"
    },
    "papermill": {
     "duration": 0.295395,
     "end_time": "2025-05-31T19:07:12.424493",
     "exception": false,
     "start_time": "2025-05-31T19:07:12.129098",
     "status": "completed"
    },
    "tags": []
   },
   "outputs": [],
   "source": [
    "df['Cleaned_Document'] = df['Cleaned_Document'].apply(\n",
    "    lambda toks: [w for w in toks if w not in stop_words]\n",
    ")"
   ]
  },
  {
   "cell_type": "code",
   "execution_count": 19,
   "id": "2fa80760",
   "metadata": {
    "execution": {
     "iopub.execute_input": "2025-05-31T19:07:12.450772Z",
     "iopub.status.busy": "2025-05-31T19:07:12.450461Z",
     "iopub.status.idle": "2025-05-31T19:07:12.460100Z",
     "shell.execute_reply": "2025-05-31T19:07:12.459069Z"
    },
    "papermill": {
     "duration": 0.024716,
     "end_time": "2025-05-31T19:07:12.461830",
     "exception": false,
     "start_time": "2025-05-31T19:07:12.437114",
     "status": "completed"
    },
    "tags": []
   },
   "outputs": [
    {
     "data": {
      "text/plain": [
       "0        [connection, icon, icon, dear, please, setup, ...\n",
       "1        [work, experience, user, work, experience, use...\n",
       "2        [requesting, meeting, requesting, meeting, hi,...\n",
       "3        [reset, passwords, external, accounts, expire,...\n",
       "4        [mail, verification, warning, hi, got, attache...\n",
       "                               ...                        \n",
       "47832    [git, space, project, issues, adding, users, s...\n",
       "47833    [error, sent, july, error, hi, guys, help, err...\n",
       "47834    [connection, issues, sent, tuesday, july, conn...\n",
       "47835    [error, cube, reports, sent, tuesday, july, er...\n",
       "47836    [running, extensions, hello, please, advised, ...\n",
       "Name: Cleaned_Document, Length: 47837, dtype: object"
      ]
     },
     "execution_count": 19,
     "metadata": {},
     "output_type": "execute_result"
    }
   ],
   "source": [
    "df['Cleaned_Document']"
   ]
  },
  {
   "cell_type": "code",
   "execution_count": 20,
   "id": "ce68545c",
   "metadata": {
    "execution": {
     "iopub.execute_input": "2025-05-31T19:07:12.489075Z",
     "iopub.status.busy": "2025-05-31T19:07:12.488720Z",
     "iopub.status.idle": "2025-05-31T19:07:23.303353Z",
     "shell.execute_reply": "2025-05-31T19:07:23.302219Z"
    },
    "papermill": {
     "duration": 10.830602,
     "end_time": "2025-05-31T19:07:23.305234",
     "exception": false,
     "start_time": "2025-05-31T19:07:12.474632",
     "status": "completed"
    },
    "tags": []
   },
   "outputs": [],
   "source": [
    "#lemmatization\n",
    "from nltk.stem import PorterStemmer, WordNetLemmatizer\n",
    "lemmatizer = WordNetLemmatizer()\n",
    "df['Cleaned_Document'] = df['Cleaned_Document'].apply(lambda doc: [lemmatizer.lemmatize(word) for word in doc])"
   ]
  },
  {
   "cell_type": "code",
   "execution_count": 21,
   "id": "3569d830",
   "metadata": {
    "execution": {
     "iopub.execute_input": "2025-05-31T19:07:23.332402Z",
     "iopub.status.busy": "2025-05-31T19:07:23.332085Z",
     "iopub.status.idle": "2025-05-31T19:07:23.343264Z",
     "shell.execute_reply": "2025-05-31T19:07:23.342223Z"
    },
    "papermill": {
     "duration": 0.026696,
     "end_time": "2025-05-31T19:07:23.344869",
     "exception": false,
     "start_time": "2025-05-31T19:07:23.318173",
     "status": "completed"
    },
    "tags": []
   },
   "outputs": [
    {
     "data": {
      "text/plain": [
       "0     [connection, icon, icon, dear, please, setup, ...\n",
       "1     [work, experience, user, work, experience, use...\n",
       "2     [requesting, meeting, requesting, meeting, hi,...\n",
       "3     [reset, password, external, account, expire, d...\n",
       "4     [mail, verification, warning, hi, got, attache...\n",
       "5     [mail, please, dear, look, blacklisted, receiv...\n",
       "6     [prod, server, tunneling, prod, tunneling, va,...\n",
       "7     [access, request, dear, module, report, report...\n",
       "8     [reset, password, client, password, client, de...\n",
       "9     [direct, report, missing, time, please, action...\n",
       "10    [laptop, connected, request, rebuild, connecte...\n",
       "11    [device, recovery, report, printer, alert, dup...\n",
       "12            [new, starter, hello, please, fill, date]\n",
       "13    [visual, studio, license, visual, studio, lice...\n",
       "14    [system, hello, movement, left, available, dev...\n",
       "15    [access, secondary, secondary, hi, please, pro...\n",
       "16    [list, sent, copy, copy, hi, receive, copy, be...\n",
       "17    [new, purchase, po, purchase, po, dear, purcha...\n",
       "18    [invitation, cloud, strategy, workshop, februa...\n",
       "19    [change, sale, owner, contract, change, owner,...\n",
       "Name: Cleaned_Document, dtype: object"
      ]
     },
     "execution_count": 21,
     "metadata": {},
     "output_type": "execute_result"
    }
   ],
   "source": [
    "df['Cleaned_Document'].head(20)"
   ]
  },
  {
   "cell_type": "code",
   "execution_count": 22,
   "id": "35188256",
   "metadata": {
    "execution": {
     "iopub.execute_input": "2025-05-31T19:07:23.373945Z",
     "iopub.status.busy": "2025-05-31T19:07:23.373621Z",
     "iopub.status.idle": "2025-05-31T19:07:23.384608Z",
     "shell.execute_reply": "2025-05-31T19:07:23.383626Z"
    },
    "papermill": {
     "duration": 0.026813,
     "end_time": "2025-05-31T19:07:23.386230",
     "exception": false,
     "start_time": "2025-05-31T19:07:23.359417",
     "status": "completed"
    },
    "tags": []
   },
   "outputs": [
    {
     "data": {
      "text/plain": [
       "47817    [submit, expense, even, though, added, electro...\n",
       "47818    [job, referral, available, sent, thursday, jul...\n",
       "47819    [oracle, update, another, bug, sent, thursday,...\n",
       "47820    [social, error, sent, thursday, july, error, d...\n",
       "47821    [backup, server, performance, issue, sent, thu...\n",
       "47822    [approving, expense, project, code, related, w...\n",
       "47823    [bug, sent, wednesday, july, bug, hello, disco...\n",
       "47824    [oracle, fusion, working, message, unplanned, ...\n",
       "47825    [issue, sent, friday, july, hi, issue, somethi...\n",
       "47826    [oracle, error, sent, thursday, july, error, h...\n",
       "47827    [bandwidth, problem, sent, thursday, july, ban...\n",
       "47828    [password, expire, day, sent, july, password, ...\n",
       "47829    [sensitive, information, access, sent, wednesd...\n",
       "47830    [malfunction, sent, tuesday, july, malfunction...\n",
       "47831    [outlook, account, laptop, laptop, sa, sa, si,...\n",
       "47832    [git, space, project, issue, adding, user, sen...\n",
       "47833    [error, sent, july, error, hi, guy, help, erro...\n",
       "47834    [connection, issue, sent, tuesday, july, conne...\n",
       "47835    [error, cube, report, sent, tuesday, july, err...\n",
       "47836    [running, extension, hello, please, advised, r...\n",
       "Name: Cleaned_Document, dtype: object"
      ]
     },
     "execution_count": 22,
     "metadata": {},
     "output_type": "execute_result"
    }
   ],
   "source": [
    "df['Cleaned_Document'].tail(20)"
   ]
  },
  {
   "cell_type": "markdown",
   "id": "0c4d7334",
   "metadata": {
    "papermill": {
     "duration": 0.012323,
     "end_time": "2025-05-31T19:07:23.411457",
     "exception": false,
     "start_time": "2025-05-31T19:07:23.399134",
     "status": "completed"
    },
    "tags": []
   },
   "source": [
    "As I can see, besides stop words, the corpus contains many words like 'please', 'hi', 'hello', etc. These words can affect the efficiency of the algorithm, so I would remove them manually."
   ]
  },
  {
   "cell_type": "code",
   "execution_count": 23,
   "id": "1a7165c8",
   "metadata": {
    "execution": {
     "iopub.execute_input": "2025-05-31T19:07:23.438280Z",
     "iopub.status.busy": "2025-05-31T19:07:23.437740Z",
     "iopub.status.idle": "2025-05-31T19:07:24.529472Z",
     "shell.execute_reply": "2025-05-31T19:07:24.528102Z"
    },
    "papermill": {
     "duration": 1.108108,
     "end_time": "2025-05-31T19:07:24.532215",
     "exception": false,
     "start_time": "2025-05-31T19:07:23.424107",
     "status": "completed"
    },
    "tags": []
   },
   "outputs": [],
   "source": [
    "custom_stopwords = ['hi', 'hello', 'dear', 'please', 'help', 'guy', 'guys',\n",
    "                   'thanks', 'thank', 'regards', 'best', 'hey', 'appreciate',\n",
    "                    'sorry', 'welcome', 'cheers', 'hello', 'goodbye', 'bye',\n",
    "                    'kindly', 'gladly']\n",
    "\n",
    "df['Cleaned_Document'] = df['Cleaned_Document'].apply(\n",
    "    lambda doc: [word for word in doc if word not in custom_stopwords]\n",
    ")"
   ]
  },
  {
   "cell_type": "code",
   "execution_count": 24,
   "id": "5ba9670c",
   "metadata": {
    "execution": {
     "iopub.execute_input": "2025-05-31T19:07:24.561415Z",
     "iopub.status.busy": "2025-05-31T19:07:24.561100Z",
     "iopub.status.idle": "2025-05-31T19:07:24.571226Z",
     "shell.execute_reply": "2025-05-31T19:07:24.570294Z"
    },
    "papermill": {
     "duration": 0.026765,
     "end_time": "2025-05-31T19:07:24.572864",
     "exception": false,
     "start_time": "2025-05-31T19:07:24.546099",
     "status": "completed"
    },
    "tags": []
   },
   "outputs": [
    {
     "data": {
      "text/plain": [
       "0        [connection, icon, icon, setup, icon, per, ico...\n",
       "1        [work, experience, user, work, experience, use...\n",
       "2        [requesting, meeting, requesting, meeting, fol...\n",
       "3        [reset, password, external, account, expire, d...\n",
       "4        [mail, verification, warning, got, attached, a...\n",
       "                               ...                        \n",
       "47832    [git, space, project, issue, adding, user, sen...\n",
       "47833    [error, sent, july, error, error, appearing, w...\n",
       "47834    [connection, issue, sent, tuesday, july, conne...\n",
       "47835    [error, cube, report, sent, tuesday, july, err...\n",
       "47836    [running, extension, advised, running, extensi...\n",
       "Name: Cleaned_Document, Length: 47837, dtype: object"
      ]
     },
     "execution_count": 24,
     "metadata": {},
     "output_type": "execute_result"
    }
   ],
   "source": [
    "df['Cleaned_Document']"
   ]
  },
  {
   "cell_type": "code",
   "execution_count": 25,
   "id": "9001ad24",
   "metadata": {
    "execution": {
     "iopub.execute_input": "2025-05-31T19:07:24.601930Z",
     "iopub.status.busy": "2025-05-31T19:07:24.601593Z",
     "iopub.status.idle": "2025-05-31T19:07:24.830054Z",
     "shell.execute_reply": "2025-05-31T19:07:24.829059Z"
    },
    "papermill": {
     "duration": 0.245163,
     "end_time": "2025-05-31T19:07:24.831765",
     "exception": false,
     "start_time": "2025-05-31T19:07:24.586602",
     "status": "completed"
    },
    "tags": []
   },
   "outputs": [],
   "source": [
    "#%pip install contractions\n",
    "#import contractions\n",
    "\n",
    "contraction_map = {\n",
    "    \"aren't\": \"are not\",\n",
    "    \"can't\": \"cannot\",\n",
    "    \"couldn't\": \"could not\",\n",
    "    \"didn't\": \"did not\",\n",
    "    \"doesn't\": \"does not\",\n",
    "    \"don't\": \"do not\",\n",
    "    \"hadn't\": \"had not\",\n",
    "    \"hasn't\": \"has not\",\n",
    "    \"haven't\": \"have not\",\n",
    "    \"he'd\": \"he would\",\n",
    "    \"he'll\": \"he will\",\n",
    "    \"he's\": \"he is\",\n",
    "    \"i'd\": \"i would\",\n",
    "    \"i'll\": \"i will\",\n",
    "    \"i'm\": \"i am\",\n",
    "    \"i've\": \"i have\",\n",
    "    \"isn't\": \"is not\",\n",
    "    \"it's\": \"it is\",\n",
    "    \"let's\": \"let us\",\n",
    "    \"mightn't\": \"might not\",\n",
    "    \"mustn't\": \"must not\",\n",
    "    \"shan't\": \"shall not\",\n",
    "    \"she'd\": \"she would\",\n",
    "    \"she'll\": \"she will\",\n",
    "    \"she's\": \"she is\",\n",
    "    \"shouldn't\": \"should not\",\n",
    "    \"that's\": \"that is\",\n",
    "    \"there's\": \"there is\",\n",
    "    \"they'd\": \"they would\",\n",
    "    \"they'll\": \"they will\",\n",
    "    \"they're\": \"they are\",\n",
    "    \"they've\": \"they have\",\n",
    "    \"we'd\": \"we would\",\n",
    "    \"we're\": \"we are\",\n",
    "    \"we've\": \"we have\",\n",
    "    \"weren't\": \"were not\",\n",
    "    \"what'll\": \"what will\",\n",
    "    \"what're\": \"what are\",\n",
    "    \"what's\": \"what is\",\n",
    "    \"what've\": \"what have\",\n",
    "    \"where's\": \"where is\",\n",
    "    \"who's\": \"who is\",\n",
    "    \"who'll\": \"who will\",\n",
    "    \"won't\": \"will not\",\n",
    "    \"wouldn't\": \"would not\",\n",
    "    \"you'd\": \"you would\",\n",
    "    \"you'll\": \"you will\",\n",
    "    \"you're\": \"you are\",\n",
    "    \"you've\": \"you have\"\n",
    "}\n",
    "\n",
    "def expand_contractions_tokenized(doc):\n",
    "    return [contraction_map.get(word, word) for word in doc]\n",
    "\n",
    "df['Cleaned_Document'] = df['Cleaned_Document'].apply(expand_contractions_tokenized)"
   ]
  },
  {
   "cell_type": "code",
   "execution_count": 26,
   "id": "0f3878cb",
   "metadata": {
    "execution": {
     "iopub.execute_input": "2025-05-31T19:07:24.860022Z",
     "iopub.status.busy": "2025-05-31T19:07:24.859601Z",
     "iopub.status.idle": "2025-05-31T19:07:24.868643Z",
     "shell.execute_reply": "2025-05-31T19:07:24.867710Z"
    },
    "papermill": {
     "duration": 0.02568,
     "end_time": "2025-05-31T19:07:24.870502",
     "exception": false,
     "start_time": "2025-05-31T19:07:24.844822",
     "status": "completed"
    },
    "tags": []
   },
   "outputs": [
    {
     "data": {
      "text/plain": [
       "0        [connection, icon, icon, setup, icon, per, ico...\n",
       "1        [work, experience, user, work, experience, use...\n",
       "2        [requesting, meeting, requesting, meeting, fol...\n",
       "3        [reset, password, external, account, expire, d...\n",
       "4        [mail, verification, warning, got, attached, a...\n",
       "                               ...                        \n",
       "47832    [git, space, project, issue, adding, user, sen...\n",
       "47833    [error, sent, july, error, error, appearing, w...\n",
       "47834    [connection, issue, sent, tuesday, july, conne...\n",
       "47835    [error, cube, report, sent, tuesday, july, err...\n",
       "47836    [running, extension, advised, running, extensi...\n",
       "Name: Cleaned_Document, Length: 47837, dtype: object"
      ]
     },
     "execution_count": 26,
     "metadata": {},
     "output_type": "execute_result"
    }
   ],
   "source": [
    "df['Cleaned_Document'] "
   ]
  },
  {
   "cell_type": "code",
   "execution_count": 27,
   "id": "c100e3cd",
   "metadata": {
    "execution": {
     "iopub.execute_input": "2025-05-31T19:07:24.900384Z",
     "iopub.status.busy": "2025-05-31T19:07:24.900062Z",
     "iopub.status.idle": "2025-05-31T19:07:26.624132Z",
     "shell.execute_reply": "2025-05-31T19:07:26.623230Z"
    },
    "papermill": {
     "duration": 1.741455,
     "end_time": "2025-05-31T19:07:26.626266",
     "exception": false,
     "start_time": "2025-05-31T19:07:24.884811",
     "status": "completed"
    },
    "tags": []
   },
   "outputs": [],
   "source": [
    "#saving dataset\n",
    "df['Cleaned_Document_Str'] = df['Cleaned_Document'].apply(lambda tokens: ' '.join(tokens))\n",
    "df.to_csv('cleaned_dataset.csv', index=False)"
   ]
  },
  {
   "cell_type": "markdown",
   "id": "7ba23af0",
   "metadata": {
    "papermill": {
     "duration": 0.012343,
     "end_time": "2025-05-31T19:07:26.651789",
     "exception": false,
     "start_time": "2025-05-31T19:07:26.639446",
     "status": "completed"
    },
    "tags": []
   },
   "source": [
    "# EDA"
   ]
  },
  {
   "cell_type": "code",
   "execution_count": 28,
   "id": "788554d3",
   "metadata": {
    "execution": {
     "iopub.execute_input": "2025-05-31T19:07:26.680972Z",
     "iopub.status.busy": "2025-05-31T19:07:26.680613Z",
     "iopub.status.idle": "2025-05-31T19:07:26.710507Z",
     "shell.execute_reply": "2025-05-31T19:07:26.709619Z"
    },
    "papermill": {
     "duration": 0.047374,
     "end_time": "2025-05-31T19:07:26.712025",
     "exception": false,
     "start_time": "2025-05-31T19:07:26.664651",
     "status": "completed"
    },
    "tags": []
   },
   "outputs": [
    {
     "name": "stdout",
     "output_type": "stream",
     "text": [
      "count    47837.000000\n",
      "mean        33.148860\n",
      "std         44.508495\n",
      "min          0.000000\n",
      "25%         12.000000\n",
      "50%         20.000000\n",
      "75%         35.000000\n",
      "max        817.000000\n",
      "Name: doc_length, dtype: float64\n"
     ]
    }
   ],
   "source": [
    "#number of tokens per document.\n",
    "df['doc_length'] = df['Cleaned_Document'].apply(len)\n",
    "print(df['doc_length'].describe())"
   ]
  },
  {
   "cell_type": "markdown",
   "id": "bb816978",
   "metadata": {
    "papermill": {
     "duration": 0.012623,
     "end_time": "2025-05-31T19:07:26.737454",
     "exception": false,
     "start_time": "2025-05-31T19:07:26.724831",
     "status": "completed"
    },
    "tags": []
   },
   "source": [
    "As we can see, there are some tickets with zero tokens, meaning they are essentially empty"
   ]
  },
  {
   "cell_type": "code",
   "execution_count": 29,
   "id": "1e9d1517",
   "metadata": {
    "execution": {
     "iopub.execute_input": "2025-05-31T19:07:26.766156Z",
     "iopub.status.busy": "2025-05-31T19:07:26.765665Z",
     "iopub.status.idle": "2025-05-31T19:07:26.779776Z",
     "shell.execute_reply": "2025-05-31T19:07:26.778636Z"
    },
    "papermill": {
     "duration": 0.030517,
     "end_time": "2025-05-31T19:07:26.781531",
     "exception": false,
     "start_time": "2025-05-31T19:07:26.751014",
     "status": "completed"
    },
    "tags": []
   },
   "outputs": [
    {
     "data": {
      "text/html": [
       "<div>\n",
       "<style scoped>\n",
       "    .dataframe tbody tr th:only-of-type {\n",
       "        vertical-align: middle;\n",
       "    }\n",
       "\n",
       "    .dataframe tbody tr th {\n",
       "        vertical-align: top;\n",
       "    }\n",
       "\n",
       "    .dataframe thead th {\n",
       "        text-align: right;\n",
       "    }\n",
       "</style>\n",
       "<table border=\"1\" class=\"dataframe\">\n",
       "  <thead>\n",
       "    <tr style=\"text-align: right;\">\n",
       "      <th></th>\n",
       "      <th>Document</th>\n",
       "      <th>Topic_group</th>\n",
       "      <th>Cleaned_Document</th>\n",
       "      <th>Cleaned_Document_Str</th>\n",
       "      <th>doc_length</th>\n",
       "    </tr>\n",
       "  </thead>\n",
       "  <tbody>\n",
       "    <tr>\n",
       "      <th>35590</th>\n",
       "      <td>for is down again for down again hi for down a...</td>\n",
       "      <td>Administrative rights</td>\n",
       "      <td>[]</td>\n",
       "      <td></td>\n",
       "      <td>0</td>\n",
       "    </tr>\n",
       "  </tbody>\n",
       "</table>\n",
       "</div>"
      ],
      "text/plain": [
       "                                                Document  \\\n",
       "35590  for is down again for down again hi for down a...   \n",
       "\n",
       "                 Topic_group Cleaned_Document Cleaned_Document_Str  doc_length  \n",
       "35590  Administrative rights               []                                0  "
      ]
     },
     "execution_count": 29,
     "metadata": {},
     "output_type": "execute_result"
    }
   ],
   "source": [
    "df[df['doc_length'] == 0]"
   ]
  },
  {
   "cell_type": "code",
   "execution_count": 30,
   "id": "8322999e",
   "metadata": {
    "execution": {
     "iopub.execute_input": "2025-05-31T19:07:26.809710Z",
     "iopub.status.busy": "2025-05-31T19:07:26.809421Z",
     "iopub.status.idle": "2025-05-31T19:07:26.821670Z",
     "shell.execute_reply": "2025-05-31T19:07:26.820785Z"
    },
    "papermill": {
     "duration": 0.028497,
     "end_time": "2025-05-31T19:07:26.823634",
     "exception": false,
     "start_time": "2025-05-31T19:07:26.795137",
     "status": "completed"
    },
    "tags": []
   },
   "outputs": [],
   "source": [
    "df = df[df['doc_length'] != 0]"
   ]
  },
  {
   "cell_type": "code",
   "execution_count": 31,
   "id": "ec04f95d",
   "metadata": {
    "execution": {
     "iopub.execute_input": "2025-05-31T19:07:26.852051Z",
     "iopub.status.busy": "2025-05-31T19:07:26.851732Z",
     "iopub.status.idle": "2025-05-31T19:07:28.233524Z",
     "shell.execute_reply": "2025-05-31T19:07:28.232033Z"
    },
    "papermill": {
     "duration": 1.398315,
     "end_time": "2025-05-31T19:07:28.235734",
     "exception": false,
     "start_time": "2025-05-31T19:07:26.837419",
     "status": "completed"
    },
    "tags": []
   },
   "outputs": [
    {
     "name": "stdout",
     "output_type": "stream",
     "text": [
      "[('pm', 28902), ('regard', 27286), ('sent', 14717), ('issue', 14176), ('access', 13309), ('kind', 13252), ('tuesday', 10899), ('wednesday', 10429), ('error', 10152), ('thursday', 9937)]\n"
     ]
    }
   ],
   "source": [
    "from nltk.probability import FreqDist\n",
    "# Убираем NaN и взрываем списки токенов в один Series\n",
    "doc = df['Cleaned_Document'].dropna().explode()\n",
    "\n",
    "# Фильтруем только строки\n",
    "doc = doc[doc.apply(lambda x: isinstance(x, str))]\n",
    "\n",
    "# Считаем частоты\n",
    "fdist = FreqDist(doc)\n",
    "\n",
    "# Топ-10\n",
    "top10 = fdist.most_common(10)\n",
    "print(top10)"
   ]
  },
  {
   "cell_type": "code",
   "execution_count": 32,
   "id": "08d0d392",
   "metadata": {
    "execution": {
     "iopub.execute_input": "2025-05-31T19:07:28.264705Z",
     "iopub.status.busy": "2025-05-31T19:07:28.263773Z",
     "iopub.status.idle": "2025-05-31T19:07:28.466874Z",
     "shell.execute_reply": "2025-05-31T19:07:28.465792Z"
    },
    "papermill": {
     "duration": 0.219055,
     "end_time": "2025-05-31T19:07:28.468456",
     "exception": false,
     "start_time": "2025-05-31T19:07:28.249401",
     "status": "completed"
    },
    "tags": []
   },
   "outputs": [
    {
     "name": "stdout",
     "output_type": "stream",
     "text": [
      "Lexical Diversity: 0.00662\n"
     ]
    }
   ],
   "source": [
    "#lexical diversity\n",
    "total = len(doc)\n",
    "unique = len(set(doc))\n",
    "lex_div = unique / total\n",
    "print(f\"Lexical Diversity: {lex_div:.5f}\")"
   ]
  },
  {
   "cell_type": "code",
   "execution_count": 33,
   "id": "d91da2d5",
   "metadata": {
    "execution": {
     "iopub.execute_input": "2025-05-31T19:07:28.497228Z",
     "iopub.status.busy": "2025-05-31T19:07:28.496871Z",
     "iopub.status.idle": "2025-05-31T19:07:28.911278Z",
     "shell.execute_reply": "2025-05-31T19:07:28.910286Z"
    },
    "papermill": {
     "duration": 0.430673,
     "end_time": "2025-05-31T19:07:28.912769",
     "exception": false,
     "start_time": "2025-05-31T19:07:28.482096",
     "status": "completed"
    },
    "tags": []
   },
   "outputs": [
    {
     "name": "stdout",
     "output_type": "stream",
     "text": [
      "Avg. word length (mean): 6.14\n",
      "Avg. word length (median): 6.00\n"
     ]
    }
   ],
   "source": [
    "word_lengths = [len(w) for w in doc]\n",
    "print(f\"Avg. word length (mean): {np.mean(word_lengths):.2f}\")\n",
    "print(f\"Avg. word length (median): {np.median(word_lengths):.2f}\")"
   ]
  },
  {
   "cell_type": "code",
   "execution_count": 34,
   "id": "a270ed01",
   "metadata": {
    "execution": {
     "iopub.execute_input": "2025-05-31T19:07:28.941157Z",
     "iopub.status.busy": "2025-05-31T19:07:28.940795Z",
     "iopub.status.idle": "2025-05-31T19:07:28.959316Z",
     "shell.execute_reply": "2025-05-31T19:07:28.958266Z"
    },
    "papermill": {
     "duration": 0.034263,
     "end_time": "2025-05-31T19:07:28.960993",
     "exception": false,
     "start_time": "2025-05-31T19:07:28.926730",
     "status": "completed"
    },
    "tags": []
   },
   "outputs": [
    {
     "name": "stdout",
     "output_type": "stream",
     "text": [
      "Avg. ticket length (mean): 33.15\n",
      "Avg. ticket length (median): 20.00\n"
     ]
    }
   ],
   "source": [
    "ticket_length = [len(w) for w in df['Cleaned_Document']]\n",
    "print(f\"Avg. ticket length (mean): {np.mean(ticket_length):.2f}\")\n",
    "print(f\"Avg. ticket length (median): {np.median(ticket_length):.2f}\")"
   ]
  },
  {
   "cell_type": "code",
   "execution_count": 35,
   "id": "5d422fb7",
   "metadata": {
    "execution": {
     "iopub.execute_input": "2025-05-31T19:07:28.989478Z",
     "iopub.status.busy": "2025-05-31T19:07:28.989191Z",
     "iopub.status.idle": "2025-05-31T19:07:29.395885Z",
     "shell.execute_reply": "2025-05-31T19:07:29.394509Z"
    },
    "papermill": {
     "duration": 0.423149,
     "end_time": "2025-05-31T19:07:29.397648",
     "exception": false,
     "start_time": "2025-05-31T19:07:28.974499",
     "status": "completed"
    },
    "tags": []
   },
   "outputs": [
    {
     "data": {
      "text/plain": [
       "<Axes: xlabel='Samples', ylabel='Counts'>"
      ]
     },
     "execution_count": 35,
     "metadata": {},
     "output_type": "execute_result"
    },
    {
     "data": {
      "image/png": "[encoded data removed]",
      "text/plain": [
       "<Figure size 640x480 with 1 Axes>"
      ]
     },
     "metadata": {},
     "output_type": "display_data"
    }
   ],
   "source": [
    "fdist.plot(30, cumulative=False)  "
   ]
  },
  {
   "cell_type": "code",
   "execution_count": 36,
   "id": "c33b9838",
   "metadata": {
    "execution": {
     "iopub.execute_input": "2025-05-31T19:07:29.428783Z",
     "iopub.status.busy": "2025-05-31T19:07:29.428463Z",
     "iopub.status.idle": "2025-05-31T19:07:37.560029Z",
     "shell.execute_reply": "2025-05-31T19:07:37.559041Z"
    },
    "papermill": {
     "duration": 8.151766,
     "end_time": "2025-05-31T19:07:37.564503",
     "exception": false,
     "start_time": "2025-05-31T19:07:29.412737",
     "status": "completed"
    },
    "tags": []
   },
   "outputs": [
    {
     "data": {
      "image/png": "[encoded data removed]",
      "text/plain": [
       "<Figure size 640x480 with 1 Axes>"
      ]
     },
     "metadata": {},
     "output_type": "display_data"
    }
   ],
   "source": [
    "from wordcloud import WordCloud \n",
    "wc = WordCloud(width=800, height=400).generate(' '.join(doc))\n",
    "plt.imshow(wc, interpolation='bilinear')\n",
    "plt.axis('off')\n",
    "plt.show()"
   ]
  },
  {
   "cell_type": "markdown",
   "id": "b10000ce",
   "metadata": {
    "papermill": {
     "duration": 0.018502,
     "end_time": "2025-05-31T19:07:37.602293",
     "exception": false,
     "start_time": "2025-05-31T19:07:37.583791",
     "status": "completed"
    },
    "tags": []
   },
   "source": [
    "Since it's classification task, let's check ticket distribution"
   ]
  },
  {
   "cell_type": "code",
   "execution_count": 37,
   "id": "db04a895",
   "metadata": {
    "execution": {
     "iopub.execute_input": "2025-05-31T19:07:37.639775Z",
     "iopub.status.busy": "2025-05-31T19:07:37.639301Z",
     "iopub.status.idle": "2025-05-31T19:07:37.653800Z",
     "shell.execute_reply": "2025-05-31T19:07:37.652697Z"
    },
    "papermill": {
     "duration": 0.034948,
     "end_time": "2025-05-31T19:07:37.655390",
     "exception": false,
     "start_time": "2025-05-31T19:07:37.620442",
     "status": "completed"
    },
    "tags": []
   },
   "outputs": [
    {
     "data": {
      "text/plain": [
       "count        47836\n",
       "unique           8\n",
       "top       Hardware\n",
       "freq         13617\n",
       "Name: Topic_group, dtype: object"
      ]
     },
     "execution_count": 37,
     "metadata": {},
     "output_type": "execute_result"
    }
   ],
   "source": [
    "df['Topic_group'].describe()"
   ]
  },
  {
   "cell_type": "code",
   "execution_count": 38,
   "id": "8446b998",
   "metadata": {
    "execution": {
     "iopub.execute_input": "2025-05-31T19:07:37.693736Z",
     "iopub.status.busy": "2025-05-31T19:07:37.692953Z",
     "iopub.status.idle": "2025-05-31T19:07:37.702746Z",
     "shell.execute_reply": "2025-05-31T19:07:37.701639Z"
    },
    "papermill": {
     "duration": 0.030967,
     "end_time": "2025-05-31T19:07:37.704437",
     "exception": false,
     "start_time": "2025-05-31T19:07:37.673470",
     "status": "completed"
    },
    "tags": []
   },
   "outputs": [
    {
     "name": "stdout",
     "output_type": "stream",
     "text": [
      "Topic_group\n",
      "Hardware                 13617\n",
      "HR Support               10915\n",
      "Access                    7125\n",
      "Miscellaneous             7060\n",
      "Storage                   2777\n",
      "Purchase                  2464\n",
      "Internal Project          2119\n",
      "Administrative rights     1759\n",
      "Name: count, dtype: int64\n"
     ]
    }
   ],
   "source": [
    "print(df['Topic_group'].value_counts())"
   ]
  },
  {
   "cell_type": "code",
   "execution_count": 39,
   "id": "ec349df0",
   "metadata": {
    "execution": {
     "iopub.execute_input": "2025-05-31T19:07:37.742877Z",
     "iopub.status.busy": "2025-05-31T19:07:37.742562Z",
     "iopub.status.idle": "2025-05-31T19:07:37.894097Z",
     "shell.execute_reply": "2025-05-31T19:07:37.892988Z"
    },
    "papermill": {
     "duration": 0.172126,
     "end_time": "2025-05-31T19:07:37.896036",
     "exception": false,
     "start_time": "2025-05-31T19:07:37.723910",
     "status": "completed"
    },
    "tags": []
   },
   "outputs": [
    {
     "data": {
      "image/png": "[encoded data removed]",
      "text/plain": [
       "<Figure size 700x500 with 1 Axes>"
      ]
     },
     "metadata": {},
     "output_type": "display_data"
    }
   ],
   "source": [
    "group_counts = df['Topic_group'].value_counts()\n",
    "\n",
    "plt.figure(figsize=(7, 5))\n",
    "plt.pie(group_counts, labels=group_counts.index, autopct=\"%1.1f%%\" )\n",
    "plt.title('Distribution into groups')\n",
    "plt.show()"
   ]
  },
  {
   "cell_type": "code",
   "execution_count": 40,
   "id": "60a95ec5",
   "metadata": {
    "execution": {
     "iopub.execute_input": "2025-05-31T19:07:37.936737Z",
     "iopub.status.busy": "2025-05-31T19:07:37.936378Z",
     "iopub.status.idle": "2025-05-31T19:07:37.964082Z",
     "shell.execute_reply": "2025-05-31T19:07:37.962676Z"
    },
    "papermill": {
     "duration": 0.049622,
     "end_time": "2025-05-31T19:07:37.965603",
     "exception": false,
     "start_time": "2025-05-31T19:07:37.915981",
     "status": "completed"
    },
    "tags": []
   },
   "outputs": [
    {
     "name": "stdout",
     "output_type": "stream",
     "text": [
      "<class 'pandas.core.frame.DataFrame'>\n",
      "Index: 47836 entries, 0 to 47836\n",
      "Data columns (total 5 columns):\n",
      " #   Column                Non-Null Count  Dtype \n",
      "---  ------                --------------  ----- \n",
      " 0   Document              47836 non-null  object\n",
      " 1   Topic_group           47836 non-null  object\n",
      " 2   Cleaned_Document      47836 non-null  object\n",
      " 3   Cleaned_Document_Str  47836 non-null  object\n",
      " 4   doc_length            47836 non-null  int64 \n",
      "dtypes: int64(1), object(4)\n",
      "memory usage: 2.2+ MB\n"
     ]
    }
   ],
   "source": [
    "df.info()"
   ]
  },
  {
   "cell_type": "markdown",
   "id": "a63a0c6b",
   "metadata": {
    "papermill": {
     "duration": 0.018661,
     "end_time": "2025-05-31T19:07:38.003446",
     "exception": false,
     "start_time": "2025-05-31T19:07:37.984785",
     "status": "completed"
    },
    "tags": []
   },
   "source": [
    "# Classification"
   ]
  },
  {
   "cell_type": "markdown",
   "id": "92fe8fbb",
   "metadata": {
    "papermill": {
     "duration": 0.018617,
     "end_time": "2025-05-31T19:07:38.040858",
     "exception": false,
     "start_time": "2025-05-31T19:07:38.022241",
     "status": "completed"
    },
    "tags": []
   },
   "source": [
    "**note: classes are imbalanced, check the perfomance later**"
   ]
  },
  {
   "cell_type": "code",
   "execution_count": 41,
   "id": "d7a4e598",
   "metadata": {
    "execution": {
     "iopub.execute_input": "2025-05-31T19:07:38.079933Z",
     "iopub.status.busy": "2025-05-31T19:07:38.079586Z",
     "iopub.status.idle": "2025-05-31T19:07:38.091731Z",
     "shell.execute_reply": "2025-05-31T19:07:38.090817Z"
    },
    "papermill": {
     "duration": 0.033486,
     "end_time": "2025-05-31T19:07:38.093168",
     "exception": false,
     "start_time": "2025-05-31T19:07:38.059682",
     "status": "completed"
    },
    "tags": []
   },
   "outputs": [
    {
     "data": {
      "text/html": [
       "<div>\n",
       "<style scoped>\n",
       "    .dataframe tbody tr th:only-of-type {\n",
       "        vertical-align: middle;\n",
       "    }\n",
       "\n",
       "    .dataframe tbody tr th {\n",
       "        vertical-align: top;\n",
       "    }\n",
       "\n",
       "    .dataframe thead th {\n",
       "        text-align: right;\n",
       "    }\n",
       "</style>\n",
       "<table border=\"1\" class=\"dataframe\">\n",
       "  <thead>\n",
       "    <tr style=\"text-align: right;\">\n",
       "      <th></th>\n",
       "      <th>Document</th>\n",
       "      <th>Topic_group</th>\n",
       "      <th>Cleaned_Document</th>\n",
       "      <th>Cleaned_Document_Str</th>\n",
       "      <th>doc_length</th>\n",
       "    </tr>\n",
       "  </thead>\n",
       "  <tbody>\n",
       "    <tr>\n",
       "      <th>0</th>\n",
       "      <td>connection with icon icon dear please setup ic...</td>\n",
       "      <td>Hardware</td>\n",
       "      <td>[connection, icon, icon, setup, icon, per, ico...</td>\n",
       "      <td>connection icon icon setup icon per icon engin...</td>\n",
       "      <td>12</td>\n",
       "    </tr>\n",
       "    <tr>\n",
       "      <th>1</th>\n",
       "      <td>work experience user work experience user hi w...</td>\n",
       "      <td>Access</td>\n",
       "      <td>[work, experience, user, work, experience, use...</td>\n",
       "      <td>work experience user work experience user work...</td>\n",
       "      <td>14</td>\n",
       "    </tr>\n",
       "    <tr>\n",
       "      <th>2</th>\n",
       "      <td>requesting for meeting requesting meeting hi p...</td>\n",
       "      <td>Hardware</td>\n",
       "      <td>[requesting, meeting, requesting, meeting, fol...</td>\n",
       "      <td>requesting meeting requesting meeting follow e...</td>\n",
       "      <td>10</td>\n",
       "    </tr>\n",
       "    <tr>\n",
       "      <th>3</th>\n",
       "      <td>reset passwords for external accounts re expir...</td>\n",
       "      <td>Access</td>\n",
       "      <td>[reset, password, external, account, expire, d...</td>\n",
       "      <td>reset password external account expire day ask...</td>\n",
       "      <td>112</td>\n",
       "    </tr>\n",
       "    <tr>\n",
       "      <th>4</th>\n",
       "      <td>mail verification warning hi has got attached ...</td>\n",
       "      <td>Miscellaneous</td>\n",
       "      <td>[mail, verification, warning, got, attached, a...</td>\n",
       "      <td>mail verification warning got attached address...</td>\n",
       "      <td>11</td>\n",
       "    </tr>\n",
       "  </tbody>\n",
       "</table>\n",
       "</div>"
      ],
      "text/plain": [
       "                                            Document    Topic_group  \\\n",
       "0  connection with icon icon dear please setup ic...       Hardware   \n",
       "1  work experience user work experience user hi w...         Access   \n",
       "2  requesting for meeting requesting meeting hi p...       Hardware   \n",
       "3  reset passwords for external accounts re expir...         Access   \n",
       "4  mail verification warning hi has got attached ...  Miscellaneous   \n",
       "\n",
       "                                    Cleaned_Document  \\\n",
       "0  [connection, icon, icon, setup, icon, per, ico...   \n",
       "1  [work, experience, user, work, experience, use...   \n",
       "2  [requesting, meeting, requesting, meeting, fol...   \n",
       "3  [reset, password, external, account, expire, d...   \n",
       "4  [mail, verification, warning, got, attached, a...   \n",
       "\n",
       "                                Cleaned_Document_Str  doc_length  \n",
       "0  connection icon icon setup icon per icon engin...          12  \n",
       "1  work experience user work experience user work...          14  \n",
       "2  requesting meeting requesting meeting follow e...          10  \n",
       "3  reset password external account expire day ask...         112  \n",
       "4  mail verification warning got attached address...          11  "
      ]
     },
     "execution_count": 41,
     "metadata": {},
     "output_type": "execute_result"
    }
   ],
   "source": [
    "df.head()"
   ]
  },
  {
   "cell_type": "code",
   "execution_count": 42,
   "id": "23018b90",
   "metadata": {
    "execution": {
     "iopub.execute_input": "2025-05-31T19:07:38.133449Z",
     "iopub.status.busy": "2025-05-31T19:07:38.133097Z",
     "iopub.status.idle": "2025-05-31T19:07:38.141739Z",
     "shell.execute_reply": "2025-05-31T19:07:38.140961Z"
    },
    "papermill": {
     "duration": 0.031167,
     "end_time": "2025-05-31T19:07:38.143298",
     "exception": false,
     "start_time": "2025-05-31T19:07:38.112131",
     "status": "completed"
    },
    "tags": []
   },
   "outputs": [
    {
     "data": {
      "text/plain": [
       "array(['Hardware', 'Access', 'Miscellaneous', 'HR Support', 'Purchase',\n",
       "       'Administrative rights', 'Storage', 'Internal Project'],\n",
       "      dtype=object)"
      ]
     },
     "execution_count": 42,
     "metadata": {},
     "output_type": "execute_result"
    }
   ],
   "source": [
    "df['Topic_group'].unique()"
   ]
  },
  {
   "cell_type": "code",
   "execution_count": 43,
   "id": "9cc2bcfc",
   "metadata": {
    "execution": {
     "iopub.execute_input": "2025-05-31T19:07:38.183523Z",
     "iopub.status.busy": "2025-05-31T19:07:38.183175Z",
     "iopub.status.idle": "2025-05-31T19:07:41.445557Z",
     "shell.execute_reply": "2025-05-31T19:07:41.444609Z"
    },
    "papermill": {
     "duration": 3.284332,
     "end_time": "2025-05-31T19:07:41.447319",
     "exception": false,
     "start_time": "2025-05-31T19:07:38.162987",
     "status": "completed"
    },
    "tags": []
   },
   "outputs": [],
   "source": [
    "#TF-IDF\n",
    "from sklearn.feature_extraction.text import TfidfVectorizer\n",
    "\n",
    "vectorizer = TfidfVectorizer(min_df=5, max_df=0.8, ngram_range=(1,2))\n",
    "X = vectorizer.fit_transform(df['Cleaned_Document_Str'])"
   ]
  },
  {
   "cell_type": "code",
   "execution_count": 44,
   "id": "47a5a984",
   "metadata": {
    "execution": {
     "iopub.execute_input": "2025-05-31T19:07:41.487402Z",
     "iopub.status.busy": "2025-05-31T19:07:41.487005Z",
     "iopub.status.idle": "2025-05-31T19:07:41.501018Z",
     "shell.execute_reply": "2025-05-31T19:07:41.499884Z"
    },
    "papermill": {
     "duration": 0.036055,
     "end_time": "2025-05-31T19:07:41.502775",
     "exception": false,
     "start_time": "2025-05-31T19:07:41.466720",
     "status": "completed"
    },
    "tags": []
   },
   "outputs": [],
   "source": [
    "#encoding target variable\n",
    "from sklearn.preprocessing import LabelEncoder\n",
    "\n",
    "le = LabelEncoder()\n",
    "y = le.fit_transform(df['Topic_group'])"
   ]
  },
  {
   "cell_type": "markdown",
   "id": "bbea6b5a",
   "metadata": {
    "papermill": {
     "duration": 0.020066,
     "end_time": "2025-05-31T19:07:41.542041",
     "exception": false,
     "start_time": "2025-05-31T19:07:41.521975",
     "status": "completed"
    },
    "tags": []
   },
   "source": [
    "## Logistic Regression"
   ]
  },
  {
   "cell_type": "code",
   "execution_count": 45,
   "id": "6f842ba7",
   "metadata": {
    "execution": {
     "iopub.execute_input": "2025-05-31T19:07:41.588131Z",
     "iopub.status.busy": "2025-05-31T19:07:41.587330Z",
     "iopub.status.idle": "2025-05-31T19:07:41.592167Z",
     "shell.execute_reply": "2025-05-31T19:07:41.591292Z"
    },
    "papermill": {
     "duration": 0.02768,
     "end_time": "2025-05-31T19:07:41.593867",
     "exception": false,
     "start_time": "2025-05-31T19:07:41.566187",
     "status": "completed"
    },
    "tags": []
   },
   "outputs": [],
   "source": [
    "from sklearn.linear_model import LogisticRegression\n",
    "from sklearn.model_selection import train_test_split\n",
    "from sklearn.metrics import classification_report"
   ]
  },
  {
   "cell_type": "code",
   "execution_count": 46,
   "id": "b148160e",
   "metadata": {
    "execution": {
     "iopub.execute_input": "2025-05-31T19:07:41.634164Z",
     "iopub.status.busy": "2025-05-31T19:07:41.633741Z",
     "iopub.status.idle": "2025-05-31T19:08:11.436421Z",
     "shell.execute_reply": "2025-05-31T19:08:11.434016Z"
    },
    "papermill": {
     "duration": 29.824792,
     "end_time": "2025-05-31T19:08:11.438596",
     "exception": false,
     "start_time": "2025-05-31T19:07:41.613804",
     "status": "completed"
    },
    "tags": []
   },
   "outputs": [
    {
     "name": "stdout",
     "output_type": "stream",
     "text": [
      "              precision    recall  f1-score   support\n",
      "\n",
      "           0       0.92      0.87      0.89      1468\n",
      "           1       0.91      0.64      0.75       331\n",
      "           2       0.85      0.85      0.85      2110\n",
      "           3       0.79      0.90      0.84      2761\n",
      "           4       0.92      0.78      0.84       448\n",
      "           5       0.83      0.84      0.83      1397\n",
      "           6       0.98      0.87      0.92       499\n",
      "           7       0.94      0.82      0.88       554\n",
      "\n",
      "    accuracy                           0.85      9568\n",
      "   macro avg       0.89      0.82      0.85      9568\n",
      "weighted avg       0.86      0.85      0.85      9568\n",
      "\n"
     ]
    }
   ],
   "source": [
    "X_train, X_test, y_train, y_test = train_test_split(X, y, test_size=0.2, random_state=42)\n",
    "clf = LogisticRegression(max_iter=1000)\n",
    "clf.fit(X_train, y_train)\n",
    "preds = clf.predict(X_test)\n",
    "print(classification_report(y_test, preds))"
   ]
  },
  {
   "cell_type": "markdown",
   "id": "02c667e1",
   "metadata": {
    "papermill": {
     "duration": 0.02798,
     "end_time": "2025-05-31T19:08:11.498868",
     "exception": false,
     "start_time": "2025-05-31T19:08:11.470888",
     "status": "completed"
    },
    "tags": []
   },
   "source": [
    "## Decision Trees / Random Forest / XGBoost:"
   ]
  },
  {
   "cell_type": "code",
   "execution_count": 47,
   "id": "81706e39",
   "metadata": {
    "execution": {
     "iopub.execute_input": "2025-05-31T19:08:11.541004Z",
     "iopub.status.busy": "2025-05-31T19:08:11.540501Z",
     "iopub.status.idle": "2025-05-31T19:10:55.355133Z",
     "shell.execute_reply": "2025-05-31T19:10:55.353947Z"
    },
    "papermill": {
     "duration": 163.858375,
     "end_time": "2025-05-31T19:10:55.377360",
     "exception": false,
     "start_time": "2025-05-31T19:08:11.518985",
     "status": "completed"
    },
    "tags": []
   },
   "outputs": [
    {
     "name": "stdout",
     "output_type": "stream",
     "text": [
      "              precision    recall  f1-score   support\n",
      "\n",
      "           0       0.90      0.85      0.88      1468\n",
      "           1       0.91      0.62      0.74       331\n",
      "           2       0.84      0.86      0.85      2110\n",
      "           3       0.77      0.89      0.83      2761\n",
      "           4       0.93      0.78      0.85       448\n",
      "           5       0.84      0.78      0.81      1397\n",
      "           6       0.98      0.86      0.92       499\n",
      "           7       0.93      0.77      0.84       554\n",
      "\n",
      "    accuracy                           0.84      9568\n",
      "   macro avg       0.89      0.80      0.84      9568\n",
      "weighted avg       0.85      0.84      0.84      9568\n",
      "\n"
     ]
    }
   ],
   "source": [
    "from sklearn.ensemble import RandomForestClassifier\n",
    "\n",
    "rf_clf = RandomForestClassifier(random_state=42)\n",
    "rf_clf.fit(X_train, y_train)\n",
    "rf_preds = rf_clf.predict(X_test)\n",
    "print(classification_report(y_test, rf_preds))"
   ]
  },
  {
   "cell_type": "markdown",
   "id": "d54e9378",
   "metadata": {
    "papermill": {
     "duration": 0.019227,
     "end_time": "2025-05-31T19:10:55.416528",
     "exception": false,
     "start_time": "2025-05-31T19:10:55.397301",
     "status": "completed"
    },
    "tags": []
   },
   "source": [
    "## RNN"
   ]
  },
  {
   "cell_type": "code",
   "execution_count": 48,
   "id": "d808bfad",
   "metadata": {
    "execution": {
     "iopub.execute_input": "2025-05-31T19:10:55.458632Z",
     "iopub.status.busy": "2025-05-31T19:10:55.458221Z",
     "iopub.status.idle": "2025-05-31T19:10:55.493044Z",
     "shell.execute_reply": "2025-05-31T19:10:55.491975Z"
    },
    "papermill": {
     "duration": 0.058395,
     "end_time": "2025-05-31T19:10:55.495015",
     "exception": false,
     "start_time": "2025-05-31T19:10:55.436620",
     "status": "completed"
    },
    "tags": []
   },
   "outputs": [
    {
     "name": "stdout",
     "output_type": "stream",
     "text": [
      "<class 'pandas.core.frame.DataFrame'>\n",
      "Index: 47836 entries, 0 to 47836\n",
      "Data columns (total 5 columns):\n",
      " #   Column                Non-Null Count  Dtype \n",
      "---  ------                --------------  ----- \n",
      " 0   Document              47836 non-null  object\n",
      " 1   Topic_group           47836 non-null  object\n",
      " 2   Cleaned_Document      47836 non-null  object\n",
      " 3   Cleaned_Document_Str  47836 non-null  object\n",
      " 4   doc_length            47836 non-null  int64 \n",
      "dtypes: int64(1), object(4)\n",
      "memory usage: 2.2+ MB\n"
     ]
    }
   ],
   "source": [
    "df.info()"
   ]
  },
  {
   "cell_type": "code",
   "execution_count": 49,
   "id": "30d23dcd",
   "metadata": {
    "execution": {
     "iopub.execute_input": "2025-05-31T19:10:55.541612Z",
     "iopub.status.busy": "2025-05-31T19:10:55.541271Z",
     "iopub.status.idle": "2025-05-31T19:10:55.553741Z",
     "shell.execute_reply": "2025-05-31T19:10:55.552450Z"
    },
    "papermill": {
     "duration": 0.035374,
     "end_time": "2025-05-31T19:10:55.555448",
     "exception": false,
     "start_time": "2025-05-31T19:10:55.520074",
     "status": "completed"
    },
    "tags": []
   },
   "outputs": [
    {
     "data": {
      "text/html": [
       "<div>\n",
       "<style scoped>\n",
       "    .dataframe tbody tr th:only-of-type {\n",
       "        vertical-align: middle;\n",
       "    }\n",
       "\n",
       "    .dataframe tbody tr th {\n",
       "        vertical-align: top;\n",
       "    }\n",
       "\n",
       "    .dataframe thead th {\n",
       "        text-align: right;\n",
       "    }\n",
       "</style>\n",
       "<table border=\"1\" class=\"dataframe\">\n",
       "  <thead>\n",
       "    <tr style=\"text-align: right;\">\n",
       "      <th></th>\n",
       "      <th>Document</th>\n",
       "      <th>Topic_group</th>\n",
       "      <th>Cleaned_Document</th>\n",
       "      <th>Cleaned_Document_Str</th>\n",
       "      <th>doc_length</th>\n",
       "    </tr>\n",
       "  </thead>\n",
       "  <tbody>\n",
       "    <tr>\n",
       "      <th>0</th>\n",
       "      <td>connection with icon icon dear please setup ic...</td>\n",
       "      <td>Hardware</td>\n",
       "      <td>[connection, icon, icon, setup, icon, per, ico...</td>\n",
       "      <td>connection icon icon setup icon per icon engin...</td>\n",
       "      <td>12</td>\n",
       "    </tr>\n",
       "    <tr>\n",
       "      <th>1</th>\n",
       "      <td>work experience user work experience user hi w...</td>\n",
       "      <td>Access</td>\n",
       "      <td>[work, experience, user, work, experience, use...</td>\n",
       "      <td>work experience user work experience user work...</td>\n",
       "      <td>14</td>\n",
       "    </tr>\n",
       "    <tr>\n",
       "      <th>2</th>\n",
       "      <td>requesting for meeting requesting meeting hi p...</td>\n",
       "      <td>Hardware</td>\n",
       "      <td>[requesting, meeting, requesting, meeting, fol...</td>\n",
       "      <td>requesting meeting requesting meeting follow e...</td>\n",
       "      <td>10</td>\n",
       "    </tr>\n",
       "    <tr>\n",
       "      <th>3</th>\n",
       "      <td>reset passwords for external accounts re expir...</td>\n",
       "      <td>Access</td>\n",
       "      <td>[reset, password, external, account, expire, d...</td>\n",
       "      <td>reset password external account expire day ask...</td>\n",
       "      <td>112</td>\n",
       "    </tr>\n",
       "    <tr>\n",
       "      <th>4</th>\n",
       "      <td>mail verification warning hi has got attached ...</td>\n",
       "      <td>Miscellaneous</td>\n",
       "      <td>[mail, verification, warning, got, attached, a...</td>\n",
       "      <td>mail verification warning got attached address...</td>\n",
       "      <td>11</td>\n",
       "    </tr>\n",
       "  </tbody>\n",
       "</table>\n",
       "</div>"
      ],
      "text/plain": [
       "                                            Document    Topic_group  \\\n",
       "0  connection with icon icon dear please setup ic...       Hardware   \n",
       "1  work experience user work experience user hi w...         Access   \n",
       "2  requesting for meeting requesting meeting hi p...       Hardware   \n",
       "3  reset passwords for external accounts re expir...         Access   \n",
       "4  mail verification warning hi has got attached ...  Miscellaneous   \n",
       "\n",
       "                                    Cleaned_Document  \\\n",
       "0  [connection, icon, icon, setup, icon, per, ico...   \n",
       "1  [work, experience, user, work, experience, use...   \n",
       "2  [requesting, meeting, requesting, meeting, fol...   \n",
       "3  [reset, password, external, account, expire, d...   \n",
       "4  [mail, verification, warning, got, attached, a...   \n",
       "\n",
       "                                Cleaned_Document_Str  doc_length  \n",
       "0  connection icon icon setup icon per icon engin...          12  \n",
       "1  work experience user work experience user work...          14  \n",
       "2  requesting meeting requesting meeting follow e...          10  \n",
       "3  reset password external account expire day ask...         112  \n",
       "4  mail verification warning got attached address...          11  "
      ]
     },
     "execution_count": 49,
     "metadata": {},
     "output_type": "execute_result"
    }
   ],
   "source": [
    "df.head()"
   ]
  },
  {
   "cell_type": "markdown",
   "id": "1ee214c3",
   "metadata": {
    "papermill": {
     "duration": 0.02666,
     "end_time": "2025-05-31T19:10:55.602108",
     "exception": false,
     "start_time": "2025-05-31T19:10:55.575448",
     "status": "completed"
    },
    "tags": []
   },
   "source": [
    "TF-IDF converts text into a Bag-of-Words, ignoring the word order, which makes the data non-sequential. Since RNNs (recurrent neural networks) work with sequences, this format is not suitable for them. Therefore, data for RNNs must be prepared differently than for classical machine learning models."
   ]
  },
  {
   "cell_type": "code",
   "execution_count": 50,
   "id": "ef63f829",
   "metadata": {
    "execution": {
     "iopub.execute_input": "2025-05-31T19:10:55.644736Z",
     "iopub.status.busy": "2025-05-31T19:10:55.644434Z",
     "iopub.status.idle": "2025-05-31T19:11:13.841226Z",
     "shell.execute_reply": "2025-05-31T19:11:13.840191Z"
    },
    "papermill": {
     "duration": 18.220308,
     "end_time": "2025-05-31T19:11:13.843169",
     "exception": false,
     "start_time": "2025-05-31T19:10:55.622861",
     "status": "completed"
    },
    "tags": []
   },
   "outputs": [
    {
     "name": "stderr",
     "output_type": "stream",
     "text": [
      "2025-05-31 19:10:57.681387: E external/local_xla/xla/stream_executor/cuda/cuda_fft.cc:477] Unable to register cuFFT factory: Attempting to register factory for plugin cuFFT when one has already been registered\n",
      "WARNING: All log messages before absl::InitializeLog() is called are written to STDERR\n",
      "E0000 00:00:1748718657.938622      13 cuda_dnn.cc:8310] Unable to register cuDNN factory: Attempting to register factory for plugin cuDNN when one has already been registered\n",
      "E0000 00:00:1748718658.016132      13 cuda_blas.cc:1418] Unable to register cuBLAS factory: Attempting to register factory for plugin cuBLAS when one has already been registered\n"
     ]
    }
   ],
   "source": [
    "from tensorflow.keras.preprocessing.text import Tokenizer\n",
    "from tensorflow.keras.preprocessing.sequence import pad_sequences"
   ]
  },
  {
   "cell_type": "code",
   "execution_count": 51,
   "id": "ce3b8149",
   "metadata": {
    "execution": {
     "iopub.execute_input": "2025-05-31T19:11:13.886340Z",
     "iopub.status.busy": "2025-05-31T19:11:13.884739Z",
     "iopub.status.idle": "2025-05-31T19:11:15.072677Z",
     "shell.execute_reply": "2025-05-31T19:11:15.071124Z"
    },
    "papermill": {
     "duration": 1.210927,
     "end_time": "2025-05-31T19:11:15.074650",
     "exception": false,
     "start_time": "2025-05-31T19:11:13.863723",
     "status": "completed"
    },
    "tags": []
   },
   "outputs": [],
   "source": [
    "#Tokenization\n",
    "tokenizer = Tokenizer()\n",
    "tokenizer.fit_on_texts(df['Cleaned_Document_Str'])"
   ]
  },
  {
   "cell_type": "code",
   "execution_count": 52,
   "id": "064355bf",
   "metadata": {
    "execution": {
     "iopub.execute_input": "2025-05-31T19:11:15.118226Z",
     "iopub.status.busy": "2025-05-31T19:11:15.117473Z",
     "iopub.status.idle": "2025-05-31T19:11:15.888568Z",
     "shell.execute_reply": "2025-05-31T19:11:15.887230Z"
    },
    "papermill": {
     "duration": 0.794154,
     "end_time": "2025-05-31T19:11:15.890609",
     "exception": false,
     "start_time": "2025-05-31T19:11:15.096455",
     "status": "completed"
    },
    "tags": []
   },
   "outputs": [],
   "source": [
    "#Converting text into index sequences\n",
    "sequences = tokenizer.texts_to_sequences(df['Cleaned_Document_Str'])\n",
    "vocab_size = len(tokenizer.word_index) + 1"
   ]
  },
  {
   "cell_type": "code",
   "execution_count": 53,
   "id": "3e361268",
   "metadata": {
    "execution": {
     "iopub.execute_input": "2025-05-31T19:11:15.940676Z",
     "iopub.status.busy": "2025-05-31T19:11:15.940325Z",
     "iopub.status.idle": "2025-05-31T19:11:15.953448Z",
     "shell.execute_reply": "2025-05-31T19:11:15.952424Z"
    },
    "papermill": {
     "duration": 0.03933,
     "end_time": "2025-05-31T19:11:15.955056",
     "exception": false,
     "start_time": "2025-05-31T19:11:15.915726",
     "status": "completed"
    },
    "tags": []
   },
   "outputs": [],
   "source": [
    "max_length = int(np.percentile([len(seq) for seq in sequences], 95))"
   ]
  },
  {
   "cell_type": "code",
   "execution_count": 54,
   "id": "4064f1ce",
   "metadata": {
    "execution": {
     "iopub.execute_input": "2025-05-31T19:11:15.997373Z",
     "iopub.status.busy": "2025-05-31T19:11:15.997012Z",
     "iopub.status.idle": "2025-05-31T19:11:16.185141Z",
     "shell.execute_reply": "2025-05-31T19:11:16.184096Z"
    },
    "papermill": {
     "duration": 0.211522,
     "end_time": "2025-05-31T19:11:16.186772",
     "exception": false,
     "start_time": "2025-05-31T19:11:15.975250",
     "status": "completed"
    },
    "tags": []
   },
   "outputs": [],
   "source": [
    "X_seq = pad_sequences(sequences, maxlen=max_length, padding='post', truncating='post')"
   ]
  },
  {
   "cell_type": "code",
   "execution_count": 55,
   "id": "2275bd25",
   "metadata": {
    "execution": {
     "iopub.execute_input": "2025-05-31T19:11:16.228696Z",
     "iopub.status.busy": "2025-05-31T19:11:16.228366Z",
     "iopub.status.idle": "2025-05-31T19:11:16.253779Z",
     "shell.execute_reply": "2025-05-31T19:11:16.252830Z"
    },
    "papermill": {
     "duration": 0.047822,
     "end_time": "2025-05-31T19:11:16.255506",
     "exception": false,
     "start_time": "2025-05-31T19:11:16.207684",
     "status": "completed"
    },
    "tags": []
   },
   "outputs": [],
   "source": [
    "train_indices, test_indices = train_test_split(\n",
    "    np.arange(len(df)), \n",
    "    test_size=0.2, \n",
    "    random_state=42,\n",
    "    stratify=y  \n",
    ")"
   ]
  },
  {
   "cell_type": "code",
   "execution_count": 56,
   "id": "7469ff1e",
   "metadata": {
    "execution": {
     "iopub.execute_input": "2025-05-31T19:11:16.296573Z",
     "iopub.status.busy": "2025-05-31T19:11:16.296248Z",
     "iopub.status.idle": "2025-05-31T19:11:16.317370Z",
     "shell.execute_reply": "2025-05-31T19:11:16.316194Z"
    },
    "papermill": {
     "duration": 0.043873,
     "end_time": "2025-05-31T19:11:16.319232",
     "exception": false,
     "start_time": "2025-05-31T19:11:16.275359",
     "status": "completed"
    },
    "tags": []
   },
   "outputs": [],
   "source": [
    "X_train_seq = X_seq[train_indices]\n",
    "X_test_seq = X_seq[test_indices]"
   ]
  },
  {
   "cell_type": "code",
   "execution_count": 57,
   "id": "88be97e0",
   "metadata": {
    "execution": {
     "iopub.execute_input": "2025-05-31T19:11:16.360796Z",
     "iopub.status.busy": "2025-05-31T19:11:16.359781Z",
     "iopub.status.idle": "2025-05-31T19:11:16.364423Z",
     "shell.execute_reply": "2025-05-31T19:11:16.363482Z"
    },
    "papermill": {
     "duration": 0.026758,
     "end_time": "2025-05-31T19:11:16.365829",
     "exception": false,
     "start_time": "2025-05-31T19:11:16.339071",
     "status": "completed"
    },
    "tags": []
   },
   "outputs": [],
   "source": [
    "X_train_rnn, X_test_rnn = X_train_seq, X_test_seq"
   ]
  },
  {
   "cell_type": "code",
   "execution_count": 58,
   "id": "2a450a41",
   "metadata": {
    "execution": {
     "iopub.execute_input": "2025-05-31T19:11:16.410119Z",
     "iopub.status.busy": "2025-05-31T19:11:16.409727Z",
     "iopub.status.idle": "2025-05-31T19:11:16.417596Z",
     "shell.execute_reply": "2025-05-31T19:11:16.416657Z"
    },
    "papermill": {
     "duration": 0.031097,
     "end_time": "2025-05-31T19:11:16.419529",
     "exception": false,
     "start_time": "2025-05-31T19:11:16.388432",
     "status": "completed"
    },
    "tags": []
   },
   "outputs": [],
   "source": [
    "from tensorflow.keras.models import Sequential\n",
    "from tensorflow.keras.layers import Embedding, LSTM, Dense"
   ]
  },
  {
   "cell_type": "code",
   "execution_count": 59,
   "id": "0638bfba",
   "metadata": {
    "execution": {
     "iopub.execute_input": "2025-05-31T19:11:16.462005Z",
     "iopub.status.busy": "2025-05-31T19:11:16.461633Z",
     "iopub.status.idle": "2025-05-31T19:11:16.517911Z",
     "shell.execute_reply": "2025-05-31T19:11:16.516695Z"
    },
    "papermill": {
     "duration": 0.079175,
     "end_time": "2025-05-31T19:11:16.519573",
     "exception": false,
     "start_time": "2025-05-31T19:11:16.440398",
     "status": "completed"
    },
    "tags": []
   },
   "outputs": [
    {
     "name": "stderr",
     "output_type": "stream",
     "text": [
      "/usr/local/lib/python3.11/dist-packages/keras/src/layers/core/embedding.py:90: UserWarning: Argument `input_length` is deprecated. Just remove it.\n",
      "  warnings.warn(\n",
      "2025-05-31 19:11:16.473179: E external/local_xla/xla/stream_executor/cuda/cuda_driver.cc:152] failed call to cuInit: INTERNAL: CUDA error: Failed call to cuInit: UNKNOWN ERROR (303)\n"
     ]
    }
   ],
   "source": [
    "model = Sequential([\n",
    "    Embedding(vocab_size, 128, input_length=max_length),\n",
    "    LSTM(64, return_sequences=False),\n",
    "    Dense(len(le.classes_), activation='softmax')\n",
    "])"
   ]
  },
  {
   "cell_type": "code",
   "execution_count": 60,
   "id": "24a73eb2",
   "metadata": {
    "execution": {
     "iopub.execute_input": "2025-05-31T19:11:16.560562Z",
     "iopub.status.busy": "2025-05-31T19:11:16.560197Z",
     "iopub.status.idle": "2025-05-31T19:11:16.583318Z",
     "shell.execute_reply": "2025-05-31T19:11:16.582186Z"
    },
    "papermill": {
     "duration": 0.045593,
     "end_time": "2025-05-31T19:11:16.585074",
     "exception": false,
     "start_time": "2025-05-31T19:11:16.539481",
     "status": "completed"
    },
    "tags": []
   },
   "outputs": [],
   "source": [
    "model.compile(loss='sparse_categorical_crossentropy', \n",
    "              optimizer='adam', \n",
    "              metrics=['accuracy'])"
   ]
  },
  {
   "cell_type": "code",
   "execution_count": 61,
   "id": "006721ce",
   "metadata": {
    "execution": {
     "iopub.execute_input": "2025-05-31T19:11:16.626883Z",
     "iopub.status.busy": "2025-05-31T19:11:16.626557Z",
     "iopub.status.idle": "2025-05-31T19:17:45.609475Z",
     "shell.execute_reply": "2025-05-31T19:17:45.608249Z"
    },
    "papermill": {
     "duration": 389.005395,
     "end_time": "2025-05-31T19:17:45.611052",
     "exception": false,
     "start_time": "2025-05-31T19:11:16.605657",
     "status": "completed"
    },
    "tags": []
   },
   "outputs": [
    {
     "name": "stdout",
     "output_type": "stream",
     "text": [
      "Epoch 1/10\n",
      "\u001b[1m299/299\u001b[0m \u001b[32m━━━━━━━━━━━━━━━━━━━━\u001b[0m\u001b[37m\u001b[0m \u001b[1m42s\u001b[0m 129ms/step - accuracy: 0.2785 - loss: 1.8638 - val_accuracy: 0.2886 - val_loss: 1.8419\n",
      "Epoch 2/10\n",
      "\u001b[1m299/299\u001b[0m \u001b[32m━━━━━━━━━━━━━━━━━━━━\u001b[0m\u001b[37m\u001b[0m \u001b[1m39s\u001b[0m 129ms/step - accuracy: 0.2845 - loss: 1.8400 - val_accuracy: 0.2886 - val_loss: 1.8427\n",
      "Epoch 3/10\n",
      "\u001b[1m299/299\u001b[0m \u001b[32m━━━━━━━━━━━━━━━━━━━━\u001b[0m\u001b[37m\u001b[0m \u001b[1m38s\u001b[0m 127ms/step - accuracy: 0.2846 - loss: 1.8300 - val_accuracy: 0.2875 - val_loss: 1.8448\n",
      "Epoch 4/10\n",
      "\u001b[1m299/299\u001b[0m \u001b[32m━━━━━━━━━━━━━━━━━━━━\u001b[0m\u001b[37m\u001b[0m \u001b[1m38s\u001b[0m 127ms/step - accuracy: 0.2923 - loss: 1.8162 - val_accuracy: 0.2861 - val_loss: 1.8571\n",
      "Epoch 5/10\n",
      "\u001b[1m299/299\u001b[0m \u001b[32m━━━━━━━━━━━━━━━━━━━━\u001b[0m\u001b[37m\u001b[0m \u001b[1m39s\u001b[0m 131ms/step - accuracy: 0.3069 - loss: 1.7871 - val_accuracy: 0.2856 - val_loss: 1.8693\n",
      "Epoch 6/10\n",
      "\u001b[1m299/299\u001b[0m \u001b[32m━━━━━━━━━━━━━━━━━━━━\u001b[0m\u001b[37m\u001b[0m \u001b[1m38s\u001b[0m 129ms/step - accuracy: 0.3102 - loss: 1.7782 - val_accuracy: 0.2856 - val_loss: 1.8883\n",
      "Epoch 7/10\n",
      "\u001b[1m299/299\u001b[0m \u001b[32m━━━━━━━━━━━━━━━━━━━━\u001b[0m\u001b[37m\u001b[0m \u001b[1m40s\u001b[0m 133ms/step - accuracy: 0.3123 - loss: 1.7702 - val_accuracy: 0.2857 - val_loss: 1.9025\n",
      "Epoch 8/10\n",
      "\u001b[1m299/299\u001b[0m \u001b[32m━━━━━━━━━━━━━━━━━━━━\u001b[0m\u001b[37m\u001b[0m \u001b[1m38s\u001b[0m 128ms/step - accuracy: 0.3167 - loss: 1.7569 - val_accuracy: 0.2856 - val_loss: 1.9170\n",
      "Epoch 9/10\n",
      "\u001b[1m299/299\u001b[0m \u001b[32m━━━━━━━━━━━━━━━━━━━━\u001b[0m\u001b[37m\u001b[0m \u001b[1m38s\u001b[0m 127ms/step - accuracy: 0.3195 - loss: 1.7530 - val_accuracy: 0.2843 - val_loss: 1.9289\n",
      "Epoch 10/10\n",
      "\u001b[1m299/299\u001b[0m \u001b[32m━━━━━━━━━━━━━━━━━━━━\u001b[0m\u001b[37m\u001b[0m \u001b[1m38s\u001b[0m 127ms/step - accuracy: 0.3168 - loss: 1.7530 - val_accuracy: 0.2843 - val_loss: 1.9431\n"
     ]
    },
    {
     "data": {
      "text/plain": [
       "<keras.src.callbacks.history.History at 0x7e436ee324d0>"
      ]
     },
     "execution_count": 61,
     "metadata": {},
     "output_type": "execute_result"
    }
   ],
   "source": [
    "model.fit(X_train_rnn, y_train, \n",
    "          validation_data=(X_test_rnn, y_test),\n",
    "          epochs=10, \n",
    "          batch_size=128)"
   ]
  },
  {
   "cell_type": "code",
   "execution_count": 62,
   "id": "0f5d949a",
   "metadata": {
    "execution": {
     "iopub.execute_input": "2025-05-31T19:17:46.026162Z",
     "iopub.status.busy": "2025-05-31T19:17:46.025638Z",
     "iopub.status.idle": "2025-05-31T19:17:46.033440Z",
     "shell.execute_reply": "2025-05-31T19:17:46.032367Z"
    },
    "papermill": {
     "duration": 0.254534,
     "end_time": "2025-05-31T19:17:46.035132",
     "exception": false,
     "start_time": "2025-05-31T19:17:45.780598",
     "status": "completed"
    },
    "tags": []
   },
   "outputs": [],
   "source": [
    "from tensorflow.keras.callbacks import EarlyStopping"
   ]
  },
  {
   "cell_type": "code",
   "execution_count": 63,
   "id": "acfb8488",
   "metadata": {
    "execution": {
     "iopub.execute_input": "2025-05-31T19:17:46.382612Z",
     "iopub.status.busy": "2025-05-31T19:17:46.382322Z",
     "iopub.status.idle": "2025-05-31T19:17:46.386856Z",
     "shell.execute_reply": "2025-05-31T19:17:46.385854Z"
    },
    "papermill": {
     "duration": 0.18112,
     "end_time": "2025-05-31T19:17:46.388502",
     "exception": false,
     "start_time": "2025-05-31T19:17:46.207382",
     "status": "completed"
    },
    "tags": []
   },
   "outputs": [],
   "source": [
    "early_stopping = EarlyStopping(\n",
    "    monitor='val_loss',\n",
    "    patience=3,\n",
    "    restore_best_weights=True\n",
    ")"
   ]
  },
  {
   "cell_type": "code",
   "execution_count": 64,
   "id": "0deeaf78",
   "metadata": {
    "execution": {
     "iopub.execute_input": "2025-05-31T19:17:46.726992Z",
     "iopub.status.busy": "2025-05-31T19:17:46.726632Z",
     "iopub.status.idle": "2025-05-31T19:19:56.475848Z",
     "shell.execute_reply": "2025-05-31T19:19:56.474768Z"
    },
    "papermill": {
     "duration": 129.920468,
     "end_time": "2025-05-31T19:19:56.477764",
     "exception": false,
     "start_time": "2025-05-31T19:17:46.557296",
     "status": "completed"
    },
    "tags": []
   },
   "outputs": [
    {
     "name": "stdout",
     "output_type": "stream",
     "text": [
      "Epoch 1/15\n",
      "\u001b[1m270/270\u001b[0m \u001b[32m━━━━━━━━━━━━━━━━━━━━\u001b[0m\u001b[37m\u001b[0m \u001b[1m33s\u001b[0m 120ms/step - accuracy: 0.3231 - loss: 1.7446 - val_accuracy: 0.3130 - val_loss: 1.7737\n",
      "Epoch 2/15\n",
      "\u001b[1m270/270\u001b[0m \u001b[32m━━━━━━━━━━━━━━━━━━━━\u001b[0m\u001b[37m\u001b[0m \u001b[1m32s\u001b[0m 120ms/step - accuracy: 0.3252 - loss: 1.7355 - val_accuracy: 0.3083 - val_loss: 1.7846\n",
      "Epoch 3/15\n",
      "\u001b[1m270/270\u001b[0m \u001b[32m━━━━━━━━━━━━━━━━━━━━\u001b[0m\u001b[37m\u001b[0m \u001b[1m32s\u001b[0m 120ms/step - accuracy: 0.3206 - loss: 1.7372 - val_accuracy: 0.3073 - val_loss: 1.7862\n",
      "Epoch 4/15\n",
      "\u001b[1m270/270\u001b[0m \u001b[32m━━━━━━━━━━━━━━━━━━━━\u001b[0m\u001b[37m\u001b[0m \u001b[1m32s\u001b[0m 120ms/step - accuracy: 0.3244 - loss: 1.7361 - val_accuracy: 0.3094 - val_loss: 1.7851\n"
     ]
    }
   ],
   "source": [
    "history = model.fit(\n",
    "    X_train_rnn, \n",
    "    y_train,\n",
    "    epochs=15,\n",
    "    batch_size=128,\n",
    "    validation_split=0.1,  \n",
    "    callbacks=[early_stopping],\n",
    "    verbose=1\n",
    ")"
   ]
  },
  {
   "cell_type": "code",
   "execution_count": 65,
   "id": "49d44b5a",
   "metadata": {
    "execution": {
     "iopub.execute_input": "2025-05-31T19:19:56.999705Z",
     "iopub.status.busy": "2025-05-31T19:19:56.999418Z",
     "iopub.status.idle": "2025-05-31T19:20:02.719885Z",
     "shell.execute_reply": "2025-05-31T19:20:02.719016Z"
    },
    "papermill": {
     "duration": 6.015941,
     "end_time": "2025-05-31T19:20:02.721804",
     "exception": false,
     "start_time": "2025-05-31T19:19:56.705863",
     "status": "completed"
    },
    "tags": []
   },
   "outputs": [
    {
     "name": "stdout",
     "output_type": "stream",
     "text": [
      "\u001b[1m299/299\u001b[0m \u001b[32m━━━━━━━━━━━━━━━━━━━━\u001b[0m\u001b[37m\u001b[0m \u001b[1m6s\u001b[0m 18ms/step\n"
     ]
    }
   ],
   "source": [
    "y_pred = model.predict(X_test_rnn)\n",
    "y_pred_classes = np.argmax(y_pred, axis=1)"
   ]
  },
  {
   "cell_type": "code",
   "execution_count": 66,
   "id": "e389856e",
   "metadata": {
    "execution": {
     "iopub.execute_input": "2025-05-31T19:20:03.192257Z",
     "iopub.status.busy": "2025-05-31T19:20:03.191787Z",
     "iopub.status.idle": "2025-05-31T19:20:03.198192Z",
     "shell.execute_reply": "2025-05-31T19:20:03.197084Z"
    },
    "papermill": {
     "duration": 0.244254,
     "end_time": "2025-05-31T19:20:03.199857",
     "exception": false,
     "start_time": "2025-05-31T19:20:02.955603",
     "status": "completed"
    },
    "tags": []
   },
   "outputs": [],
   "source": [
    "y_test_labels = le.inverse_transform(y_test)\n",
    "y_pred_labels = le.inverse_transform(y_pred_classes)"
   ]
  },
  {
   "cell_type": "code",
   "execution_count": 67,
   "id": "ab1d07fe",
   "metadata": {
    "execution": {
     "iopub.execute_input": "2025-05-31T19:20:03.663612Z",
     "iopub.status.busy": "2025-05-31T19:20:03.663306Z",
     "iopub.status.idle": "2025-05-31T19:20:03.933864Z",
     "shell.execute_reply": "2025-05-31T19:20:03.932693Z"
    },
    "papermill": {
     "duration": 0.504576,
     "end_time": "2025-05-31T19:20:03.935586",
     "exception": false,
     "start_time": "2025-05-31T19:20:03.431010",
     "status": "completed"
    },
    "tags": []
   },
   "outputs": [
    {
     "name": "stdout",
     "output_type": "stream",
     "text": [
      "\n",
      "Детальный отчет по классификации:\n",
      "                       precision    recall  f1-score   support\n",
      "\n",
      "               Access       0.14      0.01      0.02      1468\n",
      "Administrative rights       0.00      0.00      0.00       331\n",
      "           HR Support       0.18      0.01      0.02      2110\n",
      "             Hardware       0.29      0.96      0.45      2761\n",
      "     Internal Project       0.09      0.00      0.00       448\n",
      "        Miscellaneous       0.20      0.01      0.02      1397\n",
      "             Purchase       0.00      0.00      0.00       499\n",
      "              Storage       0.03      0.00      0.00       554\n",
      "\n",
      "             accuracy                           0.28      9568\n",
      "            macro avg       0.11      0.12      0.06      9568\n",
      "         weighted avg       0.18      0.28      0.14      9568\n",
      "\n"
     ]
    }
   ],
   "source": [
    "print(\"\\nДетальный отчет по классификации:\")\n",
    "print(classification_report(y_test_labels, y_pred_labels))"
   ]
  },
  {
   "cell_type": "markdown",
   "id": "c1cda8f5",
   "metadata": {
    "papermill": {
     "duration": 0.317003,
     "end_time": "2025-05-31T19:20:04.485301",
     "exception": false,
     "start_time": "2025-05-31T19:20:04.168298",
     "status": "completed"
    },
    "tags": []
   },
   "source": [
    "## BERT"
   ]
  },
  {
   "cell_type": "markdown",
   "id": "f0d2216d",
   "metadata": {
    "papermill": {
     "duration": 0.230226,
     "end_time": "2025-05-31T19:20:04.944396",
     "exception": false,
     "start_time": "2025-05-31T19:20:04.714170",
     "status": "completed"
    },
    "tags": []
   },
   "source": [
    "Since BERT-like models (including NeuroBERT-Tiny) expect **raw text strings** as input, at this stage the variable `x` should store the original document (`df['document']`), and not the previously cleaned one (`df['cleaned document']`)."
   ]
  },
  {
   "cell_type": "code",
   "execution_count": 68,
   "id": "c026497f",
   "metadata": {
    "execution": {
     "iopub.execute_input": "2025-05-31T19:20:05.415136Z",
     "iopub.status.busy": "2025-05-31T19:20:05.414779Z",
     "iopub.status.idle": "2025-05-31T19:20:05.419034Z",
     "shell.execute_reply": "2025-05-31T19:20:05.417973Z"
    },
    "papermill": {
     "duration": 0.238067,
     "end_time": "2025-05-31T19:20:05.420609",
     "exception": false,
     "start_time": "2025-05-31T19:20:05.182542",
     "status": "completed"
    },
    "tags": []
   },
   "outputs": [],
   "source": [
    "#pip install transformers torch"
   ]
  },
  {
   "cell_type": "code",
   "execution_count": 69,
   "id": "97698d65",
   "metadata": {
    "execution": {
     "iopub.execute_input": "2025-05-31T19:20:05.876294Z",
     "iopub.status.busy": "2025-05-31T19:20:05.875870Z",
     "iopub.status.idle": "2025-05-31T19:20:05.880043Z",
     "shell.execute_reply": "2025-05-31T19:20:05.879170Z"
    },
    "papermill": {
     "duration": 0.231769,
     "end_time": "2025-05-31T19:20:05.881568",
     "exception": false,
     "start_time": "2025-05-31T19:20:05.649799",
     "status": "completed"
    },
    "tags": []
   },
   "outputs": [],
   "source": [
    "##from transformers import AutoModelForMaskedLM, AutoTokenizer\n",
    "#model = AutoModelForMaskedLM.from_pretrained(\"boltuix/NeuroBERT-Tiny\")\n",
    "#tokenizer = AutoTokenizer.from_pretrained(\"boltuix/NeuroBERT-Tiny\")"
   ]
  },
  {
   "cell_type": "code",
   "execution_count": 70,
   "id": "1d13e12a",
   "metadata": {
    "execution": {
     "iopub.execute_input": "2025-05-31T19:20:06.413374Z",
     "iopub.status.busy": "2025-05-31T19:20:06.413043Z",
     "iopub.status.idle": "2025-05-31T19:20:06.417519Z",
     "shell.execute_reply": "2025-05-31T19:20:06.416255Z"
    },
    "papermill": {
     "duration": 0.237863,
     "end_time": "2025-05-31T19:20:06.419264",
     "exception": false,
     "start_time": "2025-05-31T19:20:06.181401",
     "status": "completed"
    },
    "tags": []
   },
   "outputs": [],
   "source": [
    "#from transformers import AutoModelForMaskedLM, AutoTokenizer\n",
    "\n",
    "#model = AutoModelForMaskedLM.from_pretrained(\"nreimers/NeuroBERT-tiny\")\n",
    "#tokenizer = AutoTokenizer.from_pretrained(\"nreimers/NeuroBERT-tiny\")"
   ]
  }
 ],
 "metadata": {
  "kaggle": {
   "accelerator": "none",
   "dataSources": [
    {
     "datasetId": 4460055,
     "sourceId": 7650678,
     "sourceType": "datasetVersion"
    }
   ],
   "dockerImageVersionId": 31012,
   "isGpuEnabled": false,
   "isInternetEnabled": false,
   "language": "python",
   "sourceType": "notebook"
  },
  "kernelspec": {
   "display_name": "Python 3",
   "language": "python",
   "name": "python3"
  },
  "language_info": {
   "codemirror_mode": {
    "name": "ipython",
    "version": 3
   },
   "file_extension": ".py",
   "mimetype": "text/x-python",
   "name": "python",
   "nbconvert_exporter": "python",
   "pygments_lexer": "ipython3",
   "version": "3.11.11"
  },
  "papermill": {
   "default_parameters": {},
   "duration": 803.614842,
   "end_time": "2025-05-31T19:20:10.077010",
   "environment_variables": {},
   "exception": null,
   "input_path": "__notebook__.ipynb",
   "output_path": "__notebook__.ipynb",
   "parameters": {},
   "start_time": "2025-05-31T19:06:46.462168",
   "version": "2.6.0"
  }
 },
 "nbformat": 4,
 "nbformat_minor": 5
}
