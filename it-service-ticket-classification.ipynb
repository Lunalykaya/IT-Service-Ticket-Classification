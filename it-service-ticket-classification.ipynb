{
 "cells": [
  {
   "cell_type": "code",
   "execution_count": 1,
   "id": "28e3bf2d",
   "metadata": {
    "_cell_guid": "b1076dfc-b9ad-4769-8c92-a6c4dae69d19",
    "_uuid": "8f2839f25d086af736a60e9eeb907d3b93b6e0e5",
    "execution": {
     "iopub.execute_input": "2025-05-14T00:10:23.691521Z",
     "iopub.status.busy": "2025-05-14T00:10:23.691310Z",
     "iopub.status.idle": "2025-05-14T00:10:25.236376Z",
     "shell.execute_reply": "2025-05-14T00:10:25.235590Z"
    },
    "papermill": {
     "duration": 1.554222,
     "end_time": "2025-05-14T00:10:25.237690",
     "exception": false,
     "start_time": "2025-05-14T00:10:23.683468",
     "status": "completed"
    },
    "tags": []
   },
   "outputs": [
    {
     "name": "stdout",
     "output_type": "stream",
     "text": [
      "/kaggle/input/it-service-ticket-classification-dataset/all_tickets_processed_improved_v3.csv\n"
     ]
    }
   ],
   "source": [
    "# This Python 3 environment comes with many helpful analytics libraries installed\n",
    "# It is defined by the kaggle/python Docker image: https://github.com/kaggle/docker-python\n",
    "# For example, here's several helpful packages to load\n",
    "\n",
    "import numpy as np # linear algebra\n",
    "import pandas as pd # data processing, CSV file I/O (e.g. pd.read_csv)\n",
    "\n",
    "# Input data files are available in the read-only \"../input/\" directory\n",
    "# For example, running this (by clicking run or pressing Shift+Enter) will list all files under the input directory\n",
    "\n",
    "import os\n",
    "for dirname, _, filenames in os.walk('/kaggle/input'):\n",
    "    for filename in filenames:\n",
    "        print(os.path.join(dirname, filename))\n",
    "\n",
    "# You can write up to 20GB to the current directory (/kaggle/working/) that gets preserved as output when you create a version using \"Save & Run All\" \n",
    "# You can also write temporary files to /kaggle/temp/, but they won't be saved outside of the current session"
   ]
  },
  {
   "cell_type": "markdown",
   "id": "3e542bbf",
   "metadata": {
    "papermill": {
     "duration": 0.006085,
     "end_time": "2025-05-14T00:10:25.250530",
     "exception": false,
     "start_time": "2025-05-14T00:10:25.244445",
     "status": "completed"
    },
    "tags": []
   },
   "source": [
    "# Loading data"
   ]
  },
  {
   "cell_type": "code",
   "execution_count": 2,
   "id": "aa6232f3",
   "metadata": {
    "execution": {
     "iopub.execute_input": "2025-05-14T00:10:25.263172Z",
     "iopub.status.busy": "2025-05-14T00:10:25.262869Z",
     "iopub.status.idle": "2025-05-14T00:10:25.266217Z",
     "shell.execute_reply": "2025-05-14T00:10:25.265693Z"
    },
    "papermill": {
     "duration": 0.010975,
     "end_time": "2025-05-14T00:10:25.267338",
     "exception": false,
     "start_time": "2025-05-14T00:10:25.256363",
     "status": "completed"
    },
    "tags": []
   },
   "outputs": [],
   "source": [
    "import pandas as pd\n",
    "import numpy as np\n",
    "import matplotlib.pyplot as plt "
   ]
  },
  {
   "cell_type": "code",
   "execution_count": 3,
   "id": "1b1143c0",
   "metadata": {
    "execution": {
     "iopub.execute_input": "2025-05-14T00:10:25.279712Z",
     "iopub.status.busy": "2025-05-14T00:10:25.279498Z",
     "iopub.status.idle": "2025-05-14T00:10:25.770439Z",
     "shell.execute_reply": "2025-05-14T00:10:25.769589Z"
    },
    "papermill": {
     "duration": 0.498654,
     "end_time": "2025-05-14T00:10:25.771798",
     "exception": false,
     "start_time": "2025-05-14T00:10:25.273144",
     "status": "completed"
    },
    "tags": []
   },
   "outputs": [
    {
     "name": "stdout",
     "output_type": "stream",
     "text": [
      "Path to dataset files: /kaggle/input/it-service-ticket-classification-dataset\n"
     ]
    }
   ],
   "source": [
    "import kagglehub\n",
    "\n",
    "# Download latest version\n",
    "path = kagglehub.dataset_download(\"adisongoh/it-service-ticket-classification-dataset\")\n",
    "\n",
    "print(\"Path to dataset files:\", path)"
   ]
  },
  {
   "cell_type": "code",
   "execution_count": 4,
   "id": "65b4ca0f",
   "metadata": {
    "execution": {
     "iopub.execute_input": "2025-05-14T00:10:25.785424Z",
     "iopub.status.busy": "2025-05-14T00:10:25.784762Z",
     "iopub.status.idle": "2025-05-14T00:10:26.088474Z",
     "shell.execute_reply": "2025-05-14T00:10:26.087888Z"
    },
    "papermill": {
     "duration": 0.311626,
     "end_time": "2025-05-14T00:10:26.089882",
     "exception": false,
     "start_time": "2025-05-14T00:10:25.778256",
     "status": "completed"
    },
    "tags": []
   },
   "outputs": [],
   "source": [
    "#reading df\n",
    "df = pd.read_csv('/kaggle/input/it-service-ticket-classification-dataset/all_tickets_processed_improved_v3.csv')"
   ]
  },
  {
   "cell_type": "code",
   "execution_count": 5,
   "id": "87ea4df8",
   "metadata": {
    "execution": {
     "iopub.execute_input": "2025-05-14T00:10:26.103707Z",
     "iopub.status.busy": "2025-05-14T00:10:26.103490Z",
     "iopub.status.idle": "2025-05-14T00:10:26.135155Z",
     "shell.execute_reply": "2025-05-14T00:10:26.134137Z"
    },
    "papermill": {
     "duration": 0.039722,
     "end_time": "2025-05-14T00:10:26.136571",
     "exception": false,
     "start_time": "2025-05-14T00:10:26.096849",
     "status": "completed"
    },
    "tags": []
   },
   "outputs": [
    {
     "name": "stdout",
     "output_type": "stream",
     "text": [
      "<class 'pandas.core.frame.DataFrame'>\n",
      "RangeIndex: 47837 entries, 0 to 47836\n",
      "Data columns (total 2 columns):\n",
      " #   Column       Non-Null Count  Dtype \n",
      "---  ------       --------------  ----- \n",
      " 0   Document     47837 non-null  object\n",
      " 1   Topic_group  47837 non-null  object\n",
      "dtypes: object(2)\n",
      "memory usage: 747.6+ KB\n"
     ]
    }
   ],
   "source": [
    "df.info()"
   ]
  },
  {
   "cell_type": "code",
   "execution_count": 6,
   "id": "0c9b7197",
   "metadata": {
    "execution": {
     "iopub.execute_input": "2025-05-14T00:10:26.151128Z",
     "iopub.status.busy": "2025-05-14T00:10:26.150905Z",
     "iopub.status.idle": "2025-05-14T00:10:26.166809Z",
     "shell.execute_reply": "2025-05-14T00:10:26.166235Z"
    },
    "papermill": {
     "duration": 0.024248,
     "end_time": "2025-05-14T00:10:26.167865",
     "exception": false,
     "start_time": "2025-05-14T00:10:26.143617",
     "status": "completed"
    },
    "tags": []
   },
   "outputs": [
    {
     "data": {
      "text/html": [
       "<div>\n",
       "<style scoped>\n",
       "    .dataframe tbody tr th:only-of-type {\n",
       "        vertical-align: middle;\n",
       "    }\n",
       "\n",
       "    .dataframe tbody tr th {\n",
       "        vertical-align: top;\n",
       "    }\n",
       "\n",
       "    .dataframe thead th {\n",
       "        text-align: right;\n",
       "    }\n",
       "</style>\n",
       "<table border=\"1\" class=\"dataframe\">\n",
       "  <thead>\n",
       "    <tr style=\"text-align: right;\">\n",
       "      <th></th>\n",
       "      <th>Document</th>\n",
       "      <th>Topic_group</th>\n",
       "    </tr>\n",
       "  </thead>\n",
       "  <tbody>\n",
       "    <tr>\n",
       "      <th>0</th>\n",
       "      <td>connection with icon icon dear please setup ic...</td>\n",
       "      <td>Hardware</td>\n",
       "    </tr>\n",
       "    <tr>\n",
       "      <th>1</th>\n",
       "      <td>work experience user work experience user hi w...</td>\n",
       "      <td>Access</td>\n",
       "    </tr>\n",
       "    <tr>\n",
       "      <th>2</th>\n",
       "      <td>requesting for meeting requesting meeting hi p...</td>\n",
       "      <td>Hardware</td>\n",
       "    </tr>\n",
       "    <tr>\n",
       "      <th>3</th>\n",
       "      <td>reset passwords for external accounts re expir...</td>\n",
       "      <td>Access</td>\n",
       "    </tr>\n",
       "    <tr>\n",
       "      <th>4</th>\n",
       "      <td>mail verification warning hi has got attached ...</td>\n",
       "      <td>Miscellaneous</td>\n",
       "    </tr>\n",
       "  </tbody>\n",
       "</table>\n",
       "</div>"
      ],
      "text/plain": [
       "                                            Document    Topic_group\n",
       "0  connection with icon icon dear please setup ic...       Hardware\n",
       "1  work experience user work experience user hi w...         Access\n",
       "2  requesting for meeting requesting meeting hi p...       Hardware\n",
       "3  reset passwords for external accounts re expir...         Access\n",
       "4  mail verification warning hi has got attached ...  Miscellaneous"
      ]
     },
     "execution_count": 6,
     "metadata": {},
     "output_type": "execute_result"
    }
   ],
   "source": [
    "#quick preview of the df\n",
    "df.head()"
   ]
  },
  {
   "cell_type": "code",
   "execution_count": 7,
   "id": "ecc601eb",
   "metadata": {
    "execution": {
     "iopub.execute_input": "2025-05-14T00:10:26.181658Z",
     "iopub.status.busy": "2025-05-14T00:10:26.181463Z",
     "iopub.status.idle": "2025-05-14T00:10:26.190864Z",
     "shell.execute_reply": "2025-05-14T00:10:26.190276Z"
    },
    "papermill": {
     "duration": 0.017394,
     "end_time": "2025-05-14T00:10:26.191881",
     "exception": false,
     "start_time": "2025-05-14T00:10:26.174487",
     "status": "completed"
    },
    "tags": []
   },
   "outputs": [
    {
     "data": {
      "text/plain": [
       "array(['Hardware', 'Access', 'Miscellaneous', 'HR Support', 'Purchase',\n",
       "       'Administrative rights', 'Storage', 'Internal Project'],\n",
       "      dtype=object)"
      ]
     },
     "execution_count": 7,
     "metadata": {},
     "output_type": "execute_result"
    }
   ],
   "source": [
    "#viewing unique values (categories) in Topic_group\n",
    "df['Topic_group'].nunique()\n",
    "df['Topic_group'].unique()"
   ]
  },
  {
   "cell_type": "code",
   "execution_count": 8,
   "id": "5379da4f",
   "metadata": {
    "execution": {
     "iopub.execute_input": "2025-05-14T00:10:26.204853Z",
     "iopub.status.busy": "2025-05-14T00:10:26.204652Z",
     "iopub.status.idle": "2025-05-14T00:10:26.214952Z",
     "shell.execute_reply": "2025-05-14T00:10:26.214430Z"
    },
    "papermill": {
     "duration": 0.017941,
     "end_time": "2025-05-14T00:10:26.215983",
     "exception": false,
     "start_time": "2025-05-14T00:10:26.198042",
     "status": "completed"
    },
    "tags": []
   },
   "outputs": [
    {
     "data": {
      "text/plain": [
       "Document       0\n",
       "Topic_group    0\n",
       "dtype: int64"
      ]
     },
     "execution_count": 8,
     "metadata": {},
     "output_type": "execute_result"
    }
   ],
   "source": [
    "#checking na\n",
    "df.isnull().sum()"
   ]
  },
  {
   "cell_type": "code",
   "execution_count": 9,
   "id": "ff32327d",
   "metadata": {
    "execution": {
     "iopub.execute_input": "2025-05-14T00:10:26.229211Z",
     "iopub.status.busy": "2025-05-14T00:10:26.229022Z",
     "iopub.status.idle": "2025-05-14T00:10:26.272113Z",
     "shell.execute_reply": "2025-05-14T00:10:26.271576Z"
    },
    "papermill": {
     "duration": 0.051038,
     "end_time": "2025-05-14T00:10:26.273237",
     "exception": false,
     "start_time": "2025-05-14T00:10:26.222199",
     "status": "completed"
    },
    "tags": []
   },
   "outputs": [
    {
     "data": {
      "text/plain": [
       "0"
      ]
     },
     "execution_count": 9,
     "metadata": {},
     "output_type": "execute_result"
    }
   ],
   "source": [
    "#checking duplicates\n",
    "df.duplicated().sum()"
   ]
  },
  {
   "cell_type": "markdown",
   "id": "a1989bc2",
   "metadata": {
    "papermill": {
     "duration": 0.006004,
     "end_time": "2025-05-14T00:10:26.285535",
     "exception": false,
     "start_time": "2025-05-14T00:10:26.279531",
     "status": "completed"
    },
    "tags": []
   },
   "source": [
    "# Text Preprocessing"
   ]
  },
  {
   "cell_type": "code",
   "execution_count": 10,
   "id": "c336ef38",
   "metadata": {
    "execution": {
     "iopub.execute_input": "2025-05-14T00:10:26.298862Z",
     "iopub.status.busy": "2025-05-14T00:10:26.298332Z",
     "iopub.status.idle": "2025-05-14T00:10:26.564676Z",
     "shell.execute_reply": "2025-05-14T00:10:26.563907Z"
    },
    "papermill": {
     "duration": 0.274306,
     "end_time": "2025-05-14T00:10:26.566031",
     "exception": false,
     "start_time": "2025-05-14T00:10:26.291725",
     "status": "completed"
    },
    "tags": []
   },
   "outputs": [],
   "source": [
    "import re\n",
    "import string\n",
    "from bs4 import BeautifulSoup"
   ]
  },
  {
   "cell_type": "code",
   "execution_count": 11,
   "id": "b04562a7",
   "metadata": {
    "execution": {
     "iopub.execute_input": "2025-05-14T00:10:26.580805Z",
     "iopub.status.busy": "2025-05-14T00:10:26.580045Z",
     "iopub.status.idle": "2025-05-14T00:10:26.583989Z",
     "shell.execute_reply": "2025-05-14T00:10:26.583516Z"
    },
    "papermill": {
     "duration": 0.012261,
     "end_time": "2025-05-14T00:10:26.585023",
     "exception": false,
     "start_time": "2025-05-14T00:10:26.572762",
     "status": "completed"
    },
    "tags": []
   },
   "outputs": [],
   "source": [
    "def cleaned_text (text):\n",
    "    text = text.lower() #converting to lower case\n",
    "    text = re.sub(r'\\d+', '', text) #removing numbers\n",
    "    text = text.translate(str.maketrans('', '', string.punctuation)) \n",
    "    #removing punctuation\n",
    "    text = re.sub(r'\\W', ' ', text) #removing special characters\n",
    "    text = BeautifulSoup(text, \"html.parser\").get_text() #removing HTML tags\n",
    "    return text"
   ]
  },
  {
   "cell_type": "code",
   "execution_count": 12,
   "id": "7763aa4f",
   "metadata": {
    "execution": {
     "iopub.execute_input": "2025-05-14T00:10:26.599065Z",
     "iopub.status.busy": "2025-05-14T00:10:26.598880Z",
     "iopub.status.idle": "2025-05-14T00:10:29.361326Z",
     "shell.execute_reply": "2025-05-14T00:10:29.360501Z"
    },
    "papermill": {
     "duration": 2.771038,
     "end_time": "2025-05-14T00:10:29.362826",
     "exception": false,
     "start_time": "2025-05-14T00:10:26.591788",
     "status": "completed"
    },
    "tags": []
   },
   "outputs": [],
   "source": [
    "df['Cleaned_Document'] = df['Document'].apply(cleaned_text)"
   ]
  },
  {
   "cell_type": "code",
   "execution_count": 13,
   "id": "3a137333",
   "metadata": {
    "execution": {
     "iopub.execute_input": "2025-05-14T00:10:29.378515Z",
     "iopub.status.busy": "2025-05-14T00:10:29.378262Z",
     "iopub.status.idle": "2025-05-14T00:10:31.228961Z",
     "shell.execute_reply": "2025-05-14T00:10:31.228429Z"
    },
    "papermill": {
     "duration": 1.85979,
     "end_time": "2025-05-14T00:10:31.230319",
     "exception": false,
     "start_time": "2025-05-14T00:10:29.370529",
     "status": "completed"
    },
    "tags": []
   },
   "outputs": [],
   "source": [
    "import nltk\n",
    "\n",
    "#specifying the path to the already downloaded punkt dataset and other packages\n",
    "nltk.data.path.append('/kaggle/input/nltk-datasets/nltk_data')"
   ]
  },
  {
   "cell_type": "code",
   "execution_count": 14,
   "id": "00b1968c",
   "metadata": {
    "execution": {
     "iopub.execute_input": "2025-05-14T00:10:31.244057Z",
     "iopub.status.busy": "2025-05-14T00:10:31.243679Z",
     "iopub.status.idle": "2025-05-14T00:10:31.247129Z",
     "shell.execute_reply": "2025-05-14T00:10:31.246483Z"
    },
    "papermill": {
     "duration": 0.011302,
     "end_time": "2025-05-14T00:10:31.248316",
     "exception": false,
     "start_time": "2025-05-14T00:10:31.237014",
     "status": "completed"
    },
    "tags": []
   },
   "outputs": [],
   "source": [
    "from nltk.tokenize import word_tokenize"
   ]
  },
  {
   "cell_type": "code",
   "execution_count": 15,
   "id": "f27689c3",
   "metadata": {
    "execution": {
     "iopub.execute_input": "2025-05-14T00:10:31.261458Z",
     "iopub.status.busy": "2025-05-14T00:10:31.260997Z",
     "iopub.status.idle": "2025-05-14T00:10:38.751217Z",
     "shell.execute_reply": "2025-05-14T00:10:38.750424Z"
    },
    "papermill": {
     "duration": 7.498356,
     "end_time": "2025-05-14T00:10:38.752732",
     "exception": false,
     "start_time": "2025-05-14T00:10:31.254376",
     "status": "completed"
    },
    "tags": []
   },
   "outputs": [],
   "source": [
    "#splitting text into words\n",
    "df['Cleaned_Document'] = df['Cleaned_Document'].apply(word_tokenize)"
   ]
  },
  {
   "cell_type": "code",
   "execution_count": 16,
   "id": "87775540",
   "metadata": {
    "execution": {
     "iopub.execute_input": "2025-05-14T00:10:38.810313Z",
     "iopub.status.busy": "2025-05-14T00:10:38.809834Z",
     "iopub.status.idle": "2025-05-14T00:10:38.817739Z",
     "shell.execute_reply": "2025-05-14T00:10:38.816991Z"
    },
    "papermill": {
     "duration": 0.059372,
     "end_time": "2025-05-14T00:10:38.818965",
     "exception": false,
     "start_time": "2025-05-14T00:10:38.759593",
     "status": "completed"
    },
    "tags": []
   },
   "outputs": [
    {
     "data": {
      "text/plain": [
       "0        [connection, with, icon, icon, dear, please, s...\n",
       "1        [work, experience, user, work, experience, use...\n",
       "2        [requesting, for, meeting, requesting, meeting...\n",
       "3        [reset, passwords, for, external, accounts, re...\n",
       "4        [mail, verification, warning, hi, has, got, at...\n",
       "                               ...                        \n",
       "47832    [git, space, for, a, project, issues, with, ad...\n",
       "47833    [error, sent, july, error, hi, guys, can, you,...\n",
       "47834    [connection, issues, sent, tuesday, july, conn...\n",
       "47835    [error, cube, reports, sent, tuesday, july, er...\n",
       "47836    [running, out, on, extensions, hello, please, ...\n",
       "Name: Cleaned_Document, Length: 47837, dtype: object"
      ]
     },
     "execution_count": 16,
     "metadata": {},
     "output_type": "execute_result"
    }
   ],
   "source": [
    "df['Cleaned_Document']"
   ]
  },
  {
   "cell_type": "code",
   "execution_count": 17,
   "id": "a2315ba8",
   "metadata": {
    "execution": {
     "iopub.execute_input": "2025-05-14T00:10:38.834546Z",
     "iopub.status.busy": "2025-05-14T00:10:38.834330Z",
     "iopub.status.idle": "2025-05-14T00:10:38.842807Z",
     "shell.execute_reply": "2025-05-14T00:10:38.842266Z"
    },
    "papermill": {
     "duration": 0.017238,
     "end_time": "2025-05-14T00:10:38.843801",
     "exception": false,
     "start_time": "2025-05-14T00:10:38.826563",
     "status": "completed"
    },
    "tags": []
   },
   "outputs": [
    {
     "name": "stdout",
     "output_type": "stream",
     "text": [
      "198\n"
     ]
    }
   ],
   "source": [
    "#removing stop-words\n",
    "from nltk.corpus import stopwords\n",
    "stop_words = set(stopwords.words('english'))\n",
    "print(len(stop_words)) #checking that stop-words are downloaded"
   ]
  },
  {
   "cell_type": "code",
   "execution_count": 18,
   "id": "d6d07ed9",
   "metadata": {
    "execution": {
     "iopub.execute_input": "2025-05-14T00:10:38.857884Z",
     "iopub.status.busy": "2025-05-14T00:10:38.857369Z",
     "iopub.status.idle": "2025-05-14T00:10:39.072279Z",
     "shell.execute_reply": "2025-05-14T00:10:39.071445Z"
    },
    "papermill": {
     "duration": 0.223356,
     "end_time": "2025-05-14T00:10:39.073823",
     "exception": false,
     "start_time": "2025-05-14T00:10:38.850467",
     "status": "completed"
    },
    "tags": []
   },
   "outputs": [],
   "source": [
    "df['Cleaned_Document'] = df['Cleaned_Document'].apply(\n",
    "    lambda toks: [w for w in toks if w not in stop_words]\n",
    ")"
   ]
  },
  {
   "cell_type": "code",
   "execution_count": 19,
   "id": "d96a13f8",
   "metadata": {
    "execution": {
     "iopub.execute_input": "2025-05-14T00:10:39.088808Z",
     "iopub.status.busy": "2025-05-14T00:10:39.088137Z",
     "iopub.status.idle": "2025-05-14T00:10:39.095515Z",
     "shell.execute_reply": "2025-05-14T00:10:39.094735Z"
    },
    "papermill": {
     "duration": 0.015777,
     "end_time": "2025-05-14T00:10:39.096638",
     "exception": false,
     "start_time": "2025-05-14T00:10:39.080861",
     "status": "completed"
    },
    "tags": []
   },
   "outputs": [
    {
     "data": {
      "text/plain": [
       "0        [connection, icon, icon, dear, please, setup, ...\n",
       "1        [work, experience, user, work, experience, use...\n",
       "2        [requesting, meeting, requesting, meeting, hi,...\n",
       "3        [reset, passwords, external, accounts, expire,...\n",
       "4        [mail, verification, warning, hi, got, attache...\n",
       "                               ...                        \n",
       "47832    [git, space, project, issues, adding, users, s...\n",
       "47833    [error, sent, july, error, hi, guys, help, err...\n",
       "47834    [connection, issues, sent, tuesday, july, conn...\n",
       "47835    [error, cube, reports, sent, tuesday, july, er...\n",
       "47836    [running, extensions, hello, please, advised, ...\n",
       "Name: Cleaned_Document, Length: 47837, dtype: object"
      ]
     },
     "execution_count": 19,
     "metadata": {},
     "output_type": "execute_result"
    }
   ],
   "source": [
    "df['Cleaned_Document']"
   ]
  },
  {
   "cell_type": "code",
   "execution_count": 20,
   "id": "0fdb64a2",
   "metadata": {
    "execution": {
     "iopub.execute_input": "2025-05-14T00:10:39.110958Z",
     "iopub.status.busy": "2025-05-14T00:10:39.110582Z",
     "iopub.status.idle": "2025-05-14T00:10:47.916433Z",
     "shell.execute_reply": "2025-05-14T00:10:47.915620Z"
    },
    "papermill": {
     "duration": 8.814621,
     "end_time": "2025-05-14T00:10:47.917936",
     "exception": false,
     "start_time": "2025-05-14T00:10:39.103315",
     "status": "completed"
    },
    "tags": []
   },
   "outputs": [],
   "source": [
    "#lemmatization\n",
    "from nltk.stem import PorterStemmer, WordNetLemmatizer\n",
    "lemmatizer = WordNetLemmatizer()\n",
    "df['Cleaned_Document'] = df['Cleaned_Document'].apply(lambda doc: [lemmatizer.lemmatize(word) for word in doc])"
   ]
  },
  {
   "cell_type": "code",
   "execution_count": 21,
   "id": "b00bc1d2",
   "metadata": {
    "execution": {
     "iopub.execute_input": "2025-05-14T00:10:47.932177Z",
     "iopub.status.busy": "2025-05-14T00:10:47.931954Z",
     "iopub.status.idle": "2025-05-14T00:10:47.939704Z",
     "shell.execute_reply": "2025-05-14T00:10:47.939117Z"
    },
    "papermill": {
     "duration": 0.015835,
     "end_time": "2025-05-14T00:10:47.940677",
     "exception": false,
     "start_time": "2025-05-14T00:10:47.924842",
     "status": "completed"
    },
    "tags": []
   },
   "outputs": [
    {
     "data": {
      "text/plain": [
       "0     [connection, icon, icon, dear, please, setup, ...\n",
       "1     [work, experience, user, work, experience, use...\n",
       "2     [requesting, meeting, requesting, meeting, hi,...\n",
       "3     [reset, password, external, account, expire, d...\n",
       "4     [mail, verification, warning, hi, got, attache...\n",
       "5     [mail, please, dear, look, blacklisted, receiv...\n",
       "6     [prod, server, tunneling, prod, tunneling, va,...\n",
       "7     [access, request, dear, module, report, report...\n",
       "8     [reset, password, client, password, client, de...\n",
       "9     [direct, report, missing, time, please, action...\n",
       "10    [laptop, connected, request, rebuild, connecte...\n",
       "11    [device, recovery, report, printer, alert, dup...\n",
       "12            [new, starter, hello, please, fill, date]\n",
       "13    [visual, studio, license, visual, studio, lice...\n",
       "14    [system, hello, movement, left, available, dev...\n",
       "15    [access, secondary, secondary, hi, please, pro...\n",
       "16    [list, sent, copy, copy, hi, receive, copy, be...\n",
       "17    [new, purchase, po, purchase, po, dear, purcha...\n",
       "18    [invitation, cloud, strategy, workshop, februa...\n",
       "19    [change, sale, owner, contract, change, owner,...\n",
       "Name: Cleaned_Document, dtype: object"
      ]
     },
     "execution_count": 21,
     "metadata": {},
     "output_type": "execute_result"
    }
   ],
   "source": [
    "df['Cleaned_Document'].head(20)"
   ]
  },
  {
   "cell_type": "code",
   "execution_count": 22,
   "id": "783b790f",
   "metadata": {
    "execution": {
     "iopub.execute_input": "2025-05-14T00:10:47.954533Z",
     "iopub.status.busy": "2025-05-14T00:10:47.954320Z",
     "iopub.status.idle": "2025-05-14T00:10:47.962436Z",
     "shell.execute_reply": "2025-05-14T00:10:47.961852Z"
    },
    "papermill": {
     "duration": 0.016261,
     "end_time": "2025-05-14T00:10:47.963479",
     "exception": false,
     "start_time": "2025-05-14T00:10:47.947218",
     "status": "completed"
    },
    "tags": []
   },
   "outputs": [
    {
     "data": {
      "text/plain": [
       "47817    [submit, expense, even, though, added, electro...\n",
       "47818    [job, referral, available, sent, thursday, jul...\n",
       "47819    [oracle, update, another, bug, sent, thursday,...\n",
       "47820    [social, error, sent, thursday, july, error, d...\n",
       "47821    [backup, server, performance, issue, sent, thu...\n",
       "47822    [approving, expense, project, code, related, w...\n",
       "47823    [bug, sent, wednesday, july, bug, hello, disco...\n",
       "47824    [oracle, fusion, working, message, unplanned, ...\n",
       "47825    [issue, sent, friday, july, hi, issue, somethi...\n",
       "47826    [oracle, error, sent, thursday, july, error, h...\n",
       "47827    [bandwidth, problem, sent, thursday, july, ban...\n",
       "47828    [password, expire, day, sent, july, password, ...\n",
       "47829    [sensitive, information, access, sent, wednesd...\n",
       "47830    [malfunction, sent, tuesday, july, malfunction...\n",
       "47831    [outlook, account, laptop, laptop, sa, sa, si,...\n",
       "47832    [git, space, project, issue, adding, user, sen...\n",
       "47833    [error, sent, july, error, hi, guy, help, erro...\n",
       "47834    [connection, issue, sent, tuesday, july, conne...\n",
       "47835    [error, cube, report, sent, tuesday, july, err...\n",
       "47836    [running, extension, hello, please, advised, r...\n",
       "Name: Cleaned_Document, dtype: object"
      ]
     },
     "execution_count": 22,
     "metadata": {},
     "output_type": "execute_result"
    }
   ],
   "source": [
    "df['Cleaned_Document'].tail(20)"
   ]
  },
  {
   "cell_type": "markdown",
   "id": "2369e98b",
   "metadata": {
    "papermill": {
     "duration": 0.006232,
     "end_time": "2025-05-14T00:10:47.976236",
     "exception": false,
     "start_time": "2025-05-14T00:10:47.970004",
     "status": "completed"
    },
    "tags": []
   },
   "source": [
    "As I can see, besides stop words, the corpus contains many words like 'please', 'hi', 'hello', etc. These words can affect the efficiency of the algorithm, so I would remove them manually."
   ]
  },
  {
   "cell_type": "code",
   "execution_count": 23,
   "id": "eb9d4493",
   "metadata": {
    "execution": {
     "iopub.execute_input": "2025-05-14T00:10:47.990062Z",
     "iopub.status.busy": "2025-05-14T00:10:47.989828Z",
     "iopub.status.idle": "2025-05-14T00:10:48.844354Z",
     "shell.execute_reply": "2025-05-14T00:10:48.843738Z"
    },
    "papermill": {
     "duration": 0.863078,
     "end_time": "2025-05-14T00:10:48.845833",
     "exception": false,
     "start_time": "2025-05-14T00:10:47.982755",
     "status": "completed"
    },
    "tags": []
   },
   "outputs": [],
   "source": [
    "custom_stopwords = ['hi', 'hello', 'dear', 'please', 'help', 'guy', 'guys',\n",
    "                   'thanks', 'thank', 'regards', 'best', 'hey', 'appreciate',\n",
    "                    'sorry', 'welcome', 'cheers', 'hello', 'goodbye', 'bye',\n",
    "                    'kindly', 'gladly']\n",
    "\n",
    "df['Cleaned_Document'] = df['Cleaned_Document'].apply(\n",
    "    lambda doc: [word for word in doc if word not in custom_stopwords]\n",
    ")"
   ]
  },
  {
   "cell_type": "code",
   "execution_count": 24,
   "id": "79f6499d",
   "metadata": {
    "execution": {
     "iopub.execute_input": "2025-05-14T00:10:48.860942Z",
     "iopub.status.busy": "2025-05-14T00:10:48.860713Z",
     "iopub.status.idle": "2025-05-14T00:10:48.867834Z",
     "shell.execute_reply": "2025-05-14T00:10:48.867186Z"
    },
    "papermill": {
     "duration": 0.015702,
     "end_time": "2025-05-14T00:10:48.868918",
     "exception": false,
     "start_time": "2025-05-14T00:10:48.853216",
     "status": "completed"
    },
    "tags": []
   },
   "outputs": [
    {
     "data": {
      "text/plain": [
       "0        [connection, icon, icon, setup, icon, per, ico...\n",
       "1        [work, experience, user, work, experience, use...\n",
       "2        [requesting, meeting, requesting, meeting, fol...\n",
       "3        [reset, password, external, account, expire, d...\n",
       "4        [mail, verification, warning, got, attached, a...\n",
       "                               ...                        \n",
       "47832    [git, space, project, issue, adding, user, sen...\n",
       "47833    [error, sent, july, error, error, appearing, w...\n",
       "47834    [connection, issue, sent, tuesday, july, conne...\n",
       "47835    [error, cube, report, sent, tuesday, july, err...\n",
       "47836    [running, extension, advised, running, extensi...\n",
       "Name: Cleaned_Document, Length: 47837, dtype: object"
      ]
     },
     "execution_count": 24,
     "metadata": {},
     "output_type": "execute_result"
    }
   ],
   "source": [
    "df['Cleaned_Document']"
   ]
  },
  {
   "cell_type": "code",
   "execution_count": 25,
   "id": "038e49c2",
   "metadata": {
    "execution": {
     "iopub.execute_input": "2025-05-14T00:10:48.885189Z",
     "iopub.status.busy": "2025-05-14T00:10:48.884990Z",
     "iopub.status.idle": "2025-05-14T00:10:49.053749Z",
     "shell.execute_reply": "2025-05-14T00:10:49.053153Z"
    },
    "papermill": {
     "duration": 0.178216,
     "end_time": "2025-05-14T00:10:49.055145",
     "exception": false,
     "start_time": "2025-05-14T00:10:48.876929",
     "status": "completed"
    },
    "tags": []
   },
   "outputs": [],
   "source": [
    "#%pip install contractions\n",
    "#import contractions\n",
    "\n",
    "contraction_map = {\n",
    "    \"aren't\": \"are not\",\n",
    "    \"can't\": \"cannot\",\n",
    "    \"couldn't\": \"could not\",\n",
    "    \"didn't\": \"did not\",\n",
    "    \"doesn't\": \"does not\",\n",
    "    \"don't\": \"do not\",\n",
    "    \"hadn't\": \"had not\",\n",
    "    \"hasn't\": \"has not\",\n",
    "    \"haven't\": \"have not\",\n",
    "    \"he'd\": \"he would\",\n",
    "    \"he'll\": \"he will\",\n",
    "    \"he's\": \"he is\",\n",
    "    \"i'd\": \"i would\",\n",
    "    \"i'll\": \"i will\",\n",
    "    \"i'm\": \"i am\",\n",
    "    \"i've\": \"i have\",\n",
    "    \"isn't\": \"is not\",\n",
    "    \"it's\": \"it is\",\n",
    "    \"let's\": \"let us\",\n",
    "    \"mightn't\": \"might not\",\n",
    "    \"mustn't\": \"must not\",\n",
    "    \"shan't\": \"shall not\",\n",
    "    \"she'd\": \"she would\",\n",
    "    \"she'll\": \"she will\",\n",
    "    \"she's\": \"she is\",\n",
    "    \"shouldn't\": \"should not\",\n",
    "    \"that's\": \"that is\",\n",
    "    \"there's\": \"there is\",\n",
    "    \"they'd\": \"they would\",\n",
    "    \"they'll\": \"they will\",\n",
    "    \"they're\": \"they are\",\n",
    "    \"they've\": \"they have\",\n",
    "    \"we'd\": \"we would\",\n",
    "    \"we're\": \"we are\",\n",
    "    \"we've\": \"we have\",\n",
    "    \"weren't\": \"were not\",\n",
    "    \"what'll\": \"what will\",\n",
    "    \"what're\": \"what are\",\n",
    "    \"what's\": \"what is\",\n",
    "    \"what've\": \"what have\",\n",
    "    \"where's\": \"where is\",\n",
    "    \"who's\": \"who is\",\n",
    "    \"who'll\": \"who will\",\n",
    "    \"won't\": \"will not\",\n",
    "    \"wouldn't\": \"would not\",\n",
    "    \"you'd\": \"you would\",\n",
    "    \"you'll\": \"you will\",\n",
    "    \"you're\": \"you are\",\n",
    "    \"you've\": \"you have\"\n",
    "}\n",
    "\n",
    "def expand_contractions_tokenized(doc):\n",
    "    return [contraction_map.get(word, word) for word in doc]\n",
    "\n",
    "df['Cleaned_Document'] = df['Cleaned_Document'].apply(expand_contractions_tokenized)"
   ]
  },
  {
   "cell_type": "code",
   "execution_count": 26,
   "id": "e6a77604",
   "metadata": {
    "execution": {
     "iopub.execute_input": "2025-05-14T00:10:49.070169Z",
     "iopub.status.busy": "2025-05-14T00:10:49.069941Z",
     "iopub.status.idle": "2025-05-14T00:10:49.076862Z",
     "shell.execute_reply": "2025-05-14T00:10:49.076292Z"
    },
    "papermill": {
     "duration": 0.015411,
     "end_time": "2025-05-14T00:10:49.077884",
     "exception": false,
     "start_time": "2025-05-14T00:10:49.062473",
     "status": "completed"
    },
    "tags": []
   },
   "outputs": [
    {
     "data": {
      "text/plain": [
       "0        [connection, icon, icon, setup, icon, per, ico...\n",
       "1        [work, experience, user, work, experience, use...\n",
       "2        [requesting, meeting, requesting, meeting, fol...\n",
       "3        [reset, password, external, account, expire, d...\n",
       "4        [mail, verification, warning, got, attached, a...\n",
       "                               ...                        \n",
       "47832    [git, space, project, issue, adding, user, sen...\n",
       "47833    [error, sent, july, error, error, appearing, w...\n",
       "47834    [connection, issue, sent, tuesday, july, conne...\n",
       "47835    [error, cube, report, sent, tuesday, july, err...\n",
       "47836    [running, extension, advised, running, extensi...\n",
       "Name: Cleaned_Document, Length: 47837, dtype: object"
      ]
     },
     "execution_count": 26,
     "metadata": {},
     "output_type": "execute_result"
    }
   ],
   "source": [
    "df['Cleaned_Document'] "
   ]
  },
  {
   "cell_type": "code",
   "execution_count": 27,
   "id": "bd2d6d71",
   "metadata": {
    "execution": {
     "iopub.execute_input": "2025-05-14T00:10:49.092358Z",
     "iopub.status.busy": "2025-05-14T00:10:49.091821Z",
     "iopub.status.idle": "2025-05-14T00:10:50.492332Z",
     "shell.execute_reply": "2025-05-14T00:10:50.491509Z"
    },
    "papermill": {
     "duration": 1.409137,
     "end_time": "2025-05-14T00:10:50.493797",
     "exception": false,
     "start_time": "2025-05-14T00:10:49.084660",
     "status": "completed"
    },
    "tags": []
   },
   "outputs": [],
   "source": [
    "#saving dataset\n",
    "df['Cleaned_Document_Str'] = df['Cleaned_Document'].apply(lambda tokens: ' '.join(tokens))\n",
    "df.to_csv('cleaned_dataset.csv', index=False)"
   ]
  },
  {
   "cell_type": "markdown",
   "id": "54577f08",
   "metadata": {
    "papermill": {
     "duration": 0.006878,
     "end_time": "2025-05-14T00:10:50.508084",
     "exception": false,
     "start_time": "2025-05-14T00:10:50.501206",
     "status": "completed"
    },
    "tags": []
   },
   "source": [
    "# EDA"
   ]
  },
  {
   "cell_type": "code",
   "execution_count": 28,
   "id": "d31f5a82",
   "metadata": {
    "execution": {
     "iopub.execute_input": "2025-05-14T00:10:50.522572Z",
     "iopub.status.busy": "2025-05-14T00:10:50.522277Z",
     "iopub.status.idle": "2025-05-14T00:10:50.552518Z",
     "shell.execute_reply": "2025-05-14T00:10:50.551778Z"
    },
    "papermill": {
     "duration": 0.038794,
     "end_time": "2025-05-14T00:10:50.553694",
     "exception": false,
     "start_time": "2025-05-14T00:10:50.514900",
     "status": "completed"
    },
    "tags": []
   },
   "outputs": [
    {
     "name": "stdout",
     "output_type": "stream",
     "text": [
      "count    47837.000000\n",
      "mean        33.148860\n",
      "std         44.508495\n",
      "min          0.000000\n",
      "25%         12.000000\n",
      "50%         20.000000\n",
      "75%         35.000000\n",
      "max        817.000000\n",
      "Name: doc_length, dtype: float64\n"
     ]
    }
   ],
   "source": [
    "#number of tokens per document.\n",
    "df['doc_length'] = df['Cleaned_Document'].apply(len)\n",
    "print(df['doc_length'].describe())"
   ]
  },
  {
   "cell_type": "markdown",
   "id": "ce2997c0",
   "metadata": {
    "papermill": {
     "duration": 0.006509,
     "end_time": "2025-05-14T00:10:50.567476",
     "exception": false,
     "start_time": "2025-05-14T00:10:50.560967",
     "status": "completed"
    },
    "tags": []
   },
   "source": [
    "As we can see, there are some tickets with zero tokens, meaning they are essentially empty"
   ]
  },
  {
   "cell_type": "code",
   "execution_count": 29,
   "id": "edd96443",
   "metadata": {
    "execution": {
     "iopub.execute_input": "2025-05-14T00:10:50.582078Z",
     "iopub.status.busy": "2025-05-14T00:10:50.581867Z",
     "iopub.status.idle": "2025-05-14T00:10:50.591718Z",
     "shell.execute_reply": "2025-05-14T00:10:50.591134Z"
    },
    "papermill": {
     "duration": 0.018264,
     "end_time": "2025-05-14T00:10:50.592760",
     "exception": false,
     "start_time": "2025-05-14T00:10:50.574496",
     "status": "completed"
    },
    "tags": []
   },
   "outputs": [
    {
     "data": {
      "text/html": [
       "<div>\n",
       "<style scoped>\n",
       "    .dataframe tbody tr th:only-of-type {\n",
       "        vertical-align: middle;\n",
       "    }\n",
       "\n",
       "    .dataframe tbody tr th {\n",
       "        vertical-align: top;\n",
       "    }\n",
       "\n",
       "    .dataframe thead th {\n",
       "        text-align: right;\n",
       "    }\n",
       "</style>\n",
       "<table border=\"1\" class=\"dataframe\">\n",
       "  <thead>\n",
       "    <tr style=\"text-align: right;\">\n",
       "      <th></th>\n",
       "      <th>Document</th>\n",
       "      <th>Topic_group</th>\n",
       "      <th>Cleaned_Document</th>\n",
       "      <th>Cleaned_Document_Str</th>\n",
       "      <th>doc_length</th>\n",
       "    </tr>\n",
       "  </thead>\n",
       "  <tbody>\n",
       "    <tr>\n",
       "      <th>35590</th>\n",
       "      <td>for is down again for down again hi for down a...</td>\n",
       "      <td>Administrative rights</td>\n",
       "      <td>[]</td>\n",
       "      <td></td>\n",
       "      <td>0</td>\n",
       "    </tr>\n",
       "  </tbody>\n",
       "</table>\n",
       "</div>"
      ],
      "text/plain": [
       "                                                Document  \\\n",
       "35590  for is down again for down again hi for down a...   \n",
       "\n",
       "                 Topic_group Cleaned_Document Cleaned_Document_Str  doc_length  \n",
       "35590  Administrative rights               []                                0  "
      ]
     },
     "execution_count": 29,
     "metadata": {},
     "output_type": "execute_result"
    }
   ],
   "source": [
    "df[df['doc_length'] == 0]"
   ]
  },
  {
   "cell_type": "code",
   "execution_count": 30,
   "id": "631ecc22",
   "metadata": {
    "execution": {
     "iopub.execute_input": "2025-05-14T00:10:50.607305Z",
     "iopub.status.busy": "2025-05-14T00:10:50.607093Z",
     "iopub.status.idle": "2025-05-14T00:10:50.616708Z",
     "shell.execute_reply": "2025-05-14T00:10:50.615928Z"
    },
    "papermill": {
     "duration": 0.018347,
     "end_time": "2025-05-14T00:10:50.617984",
     "exception": false,
     "start_time": "2025-05-14T00:10:50.599637",
     "status": "completed"
    },
    "tags": []
   },
   "outputs": [],
   "source": [
    "df = df[df['doc_length'] != 0]"
   ]
  },
  {
   "cell_type": "code",
   "execution_count": 31,
   "id": "5f568065",
   "metadata": {
    "execution": {
     "iopub.execute_input": "2025-05-14T00:10:50.634138Z",
     "iopub.status.busy": "2025-05-14T00:10:50.633953Z",
     "iopub.status.idle": "2025-05-14T00:10:51.784109Z",
     "shell.execute_reply": "2025-05-14T00:10:51.783306Z"
    },
    "papermill": {
     "duration": 1.159458,
     "end_time": "2025-05-14T00:10:51.785356",
     "exception": false,
     "start_time": "2025-05-14T00:10:50.625898",
     "status": "completed"
    },
    "tags": []
   },
   "outputs": [
    {
     "name": "stdout",
     "output_type": "stream",
     "text": [
      "[('pm', 28902), ('regard', 27286), ('sent', 14717), ('issue', 14176), ('access', 13309), ('kind', 13252), ('tuesday', 10899), ('wednesday', 10429), ('error', 10152), ('thursday', 9937)]\n"
     ]
    }
   ],
   "source": [
    "from nltk.probability import FreqDist\n",
    "# Убираем NaN и взрываем списки токенов в один Series\n",
    "doc = df['Cleaned_Document'].dropna().explode()\n",
    "\n",
    "# Фильтруем только строки\n",
    "doc = doc[doc.apply(lambda x: isinstance(x, str))]\n",
    "\n",
    "# Считаем частоты\n",
    "fdist = FreqDist(doc)\n",
    "\n",
    "# Топ-10\n",
    "top10 = fdist.most_common(10)\n",
    "print(top10)"
   ]
  },
  {
   "cell_type": "code",
   "execution_count": 32,
   "id": "32e7beb2",
   "metadata": {
    "execution": {
     "iopub.execute_input": "2025-05-14T00:10:51.800498Z",
     "iopub.status.busy": "2025-05-14T00:10:51.800282Z",
     "iopub.status.idle": "2025-05-14T00:10:51.803300Z",
     "shell.execute_reply": "2025-05-14T00:10:51.802640Z"
    },
    "papermill": {
     "duration": 0.011647,
     "end_time": "2025-05-14T00:10:51.804461",
     "exception": false,
     "start_time": "2025-05-14T00:10:51.792814",
     "status": "completed"
    },
    "tags": []
   },
   "outputs": [],
   "source": [
    "#сделать чтото с тем что ниже!!!!"
   ]
  },
  {
   "cell_type": "code",
   "execution_count": 33,
   "id": "fa5b053d",
   "metadata": {
    "execution": {
     "iopub.execute_input": "2025-05-14T00:10:51.819754Z",
     "iopub.status.busy": "2025-05-14T00:10:51.819105Z",
     "iopub.status.idle": "2025-05-14T00:10:51.823040Z",
     "shell.execute_reply": "2025-05-14T00:10:51.822171Z"
    },
    "papermill": {
     "duration": 0.012698,
     "end_time": "2025-05-14T00:10:51.824081",
     "exception": false,
     "start_time": "2025-05-14T00:10:51.811383",
     "status": "completed"
    },
    "tags": []
   },
   "outputs": [
    {
     "name": "stdout",
     "output_type": "stream",
     "text": [
      "[('pm', 28902), ('regard', 27286), ('sent', 14717), ('issue', 14176), ('access', 13309), ('kind', 13252), ('tuesday', 10899), ('wednesday', 10429), ('error', 10152), ('thursday', 9937)]\n"
     ]
    }
   ],
   "source": [
    "print(top10)"
   ]
  },
  {
   "cell_type": "code",
   "execution_count": 34,
   "id": "a7c47974",
   "metadata": {
    "execution": {
     "iopub.execute_input": "2025-05-14T00:10:51.839071Z",
     "iopub.status.busy": "2025-05-14T00:10:51.838881Z",
     "iopub.status.idle": "2025-05-14T00:10:52.180096Z",
     "shell.execute_reply": "2025-05-14T00:10:52.179490Z"
    },
    "papermill": {
     "duration": 0.35031,
     "end_time": "2025-05-14T00:10:52.181491",
     "exception": false,
     "start_time": "2025-05-14T00:10:51.831181",
     "status": "completed"
    },
    "tags": []
   },
   "outputs": [
    {
     "data": {
      "text/plain": [
       "<Axes: xlabel='Samples', ylabel='Counts'>"
      ]
     },
     "execution_count": 34,
     "metadata": {},
     "output_type": "execute_result"
    },
    {
     "data": {
      "image/png": "[encoded data removed]",
      "text/plain": [
       "<Figure size 640x480 with 1 Axes>"
      ]
     },
     "metadata": {},
     "output_type": "display_data"
    }
   ],
   "source": [
    "fdist.plot(30, cumulative=False)  "
   ]
  },
  {
   "cell_type": "code",
   "execution_count": 35,
   "id": "c5934eea",
   "metadata": {
    "execution": {
     "iopub.execute_input": "2025-05-14T00:10:52.198524Z",
     "iopub.status.busy": "2025-05-14T00:10:52.198331Z",
     "iopub.status.idle": "2025-05-14T00:10:58.590025Z",
     "shell.execute_reply": "2025-05-14T00:10:58.589264Z"
    },
    "papermill": {
     "duration": 6.403624,
     "end_time": "2025-05-14T00:10:58.593503",
     "exception": false,
     "start_time": "2025-05-14T00:10:52.189879",
     "status": "completed"
    },
    "tags": []
   },
   "outputs": [
    {
     "data": {
      "image/png": "[encoded data removed]",
      "text/plain": [
       "<Figure size 640x480 with 1 Axes>"
      ]
     },
     "metadata": {},
     "output_type": "display_data"
    }
   ],
   "source": [
    "from wordcloud import WordCloud \n",
    "wc = WordCloud(width=800, height=400).generate(' '.join(doc))\n",
    "plt.imshow(wc, interpolation='bilinear')\n",
    "plt.axis('off')\n",
    "plt.show()"
   ]
  },
  {
   "cell_type": "markdown",
   "id": "e4ad2a87",
   "metadata": {
    "papermill": {
     "duration": 0.010365,
     "end_time": "2025-05-14T00:10:58.615549",
     "exception": false,
     "start_time": "2025-05-14T00:10:58.605184",
     "status": "completed"
    },
    "tags": []
   },
   "source": [
    "# Classification"
   ]
  },
  {
   "cell_type": "code",
   "execution_count": 36,
   "id": "0c7d2e60",
   "metadata": {
    "execution": {
     "iopub.execute_input": "2025-05-14T00:10:58.637344Z",
     "iopub.status.busy": "2025-05-14T00:10:58.636987Z",
     "iopub.status.idle": "2025-05-14T00:10:58.646485Z",
     "shell.execute_reply": "2025-05-14T00:10:58.645923Z"
    },
    "papermill": {
     "duration": 0.021448,
     "end_time": "2025-05-14T00:10:58.647489",
     "exception": false,
     "start_time": "2025-05-14T00:10:58.626041",
     "status": "completed"
    },
    "tags": []
   },
   "outputs": [
    {
     "data": {
      "text/html": [
       "<div>\n",
       "<style scoped>\n",
       "    .dataframe tbody tr th:only-of-type {\n",
       "        vertical-align: middle;\n",
       "    }\n",
       "\n",
       "    .dataframe tbody tr th {\n",
       "        vertical-align: top;\n",
       "    }\n",
       "\n",
       "    .dataframe thead th {\n",
       "        text-align: right;\n",
       "    }\n",
       "</style>\n",
       "<table border=\"1\" class=\"dataframe\">\n",
       "  <thead>\n",
       "    <tr style=\"text-align: right;\">\n",
       "      <th></th>\n",
       "      <th>Document</th>\n",
       "      <th>Topic_group</th>\n",
       "      <th>Cleaned_Document</th>\n",
       "      <th>Cleaned_Document_Str</th>\n",
       "      <th>doc_length</th>\n",
       "    </tr>\n",
       "  </thead>\n",
       "  <tbody>\n",
       "    <tr>\n",
       "      <th>0</th>\n",
       "      <td>connection with icon icon dear please setup ic...</td>\n",
       "      <td>Hardware</td>\n",
       "      <td>[connection, icon, icon, setup, icon, per, ico...</td>\n",
       "      <td>connection icon icon setup icon per icon engin...</td>\n",
       "      <td>12</td>\n",
       "    </tr>\n",
       "    <tr>\n",
       "      <th>1</th>\n",
       "      <td>work experience user work experience user hi w...</td>\n",
       "      <td>Access</td>\n",
       "      <td>[work, experience, user, work, experience, use...</td>\n",
       "      <td>work experience user work experience user work...</td>\n",
       "      <td>14</td>\n",
       "    </tr>\n",
       "    <tr>\n",
       "      <th>2</th>\n",
       "      <td>requesting for meeting requesting meeting hi p...</td>\n",
       "      <td>Hardware</td>\n",
       "      <td>[requesting, meeting, requesting, meeting, fol...</td>\n",
       "      <td>requesting meeting requesting meeting follow e...</td>\n",
       "      <td>10</td>\n",
       "    </tr>\n",
       "    <tr>\n",
       "      <th>3</th>\n",
       "      <td>reset passwords for external accounts re expir...</td>\n",
       "      <td>Access</td>\n",
       "      <td>[reset, password, external, account, expire, d...</td>\n",
       "      <td>reset password external account expire day ask...</td>\n",
       "      <td>112</td>\n",
       "    </tr>\n",
       "    <tr>\n",
       "      <th>4</th>\n",
       "      <td>mail verification warning hi has got attached ...</td>\n",
       "      <td>Miscellaneous</td>\n",
       "      <td>[mail, verification, warning, got, attached, a...</td>\n",
       "      <td>mail verification warning got attached address...</td>\n",
       "      <td>11</td>\n",
       "    </tr>\n",
       "  </tbody>\n",
       "</table>\n",
       "</div>"
      ],
      "text/plain": [
       "                                            Document    Topic_group  \\\n",
       "0  connection with icon icon dear please setup ic...       Hardware   \n",
       "1  work experience user work experience user hi w...         Access   \n",
       "2  requesting for meeting requesting meeting hi p...       Hardware   \n",
       "3  reset passwords for external accounts re expir...         Access   \n",
       "4  mail verification warning hi has got attached ...  Miscellaneous   \n",
       "\n",
       "                                    Cleaned_Document  \\\n",
       "0  [connection, icon, icon, setup, icon, per, ico...   \n",
       "1  [work, experience, user, work, experience, use...   \n",
       "2  [requesting, meeting, requesting, meeting, fol...   \n",
       "3  [reset, password, external, account, expire, d...   \n",
       "4  [mail, verification, warning, got, attached, a...   \n",
       "\n",
       "                                Cleaned_Document_Str  doc_length  \n",
       "0  connection icon icon setup icon per icon engin...          12  \n",
       "1  work experience user work experience user work...          14  \n",
       "2  requesting meeting requesting meeting follow e...          10  \n",
       "3  reset password external account expire day ask...         112  \n",
       "4  mail verification warning got attached address...          11  "
      ]
     },
     "execution_count": 36,
     "metadata": {},
     "output_type": "execute_result"
    }
   ],
   "source": [
    "df.head()"
   ]
  },
  {
   "cell_type": "code",
   "execution_count": 37,
   "id": "66e44a3e",
   "metadata": {
    "execution": {
     "iopub.execute_input": "2025-05-14T00:10:58.670055Z",
     "iopub.status.busy": "2025-05-14T00:10:58.669475Z",
     "iopub.status.idle": "2025-05-14T00:10:58.676966Z",
     "shell.execute_reply": "2025-05-14T00:10:58.676287Z"
    },
    "papermill": {
     "duration": 0.019747,
     "end_time": "2025-05-14T00:10:58.678011",
     "exception": false,
     "start_time": "2025-05-14T00:10:58.658264",
     "status": "completed"
    },
    "tags": []
   },
   "outputs": [
    {
     "data": {
      "text/plain": [
       "array(['Hardware', 'Access', 'Miscellaneous', 'HR Support', 'Purchase',\n",
       "       'Administrative rights', 'Storage', 'Internal Project'],\n",
       "      dtype=object)"
      ]
     },
     "execution_count": 37,
     "metadata": {},
     "output_type": "execute_result"
    }
   ],
   "source": [
    "df['Topic_group'].unique()"
   ]
  },
  {
   "cell_type": "markdown",
   "id": "a6b1a519",
   "metadata": {
    "papermill": {
     "duration": 0.010254,
     "end_time": "2025-05-14T00:10:58.698989",
     "exception": false,
     "start_time": "2025-05-14T00:10:58.688735",
     "status": "completed"
    },
    "tags": []
   },
   "source": [
    "## Logistic Regression"
   ]
  },
  {
   "cell_type": "code",
   "execution_count": 38,
   "id": "dca437d8",
   "metadata": {
    "execution": {
     "iopub.execute_input": "2025-05-14T00:10:58.722165Z",
     "iopub.status.busy": "2025-05-14T00:10:58.721985Z",
     "iopub.status.idle": "2025-05-14T00:11:01.226700Z",
     "shell.execute_reply": "2025-05-14T00:11:01.226104Z"
    },
    "papermill": {
     "duration": 2.517019,
     "end_time": "2025-05-14T00:11:01.227950",
     "exception": false,
     "start_time": "2025-05-14T00:10:58.710931",
     "status": "completed"
    },
    "tags": []
   },
   "outputs": [],
   "source": [
    "#TF-IDF\n",
    "from sklearn.feature_extraction.text import TfidfVectorizer\n",
    "\n",
    "vectorizer = TfidfVectorizer(min_df=5, max_df=0.8, ngram_range=(1,2))\n",
    "X = vectorizer.fit_transform(df['Cleaned_Document_Str'])"
   ]
  },
  {
   "cell_type": "code",
   "execution_count": 39,
   "id": "a3ed6b03",
   "metadata": {
    "execution": {
     "iopub.execute_input": "2025-05-14T00:11:01.251388Z",
     "iopub.status.busy": "2025-05-14T00:11:01.250858Z",
     "iopub.status.idle": "2025-05-14T00:11:01.261294Z",
     "shell.execute_reply": "2025-05-14T00:11:01.260759Z"
    },
    "papermill": {
     "duration": 0.022965,
     "end_time": "2025-05-14T00:11:01.262232",
     "exception": false,
     "start_time": "2025-05-14T00:11:01.239267",
     "status": "completed"
    },
    "tags": []
   },
   "outputs": [],
   "source": [
    "#encoding target variable\n",
    "from sklearn.preprocessing import LabelEncoder\n",
    "\n",
    "le = LabelEncoder()\n",
    "y = le.fit_transform(df['Topic_group'])"
   ]
  },
  {
   "cell_type": "code",
   "execution_count": 40,
   "id": "fa81ff3a",
   "metadata": {
    "execution": {
     "iopub.execute_input": "2025-05-14T00:11:01.284678Z",
     "iopub.status.busy": "2025-05-14T00:11:01.284489Z",
     "iopub.status.idle": "2025-05-14T00:11:01.287935Z",
     "shell.execute_reply": "2025-05-14T00:11:01.287265Z"
    },
    "papermill": {
     "duration": 0.015854,
     "end_time": "2025-05-14T00:11:01.288938",
     "exception": false,
     "start_time": "2025-05-14T00:11:01.273084",
     "status": "completed"
    },
    "tags": []
   },
   "outputs": [],
   "source": [
    "from sklearn.linear_model import LogisticRegression\n",
    "from sklearn.model_selection import train_test_split\n",
    "from sklearn.metrics import classification_report"
   ]
  },
  {
   "cell_type": "code",
   "execution_count": 41,
   "id": "a1c56e72",
   "metadata": {
    "execution": {
     "iopub.execute_input": "2025-05-14T00:11:01.311593Z",
     "iopub.status.busy": "2025-05-14T00:11:01.311113Z",
     "iopub.status.idle": "2025-05-14T00:11:26.069236Z",
     "shell.execute_reply": "2025-05-14T00:11:26.067499Z"
    },
    "papermill": {
     "duration": 24.771076,
     "end_time": "2025-05-14T00:11:26.070846",
     "exception": false,
     "start_time": "2025-05-14T00:11:01.299770",
     "status": "completed"
    },
    "tags": []
   },
   "outputs": [
    {
     "name": "stdout",
     "output_type": "stream",
     "text": [
      "              precision    recall  f1-score   support\n",
      "\n",
      "           0       0.92      0.87      0.89      1468\n",
      "           1       0.91      0.64      0.75       331\n",
      "           2       0.85      0.85      0.85      2110\n",
      "           3       0.79      0.90      0.84      2761\n",
      "           4       0.92      0.78      0.84       448\n",
      "           5       0.83      0.84      0.83      1397\n",
      "           6       0.98      0.87      0.92       499\n",
      "           7       0.94      0.82      0.88       554\n",
      "\n",
      "    accuracy                           0.85      9568\n",
      "   macro avg       0.89      0.82      0.85      9568\n",
      "weighted avg       0.86      0.85      0.85      9568\n",
      "\n"
     ]
    }
   ],
   "source": [
    "X_train, X_test, y_train, y_test = train_test_split(X, y, test_size=0.2, random_state=42)\n",
    "clf = LogisticRegression(max_iter=1000)\n",
    "clf.fit(X_train, y_train)\n",
    "preds = clf.predict(X_test)\n",
    "print(classification_report(y_test, preds))"
   ]
  },
  {
   "cell_type": "markdown",
   "id": "ae7d26e2",
   "metadata": {
    "papermill": {
     "duration": 0.020044,
     "end_time": "2025-05-14T00:11:26.111836",
     "exception": false,
     "start_time": "2025-05-14T00:11:26.091792",
     "status": "completed"
    },
    "tags": []
   },
   "source": [
    "## Decision Trees / Random Forest / XGBoost:"
   ]
  },
  {
   "cell_type": "markdown",
   "id": "58061287",
   "metadata": {
    "papermill": {
     "duration": 0.020225,
     "end_time": "2025-05-14T00:11:26.152027",
     "exception": false,
     "start_time": "2025-05-14T00:11:26.131802",
     "status": "completed"
    },
    "tags": []
   },
   "source": [
    "## RNN"
   ]
  },
  {
   "cell_type": "markdown",
   "id": "4e53b2b1",
   "metadata": {
    "papermill": {
     "duration": 0.012503,
     "end_time": "2025-05-14T00:11:26.176952",
     "exception": false,
     "start_time": "2025-05-14T00:11:26.164449",
     "status": "completed"
    },
    "tags": []
   },
   "source": [
    "## BERT"
   ]
  }
 ],
 "metadata": {
  "kaggle": {
   "accelerator": "nvidiaTeslaT4",
   "dataSources": [
    {
     "datasetId": 4460055,
     "sourceId": 7650678,
     "sourceType": "datasetVersion"
    }
   ],
   "dockerImageVersionId": 31012,
   "isGpuEnabled": true,
   "isInternetEnabled": false,
   "language": "python",
   "sourceType": "notebook"
  },
  "kernelspec": {
   "display_name": "Python 3",
   "language": "python",
   "name": "python3"
  },
  "language_info": {
   "codemirror_mode": {
    "name": "ipython",
    "version": 3
   },
   "file_extension": ".py",
   "mimetype": "text/x-python",
   "name": "python",
   "nbconvert_exporter": "python",
   "pygments_lexer": "ipython3",
   "version": "3.11.11"
  },
  "papermill": {
   "default_parameters": {},
   "duration": 68.088298,
   "end_time": "2025-05-14T00:11:27.508919",
   "environment_variables": {},
   "exception": null,
   "input_path": "__notebook__.ipynb",
   "output_path": "__notebook__.ipynb",
   "parameters": {},
   "start_time": "2025-05-14T00:10:19.420621",
   "version": "2.6.0"
  }
 },
 "nbformat": 4,
 "nbformat_minor": 5
}
