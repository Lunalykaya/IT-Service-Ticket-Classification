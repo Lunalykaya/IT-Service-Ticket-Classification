{
 "cells": [
  {
   "cell_type": "code",
   "execution_count": 1,
   "id": "2423679b",
   "metadata": {
    "_cell_guid": "b1076dfc-b9ad-4769-8c92-a6c4dae69d19",
    "_uuid": "8f2839f25d086af736a60e9eeb907d3b93b6e0e5",
    "execution": {
     "iopub.execute_input": "2025-06-09T14:41:40.862460Z",
     "iopub.status.busy": "2025-06-09T14:41:40.862188Z",
     "iopub.status.idle": "2025-06-09T14:41:42.289227Z",
     "shell.execute_reply": "2025-06-09T14:41:42.288311Z"
    },
    "papermill": {
     "duration": 1.440941,
     "end_time": "2025-06-09T14:41:42.290546",
     "exception": false,
     "start_time": "2025-06-09T14:41:40.849605",
     "status": "completed"
    },
    "tags": []
   },
   "outputs": [
    {
     "name": "stdout",
     "output_type": "stream",
     "text": [
      "/kaggle/input/it-service-ticket-classification-dataset/all_tickets_processed_improved_v3.csv\n"
     ]
    }
   ],
   "source": [
    "# This Python 3 environment comes with many helpful analytics libraries installed\n",
    "# It is defined by the kaggle/python Docker image: https://github.com/kaggle/docker-python\n",
    "# For example, here's several helpful packages to load\n",
    "\n",
    "import numpy as np # linear algebra\n",
    "import pandas as pd # data processing, CSV file I/O (e.g. pd.read_csv)\n",
    "\n",
    "# Input data files are available in the read-only \"../input/\" directory\n",
    "# For example, running this (by clicking run or pressing Shift+Enter) will list all files under the input directory\n",
    "\n",
    "import os\n",
    "for dirname, _, filenames in os.walk('/kaggle/input'):\n",
    "    for filename in filenames:\n",
    "        print(os.path.join(dirname, filename))\n",
    "\n",
    "# You can write up to 20GB to the current directory (/kaggle/working/) that gets preserved as output when you create a version using \"Save & Run All\" \n",
    "# You can also write temporary files to /kaggle/temp/, but they won't be saved outside of the current session"
   ]
  },
  {
   "cell_type": "markdown",
   "id": "8dea4d10",
   "metadata": {
    "papermill": {
     "duration": 0.01005,
     "end_time": "2025-06-09T14:41:42.310978",
     "exception": false,
     "start_time": "2025-06-09T14:41:42.300928",
     "status": "completed"
    },
    "tags": []
   },
   "source": [
    "кросс валидацию\n",
    "грид серч / что-то для тьюнинга гиперпараметров\n",
    "берт"
   ]
  },
  {
   "cell_type": "markdown",
   "id": "be789f5b",
   "metadata": {
    "papermill": {
     "duration": 0.011036,
     "end_time": "2025-06-09T14:41:42.332157",
     "exception": false,
     "start_time": "2025-06-09T14:41:42.321121",
     "status": "completed"
    },
    "tags": []
   },
   "source": [
    "# Loading data"
   ]
  },
  {
   "cell_type": "code",
   "execution_count": 2,
   "id": "fa61c416",
   "metadata": {
    "execution": {
     "iopub.execute_input": "2025-06-09T14:41:42.363855Z",
     "iopub.status.busy": "2025-06-09T14:41:42.362964Z",
     "iopub.status.idle": "2025-06-09T14:41:42.368041Z",
     "shell.execute_reply": "2025-06-09T14:41:42.367236Z"
    },
    "papermill": {
     "duration": 0.024966,
     "end_time": "2025-06-09T14:41:42.369420",
     "exception": false,
     "start_time": "2025-06-09T14:41:42.344454",
     "status": "completed"
    },
    "tags": []
   },
   "outputs": [],
   "source": [
    "import pandas as pd\n",
    "import numpy as np\n",
    "import matplotlib.pyplot as plt "
   ]
  },
  {
   "cell_type": "code",
   "execution_count": 3,
   "id": "cbfeb957",
   "metadata": {
    "execution": {
     "iopub.execute_input": "2025-06-09T14:41:42.396009Z",
     "iopub.status.busy": "2025-06-09T14:41:42.395357Z",
     "iopub.status.idle": "2025-06-09T14:41:42.955229Z",
     "shell.execute_reply": "2025-06-09T14:41:42.954408Z"
    },
    "papermill": {
     "duration": 0.576065,
     "end_time": "2025-06-09T14:41:42.956351",
     "exception": false,
     "start_time": "2025-06-09T14:41:42.380286",
     "status": "completed"
    },
    "tags": []
   },
   "outputs": [
    {
     "name": "stdout",
     "output_type": "stream",
     "text": [
      "Path to dataset files: /kaggle/input/it-service-ticket-classification-dataset\n"
     ]
    }
   ],
   "source": [
    "import kagglehub\n",
    "\n",
    "# Download latest version\n",
    "path = kagglehub.dataset_download(\"adisongoh/it-service-ticket-classification-dataset\")\n",
    "\n",
    "print(\"Path to dataset files:\", path)"
   ]
  },
  {
   "cell_type": "code",
   "execution_count": 4,
   "id": "a924d5e5",
   "metadata": {
    "execution": {
     "iopub.execute_input": "2025-06-09T14:41:42.978010Z",
     "iopub.status.busy": "2025-06-09T14:41:42.977557Z",
     "iopub.status.idle": "2025-06-09T14:41:43.395207Z",
     "shell.execute_reply": "2025-06-09T14:41:43.394437Z"
    },
    "papermill": {
     "duration": 0.429992,
     "end_time": "2025-06-09T14:41:43.396629",
     "exception": false,
     "start_time": "2025-06-09T14:41:42.966637",
     "status": "completed"
    },
    "tags": []
   },
   "outputs": [],
   "source": [
    "#reading df\n",
    "df = pd.read_csv('/kaggle/input/it-service-ticket-classification-dataset/all_tickets_processed_improved_v3.csv')"
   ]
  },
  {
   "cell_type": "code",
   "execution_count": 5,
   "id": "e9eb8718",
   "metadata": {
    "execution": {
     "iopub.execute_input": "2025-06-09T14:41:43.418187Z",
     "iopub.status.busy": "2025-06-09T14:41:43.417749Z",
     "iopub.status.idle": "2025-06-09T14:41:43.449101Z",
     "shell.execute_reply": "2025-06-09T14:41:43.448221Z"
    },
    "papermill": {
     "duration": 0.043297,
     "end_time": "2025-06-09T14:41:43.450396",
     "exception": false,
     "start_time": "2025-06-09T14:41:43.407099",
     "status": "completed"
    },
    "tags": []
   },
   "outputs": [
    {
     "name": "stdout",
     "output_type": "stream",
     "text": [
      "<class 'pandas.core.frame.DataFrame'>\n",
      "RangeIndex: 47837 entries, 0 to 47836\n",
      "Data columns (total 2 columns):\n",
      " #   Column       Non-Null Count  Dtype \n",
      "---  ------       --------------  ----- \n",
      " 0   Document     47837 non-null  object\n",
      " 1   Topic_group  47837 non-null  object\n",
      "dtypes: object(2)\n",
      "memory usage: 747.6+ KB\n"
     ]
    }
   ],
   "source": [
    "df.info()"
   ]
  },
  {
   "cell_type": "code",
   "execution_count": 6,
   "id": "10226590",
   "metadata": {
    "execution": {
     "iopub.execute_input": "2025-06-09T14:41:43.472097Z",
     "iopub.status.busy": "2025-06-09T14:41:43.471494Z",
     "iopub.status.idle": "2025-06-09T14:41:43.488838Z",
     "shell.execute_reply": "2025-06-09T14:41:43.488197Z"
    },
    "papermill": {
     "duration": 0.029095,
     "end_time": "2025-06-09T14:41:43.489992",
     "exception": false,
     "start_time": "2025-06-09T14:41:43.460897",
     "status": "completed"
    },
    "tags": []
   },
   "outputs": [
    {
     "data": {
      "text/html": [
       "<div>\n",
       "<style scoped>\n",
       "    .dataframe tbody tr th:only-of-type {\n",
       "        vertical-align: middle;\n",
       "    }\n",
       "\n",
       "    .dataframe tbody tr th {\n",
       "        vertical-align: top;\n",
       "    }\n",
       "\n",
       "    .dataframe thead th {\n",
       "        text-align: right;\n",
       "    }\n",
       "</style>\n",
       "<table border=\"1\" class=\"dataframe\">\n",
       "  <thead>\n",
       "    <tr style=\"text-align: right;\">\n",
       "      <th></th>\n",
       "      <th>Document</th>\n",
       "      <th>Topic_group</th>\n",
       "    </tr>\n",
       "  </thead>\n",
       "  <tbody>\n",
       "    <tr>\n",
       "      <th>0</th>\n",
       "      <td>connection with icon icon dear please setup ic...</td>\n",
       "      <td>Hardware</td>\n",
       "    </tr>\n",
       "    <tr>\n",
       "      <th>1</th>\n",
       "      <td>work experience user work experience user hi w...</td>\n",
       "      <td>Access</td>\n",
       "    </tr>\n",
       "    <tr>\n",
       "      <th>2</th>\n",
       "      <td>requesting for meeting requesting meeting hi p...</td>\n",
       "      <td>Hardware</td>\n",
       "    </tr>\n",
       "    <tr>\n",
       "      <th>3</th>\n",
       "      <td>reset passwords for external accounts re expir...</td>\n",
       "      <td>Access</td>\n",
       "    </tr>\n",
       "    <tr>\n",
       "      <th>4</th>\n",
       "      <td>mail verification warning hi has got attached ...</td>\n",
       "      <td>Miscellaneous</td>\n",
       "    </tr>\n",
       "  </tbody>\n",
       "</table>\n",
       "</div>"
      ],
      "text/plain": [
       "                                            Document    Topic_group\n",
       "0  connection with icon icon dear please setup ic...       Hardware\n",
       "1  work experience user work experience user hi w...         Access\n",
       "2  requesting for meeting requesting meeting hi p...       Hardware\n",
       "3  reset passwords for external accounts re expir...         Access\n",
       "4  mail verification warning hi has got attached ...  Miscellaneous"
      ]
     },
     "execution_count": 6,
     "metadata": {},
     "output_type": "execute_result"
    }
   ],
   "source": [
    "#quick preview of the df\n",
    "df.head()"
   ]
  },
  {
   "cell_type": "code",
   "execution_count": 7,
   "id": "35d7ae59",
   "metadata": {
    "execution": {
     "iopub.execute_input": "2025-06-09T14:41:43.568849Z",
     "iopub.status.busy": "2025-06-09T14:41:43.568386Z",
     "iopub.status.idle": "2025-06-09T14:41:43.578997Z",
     "shell.execute_reply": "2025-06-09T14:41:43.578236Z"
    },
    "papermill": {
     "duration": 0.07929,
     "end_time": "2025-06-09T14:41:43.580251",
     "exception": false,
     "start_time": "2025-06-09T14:41:43.500961",
     "status": "completed"
    },
    "tags": []
   },
   "outputs": [
    {
     "data": {
      "text/plain": [
       "array(['Hardware', 'Access', 'Miscellaneous', 'HR Support', 'Purchase',\n",
       "       'Administrative rights', 'Storage', 'Internal Project'],\n",
       "      dtype=object)"
      ]
     },
     "execution_count": 7,
     "metadata": {},
     "output_type": "execute_result"
    }
   ],
   "source": [
    "#viewing unique values (categories) in Topic_group\n",
    "df['Topic_group'].nunique()\n",
    "df['Topic_group'].unique()"
   ]
  },
  {
   "cell_type": "code",
   "execution_count": 8,
   "id": "b3d1415d",
   "metadata": {
    "execution": {
     "iopub.execute_input": "2025-06-09T14:41:43.601691Z",
     "iopub.status.busy": "2025-06-09T14:41:43.600973Z",
     "iopub.status.idle": "2025-06-09T14:41:43.614316Z",
     "shell.execute_reply": "2025-06-09T14:41:43.613748Z"
    },
    "papermill": {
     "duration": 0.025037,
     "end_time": "2025-06-09T14:41:43.615409",
     "exception": false,
     "start_time": "2025-06-09T14:41:43.590372",
     "status": "completed"
    },
    "tags": []
   },
   "outputs": [
    {
     "data": {
      "text/plain": [
       "Document       0\n",
       "Topic_group    0\n",
       "dtype: int64"
      ]
     },
     "execution_count": 8,
     "metadata": {},
     "output_type": "execute_result"
    }
   ],
   "source": [
    "#checking na\n",
    "df.isnull().sum()"
   ]
  },
  {
   "cell_type": "code",
   "execution_count": 9,
   "id": "07096f93",
   "metadata": {
    "execution": {
     "iopub.execute_input": "2025-06-09T14:41:43.637350Z",
     "iopub.status.busy": "2025-06-09T14:41:43.636854Z",
     "iopub.status.idle": "2025-06-09T14:41:43.686141Z",
     "shell.execute_reply": "2025-06-09T14:41:43.685460Z"
    },
    "papermill": {
     "duration": 0.061201,
     "end_time": "2025-06-09T14:41:43.687380",
     "exception": false,
     "start_time": "2025-06-09T14:41:43.626179",
     "status": "completed"
    },
    "tags": []
   },
   "outputs": [
    {
     "data": {
      "text/plain": [
       "0"
      ]
     },
     "execution_count": 9,
     "metadata": {},
     "output_type": "execute_result"
    }
   ],
   "source": [
    "#checking duplicates\n",
    "df.duplicated().sum()"
   ]
  },
  {
   "cell_type": "markdown",
   "id": "86a2f9de",
   "metadata": {
    "papermill": {
     "duration": 0.010385,
     "end_time": "2025-06-09T14:41:43.708513",
     "exception": false,
     "start_time": "2025-06-09T14:41:43.698128",
     "status": "completed"
    },
    "tags": []
   },
   "source": [
    "# Text Preprocessing"
   ]
  },
  {
   "cell_type": "code",
   "execution_count": 10,
   "id": "a35819ec",
   "metadata": {
    "execution": {
     "iopub.execute_input": "2025-06-09T14:41:43.730548Z",
     "iopub.status.busy": "2025-06-09T14:41:43.729854Z",
     "iopub.status.idle": "2025-06-09T14:41:43.977710Z",
     "shell.execute_reply": "2025-06-09T14:41:43.977156Z"
    },
    "papermill": {
     "duration": 0.260461,
     "end_time": "2025-06-09T14:41:43.979087",
     "exception": false,
     "start_time": "2025-06-09T14:41:43.718626",
     "status": "completed"
    },
    "tags": []
   },
   "outputs": [],
   "source": [
    "import re\n",
    "import string\n",
    "from bs4 import BeautifulSoup"
   ]
  },
  {
   "cell_type": "code",
   "execution_count": 11,
   "id": "1c0cb0cd",
   "metadata": {
    "execution": {
     "iopub.execute_input": "2025-06-09T14:41:44.002238Z",
     "iopub.status.busy": "2025-06-09T14:41:44.001530Z",
     "iopub.status.idle": "2025-06-09T14:41:44.005596Z",
     "shell.execute_reply": "2025-06-09T14:41:44.005054Z"
    },
    "papermill": {
     "duration": 0.016331,
     "end_time": "2025-06-09T14:41:44.006699",
     "exception": false,
     "start_time": "2025-06-09T14:41:43.990368",
     "status": "completed"
    },
    "tags": []
   },
   "outputs": [],
   "source": [
    "def cleaned_text (text):\n",
    "    text = text.lower() #converting to lower case\n",
    "    text = re.sub(r'\\d+', '', text) #removing numbers\n",
    "    text = text.translate(str.maketrans('', '', string.punctuation)) \n",
    "    #removing punctuation\n",
    "    text = re.sub(r'\\W', ' ', text) #removing special characters\n",
    "    text = BeautifulSoup(text, \"html.parser\").get_text() #removing HTML tags\n",
    "    return text"
   ]
  },
  {
   "cell_type": "code",
   "execution_count": 12,
   "id": "ca1a9c61",
   "metadata": {
    "execution": {
     "iopub.execute_input": "2025-06-09T14:41:44.028280Z",
     "iopub.status.busy": "2025-06-09T14:41:44.028064Z",
     "iopub.status.idle": "2025-06-09T14:41:46.768300Z",
     "shell.execute_reply": "2025-06-09T14:41:46.767713Z"
    },
    "papermill": {
     "duration": 2.752482,
     "end_time": "2025-06-09T14:41:46.769632",
     "exception": false,
     "start_time": "2025-06-09T14:41:44.017150",
     "status": "completed"
    },
    "tags": []
   },
   "outputs": [],
   "source": [
    "df['Cleaned_Document'] = df['Document'].apply(cleaned_text)"
   ]
  },
  {
   "cell_type": "code",
   "execution_count": 13,
   "id": "724f69ad",
   "metadata": {
    "execution": {
     "iopub.execute_input": "2025-06-09T14:41:46.791509Z",
     "iopub.status.busy": "2025-06-09T14:41:46.791246Z",
     "iopub.status.idle": "2025-06-09T14:41:48.649551Z",
     "shell.execute_reply": "2025-06-09T14:41:48.648702Z"
    },
    "papermill": {
     "duration": 1.870752,
     "end_time": "2025-06-09T14:41:48.651112",
     "exception": false,
     "start_time": "2025-06-09T14:41:46.780360",
     "status": "completed"
    },
    "tags": []
   },
   "outputs": [],
   "source": [
    "import nltk\n",
    "\n",
    "#specifying the path to the already downloaded punkt dataset and other packages\n",
    "nltk.data.path.append('/kaggle/input/nltk-datasets/nltk_data')"
   ]
  },
  {
   "cell_type": "code",
   "execution_count": 14,
   "id": "ee0dad79",
   "metadata": {
    "execution": {
     "iopub.execute_input": "2025-06-09T14:41:48.673646Z",
     "iopub.status.busy": "2025-06-09T14:41:48.673239Z",
     "iopub.status.idle": "2025-06-09T14:41:48.676933Z",
     "shell.execute_reply": "2025-06-09T14:41:48.676401Z"
    },
    "papermill": {
     "duration": 0.015863,
     "end_time": "2025-06-09T14:41:48.677914",
     "exception": false,
     "start_time": "2025-06-09T14:41:48.662051",
     "status": "completed"
    },
    "tags": []
   },
   "outputs": [],
   "source": [
    "from nltk.tokenize import word_tokenize"
   ]
  },
  {
   "cell_type": "code",
   "execution_count": 15,
   "id": "4cecb16c",
   "metadata": {
    "execution": {
     "iopub.execute_input": "2025-06-09T14:41:48.699319Z",
     "iopub.status.busy": "2025-06-09T14:41:48.699107Z",
     "iopub.status.idle": "2025-06-09T14:41:56.073868Z",
     "shell.execute_reply": "2025-06-09T14:41:56.073279Z"
    },
    "papermill": {
     "duration": 7.387001,
     "end_time": "2025-06-09T14:41:56.075345",
     "exception": false,
     "start_time": "2025-06-09T14:41:48.688344",
     "status": "completed"
    },
    "tags": []
   },
   "outputs": [],
   "source": [
    "#splitting text into words\n",
    "df['Cleaned_Document'] = df['Cleaned_Document'].apply(word_tokenize)"
   ]
  },
  {
   "cell_type": "code",
   "execution_count": 16,
   "id": "de547076",
   "metadata": {
    "execution": {
     "iopub.execute_input": "2025-06-09T14:41:56.098390Z",
     "iopub.status.busy": "2025-06-09T14:41:56.097787Z",
     "iopub.status.idle": "2025-06-09T14:41:56.105452Z",
     "shell.execute_reply": "2025-06-09T14:41:56.104836Z"
    },
    "papermill": {
     "duration": 0.020335,
     "end_time": "2025-06-09T14:41:56.106519",
     "exception": false,
     "start_time": "2025-06-09T14:41:56.086184",
     "status": "completed"
    },
    "tags": []
   },
   "outputs": [
    {
     "data": {
      "text/plain": [
       "0        [connection, with, icon, icon, dear, please, s...\n",
       "1        [work, experience, user, work, experience, use...\n",
       "2        [requesting, for, meeting, requesting, meeting...\n",
       "3        [reset, passwords, for, external, accounts, re...\n",
       "4        [mail, verification, warning, hi, has, got, at...\n",
       "                               ...                        \n",
       "47832    [git, space, for, a, project, issues, with, ad...\n",
       "47833    [error, sent, july, error, hi, guys, can, you,...\n",
       "47834    [connection, issues, sent, tuesday, july, conn...\n",
       "47835    [error, cube, reports, sent, tuesday, july, er...\n",
       "47836    [running, out, on, extensions, hello, please, ...\n",
       "Name: Cleaned_Document, Length: 47837, dtype: object"
      ]
     },
     "execution_count": 16,
     "metadata": {},
     "output_type": "execute_result"
    }
   ],
   "source": [
    "df['Cleaned_Document']"
   ]
  },
  {
   "cell_type": "code",
   "execution_count": 17,
   "id": "69a5a05c",
   "metadata": {
    "execution": {
     "iopub.execute_input": "2025-06-09T14:41:56.128572Z",
     "iopub.status.busy": "2025-06-09T14:41:56.128088Z",
     "iopub.status.idle": "2025-06-09T14:41:56.135244Z",
     "shell.execute_reply": "2025-06-09T14:41:56.134587Z"
    },
    "papermill": {
     "duration": 0.019229,
     "end_time": "2025-06-09T14:41:56.136342",
     "exception": false,
     "start_time": "2025-06-09T14:41:56.117113",
     "status": "completed"
    },
    "tags": []
   },
   "outputs": [
    {
     "name": "stdout",
     "output_type": "stream",
     "text": [
      "198\n"
     ]
    }
   ],
   "source": [
    "#removing stop-words\n",
    "from nltk.corpus import stopwords\n",
    "stop_words = set(stopwords.words('english'))\n",
    "print(len(stop_words)) #checking that stop-words are downloaded"
   ]
  },
  {
   "cell_type": "code",
   "execution_count": 18,
   "id": "a0ece30d",
   "metadata": {
    "execution": {
     "iopub.execute_input": "2025-06-09T14:41:56.158483Z",
     "iopub.status.busy": "2025-06-09T14:41:56.157932Z",
     "iopub.status.idle": "2025-06-09T14:41:56.530254Z",
     "shell.execute_reply": "2025-06-09T14:41:56.529672Z"
    },
    "papermill": {
     "duration": 0.384765,
     "end_time": "2025-06-09T14:41:56.531621",
     "exception": false,
     "start_time": "2025-06-09T14:41:56.146856",
     "status": "completed"
    },
    "tags": []
   },
   "outputs": [],
   "source": [
    "df['Cleaned_Document'] = df['Cleaned_Document'].apply(\n",
    "    lambda toks: [w for w in toks if w not in stop_words]\n",
    ")"
   ]
  },
  {
   "cell_type": "code",
   "execution_count": 19,
   "id": "f6e0dbc1",
   "metadata": {
    "execution": {
     "iopub.execute_input": "2025-06-09T14:41:56.553920Z",
     "iopub.status.busy": "2025-06-09T14:41:56.553390Z",
     "iopub.status.idle": "2025-06-09T14:41:56.560224Z",
     "shell.execute_reply": "2025-06-09T14:41:56.559516Z"
    },
    "papermill": {
     "duration": 0.019111,
     "end_time": "2025-06-09T14:41:56.561442",
     "exception": false,
     "start_time": "2025-06-09T14:41:56.542331",
     "status": "completed"
    },
    "tags": []
   },
   "outputs": [
    {
     "data": {
      "text/plain": [
       "0        [connection, icon, icon, dear, please, setup, ...\n",
       "1        [work, experience, user, work, experience, use...\n",
       "2        [requesting, meeting, requesting, meeting, hi,...\n",
       "3        [reset, passwords, external, accounts, expire,...\n",
       "4        [mail, verification, warning, hi, got, attache...\n",
       "                               ...                        \n",
       "47832    [git, space, project, issues, adding, users, s...\n",
       "47833    [error, sent, july, error, hi, guys, help, err...\n",
       "47834    [connection, issues, sent, tuesday, july, conn...\n",
       "47835    [error, cube, reports, sent, tuesday, july, er...\n",
       "47836    [running, extensions, hello, please, advised, ...\n",
       "Name: Cleaned_Document, Length: 47837, dtype: object"
      ]
     },
     "execution_count": 19,
     "metadata": {},
     "output_type": "execute_result"
    }
   ],
   "source": [
    "df['Cleaned_Document']"
   ]
  },
  {
   "cell_type": "code",
   "execution_count": 20,
   "id": "780abdbb",
   "metadata": {
    "execution": {
     "iopub.execute_input": "2025-06-09T14:41:56.584768Z",
     "iopub.status.busy": "2025-06-09T14:41:56.584532Z",
     "iopub.status.idle": "2025-06-09T14:42:05.425757Z",
     "shell.execute_reply": "2025-06-09T14:42:05.424898Z"
    },
    "papermill": {
     "duration": 8.854359,
     "end_time": "2025-06-09T14:42:05.427199",
     "exception": false,
     "start_time": "2025-06-09T14:41:56.572840",
     "status": "completed"
    },
    "tags": []
   },
   "outputs": [],
   "source": [
    "#lemmatization\n",
    "from nltk.stem import PorterStemmer, WordNetLemmatizer\n",
    "lemmatizer = WordNetLemmatizer()\n",
    "df['Cleaned_Document'] = df['Cleaned_Document'].apply(lambda doc: [lemmatizer.lemmatize(word) for word in doc])"
   ]
  },
  {
   "cell_type": "code",
   "execution_count": 21,
   "id": "4e7e3a39",
   "metadata": {
    "execution": {
     "iopub.execute_input": "2025-06-09T14:42:05.449349Z",
     "iopub.status.busy": "2025-06-09T14:42:05.449094Z",
     "iopub.status.idle": "2025-06-09T14:42:05.456830Z",
     "shell.execute_reply": "2025-06-09T14:42:05.456306Z"
    },
    "papermill": {
     "duration": 0.019714,
     "end_time": "2025-06-09T14:42:05.457831",
     "exception": false,
     "start_time": "2025-06-09T14:42:05.438117",
     "status": "completed"
    },
    "tags": []
   },
   "outputs": [
    {
     "data": {
      "text/plain": [
       "0     [connection, icon, icon, dear, please, setup, ...\n",
       "1     [work, experience, user, work, experience, use...\n",
       "2     [requesting, meeting, requesting, meeting, hi,...\n",
       "3     [reset, password, external, account, expire, d...\n",
       "4     [mail, verification, warning, hi, got, attache...\n",
       "5     [mail, please, dear, look, blacklisted, receiv...\n",
       "6     [prod, server, tunneling, prod, tunneling, va,...\n",
       "7     [access, request, dear, module, report, report...\n",
       "8     [reset, password, client, password, client, de...\n",
       "9     [direct, report, missing, time, please, action...\n",
       "10    [laptop, connected, request, rebuild, connecte...\n",
       "11    [device, recovery, report, printer, alert, dup...\n",
       "12            [new, starter, hello, please, fill, date]\n",
       "13    [visual, studio, license, visual, studio, lice...\n",
       "14    [system, hello, movement, left, available, dev...\n",
       "15    [access, secondary, secondary, hi, please, pro...\n",
       "16    [list, sent, copy, copy, hi, receive, copy, be...\n",
       "17    [new, purchase, po, purchase, po, dear, purcha...\n",
       "18    [invitation, cloud, strategy, workshop, februa...\n",
       "19    [change, sale, owner, contract, change, owner,...\n",
       "Name: Cleaned_Document, dtype: object"
      ]
     },
     "execution_count": 21,
     "metadata": {},
     "output_type": "execute_result"
    }
   ],
   "source": [
    "df['Cleaned_Document'].head(20)"
   ]
  },
  {
   "cell_type": "code",
   "execution_count": 22,
   "id": "b48b2c87",
   "metadata": {
    "execution": {
     "iopub.execute_input": "2025-06-09T14:42:05.480669Z",
     "iopub.status.busy": "2025-06-09T14:42:05.480436Z",
     "iopub.status.idle": "2025-06-09T14:42:05.488414Z",
     "shell.execute_reply": "2025-06-09T14:42:05.487829Z"
    },
    "papermill": {
     "duration": 0.0203,
     "end_time": "2025-06-09T14:42:05.489469",
     "exception": false,
     "start_time": "2025-06-09T14:42:05.469169",
     "status": "completed"
    },
    "tags": []
   },
   "outputs": [
    {
     "data": {
      "text/plain": [
       "47817    [submit, expense, even, though, added, electro...\n",
       "47818    [job, referral, available, sent, thursday, jul...\n",
       "47819    [oracle, update, another, bug, sent, thursday,...\n",
       "47820    [social, error, sent, thursday, july, error, d...\n",
       "47821    [backup, server, performance, issue, sent, thu...\n",
       "47822    [approving, expense, project, code, related, w...\n",
       "47823    [bug, sent, wednesday, july, bug, hello, disco...\n",
       "47824    [oracle, fusion, working, message, unplanned, ...\n",
       "47825    [issue, sent, friday, july, hi, issue, somethi...\n",
       "47826    [oracle, error, sent, thursday, july, error, h...\n",
       "47827    [bandwidth, problem, sent, thursday, july, ban...\n",
       "47828    [password, expire, day, sent, july, password, ...\n",
       "47829    [sensitive, information, access, sent, wednesd...\n",
       "47830    [malfunction, sent, tuesday, july, malfunction...\n",
       "47831    [outlook, account, laptop, laptop, sa, sa, si,...\n",
       "47832    [git, space, project, issue, adding, user, sen...\n",
       "47833    [error, sent, july, error, hi, guy, help, erro...\n",
       "47834    [connection, issue, sent, tuesday, july, conne...\n",
       "47835    [error, cube, report, sent, tuesday, july, err...\n",
       "47836    [running, extension, hello, please, advised, r...\n",
       "Name: Cleaned_Document, dtype: object"
      ]
     },
     "execution_count": 22,
     "metadata": {},
     "output_type": "execute_result"
    }
   ],
   "source": [
    "df['Cleaned_Document'].tail(20)"
   ]
  },
  {
   "cell_type": "markdown",
   "id": "650eb3be",
   "metadata": {
    "papermill": {
     "duration": 0.010301,
     "end_time": "2025-06-09T14:42:05.510286",
     "exception": false,
     "start_time": "2025-06-09T14:42:05.499985",
     "status": "completed"
    },
    "tags": []
   },
   "source": [
    "As I can see, besides stop words, the corpus contains many words like 'please', 'hi', 'hello', etc. These words can affect the efficiency of the algorithm, so I would remove them manually."
   ]
  },
  {
   "cell_type": "code",
   "execution_count": 23,
   "id": "cfc689ac",
   "metadata": {
    "execution": {
     "iopub.execute_input": "2025-06-09T14:42:05.532403Z",
     "iopub.status.busy": "2025-06-09T14:42:05.532149Z",
     "iopub.status.idle": "2025-06-09T14:42:06.045031Z",
     "shell.execute_reply": "2025-06-09T14:42:06.044455Z"
    },
    "papermill": {
     "duration": 0.525723,
     "end_time": "2025-06-09T14:42:06.046479",
     "exception": false,
     "start_time": "2025-06-09T14:42:05.520756",
     "status": "completed"
    },
    "tags": []
   },
   "outputs": [],
   "source": [
    "custom_stopwords = ['hi', 'hello', 'dear', 'please', 'help', 'guy', 'guys',\n",
    "                   'thanks', 'thank', 'regards', 'best', 'hey', 'appreciate',\n",
    "                    'sorry', 'welcome', 'cheers', 'hello', 'goodbye', 'bye',\n",
    "                    'kindly', 'gladly']\n",
    "\n",
    "df['Cleaned_Document'] = df['Cleaned_Document'].apply(\n",
    "    lambda doc: [word for word in doc if word not in custom_stopwords]\n",
    ")"
   ]
  },
  {
   "cell_type": "code",
   "execution_count": 24,
   "id": "d978fe7e",
   "metadata": {
    "execution": {
     "iopub.execute_input": "2025-06-09T14:42:06.069251Z",
     "iopub.status.busy": "2025-06-09T14:42:06.068976Z",
     "iopub.status.idle": "2025-06-09T14:42:06.076717Z",
     "shell.execute_reply": "2025-06-09T14:42:06.076059Z"
    },
    "papermill": {
     "duration": 0.020254,
     "end_time": "2025-06-09T14:42:06.077835",
     "exception": false,
     "start_time": "2025-06-09T14:42:06.057581",
     "status": "completed"
    },
    "tags": []
   },
   "outputs": [
    {
     "data": {
      "text/plain": [
       "0        [connection, icon, icon, setup, icon, per, ico...\n",
       "1        [work, experience, user, work, experience, use...\n",
       "2        [requesting, meeting, requesting, meeting, fol...\n",
       "3        [reset, password, external, account, expire, d...\n",
       "4        [mail, verification, warning, got, attached, a...\n",
       "                               ...                        \n",
       "47832    [git, space, project, issue, adding, user, sen...\n",
       "47833    [error, sent, july, error, error, appearing, w...\n",
       "47834    [connection, issue, sent, tuesday, july, conne...\n",
       "47835    [error, cube, report, sent, tuesday, july, err...\n",
       "47836    [running, extension, advised, running, extensi...\n",
       "Name: Cleaned_Document, Length: 47837, dtype: object"
      ]
     },
     "execution_count": 24,
     "metadata": {},
     "output_type": "execute_result"
    }
   ],
   "source": [
    "df['Cleaned_Document']"
   ]
  },
  {
   "cell_type": "code",
   "execution_count": 25,
   "id": "25e2dac7",
   "metadata": {
    "execution": {
     "iopub.execute_input": "2025-06-09T14:42:06.100475Z",
     "iopub.status.busy": "2025-06-09T14:42:06.099819Z",
     "iopub.status.idle": "2025-06-09T14:42:06.273945Z",
     "shell.execute_reply": "2025-06-09T14:42:06.273159Z"
    },
    "papermill": {
     "duration": 0.18682,
     "end_time": "2025-06-09T14:42:06.275360",
     "exception": false,
     "start_time": "2025-06-09T14:42:06.088540",
     "status": "completed"
    },
    "tags": []
   },
   "outputs": [],
   "source": [
    "#%pip install contractions\n",
    "#import contractions\n",
    "\n",
    "contraction_map = {\n",
    "    \"aren't\": \"are not\",\n",
    "    \"can't\": \"cannot\",\n",
    "    \"couldn't\": \"could not\",\n",
    "    \"didn't\": \"did not\",\n",
    "    \"doesn't\": \"does not\",\n",
    "    \"don't\": \"do not\",\n",
    "    \"hadn't\": \"had not\",\n",
    "    \"hasn't\": \"has not\",\n",
    "    \"haven't\": \"have not\",\n",
    "    \"he'd\": \"he would\",\n",
    "    \"he'll\": \"he will\",\n",
    "    \"he's\": \"he is\",\n",
    "    \"i'd\": \"i would\",\n",
    "    \"i'll\": \"i will\",\n",
    "    \"i'm\": \"i am\",\n",
    "    \"i've\": \"i have\",\n",
    "    \"isn't\": \"is not\",\n",
    "    \"it's\": \"it is\",\n",
    "    \"let's\": \"let us\",\n",
    "    \"mightn't\": \"might not\",\n",
    "    \"mustn't\": \"must not\",\n",
    "    \"shan't\": \"shall not\",\n",
    "    \"she'd\": \"she would\",\n",
    "    \"she'll\": \"she will\",\n",
    "    \"she's\": \"she is\",\n",
    "    \"shouldn't\": \"should not\",\n",
    "    \"that's\": \"that is\",\n",
    "    \"there's\": \"there is\",\n",
    "    \"they'd\": \"they would\",\n",
    "    \"they'll\": \"they will\",\n",
    "    \"they're\": \"they are\",\n",
    "    \"they've\": \"they have\",\n",
    "    \"we'd\": \"we would\",\n",
    "    \"we're\": \"we are\",\n",
    "    \"we've\": \"we have\",\n",
    "    \"weren't\": \"were not\",\n",
    "    \"what'll\": \"what will\",\n",
    "    \"what're\": \"what are\",\n",
    "    \"what's\": \"what is\",\n",
    "    \"what've\": \"what have\",\n",
    "    \"where's\": \"where is\",\n",
    "    \"who's\": \"who is\",\n",
    "    \"who'll\": \"who will\",\n",
    "    \"won't\": \"will not\",\n",
    "    \"wouldn't\": \"would not\",\n",
    "    \"you'd\": \"you would\",\n",
    "    \"you'll\": \"you will\",\n",
    "    \"you're\": \"you are\",\n",
    "    \"you've\": \"you have\"\n",
    "}\n",
    "\n",
    "def expand_contractions_tokenized(doc):\n",
    "    return [contraction_map.get(word, word) for word in doc]\n",
    "\n",
    "df['Cleaned_Document'] = df['Cleaned_Document'].apply(expand_contractions_tokenized)"
   ]
  },
  {
   "cell_type": "code",
   "execution_count": 26,
   "id": "fe0e1129",
   "metadata": {
    "execution": {
     "iopub.execute_input": "2025-06-09T14:42:06.297826Z",
     "iopub.status.busy": "2025-06-09T14:42:06.297596Z",
     "iopub.status.idle": "2025-06-09T14:42:06.304884Z",
     "shell.execute_reply": "2025-06-09T14:42:06.303983Z"
    },
    "papermill": {
     "duration": 0.019888,
     "end_time": "2025-06-09T14:42:06.306159",
     "exception": false,
     "start_time": "2025-06-09T14:42:06.286271",
     "status": "completed"
    },
    "tags": []
   },
   "outputs": [
    {
     "data": {
      "text/plain": [
       "0        [connection, icon, icon, setup, icon, per, ico...\n",
       "1        [work, experience, user, work, experience, use...\n",
       "2        [requesting, meeting, requesting, meeting, fol...\n",
       "3        [reset, password, external, account, expire, d...\n",
       "4        [mail, verification, warning, got, attached, a...\n",
       "                               ...                        \n",
       "47832    [git, space, project, issue, adding, user, sen...\n",
       "47833    [error, sent, july, error, error, appearing, w...\n",
       "47834    [connection, issue, sent, tuesday, july, conne...\n",
       "47835    [error, cube, report, sent, tuesday, july, err...\n",
       "47836    [running, extension, advised, running, extensi...\n",
       "Name: Cleaned_Document, Length: 47837, dtype: object"
      ]
     },
     "execution_count": 26,
     "metadata": {},
     "output_type": "execute_result"
    }
   ],
   "source": [
    "df['Cleaned_Document'] "
   ]
  },
  {
   "cell_type": "code",
   "execution_count": 27,
   "id": "84ac1dc0",
   "metadata": {
    "execution": {
     "iopub.execute_input": "2025-06-09T14:42:06.328720Z",
     "iopub.status.busy": "2025-06-09T14:42:06.328308Z",
     "iopub.status.idle": "2025-06-09T14:42:07.720857Z",
     "shell.execute_reply": "2025-06-09T14:42:07.720046Z"
    },
    "papermill": {
     "duration": 1.405702,
     "end_time": "2025-06-09T14:42:07.722512",
     "exception": false,
     "start_time": "2025-06-09T14:42:06.316810",
     "status": "completed"
    },
    "tags": []
   },
   "outputs": [],
   "source": [
    "#saving dataset\n",
    "df['Cleaned_Document_Str'] = df['Cleaned_Document'].apply(lambda tokens: ' '.join(tokens))\n",
    "df.to_csv('cleaned_dataset.csv', index=False)"
   ]
  },
  {
   "cell_type": "markdown",
   "id": "35ac4d7c",
   "metadata": {
    "papermill": {
     "duration": 0.012794,
     "end_time": "2025-06-09T14:42:07.750279",
     "exception": false,
     "start_time": "2025-06-09T14:42:07.737485",
     "status": "completed"
    },
    "tags": []
   },
   "source": [
    "# EDA"
   ]
  },
  {
   "cell_type": "code",
   "execution_count": 28,
   "id": "f2195ec4",
   "metadata": {
    "execution": {
     "iopub.execute_input": "2025-06-09T14:42:07.774411Z",
     "iopub.status.busy": "2025-06-09T14:42:07.774155Z",
     "iopub.status.idle": "2025-06-09T14:42:07.802356Z",
     "shell.execute_reply": "2025-06-09T14:42:07.801584Z"
    },
    "papermill": {
     "duration": 0.04088,
     "end_time": "2025-06-09T14:42:07.803405",
     "exception": false,
     "start_time": "2025-06-09T14:42:07.762525",
     "status": "completed"
    },
    "tags": []
   },
   "outputs": [
    {
     "name": "stdout",
     "output_type": "stream",
     "text": [
      "count    47837.000000\n",
      "mean        33.148860\n",
      "std         44.508495\n",
      "min          0.000000\n",
      "25%         12.000000\n",
      "50%         20.000000\n",
      "75%         35.000000\n",
      "max        817.000000\n",
      "Name: doc_length, dtype: float64\n"
     ]
    }
   ],
   "source": [
    "#number of tokens per document.\n",
    "df['doc_length'] = df['Cleaned_Document'].apply(len)\n",
    "print(df['doc_length'].describe())"
   ]
  },
  {
   "cell_type": "markdown",
   "id": "419a8dae",
   "metadata": {
    "papermill": {
     "duration": 0.010342,
     "end_time": "2025-06-09T14:42:07.824338",
     "exception": false,
     "start_time": "2025-06-09T14:42:07.813996",
     "status": "completed"
    },
    "tags": []
   },
   "source": [
    "As we can see, there are some tickets with zero tokens, meaning they are essentially empty"
   ]
  },
  {
   "cell_type": "code",
   "execution_count": 29,
   "id": "b0259d72",
   "metadata": {
    "execution": {
     "iopub.execute_input": "2025-06-09T14:42:07.846678Z",
     "iopub.status.busy": "2025-06-09T14:42:07.846492Z",
     "iopub.status.idle": "2025-06-09T14:42:07.855910Z",
     "shell.execute_reply": "2025-06-09T14:42:07.855280Z"
    },
    "papermill": {
     "duration": 0.021826,
     "end_time": "2025-06-09T14:42:07.856989",
     "exception": false,
     "start_time": "2025-06-09T14:42:07.835163",
     "status": "completed"
    },
    "tags": []
   },
   "outputs": [
    {
     "data": {
      "text/html": [
       "<div>\n",
       "<style scoped>\n",
       "    .dataframe tbody tr th:only-of-type {\n",
       "        vertical-align: middle;\n",
       "    }\n",
       "\n",
       "    .dataframe tbody tr th {\n",
       "        vertical-align: top;\n",
       "    }\n",
       "\n",
       "    .dataframe thead th {\n",
       "        text-align: right;\n",
       "    }\n",
       "</style>\n",
       "<table border=\"1\" class=\"dataframe\">\n",
       "  <thead>\n",
       "    <tr style=\"text-align: right;\">\n",
       "      <th></th>\n",
       "      <th>Document</th>\n",
       "      <th>Topic_group</th>\n",
       "      <th>Cleaned_Document</th>\n",
       "      <th>Cleaned_Document_Str</th>\n",
       "      <th>doc_length</th>\n",
       "    </tr>\n",
       "  </thead>\n",
       "  <tbody>\n",
       "    <tr>\n",
       "      <th>35590</th>\n",
       "      <td>for is down again for down again hi for down a...</td>\n",
       "      <td>Administrative rights</td>\n",
       "      <td>[]</td>\n",
       "      <td></td>\n",
       "      <td>0</td>\n",
       "    </tr>\n",
       "  </tbody>\n",
       "</table>\n",
       "</div>"
      ],
      "text/plain": [
       "                                                Document  \\\n",
       "35590  for is down again for down again hi for down a...   \n",
       "\n",
       "                 Topic_group Cleaned_Document Cleaned_Document_Str  doc_length  \n",
       "35590  Administrative rights               []                                0  "
      ]
     },
     "execution_count": 29,
     "metadata": {},
     "output_type": "execute_result"
    }
   ],
   "source": [
    "df[df['doc_length'] == 0]"
   ]
  },
  {
   "cell_type": "code",
   "execution_count": 30,
   "id": "869409aa",
   "metadata": {
    "execution": {
     "iopub.execute_input": "2025-06-09T14:42:07.879253Z",
     "iopub.status.busy": "2025-06-09T14:42:07.879041Z",
     "iopub.status.idle": "2025-06-09T14:42:07.888230Z",
     "shell.execute_reply": "2025-06-09T14:42:07.887793Z"
    },
    "papermill": {
     "duration": 0.021582,
     "end_time": "2025-06-09T14:42:07.889288",
     "exception": false,
     "start_time": "2025-06-09T14:42:07.867706",
     "status": "completed"
    },
    "tags": []
   },
   "outputs": [],
   "source": [
    "df = df[df['doc_length'] != 0]"
   ]
  },
  {
   "cell_type": "code",
   "execution_count": 31,
   "id": "26655bdc",
   "metadata": {
    "execution": {
     "iopub.execute_input": "2025-06-09T14:42:07.912359Z",
     "iopub.status.busy": "2025-06-09T14:42:07.912114Z",
     "iopub.status.idle": "2025-06-09T14:42:09.005394Z",
     "shell.execute_reply": "2025-06-09T14:42:09.004574Z"
    },
    "papermill": {
     "duration": 1.106101,
     "end_time": "2025-06-09T14:42:09.006494",
     "exception": false,
     "start_time": "2025-06-09T14:42:07.900393",
     "status": "completed"
    },
    "tags": []
   },
   "outputs": [
    {
     "name": "stdout",
     "output_type": "stream",
     "text": [
      "[('pm', 28902), ('regard', 27286), ('sent', 14717), ('issue', 14176), ('access', 13309), ('kind', 13252), ('tuesday', 10899), ('wednesday', 10429), ('error', 10152), ('thursday', 9937)]\n"
     ]
    }
   ],
   "source": [
    "from nltk.probability import FreqDist\n",
    "# Убираем NaN и взрываем списки токенов в один Series\n",
    "doc = df['Cleaned_Document'].dropna().explode()\n",
    "\n",
    "# Фильтруем только строки\n",
    "doc = doc[doc.apply(lambda x: isinstance(x, str))]\n",
    "\n",
    "# Считаем частоты\n",
    "fdist = FreqDist(doc)\n",
    "\n",
    "# Топ-10\n",
    "top10 = fdist.most_common(10)\n",
    "print(top10)"
   ]
  },
  {
   "cell_type": "code",
   "execution_count": 32,
   "id": "180c34b5",
   "metadata": {
    "execution": {
     "iopub.execute_input": "2025-06-09T14:42:09.029225Z",
     "iopub.status.busy": "2025-06-09T14:42:09.028959Z",
     "iopub.status.idle": "2025-06-09T14:42:09.183037Z",
     "shell.execute_reply": "2025-06-09T14:42:09.182261Z"
    },
    "papermill": {
     "duration": 0.166473,
     "end_time": "2025-06-09T14:42:09.184101",
     "exception": false,
     "start_time": "2025-06-09T14:42:09.017628",
     "status": "completed"
    },
    "tags": []
   },
   "outputs": [
    {
     "name": "stdout",
     "output_type": "stream",
     "text": [
      "Lexical Diversity: 0.00662\n"
     ]
    }
   ],
   "source": [
    "#lexical diversity\n",
    "total = len(doc)\n",
    "unique = len(set(doc))\n",
    "lex_div = unique / total\n",
    "print(f\"Lexical Diversity: {lex_div:.5f}\")"
   ]
  },
  {
   "cell_type": "code",
   "execution_count": 33,
   "id": "2fe135f2",
   "metadata": {
    "execution": {
     "iopub.execute_input": "2025-06-09T14:42:09.207510Z",
     "iopub.status.busy": "2025-06-09T14:42:09.207240Z",
     "iopub.status.idle": "2025-06-09T14:42:09.553424Z",
     "shell.execute_reply": "2025-06-09T14:42:09.552600Z"
    },
    "papermill": {
     "duration": 0.359186,
     "end_time": "2025-06-09T14:42:09.554658",
     "exception": false,
     "start_time": "2025-06-09T14:42:09.195472",
     "status": "completed"
    },
    "tags": []
   },
   "outputs": [
    {
     "name": "stdout",
     "output_type": "stream",
     "text": [
      "Avg. word length (mean): 6.14\n",
      "Avg. word length (median): 6.00\n"
     ]
    }
   ],
   "source": [
    "word_lengths = [len(w) for w in doc]\n",
    "print(f\"Avg. word length (mean): {np.mean(word_lengths):.2f}\")\n",
    "print(f\"Avg. word length (median): {np.median(word_lengths):.2f}\")"
   ]
  },
  {
   "cell_type": "code",
   "execution_count": 34,
   "id": "f1ea136c",
   "metadata": {
    "execution": {
     "iopub.execute_input": "2025-06-09T14:42:09.578358Z",
     "iopub.status.busy": "2025-06-09T14:42:09.578117Z",
     "iopub.status.idle": "2025-06-09T14:42:09.592882Z",
     "shell.execute_reply": "2025-06-09T14:42:09.592189Z"
    },
    "papermill": {
     "duration": 0.027583,
     "end_time": "2025-06-09T14:42:09.593949",
     "exception": false,
     "start_time": "2025-06-09T14:42:09.566366",
     "status": "completed"
    },
    "tags": []
   },
   "outputs": [
    {
     "name": "stdout",
     "output_type": "stream",
     "text": [
      "Avg. ticket length (mean): 33.15\n",
      "Avg. ticket length (median): 20.00\n"
     ]
    }
   ],
   "source": [
    "ticket_length = [len(w) for w in df['Cleaned_Document']]\n",
    "print(f\"Avg. ticket length (mean): {np.mean(ticket_length):.2f}\")\n",
    "print(f\"Avg. ticket length (median): {np.median(ticket_length):.2f}\")"
   ]
  },
  {
   "cell_type": "code",
   "execution_count": 35,
   "id": "985f0b88",
   "metadata": {
    "execution": {
     "iopub.execute_input": "2025-06-09T14:42:09.616467Z",
     "iopub.status.busy": "2025-06-09T14:42:09.616252Z",
     "iopub.status.idle": "2025-06-09T14:42:09.948377Z",
     "shell.execute_reply": "2025-06-09T14:42:09.947671Z"
    },
    "papermill": {
     "duration": 0.344988,
     "end_time": "2025-06-09T14:42:09.949872",
     "exception": false,
     "start_time": "2025-06-09T14:42:09.604884",
     "status": "completed"
    },
    "tags": []
   },
   "outputs": [
    {
     "data": {
      "text/plain": [
       "<Axes: xlabel='Samples', ylabel='Counts'>"
      ]
     },
     "execution_count": 35,
     "metadata": {},
     "output_type": "execute_result"
    },
    {
     "data": {
      "image/png": "[encoded data removed]",
      "text/plain": [
       "<Figure size 640x480 with 1 Axes>"
      ]
     },
     "metadata": {},
     "output_type": "display_data"
    }
   ],
   "source": [
    "fdist.plot(30, cumulative=False)  "
   ]
  },
  {
   "cell_type": "code",
   "execution_count": 36,
   "id": "44eff37d",
   "metadata": {
    "execution": {
     "iopub.execute_input": "2025-06-09T14:42:09.975546Z",
     "iopub.status.busy": "2025-06-09T14:42:09.974875Z",
     "iopub.status.idle": "2025-06-09T14:42:16.446331Z",
     "shell.execute_reply": "2025-06-09T14:42:16.445550Z"
    },
    "papermill": {
     "duration": 6.487388,
     "end_time": "2025-06-09T14:42:16.449627",
     "exception": false,
     "start_time": "2025-06-09T14:42:09.962239",
     "status": "completed"
    },
    "tags": []
   },
   "outputs": [
    {
     "data": {
      "image/png": "[encoded data removed]",
      "text/plain": [
       "<Figure size 640x480 with 1 Axes>"
      ]
     },
     "metadata": {},
     "output_type": "display_data"
    }
   ],
   "source": [
    "from wordcloud import WordCloud \n",
    "wc = WordCloud(width=800, height=400).generate(' '.join(doc))\n",
    "plt.imshow(wc, interpolation='bilinear')\n",
    "plt.axis('off')\n",
    "plt.show()"
   ]
  },
  {
   "cell_type": "markdown",
   "id": "ad6b5628",
   "metadata": {
    "papermill": {
     "duration": 0.01468,
     "end_time": "2025-06-09T14:42:16.479945",
     "exception": false,
     "start_time": "2025-06-09T14:42:16.465265",
     "status": "completed"
    },
    "tags": []
   },
   "source": [
    "Since it's classification task, let's check ticket distribution"
   ]
  },
  {
   "cell_type": "code",
   "execution_count": 37,
   "id": "91d00f50",
   "metadata": {
    "execution": {
     "iopub.execute_input": "2025-06-09T14:42:16.510282Z",
     "iopub.status.busy": "2025-06-09T14:42:16.509839Z",
     "iopub.status.idle": "2025-06-09T14:42:16.521446Z",
     "shell.execute_reply": "2025-06-09T14:42:16.520848Z"
    },
    "papermill": {
     "duration": 0.028181,
     "end_time": "2025-06-09T14:42:16.522678",
     "exception": false,
     "start_time": "2025-06-09T14:42:16.494497",
     "status": "completed"
    },
    "tags": []
   },
   "outputs": [
    {
     "data": {
      "text/plain": [
       "count        47836\n",
       "unique           8\n",
       "top       Hardware\n",
       "freq         13617\n",
       "Name: Topic_group, dtype: object"
      ]
     },
     "execution_count": 37,
     "metadata": {},
     "output_type": "execute_result"
    }
   ],
   "source": [
    "df['Topic_group'].describe()"
   ]
  },
  {
   "cell_type": "code",
   "execution_count": 38,
   "id": "6cf53ebf",
   "metadata": {
    "execution": {
     "iopub.execute_input": "2025-06-09T14:42:16.554218Z",
     "iopub.status.busy": "2025-06-09T14:42:16.553937Z",
     "iopub.status.idle": "2025-06-09T14:42:16.561804Z",
     "shell.execute_reply": "2025-06-09T14:42:16.561090Z"
    },
    "papermill": {
     "duration": 0.02466,
     "end_time": "2025-06-09T14:42:16.562903",
     "exception": false,
     "start_time": "2025-06-09T14:42:16.538243",
     "status": "completed"
    },
    "tags": []
   },
   "outputs": [
    {
     "name": "stdout",
     "output_type": "stream",
     "text": [
      "Topic_group\n",
      "Hardware                 13617\n",
      "HR Support               10915\n",
      "Access                    7125\n",
      "Miscellaneous             7060\n",
      "Storage                   2777\n",
      "Purchase                  2464\n",
      "Internal Project          2119\n",
      "Administrative rights     1759\n",
      "Name: count, dtype: int64\n"
     ]
    }
   ],
   "source": [
    "print(df['Topic_group'].value_counts())"
   ]
  },
  {
   "cell_type": "code",
   "execution_count": 39,
   "id": "4cb2f56d",
   "metadata": {
    "execution": {
     "iopub.execute_input": "2025-06-09T14:42:16.594254Z",
     "iopub.status.busy": "2025-06-09T14:42:16.593371Z",
     "iopub.status.idle": "2025-06-09T14:42:16.734377Z",
     "shell.execute_reply": "2025-06-09T14:42:16.733744Z"
    },
    "papermill": {
     "duration": 0.157901,
     "end_time": "2025-06-09T14:42:16.735808",
     "exception": false,
     "start_time": "2025-06-09T14:42:16.577907",
     "status": "completed"
    },
    "tags": []
   },
   "outputs": [
    {
     "data": {
      "image/png": "[encoded data removed]",
      "text/plain": [
       "<Figure size 700x500 with 1 Axes>"
      ]
     },
     "metadata": {},
     "output_type": "display_data"
    }
   ],
   "source": [
    "group_counts = df['Topic_group'].value_counts()\n",
    "\n",
    "plt.figure(figsize=(7, 5))\n",
    "plt.pie(group_counts, labels=group_counts.index, autopct=\"%1.1f%%\" )\n",
    "plt.title('Distribution into groups')\n",
    "plt.show()"
   ]
  },
  {
   "cell_type": "code",
   "execution_count": 40,
   "id": "1510e16e",
   "metadata": {
    "execution": {
     "iopub.execute_input": "2025-06-09T14:42:16.768971Z",
     "iopub.status.busy": "2025-06-09T14:42:16.768432Z",
     "iopub.status.idle": "2025-06-09T14:42:16.791543Z",
     "shell.execute_reply": "2025-06-09T14:42:16.790553Z"
    },
    "papermill": {
     "duration": 0.040937,
     "end_time": "2025-06-09T14:42:16.792879",
     "exception": false,
     "start_time": "2025-06-09T14:42:16.751942",
     "status": "completed"
    },
    "tags": []
   },
   "outputs": [
    {
     "name": "stdout",
     "output_type": "stream",
     "text": [
      "<class 'pandas.core.frame.DataFrame'>\n",
      "Index: 47836 entries, 0 to 47836\n",
      "Data columns (total 5 columns):\n",
      " #   Column                Non-Null Count  Dtype \n",
      "---  ------                --------------  ----- \n",
      " 0   Document              47836 non-null  object\n",
      " 1   Topic_group           47836 non-null  object\n",
      " 2   Cleaned_Document      47836 non-null  object\n",
      " 3   Cleaned_Document_Str  47836 non-null  object\n",
      " 4   doc_length            47836 non-null  int64 \n",
      "dtypes: int64(1), object(4)\n",
      "memory usage: 2.2+ MB\n"
     ]
    }
   ],
   "source": [
    "df.info()"
   ]
  },
  {
   "cell_type": "markdown",
   "id": "84782388",
   "metadata": {
    "papermill": {
     "duration": 0.016288,
     "end_time": "2025-06-09T14:42:16.827291",
     "exception": false,
     "start_time": "2025-06-09T14:42:16.811003",
     "status": "completed"
    },
    "tags": []
   },
   "source": [
    "# Classification"
   ]
  },
  {
   "cell_type": "markdown",
   "id": "949f3bf1",
   "metadata": {
    "papermill": {
     "duration": 0.015675,
     "end_time": "2025-06-09T14:42:16.859791",
     "exception": false,
     "start_time": "2025-06-09T14:42:16.844116",
     "status": "completed"
    },
    "tags": []
   },
   "source": [
    "**note: classes are imbalanced, check the perfomance later**"
   ]
  },
  {
   "cell_type": "code",
   "execution_count": 41,
   "id": "a4883fa4",
   "metadata": {
    "execution": {
     "iopub.execute_input": "2025-06-09T14:42:16.893295Z",
     "iopub.status.busy": "2025-06-09T14:42:16.892736Z",
     "iopub.status.idle": "2025-06-09T14:42:16.902054Z",
     "shell.execute_reply": "2025-06-09T14:42:16.901486Z"
    },
    "papermill": {
     "duration": 0.027098,
     "end_time": "2025-06-09T14:42:16.903188",
     "exception": false,
     "start_time": "2025-06-09T14:42:16.876090",
     "status": "completed"
    },
    "tags": []
   },
   "outputs": [
    {
     "data": {
      "text/html": [
       "<div>\n",
       "<style scoped>\n",
       "    .dataframe tbody tr th:only-of-type {\n",
       "        vertical-align: middle;\n",
       "    }\n",
       "\n",
       "    .dataframe tbody tr th {\n",
       "        vertical-align: top;\n",
       "    }\n",
       "\n",
       "    .dataframe thead th {\n",
       "        text-align: right;\n",
       "    }\n",
       "</style>\n",
       "<table border=\"1\" class=\"dataframe\">\n",
       "  <thead>\n",
       "    <tr style=\"text-align: right;\">\n",
       "      <th></th>\n",
       "      <th>Document</th>\n",
       "      <th>Topic_group</th>\n",
       "      <th>Cleaned_Document</th>\n",
       "      <th>Cleaned_Document_Str</th>\n",
       "      <th>doc_length</th>\n",
       "    </tr>\n",
       "  </thead>\n",
       "  <tbody>\n",
       "    <tr>\n",
       "      <th>0</th>\n",
       "      <td>connection with icon icon dear please setup ic...</td>\n",
       "      <td>Hardware</td>\n",
       "      <td>[connection, icon, icon, setup, icon, per, ico...</td>\n",
       "      <td>connection icon icon setup icon per icon engin...</td>\n",
       "      <td>12</td>\n",
       "    </tr>\n",
       "    <tr>\n",
       "      <th>1</th>\n",
       "      <td>work experience user work experience user hi w...</td>\n",
       "      <td>Access</td>\n",
       "      <td>[work, experience, user, work, experience, use...</td>\n",
       "      <td>work experience user work experience user work...</td>\n",
       "      <td>14</td>\n",
       "    </tr>\n",
       "    <tr>\n",
       "      <th>2</th>\n",
       "      <td>requesting for meeting requesting meeting hi p...</td>\n",
       "      <td>Hardware</td>\n",
       "      <td>[requesting, meeting, requesting, meeting, fol...</td>\n",
       "      <td>requesting meeting requesting meeting follow e...</td>\n",
       "      <td>10</td>\n",
       "    </tr>\n",
       "    <tr>\n",
       "      <th>3</th>\n",
       "      <td>reset passwords for external accounts re expir...</td>\n",
       "      <td>Access</td>\n",
       "      <td>[reset, password, external, account, expire, d...</td>\n",
       "      <td>reset password external account expire day ask...</td>\n",
       "      <td>112</td>\n",
       "    </tr>\n",
       "    <tr>\n",
       "      <th>4</th>\n",
       "      <td>mail verification warning hi has got attached ...</td>\n",
       "      <td>Miscellaneous</td>\n",
       "      <td>[mail, verification, warning, got, attached, a...</td>\n",
       "      <td>mail verification warning got attached address...</td>\n",
       "      <td>11</td>\n",
       "    </tr>\n",
       "  </tbody>\n",
       "</table>\n",
       "</div>"
      ],
      "text/plain": [
       "                                            Document    Topic_group  \\\n",
       "0  connection with icon icon dear please setup ic...       Hardware   \n",
       "1  work experience user work experience user hi w...         Access   \n",
       "2  requesting for meeting requesting meeting hi p...       Hardware   \n",
       "3  reset passwords for external accounts re expir...         Access   \n",
       "4  mail verification warning hi has got attached ...  Miscellaneous   \n",
       "\n",
       "                                    Cleaned_Document  \\\n",
       "0  [connection, icon, icon, setup, icon, per, ico...   \n",
       "1  [work, experience, user, work, experience, use...   \n",
       "2  [requesting, meeting, requesting, meeting, fol...   \n",
       "3  [reset, password, external, account, expire, d...   \n",
       "4  [mail, verification, warning, got, attached, a...   \n",
       "\n",
       "                                Cleaned_Document_Str  doc_length  \n",
       "0  connection icon icon setup icon per icon engin...          12  \n",
       "1  work experience user work experience user work...          14  \n",
       "2  requesting meeting requesting meeting follow e...          10  \n",
       "3  reset password external account expire day ask...         112  \n",
       "4  mail verification warning got attached address...          11  "
      ]
     },
     "execution_count": 41,
     "metadata": {},
     "output_type": "execute_result"
    }
   ],
   "source": [
    "df.head()"
   ]
  },
  {
   "cell_type": "code",
   "execution_count": 42,
   "id": "6eb38fd6",
   "metadata": {
    "execution": {
     "iopub.execute_input": "2025-06-09T14:42:16.936432Z",
     "iopub.status.busy": "2025-06-09T14:42:16.936166Z",
     "iopub.status.idle": "2025-06-09T14:42:16.942665Z",
     "shell.execute_reply": "2025-06-09T14:42:16.942062Z"
    },
    "papermill": {
     "duration": 0.02474,
     "end_time": "2025-06-09T14:42:16.943734",
     "exception": false,
     "start_time": "2025-06-09T14:42:16.918994",
     "status": "completed"
    },
    "tags": []
   },
   "outputs": [
    {
     "data": {
      "text/plain": [
       "array(['Hardware', 'Access', 'Miscellaneous', 'HR Support', 'Purchase',\n",
       "       'Administrative rights', 'Storage', 'Internal Project'],\n",
       "      dtype=object)"
      ]
     },
     "execution_count": 42,
     "metadata": {},
     "output_type": "execute_result"
    }
   ],
   "source": [
    "df['Topic_group'].unique()"
   ]
  },
  {
   "cell_type": "code",
   "execution_count": 43,
   "id": "baf94adb",
   "metadata": {
    "execution": {
     "iopub.execute_input": "2025-06-09T14:42:16.976415Z",
     "iopub.status.busy": "2025-06-09T14:42:16.976149Z",
     "iopub.status.idle": "2025-06-09T14:42:19.560694Z",
     "shell.execute_reply": "2025-06-09T14:42:19.560070Z"
    },
    "papermill": {
     "duration": 2.602389,
     "end_time": "2025-06-09T14:42:19.561947",
     "exception": false,
     "start_time": "2025-06-09T14:42:16.959558",
     "status": "completed"
    },
    "tags": []
   },
   "outputs": [],
   "source": [
    "#TF-IDF\n",
    "from sklearn.feature_extraction.text import TfidfVectorizer\n",
    "\n",
    "vectorizer = TfidfVectorizer(min_df=5, max_df=0.8, ngram_range=(1,2))\n",
    "X = vectorizer.fit_transform(df['Cleaned_Document_Str'])"
   ]
  },
  {
   "cell_type": "code",
   "execution_count": 44,
   "id": "f274c283",
   "metadata": {
    "execution": {
     "iopub.execute_input": "2025-06-09T14:42:19.595152Z",
     "iopub.status.busy": "2025-06-09T14:42:19.594864Z",
     "iopub.status.idle": "2025-06-09T14:42:19.605933Z",
     "shell.execute_reply": "2025-06-09T14:42:19.605415Z"
    },
    "papermill": {
     "duration": 0.02877,
     "end_time": "2025-06-09T14:42:19.606883",
     "exception": false,
     "start_time": "2025-06-09T14:42:19.578113",
     "status": "completed"
    },
    "tags": []
   },
   "outputs": [],
   "source": [
    "#encoding target variable\n",
    "from sklearn.preprocessing import LabelEncoder\n",
    "\n",
    "le = LabelEncoder()\n",
    "y = le.fit_transform(df['Topic_group'])"
   ]
  },
  {
   "cell_type": "markdown",
   "id": "20266840",
   "metadata": {
    "papermill": {
     "duration": 0.015541,
     "end_time": "2025-06-09T14:42:19.638167",
     "exception": false,
     "start_time": "2025-06-09T14:42:19.622626",
     "status": "completed"
    },
    "tags": []
   },
   "source": [
    "## Logistic Regression"
   ]
  },
  {
   "cell_type": "code",
   "execution_count": 45,
   "id": "879585a4",
   "metadata": {
    "execution": {
     "iopub.execute_input": "2025-06-09T14:42:19.671569Z",
     "iopub.status.busy": "2025-06-09T14:42:19.671292Z",
     "iopub.status.idle": "2025-06-09T14:42:19.674812Z",
     "shell.execute_reply": "2025-06-09T14:42:19.674298Z"
    },
    "papermill": {
     "duration": 0.021283,
     "end_time": "2025-06-09T14:42:19.675880",
     "exception": false,
     "start_time": "2025-06-09T14:42:19.654597",
     "status": "completed"
    },
    "tags": []
   },
   "outputs": [],
   "source": [
    "from sklearn.linear_model import LogisticRegression\n",
    "from sklearn.model_selection import train_test_split\n",
    "from sklearn.metrics import classification_report"
   ]
  },
  {
   "cell_type": "code",
   "execution_count": 46,
   "id": "6307e467",
   "metadata": {
    "execution": {
     "iopub.execute_input": "2025-06-09T14:42:19.709240Z",
     "iopub.status.busy": "2025-06-09T14:42:19.708944Z",
     "iopub.status.idle": "2025-06-09T14:42:45.565492Z",
     "shell.execute_reply": "2025-06-09T14:42:45.564571Z"
    },
    "papermill": {
     "duration": 25.875399,
     "end_time": "2025-06-09T14:42:45.567165",
     "exception": false,
     "start_time": "2025-06-09T14:42:19.691766",
     "status": "completed"
    },
    "tags": []
   },
   "outputs": [
    {
     "name": "stdout",
     "output_type": "stream",
     "text": [
      "              precision    recall  f1-score   support\n",
      "\n",
      "           0       0.92      0.87      0.89      1468\n",
      "           1       0.91      0.64      0.75       331\n",
      "           2       0.85      0.85      0.85      2110\n",
      "           3       0.79      0.90      0.84      2761\n",
      "           4       0.92      0.78      0.84       448\n",
      "           5       0.83      0.84      0.83      1397\n",
      "           6       0.98      0.87      0.92       499\n",
      "           7       0.94      0.82      0.88       554\n",
      "\n",
      "    accuracy                           0.85      9568\n",
      "   macro avg       0.89      0.82      0.85      9568\n",
      "weighted avg       0.86      0.85      0.85      9568\n",
      "\n"
     ]
    }
   ],
   "source": [
    "X_train, X_test, y_train, y_test = train_test_split(X, y, test_size=0.2, random_state=42)\n",
    "clf = LogisticRegression(max_iter=1000)\n",
    "clf.fit(X_train, y_train)\n",
    "preds = clf.predict(X_test)\n",
    "print(classification_report(y_test, preds))"
   ]
  },
  {
   "cell_type": "markdown",
   "id": "8bf1e80c",
   "metadata": {
    "papermill": {
     "duration": 0.027546,
     "end_time": "2025-06-09T14:42:45.623236",
     "exception": false,
     "start_time": "2025-06-09T14:42:45.595690",
     "status": "completed"
    },
    "tags": []
   },
   "source": [
    "## Decision Trees / Random Forest / XGBoost:"
   ]
  },
  {
   "cell_type": "code",
   "execution_count": 47,
   "id": "3c5d85a4",
   "metadata": {
    "execution": {
     "iopub.execute_input": "2025-06-09T14:42:45.671207Z",
     "iopub.status.busy": "2025-06-09T14:42:45.670692Z",
     "iopub.status.idle": "2025-06-09T14:44:35.717212Z",
     "shell.execute_reply": "2025-06-09T14:44:35.716505Z"
    },
    "papermill": {
     "duration": 110.084978,
     "end_time": "2025-06-09T14:44:35.736248",
     "exception": false,
     "start_time": "2025-06-09T14:42:45.651270",
     "status": "completed"
    },
    "tags": []
   },
   "outputs": [
    {
     "name": "stdout",
     "output_type": "stream",
     "text": [
      "              precision    recall  f1-score   support\n",
      "\n",
      "           0       0.90      0.85      0.88      1468\n",
      "           1       0.91      0.62      0.74       331\n",
      "           2       0.84      0.86      0.85      2110\n",
      "           3       0.77      0.89      0.83      2761\n",
      "           4       0.93      0.78      0.85       448\n",
      "           5       0.84      0.78      0.81      1397\n",
      "           6       0.98      0.86      0.92       499\n",
      "           7       0.93      0.77      0.84       554\n",
      "\n",
      "    accuracy                           0.84      9568\n",
      "   macro avg       0.89      0.80      0.84      9568\n",
      "weighted avg       0.85      0.84      0.84      9568\n",
      "\n"
     ]
    }
   ],
   "source": [
    "from sklearn.ensemble import RandomForestClassifier\n",
    "\n",
    "rf_clf = RandomForestClassifier(random_state=42)\n",
    "rf_clf.fit(X_train, y_train)\n",
    "rf_preds = rf_clf.predict(X_test)\n",
    "print(classification_report(y_test, rf_preds))"
   ]
  },
  {
   "cell_type": "markdown",
   "id": "c3e20cd1",
   "metadata": {
    "papermill": {
     "duration": 0.016907,
     "end_time": "2025-06-09T14:44:35.769763",
     "exception": false,
     "start_time": "2025-06-09T14:44:35.752856",
     "status": "completed"
    },
    "tags": []
   },
   "source": [
    "## RNN"
   ]
  },
  {
   "cell_type": "code",
   "execution_count": 48,
   "id": "65d2ff4e",
   "metadata": {
    "execution": {
     "iopub.execute_input": "2025-06-09T14:44:35.805369Z",
     "iopub.status.busy": "2025-06-09T14:44:35.804570Z",
     "iopub.status.idle": "2025-06-09T14:44:35.828046Z",
     "shell.execute_reply": "2025-06-09T14:44:35.826999Z"
    },
    "papermill": {
     "duration": 0.042565,
     "end_time": "2025-06-09T14:44:35.829603",
     "exception": false,
     "start_time": "2025-06-09T14:44:35.787038",
     "status": "completed"
    },
    "tags": []
   },
   "outputs": [
    {
     "name": "stdout",
     "output_type": "stream",
     "text": [
      "<class 'pandas.core.frame.DataFrame'>\n",
      "Index: 47836 entries, 0 to 47836\n",
      "Data columns (total 5 columns):\n",
      " #   Column                Non-Null Count  Dtype \n",
      "---  ------                --------------  ----- \n",
      " 0   Document              47836 non-null  object\n",
      " 1   Topic_group           47836 non-null  object\n",
      " 2   Cleaned_Document      47836 non-null  object\n",
      " 3   Cleaned_Document_Str  47836 non-null  object\n",
      " 4   doc_length            47836 non-null  int64 \n",
      "dtypes: int64(1), object(4)\n",
      "memory usage: 2.2+ MB\n"
     ]
    }
   ],
   "source": [
    "df.info()"
   ]
  },
  {
   "cell_type": "code",
   "execution_count": 49,
   "id": "f1462fe9",
   "metadata": {
    "execution": {
     "iopub.execute_input": "2025-06-09T14:44:35.863236Z",
     "iopub.status.busy": "2025-06-09T14:44:35.862569Z",
     "iopub.status.idle": "2025-06-09T14:44:35.872674Z",
     "shell.execute_reply": "2025-06-09T14:44:35.871954Z"
    },
    "papermill": {
     "duration": 0.027668,
     "end_time": "2025-06-09T14:44:35.873704",
     "exception": false,
     "start_time": "2025-06-09T14:44:35.846036",
     "status": "completed"
    },
    "tags": []
   },
   "outputs": [
    {
     "data": {
      "text/html": [
       "<div>\n",
       "<style scoped>\n",
       "    .dataframe tbody tr th:only-of-type {\n",
       "        vertical-align: middle;\n",
       "    }\n",
       "\n",
       "    .dataframe tbody tr th {\n",
       "        vertical-align: top;\n",
       "    }\n",
       "\n",
       "    .dataframe thead th {\n",
       "        text-align: right;\n",
       "    }\n",
       "</style>\n",
       "<table border=\"1\" class=\"dataframe\">\n",
       "  <thead>\n",
       "    <tr style=\"text-align: right;\">\n",
       "      <th></th>\n",
       "      <th>Document</th>\n",
       "      <th>Topic_group</th>\n",
       "      <th>Cleaned_Document</th>\n",
       "      <th>Cleaned_Document_Str</th>\n",
       "      <th>doc_length</th>\n",
       "    </tr>\n",
       "  </thead>\n",
       "  <tbody>\n",
       "    <tr>\n",
       "      <th>0</th>\n",
       "      <td>connection with icon icon dear please setup ic...</td>\n",
       "      <td>Hardware</td>\n",
       "      <td>[connection, icon, icon, setup, icon, per, ico...</td>\n",
       "      <td>connection icon icon setup icon per icon engin...</td>\n",
       "      <td>12</td>\n",
       "    </tr>\n",
       "    <tr>\n",
       "      <th>1</th>\n",
       "      <td>work experience user work experience user hi w...</td>\n",
       "      <td>Access</td>\n",
       "      <td>[work, experience, user, work, experience, use...</td>\n",
       "      <td>work experience user work experience user work...</td>\n",
       "      <td>14</td>\n",
       "    </tr>\n",
       "    <tr>\n",
       "      <th>2</th>\n",
       "      <td>requesting for meeting requesting meeting hi p...</td>\n",
       "      <td>Hardware</td>\n",
       "      <td>[requesting, meeting, requesting, meeting, fol...</td>\n",
       "      <td>requesting meeting requesting meeting follow e...</td>\n",
       "      <td>10</td>\n",
       "    </tr>\n",
       "    <tr>\n",
       "      <th>3</th>\n",
       "      <td>reset passwords for external accounts re expir...</td>\n",
       "      <td>Access</td>\n",
       "      <td>[reset, password, external, account, expire, d...</td>\n",
       "      <td>reset password external account expire day ask...</td>\n",
       "      <td>112</td>\n",
       "    </tr>\n",
       "    <tr>\n",
       "      <th>4</th>\n",
       "      <td>mail verification warning hi has got attached ...</td>\n",
       "      <td>Miscellaneous</td>\n",
       "      <td>[mail, verification, warning, got, attached, a...</td>\n",
       "      <td>mail verification warning got attached address...</td>\n",
       "      <td>11</td>\n",
       "    </tr>\n",
       "  </tbody>\n",
       "</table>\n",
       "</div>"
      ],
      "text/plain": [
       "                                            Document    Topic_group  \\\n",
       "0  connection with icon icon dear please setup ic...       Hardware   \n",
       "1  work experience user work experience user hi w...         Access   \n",
       "2  requesting for meeting requesting meeting hi p...       Hardware   \n",
       "3  reset passwords for external accounts re expir...         Access   \n",
       "4  mail verification warning hi has got attached ...  Miscellaneous   \n",
       "\n",
       "                                    Cleaned_Document  \\\n",
       "0  [connection, icon, icon, setup, icon, per, ico...   \n",
       "1  [work, experience, user, work, experience, use...   \n",
       "2  [requesting, meeting, requesting, meeting, fol...   \n",
       "3  [reset, password, external, account, expire, d...   \n",
       "4  [mail, verification, warning, got, attached, a...   \n",
       "\n",
       "                                Cleaned_Document_Str  doc_length  \n",
       "0  connection icon icon setup icon per icon engin...          12  \n",
       "1  work experience user work experience user work...          14  \n",
       "2  requesting meeting requesting meeting follow e...          10  \n",
       "3  reset password external account expire day ask...         112  \n",
       "4  mail verification warning got attached address...          11  "
      ]
     },
     "execution_count": 49,
     "metadata": {},
     "output_type": "execute_result"
    }
   ],
   "source": [
    "df.head()"
   ]
  },
  {
   "cell_type": "markdown",
   "id": "2b249568",
   "metadata": {
    "papermill": {
     "duration": 0.015491,
     "end_time": "2025-06-09T14:44:35.905184",
     "exception": false,
     "start_time": "2025-06-09T14:44:35.889693",
     "status": "completed"
    },
    "tags": []
   },
   "source": [
    "TF-IDF converts text into a Bag-of-Words, ignoring the word order, which makes the data non-sequential. Since RNNs (recurrent neural networks) work with sequences, this format is not suitable for them. Therefore, data for RNNs must be prepared differently than for classical machine learning models."
   ]
  },
  {
   "cell_type": "code",
   "execution_count": 50,
   "id": "bdc40e71",
   "metadata": {
    "execution": {
     "iopub.execute_input": "2025-06-09T14:44:35.938156Z",
     "iopub.status.busy": "2025-06-09T14:44:35.937656Z",
     "iopub.status.idle": "2025-06-09T14:44:48.491579Z",
     "shell.execute_reply": "2025-06-09T14:44:48.490941Z"
    },
    "papermill": {
     "duration": 12.571915,
     "end_time": "2025-06-09T14:44:48.493102",
     "exception": false,
     "start_time": "2025-06-09T14:44:35.921187",
     "status": "completed"
    },
    "tags": []
   },
   "outputs": [
    {
     "name": "stderr",
     "output_type": "stream",
     "text": [
      "2025-06-09 14:44:37.381208: E external/local_xla/xla/stream_executor/cuda/cuda_fft.cc:477] Unable to register cuFFT factory: Attempting to register factory for plugin cuFFT when one has already been registered\n",
      "WARNING: All log messages before absl::InitializeLog() is called are written to STDERR\n",
      "E0000 00:00:1749480277.568207      19 cuda_dnn.cc:8310] Unable to register cuDNN factory: Attempting to register factory for plugin cuDNN when one has already been registered\n",
      "E0000 00:00:1749480277.626068      19 cuda_blas.cc:1418] Unable to register cuBLAS factory: Attempting to register factory for plugin cuBLAS when one has already been registered\n"
     ]
    }
   ],
   "source": [
    "from tensorflow.keras.preprocessing.text import Tokenizer\n",
    "from tensorflow.keras.preprocessing.sequence import pad_sequences"
   ]
  },
  {
   "cell_type": "code",
   "execution_count": 51,
   "id": "6828be72",
   "metadata": {
    "execution": {
     "iopub.execute_input": "2025-06-09T14:44:48.528416Z",
     "iopub.status.busy": "2025-06-09T14:44:48.527548Z",
     "iopub.status.idle": "2025-06-09T14:44:49.526929Z",
     "shell.execute_reply": "2025-06-09T14:44:49.526195Z"
    },
    "papermill": {
     "duration": 1.018125,
     "end_time": "2025-06-09T14:44:49.528682",
     "exception": false,
     "start_time": "2025-06-09T14:44:48.510557",
     "status": "completed"
    },
    "tags": []
   },
   "outputs": [],
   "source": [
    "#Tokenization\n",
    "tokenizer = Tokenizer()\n",
    "tokenizer.fit_on_texts(df['Cleaned_Document_Str'])"
   ]
  },
  {
   "cell_type": "code",
   "execution_count": 52,
   "id": "16e2ab5e",
   "metadata": {
    "execution": {
     "iopub.execute_input": "2025-06-09T14:44:49.573158Z",
     "iopub.status.busy": "2025-06-09T14:44:49.572347Z",
     "iopub.status.idle": "2025-06-09T14:44:50.205832Z",
     "shell.execute_reply": "2025-06-09T14:44:50.205132Z"
    },
    "papermill": {
     "duration": 0.653391,
     "end_time": "2025-06-09T14:44:50.207236",
     "exception": false,
     "start_time": "2025-06-09T14:44:49.553845",
     "status": "completed"
    },
    "tags": []
   },
   "outputs": [],
   "source": [
    "#Converting text into index sequences\n",
    "sequences = tokenizer.texts_to_sequences(df['Cleaned_Document_Str'])\n",
    "vocab_size = len(tokenizer.word_index) + 1"
   ]
  },
  {
   "cell_type": "code",
   "execution_count": 53,
   "id": "b6a1634b",
   "metadata": {
    "execution": {
     "iopub.execute_input": "2025-06-09T14:44:50.241282Z",
     "iopub.status.busy": "2025-06-09T14:44:50.241004Z",
     "iopub.status.idle": "2025-06-09T14:44:50.250973Z",
     "shell.execute_reply": "2025-06-09T14:44:50.250350Z"
    },
    "papermill": {
     "duration": 0.028121,
     "end_time": "2025-06-09T14:44:50.252217",
     "exception": false,
     "start_time": "2025-06-09T14:44:50.224096",
     "status": "completed"
    },
    "tags": []
   },
   "outputs": [],
   "source": [
    "max_length = int(np.percentile([len(seq) for seq in sequences], 95))"
   ]
  },
  {
   "cell_type": "code",
   "execution_count": 54,
   "id": "ece930dd",
   "metadata": {
    "execution": {
     "iopub.execute_input": "2025-06-09T14:44:50.289117Z",
     "iopub.status.busy": "2025-06-09T14:44:50.288809Z",
     "iopub.status.idle": "2025-06-09T14:44:50.439716Z",
     "shell.execute_reply": "2025-06-09T14:44:50.439146Z"
    },
    "papermill": {
     "duration": 0.169399,
     "end_time": "2025-06-09T14:44:50.441087",
     "exception": false,
     "start_time": "2025-06-09T14:44:50.271688",
     "status": "completed"
    },
    "tags": []
   },
   "outputs": [],
   "source": [
    "X_seq = pad_sequences(sequences, maxlen=max_length, padding='post', truncating='post')"
   ]
  },
  {
   "cell_type": "code",
   "execution_count": 55,
   "id": "cf470e3d",
   "metadata": {
    "execution": {
     "iopub.execute_input": "2025-06-09T14:44:50.474655Z",
     "iopub.status.busy": "2025-06-09T14:44:50.474400Z",
     "iopub.status.idle": "2025-06-09T14:44:50.494877Z",
     "shell.execute_reply": "2025-06-09T14:44:50.494134Z"
    },
    "papermill": {
     "duration": 0.038381,
     "end_time": "2025-06-09T14:44:50.496059",
     "exception": false,
     "start_time": "2025-06-09T14:44:50.457678",
     "status": "completed"
    },
    "tags": []
   },
   "outputs": [],
   "source": [
    "train_indices, test_indices = train_test_split(\n",
    "    np.arange(len(df)), \n",
    "    test_size=0.2, \n",
    "    random_state=42,\n",
    "    stratify=y  \n",
    ")"
   ]
  },
  {
   "cell_type": "code",
   "execution_count": 56,
   "id": "52e6e7ca",
   "metadata": {
    "execution": {
     "iopub.execute_input": "2025-06-09T14:44:50.529690Z",
     "iopub.status.busy": "2025-06-09T14:44:50.528945Z",
     "iopub.status.idle": "2025-06-09T14:44:50.545452Z",
     "shell.execute_reply": "2025-06-09T14:44:50.544663Z"
    },
    "papermill": {
     "duration": 0.034246,
     "end_time": "2025-06-09T14:44:50.546697",
     "exception": false,
     "start_time": "2025-06-09T14:44:50.512451",
     "status": "completed"
    },
    "tags": []
   },
   "outputs": [],
   "source": [
    "X_train_seq = X_seq[train_indices]\n",
    "X_test_seq = X_seq[test_indices]"
   ]
  },
  {
   "cell_type": "code",
   "execution_count": 57,
   "id": "a555db08",
   "metadata": {
    "execution": {
     "iopub.execute_input": "2025-06-09T14:44:50.580677Z",
     "iopub.status.busy": "2025-06-09T14:44:50.580015Z",
     "iopub.status.idle": "2025-06-09T14:44:50.583600Z",
     "shell.execute_reply": "2025-06-09T14:44:50.582893Z"
    },
    "papermill": {
     "duration": 0.021546,
     "end_time": "2025-06-09T14:44:50.584769",
     "exception": false,
     "start_time": "2025-06-09T14:44:50.563223",
     "status": "completed"
    },
    "tags": []
   },
   "outputs": [],
   "source": [
    "X_train_rnn, X_test_rnn = X_train_seq, X_test_seq"
   ]
  },
  {
   "cell_type": "code",
   "execution_count": 58,
   "id": "f61365c9",
   "metadata": {
    "execution": {
     "iopub.execute_input": "2025-06-09T14:44:50.617979Z",
     "iopub.status.busy": "2025-06-09T14:44:50.617730Z",
     "iopub.status.idle": "2025-06-09T14:44:50.623301Z",
     "shell.execute_reply": "2025-06-09T14:44:50.622596Z"
    },
    "papermill": {
     "duration": 0.023448,
     "end_time": "2025-06-09T14:44:50.624486",
     "exception": false,
     "start_time": "2025-06-09T14:44:50.601038",
     "status": "completed"
    },
    "tags": []
   },
   "outputs": [],
   "source": [
    "from tensorflow.keras.models import Sequential\n",
    "from tensorflow.keras.layers import Embedding, LSTM, Dense"
   ]
  },
  {
   "cell_type": "code",
   "execution_count": 59,
   "id": "dba99a18",
   "metadata": {
    "execution": {
     "iopub.execute_input": "2025-06-09T14:44:50.659100Z",
     "iopub.status.busy": "2025-06-09T14:44:50.658591Z",
     "iopub.status.idle": "2025-06-09T14:44:51.744237Z",
     "shell.execute_reply": "2025-06-09T14:44:51.743341Z"
    },
    "papermill": {
     "duration": 1.104406,
     "end_time": "2025-06-09T14:44:51.745587",
     "exception": false,
     "start_time": "2025-06-09T14:44:50.641181",
     "status": "completed"
    },
    "tags": []
   },
   "outputs": [
    {
     "name": "stderr",
     "output_type": "stream",
     "text": [
      "/usr/local/lib/python3.11/dist-packages/keras/src/layers/core/embedding.py:90: UserWarning: Argument `input_length` is deprecated. Just remove it.\n",
      "  warnings.warn(\n",
      "I0000 00:00:1749480291.705970      19 gpu_device.cc:2022] Created device /job:localhost/replica:0/task:0/device:GPU:0 with 15513 MB memory:  -> device: 0, name: Tesla P100-PCIE-16GB, pci bus id: 0000:00:04.0, compute capability: 6.0\n"
     ]
    }
   ],
   "source": [
    "model = Sequential([\n",
    "    Embedding(vocab_size, 128, input_length=max_length),\n",
    "    LSTM(64, return_sequences=False),\n",
    "    Dense(len(le.classes_), activation='softmax')\n",
    "])"
   ]
  },
  {
   "cell_type": "code",
   "execution_count": 60,
   "id": "5ab839ff",
   "metadata": {
    "execution": {
     "iopub.execute_input": "2025-06-09T14:44:51.780165Z",
     "iopub.status.busy": "2025-06-09T14:44:51.779554Z",
     "iopub.status.idle": "2025-06-09T14:44:51.800232Z",
     "shell.execute_reply": "2025-06-09T14:44:51.799678Z"
    },
    "papermill": {
     "duration": 0.039285,
     "end_time": "2025-06-09T14:44:51.801471",
     "exception": false,
     "start_time": "2025-06-09T14:44:51.762186",
     "status": "completed"
    },
    "tags": []
   },
   "outputs": [],
   "source": [
    "model.compile(loss='sparse_categorical_crossentropy', \n",
    "              optimizer='adam', \n",
    "              metrics=['accuracy'])"
   ]
  },
  {
   "cell_type": "code",
   "execution_count": 61,
   "id": "4c907652",
   "metadata": {
    "execution": {
     "iopub.execute_input": "2025-06-09T14:44:51.835042Z",
     "iopub.status.busy": "2025-06-09T14:44:51.834756Z",
     "iopub.status.idle": "2025-06-09T14:45:25.685196Z",
     "shell.execute_reply": "2025-06-09T14:45:25.684475Z"
    },
    "papermill": {
     "duration": 33.868425,
     "end_time": "2025-06-09T14:45:25.686411",
     "exception": false,
     "start_time": "2025-06-09T14:44:51.817986",
     "status": "completed"
    },
    "tags": []
   },
   "outputs": [
    {
     "name": "stdout",
     "output_type": "stream",
     "text": [
      "Epoch 1/10\n"
     ]
    },
    {
     "name": "stderr",
     "output_type": "stream",
     "text": [
      "I0000 00:00:1749480295.786451      64 cuda_dnn.cc:529] Loaded cuDNN version 90300\n"
     ]
    },
    {
     "name": "stdout",
     "output_type": "stream",
     "text": [
      "\u001b[1m299/299\u001b[0m \u001b[32m━━━━━━━━━━━━━━━━━━━━\u001b[0m\u001b[37m\u001b[0m \u001b[1m8s\u001b[0m 11ms/step - accuracy: 0.2811 - loss: 1.8624 - val_accuracy: 0.2886 - val_loss: 1.8406\n",
      "Epoch 2/10\n",
      "\u001b[1m299/299\u001b[0m \u001b[32m━━━━━━━━━━━━━━━━━━━━\u001b[0m\u001b[37m\u001b[0m \u001b[1m3s\u001b[0m 10ms/step - accuracy: 0.2823 - loss: 1.8384 - val_accuracy: 0.2886 - val_loss: 1.8402\n",
      "Epoch 3/10\n",
      "\u001b[1m299/299\u001b[0m \u001b[32m━━━━━━━━━━━━━━━━━━━━\u001b[0m\u001b[37m\u001b[0m \u001b[1m3s\u001b[0m 10ms/step - accuracy: 0.2911 - loss: 1.8314 - val_accuracy: 0.2881 - val_loss: 1.8438\n",
      "Epoch 4/10\n",
      "\u001b[1m299/299\u001b[0m \u001b[32m━━━━━━━━━━━━━━━━━━━━\u001b[0m\u001b[37m\u001b[0m \u001b[1m3s\u001b[0m 10ms/step - accuracy: 0.2999 - loss: 1.8102 - val_accuracy: 0.2868 - val_loss: 1.8572\n",
      "Epoch 5/10\n",
      "\u001b[1m299/299\u001b[0m \u001b[32m━━━━━━━━━━━━━━━━━━━━\u001b[0m\u001b[37m\u001b[0m \u001b[1m3s\u001b[0m 10ms/step - accuracy: 0.3068 - loss: 1.7878 - val_accuracy: 0.2866 - val_loss: 1.8756\n",
      "Epoch 6/10\n",
      "\u001b[1m299/299\u001b[0m \u001b[32m━━━━━━━━━━━━━━━━━━━━\u001b[0m\u001b[37m\u001b[0m \u001b[1m3s\u001b[0m 10ms/step - accuracy: 0.3131 - loss: 1.7711 - val_accuracy: 0.2841 - val_loss: 1.8861\n",
      "Epoch 7/10\n",
      "\u001b[1m299/299\u001b[0m \u001b[32m━━━━━━━━━━━━━━━━━━━━\u001b[0m\u001b[37m\u001b[0m \u001b[1m3s\u001b[0m 10ms/step - accuracy: 0.3179 - loss: 1.7578 - val_accuracy: 0.2852 - val_loss: 1.9037\n",
      "Epoch 8/10\n",
      "\u001b[1m299/299\u001b[0m \u001b[32m━━━━━━━━━━━━━━━━━━━━\u001b[0m\u001b[37m\u001b[0m \u001b[1m3s\u001b[0m 10ms/step - accuracy: 0.3161 - loss: 1.7576 - val_accuracy: 0.2842 - val_loss: 1.9182\n",
      "Epoch 9/10\n",
      "\u001b[1m299/299\u001b[0m \u001b[32m━━━━━━━━━━━━━━━━━━━━\u001b[0m\u001b[37m\u001b[0m \u001b[1m3s\u001b[0m 10ms/step - accuracy: 0.3205 - loss: 1.7437 - val_accuracy: 0.2841 - val_loss: 1.9225\n",
      "Epoch 10/10\n",
      "\u001b[1m299/299\u001b[0m \u001b[32m━━━━━━━━━━━━━━━━━━━━\u001b[0m\u001b[37m\u001b[0m \u001b[1m3s\u001b[0m 10ms/step - accuracy: 0.3189 - loss: 1.7472 - val_accuracy: 0.2842 - val_loss: 1.9421\n"
     ]
    },
    {
     "data": {
      "text/plain": [
       "<keras.src.callbacks.history.History at 0x7cf6cbc84310>"
      ]
     },
     "execution_count": 61,
     "metadata": {},
     "output_type": "execute_result"
    }
   ],
   "source": [
    "model.fit(X_train_rnn, y_train, \n",
    "          validation_data=(X_test_rnn, y_test),\n",
    "          epochs=10, \n",
    "          batch_size=128)"
   ]
  },
  {
   "cell_type": "code",
   "execution_count": 62,
   "id": "22afaa88",
   "metadata": {
    "execution": {
     "iopub.execute_input": "2025-06-09T14:45:25.763656Z",
     "iopub.status.busy": "2025-06-09T14:45:25.762912Z",
     "iopub.status.idle": "2025-06-09T14:45:25.768732Z",
     "shell.execute_reply": "2025-06-09T14:45:25.768014Z"
    },
    "papermill": {
     "duration": 0.04479,
     "end_time": "2025-06-09T14:45:25.769958",
     "exception": false,
     "start_time": "2025-06-09T14:45:25.725168",
     "status": "completed"
    },
    "tags": []
   },
   "outputs": [],
   "source": [
    "from tensorflow.keras.callbacks import EarlyStopping"
   ]
  },
  {
   "cell_type": "code",
   "execution_count": 63,
   "id": "e37c96f8",
   "metadata": {
    "execution": {
     "iopub.execute_input": "2025-06-09T14:45:25.845501Z",
     "iopub.status.busy": "2025-06-09T14:45:25.844934Z",
     "iopub.status.idle": "2025-06-09T14:45:25.848506Z",
     "shell.execute_reply": "2025-06-09T14:45:25.847938Z"
    },
    "papermill": {
     "duration": 0.042534,
     "end_time": "2025-06-09T14:45:25.849547",
     "exception": false,
     "start_time": "2025-06-09T14:45:25.807013",
     "status": "completed"
    },
    "tags": []
   },
   "outputs": [],
   "source": [
    "early_stopping = EarlyStopping(\n",
    "    monitor='val_loss',\n",
    "    patience=3,\n",
    "    restore_best_weights=True\n",
    ")"
   ]
  },
  {
   "cell_type": "code",
   "execution_count": 64,
   "id": "d4e34c57",
   "metadata": {
    "execution": {
     "iopub.execute_input": "2025-06-09T14:45:25.924618Z",
     "iopub.status.busy": "2025-06-09T14:45:25.923939Z",
     "iopub.status.idle": "2025-06-09T14:45:36.109743Z",
     "shell.execute_reply": "2025-06-09T14:45:36.109171Z"
    },
    "papermill": {
     "duration": 10.225086,
     "end_time": "2025-06-09T14:45:36.111093",
     "exception": false,
     "start_time": "2025-06-09T14:45:25.886007",
     "status": "completed"
    },
    "tags": []
   },
   "outputs": [
    {
     "name": "stdout",
     "output_type": "stream",
     "text": [
      "Epoch 1/15\n",
      "\u001b[1m270/270\u001b[0m \u001b[32m━━━━━━━━━━━━━━━━━━━━\u001b[0m\u001b[37m\u001b[0m \u001b[1m3s\u001b[0m 9ms/step - accuracy: 0.3213 - loss: 1.7423 - val_accuracy: 0.3125 - val_loss: 1.7769\n",
      "Epoch 2/15\n",
      "\u001b[1m270/270\u001b[0m \u001b[32m━━━━━━━━━━━━━━━━━━━━\u001b[0m\u001b[37m\u001b[0m \u001b[1m3s\u001b[0m 9ms/step - accuracy: 0.3177 - loss: 1.7468 - val_accuracy: 0.3109 - val_loss: 1.7789\n",
      "Epoch 3/15\n",
      "\u001b[1m270/270\u001b[0m \u001b[32m━━━━━━━━━━━━━━━━━━━━\u001b[0m\u001b[37m\u001b[0m \u001b[1m3s\u001b[0m 9ms/step - accuracy: 0.3228 - loss: 1.7389 - val_accuracy: 0.3138 - val_loss: 1.7806\n",
      "Epoch 4/15\n",
      "\u001b[1m270/270\u001b[0m \u001b[32m━━━━━━━━━━━━━━━━━━━━\u001b[0m\u001b[37m\u001b[0m \u001b[1m3s\u001b[0m 9ms/step - accuracy: 0.3180 - loss: 1.7428 - val_accuracy: 0.3091 - val_loss: 1.7859\n"
     ]
    }
   ],
   "source": [
    "history = model.fit(\n",
    "    X_train_rnn, \n",
    "    y_train,\n",
    "    epochs=15,\n",
    "    batch_size=128,\n",
    "    validation_split=0.1,  \n",
    "    callbacks=[early_stopping],\n",
    "    verbose=1\n",
    ")"
   ]
  },
  {
   "cell_type": "code",
   "execution_count": 65,
   "id": "4e9e63f4",
   "metadata": {
    "execution": {
     "iopub.execute_input": "2025-06-09T14:45:36.204129Z",
     "iopub.status.busy": "2025-06-09T14:45:36.203531Z",
     "iopub.status.idle": "2025-06-09T14:45:37.272280Z",
     "shell.execute_reply": "2025-06-09T14:45:37.271603Z"
    },
    "papermill": {
     "duration": 1.116222,
     "end_time": "2025-06-09T14:45:37.273658",
     "exception": false,
     "start_time": "2025-06-09T14:45:36.157436",
     "status": "completed"
    },
    "tags": []
   },
   "outputs": [
    {
     "name": "stdout",
     "output_type": "stream",
     "text": [
      "\u001b[1m299/299\u001b[0m \u001b[32m━━━━━━━━━━━━━━━━━━━━\u001b[0m\u001b[37m\u001b[0m \u001b[1m1s\u001b[0m 2ms/step\n"
     ]
    }
   ],
   "source": [
    "y_pred = model.predict(X_test_rnn)\n",
    "y_pred_classes = np.argmax(y_pred, axis=1)"
   ]
  },
  {
   "cell_type": "code",
   "execution_count": 66,
   "id": "3136da83",
   "metadata": {
    "execution": {
     "iopub.execute_input": "2025-06-09T14:45:37.368129Z",
     "iopub.status.busy": "2025-06-09T14:45:37.367607Z",
     "iopub.status.idle": "2025-06-09T14:45:37.372812Z",
     "shell.execute_reply": "2025-06-09T14:45:37.372073Z"
    },
    "papermill": {
     "duration": 0.053703,
     "end_time": "2025-06-09T14:45:37.374122",
     "exception": false,
     "start_time": "2025-06-09T14:45:37.320419",
     "status": "completed"
    },
    "tags": []
   },
   "outputs": [],
   "source": [
    "y_test_labels = le.inverse_transform(y_test)\n",
    "y_pred_labels = le.inverse_transform(y_pred_classes)"
   ]
  },
  {
   "cell_type": "code",
   "execution_count": 67,
   "id": "bb577b9e",
   "metadata": {
    "execution": {
     "iopub.execute_input": "2025-06-09T14:45:37.470532Z",
     "iopub.status.busy": "2025-06-09T14:45:37.469769Z",
     "iopub.status.idle": "2025-06-09T14:45:37.718465Z",
     "shell.execute_reply": "2025-06-09T14:45:37.717528Z"
    },
    "papermill": {
     "duration": 0.297335,
     "end_time": "2025-06-09T14:45:37.719850",
     "exception": false,
     "start_time": "2025-06-09T14:45:37.422515",
     "status": "completed"
    },
    "tags": []
   },
   "outputs": [
    {
     "name": "stdout",
     "output_type": "stream",
     "text": [
      "\n",
      "Детальный отчет по классификации:\n",
      "                       precision    recall  f1-score   support\n",
      "\n",
      "               Access       0.13      0.01      0.01      1468\n",
      "Administrative rights       0.00      0.00      0.00       331\n",
      "           HR Support       0.21      0.02      0.03      2110\n",
      "             Hardware       0.29      0.96      0.45      2761\n",
      "     Internal Project       0.06      0.00      0.00       448\n",
      "        Miscellaneous       0.28      0.01      0.02      1397\n",
      "             Purchase       0.00      0.00      0.00       499\n",
      "              Storage       0.04      0.00      0.00       554\n",
      "\n",
      "             accuracy                           0.28      9568\n",
      "            macro avg       0.13      0.13      0.07      9568\n",
      "         weighted avg       0.20      0.28      0.14      9568\n",
      "\n"
     ]
    }
   ],
   "source": [
    "print(\"\\nДетальный отчет по классификации:\")\n",
    "print(classification_report(y_test_labels, y_pred_labels))"
   ]
  },
  {
   "cell_type": "code",
   "execution_count": 68,
   "id": "17d276ae",
   "metadata": {
    "execution": {
     "iopub.execute_input": "2025-06-09T14:45:37.814815Z",
     "iopub.status.busy": "2025-06-09T14:45:37.813882Z",
     "iopub.status.idle": "2025-06-09T14:45:38.062608Z",
     "shell.execute_reply": "2025-06-09T14:45:38.062030Z"
    },
    "papermill": {
     "duration": 0.297392,
     "end_time": "2025-06-09T14:45:38.063942",
     "exception": false,
     "start_time": "2025-06-09T14:45:37.766550",
     "status": "completed"
    },
    "tags": []
   },
   "outputs": [],
   "source": [
    "from tensorflow.keras.layers import Dropout\n",
    "from tensorflow.keras.optimizers import Adam\n",
    "import keras_tuner as kt"
   ]
  },
  {
   "cell_type": "code",
   "execution_count": 69,
   "id": "865957b8",
   "metadata": {
    "execution": {
     "iopub.execute_input": "2025-06-09T14:45:38.158495Z",
     "iopub.status.busy": "2025-06-09T14:45:38.158213Z",
     "iopub.status.idle": "2025-06-09T14:45:38.164166Z",
     "shell.execute_reply": "2025-06-09T14:45:38.163588Z"
    },
    "papermill": {
     "duration": 0.054385,
     "end_time": "2025-06-09T14:45:38.165250",
     "exception": false,
     "start_time": "2025-06-09T14:45:38.110865",
     "status": "completed"
    },
    "tags": []
   },
   "outputs": [],
   "source": [
    "def build_model(hp):\n",
    "    model = Sequential()\n",
    "    \n",
    "    # Embedding\n",
    "    model.add(Embedding(\n",
    "        input_dim=vocab_size,\n",
    "        output_dim=hp.Choice('embedding_dim', [100, 150, 200]),\n",
    "        input_length=max_length\n",
    "    ))\n",
    "\n",
    "    # LSTM\n",
    "    model.add(LSTM(\n",
    "        units=hp.Choice('lstm_units', [64, 128, 256]),\n",
    "        dropout=hp.Float('lstm_dropout', 0.2, 0.5, step=0.1),\n",
    "        recurrent_dropout=hp.Float('recurrent_dropout', 0.2, 0.5, step=0.1)\n",
    "    ))\n",
    "\n",
    "    # Dense + Dropout\n",
    "    model.add(Dense(\n",
    "        units=hp.Choice('dense_units', [32, 64, 128]),\n",
    "        activation='relu'\n",
    "    ))\n",
    "    model.add(Dropout(hp.Float('dense_dropout', 0.2, 0.5, step=0.1)))\n",
    "\n",
    "    # Output\n",
    "    model.add(Dense(len(le.classes_), activation='softmax'))\n",
    "\n",
    "    # Compile\n",
    "    model.compile(\n",
    "        optimizer=Adam(\n",
    "            learning_rate=hp.Choice('learning_rate', [1e-2, 1e-3, 1e-4])\n",
    "        ),\n",
    "        loss='sparse_categorical_crossentropy',\n",
    "        metrics=['accuracy']\n",
    "    )\n",
    "    return model"
   ]
  },
  {
   "cell_type": "code",
   "execution_count": 70,
   "id": "401b9140",
   "metadata": {
    "execution": {
     "iopub.execute_input": "2025-06-09T14:45:38.258295Z",
     "iopub.status.busy": "2025-06-09T14:45:38.257726Z",
     "iopub.status.idle": "2025-06-09T14:45:38.277639Z",
     "shell.execute_reply": "2025-06-09T14:45:38.276733Z"
    },
    "papermill": {
     "duration": 0.067856,
     "end_time": "2025-06-09T14:45:38.278715",
     "exception": false,
     "start_time": "2025-06-09T14:45:38.210859",
     "status": "completed"
    },
    "tags": []
   },
   "outputs": [
    {
     "name": "stderr",
     "output_type": "stream",
     "text": [
      "/usr/local/lib/python3.11/dist-packages/keras/src/layers/core/embedding.py:90: UserWarning: Argument `input_length` is deprecated. Just remove it.\n",
      "  warnings.warn(\n"
     ]
    }
   ],
   "source": [
    "tuner = kt.RandomSearch(\n",
    "    build_model,\n",
    "    objective='val_accuracy',\n",
    "    max_trials=10,               # Кол-во комбинаций, которые протестирует\n",
    "    executions_per_trial=1,      # Сколько раз обучать каждую модель\n",
    "    directory='tuner_dir',\n",
    "    project_name='rnn_text_class'\n",
    ")"
   ]
  },
  {
   "cell_type": "code",
   "execution_count": 71,
   "id": "050af4d4",
   "metadata": {
    "execution": {
     "iopub.execute_input": "2025-06-09T14:45:38.373116Z",
     "iopub.status.busy": "2025-06-09T14:45:38.372620Z",
     "iopub.status.idle": "2025-06-09T15:48:46.603050Z",
     "shell.execute_reply": "2025-06-09T15:48:46.602347Z"
    },
    "papermill": {
     "duration": 3788.278435,
     "end_time": "2025-06-09T15:48:46.604165",
     "exception": false,
     "start_time": "2025-06-09T14:45:38.325730",
     "status": "completed"
    },
    "tags": []
   },
   "outputs": [
    {
     "name": "stdout",
     "output_type": "stream",
     "text": [
      "Trial 10 Complete [00h 05m 02s]\n",
      "val_accuracy: 0.28102952241897583\n",
      "\n",
      "Best val_accuracy So Far: 0.2811601758003235\n",
      "Total elapsed time: 01h 03m 08s\n"
     ]
    }
   ],
   "source": [
    "# Запускаем подбор\n",
    "tuner.search(\n",
    "    X_train_rnn, y_train,\n",
    "    epochs=10,\n",
    "    batch_size=64,\n",
    "    validation_split=0.2,\n",
    "    callbacks=[EarlyStopping(patience=2)]\n",
    ")"
   ]
  },
  {
   "cell_type": "code",
   "execution_count": 72,
   "id": "c59ee282",
   "metadata": {
    "execution": {
     "iopub.execute_input": "2025-06-09T15:48:46.763328Z",
     "iopub.status.busy": "2025-06-09T15:48:46.762668Z",
     "iopub.status.idle": "2025-06-09T15:48:48.272292Z",
     "shell.execute_reply": "2025-06-09T15:48:48.271533Z"
    },
    "papermill": {
     "duration": 1.622937,
     "end_time": "2025-06-09T15:48:48.273466",
     "exception": false,
     "start_time": "2025-06-09T15:48:46.650529",
     "status": "completed"
    },
    "tags": []
   },
   "outputs": [
    {
     "name": "stderr",
     "output_type": "stream",
     "text": [
      "/usr/local/lib/python3.11/dist-packages/keras/src/saving/saving_lib.py:713: UserWarning: Skipping variable loading for optimizer 'adam', because it has 2 variables whereas the saved optimizer has 18 variables. \n",
      "  saveable.load_own_variables(weights_store.get(inner_path))\n"
     ]
    }
   ],
   "source": [
    "# Получаем лучшую модель\n",
    "best_model = tuner.get_best_models(num_models=1)[0]"
   ]
  },
  {
   "cell_type": "code",
   "execution_count": 73,
   "id": "41dc400b",
   "metadata": {
    "execution": {
     "iopub.execute_input": "2025-06-09T15:48:48.367044Z",
     "iopub.status.busy": "2025-06-09T15:48:48.366456Z",
     "iopub.status.idle": "2025-06-09T15:54:38.352064Z",
     "shell.execute_reply": "2025-06-09T15:54:38.351301Z"
    },
    "papermill": {
     "duration": 350.033711,
     "end_time": "2025-06-09T15:54:38.353434",
     "exception": false,
     "start_time": "2025-06-09T15:48:48.319723",
     "status": "completed"
    },
    "tags": []
   },
   "outputs": [
    {
     "name": "stdout",
     "output_type": "stream",
     "text": [
      "Epoch 1/15\n",
      "\u001b[1m479/479\u001b[0m \u001b[32m━━━━━━━━━━━━━━━━━━━━\u001b[0m\u001b[37m\u001b[0m \u001b[1m73s\u001b[0m 146ms/step - accuracy: 0.2870 - loss: 1.8417 - val_accuracy: 0.2796 - val_loss: 1.8497\n",
      "Epoch 2/15\n",
      "\u001b[1m479/479\u001b[0m \u001b[32m━━━━━━━━━━━━━━━━━━━━\u001b[0m\u001b[37m\u001b[0m \u001b[1m70s\u001b[0m 145ms/step - accuracy: 0.2888 - loss: 1.8343 - val_accuracy: 0.2810 - val_loss: 1.8462\n",
      "Epoch 3/15\n",
      "\u001b[1m479/479\u001b[0m \u001b[32m━━━━━━━━━━━━━━━━━━━━\u001b[0m\u001b[37m\u001b[0m \u001b[1m69s\u001b[0m 144ms/step - accuracy: 0.2816 - loss: 1.8452 - val_accuracy: 0.2776 - val_loss: 1.8525\n",
      "Epoch 4/15\n",
      "\u001b[1m479/479\u001b[0m \u001b[32m━━━━━━━━━━━━━━━━━━━━\u001b[0m\u001b[37m\u001b[0m \u001b[1m68s\u001b[0m 142ms/step - accuracy: 0.2884 - loss: 1.8255 - val_accuracy: 0.2775 - val_loss: 1.8596\n",
      "Epoch 5/15\n",
      "\u001b[1m479/479\u001b[0m \u001b[32m━━━━━━━━━━━━━━━━━━━━\u001b[0m\u001b[37m\u001b[0m \u001b[1m70s\u001b[0m 146ms/step - accuracy: 0.2850 - loss: 1.8232 - val_accuracy: 0.2801 - val_loss: 1.8536\n"
     ]
    }
   ],
   "source": [
    "# Обучим финально на всём трейне\n",
    "history = best_model.fit(\n",
    "    X_train_rnn, y_train,\n",
    "    epochs=15,\n",
    "    batch_size=64,\n",
    "    validation_split=0.2,\n",
    "    callbacks=[EarlyStopping(patience=3)],\n",
    "    verbose=1\n",
    ")"
   ]
  },
  {
   "cell_type": "code",
   "execution_count": 74,
   "id": "c5747505",
   "metadata": {
    "execution": {
     "iopub.execute_input": "2025-06-09T15:54:38.646425Z",
     "iopub.status.busy": "2025-06-09T15:54:38.646114Z",
     "iopub.status.idle": "2025-06-09T15:54:51.003741Z",
     "shell.execute_reply": "2025-06-09T15:54:51.002810Z"
    },
    "papermill": {
     "duration": 12.507788,
     "end_time": "2025-06-09T15:54:51.005092",
     "exception": false,
     "start_time": "2025-06-09T15:54:38.497304",
     "status": "completed"
    },
    "tags": []
   },
   "outputs": [
    {
     "name": "stdout",
     "output_type": "stream",
     "text": [
      "\u001b[1m299/299\u001b[0m \u001b[32m━━━━━━━━━━━━━━━━━━━━\u001b[0m\u001b[37m\u001b[0m \u001b[1m12s\u001b[0m 39ms/step\n",
      "                       precision    recall  f1-score   support\n",
      "\n",
      "               Access       0.33      0.00      0.00      1468\n",
      "Administrative rights       0.00      0.00      0.00       331\n",
      "           HR Support       0.00      0.00      0.00      2110\n",
      "             Hardware       0.29      0.99      0.45      2761\n",
      "     Internal Project       0.00      0.00      0.00       448\n",
      "        Miscellaneous       0.09      0.00      0.01      1397\n",
      "             Purchase       0.00      0.00      0.00       499\n",
      "              Storage       0.00      0.00      0.00       554\n",
      "\n",
      "             accuracy                           0.29      9568\n",
      "            macro avg       0.09      0.12      0.06      9568\n",
      "         weighted avg       0.15      0.29      0.13      9568\n",
      "\n"
     ]
    },
    {
     "name": "stderr",
     "output_type": "stream",
     "text": [
      "/usr/local/lib/python3.11/dist-packages/sklearn/metrics/_classification.py:1344: UndefinedMetricWarning: Precision and F-score are ill-defined and being set to 0.0 in labels with no predicted samples. Use `zero_division` parameter to control this behavior.\n",
      "  _warn_prf(average, modifier, msg_start, len(result))\n",
      "/usr/local/lib/python3.11/dist-packages/sklearn/metrics/_classification.py:1344: UndefinedMetricWarning: Precision and F-score are ill-defined and being set to 0.0 in labels with no predicted samples. Use `zero_division` parameter to control this behavior.\n",
      "  _warn_prf(average, modifier, msg_start, len(result))\n",
      "/usr/local/lib/python3.11/dist-packages/sklearn/metrics/_classification.py:1344: UndefinedMetricWarning: Precision and F-score are ill-defined and being set to 0.0 in labels with no predicted samples. Use `zero_division` parameter to control this behavior.\n",
      "  _warn_prf(average, modifier, msg_start, len(result))\n"
     ]
    }
   ],
   "source": [
    "y_pred = best_model.predict(X_test_rnn)\n",
    "y_pred_classes = np.argmax(y_pred, axis=1)\n",
    "\n",
    "print(classification_report(\n",
    "    le.inverse_transform(y_test),\n",
    "    le.inverse_transform(y_pred_classes)\n",
    "))"
   ]
  },
  {
   "cell_type": "markdown",
   "id": "665f48cb",
   "metadata": {
    "papermill": {
     "duration": 0.151044,
     "end_time": "2025-06-09T15:54:51.315361",
     "exception": false,
     "start_time": "2025-06-09T15:54:51.164317",
     "status": "completed"
    },
    "tags": []
   },
   "source": [
    "## BERT"
   ]
  },
  {
   "cell_type": "markdown",
   "id": "c089ed9a",
   "metadata": {
    "papermill": {
     "duration": 0.157944,
     "end_time": "2025-06-09T15:54:51.695613",
     "exception": false,
     "start_time": "2025-06-09T15:54:51.537669",
     "status": "completed"
    },
    "tags": []
   },
   "source": [
    "Since BERT-like models (including NeuroBERT-Tiny) expect **raw text strings** as input, at this stage the variable `x` should store the original document (`df['document']`), and not the previously cleaned one (`df['cleaned document']`)."
   ]
  },
  {
   "cell_type": "code",
   "execution_count": 75,
   "id": "fe1ad82e",
   "metadata": {
    "execution": {
     "iopub.execute_input": "2025-06-09T15:54:52.001980Z",
     "iopub.status.busy": "2025-06-09T15:54:52.001234Z",
     "iopub.status.idle": "2025-06-09T15:54:52.004760Z",
     "shell.execute_reply": "2025-06-09T15:54:52.003991Z"
    },
    "papermill": {
     "duration": 0.156878,
     "end_time": "2025-06-09T15:54:52.005888",
     "exception": false,
     "start_time": "2025-06-09T15:54:51.849010",
     "status": "completed"
    },
    "tags": []
   },
   "outputs": [],
   "source": [
    "#pip install transformers torch"
   ]
  },
  {
   "cell_type": "code",
   "execution_count": 76,
   "id": "bb513a88",
   "metadata": {
    "execution": {
     "iopub.execute_input": "2025-06-09T15:54:52.314290Z",
     "iopub.status.busy": "2025-06-09T15:54:52.313965Z",
     "iopub.status.idle": "2025-06-09T15:54:52.317568Z",
     "shell.execute_reply": "2025-06-09T15:54:52.316818Z"
    },
    "papermill": {
     "duration": 0.16052,
     "end_time": "2025-06-09T15:54:52.318727",
     "exception": false,
     "start_time": "2025-06-09T15:54:52.158207",
     "status": "completed"
    },
    "tags": []
   },
   "outputs": [],
   "source": [
    "##from transformers import AutoModelForMaskedLM, AutoTokenizer\n",
    "#model = AutoModelForMaskedLM.from_pretrained(\"boltuix/NeuroBERT-Tiny\")\n",
    "#tokenizer = AutoTokenizer.from_pretrained(\"boltuix/NeuroBERT-Tiny\")"
   ]
  },
  {
   "cell_type": "code",
   "execution_count": 77,
   "id": "51380d38",
   "metadata": {
    "execution": {
     "iopub.execute_input": "2025-06-09T15:54:52.652071Z",
     "iopub.status.busy": "2025-06-09T15:54:52.651387Z",
     "iopub.status.idle": "2025-06-09T15:54:52.654695Z",
     "shell.execute_reply": "2025-06-09T15:54:52.654159Z"
    },
    "papermill": {
     "duration": 0.178418,
     "end_time": "2025-06-09T15:54:52.655648",
     "exception": false,
     "start_time": "2025-06-09T15:54:52.477230",
     "status": "completed"
    },
    "tags": []
   },
   "outputs": [],
   "source": [
    "#from transformers import AutoModelForMaskedLM, AutoTokenizer\n",
    "\n",
    "#model = AutoModelForMaskedLM.from_pretrained(\"nreimers/NeuroBERT-tiny\")\n",
    "#tokenizer = AutoTokenizer.from_pretrained(\"nreimers/NeuroBERT-tiny\")"
   ]
  }
 ],
 "metadata": {
  "kaggle": {
   "accelerator": "gpu",
   "dataSources": [
    {
     "datasetId": 4460055,
     "sourceId": 7650678,
     "sourceType": "datasetVersion"
    }
   ],
   "dockerImageVersionId": 31012,
   "isGpuEnabled": true,
   "isInternetEnabled": false,
   "language": "python",
   "sourceType": "notebook"
  },
  "kernelspec": {
   "display_name": "Python 3",
   "language": "python",
   "name": "python3"
  },
  "language_info": {
   "codemirror_mode": {
    "name": "ipython",
    "version": 3
   },
   "file_extension": ".py",
   "mimetype": "text/x-python",
   "name": "python",
   "nbconvert_exporter": "python",
   "pygments_lexer": "ipython3",
   "version": "3.11.11"
  },
  "papermill": {
   "default_parameters": {},
   "duration": 4399.397676,
   "end_time": "2025-06-09T15:54:56.044446",
   "environment_variables": {},
   "exception": null,
   "input_path": "__notebook__.ipynb",
   "output_path": "__notebook__.ipynb",
   "parameters": {},
   "start_time": "2025-06-09T14:41:36.646770",
   "version": "2.6.0"
  }
 },
 "nbformat": 4,
 "nbformat_minor": 5
}
