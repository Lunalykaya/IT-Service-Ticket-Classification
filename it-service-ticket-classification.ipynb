{
 "cells": [
  {
   "cell_type": "code",
   "execution_count": 1,
   "id": "ad7a396c",
   "metadata": {
    "_cell_guid": "b1076dfc-b9ad-4769-8c92-a6c4dae69d19",
    "_uuid": "8f2839f25d086af736a60e9eeb907d3b93b6e0e5",
    "execution": {
     "iopub.execute_input": "2025-05-12T14:26:15.133119Z",
     "iopub.status.busy": "2025-05-12T14:26:15.132717Z",
     "iopub.status.idle": "2025-05-12T14:26:16.902980Z",
     "shell.execute_reply": "2025-05-12T14:26:16.902007Z"
    },
    "papermill": {
     "duration": 1.781154,
     "end_time": "2025-05-12T14:26:16.904493",
     "exception": false,
     "start_time": "2025-05-12T14:26:15.123339",
     "status": "completed"
    },
    "tags": []
   },
   "outputs": [
    {
     "name": "stdout",
     "output_type": "stream",
     "text": [
      "/kaggle/input/it-service-ticket-classification-dataset/all_tickets_processed_improved_v3.csv\n"
     ]
    }
   ],
   "source": [
    "# This Python 3 environment comes with many helpful analytics libraries installed\n",
    "# It is defined by the kaggle/python Docker image: https://github.com/kaggle/docker-python\n",
    "# For example, here's several helpful packages to load\n",
    "\n",
    "import numpy as np # linear algebra\n",
    "import pandas as pd # data processing, CSV file I/O (e.g. pd.read_csv)\n",
    "\n",
    "# Input data files are available in the read-only \"../input/\" directory\n",
    "# For example, running this (by clicking run or pressing Shift+Enter) will list all files under the input directory\n",
    "\n",
    "import os\n",
    "for dirname, _, filenames in os.walk('/kaggle/input'):\n",
    "    for filename in filenames:\n",
    "        print(os.path.join(dirname, filename))\n",
    "\n",
    "# You can write up to 20GB to the current directory (/kaggle/working/) that gets preserved as output when you create a version using \"Save & Run All\" \n",
    "# You can also write temporary files to /kaggle/temp/, but they won't be saved outside of the current session"
   ]
  },
  {
   "cell_type": "markdown",
   "id": "a4f933e0",
   "metadata": {
    "papermill": {
     "duration": 0.007225,
     "end_time": "2025-05-12T14:26:16.918253",
     "exception": false,
     "start_time": "2025-05-12T14:26:16.911028",
     "status": "completed"
    },
    "tags": []
   },
   "source": [
    "# Loading data"
   ]
  },
  {
   "cell_type": "code",
   "execution_count": 2,
   "id": "7d252807",
   "metadata": {
    "execution": {
     "iopub.execute_input": "2025-05-12T14:26:16.931925Z",
     "iopub.status.busy": "2025-05-12T14:26:16.931128Z",
     "iopub.status.idle": "2025-05-12T14:26:16.935290Z",
     "shell.execute_reply": "2025-05-12T14:26:16.934448Z"
    },
    "papermill": {
     "duration": 0.012164,
     "end_time": "2025-05-12T14:26:16.936480",
     "exception": false,
     "start_time": "2025-05-12T14:26:16.924316",
     "status": "completed"
    },
    "tags": []
   },
   "outputs": [],
   "source": [
    "import pandas as pd\n",
    "import numpy as np"
   ]
  },
  {
   "cell_type": "code",
   "execution_count": 3,
   "id": "1d03f1de",
   "metadata": {
    "execution": {
     "iopub.execute_input": "2025-05-12T14:26:16.949819Z",
     "iopub.status.busy": "2025-05-12T14:26:16.949502Z",
     "iopub.status.idle": "2025-05-12T14:26:17.797654Z",
     "shell.execute_reply": "2025-05-12T14:26:17.796595Z"
    },
    "papermill": {
     "duration": 0.856523,
     "end_time": "2025-05-12T14:26:17.799237",
     "exception": false,
     "start_time": "2025-05-12T14:26:16.942714",
     "status": "completed"
    },
    "tags": []
   },
   "outputs": [
    {
     "name": "stdout",
     "output_type": "stream",
     "text": [
      "Path to dataset files: /kaggle/input/it-service-ticket-classification-dataset\n"
     ]
    }
   ],
   "source": [
    "import kagglehub\n",
    "\n",
    "# Download latest version\n",
    "path = kagglehub.dataset_download(\"adisongoh/it-service-ticket-classification-dataset\")\n",
    "\n",
    "print(\"Path to dataset files:\", path)"
   ]
  },
  {
   "cell_type": "code",
   "execution_count": 4,
   "id": "bb115cb9",
   "metadata": {
    "execution": {
     "iopub.execute_input": "2025-05-12T14:26:17.812960Z",
     "iopub.status.busy": "2025-05-12T14:26:17.812605Z",
     "iopub.status.idle": "2025-05-12T14:26:18.209719Z",
     "shell.execute_reply": "2025-05-12T14:26:18.208881Z"
    },
    "papermill": {
     "duration": 0.405829,
     "end_time": "2025-05-12T14:26:18.211331",
     "exception": false,
     "start_time": "2025-05-12T14:26:17.805502",
     "status": "completed"
    },
    "tags": []
   },
   "outputs": [],
   "source": [
    "#reading df\n",
    "df = pd.read_csv('/kaggle/input/it-service-ticket-classification-dataset/all_tickets_processed_improved_v3.csv')"
   ]
  },
  {
   "cell_type": "code",
   "execution_count": 5,
   "id": "ad93a192",
   "metadata": {
    "execution": {
     "iopub.execute_input": "2025-05-12T14:26:18.224969Z",
     "iopub.status.busy": "2025-05-12T14:26:18.224626Z",
     "iopub.status.idle": "2025-05-12T14:26:18.257887Z",
     "shell.execute_reply": "2025-05-12T14:26:18.256901Z"
    },
    "papermill": {
     "duration": 0.04159,
     "end_time": "2025-05-12T14:26:18.259240",
     "exception": false,
     "start_time": "2025-05-12T14:26:18.217650",
     "status": "completed"
    },
    "tags": []
   },
   "outputs": [
    {
     "name": "stdout",
     "output_type": "stream",
     "text": [
      "<class 'pandas.core.frame.DataFrame'>\n",
      "RangeIndex: 47837 entries, 0 to 47836\n",
      "Data columns (total 2 columns):\n",
      " #   Column       Non-Null Count  Dtype \n",
      "---  ------       --------------  ----- \n",
      " 0   Document     47837 non-null  object\n",
      " 1   Topic_group  47837 non-null  object\n",
      "dtypes: object(2)\n",
      "memory usage: 747.6+ KB\n"
     ]
    }
   ],
   "source": [
    "df.info()"
   ]
  },
  {
   "cell_type": "code",
   "execution_count": 6,
   "id": "14749beb",
   "metadata": {
    "execution": {
     "iopub.execute_input": "2025-05-12T14:26:18.272486Z",
     "iopub.status.busy": "2025-05-12T14:26:18.272212Z",
     "iopub.status.idle": "2025-05-12T14:26:18.292511Z",
     "shell.execute_reply": "2025-05-12T14:26:18.291561Z"
    },
    "papermill": {
     "duration": 0.028676,
     "end_time": "2025-05-12T14:26:18.294079",
     "exception": false,
     "start_time": "2025-05-12T14:26:18.265403",
     "status": "completed"
    },
    "tags": []
   },
   "outputs": [
    {
     "data": {
      "text/html": [
       "<div>\n",
       "<style scoped>\n",
       "    .dataframe tbody tr th:only-of-type {\n",
       "        vertical-align: middle;\n",
       "    }\n",
       "\n",
       "    .dataframe tbody tr th {\n",
       "        vertical-align: top;\n",
       "    }\n",
       "\n",
       "    .dataframe thead th {\n",
       "        text-align: right;\n",
       "    }\n",
       "</style>\n",
       "<table border=\"1\" class=\"dataframe\">\n",
       "  <thead>\n",
       "    <tr style=\"text-align: right;\">\n",
       "      <th></th>\n",
       "      <th>Document</th>\n",
       "      <th>Topic_group</th>\n",
       "    </tr>\n",
       "  </thead>\n",
       "  <tbody>\n",
       "    <tr>\n",
       "      <th>0</th>\n",
       "      <td>connection with icon icon dear please setup ic...</td>\n",
       "      <td>Hardware</td>\n",
       "    </tr>\n",
       "    <tr>\n",
       "      <th>1</th>\n",
       "      <td>work experience user work experience user hi w...</td>\n",
       "      <td>Access</td>\n",
       "    </tr>\n",
       "    <tr>\n",
       "      <th>2</th>\n",
       "      <td>requesting for meeting requesting meeting hi p...</td>\n",
       "      <td>Hardware</td>\n",
       "    </tr>\n",
       "    <tr>\n",
       "      <th>3</th>\n",
       "      <td>reset passwords for external accounts re expir...</td>\n",
       "      <td>Access</td>\n",
       "    </tr>\n",
       "    <tr>\n",
       "      <th>4</th>\n",
       "      <td>mail verification warning hi has got attached ...</td>\n",
       "      <td>Miscellaneous</td>\n",
       "    </tr>\n",
       "  </tbody>\n",
       "</table>\n",
       "</div>"
      ],
      "text/plain": [
       "                                            Document    Topic_group\n",
       "0  connection with icon icon dear please setup ic...       Hardware\n",
       "1  work experience user work experience user hi w...         Access\n",
       "2  requesting for meeting requesting meeting hi p...       Hardware\n",
       "3  reset passwords for external accounts re expir...         Access\n",
       "4  mail verification warning hi has got attached ...  Miscellaneous"
      ]
     },
     "execution_count": 6,
     "metadata": {},
     "output_type": "execute_result"
    }
   ],
   "source": [
    "#quick preview of the df\n",
    "df.head()"
   ]
  },
  {
   "cell_type": "code",
   "execution_count": 7,
   "id": "bf3811bd",
   "metadata": {
    "execution": {
     "iopub.execute_input": "2025-05-12T14:26:18.308421Z",
     "iopub.status.busy": "2025-05-12T14:26:18.308122Z",
     "iopub.status.idle": "2025-05-12T14:26:18.319878Z",
     "shell.execute_reply": "2025-05-12T14:26:18.318999Z"
    },
    "papermill": {
     "duration": 0.020793,
     "end_time": "2025-05-12T14:26:18.321279",
     "exception": false,
     "start_time": "2025-05-12T14:26:18.300486",
     "status": "completed"
    },
    "tags": []
   },
   "outputs": [
    {
     "data": {
      "text/plain": [
       "array(['Hardware', 'Access', 'Miscellaneous', 'HR Support', 'Purchase',\n",
       "       'Administrative rights', 'Storage', 'Internal Project'],\n",
       "      dtype=object)"
      ]
     },
     "execution_count": 7,
     "metadata": {},
     "output_type": "execute_result"
    }
   ],
   "source": [
    "#viewing unique values (categories) in Topic_group\n",
    "df['Topic_group'].nunique()\n",
    "df['Topic_group'].unique()"
   ]
  },
  {
   "cell_type": "code",
   "execution_count": 8,
   "id": "bf32f2ed",
   "metadata": {
    "execution": {
     "iopub.execute_input": "2025-05-12T14:26:18.335373Z",
     "iopub.status.busy": "2025-05-12T14:26:18.335111Z",
     "iopub.status.idle": "2025-05-12T14:26:18.350363Z",
     "shell.execute_reply": "2025-05-12T14:26:18.349474Z"
    },
    "papermill": {
     "duration": 0.023959,
     "end_time": "2025-05-12T14:26:18.351735",
     "exception": false,
     "start_time": "2025-05-12T14:26:18.327776",
     "status": "completed"
    },
    "tags": []
   },
   "outputs": [
    {
     "data": {
      "text/plain": [
       "Document       0\n",
       "Topic_group    0\n",
       "dtype: int64"
      ]
     },
     "execution_count": 8,
     "metadata": {},
     "output_type": "execute_result"
    }
   ],
   "source": [
    "#checking na\n",
    "df.isnull().sum()"
   ]
  },
  {
   "cell_type": "code",
   "execution_count": 9,
   "id": "ef8ae399",
   "metadata": {
    "execution": {
     "iopub.execute_input": "2025-05-12T14:26:18.366132Z",
     "iopub.status.busy": "2025-05-12T14:26:18.365837Z",
     "iopub.status.idle": "2025-05-12T14:26:18.424174Z",
     "shell.execute_reply": "2025-05-12T14:26:18.423423Z"
    },
    "papermill": {
     "duration": 0.067309,
     "end_time": "2025-05-12T14:26:18.425551",
     "exception": false,
     "start_time": "2025-05-12T14:26:18.358242",
     "status": "completed"
    },
    "tags": []
   },
   "outputs": [
    {
     "data": {
      "text/plain": [
       "0"
      ]
     },
     "execution_count": 9,
     "metadata": {},
     "output_type": "execute_result"
    }
   ],
   "source": [
    "#checking duplicates\n",
    "df.duplicated().sum()"
   ]
  },
  {
   "cell_type": "markdown",
   "id": "14190f9c",
   "metadata": {
    "papermill": {
     "duration": 0.00622,
     "end_time": "2025-05-12T14:26:18.438391",
     "exception": false,
     "start_time": "2025-05-12T14:26:18.432171",
     "status": "completed"
    },
    "tags": []
   },
   "source": [
    "# Text Preprocessing"
   ]
  },
  {
   "cell_type": "code",
   "execution_count": 10,
   "id": "b72fd21b",
   "metadata": {
    "execution": {
     "iopub.execute_input": "2025-05-12T14:26:18.452375Z",
     "iopub.status.busy": "2025-05-12T14:26:18.452077Z",
     "iopub.status.idle": "2025-05-12T14:26:18.759514Z",
     "shell.execute_reply": "2025-05-12T14:26:18.758215Z"
    },
    "papermill": {
     "duration": 0.31643,
     "end_time": "2025-05-12T14:26:18.761206",
     "exception": false,
     "start_time": "2025-05-12T14:26:18.444776",
     "status": "completed"
    },
    "tags": []
   },
   "outputs": [],
   "source": [
    "import re\n",
    "import string\n",
    "from bs4 import BeautifulSoup"
   ]
  },
  {
   "cell_type": "code",
   "execution_count": 11,
   "id": "b6d160c1",
   "metadata": {
    "execution": {
     "iopub.execute_input": "2025-05-12T14:26:18.776592Z",
     "iopub.status.busy": "2025-05-12T14:26:18.776152Z",
     "iopub.status.idle": "2025-05-12T14:26:18.781976Z",
     "shell.execute_reply": "2025-05-12T14:26:18.781054Z"
    },
    "papermill": {
     "duration": 0.015273,
     "end_time": "2025-05-12T14:26:18.783477",
     "exception": false,
     "start_time": "2025-05-12T14:26:18.768204",
     "status": "completed"
    },
    "tags": []
   },
   "outputs": [],
   "source": [
    "def cleaned_text (text):\n",
    "    text = text.lower() #converting to lower case\n",
    "    text = re.sub(r'\\d+', '', text) #removing numbers\n",
    "    text = text.translate(str.maketrans('', '', string.punctuation)) \n",
    "    #removing punctuation\n",
    "    text = re.sub(r'\\W', ' ', text) #removing special characters\n",
    "    text = BeautifulSoup(text, \"html.parser\").get_text() #removing HTML tags\n",
    "    return text"
   ]
  },
  {
   "cell_type": "code",
   "execution_count": 12,
   "id": "fea4959c",
   "metadata": {
    "execution": {
     "iopub.execute_input": "2025-05-12T14:26:18.799012Z",
     "iopub.status.busy": "2025-05-12T14:26:18.798466Z",
     "iopub.status.idle": "2025-05-12T14:26:22.186837Z",
     "shell.execute_reply": "2025-05-12T14:26:22.185723Z"
    },
    "papermill": {
     "duration": 3.398305,
     "end_time": "2025-05-12T14:26:22.188454",
     "exception": false,
     "start_time": "2025-05-12T14:26:18.790149",
     "status": "completed"
    },
    "tags": []
   },
   "outputs": [],
   "source": [
    "df['Cleaned_Document'] = df['Document'].apply(cleaned_text)"
   ]
  },
  {
   "cell_type": "code",
   "execution_count": 13,
   "id": "467117f2",
   "metadata": {
    "execution": {
     "iopub.execute_input": "2025-05-12T14:26:22.203638Z",
     "iopub.status.busy": "2025-05-12T14:26:22.203314Z",
     "iopub.status.idle": "2025-05-12T14:26:24.548741Z",
     "shell.execute_reply": "2025-05-12T14:26:24.547651Z"
    },
    "papermill": {
     "duration": 2.355297,
     "end_time": "2025-05-12T14:26:24.550550",
     "exception": false,
     "start_time": "2025-05-12T14:26:22.195253",
     "status": "completed"
    },
    "tags": []
   },
   "outputs": [],
   "source": [
    "import nltk\n",
    "\n",
    "#specifying the path to the already downloaded punkt dataset and other packages\n",
    "nltk.data.path.append('/kaggle/input/nltk-datasets/nltk_data')"
   ]
  },
  {
   "cell_type": "code",
   "execution_count": 14,
   "id": "bb7d5561",
   "metadata": {
    "execution": {
     "iopub.execute_input": "2025-05-12T14:26:24.566144Z",
     "iopub.status.busy": "2025-05-12T14:26:24.565630Z",
     "iopub.status.idle": "2025-05-12T14:26:24.571125Z",
     "shell.execute_reply": "2025-05-12T14:26:24.570111Z"
    },
    "papermill": {
     "duration": 0.015474,
     "end_time": "2025-05-12T14:26:24.573314",
     "exception": false,
     "start_time": "2025-05-12T14:26:24.557840",
     "status": "completed"
    },
    "tags": []
   },
   "outputs": [],
   "source": [
    "from nltk.tokenize import word_tokenize"
   ]
  },
  {
   "cell_type": "code",
   "execution_count": 15,
   "id": "bb1fa5a9",
   "metadata": {
    "execution": {
     "iopub.execute_input": "2025-05-12T14:26:24.590970Z",
     "iopub.status.busy": "2025-05-12T14:26:24.589639Z",
     "iopub.status.idle": "2025-05-12T14:26:33.435953Z",
     "shell.execute_reply": "2025-05-12T14:26:33.434920Z"
    },
    "papermill": {
     "duration": 8.857021,
     "end_time": "2025-05-12T14:26:33.437465",
     "exception": false,
     "start_time": "2025-05-12T14:26:24.580444",
     "status": "completed"
    },
    "tags": []
   },
   "outputs": [],
   "source": [
    "#splitting text into words\n",
    "df['Cleaned_Document'] = df['Cleaned_Document'].apply(word_tokenize)"
   ]
  },
  {
   "cell_type": "code",
   "execution_count": 16,
   "id": "178cb591",
   "metadata": {
    "execution": {
     "iopub.execute_input": "2025-05-12T14:26:33.452052Z",
     "iopub.status.busy": "2025-05-12T14:26:33.451759Z",
     "iopub.status.idle": "2025-05-12T14:26:33.460260Z",
     "shell.execute_reply": "2025-05-12T14:26:33.459539Z"
    },
    "papermill": {
     "duration": 0.017435,
     "end_time": "2025-05-12T14:26:33.461664",
     "exception": false,
     "start_time": "2025-05-12T14:26:33.444229",
     "status": "completed"
    },
    "tags": []
   },
   "outputs": [
    {
     "data": {
      "text/plain": [
       "0        [connection, with, icon, icon, dear, please, s...\n",
       "1        [work, experience, user, work, experience, use...\n",
       "2        [requesting, for, meeting, requesting, meeting...\n",
       "3        [reset, passwords, for, external, accounts, re...\n",
       "4        [mail, verification, warning, hi, has, got, at...\n",
       "                               ...                        \n",
       "47832    [git, space, for, a, project, issues, with, ad...\n",
       "47833    [error, sent, july, error, hi, guys, can, you,...\n",
       "47834    [connection, issues, sent, tuesday, july, conn...\n",
       "47835    [error, cube, reports, sent, tuesday, july, er...\n",
       "47836    [running, out, on, extensions, hello, please, ...\n",
       "Name: Cleaned_Document, Length: 47837, dtype: object"
      ]
     },
     "execution_count": 16,
     "metadata": {},
     "output_type": "execute_result"
    }
   ],
   "source": [
    "df['Cleaned_Document']"
   ]
  },
  {
   "cell_type": "code",
   "execution_count": 17,
   "id": "59d76dd9",
   "metadata": {
    "execution": {
     "iopub.execute_input": "2025-05-12T14:26:33.476204Z",
     "iopub.status.busy": "2025-05-12T14:26:33.475928Z",
     "iopub.status.idle": "2025-05-12T14:26:33.486332Z",
     "shell.execute_reply": "2025-05-12T14:26:33.485564Z"
    },
    "papermill": {
     "duration": 0.019304,
     "end_time": "2025-05-12T14:26:33.487617",
     "exception": false,
     "start_time": "2025-05-12T14:26:33.468313",
     "status": "completed"
    },
    "tags": []
   },
   "outputs": [
    {
     "name": "stdout",
     "output_type": "stream",
     "text": [
      "198\n"
     ]
    }
   ],
   "source": [
    "#removing stop-words\n",
    "from nltk.corpus import stopwords\n",
    "stop_words = set(stopwords.words('english'))\n",
    "print(len(stop_words)) #checking that stop-words are downloaded"
   ]
  },
  {
   "cell_type": "code",
   "execution_count": 18,
   "id": "b367741f",
   "metadata": {
    "execution": {
     "iopub.execute_input": "2025-05-12T14:26:33.502112Z",
     "iopub.status.busy": "2025-05-12T14:26:33.501830Z",
     "iopub.status.idle": "2025-05-12T14:26:33.935925Z",
     "shell.execute_reply": "2025-05-12T14:26:33.935014Z"
    },
    "papermill": {
     "duration": 0.443033,
     "end_time": "2025-05-12T14:26:33.937481",
     "exception": false,
     "start_time": "2025-05-12T14:26:33.494448",
     "status": "completed"
    },
    "tags": []
   },
   "outputs": [],
   "source": [
    "df['Cleaned_Document'] = df['Cleaned_Document'].apply(\n",
    "    lambda toks: [w for w in toks if w not in stop_words]\n",
    ")"
   ]
  },
  {
   "cell_type": "code",
   "execution_count": 19,
   "id": "d5ec5a7f",
   "metadata": {
    "execution": {
     "iopub.execute_input": "2025-05-12T14:26:33.952155Z",
     "iopub.status.busy": "2025-05-12T14:26:33.951860Z",
     "iopub.status.idle": "2025-05-12T14:26:33.961041Z",
     "shell.execute_reply": "2025-05-12T14:26:33.960302Z"
    },
    "papermill": {
     "duration": 0.017985,
     "end_time": "2025-05-12T14:26:33.962423",
     "exception": false,
     "start_time": "2025-05-12T14:26:33.944438",
     "status": "completed"
    },
    "tags": []
   },
   "outputs": [
    {
     "data": {
      "text/plain": [
       "0        [connection, icon, icon, dear, please, setup, ...\n",
       "1        [work, experience, user, work, experience, use...\n",
       "2        [requesting, meeting, requesting, meeting, hi,...\n",
       "3        [reset, passwords, external, accounts, expire,...\n",
       "4        [mail, verification, warning, hi, got, attache...\n",
       "                               ...                        \n",
       "47832    [git, space, project, issues, adding, users, s...\n",
       "47833    [error, sent, july, error, hi, guys, help, err...\n",
       "47834    [connection, issues, sent, tuesday, july, conn...\n",
       "47835    [error, cube, reports, sent, tuesday, july, er...\n",
       "47836    [running, extensions, hello, please, advised, ...\n",
       "Name: Cleaned_Document, Length: 47837, dtype: object"
      ]
     },
     "execution_count": 19,
     "metadata": {},
     "output_type": "execute_result"
    }
   ],
   "source": [
    "df['Cleaned_Document']"
   ]
  },
  {
   "cell_type": "code",
   "execution_count": 20,
   "id": "1457c736",
   "metadata": {
    "execution": {
     "iopub.execute_input": "2025-05-12T14:26:33.977250Z",
     "iopub.status.busy": "2025-05-12T14:26:33.976976Z",
     "iopub.status.idle": "2025-05-12T14:26:44.564009Z",
     "shell.execute_reply": "2025-05-12T14:26:44.563086Z"
    },
    "papermill": {
     "duration": 10.596202,
     "end_time": "2025-05-12T14:26:44.565634",
     "exception": false,
     "start_time": "2025-05-12T14:26:33.969432",
     "status": "completed"
    },
    "tags": []
   },
   "outputs": [],
   "source": [
    "#lemmatization\n",
    "from nltk.stem import PorterStemmer, WordNetLemmatizer\n",
    "lemmatizer = WordNetLemmatizer()\n",
    "df['Cleaned_Document'] = df['Cleaned_Document'].apply(lambda doc: [lemmatizer.lemmatize(word) for word in doc])"
   ]
  },
  {
   "cell_type": "code",
   "execution_count": 21,
   "id": "e6114350",
   "metadata": {
    "execution": {
     "iopub.execute_input": "2025-05-12T14:26:44.642170Z",
     "iopub.status.busy": "2025-05-12T14:26:44.641882Z",
     "iopub.status.idle": "2025-05-12T14:26:44.651769Z",
     "shell.execute_reply": "2025-05-12T14:26:44.650727Z"
    },
    "papermill": {
     "duration": 0.018961,
     "end_time": "2025-05-12T14:26:44.653201",
     "exception": false,
     "start_time": "2025-05-12T14:26:44.634240",
     "status": "completed"
    },
    "tags": []
   },
   "outputs": [
    {
     "data": {
      "text/plain": [
       "0     [connection, icon, icon, dear, please, setup, ...\n",
       "1     [work, experience, user, work, experience, use...\n",
       "2     [requesting, meeting, requesting, meeting, hi,...\n",
       "3     [reset, password, external, account, expire, d...\n",
       "4     [mail, verification, warning, hi, got, attache...\n",
       "5     [mail, please, dear, look, blacklisted, receiv...\n",
       "6     [prod, server, tunneling, prod, tunneling, va,...\n",
       "7     [access, request, dear, module, report, report...\n",
       "8     [reset, password, client, password, client, de...\n",
       "9     [direct, report, missing, time, please, action...\n",
       "10    [laptop, connected, request, rebuild, connecte...\n",
       "11    [device, recovery, report, printer, alert, dup...\n",
       "12            [new, starter, hello, please, fill, date]\n",
       "13    [visual, studio, license, visual, studio, lice...\n",
       "14    [system, hello, movement, left, available, dev...\n",
       "15    [access, secondary, secondary, hi, please, pro...\n",
       "16    [list, sent, copy, copy, hi, receive, copy, be...\n",
       "17    [new, purchase, po, purchase, po, dear, purcha...\n",
       "18    [invitation, cloud, strategy, workshop, februa...\n",
       "19    [change, sale, owner, contract, change, owner,...\n",
       "Name: Cleaned_Document, dtype: object"
      ]
     },
     "execution_count": 21,
     "metadata": {},
     "output_type": "execute_result"
    }
   ],
   "source": [
    "df['Cleaned_Document'].head(20)"
   ]
  },
  {
   "cell_type": "code",
   "execution_count": 22,
   "id": "b83f9772",
   "metadata": {
    "execution": {
     "iopub.execute_input": "2025-05-12T14:26:44.668948Z",
     "iopub.status.busy": "2025-05-12T14:26:44.668135Z",
     "iopub.status.idle": "2025-05-12T14:26:44.678205Z",
     "shell.execute_reply": "2025-05-12T14:26:44.677302Z"
    },
    "papermill": {
     "duration": 0.019316,
     "end_time": "2025-05-12T14:26:44.679633",
     "exception": false,
     "start_time": "2025-05-12T14:26:44.660317",
     "status": "completed"
    },
    "tags": []
   },
   "outputs": [
    {
     "data": {
      "text/plain": [
       "47817    [submit, expense, even, though, added, electro...\n",
       "47818    [job, referral, available, sent, thursday, jul...\n",
       "47819    [oracle, update, another, bug, sent, thursday,...\n",
       "47820    [social, error, sent, thursday, july, error, d...\n",
       "47821    [backup, server, performance, issue, sent, thu...\n",
       "47822    [approving, expense, project, code, related, w...\n",
       "47823    [bug, sent, wednesday, july, bug, hello, disco...\n",
       "47824    [oracle, fusion, working, message, unplanned, ...\n",
       "47825    [issue, sent, friday, july, hi, issue, somethi...\n",
       "47826    [oracle, error, sent, thursday, july, error, h...\n",
       "47827    [bandwidth, problem, sent, thursday, july, ban...\n",
       "47828    [password, expire, day, sent, july, password, ...\n",
       "47829    [sensitive, information, access, sent, wednesd...\n",
       "47830    [malfunction, sent, tuesday, july, malfunction...\n",
       "47831    [outlook, account, laptop, laptop, sa, sa, si,...\n",
       "47832    [git, space, project, issue, adding, user, sen...\n",
       "47833    [error, sent, july, error, hi, guy, help, erro...\n",
       "47834    [connection, issue, sent, tuesday, july, conne...\n",
       "47835    [error, cube, report, sent, tuesday, july, err...\n",
       "47836    [running, extension, hello, please, advised, r...\n",
       "Name: Cleaned_Document, dtype: object"
      ]
     },
     "execution_count": 22,
     "metadata": {},
     "output_type": "execute_result"
    }
   ],
   "source": [
    "df['Cleaned_Document'].tail(20)"
   ]
  },
  {
   "cell_type": "markdown",
   "id": "680ade87",
   "metadata": {
    "papermill": {
     "duration": 0.006637,
     "end_time": "2025-05-12T14:26:44.693347",
     "exception": false,
     "start_time": "2025-05-12T14:26:44.686710",
     "status": "completed"
    },
    "tags": []
   },
   "source": [
    "As I can see, besides stop words, the corpus contains many words like 'please', 'hi', 'hello', etc. These words can affect the efficiency of the algorithm, so I would remove them manually."
   ]
  },
  {
   "cell_type": "code",
   "execution_count": 23,
   "id": "05130dae",
   "metadata": {
    "execution": {
     "iopub.execute_input": "2025-05-12T14:26:44.708801Z",
     "iopub.status.busy": "2025-05-12T14:26:44.708041Z",
     "iopub.status.idle": "2025-05-12T14:26:45.320821Z",
     "shell.execute_reply": "2025-05-12T14:26:45.319927Z"
    },
    "papermill": {
     "duration": 0.622303,
     "end_time": "2025-05-12T14:26:45.322482",
     "exception": false,
     "start_time": "2025-05-12T14:26:44.700179",
     "status": "completed"
    },
    "tags": []
   },
   "outputs": [],
   "source": [
    "custom_stopwords = ['hi', 'hello', 'dear', 'please', 'help', 'guy', 'guys',\n",
    "                   'thanks', 'thank', 'regards', 'best', 'hey', 'appreciate',\n",
    "                    'sorry', 'welcome', 'cheers', 'hello', 'goodbye', 'bye',\n",
    "                    'kindly', 'gladly']\n",
    "\n",
    "df['Cleaned_Document'] = df['Cleaned_Document'].apply(\n",
    "    lambda doc: [word for word in doc if word not in custom_stopwords]\n",
    ")"
   ]
  },
  {
   "cell_type": "code",
   "execution_count": 24,
   "id": "1a33f290",
   "metadata": {
    "execution": {
     "iopub.execute_input": "2025-05-12T14:26:45.337996Z",
     "iopub.status.busy": "2025-05-12T14:26:45.337390Z",
     "iopub.status.idle": "2025-05-12T14:26:45.345322Z",
     "shell.execute_reply": "2025-05-12T14:26:45.344581Z"
    },
    "papermill": {
     "duration": 0.017032,
     "end_time": "2025-05-12T14:26:45.346672",
     "exception": false,
     "start_time": "2025-05-12T14:26:45.329640",
     "status": "completed"
    },
    "tags": []
   },
   "outputs": [
    {
     "data": {
      "text/plain": [
       "0        [connection, icon, icon, setup, icon, per, ico...\n",
       "1        [work, experience, user, work, experience, use...\n",
       "2        [requesting, meeting, requesting, meeting, fol...\n",
       "3        [reset, password, external, account, expire, d...\n",
       "4        [mail, verification, warning, got, attached, a...\n",
       "                               ...                        \n",
       "47832    [git, space, project, issue, adding, user, sen...\n",
       "47833    [error, sent, july, error, error, appearing, w...\n",
       "47834    [connection, issue, sent, tuesday, july, conne...\n",
       "47835    [error, cube, report, sent, tuesday, july, err...\n",
       "47836    [running, extension, advised, running, extensi...\n",
       "Name: Cleaned_Document, Length: 47837, dtype: object"
      ]
     },
     "execution_count": 24,
     "metadata": {},
     "output_type": "execute_result"
    }
   ],
   "source": [
    "df['Cleaned_Document']"
   ]
  },
  {
   "cell_type": "code",
   "execution_count": 25,
   "id": "7f06c175",
   "metadata": {
    "execution": {
     "iopub.execute_input": "2025-05-12T14:26:45.362519Z",
     "iopub.status.busy": "2025-05-12T14:26:45.361853Z",
     "iopub.status.idle": "2025-05-12T14:26:45.561718Z",
     "shell.execute_reply": "2025-05-12T14:26:45.560849Z"
    },
    "papermill": {
     "duration": 0.209338,
     "end_time": "2025-05-12T14:26:45.563323",
     "exception": false,
     "start_time": "2025-05-12T14:26:45.353985",
     "status": "completed"
    },
    "tags": []
   },
   "outputs": [],
   "source": [
    "#%pip install contractions\n",
    "#import contractions\n",
    "\n",
    "contraction_map = {\n",
    "    \"aren't\": \"are not\",\n",
    "    \"can't\": \"cannot\",\n",
    "    \"couldn't\": \"could not\",\n",
    "    \"didn't\": \"did not\",\n",
    "    \"doesn't\": \"does not\",\n",
    "    \"don't\": \"do not\",\n",
    "    \"hadn't\": \"had not\",\n",
    "    \"hasn't\": \"has not\",\n",
    "    \"haven't\": \"have not\",\n",
    "    \"he'd\": \"he would\",\n",
    "    \"he'll\": \"he will\",\n",
    "    \"he's\": \"he is\",\n",
    "    \"i'd\": \"i would\",\n",
    "    \"i'll\": \"i will\",\n",
    "    \"i'm\": \"i am\",\n",
    "    \"i've\": \"i have\",\n",
    "    \"isn't\": \"is not\",\n",
    "    \"it's\": \"it is\",\n",
    "    \"let's\": \"let us\",\n",
    "    \"mightn't\": \"might not\",\n",
    "    \"mustn't\": \"must not\",\n",
    "    \"shan't\": \"shall not\",\n",
    "    \"she'd\": \"she would\",\n",
    "    \"she'll\": \"she will\",\n",
    "    \"she's\": \"she is\",\n",
    "    \"shouldn't\": \"should not\",\n",
    "    \"that's\": \"that is\",\n",
    "    \"there's\": \"there is\",\n",
    "    \"they'd\": \"they would\",\n",
    "    \"they'll\": \"they will\",\n",
    "    \"they're\": \"they are\",\n",
    "    \"they've\": \"they have\",\n",
    "    \"we'd\": \"we would\",\n",
    "    \"we're\": \"we are\",\n",
    "    \"we've\": \"we have\",\n",
    "    \"weren't\": \"were not\",\n",
    "    \"what'll\": \"what will\",\n",
    "    \"what're\": \"what are\",\n",
    "    \"what's\": \"what is\",\n",
    "    \"what've\": \"what have\",\n",
    "    \"where's\": \"where is\",\n",
    "    \"who's\": \"who is\",\n",
    "    \"who'll\": \"who will\",\n",
    "    \"won't\": \"will not\",\n",
    "    \"wouldn't\": \"would not\",\n",
    "    \"you'd\": \"you would\",\n",
    "    \"you'll\": \"you will\",\n",
    "    \"you're\": \"you are\",\n",
    "    \"you've\": \"you have\"\n",
    "}\n",
    "\n",
    "def expand_contractions_tokenized(doc):\n",
    "    return [contraction_map.get(word, word) for word in doc]\n",
    "\n",
    "df['Cleaned_Document'] = df['Cleaned_Document'].apply(expand_contractions_tokenized)"
   ]
  },
  {
   "cell_type": "code",
   "execution_count": 26,
   "id": "4a3e93ec",
   "metadata": {
    "execution": {
     "iopub.execute_input": "2025-05-12T14:26:45.579021Z",
     "iopub.status.busy": "2025-05-12T14:26:45.578277Z",
     "iopub.status.idle": "2025-05-12T14:26:45.586380Z",
     "shell.execute_reply": "2025-05-12T14:26:45.585582Z"
    },
    "papermill": {
     "duration": 0.017022,
     "end_time": "2025-05-12T14:26:45.587608",
     "exception": false,
     "start_time": "2025-05-12T14:26:45.570586",
     "status": "completed"
    },
    "tags": []
   },
   "outputs": [
    {
     "data": {
      "text/plain": [
       "0        [connection, icon, icon, setup, icon, per, ico...\n",
       "1        [work, experience, user, work, experience, use...\n",
       "2        [requesting, meeting, requesting, meeting, fol...\n",
       "3        [reset, password, external, account, expire, d...\n",
       "4        [mail, verification, warning, got, attached, a...\n",
       "                               ...                        \n",
       "47832    [git, space, project, issue, adding, user, sen...\n",
       "47833    [error, sent, july, error, error, appearing, w...\n",
       "47834    [connection, issue, sent, tuesday, july, conne...\n",
       "47835    [error, cube, report, sent, tuesday, july, err...\n",
       "47836    [running, extension, advised, running, extensi...\n",
       "Name: Cleaned_Document, Length: 47837, dtype: object"
      ]
     },
     "execution_count": 26,
     "metadata": {},
     "output_type": "execute_result"
    }
   ],
   "source": [
    "df['Cleaned_Document'] "
   ]
  },
  {
   "cell_type": "code",
   "execution_count": 27,
   "id": "1802776c",
   "metadata": {
    "execution": {
     "iopub.execute_input": "2025-05-12T14:26:45.603415Z",
     "iopub.status.busy": "2025-05-12T14:26:45.602762Z",
     "iopub.status.idle": "2025-05-12T14:26:47.229483Z",
     "shell.execute_reply": "2025-05-12T14:26:47.228681Z"
    },
    "papermill": {
     "duration": 1.636167,
     "end_time": "2025-05-12T14:26:47.231049",
     "exception": false,
     "start_time": "2025-05-12T14:26:45.594882",
     "status": "completed"
    },
    "tags": []
   },
   "outputs": [],
   "source": [
    "#saving dataset\n",
    "df['Cleaned_Document_Str'] = df['Cleaned_Document'].apply(lambda tokens: ' '.join(tokens))\n",
    "df.to_csv('cleaned_dataset.csv', index=False)"
   ]
  },
  {
   "cell_type": "markdown",
   "id": "4e3a842b",
   "metadata": {
    "papermill": {
     "duration": 0.006899,
     "end_time": "2025-05-12T14:26:47.245360",
     "exception": false,
     "start_time": "2025-05-12T14:26:47.238461",
     "status": "completed"
    },
    "tags": []
   },
   "source": [
    "# Classification"
   ]
  },
  {
   "cell_type": "code",
   "execution_count": 28,
   "id": "f8e6cae0",
   "metadata": {
    "execution": {
     "iopub.execute_input": "2025-05-12T14:26:47.260749Z",
     "iopub.status.busy": "2025-05-12T14:26:47.260400Z",
     "iopub.status.idle": "2025-05-12T14:26:47.270876Z",
     "shell.execute_reply": "2025-05-12T14:26:47.270076Z"
    },
    "papermill": {
     "duration": 0.019659,
     "end_time": "2025-05-12T14:26:47.272126",
     "exception": false,
     "start_time": "2025-05-12T14:26:47.252467",
     "status": "completed"
    },
    "tags": []
   },
   "outputs": [
    {
     "data": {
      "text/html": [
       "<div>\n",
       "<style scoped>\n",
       "    .dataframe tbody tr th:only-of-type {\n",
       "        vertical-align: middle;\n",
       "    }\n",
       "\n",
       "    .dataframe tbody tr th {\n",
       "        vertical-align: top;\n",
       "    }\n",
       "\n",
       "    .dataframe thead th {\n",
       "        text-align: right;\n",
       "    }\n",
       "</style>\n",
       "<table border=\"1\" class=\"dataframe\">\n",
       "  <thead>\n",
       "    <tr style=\"text-align: right;\">\n",
       "      <th></th>\n",
       "      <th>Document</th>\n",
       "      <th>Topic_group</th>\n",
       "      <th>Cleaned_Document</th>\n",
       "      <th>Cleaned_Document_Str</th>\n",
       "    </tr>\n",
       "  </thead>\n",
       "  <tbody>\n",
       "    <tr>\n",
       "      <th>0</th>\n",
       "      <td>connection with icon icon dear please setup ic...</td>\n",
       "      <td>Hardware</td>\n",
       "      <td>[connection, icon, icon, setup, icon, per, ico...</td>\n",
       "      <td>connection icon icon setup icon per icon engin...</td>\n",
       "    </tr>\n",
       "    <tr>\n",
       "      <th>1</th>\n",
       "      <td>work experience user work experience user hi w...</td>\n",
       "      <td>Access</td>\n",
       "      <td>[work, experience, user, work, experience, use...</td>\n",
       "      <td>work experience user work experience user work...</td>\n",
       "    </tr>\n",
       "    <tr>\n",
       "      <th>2</th>\n",
       "      <td>requesting for meeting requesting meeting hi p...</td>\n",
       "      <td>Hardware</td>\n",
       "      <td>[requesting, meeting, requesting, meeting, fol...</td>\n",
       "      <td>requesting meeting requesting meeting follow e...</td>\n",
       "    </tr>\n",
       "    <tr>\n",
       "      <th>3</th>\n",
       "      <td>reset passwords for external accounts re expir...</td>\n",
       "      <td>Access</td>\n",
       "      <td>[reset, password, external, account, expire, d...</td>\n",
       "      <td>reset password external account expire day ask...</td>\n",
       "    </tr>\n",
       "    <tr>\n",
       "      <th>4</th>\n",
       "      <td>mail verification warning hi has got attached ...</td>\n",
       "      <td>Miscellaneous</td>\n",
       "      <td>[mail, verification, warning, got, attached, a...</td>\n",
       "      <td>mail verification warning got attached address...</td>\n",
       "    </tr>\n",
       "  </tbody>\n",
       "</table>\n",
       "</div>"
      ],
      "text/plain": [
       "                                            Document    Topic_group  \\\n",
       "0  connection with icon icon dear please setup ic...       Hardware   \n",
       "1  work experience user work experience user hi w...         Access   \n",
       "2  requesting for meeting requesting meeting hi p...       Hardware   \n",
       "3  reset passwords for external accounts re expir...         Access   \n",
       "4  mail verification warning hi has got attached ...  Miscellaneous   \n",
       "\n",
       "                                    Cleaned_Document  \\\n",
       "0  [connection, icon, icon, setup, icon, per, ico...   \n",
       "1  [work, experience, user, work, experience, use...   \n",
       "2  [requesting, meeting, requesting, meeting, fol...   \n",
       "3  [reset, password, external, account, expire, d...   \n",
       "4  [mail, verification, warning, got, attached, a...   \n",
       "\n",
       "                                Cleaned_Document_Str  \n",
       "0  connection icon icon setup icon per icon engin...  \n",
       "1  work experience user work experience user work...  \n",
       "2  requesting meeting requesting meeting follow e...  \n",
       "3  reset password external account expire day ask...  \n",
       "4  mail verification warning got attached address...  "
      ]
     },
     "execution_count": 28,
     "metadata": {},
     "output_type": "execute_result"
    }
   ],
   "source": [
    "df.head()"
   ]
  },
  {
   "cell_type": "code",
   "execution_count": 29,
   "id": "a82f7028",
   "metadata": {
    "execution": {
     "iopub.execute_input": "2025-05-12T14:26:47.287954Z",
     "iopub.status.busy": "2025-05-12T14:26:47.287346Z",
     "iopub.status.idle": "2025-05-12T14:26:47.295852Z",
     "shell.execute_reply": "2025-05-12T14:26:47.294977Z"
    },
    "papermill": {
     "duration": 0.017768,
     "end_time": "2025-05-12T14:26:47.297200",
     "exception": false,
     "start_time": "2025-05-12T14:26:47.279432",
     "status": "completed"
    },
    "tags": []
   },
   "outputs": [
    {
     "data": {
      "text/plain": [
       "array(['Hardware', 'Access', 'Miscellaneous', 'HR Support', 'Purchase',\n",
       "       'Administrative rights', 'Storage', 'Internal Project'],\n",
       "      dtype=object)"
      ]
     },
     "execution_count": 29,
     "metadata": {},
     "output_type": "execute_result"
    }
   ],
   "source": [
    "df['Topic_group'].unique()"
   ]
  },
  {
   "cell_type": "markdown",
   "id": "78cf1238",
   "metadata": {
    "papermill": {
     "duration": 0.007239,
     "end_time": "2025-05-12T14:26:47.311994",
     "exception": false,
     "start_time": "2025-05-12T14:26:47.304755",
     "status": "completed"
    },
    "tags": []
   },
   "source": [
    "## Logistic Regression"
   ]
  },
  {
   "cell_type": "code",
   "execution_count": 30,
   "id": "76d89960",
   "metadata": {
    "execution": {
     "iopub.execute_input": "2025-05-12T14:26:47.328016Z",
     "iopub.status.busy": "2025-05-12T14:26:47.327434Z",
     "iopub.status.idle": "2025-05-12T14:26:50.517534Z",
     "shell.execute_reply": "2025-05-12T14:26:50.516674Z"
    },
    "papermill": {
     "duration": 3.19995,
     "end_time": "2025-05-12T14:26:50.519167",
     "exception": false,
     "start_time": "2025-05-12T14:26:47.319217",
     "status": "completed"
    },
    "tags": []
   },
   "outputs": [],
   "source": [
    "#TF-IDF\n",
    "from sklearn.feature_extraction.text import TfidfVectorizer\n",
    "\n",
    "vectorizer = TfidfVectorizer(min_df=5, max_df=0.8, ngram_range=(1,2))\n",
    "X = vectorizer.fit_transform(df['Cleaned_Document_Str'])"
   ]
  },
  {
   "cell_type": "code",
   "execution_count": 31,
   "id": "8592f644",
   "metadata": {
    "execution": {
     "iopub.execute_input": "2025-05-12T14:26:50.535611Z",
     "iopub.status.busy": "2025-05-12T14:26:50.535051Z",
     "iopub.status.idle": "2025-05-12T14:26:50.547352Z",
     "shell.execute_reply": "2025-05-12T14:26:50.546511Z"
    },
    "papermill": {
     "duration": 0.021905,
     "end_time": "2025-05-12T14:26:50.548660",
     "exception": false,
     "start_time": "2025-05-12T14:26:50.526755",
     "status": "completed"
    },
    "tags": []
   },
   "outputs": [],
   "source": [
    "#encoding target variable\n",
    "from sklearn.preprocessing import LabelEncoder\n",
    "\n",
    "le = LabelEncoder()\n",
    "y = le.fit_transform(df['Topic_group'])"
   ]
  },
  {
   "cell_type": "code",
   "execution_count": 32,
   "id": "c7f17b08",
   "metadata": {
    "execution": {
     "iopub.execute_input": "2025-05-12T14:26:50.565117Z",
     "iopub.status.busy": "2025-05-12T14:26:50.564825Z",
     "iopub.status.idle": "2025-05-12T14:26:50.569041Z",
     "shell.execute_reply": "2025-05-12T14:26:50.568216Z"
    },
    "papermill": {
     "duration": 0.013962,
     "end_time": "2025-05-12T14:26:50.570389",
     "exception": false,
     "start_time": "2025-05-12T14:26:50.556427",
     "status": "completed"
    },
    "tags": []
   },
   "outputs": [],
   "source": [
    "from sklearn.linear_model import LogisticRegression\n",
    "from sklearn.model_selection import train_test_split\n",
    "from sklearn.metrics import classification_report"
   ]
  },
  {
   "cell_type": "code",
   "execution_count": 33,
   "id": "2e45a4bc",
   "metadata": {
    "execution": {
     "iopub.execute_input": "2025-05-12T14:26:50.586989Z",
     "iopub.status.busy": "2025-05-12T14:26:50.586299Z",
     "iopub.status.idle": "2025-05-12T14:27:19.109001Z",
     "shell.execute_reply": "2025-05-12T14:27:19.107504Z"
    },
    "papermill": {
     "duration": 28.532991,
     "end_time": "2025-05-12T14:27:19.111063",
     "exception": false,
     "start_time": "2025-05-12T14:26:50.578072",
     "status": "completed"
    },
    "tags": []
   },
   "outputs": [
    {
     "name": "stdout",
     "output_type": "stream",
     "text": [
      "              precision    recall  f1-score   support\n",
      "\n",
      "           0       0.92      0.87      0.89      1455\n",
      "           1       0.92      0.63      0.75       342\n",
      "           2       0.85      0.85      0.85      2107\n",
      "           3       0.79      0.89      0.84      2760\n",
      "           4       0.93      0.77      0.84       451\n",
      "           5       0.82      0.84      0.83      1400\n",
      "           6       0.98      0.87      0.92       497\n",
      "           7       0.93      0.82      0.87       556\n",
      "\n",
      "    accuracy                           0.85      9568\n",
      "   macro avg       0.89      0.82      0.85      9568\n",
      "weighted avg       0.86      0.85      0.85      9568\n",
      "\n"
     ]
    }
   ],
   "source": [
    "X_train, X_test, y_train, y_test = train_test_split(X, y, test_size=0.2, random_state=42)\n",
    "clf = LogisticRegression(max_iter=1000)\n",
    "clf.fit(X_train, y_train)\n",
    "preds = clf.predict(X_test)\n",
    "print(classification_report(y_test, preds))"
   ]
  },
  {
   "cell_type": "markdown",
   "id": "20c7e2c8",
   "metadata": {
    "papermill": {
     "duration": 0.012175,
     "end_time": "2025-05-12T14:27:19.136591",
     "exception": false,
     "start_time": "2025-05-12T14:27:19.124416",
     "status": "completed"
    },
    "tags": []
   },
   "source": [
    "## Decision Trees / Random Forest / XGBoost:"
   ]
  },
  {
   "cell_type": "markdown",
   "id": "f49d4c97",
   "metadata": {
    "papermill": {
     "duration": 0.012104,
     "end_time": "2025-05-12T14:27:19.161079",
     "exception": false,
     "start_time": "2025-05-12T14:27:19.148975",
     "status": "completed"
    },
    "tags": []
   },
   "source": [
    "## RNN"
   ]
  },
  {
   "cell_type": "markdown",
   "id": "1d0d8871",
   "metadata": {
    "papermill": {
     "duration": 0.00713,
     "end_time": "2025-05-12T14:27:19.179031",
     "exception": false,
     "start_time": "2025-05-12T14:27:19.171901",
     "status": "completed"
    },
    "tags": []
   },
   "source": [
    "## BERT"
   ]
  }
 ],
 "metadata": {
  "kaggle": {
   "accelerator": "none",
   "dataSources": [
    {
     "datasetId": 4460055,
     "sourceId": 7650678,
     "sourceType": "datasetVersion"
    }
   ],
   "dockerImageVersionId": 31012,
   "isGpuEnabled": false,
   "isInternetEnabled": false,
   "language": "python",
   "sourceType": "notebook"
  },
  "kernelspec": {
   "display_name": "Python 3",
   "language": "python",
   "name": "python3"
  },
  "language_info": {
   "codemirror_mode": {
    "name": "ipython",
    "version": 3
   },
   "file_extension": ".py",
   "mimetype": "text/x-python",
   "name": "python",
   "nbconvert_exporter": "python",
   "pygments_lexer": "ipython3",
   "version": "3.11.11"
  },
  "papermill": {
   "default_parameters": {},
   "duration": 69.967768,
   "end_time": "2025-05-12T14:27:20.708629",
   "environment_variables": {},
   "exception": null,
   "input_path": "__notebook__.ipynb",
   "output_path": "__notebook__.ipynb",
   "parameters": {},
   "start_time": "2025-05-12T14:26:10.740861",
   "version": "2.6.0"
  }
 },
 "nbformat": 4,
 "nbformat_minor": 5
}
