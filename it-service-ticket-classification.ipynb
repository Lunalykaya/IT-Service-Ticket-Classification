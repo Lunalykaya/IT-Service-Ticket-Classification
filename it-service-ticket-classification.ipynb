{
 "cells": [
  {
   "cell_type": "code",
   "execution_count": 1,
   "id": "57b1cae9",
   "metadata": {
    "_cell_guid": "b1076dfc-b9ad-4769-8c92-a6c4dae69d19",
    "_uuid": "8f2839f25d086af736a60e9eeb907d3b93b6e0e5",
    "execution": {
     "iopub.execute_input": "2025-06-10T19:43:26.142308Z",
     "iopub.status.busy": "2025-06-10T19:43:26.142016Z",
     "iopub.status.idle": "2025-06-10T19:43:27.985773Z",
     "shell.execute_reply": "2025-06-10T19:43:27.984827Z"
    },
    "papermill": {
     "duration": 1.860335,
     "end_time": "2025-06-10T19:43:27.987272",
     "exception": false,
     "start_time": "2025-06-10T19:43:26.126937",
     "status": "completed"
    },
    "tags": []
   },
   "outputs": [
    {
     "name": "stdout",
     "output_type": "stream",
     "text": [
      "/kaggle/input/it-service-ticket-classification-dataset/all_tickets_processed_improved_v3.csv\n"
     ]
    }
   ],
   "source": [
    "# This Python 3 environment comes with many helpful analytics libraries installed\n",
    "# It is defined by the kaggle/python Docker image: https://github.com/kaggle/docker-python\n",
    "# For example, here's several helpful packages to load\n",
    "\n",
    "import numpy as np # linear algebra\n",
    "import pandas as pd # data processing, CSV file I/O (e.g. pd.read_csv)\n",
    "\n",
    "# Input data files are available in the read-only \"../input/\" directory\n",
    "# For example, running this (by clicking run or pressing Shift+Enter) will list all files under the input directory\n",
    "\n",
    "import os\n",
    "for dirname, _, filenames in os.walk('/kaggle/input'):\n",
    "    for filename in filenames:\n",
    "        print(os.path.join(dirname, filename))\n",
    "\n",
    "# You can write up to 20GB to the current directory (/kaggle/working/) that gets preserved as output when you create a version using \"Save & Run All\" \n",
    "# You can also write temporary files to /kaggle/temp/, but they won't be saved outside of the current session"
   ]
  },
  {
   "cell_type": "markdown",
   "id": "cd743808",
   "metadata": {
    "papermill": {
     "duration": 0.011015,
     "end_time": "2025-06-10T19:43:28.010284",
     "exception": false,
     "start_time": "2025-06-10T19:43:27.999269",
     "status": "completed"
    },
    "tags": []
   },
   "source": [
    "кросс валидацию\n",
    "грид серч / что-то для тьюнинга гиперпараметров\n",
    "берт"
   ]
  },
  {
   "cell_type": "markdown",
   "id": "55cadeed",
   "metadata": {
    "papermill": {
     "duration": 0.010887,
     "end_time": "2025-06-10T19:43:28.032792",
     "exception": false,
     "start_time": "2025-06-10T19:43:28.021905",
     "status": "completed"
    },
    "tags": []
   },
   "source": [
    "# Loading data"
   ]
  },
  {
   "cell_type": "code",
   "execution_count": 2,
   "id": "e5108fbf",
   "metadata": {
    "execution": {
     "iopub.execute_input": "2025-06-10T19:43:28.057182Z",
     "iopub.status.busy": "2025-06-10T19:43:28.056405Z",
     "iopub.status.idle": "2025-06-10T19:43:28.060659Z",
     "shell.execute_reply": "2025-06-10T19:43:28.059920Z"
    },
    "papermill": {
     "duration": 0.018074,
     "end_time": "2025-06-10T19:43:28.061999",
     "exception": false,
     "start_time": "2025-06-10T19:43:28.043925",
     "status": "completed"
    },
    "tags": []
   },
   "outputs": [],
   "source": [
    "import pandas as pd\n",
    "import numpy as np\n",
    "import matplotlib.pyplot as plt "
   ]
  },
  {
   "cell_type": "code",
   "execution_count": 3,
   "id": "b970a78b",
   "metadata": {
    "execution": {
     "iopub.execute_input": "2025-06-10T19:43:28.087133Z",
     "iopub.status.busy": "2025-06-10T19:43:28.086835Z",
     "iopub.status.idle": "2025-06-10T19:43:28.547798Z",
     "shell.execute_reply": "2025-06-10T19:43:28.546744Z"
    },
    "papermill": {
     "duration": 0.475029,
     "end_time": "2025-06-10T19:43:28.549260",
     "exception": false,
     "start_time": "2025-06-10T19:43:28.074231",
     "status": "completed"
    },
    "tags": []
   },
   "outputs": [
    {
     "name": "stdout",
     "output_type": "stream",
     "text": [
      "Path to dataset files: /kaggle/input/it-service-ticket-classification-dataset\n"
     ]
    }
   ],
   "source": [
    "import kagglehub\n",
    "\n",
    "# Download latest version\n",
    "path = kagglehub.dataset_download(\"adisongoh/it-service-ticket-classification-dataset\")\n",
    "\n",
    "print(\"Path to dataset files:\", path)"
   ]
  },
  {
   "cell_type": "code",
   "execution_count": 4,
   "id": "6687df05",
   "metadata": {
    "execution": {
     "iopub.execute_input": "2025-06-10T19:43:28.573888Z",
     "iopub.status.busy": "2025-06-10T19:43:28.573212Z",
     "iopub.status.idle": "2025-06-10T19:43:29.030391Z",
     "shell.execute_reply": "2025-06-10T19:43:29.029514Z"
    },
    "papermill": {
     "duration": 0.471085,
     "end_time": "2025-06-10T19:43:29.031978",
     "exception": false,
     "start_time": "2025-06-10T19:43:28.560893",
     "status": "completed"
    },
    "tags": []
   },
   "outputs": [],
   "source": [
    "#reading df\n",
    "df = pd.read_csv('/kaggle/input/it-service-ticket-classification-dataset/all_tickets_processed_improved_v3.csv')"
   ]
  },
  {
   "cell_type": "code",
   "execution_count": 5,
   "id": "37ca1841",
   "metadata": {
    "execution": {
     "iopub.execute_input": "2025-06-10T19:43:29.057034Z",
     "iopub.status.busy": "2025-06-10T19:43:29.056767Z",
     "iopub.status.idle": "2025-06-10T19:43:29.102989Z",
     "shell.execute_reply": "2025-06-10T19:43:29.101890Z"
    },
    "papermill": {
     "duration": 0.060604,
     "end_time": "2025-06-10T19:43:29.104495",
     "exception": false,
     "start_time": "2025-06-10T19:43:29.043891",
     "status": "completed"
    },
    "tags": []
   },
   "outputs": [
    {
     "name": "stdout",
     "output_type": "stream",
     "text": [
      "<class 'pandas.core.frame.DataFrame'>\n",
      "RangeIndex: 47837 entries, 0 to 47836\n",
      "Data columns (total 2 columns):\n",
      " #   Column       Non-Null Count  Dtype \n",
      "---  ------       --------------  ----- \n",
      " 0   Document     47837 non-null  object\n",
      " 1   Topic_group  47837 non-null  object\n",
      "dtypes: object(2)\n",
      "memory usage: 747.6+ KB\n"
     ]
    }
   ],
   "source": [
    "df.info()"
   ]
  },
  {
   "cell_type": "code",
   "execution_count": 6,
   "id": "dbe1e57c",
   "metadata": {
    "execution": {
     "iopub.execute_input": "2025-06-10T19:43:29.130488Z",
     "iopub.status.busy": "2025-06-10T19:43:29.130168Z",
     "iopub.status.idle": "2025-06-10T19:43:29.150065Z",
     "shell.execute_reply": "2025-06-10T19:43:29.149304Z"
    },
    "papermill": {
     "duration": 0.035087,
     "end_time": "2025-06-10T19:43:29.151581",
     "exception": false,
     "start_time": "2025-06-10T19:43:29.116494",
     "status": "completed"
    },
    "tags": []
   },
   "outputs": [
    {
     "data": {
      "text/html": [
       "<div>\n",
       "<style scoped>\n",
       "    .dataframe tbody tr th:only-of-type {\n",
       "        vertical-align: middle;\n",
       "    }\n",
       "\n",
       "    .dataframe tbody tr th {\n",
       "        vertical-align: top;\n",
       "    }\n",
       "\n",
       "    .dataframe thead th {\n",
       "        text-align: right;\n",
       "    }\n",
       "</style>\n",
       "<table border=\"1\" class=\"dataframe\">\n",
       "  <thead>\n",
       "    <tr style=\"text-align: right;\">\n",
       "      <th></th>\n",
       "      <th>Document</th>\n",
       "      <th>Topic_group</th>\n",
       "    </tr>\n",
       "  </thead>\n",
       "  <tbody>\n",
       "    <tr>\n",
       "      <th>0</th>\n",
       "      <td>connection with icon icon dear please setup ic...</td>\n",
       "      <td>Hardware</td>\n",
       "    </tr>\n",
       "    <tr>\n",
       "      <th>1</th>\n",
       "      <td>work experience user work experience user hi w...</td>\n",
       "      <td>Access</td>\n",
       "    </tr>\n",
       "    <tr>\n",
       "      <th>2</th>\n",
       "      <td>requesting for meeting requesting meeting hi p...</td>\n",
       "      <td>Hardware</td>\n",
       "    </tr>\n",
       "    <tr>\n",
       "      <th>3</th>\n",
       "      <td>reset passwords for external accounts re expir...</td>\n",
       "      <td>Access</td>\n",
       "    </tr>\n",
       "    <tr>\n",
       "      <th>4</th>\n",
       "      <td>mail verification warning hi has got attached ...</td>\n",
       "      <td>Miscellaneous</td>\n",
       "    </tr>\n",
       "  </tbody>\n",
       "</table>\n",
       "</div>"
      ],
      "text/plain": [
       "                                            Document    Topic_group\n",
       "0  connection with icon icon dear please setup ic...       Hardware\n",
       "1  work experience user work experience user hi w...         Access\n",
       "2  requesting for meeting requesting meeting hi p...       Hardware\n",
       "3  reset passwords for external accounts re expir...         Access\n",
       "4  mail verification warning hi has got attached ...  Miscellaneous"
      ]
     },
     "execution_count": 6,
     "metadata": {},
     "output_type": "execute_result"
    }
   ],
   "source": [
    "#quick preview of the df\n",
    "df.head()"
   ]
  },
  {
   "cell_type": "code",
   "execution_count": 7,
   "id": "cd99afe9",
   "metadata": {
    "execution": {
     "iopub.execute_input": "2025-06-10T19:43:29.241806Z",
     "iopub.status.busy": "2025-06-10T19:43:29.241259Z",
     "iopub.status.idle": "2025-06-10T19:43:29.253758Z",
     "shell.execute_reply": "2025-06-10T19:43:29.252837Z"
    },
    "papermill": {
     "duration": 0.02713,
     "end_time": "2025-06-10T19:43:29.255339",
     "exception": false,
     "start_time": "2025-06-10T19:43:29.228209",
     "status": "completed"
    },
    "tags": []
   },
   "outputs": [
    {
     "data": {
      "text/plain": [
       "array(['Hardware', 'Access', 'Miscellaneous', 'HR Support', 'Purchase',\n",
       "       'Administrative rights', 'Storage', 'Internal Project'],\n",
       "      dtype=object)"
      ]
     },
     "execution_count": 7,
     "metadata": {},
     "output_type": "execute_result"
    }
   ],
   "source": [
    "#viewing unique values (categories) in Topic_group\n",
    "df['Topic_group'].nunique()\n",
    "df['Topic_group'].unique()"
   ]
  },
  {
   "cell_type": "code",
   "execution_count": 8,
   "id": "26553361",
   "metadata": {
    "execution": {
     "iopub.execute_input": "2025-06-10T19:43:29.281195Z",
     "iopub.status.busy": "2025-06-10T19:43:29.280628Z",
     "iopub.status.idle": "2025-06-10T19:43:29.295891Z",
     "shell.execute_reply": "2025-06-10T19:43:29.295172Z"
    },
    "papermill": {
     "duration": 0.029578,
     "end_time": "2025-06-10T19:43:29.297248",
     "exception": false,
     "start_time": "2025-06-10T19:43:29.267670",
     "status": "completed"
    },
    "tags": []
   },
   "outputs": [
    {
     "data": {
      "text/plain": [
       "Document       0\n",
       "Topic_group    0\n",
       "dtype: int64"
      ]
     },
     "execution_count": 8,
     "metadata": {},
     "output_type": "execute_result"
    }
   ],
   "source": [
    "#checking na\n",
    "df.isnull().sum()"
   ]
  },
  {
   "cell_type": "code",
   "execution_count": 9,
   "id": "18947daf",
   "metadata": {
    "execution": {
     "iopub.execute_input": "2025-06-10T19:43:29.323107Z",
     "iopub.status.busy": "2025-06-10T19:43:29.322824Z",
     "iopub.status.idle": "2025-06-10T19:43:29.377550Z",
     "shell.execute_reply": "2025-06-10T19:43:29.376698Z"
    },
    "papermill": {
     "duration": 0.069353,
     "end_time": "2025-06-10T19:43:29.379102",
     "exception": false,
     "start_time": "2025-06-10T19:43:29.309749",
     "status": "completed"
    },
    "tags": []
   },
   "outputs": [
    {
     "data": {
      "text/plain": [
       "0"
      ]
     },
     "execution_count": 9,
     "metadata": {},
     "output_type": "execute_result"
    }
   ],
   "source": [
    "#checking duplicates\n",
    "df.duplicated().sum()"
   ]
  },
  {
   "cell_type": "markdown",
   "id": "95e72ce4",
   "metadata": {
    "papermill": {
     "duration": 0.011969,
     "end_time": "2025-06-10T19:43:29.404407",
     "exception": false,
     "start_time": "2025-06-10T19:43:29.392438",
     "status": "completed"
    },
    "tags": []
   },
   "source": [
    "# Text Preprocessing"
   ]
  },
  {
   "cell_type": "code",
   "execution_count": 10,
   "id": "9f7abe8e",
   "metadata": {
    "execution": {
     "iopub.execute_input": "2025-06-10T19:43:29.430465Z",
     "iopub.status.busy": "2025-06-10T19:43:29.429645Z",
     "iopub.status.idle": "2025-06-10T19:43:29.742691Z",
     "shell.execute_reply": "2025-06-10T19:43:29.741851Z"
    },
    "papermill": {
     "duration": 0.327901,
     "end_time": "2025-06-10T19:43:29.744295",
     "exception": false,
     "start_time": "2025-06-10T19:43:29.416394",
     "status": "completed"
    },
    "tags": []
   },
   "outputs": [],
   "source": [
    "import re\n",
    "import string\n",
    "from bs4 import BeautifulSoup"
   ]
  },
  {
   "cell_type": "code",
   "execution_count": 11,
   "id": "59da9959",
   "metadata": {
    "execution": {
     "iopub.execute_input": "2025-06-10T19:43:29.770939Z",
     "iopub.status.busy": "2025-06-10T19:43:29.770177Z",
     "iopub.status.idle": "2025-06-10T19:43:29.774973Z",
     "shell.execute_reply": "2025-06-10T19:43:29.774295Z"
    },
    "papermill": {
     "duration": 0.019468,
     "end_time": "2025-06-10T19:43:29.776327",
     "exception": false,
     "start_time": "2025-06-10T19:43:29.756859",
     "status": "completed"
    },
    "tags": []
   },
   "outputs": [],
   "source": [
    "def cleaned_text (text):\n",
    "    text = text.lower() #converting to lower case\n",
    "    text = re.sub(r'\\d+', '', text) #removing numbers\n",
    "    text = text.translate(str.maketrans('', '', string.punctuation)) \n",
    "    #removing punctuation\n",
    "    text = re.sub(r'\\W', ' ', text) #removing special characters\n",
    "    text = BeautifulSoup(text, \"html.parser\").get_text() #removing HTML tags\n",
    "    return text"
   ]
  },
  {
   "cell_type": "code",
   "execution_count": 12,
   "id": "136ce26f",
   "metadata": {
    "execution": {
     "iopub.execute_input": "2025-06-10T19:43:29.802300Z",
     "iopub.status.busy": "2025-06-10T19:43:29.802005Z",
     "iopub.status.idle": "2025-06-10T19:43:32.921416Z",
     "shell.execute_reply": "2025-06-10T19:43:32.920564Z"
    },
    "papermill": {
     "duration": 3.134171,
     "end_time": "2025-06-10T19:43:32.923026",
     "exception": false,
     "start_time": "2025-06-10T19:43:29.788855",
     "status": "completed"
    },
    "tags": []
   },
   "outputs": [],
   "source": [
    "df['Cleaned_Document'] = df['Document'].apply(cleaned_text)"
   ]
  },
  {
   "cell_type": "code",
   "execution_count": 13,
   "id": "9aa04c9c",
   "metadata": {
    "execution": {
     "iopub.execute_input": "2025-06-10T19:43:32.948763Z",
     "iopub.status.busy": "2025-06-10T19:43:32.948251Z",
     "iopub.status.idle": "2025-06-10T19:43:35.120784Z",
     "shell.execute_reply": "2025-06-10T19:43:35.119983Z"
    },
    "papermill": {
     "duration": 2.187241,
     "end_time": "2025-06-10T19:43:35.122346",
     "exception": false,
     "start_time": "2025-06-10T19:43:32.935105",
     "status": "completed"
    },
    "tags": []
   },
   "outputs": [],
   "source": [
    "import nltk\n",
    "\n",
    "#specifying the path to the already downloaded punkt dataset and other packages\n",
    "nltk.data.path.append('/kaggle/input/nltk-datasets/nltk_data')"
   ]
  },
  {
   "cell_type": "code",
   "execution_count": 14,
   "id": "dcee1085",
   "metadata": {
    "execution": {
     "iopub.execute_input": "2025-06-10T19:43:35.149249Z",
     "iopub.status.busy": "2025-06-10T19:43:35.148457Z",
     "iopub.status.idle": "2025-06-10T19:43:35.152849Z",
     "shell.execute_reply": "2025-06-10T19:43:35.151955Z"
    },
    "papermill": {
     "duration": 0.019019,
     "end_time": "2025-06-10T19:43:35.154308",
     "exception": false,
     "start_time": "2025-06-10T19:43:35.135289",
     "status": "completed"
    },
    "tags": []
   },
   "outputs": [],
   "source": [
    "from nltk.tokenize import word_tokenize"
   ]
  },
  {
   "cell_type": "code",
   "execution_count": 15,
   "id": "c992d552",
   "metadata": {
    "execution": {
     "iopub.execute_input": "2025-06-10T19:43:35.180516Z",
     "iopub.status.busy": "2025-06-10T19:43:35.180229Z",
     "iopub.status.idle": "2025-06-10T19:43:43.730276Z",
     "shell.execute_reply": "2025-06-10T19:43:43.729445Z"
    },
    "papermill": {
     "duration": 8.56477,
     "end_time": "2025-06-10T19:43:43.731880",
     "exception": false,
     "start_time": "2025-06-10T19:43:35.167110",
     "status": "completed"
    },
    "tags": []
   },
   "outputs": [],
   "source": [
    "#splitting text into words\n",
    "df['Cleaned_Document'] = df['Cleaned_Document'].apply(word_tokenize)"
   ]
  },
  {
   "cell_type": "code",
   "execution_count": 16,
   "id": "635e6f06",
   "metadata": {
    "execution": {
     "iopub.execute_input": "2025-06-10T19:43:43.757881Z",
     "iopub.status.busy": "2025-06-10T19:43:43.757330Z",
     "iopub.status.idle": "2025-06-10T19:43:43.766787Z",
     "shell.execute_reply": "2025-06-10T19:43:43.766005Z"
    },
    "papermill": {
     "duration": 0.024107,
     "end_time": "2025-06-10T19:43:43.768141",
     "exception": false,
     "start_time": "2025-06-10T19:43:43.744034",
     "status": "completed"
    },
    "tags": []
   },
   "outputs": [
    {
     "data": {
      "text/plain": [
       "0        [connection, with, icon, icon, dear, please, s...\n",
       "1        [work, experience, user, work, experience, use...\n",
       "2        [requesting, for, meeting, requesting, meeting...\n",
       "3        [reset, passwords, for, external, accounts, re...\n",
       "4        [mail, verification, warning, hi, has, got, at...\n",
       "                               ...                        \n",
       "47832    [git, space, for, a, project, issues, with, ad...\n",
       "47833    [error, sent, july, error, hi, guys, can, you,...\n",
       "47834    [connection, issues, sent, tuesday, july, conn...\n",
       "47835    [error, cube, reports, sent, tuesday, july, er...\n",
       "47836    [running, out, on, extensions, hello, please, ...\n",
       "Name: Cleaned_Document, Length: 47837, dtype: object"
      ]
     },
     "execution_count": 16,
     "metadata": {},
     "output_type": "execute_result"
    }
   ],
   "source": [
    "df['Cleaned_Document']"
   ]
  },
  {
   "cell_type": "code",
   "execution_count": 17,
   "id": "3c3361aa",
   "metadata": {
    "execution": {
     "iopub.execute_input": "2025-06-10T19:43:43.795164Z",
     "iopub.status.busy": "2025-06-10T19:43:43.794836Z",
     "iopub.status.idle": "2025-06-10T19:43:43.804187Z",
     "shell.execute_reply": "2025-06-10T19:43:43.802929Z"
    },
    "papermill": {
     "duration": 0.024514,
     "end_time": "2025-06-10T19:43:43.805783",
     "exception": false,
     "start_time": "2025-06-10T19:43:43.781269",
     "status": "completed"
    },
    "tags": []
   },
   "outputs": [
    {
     "name": "stdout",
     "output_type": "stream",
     "text": [
      "198\n"
     ]
    }
   ],
   "source": [
    "#removing stop-words\n",
    "from nltk.corpus import stopwords\n",
    "stop_words = set(stopwords.words('english'))\n",
    "print(len(stop_words)) #checking that stop-words are downloaded"
   ]
  },
  {
   "cell_type": "code",
   "execution_count": 18,
   "id": "f636778c",
   "metadata": {
    "execution": {
     "iopub.execute_input": "2025-06-10T19:43:43.833792Z",
     "iopub.status.busy": "2025-06-10T19:43:43.833145Z",
     "iopub.status.idle": "2025-06-10T19:43:44.280721Z",
     "shell.execute_reply": "2025-06-10T19:43:44.279757Z"
    },
    "papermill": {
     "duration": 0.463424,
     "end_time": "2025-06-10T19:43:44.282489",
     "exception": false,
     "start_time": "2025-06-10T19:43:43.819065",
     "status": "completed"
    },
    "tags": []
   },
   "outputs": [],
   "source": [
    "df['Cleaned_Document'] = df['Cleaned_Document'].apply(\n",
    "    lambda toks: [w for w in toks if w not in stop_words]\n",
    ")"
   ]
  },
  {
   "cell_type": "code",
   "execution_count": 19,
   "id": "d50c5321",
   "metadata": {
    "execution": {
     "iopub.execute_input": "2025-06-10T19:43:44.309079Z",
     "iopub.status.busy": "2025-06-10T19:43:44.308464Z",
     "iopub.status.idle": "2025-06-10T19:43:44.318042Z",
     "shell.execute_reply": "2025-06-10T19:43:44.317027Z"
    },
    "papermill": {
     "duration": 0.02436,
     "end_time": "2025-06-10T19:43:44.319546",
     "exception": false,
     "start_time": "2025-06-10T19:43:44.295186",
     "status": "completed"
    },
    "tags": []
   },
   "outputs": [
    {
     "data": {
      "text/plain": [
       "0        [connection, icon, icon, dear, please, setup, ...\n",
       "1        [work, experience, user, work, experience, use...\n",
       "2        [requesting, meeting, requesting, meeting, hi,...\n",
       "3        [reset, passwords, external, accounts, expire,...\n",
       "4        [mail, verification, warning, hi, got, attache...\n",
       "                               ...                        \n",
       "47832    [git, space, project, issues, adding, users, s...\n",
       "47833    [error, sent, july, error, hi, guys, help, err...\n",
       "47834    [connection, issues, sent, tuesday, july, conn...\n",
       "47835    [error, cube, reports, sent, tuesday, july, er...\n",
       "47836    [running, extensions, hello, please, advised, ...\n",
       "Name: Cleaned_Document, Length: 47837, dtype: object"
      ]
     },
     "execution_count": 19,
     "metadata": {},
     "output_type": "execute_result"
    }
   ],
   "source": [
    "df['Cleaned_Document']"
   ]
  },
  {
   "cell_type": "code",
   "execution_count": 20,
   "id": "23571495",
   "metadata": {
    "execution": {
     "iopub.execute_input": "2025-06-10T19:43:44.346085Z",
     "iopub.status.busy": "2025-06-10T19:43:44.345725Z",
     "iopub.status.idle": "2025-06-10T19:43:54.659434Z",
     "shell.execute_reply": "2025-06-10T19:43:54.658655Z"
    },
    "papermill": {
     "duration": 10.328865,
     "end_time": "2025-06-10T19:43:54.661184",
     "exception": false,
     "start_time": "2025-06-10T19:43:44.332319",
     "status": "completed"
    },
    "tags": []
   },
   "outputs": [],
   "source": [
    "#lemmatization\n",
    "from nltk.stem import PorterStemmer, WordNetLemmatizer\n",
    "lemmatizer = WordNetLemmatizer()\n",
    "df['Cleaned_Document'] = df['Cleaned_Document'].apply(lambda doc: [lemmatizer.lemmatize(word) for word in doc])"
   ]
  },
  {
   "cell_type": "code",
   "execution_count": 21,
   "id": "e1e7f971",
   "metadata": {
    "execution": {
     "iopub.execute_input": "2025-06-10T19:43:54.688328Z",
     "iopub.status.busy": "2025-06-10T19:43:54.688044Z",
     "iopub.status.idle": "2025-06-10T19:43:54.698279Z",
     "shell.execute_reply": "2025-06-10T19:43:54.697378Z"
    },
    "papermill": {
     "duration": 0.025636,
     "end_time": "2025-06-10T19:43:54.699696",
     "exception": false,
     "start_time": "2025-06-10T19:43:54.674060",
     "status": "completed"
    },
    "tags": []
   },
   "outputs": [
    {
     "data": {
      "text/plain": [
       "0     [connection, icon, icon, dear, please, setup, ...\n",
       "1     [work, experience, user, work, experience, use...\n",
       "2     [requesting, meeting, requesting, meeting, hi,...\n",
       "3     [reset, password, external, account, expire, d...\n",
       "4     [mail, verification, warning, hi, got, attache...\n",
       "5     [mail, please, dear, look, blacklisted, receiv...\n",
       "6     [prod, server, tunneling, prod, tunneling, va,...\n",
       "7     [access, request, dear, module, report, report...\n",
       "8     [reset, password, client, password, client, de...\n",
       "9     [direct, report, missing, time, please, action...\n",
       "10    [laptop, connected, request, rebuild, connecte...\n",
       "11    [device, recovery, report, printer, alert, dup...\n",
       "12            [new, starter, hello, please, fill, date]\n",
       "13    [visual, studio, license, visual, studio, lice...\n",
       "14    [system, hello, movement, left, available, dev...\n",
       "15    [access, secondary, secondary, hi, please, pro...\n",
       "16    [list, sent, copy, copy, hi, receive, copy, be...\n",
       "17    [new, purchase, po, purchase, po, dear, purcha...\n",
       "18    [invitation, cloud, strategy, workshop, februa...\n",
       "19    [change, sale, owner, contract, change, owner,...\n",
       "Name: Cleaned_Document, dtype: object"
      ]
     },
     "execution_count": 21,
     "metadata": {},
     "output_type": "execute_result"
    }
   ],
   "source": [
    "df['Cleaned_Document'].head(20)"
   ]
  },
  {
   "cell_type": "code",
   "execution_count": 22,
   "id": "42a422da",
   "metadata": {
    "execution": {
     "iopub.execute_input": "2025-06-10T19:43:54.727367Z",
     "iopub.status.busy": "2025-06-10T19:43:54.726796Z",
     "iopub.status.idle": "2025-06-10T19:43:54.737548Z",
     "shell.execute_reply": "2025-06-10T19:43:54.736649Z"
    },
    "papermill": {
     "duration": 0.02599,
     "end_time": "2025-06-10T19:43:54.738991",
     "exception": false,
     "start_time": "2025-06-10T19:43:54.713001",
     "status": "completed"
    },
    "tags": []
   },
   "outputs": [
    {
     "data": {
      "text/plain": [
       "47817    [submit, expense, even, though, added, electro...\n",
       "47818    [job, referral, available, sent, thursday, jul...\n",
       "47819    [oracle, update, another, bug, sent, thursday,...\n",
       "47820    [social, error, sent, thursday, july, error, d...\n",
       "47821    [backup, server, performance, issue, sent, thu...\n",
       "47822    [approving, expense, project, code, related, w...\n",
       "47823    [bug, sent, wednesday, july, bug, hello, disco...\n",
       "47824    [oracle, fusion, working, message, unplanned, ...\n",
       "47825    [issue, sent, friday, july, hi, issue, somethi...\n",
       "47826    [oracle, error, sent, thursday, july, error, h...\n",
       "47827    [bandwidth, problem, sent, thursday, july, ban...\n",
       "47828    [password, expire, day, sent, july, password, ...\n",
       "47829    [sensitive, information, access, sent, wednesd...\n",
       "47830    [malfunction, sent, tuesday, july, malfunction...\n",
       "47831    [outlook, account, laptop, laptop, sa, sa, si,...\n",
       "47832    [git, space, project, issue, adding, user, sen...\n",
       "47833    [error, sent, july, error, hi, guy, help, erro...\n",
       "47834    [connection, issue, sent, tuesday, july, conne...\n",
       "47835    [error, cube, report, sent, tuesday, july, err...\n",
       "47836    [running, extension, hello, please, advised, r...\n",
       "Name: Cleaned_Document, dtype: object"
      ]
     },
     "execution_count": 22,
     "metadata": {},
     "output_type": "execute_result"
    }
   ],
   "source": [
    "df['Cleaned_Document'].tail(20)"
   ]
  },
  {
   "cell_type": "markdown",
   "id": "387d9f8b",
   "metadata": {
    "papermill": {
     "duration": 0.012819,
     "end_time": "2025-06-10T19:43:54.765155",
     "exception": false,
     "start_time": "2025-06-10T19:43:54.752336",
     "status": "completed"
    },
    "tags": []
   },
   "source": [
    "As I can see, besides stop words, the corpus contains many words like 'please', 'hi', 'hello', etc. These words can affect the efficiency of the algorithm, so I would remove them manually."
   ]
  },
  {
   "cell_type": "code",
   "execution_count": 23,
   "id": "3a691109",
   "metadata": {
    "execution": {
     "iopub.execute_input": "2025-06-10T19:43:54.793201Z",
     "iopub.status.busy": "2025-06-10T19:43:54.792656Z",
     "iopub.status.idle": "2025-06-10T19:43:55.397703Z",
     "shell.execute_reply": "2025-06-10T19:43:55.396783Z"
    },
    "papermill": {
     "duration": 0.62089,
     "end_time": "2025-06-10T19:43:55.399419",
     "exception": false,
     "start_time": "2025-06-10T19:43:54.778529",
     "status": "completed"
    },
    "tags": []
   },
   "outputs": [],
   "source": [
    "custom_stopwords = ['hi', 'hello', 'dear', 'please', 'help', 'guy', 'guys',\n",
    "                   'thanks', 'thank', 'regards', 'best', 'hey', 'appreciate',\n",
    "                    'sorry', 'welcome', 'cheers', 'hello', 'goodbye', 'bye',\n",
    "                    'kindly', 'gladly']\n",
    "\n",
    "df['Cleaned_Document'] = df['Cleaned_Document'].apply(\n",
    "    lambda doc: [word for word in doc if word not in custom_stopwords]\n",
    ")"
   ]
  },
  {
   "cell_type": "code",
   "execution_count": 24,
   "id": "488a1190",
   "metadata": {
    "execution": {
     "iopub.execute_input": "2025-06-10T19:43:55.428993Z",
     "iopub.status.busy": "2025-06-10T19:43:55.428642Z",
     "iopub.status.idle": "2025-06-10T19:43:55.437964Z",
     "shell.execute_reply": "2025-06-10T19:43:55.437223Z"
    },
    "papermill": {
     "duration": 0.025618,
     "end_time": "2025-06-10T19:43:55.439375",
     "exception": false,
     "start_time": "2025-06-10T19:43:55.413757",
     "status": "completed"
    },
    "tags": []
   },
   "outputs": [
    {
     "data": {
      "text/plain": [
       "0        [connection, icon, icon, setup, icon, per, ico...\n",
       "1        [work, experience, user, work, experience, use...\n",
       "2        [requesting, meeting, requesting, meeting, fol...\n",
       "3        [reset, password, external, account, expire, d...\n",
       "4        [mail, verification, warning, got, attached, a...\n",
       "                               ...                        \n",
       "47832    [git, space, project, issue, adding, user, sen...\n",
       "47833    [error, sent, july, error, error, appearing, w...\n",
       "47834    [connection, issue, sent, tuesday, july, conne...\n",
       "47835    [error, cube, report, sent, tuesday, july, err...\n",
       "47836    [running, extension, advised, running, extensi...\n",
       "Name: Cleaned_Document, Length: 47837, dtype: object"
      ]
     },
     "execution_count": 24,
     "metadata": {},
     "output_type": "execute_result"
    }
   ],
   "source": [
    "df['Cleaned_Document']"
   ]
  },
  {
   "cell_type": "code",
   "execution_count": 25,
   "id": "4cd2540f",
   "metadata": {
    "execution": {
     "iopub.execute_input": "2025-06-10T19:43:55.468508Z",
     "iopub.status.busy": "2025-06-10T19:43:55.468224Z",
     "iopub.status.idle": "2025-06-10T19:43:55.697532Z",
     "shell.execute_reply": "2025-06-10T19:43:55.696680Z"
    },
    "papermill": {
     "duration": 0.245957,
     "end_time": "2025-06-10T19:43:55.699304",
     "exception": false,
     "start_time": "2025-06-10T19:43:55.453347",
     "status": "completed"
    },
    "tags": []
   },
   "outputs": [],
   "source": [
    "#%pip install contractions\n",
    "#import contractions\n",
    "\n",
    "contraction_map = {\n",
    "    \"aren't\": \"are not\",\n",
    "    \"can't\": \"cannot\",\n",
    "    \"couldn't\": \"could not\",\n",
    "    \"didn't\": \"did not\",\n",
    "    \"doesn't\": \"does not\",\n",
    "    \"don't\": \"do not\",\n",
    "    \"hadn't\": \"had not\",\n",
    "    \"hasn't\": \"has not\",\n",
    "    \"haven't\": \"have not\",\n",
    "    \"he'd\": \"he would\",\n",
    "    \"he'll\": \"he will\",\n",
    "    \"he's\": \"he is\",\n",
    "    \"i'd\": \"i would\",\n",
    "    \"i'll\": \"i will\",\n",
    "    \"i'm\": \"i am\",\n",
    "    \"i've\": \"i have\",\n",
    "    \"isn't\": \"is not\",\n",
    "    \"it's\": \"it is\",\n",
    "    \"let's\": \"let us\",\n",
    "    \"mightn't\": \"might not\",\n",
    "    \"mustn't\": \"must not\",\n",
    "    \"shan't\": \"shall not\",\n",
    "    \"she'd\": \"she would\",\n",
    "    \"she'll\": \"she will\",\n",
    "    \"she's\": \"she is\",\n",
    "    \"shouldn't\": \"should not\",\n",
    "    \"that's\": \"that is\",\n",
    "    \"there's\": \"there is\",\n",
    "    \"they'd\": \"they would\",\n",
    "    \"they'll\": \"they will\",\n",
    "    \"they're\": \"they are\",\n",
    "    \"they've\": \"they have\",\n",
    "    \"we'd\": \"we would\",\n",
    "    \"we're\": \"we are\",\n",
    "    \"we've\": \"we have\",\n",
    "    \"weren't\": \"were not\",\n",
    "    \"what'll\": \"what will\",\n",
    "    \"what're\": \"what are\",\n",
    "    \"what's\": \"what is\",\n",
    "    \"what've\": \"what have\",\n",
    "    \"where's\": \"where is\",\n",
    "    \"who's\": \"who is\",\n",
    "    \"who'll\": \"who will\",\n",
    "    \"won't\": \"will not\",\n",
    "    \"wouldn't\": \"would not\",\n",
    "    \"you'd\": \"you would\",\n",
    "    \"you'll\": \"you will\",\n",
    "    \"you're\": \"you are\",\n",
    "    \"you've\": \"you have\"\n",
    "}\n",
    "\n",
    "def expand_contractions_tokenized(doc):\n",
    "    return [contraction_map.get(word, word) for word in doc]\n",
    "\n",
    "df['Cleaned_Document'] = df['Cleaned_Document'].apply(expand_contractions_tokenized)"
   ]
  },
  {
   "cell_type": "code",
   "execution_count": 26,
   "id": "6a9ba5b3",
   "metadata": {
    "execution": {
     "iopub.execute_input": "2025-06-10T19:43:55.728012Z",
     "iopub.status.busy": "2025-06-10T19:43:55.727417Z",
     "iopub.status.idle": "2025-06-10T19:43:55.736691Z",
     "shell.execute_reply": "2025-06-10T19:43:55.735719Z"
    },
    "papermill": {
     "duration": 0.025352,
     "end_time": "2025-06-10T19:43:55.738382",
     "exception": false,
     "start_time": "2025-06-10T19:43:55.713030",
     "status": "completed"
    },
    "tags": []
   },
   "outputs": [
    {
     "data": {
      "text/plain": [
       "0        [connection, icon, icon, setup, icon, per, ico...\n",
       "1        [work, experience, user, work, experience, use...\n",
       "2        [requesting, meeting, requesting, meeting, fol...\n",
       "3        [reset, password, external, account, expire, d...\n",
       "4        [mail, verification, warning, got, attached, a...\n",
       "                               ...                        \n",
       "47832    [git, space, project, issue, adding, user, sen...\n",
       "47833    [error, sent, july, error, error, appearing, w...\n",
       "47834    [connection, issue, sent, tuesday, july, conne...\n",
       "47835    [error, cube, report, sent, tuesday, july, err...\n",
       "47836    [running, extension, advised, running, extensi...\n",
       "Name: Cleaned_Document, Length: 47837, dtype: object"
      ]
     },
     "execution_count": 26,
     "metadata": {},
     "output_type": "execute_result"
    }
   ],
   "source": [
    "df['Cleaned_Document'] "
   ]
  },
  {
   "cell_type": "code",
   "execution_count": 27,
   "id": "cbcdd2e2",
   "metadata": {
    "execution": {
     "iopub.execute_input": "2025-06-10T19:43:55.767005Z",
     "iopub.status.busy": "2025-06-10T19:43:55.766194Z",
     "iopub.status.idle": "2025-06-10T19:43:57.431759Z",
     "shell.execute_reply": "2025-06-10T19:43:57.431025Z"
    },
    "papermill": {
     "duration": 1.681384,
     "end_time": "2025-06-10T19:43:57.433365",
     "exception": false,
     "start_time": "2025-06-10T19:43:55.751981",
     "status": "completed"
    },
    "tags": []
   },
   "outputs": [],
   "source": [
    "#saving dataset\n",
    "df['Cleaned_Document_Str'] = df['Cleaned_Document'].apply(lambda tokens: ' '.join(tokens))\n",
    "df.to_csv('cleaned_dataset.csv', index=False)"
   ]
  },
  {
   "cell_type": "markdown",
   "id": "350e807a",
   "metadata": {
    "papermill": {
     "duration": 0.013087,
     "end_time": "2025-06-10T19:43:57.460460",
     "exception": false,
     "start_time": "2025-06-10T19:43:57.447373",
     "status": "completed"
    },
    "tags": []
   },
   "source": [
    "# EDA"
   ]
  },
  {
   "cell_type": "code",
   "execution_count": 28,
   "id": "48020338",
   "metadata": {
    "execution": {
     "iopub.execute_input": "2025-06-10T19:43:57.488163Z",
     "iopub.status.busy": "2025-06-10T19:43:57.487870Z",
     "iopub.status.idle": "2025-06-10T19:43:57.516713Z",
     "shell.execute_reply": "2025-06-10T19:43:57.515651Z"
    },
    "papermill": {
     "duration": 0.044716,
     "end_time": "2025-06-10T19:43:57.518451",
     "exception": false,
     "start_time": "2025-06-10T19:43:57.473735",
     "status": "completed"
    },
    "tags": []
   },
   "outputs": [
    {
     "name": "stdout",
     "output_type": "stream",
     "text": [
      "count    47837.000000\n",
      "mean        33.148860\n",
      "std         44.508495\n",
      "min          0.000000\n",
      "25%         12.000000\n",
      "50%         20.000000\n",
      "75%         35.000000\n",
      "max        817.000000\n",
      "Name: doc_length, dtype: float64\n"
     ]
    }
   ],
   "source": [
    "#number of tokens per document.\n",
    "df['doc_length'] = df['Cleaned_Document'].apply(len)\n",
    "print(df['doc_length'].describe())"
   ]
  },
  {
   "cell_type": "markdown",
   "id": "39cc3039",
   "metadata": {
    "papermill": {
     "duration": 0.014304,
     "end_time": "2025-06-10T19:43:57.547789",
     "exception": false,
     "start_time": "2025-06-10T19:43:57.533485",
     "status": "completed"
    },
    "tags": []
   },
   "source": [
    "As we can see, there are some tickets with zero tokens, meaning they are essentially empty"
   ]
  },
  {
   "cell_type": "code",
   "execution_count": 29,
   "id": "cf7333c6",
   "metadata": {
    "execution": {
     "iopub.execute_input": "2025-06-10T19:43:57.579761Z",
     "iopub.status.busy": "2025-06-10T19:43:57.579082Z",
     "iopub.status.idle": "2025-06-10T19:43:57.592196Z",
     "shell.execute_reply": "2025-06-10T19:43:57.591407Z"
    },
    "papermill": {
     "duration": 0.030739,
     "end_time": "2025-06-10T19:43:57.593626",
     "exception": false,
     "start_time": "2025-06-10T19:43:57.562887",
     "status": "completed"
    },
    "tags": []
   },
   "outputs": [
    {
     "data": {
      "text/html": [
       "<div>\n",
       "<style scoped>\n",
       "    .dataframe tbody tr th:only-of-type {\n",
       "        vertical-align: middle;\n",
       "    }\n",
       "\n",
       "    .dataframe tbody tr th {\n",
       "        vertical-align: top;\n",
       "    }\n",
       "\n",
       "    .dataframe thead th {\n",
       "        text-align: right;\n",
       "    }\n",
       "</style>\n",
       "<table border=\"1\" class=\"dataframe\">\n",
       "  <thead>\n",
       "    <tr style=\"text-align: right;\">\n",
       "      <th></th>\n",
       "      <th>Document</th>\n",
       "      <th>Topic_group</th>\n",
       "      <th>Cleaned_Document</th>\n",
       "      <th>Cleaned_Document_Str</th>\n",
       "      <th>doc_length</th>\n",
       "    </tr>\n",
       "  </thead>\n",
       "  <tbody>\n",
       "    <tr>\n",
       "      <th>35590</th>\n",
       "      <td>for is down again for down again hi for down a...</td>\n",
       "      <td>Administrative rights</td>\n",
       "      <td>[]</td>\n",
       "      <td></td>\n",
       "      <td>0</td>\n",
       "    </tr>\n",
       "  </tbody>\n",
       "</table>\n",
       "</div>"
      ],
      "text/plain": [
       "                                                Document  \\\n",
       "35590  for is down again for down again hi for down a...   \n",
       "\n",
       "                 Topic_group Cleaned_Document Cleaned_Document_Str  doc_length  \n",
       "35590  Administrative rights               []                                0  "
      ]
     },
     "execution_count": 29,
     "metadata": {},
     "output_type": "execute_result"
    }
   ],
   "source": [
    "df[df['doc_length'] == 0]"
   ]
  },
  {
   "cell_type": "code",
   "execution_count": 30,
   "id": "93e15bf0",
   "metadata": {
    "execution": {
     "iopub.execute_input": "2025-06-10T19:43:57.622537Z",
     "iopub.status.busy": "2025-06-10T19:43:57.622221Z",
     "iopub.status.idle": "2025-06-10T19:43:57.634149Z",
     "shell.execute_reply": "2025-06-10T19:43:57.633359Z"
    },
    "papermill": {
     "duration": 0.028046,
     "end_time": "2025-06-10T19:43:57.635693",
     "exception": false,
     "start_time": "2025-06-10T19:43:57.607647",
     "status": "completed"
    },
    "tags": []
   },
   "outputs": [],
   "source": [
    "df = df[df['doc_length'] != 0]"
   ]
  },
  {
   "cell_type": "code",
   "execution_count": 31,
   "id": "fb8f9698",
   "metadata": {
    "execution": {
     "iopub.execute_input": "2025-06-10T19:43:57.665075Z",
     "iopub.status.busy": "2025-06-10T19:43:57.664035Z",
     "iopub.status.idle": "2025-06-10T19:43:58.919569Z",
     "shell.execute_reply": "2025-06-10T19:43:58.918665Z"
    },
    "papermill": {
     "duration": 1.27164,
     "end_time": "2025-06-10T19:43:58.921096",
     "exception": false,
     "start_time": "2025-06-10T19:43:57.649456",
     "status": "completed"
    },
    "tags": []
   },
   "outputs": [
    {
     "name": "stdout",
     "output_type": "stream",
     "text": [
      "[('pm', 28902), ('regard', 27286), ('sent', 14717), ('issue', 14176), ('access', 13309), ('kind', 13252), ('tuesday', 10899), ('wednesday', 10429), ('error', 10152), ('thursday', 9937)]\n"
     ]
    }
   ],
   "source": [
    "from nltk.probability import FreqDist\n",
    "# Убираем NaN и взрываем списки токенов в один Series\n",
    "doc = df['Cleaned_Document'].dropna().explode()\n",
    "\n",
    "# Фильтруем только строки\n",
    "doc = doc[doc.apply(lambda x: isinstance(x, str))]\n",
    "\n",
    "# Считаем частоты\n",
    "fdist = FreqDist(doc)\n",
    "\n",
    "# Топ-10\n",
    "top10 = fdist.most_common(10)\n",
    "print(top10)"
   ]
  },
  {
   "cell_type": "code",
   "execution_count": 32,
   "id": "2869a285",
   "metadata": {
    "execution": {
     "iopub.execute_input": "2025-06-10T19:43:58.948915Z",
     "iopub.status.busy": "2025-06-10T19:43:58.948245Z",
     "iopub.status.idle": "2025-06-10T19:43:59.130086Z",
     "shell.execute_reply": "2025-06-10T19:43:59.129221Z"
    },
    "papermill": {
     "duration": 0.197107,
     "end_time": "2025-06-10T19:43:59.131499",
     "exception": false,
     "start_time": "2025-06-10T19:43:58.934392",
     "status": "completed"
    },
    "tags": []
   },
   "outputs": [
    {
     "name": "stdout",
     "output_type": "stream",
     "text": [
      "Lexical Diversity: 0.00662\n"
     ]
    }
   ],
   "source": [
    "#lexical diversity\n",
    "total = len(doc)\n",
    "unique = len(set(doc))\n",
    "lex_div = unique / total\n",
    "print(f\"Lexical Diversity: {lex_div:.5f}\")"
   ]
  },
  {
   "cell_type": "code",
   "execution_count": 33,
   "id": "5f29cdec",
   "metadata": {
    "execution": {
     "iopub.execute_input": "2025-06-10T19:43:59.160575Z",
     "iopub.status.busy": "2025-06-10T19:43:59.159933Z",
     "iopub.status.idle": "2025-06-10T19:43:59.557691Z",
     "shell.execute_reply": "2025-06-10T19:43:59.556579Z"
    },
    "papermill": {
     "duration": 0.41388,
     "end_time": "2025-06-10T19:43:59.559324",
     "exception": false,
     "start_time": "2025-06-10T19:43:59.145444",
     "status": "completed"
    },
    "tags": []
   },
   "outputs": [
    {
     "name": "stdout",
     "output_type": "stream",
     "text": [
      "Avg. word length (mean): 6.14\n",
      "Avg. word length (median): 6.00\n"
     ]
    }
   ],
   "source": [
    "word_lengths = [len(w) for w in doc]\n",
    "print(f\"Avg. word length (mean): {np.mean(word_lengths):.2f}\")\n",
    "print(f\"Avg. word length (median): {np.median(word_lengths):.2f}\")"
   ]
  },
  {
   "cell_type": "code",
   "execution_count": 34,
   "id": "1805e1e7",
   "metadata": {
    "execution": {
     "iopub.execute_input": "2025-06-10T19:43:59.590564Z",
     "iopub.status.busy": "2025-06-10T19:43:59.590278Z",
     "iopub.status.idle": "2025-06-10T19:43:59.608906Z",
     "shell.execute_reply": "2025-06-10T19:43:59.607903Z"
    },
    "papermill": {
     "duration": 0.03588,
     "end_time": "2025-06-10T19:43:59.610378",
     "exception": false,
     "start_time": "2025-06-10T19:43:59.574498",
     "status": "completed"
    },
    "tags": []
   },
   "outputs": [
    {
     "name": "stdout",
     "output_type": "stream",
     "text": [
      "Avg. ticket length (mean): 33.15\n",
      "Avg. ticket length (median): 20.00\n"
     ]
    }
   ],
   "source": [
    "ticket_length = [len(w) for w in df['Cleaned_Document']]\n",
    "print(f\"Avg. ticket length (mean): {np.mean(ticket_length):.2f}\")\n",
    "print(f\"Avg. ticket length (median): {np.median(ticket_length):.2f}\")"
   ]
  },
  {
   "cell_type": "code",
   "execution_count": 35,
   "id": "49dd889f",
   "metadata": {
    "execution": {
     "iopub.execute_input": "2025-06-10T19:43:59.641541Z",
     "iopub.status.busy": "2025-06-10T19:43:59.640738Z",
     "iopub.status.idle": "2025-06-10T19:44:00.068555Z",
     "shell.execute_reply": "2025-06-10T19:44:00.067809Z"
    },
    "papermill": {
     "duration": 0.445176,
     "end_time": "2025-06-10T19:44:00.070556",
     "exception": false,
     "start_time": "2025-06-10T19:43:59.625380",
     "status": "completed"
    },
    "tags": []
   },
   "outputs": [
    {
     "data": {
      "text/plain": [
       "<Axes: xlabel='Samples', ylabel='Counts'>"
      ]
     },
     "execution_count": 35,
     "metadata": {},
     "output_type": "execute_result"
    },
    {
     "data": {
      "image/png": "[encoded data removed]",
      "text/plain": [
       "<Figure size 640x480 with 1 Axes>"
      ]
     },
     "metadata": {},
     "output_type": "display_data"
    }
   ],
   "source": [
    "fdist.plot(30, cumulative=False)  "
   ]
  },
  {
   "cell_type": "code",
   "execution_count": 36,
   "id": "9eadc2b3",
   "metadata": {
    "execution": {
     "iopub.execute_input": "2025-06-10T19:44:00.101981Z",
     "iopub.status.busy": "2025-06-10T19:44:00.101300Z",
     "iopub.status.idle": "2025-06-10T19:44:07.689845Z",
     "shell.execute_reply": "2025-06-10T19:44:07.689020Z"
    },
    "papermill": {
     "duration": 7.609102,
     "end_time": "2025-06-10T19:44:07.694591",
     "exception": false,
     "start_time": "2025-06-10T19:44:00.085489",
     "status": "completed"
    },
    "tags": []
   },
   "outputs": [
    {
     "data": {
      "image/png": "[encoded data removed]",
      "text/plain": [
       "<Figure size 640x480 with 1 Axes>"
      ]
     },
     "metadata": {},
     "output_type": "display_data"
    }
   ],
   "source": [
    "from wordcloud import WordCloud \n",
    "wc = WordCloud(width=800, height=400).generate(' '.join(doc))\n",
    "plt.imshow(wc, interpolation='bilinear')\n",
    "plt.axis('off')\n",
    "plt.show()"
   ]
  },
  {
   "cell_type": "markdown",
   "id": "13938a6e",
   "metadata": {
    "papermill": {
     "duration": 0.01746,
     "end_time": "2025-06-10T19:44:07.730175",
     "exception": false,
     "start_time": "2025-06-10T19:44:07.712715",
     "status": "completed"
    },
    "tags": []
   },
   "source": [
    "Since it's classification task, let's check ticket distribution"
   ]
  },
  {
   "cell_type": "code",
   "execution_count": 37,
   "id": "324a9f50",
   "metadata": {
    "execution": {
     "iopub.execute_input": "2025-06-10T19:44:07.766756Z",
     "iopub.status.busy": "2025-06-10T19:44:07.765878Z",
     "iopub.status.idle": "2025-06-10T19:44:07.779491Z",
     "shell.execute_reply": "2025-06-10T19:44:07.778649Z"
    },
    "papermill": {
     "duration": 0.033646,
     "end_time": "2025-06-10T19:44:07.780987",
     "exception": false,
     "start_time": "2025-06-10T19:44:07.747341",
     "status": "completed"
    },
    "tags": []
   },
   "outputs": [
    {
     "data": {
      "text/plain": [
       "count        47836\n",
       "unique           8\n",
       "top       Hardware\n",
       "freq         13617\n",
       "Name: Topic_group, dtype: object"
      ]
     },
     "execution_count": 37,
     "metadata": {},
     "output_type": "execute_result"
    }
   ],
   "source": [
    "df['Topic_group'].describe()"
   ]
  },
  {
   "cell_type": "code",
   "execution_count": 38,
   "id": "f6fd85df",
   "metadata": {
    "execution": {
     "iopub.execute_input": "2025-06-10T19:44:07.819879Z",
     "iopub.status.busy": "2025-06-10T19:44:07.818881Z",
     "iopub.status.idle": "2025-06-10T19:44:07.827754Z",
     "shell.execute_reply": "2025-06-10T19:44:07.826773Z"
    },
    "papermill": {
     "duration": 0.029727,
     "end_time": "2025-06-10T19:44:07.829255",
     "exception": false,
     "start_time": "2025-06-10T19:44:07.799528",
     "status": "completed"
    },
    "tags": []
   },
   "outputs": [
    {
     "name": "stdout",
     "output_type": "stream",
     "text": [
      "Topic_group\n",
      "Hardware                 13617\n",
      "HR Support               10915\n",
      "Access                    7125\n",
      "Miscellaneous             7060\n",
      "Storage                   2777\n",
      "Purchase                  2464\n",
      "Internal Project          2119\n",
      "Administrative rights     1759\n",
      "Name: count, dtype: int64\n"
     ]
    }
   ],
   "source": [
    "print(df['Topic_group'].value_counts())"
   ]
  },
  {
   "cell_type": "code",
   "execution_count": 39,
   "id": "789033b2",
   "metadata": {
    "execution": {
     "iopub.execute_input": "2025-06-10T19:44:07.871153Z",
     "iopub.status.busy": "2025-06-10T19:44:07.870301Z",
     "iopub.status.idle": "2025-06-10T19:44:08.041272Z",
     "shell.execute_reply": "2025-06-10T19:44:08.040423Z"
    },
    "papermill": {
     "duration": 0.193765,
     "end_time": "2025-06-10T19:44:08.042974",
     "exception": false,
     "start_time": "2025-06-10T19:44:07.849209",
     "status": "completed"
    },
    "tags": []
   },
   "outputs": [
    {
     "data": {
      "image/png": "[encoded data removed]",
      "text/plain": [
       "<Figure size 700x500 with 1 Axes>"
      ]
     },
     "metadata": {},
     "output_type": "display_data"
    }
   ],
   "source": [
    "group_counts = df['Topic_group'].value_counts()\n",
    "\n",
    "plt.figure(figsize=(7, 5))\n",
    "plt.pie(group_counts, labels=group_counts.index, autopct=\"%1.1f%%\" )\n",
    "plt.title('Distribution into groups')\n",
    "plt.show()"
   ]
  },
  {
   "cell_type": "code",
   "execution_count": 40,
   "id": "11f708b0",
   "metadata": {
    "execution": {
     "iopub.execute_input": "2025-06-10T19:44:08.082664Z",
     "iopub.status.busy": "2025-06-10T19:44:08.082325Z",
     "iopub.status.idle": "2025-06-10T19:44:08.108851Z",
     "shell.execute_reply": "2025-06-10T19:44:08.107670Z"
    },
    "papermill": {
     "duration": 0.047687,
     "end_time": "2025-06-10T19:44:08.110419",
     "exception": false,
     "start_time": "2025-06-10T19:44:08.062732",
     "status": "completed"
    },
    "tags": []
   },
   "outputs": [
    {
     "name": "stdout",
     "output_type": "stream",
     "text": [
      "<class 'pandas.core.frame.DataFrame'>\n",
      "Index: 47836 entries, 0 to 47836\n",
      "Data columns (total 5 columns):\n",
      " #   Column                Non-Null Count  Dtype \n",
      "---  ------                --------------  ----- \n",
      " 0   Document              47836 non-null  object\n",
      " 1   Topic_group           47836 non-null  object\n",
      " 2   Cleaned_Document      47836 non-null  object\n",
      " 3   Cleaned_Document_Str  47836 non-null  object\n",
      " 4   doc_length            47836 non-null  int64 \n",
      "dtypes: int64(1), object(4)\n",
      "memory usage: 2.2+ MB\n"
     ]
    }
   ],
   "source": [
    "df.info()"
   ]
  },
  {
   "cell_type": "markdown",
   "id": "19270a28",
   "metadata": {
    "papermill": {
     "duration": 0.017875,
     "end_time": "2025-06-10T19:44:08.146840",
     "exception": false,
     "start_time": "2025-06-10T19:44:08.128965",
     "status": "completed"
    },
    "tags": []
   },
   "source": [
    "# Classification"
   ]
  },
  {
   "cell_type": "markdown",
   "id": "eb1dd640",
   "metadata": {
    "papermill": {
     "duration": 0.01877,
     "end_time": "2025-06-10T19:44:08.183887",
     "exception": false,
     "start_time": "2025-06-10T19:44:08.165117",
     "status": "completed"
    },
    "tags": []
   },
   "source": [
    "**note: classes are imbalanced, check the perfomance later**"
   ]
  },
  {
   "cell_type": "code",
   "execution_count": 41,
   "id": "50b0cb0f",
   "metadata": {
    "execution": {
     "iopub.execute_input": "2025-06-10T19:44:08.223299Z",
     "iopub.status.busy": "2025-06-10T19:44:08.222983Z",
     "iopub.status.idle": "2025-06-10T19:44:08.235462Z",
     "shell.execute_reply": "2025-06-10T19:44:08.234517Z"
    },
    "papermill": {
     "duration": 0.034184,
     "end_time": "2025-06-10T19:44:08.237098",
     "exception": false,
     "start_time": "2025-06-10T19:44:08.202914",
     "status": "completed"
    },
    "tags": []
   },
   "outputs": [
    {
     "data": {
      "text/html": [
       "<div>\n",
       "<style scoped>\n",
       "    .dataframe tbody tr th:only-of-type {\n",
       "        vertical-align: middle;\n",
       "    }\n",
       "\n",
       "    .dataframe tbody tr th {\n",
       "        vertical-align: top;\n",
       "    }\n",
       "\n",
       "    .dataframe thead th {\n",
       "        text-align: right;\n",
       "    }\n",
       "</style>\n",
       "<table border=\"1\" class=\"dataframe\">\n",
       "  <thead>\n",
       "    <tr style=\"text-align: right;\">\n",
       "      <th></th>\n",
       "      <th>Document</th>\n",
       "      <th>Topic_group</th>\n",
       "      <th>Cleaned_Document</th>\n",
       "      <th>Cleaned_Document_Str</th>\n",
       "      <th>doc_length</th>\n",
       "    </tr>\n",
       "  </thead>\n",
       "  <tbody>\n",
       "    <tr>\n",
       "      <th>0</th>\n",
       "      <td>connection with icon icon dear please setup ic...</td>\n",
       "      <td>Hardware</td>\n",
       "      <td>[connection, icon, icon, setup, icon, per, ico...</td>\n",
       "      <td>connection icon icon setup icon per icon engin...</td>\n",
       "      <td>12</td>\n",
       "    </tr>\n",
       "    <tr>\n",
       "      <th>1</th>\n",
       "      <td>work experience user work experience user hi w...</td>\n",
       "      <td>Access</td>\n",
       "      <td>[work, experience, user, work, experience, use...</td>\n",
       "      <td>work experience user work experience user work...</td>\n",
       "      <td>14</td>\n",
       "    </tr>\n",
       "    <tr>\n",
       "      <th>2</th>\n",
       "      <td>requesting for meeting requesting meeting hi p...</td>\n",
       "      <td>Hardware</td>\n",
       "      <td>[requesting, meeting, requesting, meeting, fol...</td>\n",
       "      <td>requesting meeting requesting meeting follow e...</td>\n",
       "      <td>10</td>\n",
       "    </tr>\n",
       "    <tr>\n",
       "      <th>3</th>\n",
       "      <td>reset passwords for external accounts re expir...</td>\n",
       "      <td>Access</td>\n",
       "      <td>[reset, password, external, account, expire, d...</td>\n",
       "      <td>reset password external account expire day ask...</td>\n",
       "      <td>112</td>\n",
       "    </tr>\n",
       "    <tr>\n",
       "      <th>4</th>\n",
       "      <td>mail verification warning hi has got attached ...</td>\n",
       "      <td>Miscellaneous</td>\n",
       "      <td>[mail, verification, warning, got, attached, a...</td>\n",
       "      <td>mail verification warning got attached address...</td>\n",
       "      <td>11</td>\n",
       "    </tr>\n",
       "  </tbody>\n",
       "</table>\n",
       "</div>"
      ],
      "text/plain": [
       "                                            Document    Topic_group  \\\n",
       "0  connection with icon icon dear please setup ic...       Hardware   \n",
       "1  work experience user work experience user hi w...         Access   \n",
       "2  requesting for meeting requesting meeting hi p...       Hardware   \n",
       "3  reset passwords for external accounts re expir...         Access   \n",
       "4  mail verification warning hi has got attached ...  Miscellaneous   \n",
       "\n",
       "                                    Cleaned_Document  \\\n",
       "0  [connection, icon, icon, setup, icon, per, ico...   \n",
       "1  [work, experience, user, work, experience, use...   \n",
       "2  [requesting, meeting, requesting, meeting, fol...   \n",
       "3  [reset, password, external, account, expire, d...   \n",
       "4  [mail, verification, warning, got, attached, a...   \n",
       "\n",
       "                                Cleaned_Document_Str  doc_length  \n",
       "0  connection icon icon setup icon per icon engin...          12  \n",
       "1  work experience user work experience user work...          14  \n",
       "2  requesting meeting requesting meeting follow e...          10  \n",
       "3  reset password external account expire day ask...         112  \n",
       "4  mail verification warning got attached address...          11  "
      ]
     },
     "execution_count": 41,
     "metadata": {},
     "output_type": "execute_result"
    }
   ],
   "source": [
    "df.head()"
   ]
  },
  {
   "cell_type": "code",
   "execution_count": 42,
   "id": "9581a03e",
   "metadata": {
    "execution": {
     "iopub.execute_input": "2025-06-10T19:44:08.282035Z",
     "iopub.status.busy": "2025-06-10T19:44:08.281700Z",
     "iopub.status.idle": "2025-06-10T19:44:08.289891Z",
     "shell.execute_reply": "2025-06-10T19:44:08.289120Z"
    },
    "papermill": {
     "duration": 0.032355,
     "end_time": "2025-06-10T19:44:08.291394",
     "exception": false,
     "start_time": "2025-06-10T19:44:08.259039",
     "status": "completed"
    },
    "tags": []
   },
   "outputs": [
    {
     "data": {
      "text/plain": [
       "array(['Hardware', 'Access', 'Miscellaneous', 'HR Support', 'Purchase',\n",
       "       'Administrative rights', 'Storage', 'Internal Project'],\n",
       "      dtype=object)"
      ]
     },
     "execution_count": 42,
     "metadata": {},
     "output_type": "execute_result"
    }
   ],
   "source": [
    "df['Topic_group'].unique()"
   ]
  },
  {
   "cell_type": "code",
   "execution_count": 43,
   "id": "1cda36fa",
   "metadata": {
    "execution": {
     "iopub.execute_input": "2025-06-10T19:44:08.332562Z",
     "iopub.status.busy": "2025-06-10T19:44:08.332235Z",
     "iopub.status.idle": "2025-06-10T19:44:11.550254Z",
     "shell.execute_reply": "2025-06-10T19:44:11.549293Z"
    },
    "papermill": {
     "duration": 3.240952,
     "end_time": "2025-06-10T19:44:11.552269",
     "exception": false,
     "start_time": "2025-06-10T19:44:08.311317",
     "status": "completed"
    },
    "tags": []
   },
   "outputs": [],
   "source": [
    "#TF-IDF\n",
    "from sklearn.feature_extraction.text import TfidfVectorizer\n",
    "\n",
    "vectorizer = TfidfVectorizer(min_df=5, max_df=0.8, ngram_range=(1,2))\n",
    "X = vectorizer.fit_transform(df['Cleaned_Document_Str'])"
   ]
  },
  {
   "cell_type": "code",
   "execution_count": 44,
   "id": "4ccda367",
   "metadata": {
    "execution": {
     "iopub.execute_input": "2025-06-10T19:44:11.599169Z",
     "iopub.status.busy": "2025-06-10T19:44:11.598868Z",
     "iopub.status.idle": "2025-06-10T19:44:11.612785Z",
     "shell.execute_reply": "2025-06-10T19:44:11.611917Z"
    },
    "papermill": {
     "duration": 0.036714,
     "end_time": "2025-06-10T19:44:11.614675",
     "exception": false,
     "start_time": "2025-06-10T19:44:11.577961",
     "status": "completed"
    },
    "tags": []
   },
   "outputs": [],
   "source": [
    "#encoding target variable\n",
    "from sklearn.preprocessing import LabelEncoder\n",
    "\n",
    "le = LabelEncoder()\n",
    "y = le.fit_transform(df['Topic_group'])"
   ]
  },
  {
   "cell_type": "markdown",
   "id": "9ee9c083",
   "metadata": {
    "papermill": {
     "duration": 0.025731,
     "end_time": "2025-06-10T19:44:11.660385",
     "exception": false,
     "start_time": "2025-06-10T19:44:11.634654",
     "status": "completed"
    },
    "tags": []
   },
   "source": [
    "## Logistic Regression"
   ]
  },
  {
   "cell_type": "code",
   "execution_count": 45,
   "id": "b4ec07ec",
   "metadata": {
    "execution": {
     "iopub.execute_input": "2025-06-10T19:44:11.715133Z",
     "iopub.status.busy": "2025-06-10T19:44:11.714516Z",
     "iopub.status.idle": "2025-06-10T19:44:11.719040Z",
     "shell.execute_reply": "2025-06-10T19:44:11.718209Z"
    },
    "papermill": {
     "duration": 0.036093,
     "end_time": "2025-06-10T19:44:11.720878",
     "exception": false,
     "start_time": "2025-06-10T19:44:11.684785",
     "status": "completed"
    },
    "tags": []
   },
   "outputs": [],
   "source": [
    "from sklearn.linear_model import LogisticRegression\n",
    "from sklearn.model_selection import train_test_split\n",
    "from sklearn.metrics import classification_report"
   ]
  },
  {
   "cell_type": "code",
   "execution_count": 46,
   "id": "1069cf58",
   "metadata": {
    "execution": {
     "iopub.execute_input": "2025-06-10T19:44:11.766575Z",
     "iopub.status.busy": "2025-06-10T19:44:11.765955Z",
     "iopub.status.idle": "2025-06-10T19:44:40.771530Z",
     "shell.execute_reply": "2025-06-10T19:44:40.770649Z"
    },
    "papermill": {
     "duration": 29.028995,
     "end_time": "2025-06-10T19:44:40.774574",
     "exception": false,
     "start_time": "2025-06-10T19:44:11.745579",
     "status": "completed"
    },
    "tags": []
   },
   "outputs": [
    {
     "name": "stdout",
     "output_type": "stream",
     "text": [
      "              precision    recall  f1-score   support\n",
      "\n",
      "           0       0.92      0.87      0.89      1468\n",
      "           1       0.91      0.64      0.75       331\n",
      "           2       0.85      0.85      0.85      2110\n",
      "           3       0.79      0.90      0.84      2761\n",
      "           4       0.92      0.78      0.84       448\n",
      "           5       0.83      0.84      0.83      1397\n",
      "           6       0.98      0.87      0.92       499\n",
      "           7       0.94      0.82      0.88       554\n",
      "\n",
      "    accuracy                           0.85      9568\n",
      "   macro avg       0.89      0.82      0.85      9568\n",
      "weighted avg       0.86      0.85      0.85      9568\n",
      "\n"
     ]
    }
   ],
   "source": [
    "X_train, X_test, y_train, y_test = train_test_split(X, y, test_size=0.2, random_state=42)\n",
    "clf = LogisticRegression(max_iter=1000)\n",
    "clf.fit(X_train, y_train)\n",
    "preds = clf.predict(X_test)\n",
    "print(classification_report(y_test, preds))"
   ]
  },
  {
   "cell_type": "markdown",
   "id": "c94baf6c",
   "metadata": {
    "papermill": {
     "duration": 0.035552,
     "end_time": "2025-06-10T19:44:40.847164",
     "exception": false,
     "start_time": "2025-06-10T19:44:40.811612",
     "status": "completed"
    },
    "tags": []
   },
   "source": [
    "## Decision Trees / Random Forest / XGBoost:"
   ]
  },
  {
   "cell_type": "code",
   "execution_count": 47,
   "id": "c67ef784",
   "metadata": {
    "execution": {
     "iopub.execute_input": "2025-06-10T19:44:40.891319Z",
     "iopub.status.busy": "2025-06-10T19:44:40.890727Z",
     "iopub.status.idle": "2025-06-10T19:47:05.995737Z",
     "shell.execute_reply": "2025-06-10T19:47:05.994636Z"
    },
    "papermill": {
     "duration": 145.152767,
     "end_time": "2025-06-10T19:47:06.021495",
     "exception": false,
     "start_time": "2025-06-10T19:44:40.868728",
     "status": "completed"
    },
    "tags": []
   },
   "outputs": [
    {
     "name": "stdout",
     "output_type": "stream",
     "text": [
      "              precision    recall  f1-score   support\n",
      "\n",
      "           0       0.90      0.85      0.88      1468\n",
      "           1       0.91      0.62      0.74       331\n",
      "           2       0.84      0.86      0.85      2110\n",
      "           3       0.77      0.89      0.83      2761\n",
      "           4       0.93      0.78      0.85       448\n",
      "           5       0.84      0.78      0.81      1397\n",
      "           6       0.98      0.86      0.92       499\n",
      "           7       0.93      0.77      0.84       554\n",
      "\n",
      "    accuracy                           0.84      9568\n",
      "   macro avg       0.89      0.80      0.84      9568\n",
      "weighted avg       0.85      0.84      0.84      9568\n",
      "\n"
     ]
    }
   ],
   "source": [
    "from sklearn.ensemble import RandomForestClassifier\n",
    "\n",
    "rf_clf = RandomForestClassifier(random_state=42)\n",
    "rf_clf.fit(X_train, y_train)\n",
    "rf_preds = rf_clf.predict(X_test)\n",
    "print(classification_report(y_test, rf_preds))"
   ]
  },
  {
   "cell_type": "markdown",
   "id": "768d3759",
   "metadata": {
    "papermill": {
     "duration": 0.023745,
     "end_time": "2025-06-10T19:47:06.076674",
     "exception": false,
     "start_time": "2025-06-10T19:47:06.052929",
     "status": "completed"
    },
    "tags": []
   },
   "source": [
    "## RNN"
   ]
  },
  {
   "cell_type": "code",
   "execution_count": 48,
   "id": "93a69064",
   "metadata": {
    "execution": {
     "iopub.execute_input": "2025-06-10T19:47:06.120445Z",
     "iopub.status.busy": "2025-06-10T19:47:06.119657Z",
     "iopub.status.idle": "2025-06-10T19:47:06.146863Z",
     "shell.execute_reply": "2025-06-10T19:47:06.145887Z"
    },
    "papermill": {
     "duration": 0.048754,
     "end_time": "2025-06-10T19:47:06.148289",
     "exception": false,
     "start_time": "2025-06-10T19:47:06.099535",
     "status": "completed"
    },
    "tags": []
   },
   "outputs": [
    {
     "name": "stdout",
     "output_type": "stream",
     "text": [
      "<class 'pandas.core.frame.DataFrame'>\n",
      "Index: 47836 entries, 0 to 47836\n",
      "Data columns (total 5 columns):\n",
      " #   Column                Non-Null Count  Dtype \n",
      "---  ------                --------------  ----- \n",
      " 0   Document              47836 non-null  object\n",
      " 1   Topic_group           47836 non-null  object\n",
      " 2   Cleaned_Document      47836 non-null  object\n",
      " 3   Cleaned_Document_Str  47836 non-null  object\n",
      " 4   doc_length            47836 non-null  int64 \n",
      "dtypes: int64(1), object(4)\n",
      "memory usage: 2.2+ MB\n"
     ]
    }
   ],
   "source": [
    "df.info()"
   ]
  },
  {
   "cell_type": "code",
   "execution_count": 49,
   "id": "8a59e5e9",
   "metadata": {
    "execution": {
     "iopub.execute_input": "2025-06-10T19:47:06.188720Z",
     "iopub.status.busy": "2025-06-10T19:47:06.188404Z",
     "iopub.status.idle": "2025-06-10T19:47:06.199743Z",
     "shell.execute_reply": "2025-06-10T19:47:06.198903Z"
    },
    "papermill": {
     "duration": 0.032412,
     "end_time": "2025-06-10T19:47:06.201061",
     "exception": false,
     "start_time": "2025-06-10T19:47:06.168649",
     "status": "completed"
    },
    "tags": []
   },
   "outputs": [
    {
     "data": {
      "text/html": [
       "<div>\n",
       "<style scoped>\n",
       "    .dataframe tbody tr th:only-of-type {\n",
       "        vertical-align: middle;\n",
       "    }\n",
       "\n",
       "    .dataframe tbody tr th {\n",
       "        vertical-align: top;\n",
       "    }\n",
       "\n",
       "    .dataframe thead th {\n",
       "        text-align: right;\n",
       "    }\n",
       "</style>\n",
       "<table border=\"1\" class=\"dataframe\">\n",
       "  <thead>\n",
       "    <tr style=\"text-align: right;\">\n",
       "      <th></th>\n",
       "      <th>Document</th>\n",
       "      <th>Topic_group</th>\n",
       "      <th>Cleaned_Document</th>\n",
       "      <th>Cleaned_Document_Str</th>\n",
       "      <th>doc_length</th>\n",
       "    </tr>\n",
       "  </thead>\n",
       "  <tbody>\n",
       "    <tr>\n",
       "      <th>0</th>\n",
       "      <td>connection with icon icon dear please setup ic...</td>\n",
       "      <td>Hardware</td>\n",
       "      <td>[connection, icon, icon, setup, icon, per, ico...</td>\n",
       "      <td>connection icon icon setup icon per icon engin...</td>\n",
       "      <td>12</td>\n",
       "    </tr>\n",
       "    <tr>\n",
       "      <th>1</th>\n",
       "      <td>work experience user work experience user hi w...</td>\n",
       "      <td>Access</td>\n",
       "      <td>[work, experience, user, work, experience, use...</td>\n",
       "      <td>work experience user work experience user work...</td>\n",
       "      <td>14</td>\n",
       "    </tr>\n",
       "    <tr>\n",
       "      <th>2</th>\n",
       "      <td>requesting for meeting requesting meeting hi p...</td>\n",
       "      <td>Hardware</td>\n",
       "      <td>[requesting, meeting, requesting, meeting, fol...</td>\n",
       "      <td>requesting meeting requesting meeting follow e...</td>\n",
       "      <td>10</td>\n",
       "    </tr>\n",
       "    <tr>\n",
       "      <th>3</th>\n",
       "      <td>reset passwords for external accounts re expir...</td>\n",
       "      <td>Access</td>\n",
       "      <td>[reset, password, external, account, expire, d...</td>\n",
       "      <td>reset password external account expire day ask...</td>\n",
       "      <td>112</td>\n",
       "    </tr>\n",
       "    <tr>\n",
       "      <th>4</th>\n",
       "      <td>mail verification warning hi has got attached ...</td>\n",
       "      <td>Miscellaneous</td>\n",
       "      <td>[mail, verification, warning, got, attached, a...</td>\n",
       "      <td>mail verification warning got attached address...</td>\n",
       "      <td>11</td>\n",
       "    </tr>\n",
       "  </tbody>\n",
       "</table>\n",
       "</div>"
      ],
      "text/plain": [
       "                                            Document    Topic_group  \\\n",
       "0  connection with icon icon dear please setup ic...       Hardware   \n",
       "1  work experience user work experience user hi w...         Access   \n",
       "2  requesting for meeting requesting meeting hi p...       Hardware   \n",
       "3  reset passwords for external accounts re expir...         Access   \n",
       "4  mail verification warning hi has got attached ...  Miscellaneous   \n",
       "\n",
       "                                    Cleaned_Document  \\\n",
       "0  [connection, icon, icon, setup, icon, per, ico...   \n",
       "1  [work, experience, user, work, experience, use...   \n",
       "2  [requesting, meeting, requesting, meeting, fol...   \n",
       "3  [reset, password, external, account, expire, d...   \n",
       "4  [mail, verification, warning, got, attached, a...   \n",
       "\n",
       "                                Cleaned_Document_Str  doc_length  \n",
       "0  connection icon icon setup icon per icon engin...          12  \n",
       "1  work experience user work experience user work...          14  \n",
       "2  requesting meeting requesting meeting follow e...          10  \n",
       "3  reset password external account expire day ask...         112  \n",
       "4  mail verification warning got attached address...          11  "
      ]
     },
     "execution_count": 49,
     "metadata": {},
     "output_type": "execute_result"
    }
   ],
   "source": [
    "df.head()"
   ]
  },
  {
   "cell_type": "markdown",
   "id": "80aafb8e",
   "metadata": {
    "papermill": {
     "duration": 0.018531,
     "end_time": "2025-06-10T19:47:06.238641",
     "exception": false,
     "start_time": "2025-06-10T19:47:06.220110",
     "status": "completed"
    },
    "tags": []
   },
   "source": [
    "TF-IDF converts text into a Bag-of-Words, ignoring the word order, which makes the data non-sequential. Since RNNs (recurrent neural networks) work with sequences, this format is not suitable for them. Therefore, data for RNNs must be prepared differently than for classical machine learning models."
   ]
  },
  {
   "cell_type": "code",
   "execution_count": 50,
   "id": "0c782841",
   "metadata": {
    "execution": {
     "iopub.execute_input": "2025-06-10T19:47:06.276874Z",
     "iopub.status.busy": "2025-06-10T19:47:06.276147Z",
     "iopub.status.idle": "2025-06-10T19:47:20.771268Z",
     "shell.execute_reply": "2025-06-10T19:47:20.770554Z"
    },
    "papermill": {
     "duration": 14.51612,
     "end_time": "2025-06-10T19:47:20.772878",
     "exception": false,
     "start_time": "2025-06-10T19:47:06.256758",
     "status": "completed"
    },
    "tags": []
   },
   "outputs": [
    {
     "name": "stderr",
     "output_type": "stream",
     "text": [
      "2025-06-10 19:47:07.819118: E external/local_xla/xla/stream_executor/cuda/cuda_fft.cc:477] Unable to register cuFFT factory: Attempting to register factory for plugin cuFFT when one has already been registered\n",
      "WARNING: All log messages before absl::InitializeLog() is called are written to STDERR\n",
      "E0000 00:00:1749584828.035209      19 cuda_dnn.cc:8310] Unable to register cuDNN factory: Attempting to register factory for plugin cuDNN when one has already been registered\n",
      "E0000 00:00:1749584828.097798      19 cuda_blas.cc:1418] Unable to register cuBLAS factory: Attempting to register factory for plugin cuBLAS when one has already been registered\n"
     ]
    }
   ],
   "source": [
    "from tensorflow.keras.preprocessing.text import Tokenizer\n",
    "from tensorflow.keras.preprocessing.sequence import pad_sequences"
   ]
  },
  {
   "cell_type": "code",
   "execution_count": 51,
   "id": "69e5760d",
   "metadata": {
    "execution": {
     "iopub.execute_input": "2025-06-10T19:47:20.813302Z",
     "iopub.status.busy": "2025-06-10T19:47:20.812723Z",
     "iopub.status.idle": "2025-06-10T19:47:21.907731Z",
     "shell.execute_reply": "2025-06-10T19:47:21.906956Z"
    },
    "papermill": {
     "duration": 1.116571,
     "end_time": "2025-06-10T19:47:21.909223",
     "exception": false,
     "start_time": "2025-06-10T19:47:20.792652",
     "status": "completed"
    },
    "tags": []
   },
   "outputs": [],
   "source": [
    "#Tokenization\n",
    "tokenizer = Tokenizer()\n",
    "tokenizer.fit_on_texts(df['Cleaned_Document_Str'])"
   ]
  },
  {
   "cell_type": "code",
   "execution_count": 52,
   "id": "93ae9131",
   "metadata": {
    "execution": {
     "iopub.execute_input": "2025-06-10T19:47:21.948284Z",
     "iopub.status.busy": "2025-06-10T19:47:21.947961Z",
     "iopub.status.idle": "2025-06-10T19:47:22.735265Z",
     "shell.execute_reply": "2025-06-10T19:47:22.731674Z"
    },
    "papermill": {
     "duration": 0.811421,
     "end_time": "2025-06-10T19:47:22.739527",
     "exception": false,
     "start_time": "2025-06-10T19:47:21.928106",
     "status": "completed"
    },
    "tags": []
   },
   "outputs": [],
   "source": [
    "#Converting text into index sequences\n",
    "sequences = tokenizer.texts_to_sequences(df['Cleaned_Document_Str'])\n",
    "vocab_size = len(tokenizer.word_index) + 1"
   ]
  },
  {
   "cell_type": "code",
   "execution_count": 53,
   "id": "c42c6d1f",
   "metadata": {
    "execution": {
     "iopub.execute_input": "2025-06-10T19:47:22.782871Z",
     "iopub.status.busy": "2025-06-10T19:47:22.782280Z",
     "iopub.status.idle": "2025-06-10T19:47:22.798447Z",
     "shell.execute_reply": "2025-06-10T19:47:22.797442Z"
    },
    "papermill": {
     "duration": 0.040011,
     "end_time": "2025-06-10T19:47:22.800385",
     "exception": false,
     "start_time": "2025-06-10T19:47:22.760374",
     "status": "completed"
    },
    "tags": []
   },
   "outputs": [],
   "source": [
    "max_length = int(np.percentile([len(seq) for seq in sequences], 95))"
   ]
  },
  {
   "cell_type": "code",
   "execution_count": 54,
   "id": "a75a7396",
   "metadata": {
    "execution": {
     "iopub.execute_input": "2025-06-10T19:47:22.858935Z",
     "iopub.status.busy": "2025-06-10T19:47:22.857924Z",
     "iopub.status.idle": "2025-06-10T19:47:23.040309Z",
     "shell.execute_reply": "2025-06-10T19:47:23.039444Z"
    },
    "papermill": {
     "duration": 0.214322,
     "end_time": "2025-06-10T19:47:23.041988",
     "exception": false,
     "start_time": "2025-06-10T19:47:22.827666",
     "status": "completed"
    },
    "tags": []
   },
   "outputs": [],
   "source": [
    "X_seq = pad_sequences(sequences, maxlen=max_length, padding='post', truncating='post')"
   ]
  },
  {
   "cell_type": "code",
   "execution_count": 55,
   "id": "97b19822",
   "metadata": {
    "execution": {
     "iopub.execute_input": "2025-06-10T19:47:23.083867Z",
     "iopub.status.busy": "2025-06-10T19:47:23.083197Z",
     "iopub.status.idle": "2025-06-10T19:47:23.113395Z",
     "shell.execute_reply": "2025-06-10T19:47:23.112568Z"
    },
    "papermill": {
     "duration": 0.052798,
     "end_time": "2025-06-10T19:47:23.114980",
     "exception": false,
     "start_time": "2025-06-10T19:47:23.062182",
     "status": "completed"
    },
    "tags": []
   },
   "outputs": [],
   "source": [
    "train_indices, test_indices = train_test_split(\n",
    "    np.arange(len(df)), \n",
    "    test_size=0.2, \n",
    "    random_state=42,\n",
    "    stratify=y  \n",
    ")"
   ]
  },
  {
   "cell_type": "code",
   "execution_count": 56,
   "id": "1769f28e",
   "metadata": {
    "execution": {
     "iopub.execute_input": "2025-06-10T19:47:23.156916Z",
     "iopub.status.busy": "2025-06-10T19:47:23.156113Z",
     "iopub.status.idle": "2025-06-10T19:47:23.176451Z",
     "shell.execute_reply": "2025-06-10T19:47:23.175653Z"
    },
    "papermill": {
     "duration": 0.042189,
     "end_time": "2025-06-10T19:47:23.178059",
     "exception": false,
     "start_time": "2025-06-10T19:47:23.135870",
     "status": "completed"
    },
    "tags": []
   },
   "outputs": [],
   "source": [
    "X_train_seq = X_seq[train_indices]\n",
    "X_test_seq = X_seq[test_indices]"
   ]
  },
  {
   "cell_type": "code",
   "execution_count": 57,
   "id": "04b895ea",
   "metadata": {
    "execution": {
     "iopub.execute_input": "2025-06-10T19:47:23.219695Z",
     "iopub.status.busy": "2025-06-10T19:47:23.218974Z",
     "iopub.status.idle": "2025-06-10T19:47:23.223332Z",
     "shell.execute_reply": "2025-06-10T19:47:23.222582Z"
    },
    "papermill": {
     "duration": 0.026763,
     "end_time": "2025-06-10T19:47:23.224646",
     "exception": false,
     "start_time": "2025-06-10T19:47:23.197883",
     "status": "completed"
    },
    "tags": []
   },
   "outputs": [],
   "source": [
    "X_train_rnn, X_test_rnn = X_train_seq, X_test_seq"
   ]
  },
  {
   "cell_type": "code",
   "execution_count": 58,
   "id": "6d5e4075",
   "metadata": {
    "execution": {
     "iopub.execute_input": "2025-06-10T19:47:23.264981Z",
     "iopub.status.busy": "2025-06-10T19:47:23.264233Z",
     "iopub.status.idle": "2025-06-10T19:47:23.271652Z",
     "shell.execute_reply": "2025-06-10T19:47:23.270920Z"
    },
    "papermill": {
     "duration": 0.029063,
     "end_time": "2025-06-10T19:47:23.273026",
     "exception": false,
     "start_time": "2025-06-10T19:47:23.243963",
     "status": "completed"
    },
    "tags": []
   },
   "outputs": [],
   "source": [
    "from tensorflow.keras.models import Sequential\n",
    "from tensorflow.keras.layers import Embedding, LSTM, Dense"
   ]
  },
  {
   "cell_type": "code",
   "execution_count": 59,
   "id": "8d8e08c8",
   "metadata": {
    "execution": {
     "iopub.execute_input": "2025-06-10T19:47:23.313743Z",
     "iopub.status.busy": "2025-06-10T19:47:23.312928Z",
     "iopub.status.idle": "2025-06-10T19:47:24.530865Z",
     "shell.execute_reply": "2025-06-10T19:47:24.529933Z"
    },
    "papermill": {
     "duration": 1.239964,
     "end_time": "2025-06-10T19:47:24.532356",
     "exception": false,
     "start_time": "2025-06-10T19:47:23.292392",
     "status": "completed"
    },
    "tags": []
   },
   "outputs": [
    {
     "name": "stderr",
     "output_type": "stream",
     "text": [
      "/usr/local/lib/python3.11/dist-packages/keras/src/layers/core/embedding.py:90: UserWarning: Argument `input_length` is deprecated. Just remove it.\n",
      "  warnings.warn(\n",
      "I0000 00:00:1749584844.487976      19 gpu_device.cc:2022] Created device /job:localhost/replica:0/task:0/device:GPU:0 with 15513 MB memory:  -> device: 0, name: Tesla P100-PCIE-16GB, pci bus id: 0000:00:04.0, compute capability: 6.0\n"
     ]
    }
   ],
   "source": [
    "model = Sequential([\n",
    "    Embedding(vocab_size, 128, input_length=max_length),\n",
    "    LSTM(64, return_sequences=False),\n",
    "    Dense(len(le.classes_), activation='softmax')\n",
    "])"
   ]
  },
  {
   "cell_type": "code",
   "execution_count": 60,
   "id": "8d453182",
   "metadata": {
    "execution": {
     "iopub.execute_input": "2025-06-10T19:47:24.573442Z",
     "iopub.status.busy": "2025-06-10T19:47:24.572705Z",
     "iopub.status.idle": "2025-06-10T19:47:24.594708Z",
     "shell.execute_reply": "2025-06-10T19:47:24.593996Z"
    },
    "papermill": {
     "duration": 0.044166,
     "end_time": "2025-06-10T19:47:24.596201",
     "exception": false,
     "start_time": "2025-06-10T19:47:24.552035",
     "status": "completed"
    },
    "tags": []
   },
   "outputs": [],
   "source": [
    "model.compile(loss='sparse_categorical_crossentropy', \n",
    "              optimizer='adam', \n",
    "              metrics=['accuracy'])"
   ]
  },
  {
   "cell_type": "code",
   "execution_count": 61,
   "id": "f00aa95d",
   "metadata": {
    "execution": {
     "iopub.execute_input": "2025-06-10T19:47:24.637005Z",
     "iopub.status.busy": "2025-06-10T19:47:24.636435Z",
     "iopub.status.idle": "2025-06-10T19:48:01.799958Z",
     "shell.execute_reply": "2025-06-10T19:48:01.799130Z"
    },
    "papermill": {
     "duration": 37.185773,
     "end_time": "2025-06-10T19:48:01.801354",
     "exception": false,
     "start_time": "2025-06-10T19:47:24.615581",
     "status": "completed"
    },
    "tags": []
   },
   "outputs": [
    {
     "name": "stdout",
     "output_type": "stream",
     "text": [
      "Epoch 1/10\n"
     ]
    },
    {
     "name": "stderr",
     "output_type": "stream",
     "text": [
      "I0000 00:00:1749584849.261644      64 cuda_dnn.cc:529] Loaded cuDNN version 90300\n"
     ]
    },
    {
     "name": "stdout",
     "output_type": "stream",
     "text": [
      "\u001b[1m299/299\u001b[0m \u001b[32m━━━━━━━━━━━━━━━━━━━━\u001b[0m\u001b[37m\u001b[0m \u001b[1m9s\u001b[0m 12ms/step - accuracy: 0.2726 - loss: 1.8628 - val_accuracy: 0.2886 - val_loss: 1.8427\n",
      "Epoch 2/10\n",
      "\u001b[1m299/299\u001b[0m \u001b[32m━━━━━━━━━━━━━━━━━━━━\u001b[0m\u001b[37m\u001b[0m \u001b[1m3s\u001b[0m 10ms/step - accuracy: 0.2813 - loss: 1.8426 - val_accuracy: 0.2886 - val_loss: 1.8411\n",
      "Epoch 3/10\n",
      "\u001b[1m299/299\u001b[0m \u001b[32m━━━━━━━━━━━━━━━━━━━━\u001b[0m\u001b[37m\u001b[0m \u001b[1m3s\u001b[0m 10ms/step - accuracy: 0.2816 - loss: 1.8392 - val_accuracy: 0.2883 - val_loss: 1.8456\n",
      "Epoch 4/10\n",
      "\u001b[1m299/299\u001b[0m \u001b[32m━━━━━━━━━━━━━━━━━━━━\u001b[0m\u001b[37m\u001b[0m \u001b[1m3s\u001b[0m 10ms/step - accuracy: 0.2992 - loss: 1.8109 - val_accuracy: 0.2848 - val_loss: 1.8583\n",
      "Epoch 5/10\n",
      "\u001b[1m299/299\u001b[0m \u001b[32m━━━━━━━━━━━━━━━━━━━━\u001b[0m\u001b[37m\u001b[0m \u001b[1m3s\u001b[0m 10ms/step - accuracy: 0.3062 - loss: 1.7917 - val_accuracy: 0.2858 - val_loss: 1.8804\n",
      "Epoch 6/10\n",
      "\u001b[1m299/299\u001b[0m \u001b[32m━━━━━━━━━━━━━━━━━━━━\u001b[0m\u001b[37m\u001b[0m \u001b[1m3s\u001b[0m 11ms/step - accuracy: 0.3075 - loss: 1.7784 - val_accuracy: 0.2863 - val_loss: 1.8865\n",
      "Epoch 7/10\n",
      "\u001b[1m299/299\u001b[0m \u001b[32m━━━━━━━━━━━━━━━━━━━━\u001b[0m\u001b[37m\u001b[0m \u001b[1m3s\u001b[0m 11ms/step - accuracy: 0.3132 - loss: 1.7593 - val_accuracy: 0.2851 - val_loss: 1.9058\n",
      "Epoch 8/10\n",
      "\u001b[1m299/299\u001b[0m \u001b[32m━━━━━━━━━━━━━━━━━━━━\u001b[0m\u001b[37m\u001b[0m \u001b[1m3s\u001b[0m 11ms/step - accuracy: 0.3173 - loss: 1.7579 - val_accuracy: 0.2840 - val_loss: 1.9198\n",
      "Epoch 9/10\n",
      "\u001b[1m299/299\u001b[0m \u001b[32m━━━━━━━━━━━━━━━━━━━━\u001b[0m\u001b[37m\u001b[0m \u001b[1m3s\u001b[0m 11ms/step - accuracy: 0.3199 - loss: 1.7510 - val_accuracy: 0.2842 - val_loss: 1.9300\n",
      "Epoch 10/10\n",
      "\u001b[1m299/299\u001b[0m \u001b[32m━━━━━━━━━━━━━━━━━━━━\u001b[0m\u001b[37m\u001b[0m \u001b[1m3s\u001b[0m 11ms/step - accuracy: 0.3190 - loss: 1.7514 - val_accuracy: 0.2849 - val_loss: 1.9405\n"
     ]
    },
    {
     "data": {
      "text/plain": [
       "<keras.src.callbacks.history.History at 0x7fd198c46f90>"
      ]
     },
     "execution_count": 61,
     "metadata": {},
     "output_type": "execute_result"
    }
   ],
   "source": [
    "model.fit(X_train_rnn, y_train, \n",
    "          validation_data=(X_test_rnn, y_test),\n",
    "          epochs=10, \n",
    "          batch_size=128)"
   ]
  },
  {
   "cell_type": "code",
   "execution_count": 62,
   "id": "9dc8b8ef",
   "metadata": {
    "execution": {
     "iopub.execute_input": "2025-06-10T19:48:01.888560Z",
     "iopub.status.busy": "2025-06-10T19:48:01.888150Z",
     "iopub.status.idle": "2025-06-10T19:48:01.894627Z",
     "shell.execute_reply": "2025-06-10T19:48:01.893757Z"
    },
    "papermill": {
     "duration": 0.051627,
     "end_time": "2025-06-10T19:48:01.895966",
     "exception": false,
     "start_time": "2025-06-10T19:48:01.844339",
     "status": "completed"
    },
    "tags": []
   },
   "outputs": [],
   "source": [
    "from tensorflow.keras.callbacks import EarlyStopping"
   ]
  },
  {
   "cell_type": "code",
   "execution_count": 63,
   "id": "481bafce",
   "metadata": {
    "execution": {
     "iopub.execute_input": "2025-06-10T19:48:01.985994Z",
     "iopub.status.busy": "2025-06-10T19:48:01.985031Z",
     "iopub.status.idle": "2025-06-10T19:48:01.989678Z",
     "shell.execute_reply": "2025-06-10T19:48:01.988790Z"
    },
    "papermill": {
     "duration": 0.050648,
     "end_time": "2025-06-10T19:48:01.991045",
     "exception": false,
     "start_time": "2025-06-10T19:48:01.940397",
     "status": "completed"
    },
    "tags": []
   },
   "outputs": [],
   "source": [
    "early_stopping = EarlyStopping(\n",
    "    monitor='val_loss',\n",
    "    patience=3,\n",
    "    restore_best_weights=True\n",
    ")"
   ]
  },
  {
   "cell_type": "code",
   "execution_count": 64,
   "id": "6202528e",
   "metadata": {
    "execution": {
     "iopub.execute_input": "2025-06-10T19:48:02.077264Z",
     "iopub.status.busy": "2025-06-10T19:48:02.076489Z",
     "iopub.status.idle": "2025-06-10T19:48:12.962241Z",
     "shell.execute_reply": "2025-06-10T19:48:12.961523Z"
    },
    "papermill": {
     "duration": 10.93051,
     "end_time": "2025-06-10T19:48:12.963731",
     "exception": false,
     "start_time": "2025-06-10T19:48:02.033221",
     "status": "completed"
    },
    "tags": []
   },
   "outputs": [
    {
     "name": "stdout",
     "output_type": "stream",
     "text": [
      "Epoch 1/15\n",
      "\u001b[1m270/270\u001b[0m \u001b[32m━━━━━━━━━━━━━━━━━━━━\u001b[0m\u001b[37m\u001b[0m \u001b[1m3s\u001b[0m 10ms/step - accuracy: 0.3233 - loss: 1.7394 - val_accuracy: 0.3128 - val_loss: 1.7731\n",
      "Epoch 2/15\n",
      "\u001b[1m270/270\u001b[0m \u001b[32m━━━━━━━━━━━━━━━━━━━━\u001b[0m\u001b[37m\u001b[0m \u001b[1m3s\u001b[0m 10ms/step - accuracy: 0.3246 - loss: 1.7360 - val_accuracy: 0.3096 - val_loss: 1.7846\n",
      "Epoch 3/15\n",
      "\u001b[1m270/270\u001b[0m \u001b[32m━━━━━━━━━━━━━━━━━━━━\u001b[0m\u001b[37m\u001b[0m \u001b[1m3s\u001b[0m 10ms/step - accuracy: 0.3196 - loss: 1.7473 - val_accuracy: 0.3081 - val_loss: 1.7849\n",
      "Epoch 4/15\n",
      "\u001b[1m270/270\u001b[0m \u001b[32m━━━━━━━━━━━━━━━━━━━━\u001b[0m\u001b[37m\u001b[0m \u001b[1m3s\u001b[0m 10ms/step - accuracy: 0.3270 - loss: 1.7331 - val_accuracy: 0.3073 - val_loss: 1.7893\n"
     ]
    }
   ],
   "source": [
    "history = model.fit(\n",
    "    X_train_rnn, \n",
    "    y_train,\n",
    "    epochs=15,\n",
    "    batch_size=128,\n",
    "    validation_split=0.1,  \n",
    "    callbacks=[early_stopping],\n",
    "    verbose=1\n",
    ")"
   ]
  },
  {
   "cell_type": "code",
   "execution_count": 65,
   "id": "54a21638",
   "metadata": {
    "execution": {
     "iopub.execute_input": "2025-06-10T19:48:13.073945Z",
     "iopub.status.busy": "2025-06-10T19:48:13.073656Z",
     "iopub.status.idle": "2025-06-10T19:48:14.296089Z",
     "shell.execute_reply": "2025-06-10T19:48:14.295340Z"
    },
    "papermill": {
     "duration": 1.278372,
     "end_time": "2025-06-10T19:48:14.297704",
     "exception": false,
     "start_time": "2025-06-10T19:48:13.019332",
     "status": "completed"
    },
    "tags": []
   },
   "outputs": [
    {
     "name": "stdout",
     "output_type": "stream",
     "text": [
      "\u001b[1m299/299\u001b[0m \u001b[32m━━━━━━━━━━━━━━━━━━━━\u001b[0m\u001b[37m\u001b[0m \u001b[1m1s\u001b[0m 3ms/step\n"
     ]
    }
   ],
   "source": [
    "y_pred = model.predict(X_test_rnn)\n",
    "y_pred_classes = np.argmax(y_pred, axis=1)"
   ]
  },
  {
   "cell_type": "code",
   "execution_count": 66,
   "id": "c6aa28bf",
   "metadata": {
    "execution": {
     "iopub.execute_input": "2025-06-10T19:48:14.412545Z",
     "iopub.status.busy": "2025-06-10T19:48:14.411956Z",
     "iopub.status.idle": "2025-06-10T19:48:14.417236Z",
     "shell.execute_reply": "2025-06-10T19:48:14.416412Z"
    },
    "papermill": {
     "duration": 0.064386,
     "end_time": "2025-06-10T19:48:14.418638",
     "exception": false,
     "start_time": "2025-06-10T19:48:14.354252",
     "status": "completed"
    },
    "tags": []
   },
   "outputs": [],
   "source": [
    "y_test_labels = le.inverse_transform(y_test)\n",
    "y_pred_labels = le.inverse_transform(y_pred_classes)"
   ]
  },
  {
   "cell_type": "code",
   "execution_count": 67,
   "id": "a05d5c23",
   "metadata": {
    "execution": {
     "iopub.execute_input": "2025-06-10T19:48:14.520663Z",
     "iopub.status.busy": "2025-06-10T19:48:14.520092Z",
     "iopub.status.idle": "2025-06-10T19:48:14.782511Z",
     "shell.execute_reply": "2025-06-10T19:48:14.781683Z"
    },
    "papermill": {
     "duration": 0.315605,
     "end_time": "2025-06-10T19:48:14.783976",
     "exception": false,
     "start_time": "2025-06-10T19:48:14.468371",
     "status": "completed"
    },
    "tags": []
   },
   "outputs": [
    {
     "name": "stdout",
     "output_type": "stream",
     "text": [
      "\n",
      "Детальный отчет по классификации:\n",
      "                       precision    recall  f1-score   support\n",
      "\n",
      "               Access       0.19      0.01      0.02      1468\n",
      "Administrative rights       0.00      0.00      0.00       331\n",
      "           HR Support       0.21      0.02      0.04      2110\n",
      "             Hardware       0.29      0.95      0.44      2761\n",
      "     Internal Project       0.00      0.00      0.00       448\n",
      "        Miscellaneous       0.19      0.01      0.02      1397\n",
      "             Purchase       0.03      0.00      0.00       499\n",
      "              Storage       0.04      0.00      0.01       554\n",
      "\n",
      "             accuracy                           0.28      9568\n",
      "            macro avg       0.12      0.13      0.07      9568\n",
      "         weighted avg       0.19      0.28      0.14      9568\n",
      "\n"
     ]
    }
   ],
   "source": [
    "print(\"\\nДетальный отчет по классификации:\")\n",
    "print(classification_report(y_test_labels, y_pred_labels))"
   ]
  },
  {
   "cell_type": "code",
   "execution_count": 68,
   "id": "f9e58d17",
   "metadata": {
    "execution": {
     "iopub.execute_input": "2025-06-10T19:48:14.891354Z",
     "iopub.status.busy": "2025-06-10T19:48:14.890502Z",
     "iopub.status.idle": "2025-06-10T19:48:15.167348Z",
     "shell.execute_reply": "2025-06-10T19:48:15.166630Z"
    },
    "papermill": {
     "duration": 0.331452,
     "end_time": "2025-06-10T19:48:15.168871",
     "exception": false,
     "start_time": "2025-06-10T19:48:14.837419",
     "status": "completed"
    },
    "tags": []
   },
   "outputs": [],
   "source": [
    "from tensorflow.keras.layers import Dropout\n",
    "from tensorflow.keras.optimizers import Adam\n",
    "import keras_tuner as kt"
   ]
  },
  {
   "cell_type": "code",
   "execution_count": 69,
   "id": "902d7f9e",
   "metadata": {
    "execution": {
     "iopub.execute_input": "2025-06-10T19:48:15.274909Z",
     "iopub.status.busy": "2025-06-10T19:48:15.274002Z",
     "iopub.status.idle": "2025-06-10T19:48:15.281275Z",
     "shell.execute_reply": "2025-06-10T19:48:15.280528Z"
    },
    "papermill": {
     "duration": 0.062094,
     "end_time": "2025-06-10T19:48:15.282857",
     "exception": false,
     "start_time": "2025-06-10T19:48:15.220763",
     "status": "completed"
    },
    "tags": []
   },
   "outputs": [],
   "source": [
    "def build_model(hp):\n",
    "    model = Sequential()\n",
    "    \n",
    "    # Embedding\n",
    "    model.add(Embedding(\n",
    "        input_dim=vocab_size,\n",
    "        output_dim=hp.Choice('embedding_dim', [100, 150, 200]),\n",
    "        input_length=max_length\n",
    "    ))\n",
    "\n",
    "    # LSTM\n",
    "    model.add(LSTM(\n",
    "        units=hp.Choice('lstm_units', [64, 128, 256]),\n",
    "        dropout=hp.Float('lstm_dropout', 0.2, 0.5, step=0.1),\n",
    "        recurrent_dropout=hp.Float('recurrent_dropout', 0.2, 0.5, step=0.1)\n",
    "    ))\n",
    "\n",
    "    # Dense + Dropout\n",
    "    model.add(Dense(\n",
    "        units=hp.Choice('dense_units', [32, 64, 128]),\n",
    "        activation='relu'\n",
    "    ))\n",
    "    model.add(Dropout(hp.Float('dense_dropout', 0.2, 0.5, step=0.1)))\n",
    "\n",
    "    # Output\n",
    "    model.add(Dense(len(le.classes_), activation='softmax'))\n",
    "\n",
    "    # Compile\n",
    "    model.compile(\n",
    "        optimizer=Adam(\n",
    "            learning_rate=hp.Choice('learning_rate', [1e-2, 1e-3, 1e-4])\n",
    "        ),\n",
    "        loss='sparse_categorical_crossentropy',\n",
    "        metrics=['accuracy']\n",
    "    )\n",
    "    return model"
   ]
  },
  {
   "cell_type": "code",
   "execution_count": 70,
   "id": "fc2fc779",
   "metadata": {
    "execution": {
     "iopub.execute_input": "2025-06-10T19:48:15.389110Z",
     "iopub.status.busy": "2025-06-10T19:48:15.388339Z",
     "iopub.status.idle": "2025-06-10T19:48:15.412569Z",
     "shell.execute_reply": "2025-06-10T19:48:15.411535Z"
    },
    "papermill": {
     "duration": 0.07904,
     "end_time": "2025-06-10T19:48:15.414041",
     "exception": false,
     "start_time": "2025-06-10T19:48:15.335001",
     "status": "completed"
    },
    "tags": []
   },
   "outputs": [
    {
     "name": "stderr",
     "output_type": "stream",
     "text": [
      "/usr/local/lib/python3.11/dist-packages/keras/src/layers/core/embedding.py:90: UserWarning: Argument `input_length` is deprecated. Just remove it.\n",
      "  warnings.warn(\n"
     ]
    }
   ],
   "source": [
    "tuner = kt.RandomSearch(\n",
    "    build_model,\n",
    "    objective='val_accuracy',\n",
    "    max_trials=10,               # Кол-во комбинаций, которые протестирует\n",
    "    executions_per_trial=1,      # Сколько раз обучать каждую модель\n",
    "    directory='tuner_dir',\n",
    "    project_name='rnn_text_class'\n",
    ")"
   ]
  },
  {
   "cell_type": "code",
   "execution_count": 71,
   "id": "82b3ca6a",
   "metadata": {
    "execution": {
     "iopub.execute_input": "2025-06-10T19:48:15.522421Z",
     "iopub.status.busy": "2025-06-10T19:48:15.521874Z",
     "iopub.status.idle": "2025-06-10T21:12:37.272629Z",
     "shell.execute_reply": "2025-06-10T21:12:37.271726Z"
    },
    "papermill": {
     "duration": 5061.806954,
     "end_time": "2025-06-10T21:12:37.274223",
     "exception": false,
     "start_time": "2025-06-10T19:48:15.467269",
     "status": "completed"
    },
    "tags": []
   },
   "outputs": [
    {
     "name": "stdout",
     "output_type": "stream",
     "text": [
      "Trial 10 Complete [00h 10m 18s]\n",
      "val_accuracy: 0.28102952241897583\n",
      "\n",
      "Best val_accuracy So Far: 0.2811601758003235\n",
      "Total elapsed time: 01h 24m 22s\n"
     ]
    }
   ],
   "source": [
    "# Запускаем подбор\n",
    "tuner.search(\n",
    "    X_train_rnn, y_train,\n",
    "    epochs=10,\n",
    "    batch_size=64,\n",
    "    validation_split=0.2,\n",
    "    callbacks=[EarlyStopping(patience=2)]\n",
    ")"
   ]
  },
  {
   "cell_type": "code",
   "execution_count": 72,
   "id": "55520b22",
   "metadata": {
    "execution": {
     "iopub.execute_input": "2025-06-10T21:12:37.386924Z",
     "iopub.status.busy": "2025-06-10T21:12:37.386137Z",
     "iopub.status.idle": "2025-06-10T21:12:39.053660Z",
     "shell.execute_reply": "2025-06-10T21:12:39.052713Z"
    },
    "papermill": {
     "duration": 1.725947,
     "end_time": "2025-06-10T21:12:39.055132",
     "exception": false,
     "start_time": "2025-06-10T21:12:37.329185",
     "status": "completed"
    },
    "tags": []
   },
   "outputs": [
    {
     "name": "stderr",
     "output_type": "stream",
     "text": [
      "/usr/local/lib/python3.11/dist-packages/keras/src/saving/saving_lib.py:713: UserWarning: Skipping variable loading for optimizer 'adam', because it has 2 variables whereas the saved optimizer has 18 variables. \n",
      "  saveable.load_own_variables(weights_store.get(inner_path))\n"
     ]
    }
   ],
   "source": [
    "# Получаем лучшую модель\n",
    "best_model = tuner.get_best_models(num_models=1)[0]"
   ]
  },
  {
   "cell_type": "code",
   "execution_count": 73,
   "id": "11ced106",
   "metadata": {
    "execution": {
     "iopub.execute_input": "2025-06-10T21:12:39.166778Z",
     "iopub.status.busy": "2025-06-10T21:12:39.166446Z",
     "iopub.status.idle": "2025-06-10T21:19:50.550199Z",
     "shell.execute_reply": "2025-06-10T21:19:50.549162Z"
    },
    "papermill": {
     "duration": 431.441814,
     "end_time": "2025-06-10T21:19:50.551950",
     "exception": false,
     "start_time": "2025-06-10T21:12:39.110136",
     "status": "completed"
    },
    "tags": []
   },
   "outputs": [
    {
     "name": "stdout",
     "output_type": "stream",
     "text": [
      "Epoch 1/15\n",
      "\u001b[1m479/479\u001b[0m \u001b[32m━━━━━━━━━━━━━━━━━━━━\u001b[0m\u001b[37m\u001b[0m \u001b[1m90s\u001b[0m 179ms/step - accuracy: 0.2844 - loss: 1.8368 - val_accuracy: 0.2810 - val_loss: 1.8459\n",
      "Epoch 2/15\n",
      "\u001b[1m479/479\u001b[0m \u001b[32m━━━━━━━━━━━━━━━━━━━━\u001b[0m\u001b[37m\u001b[0m \u001b[1m86s\u001b[0m 180ms/step - accuracy: 0.2840 - loss: 1.8342 - val_accuracy: 0.2810 - val_loss: 1.8458\n",
      "Epoch 3/15\n",
      "\u001b[1m479/479\u001b[0m \u001b[32m━━━━━━━━━━━━━━━━━━━━\u001b[0m\u001b[37m\u001b[0m \u001b[1m84s\u001b[0m 176ms/step - accuracy: 0.2840 - loss: 1.8326 - val_accuracy: 0.2810 - val_loss: 1.8464\n",
      "Epoch 4/15\n",
      "\u001b[1m479/479\u001b[0m \u001b[32m━━━━━━━━━━━━━━━━━━━━\u001b[0m\u001b[37m\u001b[0m \u001b[1m85s\u001b[0m 178ms/step - accuracy: 0.2870 - loss: 1.8343 - val_accuracy: 0.2810 - val_loss: 1.8511\n",
      "Epoch 5/15\n",
      "\u001b[1m479/479\u001b[0m \u001b[32m━━━━━━━━━━━━━━━━━━━━\u001b[0m\u001b[37m\u001b[0m \u001b[1m85s\u001b[0m 178ms/step - accuracy: 0.2814 - loss: 1.8401 - val_accuracy: 0.2810 - val_loss: 1.8476\n"
     ]
    }
   ],
   "source": [
    "# Обучим финально на всём трейне\n",
    "history = best_model.fit(\n",
    "    X_train_rnn, y_train,\n",
    "    epochs=15,\n",
    "    batch_size=64,\n",
    "    validation_split=0.2,\n",
    "    callbacks=[EarlyStopping(patience=3)],\n",
    "    verbose=1\n",
    ")"
   ]
  },
  {
   "cell_type": "code",
   "execution_count": 74,
   "id": "481a79fa",
   "metadata": {
    "execution": {
     "iopub.execute_input": "2025-06-10T21:19:50.903239Z",
     "iopub.status.busy": "2025-06-10T21:19:50.902891Z",
     "iopub.status.idle": "2025-06-10T21:20:05.157555Z",
     "shell.execute_reply": "2025-06-10T21:20:05.156567Z"
    },
    "papermill": {
     "duration": 14.434207,
     "end_time": "2025-06-10T21:20:05.159162",
     "exception": false,
     "start_time": "2025-06-10T21:19:50.724955",
     "status": "completed"
    },
    "tags": []
   },
   "outputs": [
    {
     "name": "stdout",
     "output_type": "stream",
     "text": [
      "\u001b[1m299/299\u001b[0m \u001b[32m━━━━━━━━━━━━━━━━━━━━\u001b[0m\u001b[37m\u001b[0m \u001b[1m14s\u001b[0m 45ms/step\n",
      "                       precision    recall  f1-score   support\n",
      "\n",
      "               Access       0.00      0.00      0.00      1468\n",
      "Administrative rights       0.00      0.00      0.00       331\n",
      "           HR Support       0.00      0.00      0.00      2110\n",
      "             Hardware       0.29      1.00      0.45      2761\n",
      "     Internal Project       0.00      0.00      0.00       448\n",
      "        Miscellaneous       0.00      0.00      0.00      1397\n",
      "             Purchase       0.00      0.00      0.00       499\n",
      "              Storage       0.00      0.00      0.00       554\n",
      "\n",
      "             accuracy                           0.29      9568\n",
      "            macro avg       0.04      0.12      0.06      9568\n",
      "         weighted avg       0.08      0.29      0.13      9568\n",
      "\n"
     ]
    },
    {
     "name": "stderr",
     "output_type": "stream",
     "text": [
      "/usr/local/lib/python3.11/dist-packages/sklearn/metrics/_classification.py:1344: UndefinedMetricWarning: Precision and F-score are ill-defined and being set to 0.0 in labels with no predicted samples. Use `zero_division` parameter to control this behavior.\n",
      "  _warn_prf(average, modifier, msg_start, len(result))\n",
      "/usr/local/lib/python3.11/dist-packages/sklearn/metrics/_classification.py:1344: UndefinedMetricWarning: Precision and F-score are ill-defined and being set to 0.0 in labels with no predicted samples. Use `zero_division` parameter to control this behavior.\n",
      "  _warn_prf(average, modifier, msg_start, len(result))\n",
      "/usr/local/lib/python3.11/dist-packages/sklearn/metrics/_classification.py:1344: UndefinedMetricWarning: Precision and F-score are ill-defined and being set to 0.0 in labels with no predicted samples. Use `zero_division` parameter to control this behavior.\n",
      "  _warn_prf(average, modifier, msg_start, len(result))\n"
     ]
    }
   ],
   "source": [
    "y_pred = best_model.predict(X_test_rnn)\n",
    "y_pred_classes = np.argmax(y_pred, axis=1)\n",
    "\n",
    "print(classification_report(\n",
    "    le.inverse_transform(y_test),\n",
    "    le.inverse_transform(y_pred_classes)\n",
    "))"
   ]
  },
  {
   "cell_type": "markdown",
   "id": "e12b017e",
   "metadata": {
    "papermill": {
     "duration": 0.171842,
     "end_time": "2025-06-10T21:20:05.512834",
     "exception": false,
     "start_time": "2025-06-10T21:20:05.340992",
     "status": "completed"
    },
    "tags": []
   },
   "source": [
    "## BERT"
   ]
  },
  {
   "cell_type": "markdown",
   "id": "e608e7c6",
   "metadata": {
    "papermill": {
     "duration": 0.179785,
     "end_time": "2025-06-10T21:20:05.872405",
     "exception": false,
     "start_time": "2025-06-10T21:20:05.692620",
     "status": "completed"
    },
    "tags": []
   },
   "source": [
    "Since BERT-like models (including NeuroBERT-Tiny) expect **raw text strings** as input, at this stage the variable `x` should store the original document (`df['document']`), and not the previously cleaned one (`df['cleaned document']`)."
   ]
  },
  {
   "cell_type": "code",
   "execution_count": 75,
   "id": "6aa5fa0b",
   "metadata": {
    "execution": {
     "iopub.execute_input": "2025-06-10T21:20:06.332442Z",
     "iopub.status.busy": "2025-06-10T21:20:06.332126Z",
     "iopub.status.idle": "2025-06-10T21:20:06.336065Z",
     "shell.execute_reply": "2025-06-10T21:20:06.335223Z"
    },
    "papermill": {
     "duration": 0.267028,
     "end_time": "2025-06-10T21:20:06.337485",
     "exception": false,
     "start_time": "2025-06-10T21:20:06.070457",
     "status": "completed"
    },
    "tags": []
   },
   "outputs": [],
   "source": [
    "#pip install transformers torch"
   ]
  },
  {
   "cell_type": "code",
   "execution_count": 76,
   "id": "a4d56e28",
   "metadata": {
    "execution": {
     "iopub.execute_input": "2025-06-10T21:20:06.690842Z",
     "iopub.status.busy": "2025-06-10T21:20:06.690519Z",
     "iopub.status.idle": "2025-06-10T21:20:06.694451Z",
     "shell.execute_reply": "2025-06-10T21:20:06.693537Z"
    },
    "papermill": {
     "duration": 0.181742,
     "end_time": "2025-06-10T21:20:06.695862",
     "exception": false,
     "start_time": "2025-06-10T21:20:06.514120",
     "status": "completed"
    },
    "tags": []
   },
   "outputs": [],
   "source": [
    "##from transformers import AutoModelForMaskedLM, AutoTokenizer\n",
    "#model = AutoModelForMaskedLM.from_pretrained(\"boltuix/NeuroBERT-Tiny\")\n",
    "#tokenizer = AutoTokenizer.from_pretrained(\"boltuix/NeuroBERT-Tiny\")"
   ]
  },
  {
   "cell_type": "code",
   "execution_count": 77,
   "id": "27f9e267",
   "metadata": {
    "execution": {
     "iopub.execute_input": "2025-06-10T21:20:07.048625Z",
     "iopub.status.busy": "2025-06-10T21:20:07.048282Z",
     "iopub.status.idle": "2025-06-10T21:20:07.052300Z",
     "shell.execute_reply": "2025-06-10T21:20:07.051442Z"
    },
    "papermill": {
     "duration": 0.182299,
     "end_time": "2025-06-10T21:20:07.053672",
     "exception": false,
     "start_time": "2025-06-10T21:20:06.871373",
     "status": "completed"
    },
    "tags": []
   },
   "outputs": [],
   "source": [
    "#from transformers import AutoModelForMaskedLM, AutoTokenizer\n",
    "\n",
    "#model = AutoModelForMaskedLM.from_pretrained(\"nreimers/NeuroBERT-tiny\")\n",
    "#tokenizer = AutoTokenizer.from_pretrained(\"nreimers/NeuroBERT-tiny\")"
   ]
  }
 ],
 "metadata": {
  "kaggle": {
   "accelerator": "gpu",
   "dataSources": [
    {
     "datasetId": 4460055,
     "sourceId": 7650678,
     "sourceType": "datasetVersion"
    }
   ],
   "dockerImageVersionId": 31012,
   "isGpuEnabled": true,
   "isInternetEnabled": false,
   "language": "python",
   "sourceType": "notebook"
  },
  "kernelspec": {
   "display_name": "Python 3",
   "language": "python",
   "name": "python3"
  },
  "language_info": {
   "codemirror_mode": {
    "name": "ipython",
    "version": 3
   },
   "file_extension": ".py",
   "mimetype": "text/x-python",
   "name": "python",
   "nbconvert_exporter": "python",
   "pygments_lexer": "ipython3",
   "version": "3.11.11"
  },
  "papermill": {
   "default_parameters": {},
   "duration": 5809.929776,
   "end_time": "2025-06-10T21:20:11.041352",
   "environment_variables": {},
   "exception": null,
   "input_path": "__notebook__.ipynb",
   "output_path": "__notebook__.ipynb",
   "parameters": {},
   "start_time": "2025-06-10T19:43:21.111576",
   "version": "2.6.0"
  }
 },
 "nbformat": 4,
 "nbformat_minor": 5
}
