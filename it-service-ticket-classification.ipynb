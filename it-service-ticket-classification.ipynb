{
 "cells": [
  {
   "cell_type": "code",
   "execution_count": 1,
   "id": "beb94fd5",
   "metadata": {
    "_cell_guid": "b1076dfc-b9ad-4769-8c92-a6c4dae69d19",
    "_uuid": "8f2839f25d086af736a60e9eeb907d3b93b6e0e5",
    "execution": {
     "iopub.execute_input": "2025-06-09T14:22:00.187981Z",
     "iopub.status.busy": "2025-06-09T14:22:00.187665Z",
     "iopub.status.idle": "2025-06-09T14:22:02.258047Z",
     "shell.execute_reply": "2025-06-09T14:22:02.256997Z"
    },
    "papermill": {
     "duration": 2.086728,
     "end_time": "2025-06-09T14:22:02.259591",
     "exception": false,
     "start_time": "2025-06-09T14:22:00.172863",
     "status": "completed"
    },
    "tags": []
   },
   "outputs": [
    {
     "name": "stdout",
     "output_type": "stream",
     "text": [
      "/kaggle/input/it-service-ticket-classification-dataset/all_tickets_processed_improved_v3.csv\n"
     ]
    }
   ],
   "source": [
    "# This Python 3 environment comes with many helpful analytics libraries installed\n",
    "# It is defined by the kaggle/python Docker image: https://github.com/kaggle/docker-python\n",
    "# For example, here's several helpful packages to load\n",
    "\n",
    "import numpy as np # linear algebra\n",
    "import pandas as pd # data processing, CSV file I/O (e.g. pd.read_csv)\n",
    "\n",
    "# Input data files are available in the read-only \"../input/\" directory\n",
    "# For example, running this (by clicking run or pressing Shift+Enter) will list all files under the input directory\n",
    "\n",
    "import os\n",
    "for dirname, _, filenames in os.walk('/kaggle/input'):\n",
    "    for filename in filenames:\n",
    "        print(os.path.join(dirname, filename))\n",
    "\n",
    "# You can write up to 20GB to the current directory (/kaggle/working/) that gets preserved as output when you create a version using \"Save & Run All\" \n",
    "# You can also write temporary files to /kaggle/temp/, but they won't be saved outside of the current session"
   ]
  },
  {
   "cell_type": "markdown",
   "id": "804c100c",
   "metadata": {
    "papermill": {
     "duration": 0.012188,
     "end_time": "2025-06-09T14:22:02.284764",
     "exception": false,
     "start_time": "2025-06-09T14:22:02.272576",
     "status": "completed"
    },
    "tags": []
   },
   "source": [
    "кросс валидацию\n",
    "грид серч / что-то для тьюнинга гиперпараметров\n",
    "берт"
   ]
  },
  {
   "cell_type": "markdown",
   "id": "6a8e4cf5",
   "metadata": {
    "papermill": {
     "duration": 0.012199,
     "end_time": "2025-06-09T14:22:02.310013",
     "exception": false,
     "start_time": "2025-06-09T14:22:02.297814",
     "status": "completed"
    },
    "tags": []
   },
   "source": [
    "# Loading data"
   ]
  },
  {
   "cell_type": "code",
   "execution_count": 2,
   "id": "5f700aad",
   "metadata": {
    "execution": {
     "iopub.execute_input": "2025-06-09T14:22:02.337053Z",
     "iopub.status.busy": "2025-06-09T14:22:02.336640Z",
     "iopub.status.idle": "2025-06-09T14:22:02.341111Z",
     "shell.execute_reply": "2025-06-09T14:22:02.340299Z"
    },
    "papermill": {
     "duration": 0.019391,
     "end_time": "2025-06-09T14:22:02.342586",
     "exception": false,
     "start_time": "2025-06-09T14:22:02.323195",
     "status": "completed"
    },
    "tags": []
   },
   "outputs": [],
   "source": [
    "import pandas as pd\n",
    "import numpy as np\n",
    "import matplotlib.pyplot as plt "
   ]
  },
  {
   "cell_type": "code",
   "execution_count": 3,
   "id": "ce4d2ada",
   "metadata": {
    "execution": {
     "iopub.execute_input": "2025-06-09T14:22:02.369526Z",
     "iopub.status.busy": "2025-06-09T14:22:02.368875Z",
     "iopub.status.idle": "2025-06-09T14:22:02.866142Z",
     "shell.execute_reply": "2025-06-09T14:22:02.865057Z"
    },
    "papermill": {
     "duration": 0.512221,
     "end_time": "2025-06-09T14:22:02.867611",
     "exception": false,
     "start_time": "2025-06-09T14:22:02.355390",
     "status": "completed"
    },
    "tags": []
   },
   "outputs": [
    {
     "name": "stdout",
     "output_type": "stream",
     "text": [
      "Path to dataset files: /kaggle/input/it-service-ticket-classification-dataset\n"
     ]
    }
   ],
   "source": [
    "import kagglehub\n",
    "\n",
    "# Download latest version\n",
    "path = kagglehub.dataset_download(\"adisongoh/it-service-ticket-classification-dataset\")\n",
    "\n",
    "print(\"Path to dataset files:\", path)"
   ]
  },
  {
   "cell_type": "code",
   "execution_count": 4,
   "id": "f0efb195",
   "metadata": {
    "execution": {
     "iopub.execute_input": "2025-06-09T14:22:02.893903Z",
     "iopub.status.busy": "2025-06-09T14:22:02.893621Z",
     "iopub.status.idle": "2025-06-09T14:22:03.309539Z",
     "shell.execute_reply": "2025-06-09T14:22:03.308535Z"
    },
    "papermill": {
     "duration": 0.431365,
     "end_time": "2025-06-09T14:22:03.311244",
     "exception": false,
     "start_time": "2025-06-09T14:22:02.879879",
     "status": "completed"
    },
    "tags": []
   },
   "outputs": [],
   "source": [
    "#reading df\n",
    "df = pd.read_csv('/kaggle/input/it-service-ticket-classification-dataset/all_tickets_processed_improved_v3.csv')"
   ]
  },
  {
   "cell_type": "code",
   "execution_count": 5,
   "id": "30bb8e27",
   "metadata": {
    "execution": {
     "iopub.execute_input": "2025-06-09T14:22:03.337526Z",
     "iopub.status.busy": "2025-06-09T14:22:03.336707Z",
     "iopub.status.idle": "2025-06-09T14:22:03.389275Z",
     "shell.execute_reply": "2025-06-09T14:22:03.388332Z"
    },
    "papermill": {
     "duration": 0.067019,
     "end_time": "2025-06-09T14:22:03.390725",
     "exception": false,
     "start_time": "2025-06-09T14:22:03.323706",
     "status": "completed"
    },
    "tags": []
   },
   "outputs": [
    {
     "name": "stdout",
     "output_type": "stream",
     "text": [
      "<class 'pandas.core.frame.DataFrame'>\n",
      "RangeIndex: 47837 entries, 0 to 47836\n",
      "Data columns (total 2 columns):\n",
      " #   Column       Non-Null Count  Dtype \n",
      "---  ------       --------------  ----- \n",
      " 0   Document     47837 non-null  object\n",
      " 1   Topic_group  47837 non-null  object\n",
      "dtypes: object(2)\n",
      "memory usage: 747.6+ KB\n"
     ]
    }
   ],
   "source": [
    "df.info()"
   ]
  },
  {
   "cell_type": "code",
   "execution_count": 6,
   "id": "ab50d408",
   "metadata": {
    "execution": {
     "iopub.execute_input": "2025-06-09T14:22:03.416740Z",
     "iopub.status.busy": "2025-06-09T14:22:03.416444Z",
     "iopub.status.idle": "2025-06-09T14:22:03.437400Z",
     "shell.execute_reply": "2025-06-09T14:22:03.436544Z"
    },
    "papermill": {
     "duration": 0.03561,
     "end_time": "2025-06-09T14:22:03.438871",
     "exception": false,
     "start_time": "2025-06-09T14:22:03.403261",
     "status": "completed"
    },
    "tags": []
   },
   "outputs": [
    {
     "data": {
      "text/html": [
       "<div>\n",
       "<style scoped>\n",
       "    .dataframe tbody tr th:only-of-type {\n",
       "        vertical-align: middle;\n",
       "    }\n",
       "\n",
       "    .dataframe tbody tr th {\n",
       "        vertical-align: top;\n",
       "    }\n",
       "\n",
       "    .dataframe thead th {\n",
       "        text-align: right;\n",
       "    }\n",
       "</style>\n",
       "<table border=\"1\" class=\"dataframe\">\n",
       "  <thead>\n",
       "    <tr style=\"text-align: right;\">\n",
       "      <th></th>\n",
       "      <th>Document</th>\n",
       "      <th>Topic_group</th>\n",
       "    </tr>\n",
       "  </thead>\n",
       "  <tbody>\n",
       "    <tr>\n",
       "      <th>0</th>\n",
       "      <td>connection with icon icon dear please setup ic...</td>\n",
       "      <td>Hardware</td>\n",
       "    </tr>\n",
       "    <tr>\n",
       "      <th>1</th>\n",
       "      <td>work experience user work experience user hi w...</td>\n",
       "      <td>Access</td>\n",
       "    </tr>\n",
       "    <tr>\n",
       "      <th>2</th>\n",
       "      <td>requesting for meeting requesting meeting hi p...</td>\n",
       "      <td>Hardware</td>\n",
       "    </tr>\n",
       "    <tr>\n",
       "      <th>3</th>\n",
       "      <td>reset passwords for external accounts re expir...</td>\n",
       "      <td>Access</td>\n",
       "    </tr>\n",
       "    <tr>\n",
       "      <th>4</th>\n",
       "      <td>mail verification warning hi has got attached ...</td>\n",
       "      <td>Miscellaneous</td>\n",
       "    </tr>\n",
       "  </tbody>\n",
       "</table>\n",
       "</div>"
      ],
      "text/plain": [
       "                                            Document    Topic_group\n",
       "0  connection with icon icon dear please setup ic...       Hardware\n",
       "1  work experience user work experience user hi w...         Access\n",
       "2  requesting for meeting requesting meeting hi p...       Hardware\n",
       "3  reset passwords for external accounts re expir...         Access\n",
       "4  mail verification warning hi has got attached ...  Miscellaneous"
      ]
     },
     "execution_count": 6,
     "metadata": {},
     "output_type": "execute_result"
    }
   ],
   "source": [
    "#quick preview of the df\n",
    "df.head()"
   ]
  },
  {
   "cell_type": "code",
   "execution_count": 7,
   "id": "85de3e6d",
   "metadata": {
    "execution": {
     "iopub.execute_input": "2025-06-09T14:22:03.531600Z",
     "iopub.status.busy": "2025-06-09T14:22:03.531307Z",
     "iopub.status.idle": "2025-06-09T14:22:03.543339Z",
     "shell.execute_reply": "2025-06-09T14:22:03.542434Z"
    },
    "papermill": {
     "duration": 0.026939,
     "end_time": "2025-06-09T14:22:03.544855",
     "exception": false,
     "start_time": "2025-06-09T14:22:03.517916",
     "status": "completed"
    },
    "tags": []
   },
   "outputs": [
    {
     "data": {
      "text/plain": [
       "array(['Hardware', 'Access', 'Miscellaneous', 'HR Support', 'Purchase',\n",
       "       'Administrative rights', 'Storage', 'Internal Project'],\n",
       "      dtype=object)"
      ]
     },
     "execution_count": 7,
     "metadata": {},
     "output_type": "execute_result"
    }
   ],
   "source": [
    "#viewing unique values (categories) in Topic_group\n",
    "df['Topic_group'].nunique()\n",
    "df['Topic_group'].unique()"
   ]
  },
  {
   "cell_type": "code",
   "execution_count": 8,
   "id": "3d808a7a",
   "metadata": {
    "execution": {
     "iopub.execute_input": "2025-06-09T14:22:03.572641Z",
     "iopub.status.busy": "2025-06-09T14:22:03.572317Z",
     "iopub.status.idle": "2025-06-09T14:22:03.588334Z",
     "shell.execute_reply": "2025-06-09T14:22:03.587448Z"
    },
    "papermill": {
     "duration": 0.031458,
     "end_time": "2025-06-09T14:22:03.589673",
     "exception": false,
     "start_time": "2025-06-09T14:22:03.558215",
     "status": "completed"
    },
    "tags": []
   },
   "outputs": [
    {
     "data": {
      "text/plain": [
       "Document       0\n",
       "Topic_group    0\n",
       "dtype: int64"
      ]
     },
     "execution_count": 8,
     "metadata": {},
     "output_type": "execute_result"
    }
   ],
   "source": [
    "#checking na\n",
    "df.isnull().sum()"
   ]
  },
  {
   "cell_type": "code",
   "execution_count": 9,
   "id": "e718ed77",
   "metadata": {
    "execution": {
     "iopub.execute_input": "2025-06-09T14:22:03.616550Z",
     "iopub.status.busy": "2025-06-09T14:22:03.616205Z",
     "iopub.status.idle": "2025-06-09T14:22:03.675141Z",
     "shell.execute_reply": "2025-06-09T14:22:03.674301Z"
    },
    "papermill": {
     "duration": 0.074173,
     "end_time": "2025-06-09T14:22:03.676778",
     "exception": false,
     "start_time": "2025-06-09T14:22:03.602605",
     "status": "completed"
    },
    "tags": []
   },
   "outputs": [
    {
     "data": {
      "text/plain": [
       "0"
      ]
     },
     "execution_count": 9,
     "metadata": {},
     "output_type": "execute_result"
    }
   ],
   "source": [
    "#checking duplicates\n",
    "df.duplicated().sum()"
   ]
  },
  {
   "cell_type": "markdown",
   "id": "97094300",
   "metadata": {
    "papermill": {
     "duration": 0.013001,
     "end_time": "2025-06-09T14:22:03.703037",
     "exception": false,
     "start_time": "2025-06-09T14:22:03.690036",
     "status": "completed"
    },
    "tags": []
   },
   "source": [
    "# Text Preprocessing"
   ]
  },
  {
   "cell_type": "code",
   "execution_count": 10,
   "id": "8d01ed3c",
   "metadata": {
    "execution": {
     "iopub.execute_input": "2025-06-09T14:22:03.729691Z",
     "iopub.status.busy": "2025-06-09T14:22:03.729376Z",
     "iopub.status.idle": "2025-06-09T14:22:04.069916Z",
     "shell.execute_reply": "2025-06-09T14:22:04.069159Z"
    },
    "papermill": {
     "duration": 0.355817,
     "end_time": "2025-06-09T14:22:04.071566",
     "exception": false,
     "start_time": "2025-06-09T14:22:03.715749",
     "status": "completed"
    },
    "tags": []
   },
   "outputs": [],
   "source": [
    "import re\n",
    "import string\n",
    "from bs4 import BeautifulSoup"
   ]
  },
  {
   "cell_type": "code",
   "execution_count": 11,
   "id": "78927124",
   "metadata": {
    "execution": {
     "iopub.execute_input": "2025-06-09T14:22:04.100458Z",
     "iopub.status.busy": "2025-06-09T14:22:04.099954Z",
     "iopub.status.idle": "2025-06-09T14:22:04.105242Z",
     "shell.execute_reply": "2025-06-09T14:22:04.104450Z"
    },
    "papermill": {
     "duration": 0.020486,
     "end_time": "2025-06-09T14:22:04.106629",
     "exception": false,
     "start_time": "2025-06-09T14:22:04.086143",
     "status": "completed"
    },
    "tags": []
   },
   "outputs": [],
   "source": [
    "def cleaned_text (text):\n",
    "    text = text.lower() #converting to lower case\n",
    "    text = re.sub(r'\\d+', '', text) #removing numbers\n",
    "    text = text.translate(str.maketrans('', '', string.punctuation)) \n",
    "    #removing punctuation\n",
    "    text = re.sub(r'\\W', ' ', text) #removing special characters\n",
    "    text = BeautifulSoup(text, \"html.parser\").get_text() #removing HTML tags\n",
    "    return text"
   ]
  },
  {
   "cell_type": "code",
   "execution_count": 12,
   "id": "a063bdd5",
   "metadata": {
    "execution": {
     "iopub.execute_input": "2025-06-09T14:22:04.134065Z",
     "iopub.status.busy": "2025-06-09T14:22:04.133795Z",
     "iopub.status.idle": "2025-06-09T14:22:07.409993Z",
     "shell.execute_reply": "2025-06-09T14:22:07.409084Z"
    },
    "papermill": {
     "duration": 3.292114,
     "end_time": "2025-06-09T14:22:07.411696",
     "exception": false,
     "start_time": "2025-06-09T14:22:04.119582",
     "status": "completed"
    },
    "tags": []
   },
   "outputs": [],
   "source": [
    "df['Cleaned_Document'] = df['Document'].apply(cleaned_text)"
   ]
  },
  {
   "cell_type": "code",
   "execution_count": 13,
   "id": "9c8ae10f",
   "metadata": {
    "execution": {
     "iopub.execute_input": "2025-06-09T14:22:07.438139Z",
     "iopub.status.busy": "2025-06-09T14:22:07.437803Z",
     "iopub.status.idle": "2025-06-09T14:22:10.082323Z",
     "shell.execute_reply": "2025-06-09T14:22:10.081345Z"
    },
    "papermill": {
     "duration": 2.659345,
     "end_time": "2025-06-09T14:22:10.083935",
     "exception": false,
     "start_time": "2025-06-09T14:22:07.424590",
     "status": "completed"
    },
    "tags": []
   },
   "outputs": [],
   "source": [
    "import nltk\n",
    "\n",
    "#specifying the path to the already downloaded punkt dataset and other packages\n",
    "nltk.data.path.append('/kaggle/input/nltk-datasets/nltk_data')"
   ]
  },
  {
   "cell_type": "code",
   "execution_count": 14,
   "id": "fa284c2d",
   "metadata": {
    "execution": {
     "iopub.execute_input": "2025-06-09T14:22:10.112855Z",
     "iopub.status.busy": "2025-06-09T14:22:10.112390Z",
     "iopub.status.idle": "2025-06-09T14:22:10.117227Z",
     "shell.execute_reply": "2025-06-09T14:22:10.116350Z"
    },
    "papermill": {
     "duration": 0.020336,
     "end_time": "2025-06-09T14:22:10.118675",
     "exception": false,
     "start_time": "2025-06-09T14:22:10.098339",
     "status": "completed"
    },
    "tags": []
   },
   "outputs": [],
   "source": [
    "from nltk.tokenize import word_tokenize"
   ]
  },
  {
   "cell_type": "code",
   "execution_count": 15,
   "id": "1f0f8018",
   "metadata": {
    "execution": {
     "iopub.execute_input": "2025-06-09T14:22:10.145149Z",
     "iopub.status.busy": "2025-06-09T14:22:10.144825Z",
     "iopub.status.idle": "2025-06-09T14:22:18.801170Z",
     "shell.execute_reply": "2025-06-09T14:22:18.800384Z"
    },
    "papermill": {
     "duration": 8.671346,
     "end_time": "2025-06-09T14:22:18.802891",
     "exception": false,
     "start_time": "2025-06-09T14:22:10.131545",
     "status": "completed"
    },
    "tags": []
   },
   "outputs": [],
   "source": [
    "#splitting text into words\n",
    "df['Cleaned_Document'] = df['Cleaned_Document'].apply(word_tokenize)"
   ]
  },
  {
   "cell_type": "code",
   "execution_count": 16,
   "id": "5f8b8d27",
   "metadata": {
    "execution": {
     "iopub.execute_input": "2025-06-09T14:22:18.830094Z",
     "iopub.status.busy": "2025-06-09T14:22:18.829738Z",
     "iopub.status.idle": "2025-06-09T14:22:18.838781Z",
     "shell.execute_reply": "2025-06-09T14:22:18.837938Z"
    },
    "papermill": {
     "duration": 0.024331,
     "end_time": "2025-06-09T14:22:18.840146",
     "exception": false,
     "start_time": "2025-06-09T14:22:18.815815",
     "status": "completed"
    },
    "tags": []
   },
   "outputs": [
    {
     "data": {
      "text/plain": [
       "0        [connection, with, icon, icon, dear, please, s...\n",
       "1        [work, experience, user, work, experience, use...\n",
       "2        [requesting, for, meeting, requesting, meeting...\n",
       "3        [reset, passwords, for, external, accounts, re...\n",
       "4        [mail, verification, warning, hi, has, got, at...\n",
       "                               ...                        \n",
       "47832    [git, space, for, a, project, issues, with, ad...\n",
       "47833    [error, sent, july, error, hi, guys, can, you,...\n",
       "47834    [connection, issues, sent, tuesday, july, conn...\n",
       "47835    [error, cube, reports, sent, tuesday, july, er...\n",
       "47836    [running, out, on, extensions, hello, please, ...\n",
       "Name: Cleaned_Document, Length: 47837, dtype: object"
      ]
     },
     "execution_count": 16,
     "metadata": {},
     "output_type": "execute_result"
    }
   ],
   "source": [
    "df['Cleaned_Document']"
   ]
  },
  {
   "cell_type": "code",
   "execution_count": 17,
   "id": "1a3e804a",
   "metadata": {
    "execution": {
     "iopub.execute_input": "2025-06-09T14:22:18.867195Z",
     "iopub.status.busy": "2025-06-09T14:22:18.866821Z",
     "iopub.status.idle": "2025-06-09T14:22:18.877011Z",
     "shell.execute_reply": "2025-06-09T14:22:18.875993Z"
    },
    "papermill": {
     "duration": 0.025569,
     "end_time": "2025-06-09T14:22:18.878612",
     "exception": false,
     "start_time": "2025-06-09T14:22:18.853043",
     "status": "completed"
    },
    "tags": []
   },
   "outputs": [
    {
     "name": "stdout",
     "output_type": "stream",
     "text": [
      "198\n"
     ]
    }
   ],
   "source": [
    "#removing stop-words\n",
    "from nltk.corpus import stopwords\n",
    "stop_words = set(stopwords.words('english'))\n",
    "print(len(stop_words)) #checking that stop-words are downloaded"
   ]
  },
  {
   "cell_type": "code",
   "execution_count": 18,
   "id": "5297f117",
   "metadata": {
    "execution": {
     "iopub.execute_input": "2025-06-09T14:22:18.905755Z",
     "iopub.status.busy": "2025-06-09T14:22:18.905458Z",
     "iopub.status.idle": "2025-06-09T14:22:19.381171Z",
     "shell.execute_reply": "2025-06-09T14:22:19.380348Z"
    },
    "papermill": {
     "duration": 0.490932,
     "end_time": "2025-06-09T14:22:19.382707",
     "exception": false,
     "start_time": "2025-06-09T14:22:18.891775",
     "status": "completed"
    },
    "tags": []
   },
   "outputs": [],
   "source": [
    "df['Cleaned_Document'] = df['Cleaned_Document'].apply(\n",
    "    lambda toks: [w for w in toks if w not in stop_words]\n",
    ")"
   ]
  },
  {
   "cell_type": "code",
   "execution_count": 19,
   "id": "73260bf2",
   "metadata": {
    "execution": {
     "iopub.execute_input": "2025-06-09T14:22:19.409663Z",
     "iopub.status.busy": "2025-06-09T14:22:19.409326Z",
     "iopub.status.idle": "2025-06-09T14:22:19.418963Z",
     "shell.execute_reply": "2025-06-09T14:22:19.418265Z"
    },
    "papermill": {
     "duration": 0.024804,
     "end_time": "2025-06-09T14:22:19.420381",
     "exception": false,
     "start_time": "2025-06-09T14:22:19.395577",
     "status": "completed"
    },
    "tags": []
   },
   "outputs": [
    {
     "data": {
      "text/plain": [
       "0        [connection, icon, icon, dear, please, setup, ...\n",
       "1        [work, experience, user, work, experience, use...\n",
       "2        [requesting, meeting, requesting, meeting, hi,...\n",
       "3        [reset, passwords, external, accounts, expire,...\n",
       "4        [mail, verification, warning, hi, got, attache...\n",
       "                               ...                        \n",
       "47832    [git, space, project, issues, adding, users, s...\n",
       "47833    [error, sent, july, error, hi, guys, help, err...\n",
       "47834    [connection, issues, sent, tuesday, july, conn...\n",
       "47835    [error, cube, reports, sent, tuesday, july, er...\n",
       "47836    [running, extensions, hello, please, advised, ...\n",
       "Name: Cleaned_Document, Length: 47837, dtype: object"
      ]
     },
     "execution_count": 19,
     "metadata": {},
     "output_type": "execute_result"
    }
   ],
   "source": [
    "df['Cleaned_Document']"
   ]
  },
  {
   "cell_type": "code",
   "execution_count": 20,
   "id": "4df5d052",
   "metadata": {
    "execution": {
     "iopub.execute_input": "2025-06-09T14:22:19.447555Z",
     "iopub.status.busy": "2025-06-09T14:22:19.447247Z",
     "iopub.status.idle": "2025-06-09T14:22:30.288830Z",
     "shell.execute_reply": "2025-06-09T14:22:30.287925Z"
    },
    "papermill": {
     "duration": 10.857026,
     "end_time": "2025-06-09T14:22:30.290514",
     "exception": false,
     "start_time": "2025-06-09T14:22:19.433488",
     "status": "completed"
    },
    "tags": []
   },
   "outputs": [],
   "source": [
    "#lemmatization\n",
    "from nltk.stem import PorterStemmer, WordNetLemmatizer\n",
    "lemmatizer = WordNetLemmatizer()\n",
    "df['Cleaned_Document'] = df['Cleaned_Document'].apply(lambda doc: [lemmatizer.lemmatize(word) for word in doc])"
   ]
  },
  {
   "cell_type": "code",
   "execution_count": 21,
   "id": "232fbfca",
   "metadata": {
    "execution": {
     "iopub.execute_input": "2025-06-09T14:22:30.328141Z",
     "iopub.status.busy": "2025-06-09T14:22:30.327786Z",
     "iopub.status.idle": "2025-06-09T14:22:30.337533Z",
     "shell.execute_reply": "2025-06-09T14:22:30.336606Z"
    },
    "papermill": {
     "duration": 0.032046,
     "end_time": "2025-06-09T14:22:30.338852",
     "exception": false,
     "start_time": "2025-06-09T14:22:30.306806",
     "status": "completed"
    },
    "tags": []
   },
   "outputs": [
    {
     "data": {
      "text/plain": [
       "0     [connection, icon, icon, dear, please, setup, ...\n",
       "1     [work, experience, user, work, experience, use...\n",
       "2     [requesting, meeting, requesting, meeting, hi,...\n",
       "3     [reset, password, external, account, expire, d...\n",
       "4     [mail, verification, warning, hi, got, attache...\n",
       "5     [mail, please, dear, look, blacklisted, receiv...\n",
       "6     [prod, server, tunneling, prod, tunneling, va,...\n",
       "7     [access, request, dear, module, report, report...\n",
       "8     [reset, password, client, password, client, de...\n",
       "9     [direct, report, missing, time, please, action...\n",
       "10    [laptop, connected, request, rebuild, connecte...\n",
       "11    [device, recovery, report, printer, alert, dup...\n",
       "12            [new, starter, hello, please, fill, date]\n",
       "13    [visual, studio, license, visual, studio, lice...\n",
       "14    [system, hello, movement, left, available, dev...\n",
       "15    [access, secondary, secondary, hi, please, pro...\n",
       "16    [list, sent, copy, copy, hi, receive, copy, be...\n",
       "17    [new, purchase, po, purchase, po, dear, purcha...\n",
       "18    [invitation, cloud, strategy, workshop, februa...\n",
       "19    [change, sale, owner, contract, change, owner,...\n",
       "Name: Cleaned_Document, dtype: object"
      ]
     },
     "execution_count": 21,
     "metadata": {},
     "output_type": "execute_result"
    }
   ],
   "source": [
    "df['Cleaned_Document'].head(20)"
   ]
  },
  {
   "cell_type": "code",
   "execution_count": 22,
   "id": "e7850367",
   "metadata": {
    "execution": {
     "iopub.execute_input": "2025-06-09T14:22:30.367009Z",
     "iopub.status.busy": "2025-06-09T14:22:30.366467Z",
     "iopub.status.idle": "2025-06-09T14:22:30.377645Z",
     "shell.execute_reply": "2025-06-09T14:22:30.376680Z"
    },
    "papermill": {
     "duration": 0.026988,
     "end_time": "2025-06-09T14:22:30.379212",
     "exception": false,
     "start_time": "2025-06-09T14:22:30.352224",
     "status": "completed"
    },
    "tags": []
   },
   "outputs": [
    {
     "data": {
      "text/plain": [
       "47817    [submit, expense, even, though, added, electro...\n",
       "47818    [job, referral, available, sent, thursday, jul...\n",
       "47819    [oracle, update, another, bug, sent, thursday,...\n",
       "47820    [social, error, sent, thursday, july, error, d...\n",
       "47821    [backup, server, performance, issue, sent, thu...\n",
       "47822    [approving, expense, project, code, related, w...\n",
       "47823    [bug, sent, wednesday, july, bug, hello, disco...\n",
       "47824    [oracle, fusion, working, message, unplanned, ...\n",
       "47825    [issue, sent, friday, july, hi, issue, somethi...\n",
       "47826    [oracle, error, sent, thursday, july, error, h...\n",
       "47827    [bandwidth, problem, sent, thursday, july, ban...\n",
       "47828    [password, expire, day, sent, july, password, ...\n",
       "47829    [sensitive, information, access, sent, wednesd...\n",
       "47830    [malfunction, sent, tuesday, july, malfunction...\n",
       "47831    [outlook, account, laptop, laptop, sa, sa, si,...\n",
       "47832    [git, space, project, issue, adding, user, sen...\n",
       "47833    [error, sent, july, error, hi, guy, help, erro...\n",
       "47834    [connection, issue, sent, tuesday, july, conne...\n",
       "47835    [error, cube, report, sent, tuesday, july, err...\n",
       "47836    [running, extension, hello, please, advised, r...\n",
       "Name: Cleaned_Document, dtype: object"
      ]
     },
     "execution_count": 22,
     "metadata": {},
     "output_type": "execute_result"
    }
   ],
   "source": [
    "df['Cleaned_Document'].tail(20)"
   ]
  },
  {
   "cell_type": "markdown",
   "id": "ce2f5321",
   "metadata": {
    "papermill": {
     "duration": 0.013355,
     "end_time": "2025-06-09T14:22:30.406171",
     "exception": false,
     "start_time": "2025-06-09T14:22:30.392816",
     "status": "completed"
    },
    "tags": []
   },
   "source": [
    "As I can see, besides stop words, the corpus contains many words like 'please', 'hi', 'hello', etc. These words can affect the efficiency of the algorithm, so I would remove them manually."
   ]
  },
  {
   "cell_type": "code",
   "execution_count": 23,
   "id": "d9d31d97",
   "metadata": {
    "execution": {
     "iopub.execute_input": "2025-06-09T14:22:30.435198Z",
     "iopub.status.busy": "2025-06-09T14:22:30.434465Z",
     "iopub.status.idle": "2025-06-09T14:22:31.073543Z",
     "shell.execute_reply": "2025-06-09T14:22:31.072617Z"
    },
    "papermill": {
     "duration": 0.655535,
     "end_time": "2025-06-09T14:22:31.075229",
     "exception": false,
     "start_time": "2025-06-09T14:22:30.419694",
     "status": "completed"
    },
    "tags": []
   },
   "outputs": [],
   "source": [
    "custom_stopwords = ['hi', 'hello', 'dear', 'please', 'help', 'guy', 'guys',\n",
    "                   'thanks', 'thank', 'regards', 'best', 'hey', 'appreciate',\n",
    "                    'sorry', 'welcome', 'cheers', 'hello', 'goodbye', 'bye',\n",
    "                    'kindly', 'gladly']\n",
    "\n",
    "df['Cleaned_Document'] = df['Cleaned_Document'].apply(\n",
    "    lambda doc: [word for word in doc if word not in custom_stopwords]\n",
    ")"
   ]
  },
  {
   "cell_type": "code",
   "execution_count": 24,
   "id": "101d67f0",
   "metadata": {
    "execution": {
     "iopub.execute_input": "2025-06-09T14:22:31.104838Z",
     "iopub.status.busy": "2025-06-09T14:22:31.103884Z",
     "iopub.status.idle": "2025-06-09T14:22:31.112537Z",
     "shell.execute_reply": "2025-06-09T14:22:31.111638Z"
    },
    "papermill": {
     "duration": 0.024682,
     "end_time": "2025-06-09T14:22:31.113935",
     "exception": false,
     "start_time": "2025-06-09T14:22:31.089253",
     "status": "completed"
    },
    "tags": []
   },
   "outputs": [
    {
     "data": {
      "text/plain": [
       "0        [connection, icon, icon, setup, icon, per, ico...\n",
       "1        [work, experience, user, work, experience, use...\n",
       "2        [requesting, meeting, requesting, meeting, fol...\n",
       "3        [reset, password, external, account, expire, d...\n",
       "4        [mail, verification, warning, got, attached, a...\n",
       "                               ...                        \n",
       "47832    [git, space, project, issue, adding, user, sen...\n",
       "47833    [error, sent, july, error, error, appearing, w...\n",
       "47834    [connection, issue, sent, tuesday, july, conne...\n",
       "47835    [error, cube, report, sent, tuesday, july, err...\n",
       "47836    [running, extension, advised, running, extensi...\n",
       "Name: Cleaned_Document, Length: 47837, dtype: object"
      ]
     },
     "execution_count": 24,
     "metadata": {},
     "output_type": "execute_result"
    }
   ],
   "source": [
    "df['Cleaned_Document']"
   ]
  },
  {
   "cell_type": "code",
   "execution_count": 25,
   "id": "c1df85b1",
   "metadata": {
    "execution": {
     "iopub.execute_input": "2025-06-09T14:22:31.143087Z",
     "iopub.status.busy": "2025-06-09T14:22:31.142693Z",
     "iopub.status.idle": "2025-06-09T14:22:31.355091Z",
     "shell.execute_reply": "2025-06-09T14:22:31.354201Z"
    },
    "papermill": {
     "duration": 0.228172,
     "end_time": "2025-06-09T14:22:31.356764",
     "exception": false,
     "start_time": "2025-06-09T14:22:31.128592",
     "status": "completed"
    },
    "tags": []
   },
   "outputs": [],
   "source": [
    "#%pip install contractions\n",
    "#import contractions\n",
    "\n",
    "contraction_map = {\n",
    "    \"aren't\": \"are not\",\n",
    "    \"can't\": \"cannot\",\n",
    "    \"couldn't\": \"could not\",\n",
    "    \"didn't\": \"did not\",\n",
    "    \"doesn't\": \"does not\",\n",
    "    \"don't\": \"do not\",\n",
    "    \"hadn't\": \"had not\",\n",
    "    \"hasn't\": \"has not\",\n",
    "    \"haven't\": \"have not\",\n",
    "    \"he'd\": \"he would\",\n",
    "    \"he'll\": \"he will\",\n",
    "    \"he's\": \"he is\",\n",
    "    \"i'd\": \"i would\",\n",
    "    \"i'll\": \"i will\",\n",
    "    \"i'm\": \"i am\",\n",
    "    \"i've\": \"i have\",\n",
    "    \"isn't\": \"is not\",\n",
    "    \"it's\": \"it is\",\n",
    "    \"let's\": \"let us\",\n",
    "    \"mightn't\": \"might not\",\n",
    "    \"mustn't\": \"must not\",\n",
    "    \"shan't\": \"shall not\",\n",
    "    \"she'd\": \"she would\",\n",
    "    \"she'll\": \"she will\",\n",
    "    \"she's\": \"she is\",\n",
    "    \"shouldn't\": \"should not\",\n",
    "    \"that's\": \"that is\",\n",
    "    \"there's\": \"there is\",\n",
    "    \"they'd\": \"they would\",\n",
    "    \"they'll\": \"they will\",\n",
    "    \"they're\": \"they are\",\n",
    "    \"they've\": \"they have\",\n",
    "    \"we'd\": \"we would\",\n",
    "    \"we're\": \"we are\",\n",
    "    \"we've\": \"we have\",\n",
    "    \"weren't\": \"were not\",\n",
    "    \"what'll\": \"what will\",\n",
    "    \"what're\": \"what are\",\n",
    "    \"what's\": \"what is\",\n",
    "    \"what've\": \"what have\",\n",
    "    \"where's\": \"where is\",\n",
    "    \"who's\": \"who is\",\n",
    "    \"who'll\": \"who will\",\n",
    "    \"won't\": \"will not\",\n",
    "    \"wouldn't\": \"would not\",\n",
    "    \"you'd\": \"you would\",\n",
    "    \"you'll\": \"you will\",\n",
    "    \"you're\": \"you are\",\n",
    "    \"you've\": \"you have\"\n",
    "}\n",
    "\n",
    "def expand_contractions_tokenized(doc):\n",
    "    return [contraction_map.get(word, word) for word in doc]\n",
    "\n",
    "df['Cleaned_Document'] = df['Cleaned_Document'].apply(expand_contractions_tokenized)"
   ]
  },
  {
   "cell_type": "code",
   "execution_count": 26,
   "id": "46abdf63",
   "metadata": {
    "execution": {
     "iopub.execute_input": "2025-06-09T14:22:31.386384Z",
     "iopub.status.busy": "2025-06-09T14:22:31.386022Z",
     "iopub.status.idle": "2025-06-09T14:22:31.394523Z",
     "shell.execute_reply": "2025-06-09T14:22:31.393801Z"
    },
    "papermill": {
     "duration": 0.024601,
     "end_time": "2025-06-09T14:22:31.395775",
     "exception": false,
     "start_time": "2025-06-09T14:22:31.371174",
     "status": "completed"
    },
    "tags": []
   },
   "outputs": [
    {
     "data": {
      "text/plain": [
       "0        [connection, icon, icon, setup, icon, per, ico...\n",
       "1        [work, experience, user, work, experience, use...\n",
       "2        [requesting, meeting, requesting, meeting, fol...\n",
       "3        [reset, password, external, account, expire, d...\n",
       "4        [mail, verification, warning, got, attached, a...\n",
       "                               ...                        \n",
       "47832    [git, space, project, issue, adding, user, sen...\n",
       "47833    [error, sent, july, error, error, appearing, w...\n",
       "47834    [connection, issue, sent, tuesday, july, conne...\n",
       "47835    [error, cube, report, sent, tuesday, july, err...\n",
       "47836    [running, extension, advised, running, extensi...\n",
       "Name: Cleaned_Document, Length: 47837, dtype: object"
      ]
     },
     "execution_count": 26,
     "metadata": {},
     "output_type": "execute_result"
    }
   ],
   "source": [
    "df['Cleaned_Document'] "
   ]
  },
  {
   "cell_type": "code",
   "execution_count": 27,
   "id": "34f0c8ef",
   "metadata": {
    "execution": {
     "iopub.execute_input": "2025-06-09T14:22:31.425038Z",
     "iopub.status.busy": "2025-06-09T14:22:31.424719Z",
     "iopub.status.idle": "2025-06-09T14:22:33.093529Z",
     "shell.execute_reply": "2025-06-09T14:22:33.092446Z"
    },
    "papermill": {
     "duration": 1.685133,
     "end_time": "2025-06-09T14:22:33.095175",
     "exception": false,
     "start_time": "2025-06-09T14:22:31.410042",
     "status": "completed"
    },
    "tags": []
   },
   "outputs": [],
   "source": [
    "#saving dataset\n",
    "df['Cleaned_Document_Str'] = df['Cleaned_Document'].apply(lambda tokens: ' '.join(tokens))\n",
    "df.to_csv('cleaned_dataset.csv', index=False)"
   ]
  },
  {
   "cell_type": "markdown",
   "id": "7c7a73d1",
   "metadata": {
    "papermill": {
     "duration": 0.013806,
     "end_time": "2025-06-09T14:22:33.122866",
     "exception": false,
     "start_time": "2025-06-09T14:22:33.109060",
     "status": "completed"
    },
    "tags": []
   },
   "source": [
    "# EDA"
   ]
  },
  {
   "cell_type": "code",
   "execution_count": 28,
   "id": "45576ce1",
   "metadata": {
    "execution": {
     "iopub.execute_input": "2025-06-09T14:22:33.152153Z",
     "iopub.status.busy": "2025-06-09T14:22:33.151792Z",
     "iopub.status.idle": "2025-06-09T14:22:33.182803Z",
     "shell.execute_reply": "2025-06-09T14:22:33.181721Z"
    },
    "papermill": {
     "duration": 0.047281,
     "end_time": "2025-06-09T14:22:33.184497",
     "exception": false,
     "start_time": "2025-06-09T14:22:33.137216",
     "status": "completed"
    },
    "tags": []
   },
   "outputs": [
    {
     "name": "stdout",
     "output_type": "stream",
     "text": [
      "count    47837.000000\n",
      "mean        33.148860\n",
      "std         44.508495\n",
      "min          0.000000\n",
      "25%         12.000000\n",
      "50%         20.000000\n",
      "75%         35.000000\n",
      "max        817.000000\n",
      "Name: doc_length, dtype: float64\n"
     ]
    }
   ],
   "source": [
    "#number of tokens per document.\n",
    "df['doc_length'] = df['Cleaned_Document'].apply(len)\n",
    "print(df['doc_length'].describe())"
   ]
  },
  {
   "cell_type": "markdown",
   "id": "c17351c5",
   "metadata": {
    "papermill": {
     "duration": 0.013762,
     "end_time": "2025-06-09T14:22:33.212586",
     "exception": false,
     "start_time": "2025-06-09T14:22:33.198824",
     "status": "completed"
    },
    "tags": []
   },
   "source": [
    "As we can see, there are some tickets with zero tokens, meaning they are essentially empty"
   ]
  },
  {
   "cell_type": "code",
   "execution_count": 29,
   "id": "c7c85f38",
   "metadata": {
    "execution": {
     "iopub.execute_input": "2025-06-09T14:22:33.241644Z",
     "iopub.status.busy": "2025-06-09T14:22:33.241329Z",
     "iopub.status.idle": "2025-06-09T14:22:33.254054Z",
     "shell.execute_reply": "2025-06-09T14:22:33.253242Z"
    },
    "papermill": {
     "duration": 0.028991,
     "end_time": "2025-06-09T14:22:33.255553",
     "exception": false,
     "start_time": "2025-06-09T14:22:33.226562",
     "status": "completed"
    },
    "tags": []
   },
   "outputs": [
    {
     "data": {
      "text/html": [
       "<div>\n",
       "<style scoped>\n",
       "    .dataframe tbody tr th:only-of-type {\n",
       "        vertical-align: middle;\n",
       "    }\n",
       "\n",
       "    .dataframe tbody tr th {\n",
       "        vertical-align: top;\n",
       "    }\n",
       "\n",
       "    .dataframe thead th {\n",
       "        text-align: right;\n",
       "    }\n",
       "</style>\n",
       "<table border=\"1\" class=\"dataframe\">\n",
       "  <thead>\n",
       "    <tr style=\"text-align: right;\">\n",
       "      <th></th>\n",
       "      <th>Document</th>\n",
       "      <th>Topic_group</th>\n",
       "      <th>Cleaned_Document</th>\n",
       "      <th>Cleaned_Document_Str</th>\n",
       "      <th>doc_length</th>\n",
       "    </tr>\n",
       "  </thead>\n",
       "  <tbody>\n",
       "    <tr>\n",
       "      <th>35590</th>\n",
       "      <td>for is down again for down again hi for down a...</td>\n",
       "      <td>Administrative rights</td>\n",
       "      <td>[]</td>\n",
       "      <td></td>\n",
       "      <td>0</td>\n",
       "    </tr>\n",
       "  </tbody>\n",
       "</table>\n",
       "</div>"
      ],
      "text/plain": [
       "                                                Document  \\\n",
       "35590  for is down again for down again hi for down a...   \n",
       "\n",
       "                 Topic_group Cleaned_Document Cleaned_Document_Str  doc_length  \n",
       "35590  Administrative rights               []                                0  "
      ]
     },
     "execution_count": 29,
     "metadata": {},
     "output_type": "execute_result"
    }
   ],
   "source": [
    "df[df['doc_length'] == 0]"
   ]
  },
  {
   "cell_type": "code",
   "execution_count": 30,
   "id": "1fd67caa",
   "metadata": {
    "execution": {
     "iopub.execute_input": "2025-06-09T14:22:33.284420Z",
     "iopub.status.busy": "2025-06-09T14:22:33.284028Z",
     "iopub.status.idle": "2025-06-09T14:22:33.295880Z",
     "shell.execute_reply": "2025-06-09T14:22:33.295025Z"
    },
    "papermill": {
     "duration": 0.028216,
     "end_time": "2025-06-09T14:22:33.297576",
     "exception": false,
     "start_time": "2025-06-09T14:22:33.269360",
     "status": "completed"
    },
    "tags": []
   },
   "outputs": [],
   "source": [
    "df = df[df['doc_length'] != 0]"
   ]
  },
  {
   "cell_type": "code",
   "execution_count": 31,
   "id": "5dffb59f",
   "metadata": {
    "execution": {
     "iopub.execute_input": "2025-06-09T14:22:33.327355Z",
     "iopub.status.busy": "2025-06-09T14:22:33.326545Z",
     "iopub.status.idle": "2025-06-09T14:22:34.636311Z",
     "shell.execute_reply": "2025-06-09T14:22:34.635276Z"
    },
    "papermill": {
     "duration": 1.326153,
     "end_time": "2025-06-09T14:22:34.637818",
     "exception": false,
     "start_time": "2025-06-09T14:22:33.311665",
     "status": "completed"
    },
    "tags": []
   },
   "outputs": [
    {
     "name": "stdout",
     "output_type": "stream",
     "text": [
      "[('pm', 28902), ('regard', 27286), ('sent', 14717), ('issue', 14176), ('access', 13309), ('kind', 13252), ('tuesday', 10899), ('wednesday', 10429), ('error', 10152), ('thursday', 9937)]\n"
     ]
    }
   ],
   "source": [
    "from nltk.probability import FreqDist\n",
    "# Убираем NaN и взрываем списки токенов в один Series\n",
    "doc = df['Cleaned_Document'].dropna().explode()\n",
    "\n",
    "# Фильтруем только строки\n",
    "doc = doc[doc.apply(lambda x: isinstance(x, str))]\n",
    "\n",
    "# Считаем частоты\n",
    "fdist = FreqDist(doc)\n",
    "\n",
    "# Топ-10\n",
    "top10 = fdist.most_common(10)\n",
    "print(top10)"
   ]
  },
  {
   "cell_type": "code",
   "execution_count": 32,
   "id": "5b287bdf",
   "metadata": {
    "execution": {
     "iopub.execute_input": "2025-06-09T14:22:34.666425Z",
     "iopub.status.busy": "2025-06-09T14:22:34.666058Z",
     "iopub.status.idle": "2025-06-09T14:22:34.857720Z",
     "shell.execute_reply": "2025-06-09T14:22:34.856967Z"
    },
    "papermill": {
     "duration": 0.20742,
     "end_time": "2025-06-09T14:22:34.859060",
     "exception": false,
     "start_time": "2025-06-09T14:22:34.651640",
     "status": "completed"
    },
    "tags": []
   },
   "outputs": [
    {
     "name": "stdout",
     "output_type": "stream",
     "text": [
      "Lexical Diversity: 0.00662\n"
     ]
    }
   ],
   "source": [
    "#lexical diversity\n",
    "total = len(doc)\n",
    "unique = len(set(doc))\n",
    "lex_div = unique / total\n",
    "print(f\"Lexical Diversity: {lex_div:.5f}\")"
   ]
  },
  {
   "cell_type": "code",
   "execution_count": 33,
   "id": "fde45f64",
   "metadata": {
    "execution": {
     "iopub.execute_input": "2025-06-09T14:22:34.887901Z",
     "iopub.status.busy": "2025-06-09T14:22:34.887588Z",
     "iopub.status.idle": "2025-06-09T14:22:35.293746Z",
     "shell.execute_reply": "2025-06-09T14:22:35.292655Z"
    },
    "papermill": {
     "duration": 0.422311,
     "end_time": "2025-06-09T14:22:35.295361",
     "exception": false,
     "start_time": "2025-06-09T14:22:34.873050",
     "status": "completed"
    },
    "tags": []
   },
   "outputs": [
    {
     "name": "stdout",
     "output_type": "stream",
     "text": [
      "Avg. word length (mean): 6.14\n",
      "Avg. word length (median): 6.00\n"
     ]
    }
   ],
   "source": [
    "word_lengths = [len(w) for w in doc]\n",
    "print(f\"Avg. word length (mean): {np.mean(word_lengths):.2f}\")\n",
    "print(f\"Avg. word length (median): {np.median(word_lengths):.2f}\")"
   ]
  },
  {
   "cell_type": "code",
   "execution_count": 34,
   "id": "839837fc",
   "metadata": {
    "execution": {
     "iopub.execute_input": "2025-06-09T14:22:35.326771Z",
     "iopub.status.busy": "2025-06-09T14:22:35.326464Z",
     "iopub.status.idle": "2025-06-09T14:22:35.345292Z",
     "shell.execute_reply": "2025-06-09T14:22:35.344217Z"
    },
    "papermill": {
     "duration": 0.036897,
     "end_time": "2025-06-09T14:22:35.346670",
     "exception": false,
     "start_time": "2025-06-09T14:22:35.309773",
     "status": "completed"
    },
    "tags": []
   },
   "outputs": [
    {
     "name": "stdout",
     "output_type": "stream",
     "text": [
      "Avg. ticket length (mean): 33.15\n",
      "Avg. ticket length (median): 20.00\n"
     ]
    }
   ],
   "source": [
    "ticket_length = [len(w) for w in df['Cleaned_Document']]\n",
    "print(f\"Avg. ticket length (mean): {np.mean(ticket_length):.2f}\")\n",
    "print(f\"Avg. ticket length (median): {np.median(ticket_length):.2f}\")"
   ]
  },
  {
   "cell_type": "code",
   "execution_count": 35,
   "id": "025837e7",
   "metadata": {
    "execution": {
     "iopub.execute_input": "2025-06-09T14:22:35.376400Z",
     "iopub.status.busy": "2025-06-09T14:22:35.375589Z",
     "iopub.status.idle": "2025-06-09T14:22:35.783898Z",
     "shell.execute_reply": "2025-06-09T14:22:35.783100Z"
    },
    "papermill": {
     "duration": 0.425116,
     "end_time": "2025-06-09T14:22:35.785712",
     "exception": false,
     "start_time": "2025-06-09T14:22:35.360596",
     "status": "completed"
    },
    "tags": []
   },
   "outputs": [
    {
     "data": {
      "text/plain": [
       "<Axes: xlabel='Samples', ylabel='Counts'>"
      ]
     },
     "execution_count": 35,
     "metadata": {},
     "output_type": "execute_result"
    },
    {
     "data": {
      "image/png": "[encoded data removed]",
      "text/plain": [
       "<Figure size 640x480 with 1 Axes>"
      ]
     },
     "metadata": {},
     "output_type": "display_data"
    }
   ],
   "source": [
    "fdist.plot(30, cumulative=False)  "
   ]
  },
  {
   "cell_type": "code",
   "execution_count": 36,
   "id": "2194b450",
   "metadata": {
    "execution": {
     "iopub.execute_input": "2025-06-09T14:22:35.818560Z",
     "iopub.status.busy": "2025-06-09T14:22:35.817702Z",
     "iopub.status.idle": "2025-06-09T14:22:43.773797Z",
     "shell.execute_reply": "2025-06-09T14:22:43.772922Z"
    },
    "papermill": {
     "duration": 7.975921,
     "end_time": "2025-06-09T14:22:43.777643",
     "exception": false,
     "start_time": "2025-06-09T14:22:35.801722",
     "status": "completed"
    },
    "tags": []
   },
   "outputs": [
    {
     "data": {
      "image/png": "[encoded data removed]",
      "text/plain": [
       "<Figure size 640x480 with 1 Axes>"
      ]
     },
     "metadata": {},
     "output_type": "display_data"
    }
   ],
   "source": [
    "from wordcloud import WordCloud \n",
    "wc = WordCloud(width=800, height=400).generate(' '.join(doc))\n",
    "plt.imshow(wc, interpolation='bilinear')\n",
    "plt.axis('off')\n",
    "plt.show()"
   ]
  },
  {
   "cell_type": "markdown",
   "id": "7c6011dd",
   "metadata": {
    "papermill": {
     "duration": 0.01851,
     "end_time": "2025-06-09T14:22:43.815504",
     "exception": false,
     "start_time": "2025-06-09T14:22:43.796994",
     "status": "completed"
    },
    "tags": []
   },
   "source": [
    "Since it's classification task, let's check ticket distribution"
   ]
  },
  {
   "cell_type": "code",
   "execution_count": 37,
   "id": "0cee063c",
   "metadata": {
    "execution": {
     "iopub.execute_input": "2025-06-09T14:22:43.853754Z",
     "iopub.status.busy": "2025-06-09T14:22:43.853286Z",
     "iopub.status.idle": "2025-06-09T14:22:43.866751Z",
     "shell.execute_reply": "2025-06-09T14:22:43.866038Z"
    },
    "papermill": {
     "duration": 0.034059,
     "end_time": "2025-06-09T14:22:43.868016",
     "exception": false,
     "start_time": "2025-06-09T14:22:43.833957",
     "status": "completed"
    },
    "tags": []
   },
   "outputs": [
    {
     "data": {
      "text/plain": [
       "count        47836\n",
       "unique           8\n",
       "top       Hardware\n",
       "freq         13617\n",
       "Name: Topic_group, dtype: object"
      ]
     },
     "execution_count": 37,
     "metadata": {},
     "output_type": "execute_result"
    }
   ],
   "source": [
    "df['Topic_group'].describe()"
   ]
  },
  {
   "cell_type": "code",
   "execution_count": 38,
   "id": "8804180e",
   "metadata": {
    "execution": {
     "iopub.execute_input": "2025-06-09T14:22:43.906622Z",
     "iopub.status.busy": "2025-06-09T14:22:43.906313Z",
     "iopub.status.idle": "2025-06-09T14:22:43.915349Z",
     "shell.execute_reply": "2025-06-09T14:22:43.914238Z"
    },
    "papermill": {
     "duration": 0.03013,
     "end_time": "2025-06-09T14:22:43.916787",
     "exception": false,
     "start_time": "2025-06-09T14:22:43.886657",
     "status": "completed"
    },
    "tags": []
   },
   "outputs": [
    {
     "name": "stdout",
     "output_type": "stream",
     "text": [
      "Topic_group\n",
      "Hardware                 13617\n",
      "HR Support               10915\n",
      "Access                    7125\n",
      "Miscellaneous             7060\n",
      "Storage                   2777\n",
      "Purchase                  2464\n",
      "Internal Project          2119\n",
      "Administrative rights     1759\n",
      "Name: count, dtype: int64\n"
     ]
    }
   ],
   "source": [
    "print(df['Topic_group'].value_counts())"
   ]
  },
  {
   "cell_type": "code",
   "execution_count": 39,
   "id": "d84f7237",
   "metadata": {
    "execution": {
     "iopub.execute_input": "2025-06-09T14:22:43.956141Z",
     "iopub.status.busy": "2025-06-09T14:22:43.955776Z",
     "iopub.status.idle": "2025-06-09T14:22:44.106716Z",
     "shell.execute_reply": "2025-06-09T14:22:44.105804Z"
    },
    "papermill": {
     "duration": 0.171938,
     "end_time": "2025-06-09T14:22:44.108277",
     "exception": false,
     "start_time": "2025-06-09T14:22:43.936339",
     "status": "completed"
    },
    "tags": []
   },
   "outputs": [
    {
     "data": {
      "image/png": "[encoded data removed]",
      "text/plain": [
       "<Figure size 700x500 with 1 Axes>"
      ]
     },
     "metadata": {},
     "output_type": "display_data"
    }
   ],
   "source": [
    "group_counts = df['Topic_group'].value_counts()\n",
    "\n",
    "plt.figure(figsize=(7, 5))\n",
    "plt.pie(group_counts, labels=group_counts.index, autopct=\"%1.1f%%\" )\n",
    "plt.title('Distribution into groups')\n",
    "plt.show()"
   ]
  },
  {
   "cell_type": "code",
   "execution_count": 40,
   "id": "b381a9a6",
   "metadata": {
    "execution": {
     "iopub.execute_input": "2025-06-09T14:22:44.148801Z",
     "iopub.status.busy": "2025-06-09T14:22:44.148030Z",
     "iopub.status.idle": "2025-06-09T14:22:44.173336Z",
     "shell.execute_reply": "2025-06-09T14:22:44.172349Z"
    },
    "papermill": {
     "duration": 0.046695,
     "end_time": "2025-06-09T14:22:44.174698",
     "exception": false,
     "start_time": "2025-06-09T14:22:44.128003",
     "status": "completed"
    },
    "tags": []
   },
   "outputs": [
    {
     "name": "stdout",
     "output_type": "stream",
     "text": [
      "<class 'pandas.core.frame.DataFrame'>\n",
      "Index: 47836 entries, 0 to 47836\n",
      "Data columns (total 5 columns):\n",
      " #   Column                Non-Null Count  Dtype \n",
      "---  ------                --------------  ----- \n",
      " 0   Document              47836 non-null  object\n",
      " 1   Topic_group           47836 non-null  object\n",
      " 2   Cleaned_Document      47836 non-null  object\n",
      " 3   Cleaned_Document_Str  47836 non-null  object\n",
      " 4   doc_length            47836 non-null  int64 \n",
      "dtypes: int64(1), object(4)\n",
      "memory usage: 2.2+ MB\n"
     ]
    }
   ],
   "source": [
    "df.info()"
   ]
  },
  {
   "cell_type": "markdown",
   "id": "d7376b57",
   "metadata": {
    "papermill": {
     "duration": 0.018797,
     "end_time": "2025-06-09T14:22:44.213851",
     "exception": false,
     "start_time": "2025-06-09T14:22:44.195054",
     "status": "completed"
    },
    "tags": []
   },
   "source": [
    "# Classification"
   ]
  },
  {
   "cell_type": "markdown",
   "id": "71f5299b",
   "metadata": {
    "papermill": {
     "duration": 0.019111,
     "end_time": "2025-06-09T14:22:44.252514",
     "exception": false,
     "start_time": "2025-06-09T14:22:44.233403",
     "status": "completed"
    },
    "tags": []
   },
   "source": [
    "**note: classes are imbalanced, check the perfomance later**"
   ]
  },
  {
   "cell_type": "code",
   "execution_count": 41,
   "id": "30139c78",
   "metadata": {
    "execution": {
     "iopub.execute_input": "2025-06-09T14:22:44.293822Z",
     "iopub.status.busy": "2025-06-09T14:22:44.293046Z",
     "iopub.status.idle": "2025-06-09T14:22:44.304490Z",
     "shell.execute_reply": "2025-06-09T14:22:44.303721Z"
    },
    "papermill": {
     "duration": 0.032678,
     "end_time": "2025-06-09T14:22:44.305811",
     "exception": false,
     "start_time": "2025-06-09T14:22:44.273133",
     "status": "completed"
    },
    "tags": []
   },
   "outputs": [
    {
     "data": {
      "text/html": [
       "<div>\n",
       "<style scoped>\n",
       "    .dataframe tbody tr th:only-of-type {\n",
       "        vertical-align: middle;\n",
       "    }\n",
       "\n",
       "    .dataframe tbody tr th {\n",
       "        vertical-align: top;\n",
       "    }\n",
       "\n",
       "    .dataframe thead th {\n",
       "        text-align: right;\n",
       "    }\n",
       "</style>\n",
       "<table border=\"1\" class=\"dataframe\">\n",
       "  <thead>\n",
       "    <tr style=\"text-align: right;\">\n",
       "      <th></th>\n",
       "      <th>Document</th>\n",
       "      <th>Topic_group</th>\n",
       "      <th>Cleaned_Document</th>\n",
       "      <th>Cleaned_Document_Str</th>\n",
       "      <th>doc_length</th>\n",
       "    </tr>\n",
       "  </thead>\n",
       "  <tbody>\n",
       "    <tr>\n",
       "      <th>0</th>\n",
       "      <td>connection with icon icon dear please setup ic...</td>\n",
       "      <td>Hardware</td>\n",
       "      <td>[connection, icon, icon, setup, icon, per, ico...</td>\n",
       "      <td>connection icon icon setup icon per icon engin...</td>\n",
       "      <td>12</td>\n",
       "    </tr>\n",
       "    <tr>\n",
       "      <th>1</th>\n",
       "      <td>work experience user work experience user hi w...</td>\n",
       "      <td>Access</td>\n",
       "      <td>[work, experience, user, work, experience, use...</td>\n",
       "      <td>work experience user work experience user work...</td>\n",
       "      <td>14</td>\n",
       "    </tr>\n",
       "    <tr>\n",
       "      <th>2</th>\n",
       "      <td>requesting for meeting requesting meeting hi p...</td>\n",
       "      <td>Hardware</td>\n",
       "      <td>[requesting, meeting, requesting, meeting, fol...</td>\n",
       "      <td>requesting meeting requesting meeting follow e...</td>\n",
       "      <td>10</td>\n",
       "    </tr>\n",
       "    <tr>\n",
       "      <th>3</th>\n",
       "      <td>reset passwords for external accounts re expir...</td>\n",
       "      <td>Access</td>\n",
       "      <td>[reset, password, external, account, expire, d...</td>\n",
       "      <td>reset password external account expire day ask...</td>\n",
       "      <td>112</td>\n",
       "    </tr>\n",
       "    <tr>\n",
       "      <th>4</th>\n",
       "      <td>mail verification warning hi has got attached ...</td>\n",
       "      <td>Miscellaneous</td>\n",
       "      <td>[mail, verification, warning, got, attached, a...</td>\n",
       "      <td>mail verification warning got attached address...</td>\n",
       "      <td>11</td>\n",
       "    </tr>\n",
       "  </tbody>\n",
       "</table>\n",
       "</div>"
      ],
      "text/plain": [
       "                                            Document    Topic_group  \\\n",
       "0  connection with icon icon dear please setup ic...       Hardware   \n",
       "1  work experience user work experience user hi w...         Access   \n",
       "2  requesting for meeting requesting meeting hi p...       Hardware   \n",
       "3  reset passwords for external accounts re expir...         Access   \n",
       "4  mail verification warning hi has got attached ...  Miscellaneous   \n",
       "\n",
       "                                    Cleaned_Document  \\\n",
       "0  [connection, icon, icon, setup, icon, per, ico...   \n",
       "1  [work, experience, user, work, experience, use...   \n",
       "2  [requesting, meeting, requesting, meeting, fol...   \n",
       "3  [reset, password, external, account, expire, d...   \n",
       "4  [mail, verification, warning, got, attached, a...   \n",
       "\n",
       "                                Cleaned_Document_Str  doc_length  \n",
       "0  connection icon icon setup icon per icon engin...          12  \n",
       "1  work experience user work experience user work...          14  \n",
       "2  requesting meeting requesting meeting follow e...          10  \n",
       "3  reset password external account expire day ask...         112  \n",
       "4  mail verification warning got attached address...          11  "
      ]
     },
     "execution_count": 41,
     "metadata": {},
     "output_type": "execute_result"
    }
   ],
   "source": [
    "df.head()"
   ]
  },
  {
   "cell_type": "code",
   "execution_count": 42,
   "id": "44e44612",
   "metadata": {
    "execution": {
     "iopub.execute_input": "2025-06-09T14:22:44.347380Z",
     "iopub.status.busy": "2025-06-09T14:22:44.347024Z",
     "iopub.status.idle": "2025-06-09T14:22:44.354810Z",
     "shell.execute_reply": "2025-06-09T14:22:44.354118Z"
    },
    "papermill": {
     "duration": 0.029931,
     "end_time": "2025-06-09T14:22:44.356197",
     "exception": false,
     "start_time": "2025-06-09T14:22:44.326266",
     "status": "completed"
    },
    "tags": []
   },
   "outputs": [
    {
     "data": {
      "text/plain": [
       "array(['Hardware', 'Access', 'Miscellaneous', 'HR Support', 'Purchase',\n",
       "       'Administrative rights', 'Storage', 'Internal Project'],\n",
       "      dtype=object)"
      ]
     },
     "execution_count": 42,
     "metadata": {},
     "output_type": "execute_result"
    }
   ],
   "source": [
    "df['Topic_group'].unique()"
   ]
  },
  {
   "cell_type": "code",
   "execution_count": 43,
   "id": "65fa50dc",
   "metadata": {
    "execution": {
     "iopub.execute_input": "2025-06-09T14:22:44.396817Z",
     "iopub.status.busy": "2025-06-09T14:22:44.395918Z",
     "iopub.status.idle": "2025-06-09T14:22:47.580024Z",
     "shell.execute_reply": "2025-06-09T14:22:47.579125Z"
    },
    "papermill": {
     "duration": 3.206095,
     "end_time": "2025-06-09T14:22:47.581765",
     "exception": false,
     "start_time": "2025-06-09T14:22:44.375670",
     "status": "completed"
    },
    "tags": []
   },
   "outputs": [],
   "source": [
    "#TF-IDF\n",
    "from sklearn.feature_extraction.text import TfidfVectorizer\n",
    "\n",
    "vectorizer = TfidfVectorizer(min_df=5, max_df=0.8, ngram_range=(1,2))\n",
    "X = vectorizer.fit_transform(df['Cleaned_Document_Str'])"
   ]
  },
  {
   "cell_type": "code",
   "execution_count": 44,
   "id": "51b6bac2",
   "metadata": {
    "execution": {
     "iopub.execute_input": "2025-06-09T14:22:47.622062Z",
     "iopub.status.busy": "2025-06-09T14:22:47.621749Z",
     "iopub.status.idle": "2025-06-09T14:22:47.634530Z",
     "shell.execute_reply": "2025-06-09T14:22:47.633818Z"
    },
    "papermill": {
     "duration": 0.034245,
     "end_time": "2025-06-09T14:22:47.635793",
     "exception": false,
     "start_time": "2025-06-09T14:22:47.601548",
     "status": "completed"
    },
    "tags": []
   },
   "outputs": [],
   "source": [
    "#encoding target variable\n",
    "from sklearn.preprocessing import LabelEncoder\n",
    "\n",
    "le = LabelEncoder()\n",
    "y = le.fit_transform(df['Topic_group'])"
   ]
  },
  {
   "cell_type": "markdown",
   "id": "096b0928",
   "metadata": {
    "papermill": {
     "duration": 0.020036,
     "end_time": "2025-06-09T14:22:47.675457",
     "exception": false,
     "start_time": "2025-06-09T14:22:47.655421",
     "status": "completed"
    },
    "tags": []
   },
   "source": [
    "## Logistic Regression"
   ]
  },
  {
   "cell_type": "code",
   "execution_count": 45,
   "id": "59cfb620",
   "metadata": {
    "execution": {
     "iopub.execute_input": "2025-06-09T14:22:47.717412Z",
     "iopub.status.busy": "2025-06-09T14:22:47.717101Z",
     "iopub.status.idle": "2025-06-09T14:22:47.721488Z",
     "shell.execute_reply": "2025-06-09T14:22:47.720698Z"
    },
    "papermill": {
     "duration": 0.027257,
     "end_time": "2025-06-09T14:22:47.722911",
     "exception": false,
     "start_time": "2025-06-09T14:22:47.695654",
     "status": "completed"
    },
    "tags": []
   },
   "outputs": [],
   "source": [
    "from sklearn.linear_model import LogisticRegression\n",
    "from sklearn.model_selection import train_test_split\n",
    "from sklearn.metrics import classification_report"
   ]
  },
  {
   "cell_type": "code",
   "execution_count": 46,
   "id": "70324b42",
   "metadata": {
    "execution": {
     "iopub.execute_input": "2025-06-09T14:22:47.764058Z",
     "iopub.status.busy": "2025-06-09T14:22:47.763728Z",
     "iopub.status.idle": "2025-06-09T14:23:16.127929Z",
     "shell.execute_reply": "2025-06-09T14:23:16.125538Z"
    },
    "papermill": {
     "duration": 28.386677,
     "end_time": "2025-06-09T14:23:16.130036",
     "exception": false,
     "start_time": "2025-06-09T14:22:47.743359",
     "status": "completed"
    },
    "tags": []
   },
   "outputs": [
    {
     "name": "stdout",
     "output_type": "stream",
     "text": [
      "              precision    recall  f1-score   support\n",
      "\n",
      "           0       0.92      0.87      0.89      1468\n",
      "           1       0.91      0.64      0.75       331\n",
      "           2       0.85      0.85      0.85      2110\n",
      "           3       0.79      0.90      0.84      2761\n",
      "           4       0.92      0.78      0.84       448\n",
      "           5       0.83      0.84      0.83      1397\n",
      "           6       0.98      0.87      0.92       499\n",
      "           7       0.94      0.82      0.88       554\n",
      "\n",
      "    accuracy                           0.85      9568\n",
      "   macro avg       0.89      0.82      0.85      9568\n",
      "weighted avg       0.86      0.85      0.85      9568\n",
      "\n"
     ]
    }
   ],
   "source": [
    "X_train, X_test, y_train, y_test = train_test_split(X, y, test_size=0.2, random_state=42)\n",
    "clf = LogisticRegression(max_iter=1000)\n",
    "clf.fit(X_train, y_train)\n",
    "preds = clf.predict(X_test)\n",
    "print(classification_report(y_test, preds))"
   ]
  },
  {
   "cell_type": "markdown",
   "id": "068a5ce3",
   "metadata": {
    "papermill": {
     "duration": 0.029222,
     "end_time": "2025-06-09T14:23:16.193152",
     "exception": false,
     "start_time": "2025-06-09T14:23:16.163930",
     "status": "completed"
    },
    "tags": []
   },
   "source": [
    "## Decision Trees / Random Forest / XGBoost:"
   ]
  },
  {
   "cell_type": "code",
   "execution_count": 47,
   "id": "95b824f4",
   "metadata": {
    "execution": {
     "iopub.execute_input": "2025-06-09T14:23:16.235186Z",
     "iopub.status.busy": "2025-06-09T14:23:16.234840Z",
     "iopub.status.idle": "2025-06-09T14:25:41.048556Z",
     "shell.execute_reply": "2025-06-09T14:25:41.047701Z"
    },
    "papermill": {
     "duration": 144.857238,
     "end_time": "2025-06-09T14:25:41.070692",
     "exception": false,
     "start_time": "2025-06-09T14:23:16.213454",
     "status": "completed"
    },
    "tags": []
   },
   "outputs": [
    {
     "name": "stdout",
     "output_type": "stream",
     "text": [
      "              precision    recall  f1-score   support\n",
      "\n",
      "           0       0.90      0.85      0.88      1468\n",
      "           1       0.91      0.62      0.74       331\n",
      "           2       0.84      0.86      0.85      2110\n",
      "           3       0.77      0.89      0.83      2761\n",
      "           4       0.93      0.78      0.85       448\n",
      "           5       0.84      0.78      0.81      1397\n",
      "           6       0.98      0.86      0.92       499\n",
      "           7       0.93      0.77      0.84       554\n",
      "\n",
      "    accuracy                           0.84      9568\n",
      "   macro avg       0.89      0.80      0.84      9568\n",
      "weighted avg       0.85      0.84      0.84      9568\n",
      "\n"
     ]
    }
   ],
   "source": [
    "from sklearn.ensemble import RandomForestClassifier\n",
    "\n",
    "rf_clf = RandomForestClassifier(random_state=42)\n",
    "rf_clf.fit(X_train, y_train)\n",
    "rf_preds = rf_clf.predict(X_test)\n",
    "print(classification_report(y_test, rf_preds))"
   ]
  },
  {
   "cell_type": "markdown",
   "id": "56c096c8",
   "metadata": {
    "papermill": {
     "duration": 0.019799,
     "end_time": "2025-06-09T14:25:41.110200",
     "exception": false,
     "start_time": "2025-06-09T14:25:41.090401",
     "status": "completed"
    },
    "tags": []
   },
   "source": [
    "## RNN"
   ]
  },
  {
   "cell_type": "code",
   "execution_count": 48,
   "id": "0314ee6b",
   "metadata": {
    "execution": {
     "iopub.execute_input": "2025-06-09T14:25:41.151585Z",
     "iopub.status.busy": "2025-06-09T14:25:41.151301Z",
     "iopub.status.idle": "2025-06-09T14:25:41.178151Z",
     "shell.execute_reply": "2025-06-09T14:25:41.177114Z"
    },
    "papermill": {
     "duration": 0.049108,
     "end_time": "2025-06-09T14:25:41.179551",
     "exception": false,
     "start_time": "2025-06-09T14:25:41.130443",
     "status": "completed"
    },
    "tags": []
   },
   "outputs": [
    {
     "name": "stdout",
     "output_type": "stream",
     "text": [
      "<class 'pandas.core.frame.DataFrame'>\n",
      "Index: 47836 entries, 0 to 47836\n",
      "Data columns (total 5 columns):\n",
      " #   Column                Non-Null Count  Dtype \n",
      "---  ------                --------------  ----- \n",
      " 0   Document              47836 non-null  object\n",
      " 1   Topic_group           47836 non-null  object\n",
      " 2   Cleaned_Document      47836 non-null  object\n",
      " 3   Cleaned_Document_Str  47836 non-null  object\n",
      " 4   doc_length            47836 non-null  int64 \n",
      "dtypes: int64(1), object(4)\n",
      "memory usage: 2.2+ MB\n"
     ]
    }
   ],
   "source": [
    "df.info()"
   ]
  },
  {
   "cell_type": "code",
   "execution_count": 49,
   "id": "90a30c86",
   "metadata": {
    "execution": {
     "iopub.execute_input": "2025-06-09T14:25:41.220815Z",
     "iopub.status.busy": "2025-06-09T14:25:41.220525Z",
     "iopub.status.idle": "2025-06-09T14:25:41.231925Z",
     "shell.execute_reply": "2025-06-09T14:25:41.231123Z"
    },
    "papermill": {
     "duration": 0.033752,
     "end_time": "2025-06-09T14:25:41.233439",
     "exception": false,
     "start_time": "2025-06-09T14:25:41.199687",
     "status": "completed"
    },
    "tags": []
   },
   "outputs": [
    {
     "data": {
      "text/html": [
       "<div>\n",
       "<style scoped>\n",
       "    .dataframe tbody tr th:only-of-type {\n",
       "        vertical-align: middle;\n",
       "    }\n",
       "\n",
       "    .dataframe tbody tr th {\n",
       "        vertical-align: top;\n",
       "    }\n",
       "\n",
       "    .dataframe thead th {\n",
       "        text-align: right;\n",
       "    }\n",
       "</style>\n",
       "<table border=\"1\" class=\"dataframe\">\n",
       "  <thead>\n",
       "    <tr style=\"text-align: right;\">\n",
       "      <th></th>\n",
       "      <th>Document</th>\n",
       "      <th>Topic_group</th>\n",
       "      <th>Cleaned_Document</th>\n",
       "      <th>Cleaned_Document_Str</th>\n",
       "      <th>doc_length</th>\n",
       "    </tr>\n",
       "  </thead>\n",
       "  <tbody>\n",
       "    <tr>\n",
       "      <th>0</th>\n",
       "      <td>connection with icon icon dear please setup ic...</td>\n",
       "      <td>Hardware</td>\n",
       "      <td>[connection, icon, icon, setup, icon, per, ico...</td>\n",
       "      <td>connection icon icon setup icon per icon engin...</td>\n",
       "      <td>12</td>\n",
       "    </tr>\n",
       "    <tr>\n",
       "      <th>1</th>\n",
       "      <td>work experience user work experience user hi w...</td>\n",
       "      <td>Access</td>\n",
       "      <td>[work, experience, user, work, experience, use...</td>\n",
       "      <td>work experience user work experience user work...</td>\n",
       "      <td>14</td>\n",
       "    </tr>\n",
       "    <tr>\n",
       "      <th>2</th>\n",
       "      <td>requesting for meeting requesting meeting hi p...</td>\n",
       "      <td>Hardware</td>\n",
       "      <td>[requesting, meeting, requesting, meeting, fol...</td>\n",
       "      <td>requesting meeting requesting meeting follow e...</td>\n",
       "      <td>10</td>\n",
       "    </tr>\n",
       "    <tr>\n",
       "      <th>3</th>\n",
       "      <td>reset passwords for external accounts re expir...</td>\n",
       "      <td>Access</td>\n",
       "      <td>[reset, password, external, account, expire, d...</td>\n",
       "      <td>reset password external account expire day ask...</td>\n",
       "      <td>112</td>\n",
       "    </tr>\n",
       "    <tr>\n",
       "      <th>4</th>\n",
       "      <td>mail verification warning hi has got attached ...</td>\n",
       "      <td>Miscellaneous</td>\n",
       "      <td>[mail, verification, warning, got, attached, a...</td>\n",
       "      <td>mail verification warning got attached address...</td>\n",
       "      <td>11</td>\n",
       "    </tr>\n",
       "  </tbody>\n",
       "</table>\n",
       "</div>"
      ],
      "text/plain": [
       "                                            Document    Topic_group  \\\n",
       "0  connection with icon icon dear please setup ic...       Hardware   \n",
       "1  work experience user work experience user hi w...         Access   \n",
       "2  requesting for meeting requesting meeting hi p...       Hardware   \n",
       "3  reset passwords for external accounts re expir...         Access   \n",
       "4  mail verification warning hi has got attached ...  Miscellaneous   \n",
       "\n",
       "                                    Cleaned_Document  \\\n",
       "0  [connection, icon, icon, setup, icon, per, ico...   \n",
       "1  [work, experience, user, work, experience, use...   \n",
       "2  [requesting, meeting, requesting, meeting, fol...   \n",
       "3  [reset, password, external, account, expire, d...   \n",
       "4  [mail, verification, warning, got, attached, a...   \n",
       "\n",
       "                                Cleaned_Document_Str  doc_length  \n",
       "0  connection icon icon setup icon per icon engin...          12  \n",
       "1  work experience user work experience user work...          14  \n",
       "2  requesting meeting requesting meeting follow e...          10  \n",
       "3  reset password external account expire day ask...         112  \n",
       "4  mail verification warning got attached address...          11  "
      ]
     },
     "execution_count": 49,
     "metadata": {},
     "output_type": "execute_result"
    }
   ],
   "source": [
    "df.head()"
   ]
  },
  {
   "cell_type": "markdown",
   "id": "b57d6534",
   "metadata": {
    "papermill": {
     "duration": 0.019608,
     "end_time": "2025-06-09T14:25:41.273255",
     "exception": false,
     "start_time": "2025-06-09T14:25:41.253647",
     "status": "completed"
    },
    "tags": []
   },
   "source": [
    "TF-IDF converts text into a Bag-of-Words, ignoring the word order, which makes the data non-sequential. Since RNNs (recurrent neural networks) work with sequences, this format is not suitable for them. Therefore, data for RNNs must be prepared differently than for classical machine learning models."
   ]
  },
  {
   "cell_type": "code",
   "execution_count": 50,
   "id": "99f0ab6d",
   "metadata": {
    "execution": {
     "iopub.execute_input": "2025-06-09T14:25:41.314326Z",
     "iopub.status.busy": "2025-06-09T14:25:41.313965Z",
     "iopub.status.idle": "2025-06-09T14:25:58.420465Z",
     "shell.execute_reply": "2025-06-09T14:25:58.419569Z"
    },
    "papermill": {
     "duration": 17.128868,
     "end_time": "2025-06-09T14:25:58.422108",
     "exception": false,
     "start_time": "2025-06-09T14:25:41.293240",
     "status": "completed"
    },
    "tags": []
   },
   "outputs": [
    {
     "name": "stderr",
     "output_type": "stream",
     "text": [
      "2025-06-09 14:25:43.509438: E external/local_xla/xla/stream_executor/cuda/cuda_fft.cc:477] Unable to register cuFFT factory: Attempting to register factory for plugin cuFFT when one has already been registered\n",
      "WARNING: All log messages before absl::InitializeLog() is called are written to STDERR\n",
      "E0000 00:00:1749479143.804330      13 cuda_dnn.cc:8310] Unable to register cuDNN factory: Attempting to register factory for plugin cuDNN when one has already been registered\n",
      "E0000 00:00:1749479143.888449      13 cuda_blas.cc:1418] Unable to register cuBLAS factory: Attempting to register factory for plugin cuBLAS when one has already been registered\n"
     ]
    }
   ],
   "source": [
    "from tensorflow.keras.preprocessing.text import Tokenizer\n",
    "from tensorflow.keras.preprocessing.sequence import pad_sequences"
   ]
  },
  {
   "cell_type": "code",
   "execution_count": 51,
   "id": "2b1ceae0",
   "metadata": {
    "execution": {
     "iopub.execute_input": "2025-06-09T14:25:58.464635Z",
     "iopub.status.busy": "2025-06-09T14:25:58.463952Z",
     "iopub.status.idle": "2025-06-09T14:25:59.656692Z",
     "shell.execute_reply": "2025-06-09T14:25:59.655633Z"
    },
    "papermill": {
     "duration": 1.215645,
     "end_time": "2025-06-09T14:25:59.658582",
     "exception": false,
     "start_time": "2025-06-09T14:25:58.442937",
     "status": "completed"
    },
    "tags": []
   },
   "outputs": [],
   "source": [
    "#Tokenization\n",
    "tokenizer = Tokenizer()\n",
    "tokenizer.fit_on_texts(df['Cleaned_Document_Str'])"
   ]
  },
  {
   "cell_type": "code",
   "execution_count": 52,
   "id": "7cc3ee69",
   "metadata": {
    "execution": {
     "iopub.execute_input": "2025-06-09T14:25:59.701363Z",
     "iopub.status.busy": "2025-06-09T14:25:59.700979Z",
     "iopub.status.idle": "2025-06-09T14:26:00.466264Z",
     "shell.execute_reply": "2025-06-09T14:26:00.465306Z"
    },
    "papermill": {
     "duration": 0.787991,
     "end_time": "2025-06-09T14:26:00.467953",
     "exception": false,
     "start_time": "2025-06-09T14:25:59.679962",
     "status": "completed"
    },
    "tags": []
   },
   "outputs": [],
   "source": [
    "#Converting text into index sequences\n",
    "sequences = tokenizer.texts_to_sequences(df['Cleaned_Document_Str'])\n",
    "vocab_size = len(tokenizer.word_index) + 1"
   ]
  },
  {
   "cell_type": "code",
   "execution_count": 53,
   "id": "294ce99e",
   "metadata": {
    "execution": {
     "iopub.execute_input": "2025-06-09T14:26:00.511571Z",
     "iopub.status.busy": "2025-06-09T14:26:00.510753Z",
     "iopub.status.idle": "2025-06-09T14:26:00.523193Z",
     "shell.execute_reply": "2025-06-09T14:26:00.522136Z"
    },
    "papermill": {
     "duration": 0.035992,
     "end_time": "2025-06-09T14:26:00.524818",
     "exception": false,
     "start_time": "2025-06-09T14:26:00.488826",
     "status": "completed"
    },
    "tags": []
   },
   "outputs": [],
   "source": [
    "max_length = int(np.percentile([len(seq) for seq in sequences], 95))"
   ]
  },
  {
   "cell_type": "code",
   "execution_count": 54,
   "id": "b5681018",
   "metadata": {
    "execution": {
     "iopub.execute_input": "2025-06-09T14:26:00.567501Z",
     "iopub.status.busy": "2025-06-09T14:26:00.566712Z",
     "iopub.status.idle": "2025-06-09T14:26:00.749744Z",
     "shell.execute_reply": "2025-06-09T14:26:00.748959Z"
    },
    "papermill": {
     "duration": 0.206317,
     "end_time": "2025-06-09T14:26:00.751652",
     "exception": false,
     "start_time": "2025-06-09T14:26:00.545335",
     "status": "completed"
    },
    "tags": []
   },
   "outputs": [],
   "source": [
    "X_seq = pad_sequences(sequences, maxlen=max_length, padding='post', truncating='post')"
   ]
  },
  {
   "cell_type": "code",
   "execution_count": 55,
   "id": "168b0620",
   "metadata": {
    "execution": {
     "iopub.execute_input": "2025-06-09T14:26:00.794845Z",
     "iopub.status.busy": "2025-06-09T14:26:00.794508Z",
     "iopub.status.idle": "2025-06-09T14:26:00.819826Z",
     "shell.execute_reply": "2025-06-09T14:26:00.818838Z"
    },
    "papermill": {
     "duration": 0.048631,
     "end_time": "2025-06-09T14:26:00.821571",
     "exception": false,
     "start_time": "2025-06-09T14:26:00.772940",
     "status": "completed"
    },
    "tags": []
   },
   "outputs": [],
   "source": [
    "train_indices, test_indices = train_test_split(\n",
    "    np.arange(len(df)), \n",
    "    test_size=0.2, \n",
    "    random_state=42,\n",
    "    stratify=y  \n",
    ")"
   ]
  },
  {
   "cell_type": "code",
   "execution_count": 56,
   "id": "aa4798e8",
   "metadata": {
    "execution": {
     "iopub.execute_input": "2025-06-09T14:26:00.864649Z",
     "iopub.status.busy": "2025-06-09T14:26:00.864321Z",
     "iopub.status.idle": "2025-06-09T14:26:00.884281Z",
     "shell.execute_reply": "2025-06-09T14:26:00.883327Z"
    },
    "papermill": {
     "duration": 0.042932,
     "end_time": "2025-06-09T14:26:00.885981",
     "exception": false,
     "start_time": "2025-06-09T14:26:00.843049",
     "status": "completed"
    },
    "tags": []
   },
   "outputs": [],
   "source": [
    "X_train_seq = X_seq[train_indices]\n",
    "X_test_seq = X_seq[test_indices]"
   ]
  },
  {
   "cell_type": "code",
   "execution_count": 57,
   "id": "9e1dbbf3",
   "metadata": {
    "execution": {
     "iopub.execute_input": "2025-06-09T14:26:00.929415Z",
     "iopub.status.busy": "2025-06-09T14:26:00.928476Z",
     "iopub.status.idle": "2025-06-09T14:26:00.932816Z",
     "shell.execute_reply": "2025-06-09T14:26:00.931939Z"
    },
    "papermill": {
     "duration": 0.027756,
     "end_time": "2025-06-09T14:26:00.934350",
     "exception": false,
     "start_time": "2025-06-09T14:26:00.906594",
     "status": "completed"
    },
    "tags": []
   },
   "outputs": [],
   "source": [
    "X_train_rnn, X_test_rnn = X_train_seq, X_test_seq"
   ]
  },
  {
   "cell_type": "code",
   "execution_count": 58,
   "id": "95efc32f",
   "metadata": {
    "execution": {
     "iopub.execute_input": "2025-06-09T14:26:00.977425Z",
     "iopub.status.busy": "2025-06-09T14:26:00.976692Z",
     "iopub.status.idle": "2025-06-09T14:26:00.984335Z",
     "shell.execute_reply": "2025-06-09T14:26:00.983357Z"
    },
    "papermill": {
     "duration": 0.030487,
     "end_time": "2025-06-09T14:26:00.985915",
     "exception": false,
     "start_time": "2025-06-09T14:26:00.955428",
     "status": "completed"
    },
    "tags": []
   },
   "outputs": [],
   "source": [
    "from tensorflow.keras.models import Sequential\n",
    "from tensorflow.keras.layers import Embedding, LSTM, Dense"
   ]
  },
  {
   "cell_type": "code",
   "execution_count": 59,
   "id": "354ecadf",
   "metadata": {
    "execution": {
     "iopub.execute_input": "2025-06-09T14:26:01.029525Z",
     "iopub.status.busy": "2025-06-09T14:26:01.028770Z",
     "iopub.status.idle": "2025-06-09T14:26:01.086424Z",
     "shell.execute_reply": "2025-06-09T14:26:01.085497Z"
    },
    "papermill": {
     "duration": 0.081437,
     "end_time": "2025-06-09T14:26:01.088301",
     "exception": false,
     "start_time": "2025-06-09T14:26:01.006864",
     "status": "completed"
    },
    "tags": []
   },
   "outputs": [
    {
     "name": "stderr",
     "output_type": "stream",
     "text": [
      "/usr/local/lib/python3.11/dist-packages/keras/src/layers/core/embedding.py:90: UserWarning: Argument `input_length` is deprecated. Just remove it.\n",
      "  warnings.warn(\n",
      "2025-06-09 14:26:01.039797: E external/local_xla/xla/stream_executor/cuda/cuda_driver.cc:152] failed call to cuInit: INTERNAL: CUDA error: Failed call to cuInit: UNKNOWN ERROR (303)\n"
     ]
    }
   ],
   "source": [
    "model = Sequential([\n",
    "    Embedding(vocab_size, 128, input_length=max_length),\n",
    "    LSTM(64, return_sequences=False),\n",
    "    Dense(len(le.classes_), activation='softmax')\n",
    "])"
   ]
  },
  {
   "cell_type": "code",
   "execution_count": 60,
   "id": "24114a0f",
   "metadata": {
    "execution": {
     "iopub.execute_input": "2025-06-09T14:26:01.131391Z",
     "iopub.status.busy": "2025-06-09T14:26:01.130649Z",
     "iopub.status.idle": "2025-06-09T14:26:01.154138Z",
     "shell.execute_reply": "2025-06-09T14:26:01.153339Z"
    },
    "papermill": {
     "duration": 0.046941,
     "end_time": "2025-06-09T14:26:01.155846",
     "exception": false,
     "start_time": "2025-06-09T14:26:01.108905",
     "status": "completed"
    },
    "tags": []
   },
   "outputs": [],
   "source": [
    "model.compile(loss='sparse_categorical_crossentropy', \n",
    "              optimizer='adam', \n",
    "              metrics=['accuracy'])"
   ]
  },
  {
   "cell_type": "code",
   "execution_count": 61,
   "id": "31b9b2a2",
   "metadata": {
    "execution": {
     "iopub.execute_input": "2025-06-09T14:26:01.202690Z",
     "iopub.status.busy": "2025-06-09T14:26:01.202107Z",
     "iopub.status.idle": "2025-06-09T14:32:29.477128Z",
     "shell.execute_reply": "2025-06-09T14:32:29.476146Z"
    },
    "papermill": {
     "duration": 388.298696,
     "end_time": "2025-06-09T14:32:29.478628",
     "exception": false,
     "start_time": "2025-06-09T14:26:01.179932",
     "status": "completed"
    },
    "tags": []
   },
   "outputs": [
    {
     "name": "stdout",
     "output_type": "stream",
     "text": [
      "Epoch 1/10\n",
      "\u001b[1m299/299\u001b[0m \u001b[32m━━━━━━━━━━━━━━━━━━━━\u001b[0m\u001b[37m\u001b[0m \u001b[1m43s\u001b[0m 129ms/step - accuracy: 0.2748 - loss: 1.8686 - val_accuracy: 0.2886 - val_loss: 1.8402\n",
      "Epoch 2/10\n",
      "\u001b[1m299/299\u001b[0m \u001b[32m━━━━━━━━━━━━━━━━━━━━\u001b[0m\u001b[37m\u001b[0m \u001b[1m39s\u001b[0m 129ms/step - accuracy: 0.2832 - loss: 1.8364 - val_accuracy: 0.2886 - val_loss: 1.8416\n",
      "Epoch 3/10\n",
      "\u001b[1m299/299\u001b[0m \u001b[32m━━━━━━━━━━━━━━━━━━━━\u001b[0m\u001b[37m\u001b[0m \u001b[1m38s\u001b[0m 128ms/step - accuracy: 0.2885 - loss: 1.8291 - val_accuracy: 0.2875 - val_loss: 1.8461\n",
      "Epoch 4/10\n",
      "\u001b[1m299/299\u001b[0m \u001b[32m━━━━━━━━━━━━━━━━━━━━\u001b[0m\u001b[37m\u001b[0m \u001b[1m38s\u001b[0m 128ms/step - accuracy: 0.2989 - loss: 1.8095 - val_accuracy: 0.2853 - val_loss: 1.8548\n",
      "Epoch 5/10\n",
      "\u001b[1m299/299\u001b[0m \u001b[32m━━━━━━━━━━━━━━━━━━━━\u001b[0m\u001b[37m\u001b[0m \u001b[1m38s\u001b[0m 128ms/step - accuracy: 0.3044 - loss: 1.7893 - val_accuracy: 0.2848 - val_loss: 1.8803\n",
      "Epoch 6/10\n",
      "\u001b[1m299/299\u001b[0m \u001b[32m━━━━━━━━━━━━━━━━━━━━\u001b[0m\u001b[37m\u001b[0m \u001b[1m38s\u001b[0m 127ms/step - accuracy: 0.3070 - loss: 1.7739 - val_accuracy: 0.2843 - val_loss: 1.8883\n",
      "Epoch 7/10\n",
      "\u001b[1m299/299\u001b[0m \u001b[32m━━━━━━━━━━━━━━━━━━━━\u001b[0m\u001b[37m\u001b[0m \u001b[1m38s\u001b[0m 129ms/step - accuracy: 0.3050 - loss: 1.7642 - val_accuracy: 0.2842 - val_loss: 1.9106\n",
      "Epoch 8/10\n",
      "\u001b[1m299/299\u001b[0m \u001b[32m━━━━━━━━━━━━━━━━━━━━\u001b[0m\u001b[37m\u001b[0m \u001b[1m38s\u001b[0m 128ms/step - accuracy: 0.3176 - loss: 1.7539 - val_accuracy: 0.2828 - val_loss: 1.9216\n",
      "Epoch 9/10\n",
      "\u001b[1m299/299\u001b[0m \u001b[32m━━━━━━━━━━━━━━━━━━━━\u001b[0m\u001b[37m\u001b[0m \u001b[1m38s\u001b[0m 128ms/step - accuracy: 0.3163 - loss: 1.7518 - val_accuracy: 0.2833 - val_loss: 1.9254\n",
      "Epoch 10/10\n",
      "\u001b[1m299/299\u001b[0m \u001b[32m━━━━━━━━━━━━━━━━━━━━\u001b[0m\u001b[37m\u001b[0m \u001b[1m38s\u001b[0m 129ms/step - accuracy: 0.3171 - loss: 1.7496 - val_accuracy: 0.2831 - val_loss: 1.9383\n"
     ]
    },
    {
     "data": {
      "text/plain": [
       "<keras.src.callbacks.history.History at 0x7f7019282010>"
      ]
     },
     "execution_count": 61,
     "metadata": {},
     "output_type": "execute_result"
    }
   ],
   "source": [
    "model.fit(X_train_rnn, y_train, \n",
    "          validation_data=(X_test_rnn, y_test),\n",
    "          epochs=10, \n",
    "          batch_size=128)"
   ]
  },
  {
   "cell_type": "code",
   "execution_count": 62,
   "id": "ce88e184",
   "metadata": {
    "execution": {
     "iopub.execute_input": "2025-06-09T14:32:29.895475Z",
     "iopub.status.busy": "2025-06-09T14:32:29.895130Z",
     "iopub.status.idle": "2025-06-09T14:32:29.902974Z",
     "shell.execute_reply": "2025-06-09T14:32:29.901993Z"
    },
    "papermill": {
     "duration": 0.179255,
     "end_time": "2025-06-09T14:32:29.904683",
     "exception": false,
     "start_time": "2025-06-09T14:32:29.725428",
     "status": "completed"
    },
    "tags": []
   },
   "outputs": [],
   "source": [
    "from tensorflow.keras.callbacks import EarlyStopping"
   ]
  },
  {
   "cell_type": "code",
   "execution_count": 63,
   "id": "9abbb348",
   "metadata": {
    "execution": {
     "iopub.execute_input": "2025-06-09T14:32:30.235951Z",
     "iopub.status.busy": "2025-06-09T14:32:30.235623Z",
     "iopub.status.idle": "2025-06-09T14:32:30.239765Z",
     "shell.execute_reply": "2025-06-09T14:32:30.239098Z"
    },
    "papermill": {
     "duration": 0.171915,
     "end_time": "2025-06-09T14:32:30.241040",
     "exception": false,
     "start_time": "2025-06-09T14:32:30.069125",
     "status": "completed"
    },
    "tags": []
   },
   "outputs": [],
   "source": [
    "early_stopping = EarlyStopping(\n",
    "    monitor='val_loss',\n",
    "    patience=3,\n",
    "    restore_best_weights=True\n",
    ")"
   ]
  },
  {
   "cell_type": "code",
   "execution_count": 64,
   "id": "301b1f7a",
   "metadata": {
    "execution": {
     "iopub.execute_input": "2025-06-09T14:32:30.575892Z",
     "iopub.status.busy": "2025-06-09T14:32:30.575587Z",
     "iopub.status.idle": "2025-06-09T14:34:43.357213Z",
     "shell.execute_reply": "2025-06-09T14:34:43.356415Z"
    },
    "papermill": {
     "duration": 132.950081,
     "end_time": "2025-06-09T14:34:43.358890",
     "exception": false,
     "start_time": "2025-06-09T14:32:30.408809",
     "status": "completed"
    },
    "tags": []
   },
   "outputs": [
    {
     "name": "stdout",
     "output_type": "stream",
     "text": [
      "Epoch 1/15\n",
      "\u001b[1m270/270\u001b[0m \u001b[32m━━━━━━━━━━━━━━━━━━━━\u001b[0m\u001b[37m\u001b[0m \u001b[1m33s\u001b[0m 122ms/step - accuracy: 0.3219 - loss: 1.7421 - val_accuracy: 0.3123 - val_loss: 1.7735\n",
      "Epoch 2/15\n",
      "\u001b[1m270/270\u001b[0m \u001b[32m━━━━━━━━━━━━━━━━━━━━\u001b[0m\u001b[37m\u001b[0m \u001b[1m33s\u001b[0m 121ms/step - accuracy: 0.3238 - loss: 1.7382 - val_accuracy: 0.3141 - val_loss: 1.7743\n",
      "Epoch 3/15\n",
      "\u001b[1m270/270\u001b[0m \u001b[32m━━━━━━━━━━━━━━━━━━━━\u001b[0m\u001b[37m\u001b[0m \u001b[1m33s\u001b[0m 124ms/step - accuracy: 0.3282 - loss: 1.7352 - val_accuracy: 0.3094 - val_loss: 1.7825\n",
      "Epoch 4/15\n",
      "\u001b[1m270/270\u001b[0m \u001b[32m━━━━━━━━━━━━━━━━━━━━\u001b[0m\u001b[37m\u001b[0m \u001b[1m34s\u001b[0m 125ms/step - accuracy: 0.3271 - loss: 1.7269 - val_accuracy: 0.3125 - val_loss: 1.7794\n"
     ]
    }
   ],
   "source": [
    "history = model.fit(\n",
    "    X_train_rnn, \n",
    "    y_train,\n",
    "    epochs=15,\n",
    "    batch_size=128,\n",
    "    validation_split=0.1,  \n",
    "    callbacks=[early_stopping],\n",
    "    verbose=1\n",
    ")"
   ]
  },
  {
   "cell_type": "code",
   "execution_count": 65,
   "id": "70e1bdda",
   "metadata": {
    "execution": {
     "iopub.execute_input": "2025-06-09T14:34:43.885884Z",
     "iopub.status.busy": "2025-06-09T14:34:43.885592Z",
     "iopub.status.idle": "2025-06-09T14:34:49.724417Z",
     "shell.execute_reply": "2025-06-09T14:34:49.723423Z"
    },
    "papermill": {
     "duration": 6.067596,
     "end_time": "2025-06-09T14:34:49.725941",
     "exception": false,
     "start_time": "2025-06-09T14:34:43.658345",
     "status": "completed"
    },
    "tags": []
   },
   "outputs": [
    {
     "name": "stdout",
     "output_type": "stream",
     "text": [
      "\u001b[1m299/299\u001b[0m \u001b[32m━━━━━━━━━━━━━━━━━━━━\u001b[0m\u001b[37m\u001b[0m \u001b[1m6s\u001b[0m 18ms/step\n"
     ]
    }
   ],
   "source": [
    "y_pred = model.predict(X_test_rnn)\n",
    "y_pred_classes = np.argmax(y_pred, axis=1)"
   ]
  },
  {
   "cell_type": "code",
   "execution_count": 66,
   "id": "ec272130",
   "metadata": {
    "execution": {
     "iopub.execute_input": "2025-06-09T14:34:50.182225Z",
     "iopub.status.busy": "2025-06-09T14:34:50.181880Z",
     "iopub.status.idle": "2025-06-09T14:34:50.187807Z",
     "shell.execute_reply": "2025-06-09T14:34:50.187012Z"
    },
    "papermill": {
     "duration": 0.230924,
     "end_time": "2025-06-09T14:34:50.189429",
     "exception": false,
     "start_time": "2025-06-09T14:34:49.958505",
     "status": "completed"
    },
    "tags": []
   },
   "outputs": [],
   "source": [
    "y_test_labels = le.inverse_transform(y_test)\n",
    "y_pred_labels = le.inverse_transform(y_pred_classes)"
   ]
  },
  {
   "cell_type": "code",
   "execution_count": 67,
   "id": "c699e267",
   "metadata": {
    "execution": {
     "iopub.execute_input": "2025-06-09T14:34:50.643754Z",
     "iopub.status.busy": "2025-06-09T14:34:50.643416Z",
     "iopub.status.idle": "2025-06-09T14:34:50.917799Z",
     "shell.execute_reply": "2025-06-09T14:34:50.916629Z"
    },
    "papermill": {
     "duration": 0.504,
     "end_time": "2025-06-09T14:34:50.919522",
     "exception": false,
     "start_time": "2025-06-09T14:34:50.415522",
     "status": "completed"
    },
    "tags": []
   },
   "outputs": [
    {
     "name": "stdout",
     "output_type": "stream",
     "text": [
      "\n",
      "Детальный отчет по классификации:\n",
      "                       precision    recall  f1-score   support\n",
      "\n",
      "               Access       0.16      0.02      0.03      1468\n",
      "Administrative rights       0.08      0.00      0.01       331\n",
      "           HR Support       0.20      0.01      0.02      2110\n",
      "             Hardware       0.29      0.96      0.45      2761\n",
      "     Internal Project       0.00      0.00      0.00       448\n",
      "        Miscellaneous       0.21      0.01      0.02      1397\n",
      "             Purchase       0.00      0.00      0.00       499\n",
      "              Storage       0.08      0.01      0.01       554\n",
      "\n",
      "             accuracy                           0.28      9568\n",
      "            macro avg       0.13      0.13      0.07      9568\n",
      "         weighted avg       0.19      0.28      0.14      9568\n",
      "\n"
     ]
    }
   ],
   "source": [
    "print(\"\\nДетальный отчет по классификации:\")\n",
    "print(classification_report(y_test_labels, y_pred_labels))"
   ]
  },
  {
   "cell_type": "code",
   "execution_count": 68,
   "id": "72b24eb6",
   "metadata": {
    "execution": {
     "iopub.execute_input": "2025-06-09T14:34:51.449059Z",
     "iopub.status.busy": "2025-06-09T14:34:51.448721Z",
     "iopub.status.idle": "2025-06-09T14:34:51.917605Z",
     "shell.execute_reply": "2025-06-09T14:34:51.916516Z"
    },
    "papermill": {
     "duration": 0.697392,
     "end_time": "2025-06-09T14:34:51.919279",
     "exception": false,
     "start_time": "2025-06-09T14:34:51.221887",
     "status": "completed"
    },
    "tags": []
   },
   "outputs": [],
   "source": [
    "from tensorflow.keras.layers import Dropout\n",
    "from tensorflow.keras.optimizers import Adam\n",
    "import keras_tuner as kt"
   ]
  },
  {
   "cell_type": "code",
   "execution_count": 69,
   "id": "f0486948",
   "metadata": {
    "execution": {
     "iopub.execute_input": "2025-06-09T14:34:52.377498Z",
     "iopub.status.busy": "2025-06-09T14:34:52.376988Z",
     "iopub.status.idle": "2025-06-09T14:34:52.384608Z",
     "shell.execute_reply": "2025-06-09T14:34:52.383760Z"
    },
    "papermill": {
     "duration": 0.242388,
     "end_time": "2025-06-09T14:34:52.385959",
     "exception": false,
     "start_time": "2025-06-09T14:34:52.143571",
     "status": "completed"
    },
    "tags": []
   },
   "outputs": [],
   "source": [
    "def build_model(hp):\n",
    "    model = Sequential()\n",
    "    \n",
    "    # Embedding\n",
    "    model.add(Embedding(\n",
    "        input_dim=vocab_size,\n",
    "        output_dim=hp.Choice('embedding_dim', [100, 150, 200]),\n",
    "        input_length=max_length\n",
    "    ))\n",
    "\n",
    "    # LSTM\n",
    "    model.add(LSTM(\n",
    "        units=hp.Choice('lstm_units', [64, 128, 256]),\n",
    "        dropout=hp.Float('lstm_dropout', 0.2, 0.5, step=0.1),\n",
    "        recurrent_dropout=hp.Float('recurrent_dropout', 0.2, 0.5, step=0.1)\n",
    "    ))\n",
    "\n",
    "    # Dense + Dropout\n",
    "    model.add(Dense(\n",
    "        units=hp.Choice('dense_units', [32, 64, 128]),\n",
    "        activation='relu'\n",
    "    ))\n",
    "    model.add(Dropout(hp.Float('dense_dropout', 0.2, 0.5, step=0.1)))\n",
    "\n",
    "    # Output\n",
    "    model.add(Dense(len(le.classes_), activation='softmax'))\n",
    "\n",
    "    # Compile\n",
    "    model.compile(\n",
    "        optimizer=Adam(\n",
    "            learning_rate=hp.Choice('learning_rate', [1e-2, 1e-3, 1e-4])\n",
    "        ),\n",
    "        loss='sparse_categorical_crossentropy',\n",
    "        metrics=['accuracy']\n",
    "    )\n",
    "    return model"
   ]
  },
  {
   "cell_type": "code",
   "execution_count": 70,
   "id": "9e236484",
   "metadata": {
    "execution": {
     "iopub.execute_input": "2025-06-09T14:34:52.846612Z",
     "iopub.status.busy": "2025-06-09T14:34:52.845679Z",
     "iopub.status.idle": "2025-06-09T14:34:52.870874Z",
     "shell.execute_reply": "2025-06-09T14:34:52.869840Z"
    },
    "papermill": {
     "duration": 0.252697,
     "end_time": "2025-06-09T14:34:52.872600",
     "exception": false,
     "start_time": "2025-06-09T14:34:52.619903",
     "status": "completed"
    },
    "tags": []
   },
   "outputs": [
    {
     "name": "stderr",
     "output_type": "stream",
     "text": [
      "/usr/local/lib/python3.11/dist-packages/keras/src/layers/core/embedding.py:90: UserWarning: Argument `input_length` is deprecated. Just remove it.\n",
      "  warnings.warn(\n"
     ]
    }
   ],
   "source": [
    "tuner = kt.RandomSearch(\n",
    "    build_model,\n",
    "    objective='val_accuracy',\n",
    "    max_trials=10,               # Кол-во комбинаций, которые протестирует\n",
    "    executions_per_trial=1,      # Сколько раз обучать каждую модель\n",
    "    directory='tuner_dir',\n",
    "    project_name='rnn_text_class'\n",
    ")"
   ]
  },
  {
   "cell_type": "code",
   "execution_count": 71,
   "id": "1d6428a4",
   "metadata": {
    "execution": {
     "iopub.execute_input": "2025-06-09T14:34:53.389300Z",
     "iopub.status.busy": "2025-06-09T14:34:53.388780Z",
     "iopub.status.idle": "2025-06-09T16:04:00.263915Z",
     "shell.execute_reply": "2025-06-09T16:04:00.262906Z"
    },
    "papermill": {
     "duration": 5347.577189,
     "end_time": "2025-06-09T16:04:00.673033",
     "exception": false,
     "start_time": "2025-06-09T14:34:53.095844",
     "status": "completed"
    },
    "tags": []
   },
   "outputs": [
    {
     "name": "stdout",
     "output_type": "stream",
     "text": [
      "Trial 10 Complete [00h 11m 28s]\n",
      "val_accuracy: 0.28102952241897583\n",
      "\n",
      "Best val_accuracy So Far: 0.28102952241897583\n",
      "Total elapsed time: 01h 29m 07s\n"
     ]
    }
   ],
   "source": [
    "# Запускаем подбор\n",
    "tuner.search(\n",
    "    X_train_rnn, y_train,\n",
    "    epochs=10,\n",
    "    batch_size=64,\n",
    "    validation_split=0.2,\n",
    "    callbacks=[EarlyStopping(patience=2)]\n",
    ")"
   ]
  },
  {
   "cell_type": "code",
   "execution_count": 72,
   "id": "5e81bb79",
   "metadata": {
    "execution": {
     "iopub.execute_input": "2025-06-09T16:04:01.117712Z",
     "iopub.status.busy": "2025-06-09T16:04:01.117425Z",
     "iopub.status.idle": "2025-06-09T16:04:02.863010Z",
     "shell.execute_reply": "2025-06-09T16:04:02.862003Z"
    },
    "papermill": {
     "duration": 1.97096,
     "end_time": "2025-06-09T16:04:02.864546",
     "exception": false,
     "start_time": "2025-06-09T16:04:00.893586",
     "status": "completed"
    },
    "tags": []
   },
   "outputs": [
    {
     "name": "stderr",
     "output_type": "stream",
     "text": [
      "/usr/local/lib/python3.11/dist-packages/keras/src/saving/saving_lib.py:713: UserWarning: Skipping variable loading for optimizer 'adam', because it has 2 variables whereas the saved optimizer has 18 variables. \n",
      "  saveable.load_own_variables(weights_store.get(inner_path))\n"
     ]
    }
   ],
   "source": [
    "# Получаем лучшую модель\n",
    "best_model = tuner.get_best_models(num_models=1)[0]"
   ]
  },
  {
   "cell_type": "code",
   "execution_count": 73,
   "id": "7a0011d6",
   "metadata": {
    "execution": {
     "iopub.execute_input": "2025-06-09T16:04:03.309426Z",
     "iopub.status.busy": "2025-06-09T16:04:03.308624Z",
     "iopub.status.idle": "2025-06-09T16:14:06.195993Z",
     "shell.execute_reply": "2025-06-09T16:14:06.195171Z"
    },
    "papermill": {
     "duration": 603.114402,
     "end_time": "2025-06-09T16:14:06.197930",
     "exception": false,
     "start_time": "2025-06-09T16:04:03.083528",
     "status": "completed"
    },
    "tags": []
   },
   "outputs": [
    {
     "name": "stdout",
     "output_type": "stream",
     "text": [
      "Epoch 1/15\n",
      "\u001b[1m479/479\u001b[0m \u001b[32m━━━━━━━━━━━━━━━━━━━━\u001b[0m\u001b[37m\u001b[0m \u001b[1m52s\u001b[0m 100ms/step - accuracy: 0.2800 - loss: 1.8520 - val_accuracy: 0.2810 - val_loss: 1.8499\n",
      "Epoch 2/15\n",
      "\u001b[1m479/479\u001b[0m \u001b[32m━━━━━━━━━━━━━━━━━━━━\u001b[0m\u001b[37m\u001b[0m \u001b[1m82s\u001b[0m 100ms/step - accuracy: 0.2796 - loss: 1.8439 - val_accuracy: 0.2810 - val_loss: 1.8485\n",
      "Epoch 3/15\n",
      "\u001b[1m479/479\u001b[0m \u001b[32m━━━━━━━━━━━━━━━━━━━━\u001b[0m\u001b[37m\u001b[0m \u001b[1m48s\u001b[0m 101ms/step - accuracy: 0.2818 - loss: 1.8422 - val_accuracy: 0.2810 - val_loss: 1.8468\n",
      "Epoch 4/15\n",
      "\u001b[1m479/479\u001b[0m \u001b[32m━━━━━━━━━━━━━━━━━━━━\u001b[0m\u001b[37m\u001b[0m \u001b[1m47s\u001b[0m 98ms/step - accuracy: 0.2815 - loss: 1.8404 - val_accuracy: 0.2810 - val_loss: 1.8464\n",
      "Epoch 5/15\n",
      "\u001b[1m479/479\u001b[0m \u001b[32m━━━━━━━━━━━━━━━━━━━━\u001b[0m\u001b[37m\u001b[0m \u001b[1m48s\u001b[0m 100ms/step - accuracy: 0.2816 - loss: 1.8391 - val_accuracy: 0.2810 - val_loss: 1.8460\n",
      "Epoch 6/15\n",
      "\u001b[1m479/479\u001b[0m \u001b[32m━━━━━━━━━━━━━━━━━━━━\u001b[0m\u001b[37m\u001b[0m \u001b[1m82s\u001b[0m 100ms/step - accuracy: 0.2815 - loss: 1.8470 - val_accuracy: 0.2810 - val_loss: 1.8464\n",
      "Epoch 7/15\n",
      "\u001b[1m479/479\u001b[0m \u001b[32m━━━━━━━━━━━━━━━━━━━━\u001b[0m\u001b[37m\u001b[0m \u001b[1m48s\u001b[0m 100ms/step - accuracy: 0.2821 - loss: 1.8385 - val_accuracy: 0.2810 - val_loss: 1.8459\n",
      "Epoch 8/15\n",
      "\u001b[1m479/479\u001b[0m \u001b[32m━━━━━━━━━━━━━━━━━━━━\u001b[0m\u001b[37m\u001b[0m \u001b[1m48s\u001b[0m 100ms/step - accuracy: 0.2807 - loss: 1.8423 - val_accuracy: 0.2810 - val_loss: 1.8457\n",
      "Epoch 9/15\n",
      "\u001b[1m479/479\u001b[0m \u001b[32m━━━━━━━━━━━━━━━━━━━━\u001b[0m\u001b[37m\u001b[0m \u001b[1m50s\u001b[0m 104ms/step - accuracy: 0.2847 - loss: 1.8336 - val_accuracy: 0.2810 - val_loss: 1.8468\n",
      "Epoch 10/15\n",
      "\u001b[1m479/479\u001b[0m \u001b[32m━━━━━━━━━━━━━━━━━━━━\u001b[0m\u001b[37m\u001b[0m \u001b[1m49s\u001b[0m 103ms/step - accuracy: 0.2785 - loss: 1.8338 - val_accuracy: 0.2810 - val_loss: 1.8470\n",
      "Epoch 11/15\n",
      "\u001b[1m479/479\u001b[0m \u001b[32m━━━━━━━━━━━━━━━━━━━━\u001b[0m\u001b[37m\u001b[0m \u001b[1m49s\u001b[0m 101ms/step - accuracy: 0.2832 - loss: 1.8327 - val_accuracy: 0.2809 - val_loss: 1.8474\n"
     ]
    }
   ],
   "source": [
    "# Обучим финально на всём трейне\n",
    "history = best_model.fit(\n",
    "    X_train_rnn, y_train,\n",
    "    epochs=15,\n",
    "    batch_size=64,\n",
    "    validation_split=0.2,\n",
    "    callbacks=[EarlyStopping(patience=3)],\n",
    "    verbose=1\n",
    ")"
   ]
  },
  {
   "cell_type": "code",
   "execution_count": 74,
   "id": "ae4e16db",
   "metadata": {
    "execution": {
     "iopub.execute_input": "2025-06-09T16:14:07.281861Z",
     "iopub.status.busy": "2025-06-09T16:14:07.281557Z",
     "iopub.status.idle": "2025-06-09T16:14:13.983598Z",
     "shell.execute_reply": "2025-06-09T16:14:13.982586Z"
    },
    "papermill": {
     "duration": 7.199293,
     "end_time": "2025-06-09T16:14:13.985125",
     "exception": false,
     "start_time": "2025-06-09T16:14:06.785832",
     "status": "completed"
    },
    "tags": []
   },
   "outputs": [
    {
     "name": "stdout",
     "output_type": "stream",
     "text": [
      "\u001b[1m299/299\u001b[0m \u001b[32m━━━━━━━━━━━━━━━━━━━━\u001b[0m\u001b[37m\u001b[0m \u001b[1m6s\u001b[0m 20ms/step\n",
      "                       precision    recall  f1-score   support\n",
      "\n",
      "               Access       0.00      0.00      0.00      1468\n",
      "Administrative rights       0.00      0.00      0.00       331\n",
      "           HR Support       0.00      0.00      0.00      2110\n",
      "             Hardware       0.29      1.00      0.45      2761\n",
      "     Internal Project       0.00      0.00      0.00       448\n",
      "        Miscellaneous       0.00      0.00      0.00      1397\n",
      "             Purchase       0.00      0.00      0.00       499\n",
      "              Storage       0.00      0.00      0.00       554\n",
      "\n",
      "             accuracy                           0.29      9568\n",
      "            macro avg       0.04      0.12      0.06      9568\n",
      "         weighted avg       0.08      0.29      0.13      9568\n",
      "\n"
     ]
    },
    {
     "name": "stderr",
     "output_type": "stream",
     "text": [
      "/usr/local/lib/python3.11/dist-packages/sklearn/metrics/_classification.py:1344: UndefinedMetricWarning: Precision and F-score are ill-defined and being set to 0.0 in labels with no predicted samples. Use `zero_division` parameter to control this behavior.\n",
      "  _warn_prf(average, modifier, msg_start, len(result))\n",
      "/usr/local/lib/python3.11/dist-packages/sklearn/metrics/_classification.py:1344: UndefinedMetricWarning: Precision and F-score are ill-defined and being set to 0.0 in labels with no predicted samples. Use `zero_division` parameter to control this behavior.\n",
      "  _warn_prf(average, modifier, msg_start, len(result))\n",
      "/usr/local/lib/python3.11/dist-packages/sklearn/metrics/_classification.py:1344: UndefinedMetricWarning: Precision and F-score are ill-defined and being set to 0.0 in labels with no predicted samples. Use `zero_division` parameter to control this behavior.\n",
      "  _warn_prf(average, modifier, msg_start, len(result))\n"
     ]
    }
   ],
   "source": [
    "y_pred = best_model.predict(X_test_rnn)\n",
    "y_pred_classes = np.argmax(y_pred, axis=1)\n",
    "\n",
    "print(classification_report(\n",
    "    le.inverse_transform(y_test),\n",
    "    le.inverse_transform(y_pred_classes)\n",
    "))"
   ]
  },
  {
   "cell_type": "markdown",
   "id": "00c78004",
   "metadata": {
    "papermill": {
     "duration": 0.590428,
     "end_time": "2025-06-09T16:14:15.075569",
     "exception": false,
     "start_time": "2025-06-09T16:14:14.485141",
     "status": "completed"
    },
    "tags": []
   },
   "source": [
    "## BERT"
   ]
  },
  {
   "cell_type": "markdown",
   "id": "700978c7",
   "metadata": {
    "papermill": {
     "duration": 0.494044,
     "end_time": "2025-06-09T16:14:16.060243",
     "exception": false,
     "start_time": "2025-06-09T16:14:15.566199",
     "status": "completed"
    },
    "tags": []
   },
   "source": [
    "Since BERT-like models (including NeuroBERT-Tiny) expect **raw text strings** as input, at this stage the variable `x` should store the original document (`df['document']`), and not the previously cleaned one (`df['cleaned document']`)."
   ]
  },
  {
   "cell_type": "code",
   "execution_count": 75,
   "id": "d8971b9d",
   "metadata": {
    "execution": {
     "iopub.execute_input": "2025-06-09T16:14:17.150684Z",
     "iopub.status.busy": "2025-06-09T16:14:17.150353Z",
     "iopub.status.idle": "2025-06-09T16:14:17.154354Z",
     "shell.execute_reply": "2025-06-09T16:14:17.153495Z"
    },
    "papermill": {
     "duration": 0.501648,
     "end_time": "2025-06-09T16:14:17.155796",
     "exception": false,
     "start_time": "2025-06-09T16:14:16.654148",
     "status": "completed"
    },
    "tags": []
   },
   "outputs": [],
   "source": [
    "#pip install transformers torch"
   ]
  },
  {
   "cell_type": "code",
   "execution_count": 76,
   "id": "fb37e83b",
   "metadata": {
    "execution": {
     "iopub.execute_input": "2025-06-09T16:14:18.141881Z",
     "iopub.status.busy": "2025-06-09T16:14:18.140682Z",
     "iopub.status.idle": "2025-06-09T16:14:18.145428Z",
     "shell.execute_reply": "2025-06-09T16:14:18.144516Z"
    },
    "papermill": {
     "duration": 0.502557,
     "end_time": "2025-06-09T16:14:18.146756",
     "exception": false,
     "start_time": "2025-06-09T16:14:17.644199",
     "status": "completed"
    },
    "tags": []
   },
   "outputs": [],
   "source": [
    "##from transformers import AutoModelForMaskedLM, AutoTokenizer\n",
    "#model = AutoModelForMaskedLM.from_pretrained(\"boltuix/NeuroBERT-Tiny\")\n",
    "#tokenizer = AutoTokenizer.from_pretrained(\"boltuix/NeuroBERT-Tiny\")"
   ]
  },
  {
   "cell_type": "code",
   "execution_count": 77,
   "id": "38697292",
   "metadata": {
    "execution": {
     "iopub.execute_input": "2025-06-09T16:14:19.236166Z",
     "iopub.status.busy": "2025-06-09T16:14:19.235645Z",
     "iopub.status.idle": "2025-06-09T16:14:19.240730Z",
     "shell.execute_reply": "2025-06-09T16:14:19.239487Z"
    },
    "papermill": {
     "duration": 0.513854,
     "end_time": "2025-06-09T16:14:19.243095",
     "exception": false,
     "start_time": "2025-06-09T16:14:18.729241",
     "status": "completed"
    },
    "tags": []
   },
   "outputs": [],
   "source": [
    "#from transformers import AutoModelForMaskedLM, AutoTokenizer\n",
    "\n",
    "#model = AutoModelForMaskedLM.from_pretrained(\"nreimers/NeuroBERT-tiny\")\n",
    "#tokenizer = AutoTokenizer.from_pretrained(\"nreimers/NeuroBERT-tiny\")"
   ]
  }
 ],
 "metadata": {
  "kaggle": {
   "accelerator": "none",
   "dataSources": [
    {
     "datasetId": 4460055,
     "sourceId": 7650678,
     "sourceType": "datasetVersion"
    }
   ],
   "dockerImageVersionId": 31012,
   "isGpuEnabled": false,
   "isInternetEnabled": false,
   "language": "python",
   "sourceType": "notebook"
  },
  "kernelspec": {
   "display_name": "Python 3",
   "language": "python",
   "name": "python3"
  },
  "language_info": {
   "codemirror_mode": {
    "name": "ipython",
    "version": 3
   },
   "file_extension": ".py",
   "mimetype": "text/x-python",
   "name": "python",
   "nbconvert_exporter": "python",
   "pygments_lexer": "ipython3",
   "version": "3.11.11"
  },
  "papermill": {
   "default_parameters": {},
   "duration": 6748.49675,
   "end_time": "2025-06-09T16:14:22.943393",
   "environment_variables": {},
   "exception": null,
   "input_path": "__notebook__.ipynb",
   "output_path": "__notebook__.ipynb",
   "parameters": {},
   "start_time": "2025-06-09T14:21:54.446643",
   "version": "2.6.0"
  }
 },
 "nbformat": 4,
 "nbformat_minor": 5
}
