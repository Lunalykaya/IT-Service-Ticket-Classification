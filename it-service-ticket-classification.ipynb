{
 "cells": [
  {
   "cell_type": "code",
   "execution_count": 1,
   "id": "61fef907",
   "metadata": {
    "_cell_guid": "b1076dfc-b9ad-4769-8c92-a6c4dae69d19",
    "_uuid": "8f2839f25d086af736a60e9eeb907d3b93b6e0e5",
    "execution": {
     "iopub.execute_input": "2025-05-12T13:46:56.355819Z",
     "iopub.status.busy": "2025-05-12T13:46:56.355467Z",
     "iopub.status.idle": "2025-05-12T13:46:58.200848Z",
     "shell.execute_reply": "2025-05-12T13:46:58.199814Z"
    },
    "papermill": {
     "duration": 1.855425,
     "end_time": "2025-05-12T13:46:58.202438",
     "exception": false,
     "start_time": "2025-05-12T13:46:56.347013",
     "status": "completed"
    },
    "tags": []
   },
   "outputs": [
    {
     "name": "stdout",
     "output_type": "stream",
     "text": [
      "/kaggle/input/it-service-ticket-classification-dataset/all_tickets_processed_improved_v3.csv\n"
     ]
    }
   ],
   "source": [
    "# This Python 3 environment comes with many helpful analytics libraries installed\n",
    "# It is defined by the kaggle/python Docker image: https://github.com/kaggle/docker-python\n",
    "# For example, here's several helpful packages to load\n",
    "\n",
    "import numpy as np # linear algebra\n",
    "import pandas as pd # data processing, CSV file I/O (e.g. pd.read_csv)\n",
    "\n",
    "# Input data files are available in the read-only \"../input/\" directory\n",
    "# For example, running this (by clicking run or pressing Shift+Enter) will list all files under the input directory\n",
    "\n",
    "import os\n",
    "for dirname, _, filenames in os.walk('/kaggle/input'):\n",
    "    for filename in filenames:\n",
    "        print(os.path.join(dirname, filename))\n",
    "\n",
    "# You can write up to 20GB to the current directory (/kaggle/working/) that gets preserved as output when you create a version using \"Save & Run All\" \n",
    "# You can also write temporary files to /kaggle/temp/, but they won't be saved outside of the current session"
   ]
  },
  {
   "cell_type": "markdown",
   "id": "9ee344b1",
   "metadata": {
    "papermill": {
     "duration": 0.005182,
     "end_time": "2025-05-12T13:46:58.213538",
     "exception": false,
     "start_time": "2025-05-12T13:46:58.208356",
     "status": "completed"
    },
    "tags": []
   },
   "source": [
    "# Loading data"
   ]
  },
  {
   "cell_type": "code",
   "execution_count": 2,
   "id": "752f99ad",
   "metadata": {
    "execution": {
     "iopub.execute_input": "2025-05-12T13:46:58.227587Z",
     "iopub.status.busy": "2025-05-12T13:46:58.226377Z",
     "iopub.status.idle": "2025-05-12T13:46:58.231141Z",
     "shell.execute_reply": "2025-05-12T13:46:58.230238Z"
    },
    "papermill": {
     "duration": 0.012578,
     "end_time": "2025-05-12T13:46:58.232700",
     "exception": false,
     "start_time": "2025-05-12T13:46:58.220122",
     "status": "completed"
    },
    "tags": []
   },
   "outputs": [],
   "source": [
    "import pandas as pd\n",
    "import numpy as np"
   ]
  },
  {
   "cell_type": "code",
   "execution_count": 3,
   "id": "2ae2baba",
   "metadata": {
    "execution": {
     "iopub.execute_input": "2025-05-12T13:46:58.245042Z",
     "iopub.status.busy": "2025-05-12T13:46:58.244275Z",
     "iopub.status.idle": "2025-05-12T13:46:59.023029Z",
     "shell.execute_reply": "2025-05-12T13:46:59.022034Z"
    },
    "papermill": {
     "duration": 0.786331,
     "end_time": "2025-05-12T13:46:59.024529",
     "exception": false,
     "start_time": "2025-05-12T13:46:58.238198",
     "status": "completed"
    },
    "tags": []
   },
   "outputs": [
    {
     "name": "stdout",
     "output_type": "stream",
     "text": [
      "Path to dataset files: /kaggle/input/it-service-ticket-classification-dataset\n"
     ]
    }
   ],
   "source": [
    "import kagglehub\n",
    "\n",
    "# Download latest version\n",
    "path = kagglehub.dataset_download(\"adisongoh/it-service-ticket-classification-dataset\")\n",
    "\n",
    "print(\"Path to dataset files:\", path)"
   ]
  },
  {
   "cell_type": "code",
   "execution_count": 4,
   "id": "0342e2c5",
   "metadata": {
    "execution": {
     "iopub.execute_input": "2025-05-12T13:46:59.037680Z",
     "iopub.status.busy": "2025-05-12T13:46:59.036828Z",
     "iopub.status.idle": "2025-05-12T13:46:59.407145Z",
     "shell.execute_reply": "2025-05-12T13:46:59.406308Z"
    },
    "papermill": {
     "duration": 0.378686,
     "end_time": "2025-05-12T13:46:59.408971",
     "exception": false,
     "start_time": "2025-05-12T13:46:59.030285",
     "status": "completed"
    },
    "tags": []
   },
   "outputs": [],
   "source": [
    "#reading df\n",
    "df = pd.read_csv('/kaggle/input/it-service-ticket-classification-dataset/all_tickets_processed_improved_v3.csv')"
   ]
  },
  {
   "cell_type": "code",
   "execution_count": 5,
   "id": "d40bc344",
   "metadata": {
    "execution": {
     "iopub.execute_input": "2025-05-12T13:46:59.422001Z",
     "iopub.status.busy": "2025-05-12T13:46:59.421672Z",
     "iopub.status.idle": "2025-05-12T13:46:59.461017Z",
     "shell.execute_reply": "2025-05-12T13:46:59.459850Z"
    },
    "papermill": {
     "duration": 0.047538,
     "end_time": "2025-05-12T13:46:59.462568",
     "exception": false,
     "start_time": "2025-05-12T13:46:59.415030",
     "status": "completed"
    },
    "tags": []
   },
   "outputs": [
    {
     "name": "stdout",
     "output_type": "stream",
     "text": [
      "<class 'pandas.core.frame.DataFrame'>\n",
      "RangeIndex: 47837 entries, 0 to 47836\n",
      "Data columns (total 2 columns):\n",
      " #   Column       Non-Null Count  Dtype \n",
      "---  ------       --------------  ----- \n",
      " 0   Document     47837 non-null  object\n",
      " 1   Topic_group  47837 non-null  object\n",
      "dtypes: object(2)\n",
      "memory usage: 747.6+ KB\n"
     ]
    }
   ],
   "source": [
    "df.info()"
   ]
  },
  {
   "cell_type": "code",
   "execution_count": 6,
   "id": "0085051b",
   "metadata": {
    "execution": {
     "iopub.execute_input": "2025-05-12T13:46:59.475426Z",
     "iopub.status.busy": "2025-05-12T13:46:59.474562Z",
     "iopub.status.idle": "2025-05-12T13:46:59.495500Z",
     "shell.execute_reply": "2025-05-12T13:46:59.494507Z"
    },
    "papermill": {
     "duration": 0.028761,
     "end_time": "2025-05-12T13:46:59.497069",
     "exception": false,
     "start_time": "2025-05-12T13:46:59.468308",
     "status": "completed"
    },
    "tags": []
   },
   "outputs": [
    {
     "data": {
      "text/html": [
       "<div>\n",
       "<style scoped>\n",
       "    .dataframe tbody tr th:only-of-type {\n",
       "        vertical-align: middle;\n",
       "    }\n",
       "\n",
       "    .dataframe tbody tr th {\n",
       "        vertical-align: top;\n",
       "    }\n",
       "\n",
       "    .dataframe thead th {\n",
       "        text-align: right;\n",
       "    }\n",
       "</style>\n",
       "<table border=\"1\" class=\"dataframe\">\n",
       "  <thead>\n",
       "    <tr style=\"text-align: right;\">\n",
       "      <th></th>\n",
       "      <th>Document</th>\n",
       "      <th>Topic_group</th>\n",
       "    </tr>\n",
       "  </thead>\n",
       "  <tbody>\n",
       "    <tr>\n",
       "      <th>0</th>\n",
       "      <td>connection with icon icon dear please setup ic...</td>\n",
       "      <td>Hardware</td>\n",
       "    </tr>\n",
       "    <tr>\n",
       "      <th>1</th>\n",
       "      <td>work experience user work experience user hi w...</td>\n",
       "      <td>Access</td>\n",
       "    </tr>\n",
       "    <tr>\n",
       "      <th>2</th>\n",
       "      <td>requesting for meeting requesting meeting hi p...</td>\n",
       "      <td>Hardware</td>\n",
       "    </tr>\n",
       "    <tr>\n",
       "      <th>3</th>\n",
       "      <td>reset passwords for external accounts re expir...</td>\n",
       "      <td>Access</td>\n",
       "    </tr>\n",
       "    <tr>\n",
       "      <th>4</th>\n",
       "      <td>mail verification warning hi has got attached ...</td>\n",
       "      <td>Miscellaneous</td>\n",
       "    </tr>\n",
       "  </tbody>\n",
       "</table>\n",
       "</div>"
      ],
      "text/plain": [
       "                                            Document    Topic_group\n",
       "0  connection with icon icon dear please setup ic...       Hardware\n",
       "1  work experience user work experience user hi w...         Access\n",
       "2  requesting for meeting requesting meeting hi p...       Hardware\n",
       "3  reset passwords for external accounts re expir...         Access\n",
       "4  mail verification warning hi has got attached ...  Miscellaneous"
      ]
     },
     "execution_count": 6,
     "metadata": {},
     "output_type": "execute_result"
    }
   ],
   "source": [
    "#quick preview of the df\n",
    "df.head()"
   ]
  },
  {
   "cell_type": "code",
   "execution_count": 7,
   "id": "c4eedfc4",
   "metadata": {
    "execution": {
     "iopub.execute_input": "2025-05-12T13:46:59.510423Z",
     "iopub.status.busy": "2025-05-12T13:46:59.509595Z",
     "iopub.status.idle": "2025-05-12T13:46:59.522468Z",
     "shell.execute_reply": "2025-05-12T13:46:59.521651Z"
    },
    "papermill": {
     "duration": 0.02103,
     "end_time": "2025-05-12T13:46:59.523980",
     "exception": false,
     "start_time": "2025-05-12T13:46:59.502950",
     "status": "completed"
    },
    "tags": []
   },
   "outputs": [
    {
     "data": {
      "text/plain": [
       "array(['Hardware', 'Access', 'Miscellaneous', 'HR Support', 'Purchase',\n",
       "       'Administrative rights', 'Storage', 'Internal Project'],\n",
       "      dtype=object)"
      ]
     },
     "execution_count": 7,
     "metadata": {},
     "output_type": "execute_result"
    }
   ],
   "source": [
    "#viewing unique values (categories) in Topic_group\n",
    "df['Topic_group'].nunique()\n",
    "df['Topic_group'].unique()"
   ]
  },
  {
   "cell_type": "code",
   "execution_count": 8,
   "id": "1d02d154",
   "metadata": {
    "execution": {
     "iopub.execute_input": "2025-05-12T13:46:59.536783Z",
     "iopub.status.busy": "2025-05-12T13:46:59.536440Z",
     "iopub.status.idle": "2025-05-12T13:46:59.552429Z",
     "shell.execute_reply": "2025-05-12T13:46:59.551662Z"
    },
    "papermill": {
     "duration": 0.023927,
     "end_time": "2025-05-12T13:46:59.553718",
     "exception": false,
     "start_time": "2025-05-12T13:46:59.529791",
     "status": "completed"
    },
    "tags": []
   },
   "outputs": [
    {
     "data": {
      "text/plain": [
       "Document       0\n",
       "Topic_group    0\n",
       "dtype: int64"
      ]
     },
     "execution_count": 8,
     "metadata": {},
     "output_type": "execute_result"
    }
   ],
   "source": [
    "#checking na\n",
    "df.isnull().sum()"
   ]
  },
  {
   "cell_type": "code",
   "execution_count": 9,
   "id": "96990d48",
   "metadata": {
    "execution": {
     "iopub.execute_input": "2025-05-12T13:46:59.566776Z",
     "iopub.status.busy": "2025-05-12T13:46:59.566451Z",
     "iopub.status.idle": "2025-05-12T13:46:59.625534Z",
     "shell.execute_reply": "2025-05-12T13:46:59.624651Z"
    },
    "papermill": {
     "duration": 0.067335,
     "end_time": "2025-05-12T13:46:59.627073",
     "exception": false,
     "start_time": "2025-05-12T13:46:59.559738",
     "status": "completed"
    },
    "tags": []
   },
   "outputs": [
    {
     "data": {
      "text/plain": [
       "0"
      ]
     },
     "execution_count": 9,
     "metadata": {},
     "output_type": "execute_result"
    }
   ],
   "source": [
    "#checking duplicates\n",
    "df.duplicated().sum()"
   ]
  },
  {
   "cell_type": "markdown",
   "id": "2bc0c0ac",
   "metadata": {
    "papermill": {
     "duration": 0.005591,
     "end_time": "2025-05-12T13:46:59.638881",
     "exception": false,
     "start_time": "2025-05-12T13:46:59.633290",
     "status": "completed"
    },
    "tags": []
   },
   "source": [
    "# Text Preprocessing"
   ]
  },
  {
   "cell_type": "code",
   "execution_count": 10,
   "id": "ebcbbb57",
   "metadata": {
    "execution": {
     "iopub.execute_input": "2025-05-12T13:46:59.652374Z",
     "iopub.status.busy": "2025-05-12T13:46:59.652011Z",
     "iopub.status.idle": "2025-05-12T13:46:59.998688Z",
     "shell.execute_reply": "2025-05-12T13:46:59.997731Z"
    },
    "papermill": {
     "duration": 0.355778,
     "end_time": "2025-05-12T13:47:00.000481",
     "exception": false,
     "start_time": "2025-05-12T13:46:59.644703",
     "status": "completed"
    },
    "tags": []
   },
   "outputs": [],
   "source": [
    "import re\n",
    "import string\n",
    "from bs4 import BeautifulSoup"
   ]
  },
  {
   "cell_type": "code",
   "execution_count": 11,
   "id": "606d26e9",
   "metadata": {
    "execution": {
     "iopub.execute_input": "2025-05-12T13:47:00.020318Z",
     "iopub.status.busy": "2025-05-12T13:47:00.019329Z",
     "iopub.status.idle": "2025-05-12T13:47:00.026469Z",
     "shell.execute_reply": "2025-05-12T13:47:00.025331Z"
    },
    "papermill": {
     "duration": 0.017982,
     "end_time": "2025-05-12T13:47:00.028837",
     "exception": false,
     "start_time": "2025-05-12T13:47:00.010855",
     "status": "completed"
    },
    "tags": []
   },
   "outputs": [],
   "source": [
    "def cleaned_text (text):\n",
    "    text = text.lower() #converting to lower case\n",
    "    text = re.sub(r'\\d+', '', text) #removing numbers\n",
    "    text = text.translate(str.maketrans('', '', string.punctuation)) \n",
    "    #removing punctuation\n",
    "    text = re.sub(r'\\W', ' ', text) #removing special characters\n",
    "    text = BeautifulSoup(text, \"html.parser\").get_text() #removing HTML tags\n",
    "    return text"
   ]
  },
  {
   "cell_type": "code",
   "execution_count": 12,
   "id": "d2ccdb3f",
   "metadata": {
    "execution": {
     "iopub.execute_input": "2025-05-12T13:47:00.048103Z",
     "iopub.status.busy": "2025-05-12T13:47:00.047667Z",
     "iopub.status.idle": "2025-05-12T13:47:03.374693Z",
     "shell.execute_reply": "2025-05-12T13:47:03.373676Z"
    },
    "papermill": {
     "duration": 3.339847,
     "end_time": "2025-05-12T13:47:03.376345",
     "exception": false,
     "start_time": "2025-05-12T13:47:00.036498",
     "status": "completed"
    },
    "tags": []
   },
   "outputs": [],
   "source": [
    "df['Cleaned_Document'] = df['Document'].apply(cleaned_text)"
   ]
  },
  {
   "cell_type": "code",
   "execution_count": 13,
   "id": "4b2497cc",
   "metadata": {
    "execution": {
     "iopub.execute_input": "2025-05-12T13:47:03.389945Z",
     "iopub.status.busy": "2025-05-12T13:47:03.389417Z",
     "iopub.status.idle": "2025-05-12T13:47:05.446302Z",
     "shell.execute_reply": "2025-05-12T13:47:05.445557Z"
    },
    "papermill": {
     "duration": 2.065514,
     "end_time": "2025-05-12T13:47:05.447934",
     "exception": false,
     "start_time": "2025-05-12T13:47:03.382420",
     "status": "completed"
    },
    "tags": []
   },
   "outputs": [],
   "source": [
    "import nltk\n",
    "\n",
    "#specifying the path to the already downloaded punkt dataset and other packages\n",
    "nltk.data.path.append('/kaggle/input/nltk-datasets/nltk_data')"
   ]
  },
  {
   "cell_type": "code",
   "execution_count": 14,
   "id": "ed689422",
   "metadata": {
    "execution": {
     "iopub.execute_input": "2025-05-12T13:47:05.461106Z",
     "iopub.status.busy": "2025-05-12T13:47:05.460635Z",
     "iopub.status.idle": "2025-05-12T13:47:05.464802Z",
     "shell.execute_reply": "2025-05-12T13:47:05.464109Z"
    },
    "papermill": {
     "duration": 0.01232,
     "end_time": "2025-05-12T13:47:05.466196",
     "exception": false,
     "start_time": "2025-05-12T13:47:05.453876",
     "status": "completed"
    },
    "tags": []
   },
   "outputs": [],
   "source": [
    "from nltk.tokenize import word_tokenize"
   ]
  },
  {
   "cell_type": "code",
   "execution_count": 15,
   "id": "0a5cb6ab",
   "metadata": {
    "execution": {
     "iopub.execute_input": "2025-05-12T13:47:05.478995Z",
     "iopub.status.busy": "2025-05-12T13:47:05.478678Z",
     "iopub.status.idle": "2025-05-12T13:47:14.338987Z",
     "shell.execute_reply": "2025-05-12T13:47:14.337976Z"
    },
    "papermill": {
     "duration": 8.868717,
     "end_time": "2025-05-12T13:47:14.340735",
     "exception": false,
     "start_time": "2025-05-12T13:47:05.472018",
     "status": "completed"
    },
    "tags": []
   },
   "outputs": [],
   "source": [
    "#splitting text into words\n",
    "df['Cleaned_Document'] = df['Cleaned_Document'].apply(word_tokenize)"
   ]
  },
  {
   "cell_type": "code",
   "execution_count": 16,
   "id": "0e089fc0",
   "metadata": {
    "execution": {
     "iopub.execute_input": "2025-05-12T13:47:14.353583Z",
     "iopub.status.busy": "2025-05-12T13:47:14.353282Z",
     "iopub.status.idle": "2025-05-12T13:47:14.362562Z",
     "shell.execute_reply": "2025-05-12T13:47:14.361648Z"
    },
    "papermill": {
     "duration": 0.017282,
     "end_time": "2025-05-12T13:47:14.363965",
     "exception": false,
     "start_time": "2025-05-12T13:47:14.346683",
     "status": "completed"
    },
    "tags": []
   },
   "outputs": [
    {
     "data": {
      "text/plain": [
       "0        [connection, with, icon, icon, dear, please, s...\n",
       "1        [work, experience, user, work, experience, use...\n",
       "2        [requesting, for, meeting, requesting, meeting...\n",
       "3        [reset, passwords, for, external, accounts, re...\n",
       "4        [mail, verification, warning, hi, has, got, at...\n",
       "                               ...                        \n",
       "47832    [git, space, for, a, project, issues, with, ad...\n",
       "47833    [error, sent, july, error, hi, guys, can, you,...\n",
       "47834    [connection, issues, sent, tuesday, july, conn...\n",
       "47835    [error, cube, reports, sent, tuesday, july, er...\n",
       "47836    [running, out, on, extensions, hello, please, ...\n",
       "Name: Cleaned_Document, Length: 47837, dtype: object"
      ]
     },
     "execution_count": 16,
     "metadata": {},
     "output_type": "execute_result"
    }
   ],
   "source": [
    "df['Cleaned_Document']"
   ]
  },
  {
   "cell_type": "code",
   "execution_count": 17,
   "id": "c13ed37c",
   "metadata": {
    "execution": {
     "iopub.execute_input": "2025-05-12T13:47:14.376959Z",
     "iopub.status.busy": "2025-05-12T13:47:14.376636Z",
     "iopub.status.idle": "2025-05-12T13:47:14.385363Z",
     "shell.execute_reply": "2025-05-12T13:47:14.384494Z"
    },
    "papermill": {
     "duration": 0.016852,
     "end_time": "2025-05-12T13:47:14.386739",
     "exception": false,
     "start_time": "2025-05-12T13:47:14.369887",
     "status": "completed"
    },
    "tags": []
   },
   "outputs": [
    {
     "name": "stdout",
     "output_type": "stream",
     "text": [
      "198\n"
     ]
    }
   ],
   "source": [
    "#removing stop-words\n",
    "from nltk.corpus import stopwords\n",
    "stop_words = set(stopwords.words('english'))\n",
    "print(len(stop_words)) #checking that stop-words are downloaded"
   ]
  },
  {
   "cell_type": "code",
   "execution_count": 18,
   "id": "c09fb244",
   "metadata": {
    "execution": {
     "iopub.execute_input": "2025-05-12T13:47:14.399769Z",
     "iopub.status.busy": "2025-05-12T13:47:14.399445Z",
     "iopub.status.idle": "2025-05-12T13:47:14.671061Z",
     "shell.execute_reply": "2025-05-12T13:47:14.670338Z"
    },
    "papermill": {
     "duration": 0.280083,
     "end_time": "2025-05-12T13:47:14.672761",
     "exception": false,
     "start_time": "2025-05-12T13:47:14.392678",
     "status": "completed"
    },
    "tags": []
   },
   "outputs": [],
   "source": [
    "df['Cleaned_Document'] = df['Cleaned_Document'].apply(\n",
    "    lambda toks: [w for w in toks if w not in stop_words]\n",
    ")"
   ]
  },
  {
   "cell_type": "code",
   "execution_count": 19,
   "id": "bf4e4470",
   "metadata": {
    "execution": {
     "iopub.execute_input": "2025-05-12T13:47:14.690274Z",
     "iopub.status.busy": "2025-05-12T13:47:14.689495Z",
     "iopub.status.idle": "2025-05-12T13:47:14.700758Z",
     "shell.execute_reply": "2025-05-12T13:47:14.699685Z"
    },
    "papermill": {
     "duration": 0.023292,
     "end_time": "2025-05-12T13:47:14.702298",
     "exception": false,
     "start_time": "2025-05-12T13:47:14.679006",
     "status": "completed"
    },
    "tags": []
   },
   "outputs": [
    {
     "data": {
      "text/plain": [
       "0        [connection, icon, icon, dear, please, setup, ...\n",
       "1        [work, experience, user, work, experience, use...\n",
       "2        [requesting, meeting, requesting, meeting, hi,...\n",
       "3        [reset, passwords, external, accounts, expire,...\n",
       "4        [mail, verification, warning, hi, got, attache...\n",
       "                               ...                        \n",
       "47832    [git, space, project, issues, adding, users, s...\n",
       "47833    [error, sent, july, error, hi, guys, help, err...\n",
       "47834    [connection, issues, sent, tuesday, july, conn...\n",
       "47835    [error, cube, reports, sent, tuesday, july, er...\n",
       "47836    [running, extensions, hello, please, advised, ...\n",
       "Name: Cleaned_Document, Length: 47837, dtype: object"
      ]
     },
     "execution_count": 19,
     "metadata": {},
     "output_type": "execute_result"
    }
   ],
   "source": [
    "df['Cleaned_Document']"
   ]
  },
  {
   "cell_type": "code",
   "execution_count": 20,
   "id": "7cf2d028",
   "metadata": {
    "execution": {
     "iopub.execute_input": "2025-05-12T13:47:14.723009Z",
     "iopub.status.busy": "2025-05-12T13:47:14.722543Z",
     "iopub.status.idle": "2025-05-12T13:47:25.471695Z",
     "shell.execute_reply": "2025-05-12T13:47:25.470976Z"
    },
    "papermill": {
     "duration": 10.763425,
     "end_time": "2025-05-12T13:47:25.473289",
     "exception": false,
     "start_time": "2025-05-12T13:47:14.709864",
     "status": "completed"
    },
    "tags": []
   },
   "outputs": [],
   "source": [
    "#lemmatization\n",
    "from nltk.stem import PorterStemmer, WordNetLemmatizer\n",
    "lemmatizer = WordNetLemmatizer()\n",
    "df['Cleaned_Document'] = df['Cleaned_Document'].apply(lambda doc: [lemmatizer.lemmatize(word) for word in doc])"
   ]
  },
  {
   "cell_type": "code",
   "execution_count": 21,
   "id": "2b59e99f",
   "metadata": {
    "execution": {
     "iopub.execute_input": "2025-05-12T13:47:25.486743Z",
     "iopub.status.busy": "2025-05-12T13:47:25.486425Z",
     "iopub.status.idle": "2025-05-12T13:47:25.495754Z",
     "shell.execute_reply": "2025-05-12T13:47:25.494848Z"
    },
    "papermill": {
     "duration": 0.017715,
     "end_time": "2025-05-12T13:47:25.497088",
     "exception": false,
     "start_time": "2025-05-12T13:47:25.479373",
     "status": "completed"
    },
    "tags": []
   },
   "outputs": [
    {
     "data": {
      "text/plain": [
       "0     [connection, icon, icon, dear, please, setup, ...\n",
       "1     [work, experience, user, work, experience, use...\n",
       "2     [requesting, meeting, requesting, meeting, hi,...\n",
       "3     [reset, password, external, account, expire, d...\n",
       "4     [mail, verification, warning, hi, got, attache...\n",
       "5     [mail, please, dear, look, blacklisted, receiv...\n",
       "6     [prod, server, tunneling, prod, tunneling, va,...\n",
       "7     [access, request, dear, module, report, report...\n",
       "8     [reset, password, client, password, client, de...\n",
       "9     [direct, report, missing, time, please, action...\n",
       "10    [laptop, connected, request, rebuild, connecte...\n",
       "11    [device, recovery, report, printer, alert, dup...\n",
       "12            [new, starter, hello, please, fill, date]\n",
       "13    [visual, studio, license, visual, studio, lice...\n",
       "14    [system, hello, movement, left, available, dev...\n",
       "15    [access, secondary, secondary, hi, please, pro...\n",
       "16    [list, sent, copy, copy, hi, receive, copy, be...\n",
       "17    [new, purchase, po, purchase, po, dear, purcha...\n",
       "18    [invitation, cloud, strategy, workshop, februa...\n",
       "19    [change, sale, owner, contract, change, owner,...\n",
       "Name: Cleaned_Document, dtype: object"
      ]
     },
     "execution_count": 21,
     "metadata": {},
     "output_type": "execute_result"
    }
   ],
   "source": [
    "df['Cleaned_Document'].head(20)"
   ]
  },
  {
   "cell_type": "code",
   "execution_count": 22,
   "id": "a81f8526",
   "metadata": {
    "execution": {
     "iopub.execute_input": "2025-05-12T13:47:25.511197Z",
     "iopub.status.busy": "2025-05-12T13:47:25.510132Z",
     "iopub.status.idle": "2025-05-12T13:47:25.520474Z",
     "shell.execute_reply": "2025-05-12T13:47:25.519599Z"
    },
    "papermill": {
     "duration": 0.018718,
     "end_time": "2025-05-12T13:47:25.521943",
     "exception": false,
     "start_time": "2025-05-12T13:47:25.503225",
     "status": "completed"
    },
    "tags": []
   },
   "outputs": [
    {
     "data": {
      "text/plain": [
       "47817    [submit, expense, even, though, added, electro...\n",
       "47818    [job, referral, available, sent, thursday, jul...\n",
       "47819    [oracle, update, another, bug, sent, thursday,...\n",
       "47820    [social, error, sent, thursday, july, error, d...\n",
       "47821    [backup, server, performance, issue, sent, thu...\n",
       "47822    [approving, expense, project, code, related, w...\n",
       "47823    [bug, sent, wednesday, july, bug, hello, disco...\n",
       "47824    [oracle, fusion, working, message, unplanned, ...\n",
       "47825    [issue, sent, friday, july, hi, issue, somethi...\n",
       "47826    [oracle, error, sent, thursday, july, error, h...\n",
       "47827    [bandwidth, problem, sent, thursday, july, ban...\n",
       "47828    [password, expire, day, sent, july, password, ...\n",
       "47829    [sensitive, information, access, sent, wednesd...\n",
       "47830    [malfunction, sent, tuesday, july, malfunction...\n",
       "47831    [outlook, account, laptop, laptop, sa, sa, si,...\n",
       "47832    [git, space, project, issue, adding, user, sen...\n",
       "47833    [error, sent, july, error, hi, guy, help, erro...\n",
       "47834    [connection, issue, sent, tuesday, july, conne...\n",
       "47835    [error, cube, report, sent, tuesday, july, err...\n",
       "47836    [running, extension, hello, please, advised, r...\n",
       "Name: Cleaned_Document, dtype: object"
      ]
     },
     "execution_count": 22,
     "metadata": {},
     "output_type": "execute_result"
    }
   ],
   "source": [
    "df['Cleaned_Document'].tail(20)"
   ]
  },
  {
   "cell_type": "markdown",
   "id": "ffac6914",
   "metadata": {
    "papermill": {
     "duration": 0.00592,
     "end_time": "2025-05-12T13:47:25.534440",
     "exception": false,
     "start_time": "2025-05-12T13:47:25.528520",
     "status": "completed"
    },
    "tags": []
   },
   "source": [
    "As I can see, besides stop words, the corpus contains many words like 'please', 'hi', 'hello', etc. These words can affect the efficiency of the algorithm, so I would remove them manually."
   ]
  },
  {
   "cell_type": "code",
   "execution_count": 23,
   "id": "0e403b44",
   "metadata": {
    "execution": {
     "iopub.execute_input": "2025-05-12T13:47:25.548445Z",
     "iopub.status.busy": "2025-05-12T13:47:25.547681Z",
     "iopub.status.idle": "2025-05-12T13:47:26.608787Z",
     "shell.execute_reply": "2025-05-12T13:47:26.607758Z"
    },
    "papermill": {
     "duration": 1.069931,
     "end_time": "2025-05-12T13:47:26.610639",
     "exception": false,
     "start_time": "2025-05-12T13:47:25.540708",
     "status": "completed"
    },
    "tags": []
   },
   "outputs": [],
   "source": [
    "custom_stopwords = ['hi', 'hello', 'dear', 'please', 'help', 'guy', 'guys',\n",
    "                   'thanks', 'thank', 'regards', 'best', 'hey', 'appreciate',\n",
    "                    'sorry', 'welcome', 'cheers', 'hello', 'goodbye', 'bye',\n",
    "                    'kindly', 'gladly']\n",
    "\n",
    "df['Cleaned_Document'] = df['Cleaned_Document'].apply(\n",
    "    lambda doc: [word for word in doc if word not in custom_stopwords]\n",
    ")"
   ]
  },
  {
   "cell_type": "code",
   "execution_count": 24,
   "id": "d5cd04ff",
   "metadata": {
    "execution": {
     "iopub.execute_input": "2025-05-12T13:47:26.624514Z",
     "iopub.status.busy": "2025-05-12T13:47:26.624153Z",
     "iopub.status.idle": "2025-05-12T13:47:26.633431Z",
     "shell.execute_reply": "2025-05-12T13:47:26.632500Z"
    },
    "papermill": {
     "duration": 0.017788,
     "end_time": "2025-05-12T13:47:26.634860",
     "exception": false,
     "start_time": "2025-05-12T13:47:26.617072",
     "status": "completed"
    },
    "tags": []
   },
   "outputs": [
    {
     "data": {
      "text/plain": [
       "0        [connection, icon, icon, setup, icon, per, ico...\n",
       "1        [work, experience, user, work, experience, use...\n",
       "2        [requesting, meeting, requesting, meeting, fol...\n",
       "3        [reset, password, external, account, expire, d...\n",
       "4        [mail, verification, warning, got, attached, a...\n",
       "                               ...                        \n",
       "47832    [git, space, project, issue, adding, user, sen...\n",
       "47833    [error, sent, july, error, error, appearing, w...\n",
       "47834    [connection, issue, sent, tuesday, july, conne...\n",
       "47835    [error, cube, report, sent, tuesday, july, err...\n",
       "47836    [running, extension, advised, running, extensi...\n",
       "Name: Cleaned_Document, Length: 47837, dtype: object"
      ]
     },
     "execution_count": 24,
     "metadata": {},
     "output_type": "execute_result"
    }
   ],
   "source": [
    "df['Cleaned_Document']"
   ]
  },
  {
   "cell_type": "code",
   "execution_count": 25,
   "id": "b4faac8d",
   "metadata": {
    "execution": {
     "iopub.execute_input": "2025-05-12T13:47:26.650306Z",
     "iopub.status.busy": "2025-05-12T13:47:26.649948Z",
     "iopub.status.idle": "2025-05-12T13:47:26.884055Z",
     "shell.execute_reply": "2025-05-12T13:47:26.883016Z"
    },
    "papermill": {
     "duration": 0.243716,
     "end_time": "2025-05-12T13:47:26.885917",
     "exception": false,
     "start_time": "2025-05-12T13:47:26.642201",
     "status": "completed"
    },
    "tags": []
   },
   "outputs": [],
   "source": [
    "#%pip install contractions\n",
    "#import contractions\n",
    "\n",
    "contraction_map = {\n",
    "    \"aren't\": \"are not\",\n",
    "    \"can't\": \"cannot\",\n",
    "    \"couldn't\": \"could not\",\n",
    "    \"didn't\": \"did not\",\n",
    "    \"doesn't\": \"does not\",\n",
    "    \"don't\": \"do not\",\n",
    "    \"hadn't\": \"had not\",\n",
    "    \"hasn't\": \"has not\",\n",
    "    \"haven't\": \"have not\",\n",
    "    \"he'd\": \"he would\",\n",
    "    \"he'll\": \"he will\",\n",
    "    \"he's\": \"he is\",\n",
    "    \"i'd\": \"i would\",\n",
    "    \"i'll\": \"i will\",\n",
    "    \"i'm\": \"i am\",\n",
    "    \"i've\": \"i have\",\n",
    "    \"isn't\": \"is not\",\n",
    "    \"it's\": \"it is\",\n",
    "    \"let's\": \"let us\",\n",
    "    \"mightn't\": \"might not\",\n",
    "    \"mustn't\": \"must not\",\n",
    "    \"shan't\": \"shall not\",\n",
    "    \"she'd\": \"she would\",\n",
    "    \"she'll\": \"she will\",\n",
    "    \"she's\": \"she is\",\n",
    "    \"shouldn't\": \"should not\",\n",
    "    \"that's\": \"that is\",\n",
    "    \"there's\": \"there is\",\n",
    "    \"they'd\": \"they would\",\n",
    "    \"they'll\": \"they will\",\n",
    "    \"they're\": \"they are\",\n",
    "    \"they've\": \"they have\",\n",
    "    \"we'd\": \"we would\",\n",
    "    \"we're\": \"we are\",\n",
    "    \"we've\": \"we have\",\n",
    "    \"weren't\": \"were not\",\n",
    "    \"what'll\": \"what will\",\n",
    "    \"what're\": \"what are\",\n",
    "    \"what's\": \"what is\",\n",
    "    \"what've\": \"what have\",\n",
    "    \"where's\": \"where is\",\n",
    "    \"who's\": \"who is\",\n",
    "    \"who'll\": \"who will\",\n",
    "    \"won't\": \"will not\",\n",
    "    \"wouldn't\": \"would not\",\n",
    "    \"you'd\": \"you would\",\n",
    "    \"you'll\": \"you will\",\n",
    "    \"you're\": \"you are\",\n",
    "    \"you've\": \"you have\"\n",
    "}\n",
    "\n",
    "def expand_contractions_tokenized(doc):\n",
    "    return [contraction_map.get(word, word) for word in doc]\n",
    "\n",
    "df['Cleaned_Document'] = df['Cleaned_Document'].apply(expand_contractions_tokenized)"
   ]
  },
  {
   "cell_type": "code",
   "execution_count": 26,
   "id": "036ed47e",
   "metadata": {
    "execution": {
     "iopub.execute_input": "2025-05-12T13:47:26.901108Z",
     "iopub.status.busy": "2025-05-12T13:47:26.900761Z",
     "iopub.status.idle": "2025-05-12T13:47:26.910921Z",
     "shell.execute_reply": "2025-05-12T13:47:26.909558Z"
    },
    "papermill": {
     "duration": 0.020643,
     "end_time": "2025-05-12T13:47:26.913269",
     "exception": false,
     "start_time": "2025-05-12T13:47:26.892626",
     "status": "completed"
    },
    "tags": []
   },
   "outputs": [
    {
     "data": {
      "text/plain": [
       "0        [connection, icon, icon, setup, icon, per, ico...\n",
       "1        [work, experience, user, work, experience, use...\n",
       "2        [requesting, meeting, requesting, meeting, fol...\n",
       "3        [reset, password, external, account, expire, d...\n",
       "4        [mail, verification, warning, got, attached, a...\n",
       "                               ...                        \n",
       "47832    [git, space, project, issue, adding, user, sen...\n",
       "47833    [error, sent, july, error, error, appearing, w...\n",
       "47834    [connection, issue, sent, tuesday, july, conne...\n",
       "47835    [error, cube, report, sent, tuesday, july, err...\n",
       "47836    [running, extension, advised, running, extensi...\n",
       "Name: Cleaned_Document, Length: 47837, dtype: object"
      ]
     },
     "execution_count": 26,
     "metadata": {},
     "output_type": "execute_result"
    }
   ],
   "source": [
    "df['Cleaned_Document'] "
   ]
  },
  {
   "cell_type": "code",
   "execution_count": 27,
   "id": "43d7f39d",
   "metadata": {
    "execution": {
     "iopub.execute_input": "2025-05-12T13:47:26.929576Z",
     "iopub.status.busy": "2025-05-12T13:47:26.929154Z",
     "iopub.status.idle": "2025-05-12T13:47:28.613159Z",
     "shell.execute_reply": "2025-05-12T13:47:28.612416Z"
    },
    "papermill": {
     "duration": 1.693731,
     "end_time": "2025-05-12T13:47:28.614751",
     "exception": false,
     "start_time": "2025-05-12T13:47:26.921020",
     "status": "completed"
    },
    "tags": []
   },
   "outputs": [],
   "source": [
    "#saving dataset\n",
    "df['Cleaned_Document_Str'] = df['Cleaned_Document'].apply(lambda tokens: ' '.join(tokens))\n",
    "df.to_csv('cleaned_dataset.csv', index=False)"
   ]
  },
  {
   "cell_type": "markdown",
   "id": "3320e554",
   "metadata": {
    "papermill": {
     "duration": 0.006121,
     "end_time": "2025-05-12T13:47:28.627581",
     "exception": false,
     "start_time": "2025-05-12T13:47:28.621460",
     "status": "completed"
    },
    "tags": []
   },
   "source": [
    "# Classification"
   ]
  },
  {
   "cell_type": "code",
   "execution_count": 28,
   "id": "9fb623cc",
   "metadata": {
    "execution": {
     "iopub.execute_input": "2025-05-12T13:47:28.642297Z",
     "iopub.status.busy": "2025-05-12T13:47:28.641688Z",
     "iopub.status.idle": "2025-05-12T13:47:28.653087Z",
     "shell.execute_reply": "2025-05-12T13:47:28.652253Z"
    },
    "papermill": {
     "duration": 0.020471,
     "end_time": "2025-05-12T13:47:28.654468",
     "exception": false,
     "start_time": "2025-05-12T13:47:28.633997",
     "status": "completed"
    },
    "tags": []
   },
   "outputs": [
    {
     "data": {
      "text/html": [
       "<div>\n",
       "<style scoped>\n",
       "    .dataframe tbody tr th:only-of-type {\n",
       "        vertical-align: middle;\n",
       "    }\n",
       "\n",
       "    .dataframe tbody tr th {\n",
       "        vertical-align: top;\n",
       "    }\n",
       "\n",
       "    .dataframe thead th {\n",
       "        text-align: right;\n",
       "    }\n",
       "</style>\n",
       "<table border=\"1\" class=\"dataframe\">\n",
       "  <thead>\n",
       "    <tr style=\"text-align: right;\">\n",
       "      <th></th>\n",
       "      <th>Document</th>\n",
       "      <th>Topic_group</th>\n",
       "      <th>Cleaned_Document</th>\n",
       "      <th>Cleaned_Document_Str</th>\n",
       "    </tr>\n",
       "  </thead>\n",
       "  <tbody>\n",
       "    <tr>\n",
       "      <th>0</th>\n",
       "      <td>connection with icon icon dear please setup ic...</td>\n",
       "      <td>Hardware</td>\n",
       "      <td>[connection, icon, icon, setup, icon, per, ico...</td>\n",
       "      <td>connection icon icon setup icon per icon engin...</td>\n",
       "    </tr>\n",
       "    <tr>\n",
       "      <th>1</th>\n",
       "      <td>work experience user work experience user hi w...</td>\n",
       "      <td>Access</td>\n",
       "      <td>[work, experience, user, work, experience, use...</td>\n",
       "      <td>work experience user work experience user work...</td>\n",
       "    </tr>\n",
       "    <tr>\n",
       "      <th>2</th>\n",
       "      <td>requesting for meeting requesting meeting hi p...</td>\n",
       "      <td>Hardware</td>\n",
       "      <td>[requesting, meeting, requesting, meeting, fol...</td>\n",
       "      <td>requesting meeting requesting meeting follow e...</td>\n",
       "    </tr>\n",
       "    <tr>\n",
       "      <th>3</th>\n",
       "      <td>reset passwords for external accounts re expir...</td>\n",
       "      <td>Access</td>\n",
       "      <td>[reset, password, external, account, expire, d...</td>\n",
       "      <td>reset password external account expire day ask...</td>\n",
       "    </tr>\n",
       "    <tr>\n",
       "      <th>4</th>\n",
       "      <td>mail verification warning hi has got attached ...</td>\n",
       "      <td>Miscellaneous</td>\n",
       "      <td>[mail, verification, warning, got, attached, a...</td>\n",
       "      <td>mail verification warning got attached address...</td>\n",
       "    </tr>\n",
       "  </tbody>\n",
       "</table>\n",
       "</div>"
      ],
      "text/plain": [
       "                                            Document    Topic_group  \\\n",
       "0  connection with icon icon dear please setup ic...       Hardware   \n",
       "1  work experience user work experience user hi w...         Access   \n",
       "2  requesting for meeting requesting meeting hi p...       Hardware   \n",
       "3  reset passwords for external accounts re expir...         Access   \n",
       "4  mail verification warning hi has got attached ...  Miscellaneous   \n",
       "\n",
       "                                    Cleaned_Document  \\\n",
       "0  [connection, icon, icon, setup, icon, per, ico...   \n",
       "1  [work, experience, user, work, experience, use...   \n",
       "2  [requesting, meeting, requesting, meeting, fol...   \n",
       "3  [reset, password, external, account, expire, d...   \n",
       "4  [mail, verification, warning, got, attached, a...   \n",
       "\n",
       "                                Cleaned_Document_Str  \n",
       "0  connection icon icon setup icon per icon engin...  \n",
       "1  work experience user work experience user work...  \n",
       "2  requesting meeting requesting meeting follow e...  \n",
       "3  reset password external account expire day ask...  \n",
       "4  mail verification warning got attached address...  "
      ]
     },
     "execution_count": 28,
     "metadata": {},
     "output_type": "execute_result"
    }
   ],
   "source": [
    "df.head()"
   ]
  },
  {
   "cell_type": "code",
   "execution_count": 29,
   "id": "14a4e375",
   "metadata": {
    "execution": {
     "iopub.execute_input": "2025-05-12T13:47:28.736740Z",
     "iopub.status.busy": "2025-05-12T13:47:28.736139Z",
     "iopub.status.idle": "2025-05-12T13:47:28.745292Z",
     "shell.execute_reply": "2025-05-12T13:47:28.744503Z"
    },
    "papermill": {
     "duration": 0.017922,
     "end_time": "2025-05-12T13:47:28.746686",
     "exception": false,
     "start_time": "2025-05-12T13:47:28.728764",
     "status": "completed"
    },
    "tags": []
   },
   "outputs": [
    {
     "data": {
      "text/plain": [
       "array(['Hardware', 'Access', 'Miscellaneous', 'HR Support', 'Purchase',\n",
       "       'Administrative rights', 'Storage', 'Internal Project'],\n",
       "      dtype=object)"
      ]
     },
     "execution_count": 29,
     "metadata": {},
     "output_type": "execute_result"
    }
   ],
   "source": [
    "df['Topic_group'].unique()"
   ]
  }
 ],
 "metadata": {
  "kaggle": {
   "accelerator": "none",
   "dataSources": [
    {
     "datasetId": 4460055,
     "sourceId": 7650678,
     "sourceType": "datasetVersion"
    }
   ],
   "dockerImageVersionId": 31012,
   "isGpuEnabled": false,
   "isInternetEnabled": false,
   "language": "python",
   "sourceType": "notebook"
  },
  "kernelspec": {
   "display_name": "Python 3",
   "language": "python",
   "name": "python3"
  },
  "language_info": {
   "codemirror_mode": {
    "name": "ipython",
    "version": 3
   },
   "file_extension": ".py",
   "mimetype": "text/x-python",
   "name": "python",
   "nbconvert_exporter": "python",
   "pygments_lexer": "ipython3",
   "version": "3.11.11"
  },
  "papermill": {
   "default_parameters": {},
   "duration": 39.070153,
   "end_time": "2025-05-12T13:47:30.478753",
   "environment_variables": {},
   "exception": null,
   "input_path": "__notebook__.ipynb",
   "output_path": "__notebook__.ipynb",
   "parameters": {},
   "start_time": "2025-05-12T13:46:51.408600",
   "version": "2.6.0"
  }
 },
 "nbformat": 4,
 "nbformat_minor": 5
}
