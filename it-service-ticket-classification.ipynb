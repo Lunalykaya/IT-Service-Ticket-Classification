{
 "cells": [
  {
   "cell_type": "code",
   "execution_count": 1,
   "id": "51fe16c8",
   "metadata": {
    "_cell_guid": "b1076dfc-b9ad-4769-8c92-a6c4dae69d19",
    "_uuid": "8f2839f25d086af736a60e9eeb907d3b93b6e0e5",
    "execution": {
     "iopub.execute_input": "2025-05-12T14:21:02.135676Z",
     "iopub.status.busy": "2025-05-12T14:21:02.135236Z",
     "iopub.status.idle": "2025-05-12T14:21:04.356063Z",
     "shell.execute_reply": "2025-05-12T14:21:04.355004Z"
    },
    "papermill": {
     "duration": 2.23136,
     "end_time": "2025-05-12T14:21:04.357752",
     "exception": false,
     "start_time": "2025-05-12T14:21:02.126392",
     "status": "completed"
    },
    "tags": []
   },
   "outputs": [
    {
     "name": "stdout",
     "output_type": "stream",
     "text": [
      "/kaggle/input/it-service-ticket-classification-dataset/all_tickets_processed_improved_v3.csv\n"
     ]
    }
   ],
   "source": [
    "# This Python 3 environment comes with many helpful analytics libraries installed\n",
    "# It is defined by the kaggle/python Docker image: https://github.com/kaggle/docker-python\n",
    "# For example, here's several helpful packages to load\n",
    "\n",
    "import numpy as np # linear algebra\n",
    "import pandas as pd # data processing, CSV file I/O (e.g. pd.read_csv)\n",
    "\n",
    "# Input data files are available in the read-only \"../input/\" directory\n",
    "# For example, running this (by clicking run or pressing Shift+Enter) will list all files under the input directory\n",
    "\n",
    "import os\n",
    "for dirname, _, filenames in os.walk('/kaggle/input'):\n",
    "    for filename in filenames:\n",
    "        print(os.path.join(dirname, filename))\n",
    "\n",
    "# You can write up to 20GB to the current directory (/kaggle/working/) that gets preserved as output when you create a version using \"Save & Run All\" \n",
    "# You can also write temporary files to /kaggle/temp/, but they won't be saved outside of the current session"
   ]
  },
  {
   "cell_type": "markdown",
   "id": "378eeb40",
   "metadata": {
    "papermill": {
     "duration": 0.005641,
     "end_time": "2025-05-12T14:21:04.369823",
     "exception": false,
     "start_time": "2025-05-12T14:21:04.364182",
     "status": "completed"
    },
    "tags": []
   },
   "source": [
    "# Loading data"
   ]
  },
  {
   "cell_type": "code",
   "execution_count": 2,
   "id": "d15c0c4d",
   "metadata": {
    "execution": {
     "iopub.execute_input": "2025-05-12T14:21:04.384403Z",
     "iopub.status.busy": "2025-05-12T14:21:04.383953Z",
     "iopub.status.idle": "2025-05-12T14:21:04.389057Z",
     "shell.execute_reply": "2025-05-12T14:21:04.387826Z"
    },
    "papermill": {
     "duration": 0.01374,
     "end_time": "2025-05-12T14:21:04.390748",
     "exception": false,
     "start_time": "2025-05-12T14:21:04.377008",
     "status": "completed"
    },
    "tags": []
   },
   "outputs": [],
   "source": [
    "import pandas as pd\n",
    "import numpy as np"
   ]
  },
  {
   "cell_type": "code",
   "execution_count": 3,
   "id": "8244a24d",
   "metadata": {
    "execution": {
     "iopub.execute_input": "2025-05-12T14:21:04.404258Z",
     "iopub.status.busy": "2025-05-12T14:21:04.403898Z",
     "iopub.status.idle": "2025-05-12T14:21:05.004961Z",
     "shell.execute_reply": "2025-05-12T14:21:05.003862Z"
    },
    "papermill": {
     "duration": 0.610113,
     "end_time": "2025-05-12T14:21:05.006975",
     "exception": false,
     "start_time": "2025-05-12T14:21:04.396862",
     "status": "completed"
    },
    "tags": []
   },
   "outputs": [
    {
     "name": "stdout",
     "output_type": "stream",
     "text": [
      "Path to dataset files: /kaggle/input/it-service-ticket-classification-dataset\n"
     ]
    }
   ],
   "source": [
    "import kagglehub\n",
    "\n",
    "# Download latest version\n",
    "path = kagglehub.dataset_download(\"adisongoh/it-service-ticket-classification-dataset\")\n",
    "\n",
    "print(\"Path to dataset files:\", path)"
   ]
  },
  {
   "cell_type": "code",
   "execution_count": 4,
   "id": "7b0bb68b",
   "metadata": {
    "execution": {
     "iopub.execute_input": "2025-05-12T14:21:05.025127Z",
     "iopub.status.busy": "2025-05-12T14:21:05.024157Z",
     "iopub.status.idle": "2025-05-12T14:21:05.446443Z",
     "shell.execute_reply": "2025-05-12T14:21:05.445352Z"
    },
    "papermill": {
     "duration": 0.432664,
     "end_time": "2025-05-12T14:21:05.448862",
     "exception": false,
     "start_time": "2025-05-12T14:21:05.016198",
     "status": "completed"
    },
    "tags": []
   },
   "outputs": [],
   "source": [
    "#reading df\n",
    "df = pd.read_csv('/kaggle/input/it-service-ticket-classification-dataset/all_tickets_processed_improved_v3.csv')"
   ]
  },
  {
   "cell_type": "code",
   "execution_count": 5,
   "id": "5196eae7",
   "metadata": {
    "execution": {
     "iopub.execute_input": "2025-05-12T14:21:05.463938Z",
     "iopub.status.busy": "2025-05-12T14:21:05.463611Z",
     "iopub.status.idle": "2025-05-12T14:21:05.508698Z",
     "shell.execute_reply": "2025-05-12T14:21:05.507520Z"
    },
    "papermill": {
     "duration": 0.05477,
     "end_time": "2025-05-12T14:21:05.510553",
     "exception": false,
     "start_time": "2025-05-12T14:21:05.455783",
     "status": "completed"
    },
    "tags": []
   },
   "outputs": [
    {
     "name": "stdout",
     "output_type": "stream",
     "text": [
      "<class 'pandas.core.frame.DataFrame'>\n",
      "RangeIndex: 47837 entries, 0 to 47836\n",
      "Data columns (total 2 columns):\n",
      " #   Column       Non-Null Count  Dtype \n",
      "---  ------       --------------  ----- \n",
      " 0   Document     47837 non-null  object\n",
      " 1   Topic_group  47837 non-null  object\n",
      "dtypes: object(2)\n",
      "memory usage: 747.6+ KB\n"
     ]
    }
   ],
   "source": [
    "df.info()"
   ]
  },
  {
   "cell_type": "code",
   "execution_count": 6,
   "id": "87d29a32",
   "metadata": {
    "execution": {
     "iopub.execute_input": "2025-05-12T14:21:05.526698Z",
     "iopub.status.busy": "2025-05-12T14:21:05.525296Z",
     "iopub.status.idle": "2025-05-12T14:21:05.549286Z",
     "shell.execute_reply": "2025-05-12T14:21:05.548360Z"
    },
    "papermill": {
     "duration": 0.033757,
     "end_time": "2025-05-12T14:21:05.551256",
     "exception": false,
     "start_time": "2025-05-12T14:21:05.517499",
     "status": "completed"
    },
    "tags": []
   },
   "outputs": [
    {
     "data": {
      "text/html": [
       "<div>\n",
       "<style scoped>\n",
       "    .dataframe tbody tr th:only-of-type {\n",
       "        vertical-align: middle;\n",
       "    }\n",
       "\n",
       "    .dataframe tbody tr th {\n",
       "        vertical-align: top;\n",
       "    }\n",
       "\n",
       "    .dataframe thead th {\n",
       "        text-align: right;\n",
       "    }\n",
       "</style>\n",
       "<table border=\"1\" class=\"dataframe\">\n",
       "  <thead>\n",
       "    <tr style=\"text-align: right;\">\n",
       "      <th></th>\n",
       "      <th>Document</th>\n",
       "      <th>Topic_group</th>\n",
       "    </tr>\n",
       "  </thead>\n",
       "  <tbody>\n",
       "    <tr>\n",
       "      <th>0</th>\n",
       "      <td>connection with icon icon dear please setup ic...</td>\n",
       "      <td>Hardware</td>\n",
       "    </tr>\n",
       "    <tr>\n",
       "      <th>1</th>\n",
       "      <td>work experience user work experience user hi w...</td>\n",
       "      <td>Access</td>\n",
       "    </tr>\n",
       "    <tr>\n",
       "      <th>2</th>\n",
       "      <td>requesting for meeting requesting meeting hi p...</td>\n",
       "      <td>Hardware</td>\n",
       "    </tr>\n",
       "    <tr>\n",
       "      <th>3</th>\n",
       "      <td>reset passwords for external accounts re expir...</td>\n",
       "      <td>Access</td>\n",
       "    </tr>\n",
       "    <tr>\n",
       "      <th>4</th>\n",
       "      <td>mail verification warning hi has got attached ...</td>\n",
       "      <td>Miscellaneous</td>\n",
       "    </tr>\n",
       "  </tbody>\n",
       "</table>\n",
       "</div>"
      ],
      "text/plain": [
       "                                            Document    Topic_group\n",
       "0  connection with icon icon dear please setup ic...       Hardware\n",
       "1  work experience user work experience user hi w...         Access\n",
       "2  requesting for meeting requesting meeting hi p...       Hardware\n",
       "3  reset passwords for external accounts re expir...         Access\n",
       "4  mail verification warning hi has got attached ...  Miscellaneous"
      ]
     },
     "execution_count": 6,
     "metadata": {},
     "output_type": "execute_result"
    }
   ],
   "source": [
    "#quick preview of the df\n",
    "df.head()"
   ]
  },
  {
   "cell_type": "code",
   "execution_count": 7,
   "id": "a67de68d",
   "metadata": {
    "execution": {
     "iopub.execute_input": "2025-05-12T14:21:05.567190Z",
     "iopub.status.busy": "2025-05-12T14:21:05.566846Z",
     "iopub.status.idle": "2025-05-12T14:21:05.581632Z",
     "shell.execute_reply": "2025-05-12T14:21:05.580290Z"
    },
    "papermill": {
     "duration": 0.024296,
     "end_time": "2025-05-12T14:21:05.583819",
     "exception": false,
     "start_time": "2025-05-12T14:21:05.559523",
     "status": "completed"
    },
    "tags": []
   },
   "outputs": [
    {
     "data": {
      "text/plain": [
       "array(['Hardware', 'Access', 'Miscellaneous', 'HR Support', 'Purchase',\n",
       "       'Administrative rights', 'Storage', 'Internal Project'],\n",
       "      dtype=object)"
      ]
     },
     "execution_count": 7,
     "metadata": {},
     "output_type": "execute_result"
    }
   ],
   "source": [
    "#viewing unique values (categories) in Topic_group\n",
    "df['Topic_group'].nunique()\n",
    "df['Topic_group'].unique()"
   ]
  },
  {
   "cell_type": "code",
   "execution_count": 8,
   "id": "cd8fa111",
   "metadata": {
    "execution": {
     "iopub.execute_input": "2025-05-12T14:21:05.598670Z",
     "iopub.status.busy": "2025-05-12T14:21:05.598248Z",
     "iopub.status.idle": "2025-05-12T14:21:05.615248Z",
     "shell.execute_reply": "2025-05-12T14:21:05.614279Z"
    },
    "papermill": {
     "duration": 0.026191,
     "end_time": "2025-05-12T14:21:05.617025",
     "exception": false,
     "start_time": "2025-05-12T14:21:05.590834",
     "status": "completed"
    },
    "tags": []
   },
   "outputs": [
    {
     "data": {
      "text/plain": [
       "Document       0\n",
       "Topic_group    0\n",
       "dtype: int64"
      ]
     },
     "execution_count": 8,
     "metadata": {},
     "output_type": "execute_result"
    }
   ],
   "source": [
    "#checking na\n",
    "df.isnull().sum()"
   ]
  },
  {
   "cell_type": "code",
   "execution_count": 9,
   "id": "9e0ecfd0",
   "metadata": {
    "execution": {
     "iopub.execute_input": "2025-05-12T14:21:05.632026Z",
     "iopub.status.busy": "2025-05-12T14:21:05.631639Z",
     "iopub.status.idle": "2025-05-12T14:21:05.693790Z",
     "shell.execute_reply": "2025-05-12T14:21:05.692603Z"
    },
    "papermill": {
     "duration": 0.073292,
     "end_time": "2025-05-12T14:21:05.697401",
     "exception": false,
     "start_time": "2025-05-12T14:21:05.624109",
     "status": "completed"
    },
    "tags": []
   },
   "outputs": [
    {
     "data": {
      "text/plain": [
       "0"
      ]
     },
     "execution_count": 9,
     "metadata": {},
     "output_type": "execute_result"
    }
   ],
   "source": [
    "#checking duplicates\n",
    "df.duplicated().sum()"
   ]
  },
  {
   "cell_type": "markdown",
   "id": "9b4c469e",
   "metadata": {
    "papermill": {
     "duration": 0.006045,
     "end_time": "2025-05-12T14:21:05.709804",
     "exception": false,
     "start_time": "2025-05-12T14:21:05.703759",
     "status": "completed"
    },
    "tags": []
   },
   "source": [
    "# Text Preprocessing"
   ]
  },
  {
   "cell_type": "code",
   "execution_count": 10,
   "id": "49839e3c",
   "metadata": {
    "execution": {
     "iopub.execute_input": "2025-05-12T14:21:05.723824Z",
     "iopub.status.busy": "2025-05-12T14:21:05.723496Z",
     "iopub.status.idle": "2025-05-12T14:21:06.095980Z",
     "shell.execute_reply": "2025-05-12T14:21:06.094907Z"
    },
    "papermill": {
     "duration": 0.381543,
     "end_time": "2025-05-12T14:21:06.097791",
     "exception": false,
     "start_time": "2025-05-12T14:21:05.716248",
     "status": "completed"
    },
    "tags": []
   },
   "outputs": [],
   "source": [
    "import re\n",
    "import string\n",
    "from bs4 import BeautifulSoup"
   ]
  },
  {
   "cell_type": "code",
   "execution_count": 11,
   "id": "4fea0200",
   "metadata": {
    "execution": {
     "iopub.execute_input": "2025-05-12T14:21:06.112418Z",
     "iopub.status.busy": "2025-05-12T14:21:06.111899Z",
     "iopub.status.idle": "2025-05-12T14:21:06.117651Z",
     "shell.execute_reply": "2025-05-12T14:21:06.116692Z"
    },
    "papermill": {
     "duration": 0.015043,
     "end_time": "2025-05-12T14:21:06.119581",
     "exception": false,
     "start_time": "2025-05-12T14:21:06.104538",
     "status": "completed"
    },
    "tags": []
   },
   "outputs": [],
   "source": [
    "def cleaned_text (text):\n",
    "    text = text.lower() #converting to lower case\n",
    "    text = re.sub(r'\\d+', '', text) #removing numbers\n",
    "    text = text.translate(str.maketrans('', '', string.punctuation)) \n",
    "    #removing punctuation\n",
    "    text = re.sub(r'\\W', ' ', text) #removing special characters\n",
    "    text = BeautifulSoup(text, \"html.parser\").get_text() #removing HTML tags\n",
    "    return text"
   ]
  },
  {
   "cell_type": "code",
   "execution_count": 12,
   "id": "49baf0c2",
   "metadata": {
    "execution": {
     "iopub.execute_input": "2025-05-12T14:21:06.135471Z",
     "iopub.status.busy": "2025-05-12T14:21:06.135106Z",
     "iopub.status.idle": "2025-05-12T14:21:09.679326Z",
     "shell.execute_reply": "2025-05-12T14:21:09.678197Z"
    },
    "papermill": {
     "duration": 3.554151,
     "end_time": "2025-05-12T14:21:09.681141",
     "exception": false,
     "start_time": "2025-05-12T14:21:06.126990",
     "status": "completed"
    },
    "tags": []
   },
   "outputs": [],
   "source": [
    "df['Cleaned_Document'] = df['Document'].apply(cleaned_text)"
   ]
  },
  {
   "cell_type": "code",
   "execution_count": 13,
   "id": "40d8b739",
   "metadata": {
    "execution": {
     "iopub.execute_input": "2025-05-12T14:21:09.697294Z",
     "iopub.status.busy": "2025-05-12T14:21:09.696960Z",
     "iopub.status.idle": "2025-05-12T14:21:12.473903Z",
     "shell.execute_reply": "2025-05-12T14:21:12.472685Z"
    },
    "papermill": {
     "duration": 2.786607,
     "end_time": "2025-05-12T14:21:12.475835",
     "exception": false,
     "start_time": "2025-05-12T14:21:09.689228",
     "status": "completed"
    },
    "tags": []
   },
   "outputs": [],
   "source": [
    "import nltk\n",
    "\n",
    "#specifying the path to the already downloaded punkt dataset and other packages\n",
    "nltk.data.path.append('/kaggle/input/nltk-datasets/nltk_data')"
   ]
  },
  {
   "cell_type": "code",
   "execution_count": 14,
   "id": "d942fd7c",
   "metadata": {
    "execution": {
     "iopub.execute_input": "2025-05-12T14:21:12.492649Z",
     "iopub.status.busy": "2025-05-12T14:21:12.491374Z",
     "iopub.status.idle": "2025-05-12T14:21:12.496861Z",
     "shell.execute_reply": "2025-05-12T14:21:12.495815Z"
    },
    "papermill": {
     "duration": 0.015733,
     "end_time": "2025-05-12T14:21:12.498463",
     "exception": false,
     "start_time": "2025-05-12T14:21:12.482730",
     "status": "completed"
    },
    "tags": []
   },
   "outputs": [],
   "source": [
    "from nltk.tokenize import word_tokenize"
   ]
  },
  {
   "cell_type": "code",
   "execution_count": 15,
   "id": "bc527da4",
   "metadata": {
    "execution": {
     "iopub.execute_input": "2025-05-12T14:21:12.513389Z",
     "iopub.status.busy": "2025-05-12T14:21:12.512896Z",
     "iopub.status.idle": "2025-05-12T14:21:21.624607Z",
     "shell.execute_reply": "2025-05-12T14:21:21.623686Z"
    },
    "papermill": {
     "duration": 9.120932,
     "end_time": "2025-05-12T14:21:21.626367",
     "exception": false,
     "start_time": "2025-05-12T14:21:12.505435",
     "status": "completed"
    },
    "tags": []
   },
   "outputs": [],
   "source": [
    "#splitting text into words\n",
    "df['Cleaned_Document'] = df['Cleaned_Document'].apply(word_tokenize)"
   ]
  },
  {
   "cell_type": "code",
   "execution_count": 16,
   "id": "275f7f45",
   "metadata": {
    "execution": {
     "iopub.execute_input": "2025-05-12T14:21:21.640734Z",
     "iopub.status.busy": "2025-05-12T14:21:21.640412Z",
     "iopub.status.idle": "2025-05-12T14:21:21.649942Z",
     "shell.execute_reply": "2025-05-12T14:21:21.649092Z"
    },
    "papermill": {
     "duration": 0.018507,
     "end_time": "2025-05-12T14:21:21.651392",
     "exception": false,
     "start_time": "2025-05-12T14:21:21.632885",
     "status": "completed"
    },
    "tags": []
   },
   "outputs": [
    {
     "data": {
      "text/plain": [
       "0        [connection, with, icon, icon, dear, please, s...\n",
       "1        [work, experience, user, work, experience, use...\n",
       "2        [requesting, for, meeting, requesting, meeting...\n",
       "3        [reset, passwords, for, external, accounts, re...\n",
       "4        [mail, verification, warning, hi, has, got, at...\n",
       "                               ...                        \n",
       "47832    [git, space, for, a, project, issues, with, ad...\n",
       "47833    [error, sent, july, error, hi, guys, can, you,...\n",
       "47834    [connection, issues, sent, tuesday, july, conn...\n",
       "47835    [error, cube, reports, sent, tuesday, july, er...\n",
       "47836    [running, out, on, extensions, hello, please, ...\n",
       "Name: Cleaned_Document, Length: 47837, dtype: object"
      ]
     },
     "execution_count": 16,
     "metadata": {},
     "output_type": "execute_result"
    }
   ],
   "source": [
    "df['Cleaned_Document']"
   ]
  },
  {
   "cell_type": "code",
   "execution_count": 17,
   "id": "0a77b81a",
   "metadata": {
    "execution": {
     "iopub.execute_input": "2025-05-12T14:21:21.666770Z",
     "iopub.status.busy": "2025-05-12T14:21:21.666445Z",
     "iopub.status.idle": "2025-05-12T14:21:21.677004Z",
     "shell.execute_reply": "2025-05-12T14:21:21.676005Z"
    },
    "papermill": {
     "duration": 0.020058,
     "end_time": "2025-05-12T14:21:21.678674",
     "exception": false,
     "start_time": "2025-05-12T14:21:21.658616",
     "status": "completed"
    },
    "tags": []
   },
   "outputs": [
    {
     "name": "stdout",
     "output_type": "stream",
     "text": [
      "198\n"
     ]
    }
   ],
   "source": [
    "#removing stop-words\n",
    "from nltk.corpus import stopwords\n",
    "stop_words = set(stopwords.words('english'))\n",
    "print(len(stop_words)) #checking that stop-words are downloaded"
   ]
  },
  {
   "cell_type": "code",
   "execution_count": 18,
   "id": "2509c472",
   "metadata": {
    "execution": {
     "iopub.execute_input": "2025-05-12T14:21:21.693178Z",
     "iopub.status.busy": "2025-05-12T14:21:21.692855Z",
     "iopub.status.idle": "2025-05-12T14:21:21.966518Z",
     "shell.execute_reply": "2025-05-12T14:21:21.965271Z"
    },
    "papermill": {
     "duration": 0.283001,
     "end_time": "2025-05-12T14:21:21.968496",
     "exception": false,
     "start_time": "2025-05-12T14:21:21.685495",
     "status": "completed"
    },
    "tags": []
   },
   "outputs": [],
   "source": [
    "df['Cleaned_Document'] = df['Cleaned_Document'].apply(\n",
    "    lambda toks: [w for w in toks if w not in stop_words]\n",
    ")"
   ]
  },
  {
   "cell_type": "code",
   "execution_count": 19,
   "id": "1c29db60",
   "metadata": {
    "execution": {
     "iopub.execute_input": "2025-05-12T14:21:21.983924Z",
     "iopub.status.busy": "2025-05-12T14:21:21.983619Z",
     "iopub.status.idle": "2025-05-12T14:21:21.992876Z",
     "shell.execute_reply": "2025-05-12T14:21:21.992057Z"
    },
    "papermill": {
     "duration": 0.018916,
     "end_time": "2025-05-12T14:21:21.994191",
     "exception": false,
     "start_time": "2025-05-12T14:21:21.975275",
     "status": "completed"
    },
    "tags": []
   },
   "outputs": [
    {
     "data": {
      "text/plain": [
       "0        [connection, icon, icon, dear, please, setup, ...\n",
       "1        [work, experience, user, work, experience, use...\n",
       "2        [requesting, meeting, requesting, meeting, hi,...\n",
       "3        [reset, passwords, external, accounts, expire,...\n",
       "4        [mail, verification, warning, hi, got, attache...\n",
       "                               ...                        \n",
       "47832    [git, space, project, issues, adding, users, s...\n",
       "47833    [error, sent, july, error, hi, guys, help, err...\n",
       "47834    [connection, issues, sent, tuesday, july, conn...\n",
       "47835    [error, cube, reports, sent, tuesday, july, er...\n",
       "47836    [running, extensions, hello, please, advised, ...\n",
       "Name: Cleaned_Document, Length: 47837, dtype: object"
      ]
     },
     "execution_count": 19,
     "metadata": {},
     "output_type": "execute_result"
    }
   ],
   "source": [
    "df['Cleaned_Document']"
   ]
  },
  {
   "cell_type": "code",
   "execution_count": 20,
   "id": "ca914128",
   "metadata": {
    "execution": {
     "iopub.execute_input": "2025-05-12T14:21:22.008952Z",
     "iopub.status.busy": "2025-05-12T14:21:22.008634Z",
     "iopub.status.idle": "2025-05-12T14:21:32.927520Z",
     "shell.execute_reply": "2025-05-12T14:21:32.926498Z"
    },
    "papermill": {
     "duration": 10.928524,
     "end_time": "2025-05-12T14:21:32.929500",
     "exception": false,
     "start_time": "2025-05-12T14:21:22.000976",
     "status": "completed"
    },
    "tags": []
   },
   "outputs": [],
   "source": [
    "#lemmatization\n",
    "from nltk.stem import PorterStemmer, WordNetLemmatizer\n",
    "lemmatizer = WordNetLemmatizer()\n",
    "df['Cleaned_Document'] = df['Cleaned_Document'].apply(lambda doc: [lemmatizer.lemmatize(word) for word in doc])"
   ]
  },
  {
   "cell_type": "code",
   "execution_count": 21,
   "id": "4f29d600",
   "metadata": {
    "execution": {
     "iopub.execute_input": "2025-05-12T14:21:32.944538Z",
     "iopub.status.busy": "2025-05-12T14:21:32.944197Z",
     "iopub.status.idle": "2025-05-12T14:21:32.954217Z",
     "shell.execute_reply": "2025-05-12T14:21:32.953468Z"
    },
    "papermill": {
     "duration": 0.019298,
     "end_time": "2025-05-12T14:21:32.955728",
     "exception": false,
     "start_time": "2025-05-12T14:21:32.936430",
     "status": "completed"
    },
    "tags": []
   },
   "outputs": [
    {
     "data": {
      "text/plain": [
       "0     [connection, icon, icon, dear, please, setup, ...\n",
       "1     [work, experience, user, work, experience, use...\n",
       "2     [requesting, meeting, requesting, meeting, hi,...\n",
       "3     [reset, password, external, account, expire, d...\n",
       "4     [mail, verification, warning, hi, got, attache...\n",
       "5     [mail, please, dear, look, blacklisted, receiv...\n",
       "6     [prod, server, tunneling, prod, tunneling, va,...\n",
       "7     [access, request, dear, module, report, report...\n",
       "8     [reset, password, client, password, client, de...\n",
       "9     [direct, report, missing, time, please, action...\n",
       "10    [laptop, connected, request, rebuild, connecte...\n",
       "11    [device, recovery, report, printer, alert, dup...\n",
       "12            [new, starter, hello, please, fill, date]\n",
       "13    [visual, studio, license, visual, studio, lice...\n",
       "14    [system, hello, movement, left, available, dev...\n",
       "15    [access, secondary, secondary, hi, please, pro...\n",
       "16    [list, sent, copy, copy, hi, receive, copy, be...\n",
       "17    [new, purchase, po, purchase, po, dear, purcha...\n",
       "18    [invitation, cloud, strategy, workshop, februa...\n",
       "19    [change, sale, owner, contract, change, owner,...\n",
       "Name: Cleaned_Document, dtype: object"
      ]
     },
     "execution_count": 21,
     "metadata": {},
     "output_type": "execute_result"
    }
   ],
   "source": [
    "df['Cleaned_Document'].head(20)"
   ]
  },
  {
   "cell_type": "code",
   "execution_count": 22,
   "id": "24c6d149",
   "metadata": {
    "execution": {
     "iopub.execute_input": "2025-05-12T14:21:32.971068Z",
     "iopub.status.busy": "2025-05-12T14:21:32.970582Z",
     "iopub.status.idle": "2025-05-12T14:21:32.982228Z",
     "shell.execute_reply": "2025-05-12T14:21:32.981379Z"
    },
    "papermill": {
     "duration": 0.021023,
     "end_time": "2025-05-12T14:21:32.983709",
     "exception": false,
     "start_time": "2025-05-12T14:21:32.962686",
     "status": "completed"
    },
    "tags": []
   },
   "outputs": [
    {
     "data": {
      "text/plain": [
       "47817    [submit, expense, even, though, added, electro...\n",
       "47818    [job, referral, available, sent, thursday, jul...\n",
       "47819    [oracle, update, another, bug, sent, thursday,...\n",
       "47820    [social, error, sent, thursday, july, error, d...\n",
       "47821    [backup, server, performance, issue, sent, thu...\n",
       "47822    [approving, expense, project, code, related, w...\n",
       "47823    [bug, sent, wednesday, july, bug, hello, disco...\n",
       "47824    [oracle, fusion, working, message, unplanned, ...\n",
       "47825    [issue, sent, friday, july, hi, issue, somethi...\n",
       "47826    [oracle, error, sent, thursday, july, error, h...\n",
       "47827    [bandwidth, problem, sent, thursday, july, ban...\n",
       "47828    [password, expire, day, sent, july, password, ...\n",
       "47829    [sensitive, information, access, sent, wednesd...\n",
       "47830    [malfunction, sent, tuesday, july, malfunction...\n",
       "47831    [outlook, account, laptop, laptop, sa, sa, si,...\n",
       "47832    [git, space, project, issue, adding, user, sen...\n",
       "47833    [error, sent, july, error, hi, guy, help, erro...\n",
       "47834    [connection, issue, sent, tuesday, july, conne...\n",
       "47835    [error, cube, report, sent, tuesday, july, err...\n",
       "47836    [running, extension, hello, please, advised, r...\n",
       "Name: Cleaned_Document, dtype: object"
      ]
     },
     "execution_count": 22,
     "metadata": {},
     "output_type": "execute_result"
    }
   ],
   "source": [
    "df['Cleaned_Document'].tail(20)"
   ]
  },
  {
   "cell_type": "markdown",
   "id": "a4137da3",
   "metadata": {
    "papermill": {
     "duration": 0.006382,
     "end_time": "2025-05-12T14:21:32.997207",
     "exception": false,
     "start_time": "2025-05-12T14:21:32.990825",
     "status": "completed"
    },
    "tags": []
   },
   "source": [
    "As I can see, besides stop words, the corpus contains many words like 'please', 'hi', 'hello', etc. These words can affect the efficiency of the algorithm, so I would remove them manually."
   ]
  },
  {
   "cell_type": "code",
   "execution_count": 23,
   "id": "86dbcba3",
   "metadata": {
    "execution": {
     "iopub.execute_input": "2025-05-12T14:21:33.011888Z",
     "iopub.status.busy": "2025-05-12T14:21:33.011600Z",
     "iopub.status.idle": "2025-05-12T14:21:34.093063Z",
     "shell.execute_reply": "2025-05-12T14:21:34.091994Z"
    },
    "papermill": {
     "duration": 1.090762,
     "end_time": "2025-05-12T14:21:34.094739",
     "exception": false,
     "start_time": "2025-05-12T14:21:33.003977",
     "status": "completed"
    },
    "tags": []
   },
   "outputs": [],
   "source": [
    "custom_stopwords = ['hi', 'hello', 'dear', 'please', 'help', 'guy', 'guys',\n",
    "                   'thanks', 'thank', 'regards', 'best', 'hey', 'appreciate',\n",
    "                    'sorry', 'welcome', 'cheers', 'hello', 'goodbye', 'bye',\n",
    "                    'kindly', 'gladly']\n",
    "\n",
    "df['Cleaned_Document'] = df['Cleaned_Document'].apply(\n",
    "    lambda doc: [word for word in doc if word not in custom_stopwords]\n",
    ")"
   ]
  },
  {
   "cell_type": "code",
   "execution_count": 24,
   "id": "05e8bc79",
   "metadata": {
    "execution": {
     "iopub.execute_input": "2025-05-12T14:21:34.110384Z",
     "iopub.status.busy": "2025-05-12T14:21:34.109970Z",
     "iopub.status.idle": "2025-05-12T14:21:34.122619Z",
     "shell.execute_reply": "2025-05-12T14:21:34.120701Z"
    },
    "papermill": {
     "duration": 0.023229,
     "end_time": "2025-05-12T14:21:34.125283",
     "exception": false,
     "start_time": "2025-05-12T14:21:34.102054",
     "status": "completed"
    },
    "tags": []
   },
   "outputs": [
    {
     "data": {
      "text/plain": [
       "0        [connection, icon, icon, setup, icon, per, ico...\n",
       "1        [work, experience, user, work, experience, use...\n",
       "2        [requesting, meeting, requesting, meeting, fol...\n",
       "3        [reset, password, external, account, expire, d...\n",
       "4        [mail, verification, warning, got, attached, a...\n",
       "                               ...                        \n",
       "47832    [git, space, project, issue, adding, user, sen...\n",
       "47833    [error, sent, july, error, error, appearing, w...\n",
       "47834    [connection, issue, sent, tuesday, july, conne...\n",
       "47835    [error, cube, report, sent, tuesday, july, err...\n",
       "47836    [running, extension, advised, running, extensi...\n",
       "Name: Cleaned_Document, Length: 47837, dtype: object"
      ]
     },
     "execution_count": 24,
     "metadata": {},
     "output_type": "execute_result"
    }
   ],
   "source": [
    "df['Cleaned_Document']"
   ]
  },
  {
   "cell_type": "code",
   "execution_count": 25,
   "id": "e23aff28",
   "metadata": {
    "execution": {
     "iopub.execute_input": "2025-05-12T14:21:34.215156Z",
     "iopub.status.busy": "2025-05-12T14:21:34.214277Z",
     "iopub.status.idle": "2025-05-12T14:21:34.434762Z",
     "shell.execute_reply": "2025-05-12T14:21:34.433755Z"
    },
    "papermill": {
     "duration": 0.230927,
     "end_time": "2025-05-12T14:21:34.436641",
     "exception": false,
     "start_time": "2025-05-12T14:21:34.205714",
     "status": "completed"
    },
    "tags": []
   },
   "outputs": [],
   "source": [
    "#%pip install contractions\n",
    "#import contractions\n",
    "\n",
    "contraction_map = {\n",
    "    \"aren't\": \"are not\",\n",
    "    \"can't\": \"cannot\",\n",
    "    \"couldn't\": \"could not\",\n",
    "    \"didn't\": \"did not\",\n",
    "    \"doesn't\": \"does not\",\n",
    "    \"don't\": \"do not\",\n",
    "    \"hadn't\": \"had not\",\n",
    "    \"hasn't\": \"has not\",\n",
    "    \"haven't\": \"have not\",\n",
    "    \"he'd\": \"he would\",\n",
    "    \"he'll\": \"he will\",\n",
    "    \"he's\": \"he is\",\n",
    "    \"i'd\": \"i would\",\n",
    "    \"i'll\": \"i will\",\n",
    "    \"i'm\": \"i am\",\n",
    "    \"i've\": \"i have\",\n",
    "    \"isn't\": \"is not\",\n",
    "    \"it's\": \"it is\",\n",
    "    \"let's\": \"let us\",\n",
    "    \"mightn't\": \"might not\",\n",
    "    \"mustn't\": \"must not\",\n",
    "    \"shan't\": \"shall not\",\n",
    "    \"she'd\": \"she would\",\n",
    "    \"she'll\": \"she will\",\n",
    "    \"she's\": \"she is\",\n",
    "    \"shouldn't\": \"should not\",\n",
    "    \"that's\": \"that is\",\n",
    "    \"there's\": \"there is\",\n",
    "    \"they'd\": \"they would\",\n",
    "    \"they'll\": \"they will\",\n",
    "    \"they're\": \"they are\",\n",
    "    \"they've\": \"they have\",\n",
    "    \"we'd\": \"we would\",\n",
    "    \"we're\": \"we are\",\n",
    "    \"we've\": \"we have\",\n",
    "    \"weren't\": \"were not\",\n",
    "    \"what'll\": \"what will\",\n",
    "    \"what're\": \"what are\",\n",
    "    \"what's\": \"what is\",\n",
    "    \"what've\": \"what have\",\n",
    "    \"where's\": \"where is\",\n",
    "    \"who's\": \"who is\",\n",
    "    \"who'll\": \"who will\",\n",
    "    \"won't\": \"will not\",\n",
    "    \"wouldn't\": \"would not\",\n",
    "    \"you'd\": \"you would\",\n",
    "    \"you'll\": \"you will\",\n",
    "    \"you're\": \"you are\",\n",
    "    \"you've\": \"you have\"\n",
    "}\n",
    "\n",
    "def expand_contractions_tokenized(doc):\n",
    "    return [contraction_map.get(word, word) for word in doc]\n",
    "\n",
    "df['Cleaned_Document'] = df['Cleaned_Document'].apply(expand_contractions_tokenized)"
   ]
  },
  {
   "cell_type": "code",
   "execution_count": 26,
   "id": "beed632f",
   "metadata": {
    "execution": {
     "iopub.execute_input": "2025-05-12T14:21:34.453946Z",
     "iopub.status.busy": "2025-05-12T14:21:34.453601Z",
     "iopub.status.idle": "2025-05-12T14:21:34.463780Z",
     "shell.execute_reply": "2025-05-12T14:21:34.462720Z"
    },
    "papermill": {
     "duration": 0.021194,
     "end_time": "2025-05-12T14:21:34.465379",
     "exception": false,
     "start_time": "2025-05-12T14:21:34.444185",
     "status": "completed"
    },
    "tags": []
   },
   "outputs": [
    {
     "data": {
      "text/plain": [
       "0        [connection, icon, icon, setup, icon, per, ico...\n",
       "1        [work, experience, user, work, experience, use...\n",
       "2        [requesting, meeting, requesting, meeting, fol...\n",
       "3        [reset, password, external, account, expire, d...\n",
       "4        [mail, verification, warning, got, attached, a...\n",
       "                               ...                        \n",
       "47832    [git, space, project, issue, adding, user, sen...\n",
       "47833    [error, sent, july, error, error, appearing, w...\n",
       "47834    [connection, issue, sent, tuesday, july, conne...\n",
       "47835    [error, cube, report, sent, tuesday, july, err...\n",
       "47836    [running, extension, advised, running, extensi...\n",
       "Name: Cleaned_Document, Length: 47837, dtype: object"
      ]
     },
     "execution_count": 26,
     "metadata": {},
     "output_type": "execute_result"
    }
   ],
   "source": [
    "df['Cleaned_Document'] "
   ]
  },
  {
   "cell_type": "code",
   "execution_count": 27,
   "id": "76735839",
   "metadata": {
    "execution": {
     "iopub.execute_input": "2025-05-12T14:21:34.481657Z",
     "iopub.status.busy": "2025-05-12T14:21:34.480897Z",
     "iopub.status.idle": "2025-05-12T14:21:36.170973Z",
     "shell.execute_reply": "2025-05-12T14:21:36.169966Z"
    },
    "papermill": {
     "duration": 1.700193,
     "end_time": "2025-05-12T14:21:36.172800",
     "exception": false,
     "start_time": "2025-05-12T14:21:34.472607",
     "status": "completed"
    },
    "tags": []
   },
   "outputs": [],
   "source": [
    "#saving dataset\n",
    "df['Cleaned_Document_Str'] = df['Cleaned_Document'].apply(lambda tokens: ' '.join(tokens))\n",
    "df.to_csv('cleaned_dataset.csv', index=False)"
   ]
  },
  {
   "cell_type": "markdown",
   "id": "5b18cc2a",
   "metadata": {
    "papermill": {
     "duration": 0.006939,
     "end_time": "2025-05-12T14:21:36.187167",
     "exception": false,
     "start_time": "2025-05-12T14:21:36.180228",
     "status": "completed"
    },
    "tags": []
   },
   "source": [
    "# Classification"
   ]
  },
  {
   "cell_type": "code",
   "execution_count": 28,
   "id": "18a43d7a",
   "metadata": {
    "execution": {
     "iopub.execute_input": "2025-05-12T14:21:36.203398Z",
     "iopub.status.busy": "2025-05-12T14:21:36.203043Z",
     "iopub.status.idle": "2025-05-12T14:21:36.215297Z",
     "shell.execute_reply": "2025-05-12T14:21:36.214302Z"
    },
    "papermill": {
     "duration": 0.022018,
     "end_time": "2025-05-12T14:21:36.216915",
     "exception": false,
     "start_time": "2025-05-12T14:21:36.194897",
     "status": "completed"
    },
    "tags": []
   },
   "outputs": [
    {
     "data": {
      "text/html": [
       "<div>\n",
       "<style scoped>\n",
       "    .dataframe tbody tr th:only-of-type {\n",
       "        vertical-align: middle;\n",
       "    }\n",
       "\n",
       "    .dataframe tbody tr th {\n",
       "        vertical-align: top;\n",
       "    }\n",
       "\n",
       "    .dataframe thead th {\n",
       "        text-align: right;\n",
       "    }\n",
       "</style>\n",
       "<table border=\"1\" class=\"dataframe\">\n",
       "  <thead>\n",
       "    <tr style=\"text-align: right;\">\n",
       "      <th></th>\n",
       "      <th>Document</th>\n",
       "      <th>Topic_group</th>\n",
       "      <th>Cleaned_Document</th>\n",
       "      <th>Cleaned_Document_Str</th>\n",
       "    </tr>\n",
       "  </thead>\n",
       "  <tbody>\n",
       "    <tr>\n",
       "      <th>0</th>\n",
       "      <td>connection with icon icon dear please setup ic...</td>\n",
       "      <td>Hardware</td>\n",
       "      <td>[connection, icon, icon, setup, icon, per, ico...</td>\n",
       "      <td>connection icon icon setup icon per icon engin...</td>\n",
       "    </tr>\n",
       "    <tr>\n",
       "      <th>1</th>\n",
       "      <td>work experience user work experience user hi w...</td>\n",
       "      <td>Access</td>\n",
       "      <td>[work, experience, user, work, experience, use...</td>\n",
       "      <td>work experience user work experience user work...</td>\n",
       "    </tr>\n",
       "    <tr>\n",
       "      <th>2</th>\n",
       "      <td>requesting for meeting requesting meeting hi p...</td>\n",
       "      <td>Hardware</td>\n",
       "      <td>[requesting, meeting, requesting, meeting, fol...</td>\n",
       "      <td>requesting meeting requesting meeting follow e...</td>\n",
       "    </tr>\n",
       "    <tr>\n",
       "      <th>3</th>\n",
       "      <td>reset passwords for external accounts re expir...</td>\n",
       "      <td>Access</td>\n",
       "      <td>[reset, password, external, account, expire, d...</td>\n",
       "      <td>reset password external account expire day ask...</td>\n",
       "    </tr>\n",
       "    <tr>\n",
       "      <th>4</th>\n",
       "      <td>mail verification warning hi has got attached ...</td>\n",
       "      <td>Miscellaneous</td>\n",
       "      <td>[mail, verification, warning, got, attached, a...</td>\n",
       "      <td>mail verification warning got attached address...</td>\n",
       "    </tr>\n",
       "  </tbody>\n",
       "</table>\n",
       "</div>"
      ],
      "text/plain": [
       "                                            Document    Topic_group  \\\n",
       "0  connection with icon icon dear please setup ic...       Hardware   \n",
       "1  work experience user work experience user hi w...         Access   \n",
       "2  requesting for meeting requesting meeting hi p...       Hardware   \n",
       "3  reset passwords for external accounts re expir...         Access   \n",
       "4  mail verification warning hi has got attached ...  Miscellaneous   \n",
       "\n",
       "                                    Cleaned_Document  \\\n",
       "0  [connection, icon, icon, setup, icon, per, ico...   \n",
       "1  [work, experience, user, work, experience, use...   \n",
       "2  [requesting, meeting, requesting, meeting, fol...   \n",
       "3  [reset, password, external, account, expire, d...   \n",
       "4  [mail, verification, warning, got, attached, a...   \n",
       "\n",
       "                                Cleaned_Document_Str  \n",
       "0  connection icon icon setup icon per icon engin...  \n",
       "1  work experience user work experience user work...  \n",
       "2  requesting meeting requesting meeting follow e...  \n",
       "3  reset password external account expire day ask...  \n",
       "4  mail verification warning got attached address...  "
      ]
     },
     "execution_count": 28,
     "metadata": {},
     "output_type": "execute_result"
    }
   ],
   "source": [
    "df.head()"
   ]
  },
  {
   "cell_type": "code",
   "execution_count": 29,
   "id": "cbe65451",
   "metadata": {
    "execution": {
     "iopub.execute_input": "2025-05-12T14:21:36.232873Z",
     "iopub.status.busy": "2025-05-12T14:21:36.232577Z",
     "iopub.status.idle": "2025-05-12T14:21:36.241967Z",
     "shell.execute_reply": "2025-05-12T14:21:36.240851Z"
    },
    "papermill": {
     "duration": 0.019214,
     "end_time": "2025-05-12T14:21:36.243581",
     "exception": false,
     "start_time": "2025-05-12T14:21:36.224367",
     "status": "completed"
    },
    "tags": []
   },
   "outputs": [
    {
     "data": {
      "text/plain": [
       "array(['Hardware', 'Access', 'Miscellaneous', 'HR Support', 'Purchase',\n",
       "       'Administrative rights', 'Storage', 'Internal Project'],\n",
       "      dtype=object)"
      ]
     },
     "execution_count": 29,
     "metadata": {},
     "output_type": "execute_result"
    }
   ],
   "source": [
    "df['Topic_group'].unique()"
   ]
  },
  {
   "cell_type": "code",
   "execution_count": 30,
   "id": "824652f4",
   "metadata": {
    "execution": {
     "iopub.execute_input": "2025-05-12T14:21:36.260351Z",
     "iopub.status.busy": "2025-05-12T14:21:36.259953Z",
     "iopub.status.idle": "2025-05-12T14:21:39.844825Z",
     "shell.execute_reply": "2025-05-12T14:21:39.843868Z"
    },
    "papermill": {
     "duration": 3.595461,
     "end_time": "2025-05-12T14:21:39.846499",
     "exception": false,
     "start_time": "2025-05-12T14:21:36.251038",
     "status": "completed"
    },
    "tags": []
   },
   "outputs": [],
   "source": [
    "#TF-IDF\n",
    "from sklearn.feature_extraction.text import TfidfVectorizer\n",
    "\n",
    "vectorizer = TfidfVectorizer(min_df=5, max_df=0.8, ngram_range=(1,2))\n",
    "X = vectorizer.fit_transform(df['Cleaned_Document_Str'])"
   ]
  },
  {
   "cell_type": "code",
   "execution_count": 31,
   "id": "64baa7fc",
   "metadata": {
    "execution": {
     "iopub.execute_input": "2025-05-12T14:21:39.862580Z",
     "iopub.status.busy": "2025-05-12T14:21:39.862172Z",
     "iopub.status.idle": "2025-05-12T14:21:39.878401Z",
     "shell.execute_reply": "2025-05-12T14:21:39.877206Z"
    },
    "papermill": {
     "duration": 0.026219,
     "end_time": "2025-05-12T14:21:39.880069",
     "exception": false,
     "start_time": "2025-05-12T14:21:39.853850",
     "status": "completed"
    },
    "tags": []
   },
   "outputs": [],
   "source": [
    "#encoding target variable\n",
    "from sklearn.preprocessing import LabelEncoder\n",
    "\n",
    "le = LabelEncoder()\n",
    "y = le.fit_transform(df['Topic_group'])"
   ]
  },
  {
   "cell_type": "code",
   "execution_count": 32,
   "id": "b34373b7",
   "metadata": {
    "execution": {
     "iopub.execute_input": "2025-05-12T14:21:39.897025Z",
     "iopub.status.busy": "2025-05-12T14:21:39.895970Z",
     "iopub.status.idle": "2025-05-12T14:21:39.900969Z",
     "shell.execute_reply": "2025-05-12T14:21:39.900068Z"
    },
    "papermill": {
     "duration": 0.015123,
     "end_time": "2025-05-12T14:21:39.902551",
     "exception": false,
     "start_time": "2025-05-12T14:21:39.887428",
     "status": "completed"
    },
    "tags": []
   },
   "outputs": [],
   "source": [
    "from sklearn.linear_model import LogisticRegression\n",
    "from sklearn.model_selection import train_test_split\n",
    "from sklearn.metrics import classification_report"
   ]
  },
  {
   "cell_type": "code",
   "execution_count": 33,
   "id": "d6faf256",
   "metadata": {
    "execution": {
     "iopub.execute_input": "2025-05-12T14:21:39.918769Z",
     "iopub.status.busy": "2025-05-12T14:21:39.918432Z",
     "iopub.status.idle": "2025-05-12T14:22:12.462336Z",
     "shell.execute_reply": "2025-05-12T14:22:12.461375Z"
    },
    "papermill": {
     "duration": 32.566258,
     "end_time": "2025-05-12T14:22:12.476165",
     "exception": false,
     "start_time": "2025-05-12T14:21:39.909907",
     "status": "completed"
    },
    "tags": []
   },
   "outputs": [
    {
     "name": "stdout",
     "output_type": "stream",
     "text": [
      "              precision    recall  f1-score   support\n",
      "\n",
      "           0       0.92      0.87      0.89      1455\n",
      "           1       0.92      0.63      0.75       342\n",
      "           2       0.85      0.85      0.85      2107\n",
      "           3       0.79      0.89      0.84      2760\n",
      "           4       0.93      0.77      0.84       451\n",
      "           5       0.82      0.84      0.83      1400\n",
      "           6       0.98      0.87      0.92       497\n",
      "           7       0.93      0.82      0.87       556\n",
      "\n",
      "    accuracy                           0.85      9568\n",
      "   macro avg       0.89      0.82      0.85      9568\n",
      "weighted avg       0.86      0.85      0.85      9568\n",
      "\n"
     ]
    }
   ],
   "source": [
    "X_train, X_test, y_train, y_test = train_test_split(X, y, test_size=0.2, random_state=42)\n",
    "clf = LogisticRegression(max_iter=1000)\n",
    "clf.fit(X_train, y_train)\n",
    "preds = clf.predict(X_test)\n",
    "print(classification_report(y_test, preds))"
   ]
  }
 ],
 "metadata": {
  "kaggle": {
   "accelerator": "none",
   "dataSources": [
    {
     "datasetId": 4460055,
     "sourceId": 7650678,
     "sourceType": "datasetVersion"
    }
   ],
   "dockerImageVersionId": 31012,
   "isGpuEnabled": false,
   "isInternetEnabled": false,
   "language": "python",
   "sourceType": "notebook"
  },
  "kernelspec": {
   "display_name": "Python 3",
   "language": "python",
   "name": "python3"
  },
  "language_info": {
   "codemirror_mode": {
    "name": "ipython",
    "version": 3
   },
   "file_extension": ".py",
   "mimetype": "text/x-python",
   "name": "python",
   "nbconvert_exporter": "python",
   "pygments_lexer": "ipython3",
   "version": "3.11.11"
  },
  "papermill": {
   "default_parameters": {},
   "duration": 77.601386,
   "end_time": "2025-05-12T14:22:14.316054",
   "environment_variables": {},
   "exception": null,
   "input_path": "__notebook__.ipynb",
   "output_path": "__notebook__.ipynb",
   "parameters": {},
   "start_time": "2025-05-12T14:20:56.714668",
   "version": "2.6.0"
  }
 },
 "nbformat": 4,
 "nbformat_minor": 5
}
