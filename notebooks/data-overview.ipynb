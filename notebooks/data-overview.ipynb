{
 "cells": [
  {
   "cell_type": "code",
   "execution_count": 1,
   "id": "a94c0e83",
   "metadata": {
    "_cell_guid": "b1076dfc-b9ad-4769-8c92-a6c4dae69d19",
    "_uuid": "8f2839f25d086af736a60e9eeb907d3b93b6e0e5",
    "execution": {
     "iopub.execute_input": "2025-10-02T10:49:55.357441Z",
     "iopub.status.busy": "2025-10-02T10:49:55.357090Z",
     "iopub.status.idle": "2025-10-02T10:49:57.386035Z",
     "shell.execute_reply": "2025-10-02T10:49:57.384915Z"
    },
    "papermill": {
     "duration": 2.036859,
     "end_time": "2025-10-02T10:49:57.387909",
     "exception": false,
     "start_time": "2025-10-02T10:49:55.351050",
     "status": "completed"
    },
    "tags": []
   },
   "outputs": [
    {
     "name": "stdout",
     "output_type": "stream",
     "text": [
      "/kaggle/input/it-service-ticket-classification-dataset/all_tickets_processed_improved_v3.csv\n"
     ]
    }
   ],
   "source": [
    "# This Python 3 environment comes with many helpful analytics libraries installed\n",
    "# It is defined by the kaggle/python Docker image: https://github.com/kaggle/docker-python\n",
    "# For example, here's several helpful packages to load\n",
    "\n",
    "import numpy as np # linear algebra\n",
    "import pandas as pd # data processing, CSV file I/O (e.g. pd.read_csv)\n",
    "\n",
    "# Input data files are available in the read-only \"../input/\" directory\n",
    "# For example, running this (by clicking run or pressing Shift+Enter) will list all files under the input directory\n",
    "\n",
    "import os\n",
    "for dirname, _, filenames in os.walk('/kaggle/input'):\n",
    "    for filename in filenames:\n",
    "        print(os.path.join(dirname, filename))\n",
    "\n",
    "# You can write up to 20GB to the current directory (/kaggle/working/) that gets preserved as output when you create a version using \"Save & Run All\" \n",
    "# You can also write temporary files to /kaggle/temp/, but they won't be saved outside of the current session"
   ]
  },
  {
   "cell_type": "markdown",
   "id": "0444b1ab",
   "metadata": {
    "papermill": {
     "duration": 0.003617,
     "end_time": "2025-10-02T10:49:57.395837",
     "exception": false,
     "start_time": "2025-10-02T10:49:57.392220",
     "status": "completed"
    },
    "tags": []
   },
   "source": [
    "# Libraries & Data Loading"
   ]
  },
  {
   "cell_type": "code",
   "execution_count": 2,
   "id": "fbf8d628",
   "metadata": {
    "execution": {
     "iopub.execute_input": "2025-10-02T10:49:57.405494Z",
     "iopub.status.busy": "2025-10-02T10:49:57.404429Z",
     "iopub.status.idle": "2025-10-02T10:49:59.658492Z",
     "shell.execute_reply": "2025-10-02T10:49:59.657667Z"
    },
    "papermill": {
     "duration": 2.260589,
     "end_time": "2025-10-02T10:49:59.660302",
     "exception": false,
     "start_time": "2025-10-02T10:49:57.399713",
     "status": "completed"
    },
    "tags": []
   },
   "outputs": [],
   "source": [
    "import pandas as pd\n",
    "import numpy as np\n",
    "import matplotlib.pyplot as plt \n",
    "import seaborn as sns\n",
    "from sklearn.model_selection import train_test_split"
   ]
  },
  {
   "cell_type": "code",
   "execution_count": 3,
   "id": "f761e65a",
   "metadata": {
    "execution": {
     "iopub.execute_input": "2025-10-02T10:49:59.669542Z",
     "iopub.status.busy": "2025-10-02T10:49:59.668711Z",
     "iopub.status.idle": "2025-10-02T10:50:00.113685Z",
     "shell.execute_reply": "2025-10-02T10:50:00.112579Z"
    },
    "papermill": {
     "duration": 0.451536,
     "end_time": "2025-10-02T10:50:00.115661",
     "exception": false,
     "start_time": "2025-10-02T10:49:59.664125",
     "status": "completed"
    },
    "tags": []
   },
   "outputs": [
    {
     "name": "stdout",
     "output_type": "stream",
     "text": [
      "Dataframe is successfully downloaded\n",
      "Data size: 47837 rows × 2 columns\n"
     ]
    }
   ],
   "source": [
    "try:\n",
    "     df = pd.read_csv('/kaggle/input/it-service-ticket-classification-dataset/all_tickets_processed_improved_v3.csv')\n",
    "     print(\"Dataframe is successfully downloaded\")\n",
    "     print(f\"Data size: {df.shape[0]} rows × {df.shape[1]} columns\")\n",
    "except Exception as e:\n",
    "    print(\"Error:\", e)"
   ]
  },
  {
   "cell_type": "code",
   "execution_count": 4,
   "id": "c45dfe68",
   "metadata": {
    "execution": {
     "iopub.execute_input": "2025-10-02T10:50:00.125239Z",
     "iopub.status.busy": "2025-10-02T10:50:00.124861Z",
     "iopub.status.idle": "2025-10-02T10:50:00.166807Z",
     "shell.execute_reply": "2025-10-02T10:50:00.165615Z"
    },
    "papermill": {
     "duration": 0.049124,
     "end_time": "2025-10-02T10:50:00.168861",
     "exception": false,
     "start_time": "2025-10-02T10:50:00.119737",
     "status": "completed"
    },
    "tags": []
   },
   "outputs": [
    {
     "name": "stdout",
     "output_type": "stream",
     "text": [
      "<class 'pandas.core.frame.DataFrame'>\n",
      "RangeIndex: 47837 entries, 0 to 47836\n",
      "Data columns (total 2 columns):\n",
      " #   Column       Non-Null Count  Dtype \n",
      "---  ------       --------------  ----- \n",
      " 0   Document     47837 non-null  object\n",
      " 1   Topic_group  47837 non-null  object\n",
      "dtypes: object(2)\n",
      "memory usage: 747.6+ KB\n"
     ]
    }
   ],
   "source": [
    "df.info()"
   ]
  },
  {
   "cell_type": "code",
   "execution_count": 5,
   "id": "dd6524ff",
   "metadata": {
    "execution": {
     "iopub.execute_input": "2025-10-02T10:50:00.178169Z",
     "iopub.status.busy": "2025-10-02T10:50:00.177771Z",
     "iopub.status.idle": "2025-10-02T10:50:00.255580Z",
     "shell.execute_reply": "2025-10-02T10:50:00.254466Z"
    },
    "papermill": {
     "duration": 0.084294,
     "end_time": "2025-10-02T10:50:00.257282",
     "exception": false,
     "start_time": "2025-10-02T10:50:00.172988",
     "status": "completed"
    },
    "tags": []
   },
   "outputs": [
    {
     "name": "stdout",
     "output_type": "stream",
     "text": [
      "Document       0\n",
      "Topic_group    0\n",
      "dtype: int64\n",
      "0\n"
     ]
    }
   ],
   "source": [
    "print(df.isnull().sum())\n",
    "print(df.duplicated().sum())"
   ]
  },
  {
   "cell_type": "markdown",
   "id": "04ed6e97",
   "metadata": {
    "papermill": {
     "duration": 0.003531,
     "end_time": "2025-10-02T10:50:00.264820",
     "exception": false,
     "start_time": "2025-10-02T10:50:00.261289",
     "status": "completed"
    },
    "tags": []
   },
   "source": [
    "# Data Overview"
   ]
  },
  {
   "cell_type": "code",
   "execution_count": 6,
   "id": "eb58dbec",
   "metadata": {
    "execution": {
     "iopub.execute_input": "2025-10-02T10:50:00.274352Z",
     "iopub.status.busy": "2025-10-02T10:50:00.273515Z",
     "iopub.status.idle": "2025-10-02T10:50:00.295614Z",
     "shell.execute_reply": "2025-10-02T10:50:00.294644Z"
    },
    "papermill": {
     "duration": 0.028546,
     "end_time": "2025-10-02T10:50:00.297261",
     "exception": false,
     "start_time": "2025-10-02T10:50:00.268715",
     "status": "completed"
    },
    "tags": []
   },
   "outputs": [
    {
     "data": {
      "text/html": [
       "<div>\n",
       "<style scoped>\n",
       "    .dataframe tbody tr th:only-of-type {\n",
       "        vertical-align: middle;\n",
       "    }\n",
       "\n",
       "    .dataframe tbody tr th {\n",
       "        vertical-align: top;\n",
       "    }\n",
       "\n",
       "    .dataframe thead th {\n",
       "        text-align: right;\n",
       "    }\n",
       "</style>\n",
       "<table border=\"1\" class=\"dataframe\">\n",
       "  <thead>\n",
       "    <tr style=\"text-align: right;\">\n",
       "      <th></th>\n",
       "      <th>Document</th>\n",
       "      <th>Topic_group</th>\n",
       "    </tr>\n",
       "  </thead>\n",
       "  <tbody>\n",
       "    <tr>\n",
       "      <th>0</th>\n",
       "      <td>connection with icon icon dear please setup ic...</td>\n",
       "      <td>Hardware</td>\n",
       "    </tr>\n",
       "    <tr>\n",
       "      <th>1</th>\n",
       "      <td>work experience user work experience user hi w...</td>\n",
       "      <td>Access</td>\n",
       "    </tr>\n",
       "    <tr>\n",
       "      <th>2</th>\n",
       "      <td>requesting for meeting requesting meeting hi p...</td>\n",
       "      <td>Hardware</td>\n",
       "    </tr>\n",
       "    <tr>\n",
       "      <th>3</th>\n",
       "      <td>reset passwords for external accounts re expir...</td>\n",
       "      <td>Access</td>\n",
       "    </tr>\n",
       "    <tr>\n",
       "      <th>4</th>\n",
       "      <td>mail verification warning hi has got attached ...</td>\n",
       "      <td>Miscellaneous</td>\n",
       "    </tr>\n",
       "  </tbody>\n",
       "</table>\n",
       "</div>"
      ],
      "text/plain": [
       "                                            Document    Topic_group\n",
       "0  connection with icon icon dear please setup ic...       Hardware\n",
       "1  work experience user work experience user hi w...         Access\n",
       "2  requesting for meeting requesting meeting hi p...       Hardware\n",
       "3  reset passwords for external accounts re expir...         Access\n",
       "4  mail verification warning hi has got attached ...  Miscellaneous"
      ]
     },
     "execution_count": 6,
     "metadata": {},
     "output_type": "execute_result"
    }
   ],
   "source": [
    "df.head()"
   ]
  },
  {
   "cell_type": "code",
   "execution_count": 7,
   "id": "fa1a51b2",
   "metadata": {
    "execution": {
     "iopub.execute_input": "2025-10-02T10:50:00.306911Z",
     "iopub.status.busy": "2025-10-02T10:50:00.306486Z",
     "iopub.status.idle": "2025-10-02T10:50:00.318022Z",
     "shell.execute_reply": "2025-10-02T10:50:00.316949Z"
    },
    "papermill": {
     "duration": 0.01861,
     "end_time": "2025-10-02T10:50:00.320032",
     "exception": false,
     "start_time": "2025-10-02T10:50:00.301422",
     "status": "completed"
    },
    "tags": []
   },
   "outputs": [
    {
     "name": "stdout",
     "output_type": "stream",
     "text": [
      "8\n",
      "['Hardware' 'Access' 'Miscellaneous' 'HR Support' 'Purchase'\n",
      " 'Administrative rights' 'Storage' 'Internal Project']\n"
     ]
    }
   ],
   "source": [
    "print(df['Topic_group'].nunique())\n",
    "print(df['Topic_group'].unique())"
   ]
  },
  {
   "cell_type": "code",
   "execution_count": 8,
   "id": "ec2c4822",
   "metadata": {
    "execution": {
     "iopub.execute_input": "2025-10-02T10:50:00.330353Z",
     "iopub.status.busy": "2025-10-02T10:50:00.329424Z",
     "iopub.status.idle": "2025-10-02T10:50:00.754817Z",
     "shell.execute_reply": "2025-10-02T10:50:00.753838Z"
    },
    "papermill": {
     "duration": 0.432234,
     "end_time": "2025-10-02T10:50:00.756487",
     "exception": false,
     "start_time": "2025-10-02T10:50:00.324253",
     "status": "completed"
    },
    "tags": []
   },
   "outputs": [
    {
     "data": {
      "text/plain": [
       "Text(0.5, 0, 'Topic Group')"
      ]
     },
     "execution_count": 8,
     "metadata": {},
     "output_type": "execute_result"
    },
    {
     "data": {
      "image/png": "[encoded data removed]",
      "text/plain": [
       "<Figure size 1500x700 with 1 Axes>"
      ]
     },
     "metadata": {},
     "output_type": "display_data"
    }
   ],
   "source": [
    "groups_size = df.groupby(df['Topic_group']).count()\n",
    "groups_size = groups_size.sort_values(by='Document', ascending=False)\n",
    "groups_size = groups_size.reset_index()\n",
    "plt.subplots(figsize=(15, 7))\n",
    "sns.barplot(x='Topic_group', y='Document', data=groups_size, palette='magma')\n",
    "plt.title('Tickets Count per Topic Group')\n",
    "plt.ylabel('Tickets Count')\n",
    "plt.xlabel('Topic Group')"
   ]
  },
  {
   "cell_type": "code",
   "execution_count": 9,
   "id": "a58ea259",
   "metadata": {
    "execution": {
     "iopub.execute_input": "2025-10-02T10:50:00.769535Z",
     "iopub.status.busy": "2025-10-02T10:50:00.769175Z",
     "iopub.status.idle": "2025-10-02T10:50:00.778398Z",
     "shell.execute_reply": "2025-10-02T10:50:00.777617Z"
    },
    "papermill": {
     "duration": 0.017046,
     "end_time": "2025-10-02T10:50:00.779947",
     "exception": false,
     "start_time": "2025-10-02T10:50:00.762901",
     "status": "completed"
    },
    "tags": []
   },
   "outputs": [
    {
     "data": {
      "text/html": [
       "<div>\n",
       "<style scoped>\n",
       "    .dataframe tbody tr th:only-of-type {\n",
       "        vertical-align: middle;\n",
       "    }\n",
       "\n",
       "    .dataframe tbody tr th {\n",
       "        vertical-align: top;\n",
       "    }\n",
       "\n",
       "    .dataframe thead th {\n",
       "        text-align: right;\n",
       "    }\n",
       "</style>\n",
       "<table border=\"1\" class=\"dataframe\">\n",
       "  <thead>\n",
       "    <tr style=\"text-align: right;\">\n",
       "      <th></th>\n",
       "      <th>Topic_group</th>\n",
       "      <th>Document</th>\n",
       "    </tr>\n",
       "  </thead>\n",
       "  <tbody>\n",
       "    <tr>\n",
       "      <th>0</th>\n",
       "      <td>Hardware</td>\n",
       "      <td>13617</td>\n",
       "    </tr>\n",
       "    <tr>\n",
       "      <th>1</th>\n",
       "      <td>HR Support</td>\n",
       "      <td>10915</td>\n",
       "    </tr>\n",
       "    <tr>\n",
       "      <th>2</th>\n",
       "      <td>Access</td>\n",
       "      <td>7125</td>\n",
       "    </tr>\n",
       "    <tr>\n",
       "      <th>3</th>\n",
       "      <td>Miscellaneous</td>\n",
       "      <td>7060</td>\n",
       "    </tr>\n",
       "    <tr>\n",
       "      <th>4</th>\n",
       "      <td>Storage</td>\n",
       "      <td>2777</td>\n",
       "    </tr>\n",
       "    <tr>\n",
       "      <th>5</th>\n",
       "      <td>Purchase</td>\n",
       "      <td>2464</td>\n",
       "    </tr>\n",
       "    <tr>\n",
       "      <th>6</th>\n",
       "      <td>Internal Project</td>\n",
       "      <td>2119</td>\n",
       "    </tr>\n",
       "    <tr>\n",
       "      <th>7</th>\n",
       "      <td>Administrative rights</td>\n",
       "      <td>1760</td>\n",
       "    </tr>\n",
       "  </tbody>\n",
       "</table>\n",
       "</div>"
      ],
      "text/plain": [
       "             Topic_group  Document\n",
       "0               Hardware     13617\n",
       "1             HR Support     10915\n",
       "2                 Access      7125\n",
       "3          Miscellaneous      7060\n",
       "4                Storage      2777\n",
       "5               Purchase      2464\n",
       "6       Internal Project      2119\n",
       "7  Administrative rights      1760"
      ]
     },
     "execution_count": 9,
     "metadata": {},
     "output_type": "execute_result"
    }
   ],
   "source": [
    "groups_size"
   ]
  },
  {
   "cell_type": "code",
   "execution_count": 10,
   "id": "16e325d2",
   "metadata": {
    "execution": {
     "iopub.execute_input": "2025-10-02T10:50:00.791687Z",
     "iopub.status.busy": "2025-10-02T10:50:00.791281Z",
     "iopub.status.idle": "2025-10-02T10:50:01.217342Z",
     "shell.execute_reply": "2025-10-02T10:50:01.216331Z"
    },
    "papermill": {
     "duration": 0.434205,
     "end_time": "2025-10-02T10:50:01.219154",
     "exception": false,
     "start_time": "2025-10-02T10:50:00.784949",
     "status": "completed"
    },
    "tags": []
   },
   "outputs": [
    {
     "name": "stderr",
     "output_type": "stream",
     "text": [
      "/usr/local/lib/python3.11/dist-packages/seaborn/_oldcore.py:1119: FutureWarning: use_inf_as_na option is deprecated and will be removed in a future version. Convert inf values to NaN before operating instead.\n",
      "  with pd.option_context('mode.use_inf_as_na', True):\n"
     ]
    },
    {
     "data": {
      "image/png": "[encoded data removed]",
      "text/plain": [
       "<Figure size 1500x700 with 1 Axes>"
      ]
     },
     "metadata": {},
     "output_type": "display_data"
    },
    {
     "name": "stdout",
     "output_type": "stream",
     "text": [
      "Ticket's length mean: 291.9\n",
      "Ticket's length median: 175.0\n",
      "The minimum ticket's length: 7\n",
      "The maximum ticket's length: 7015\n"
     ]
    }
   ],
   "source": [
    "color = sns.color_palette(\"magma\", n_colors=4)[0]\n",
    "plt.subplots(figsize=(15, 7))\n",
    "sns.histplot(df['Document'].astype(str).apply(len), bins=30, color=color, kde=False)\n",
    "plt.title(\"Tickets' length\")\n",
    "plt.show()\n",
    "\n",
    "print(\"Ticket's length mean:\", df['Document'].astype(str).apply(len).mean().round(1))\n",
    "print(\"Ticket's length median:\", df['Document'].astype(str).apply(len).median())\n",
    "print(\"The minimum ticket's length:\", df['Document'].astype(str).apply(len).min())\n",
    "print(\"The maximum ticket's length:\", df['Document'].astype(str).apply(len).max())"
   ]
  },
  {
   "cell_type": "code",
   "execution_count": 11,
   "id": "d7c18b9e",
   "metadata": {
    "execution": {
     "iopub.execute_input": "2025-10-02T10:50:01.232609Z",
     "iopub.status.busy": "2025-10-02T10:50:01.231425Z",
     "iopub.status.idle": "2025-10-02T10:50:01.266724Z",
     "shell.execute_reply": "2025-10-02T10:50:01.265746Z"
    },
    "papermill": {
     "duration": 0.043713,
     "end_time": "2025-10-02T10:50:01.268523",
     "exception": false,
     "start_time": "2025-10-02T10:50:01.224810",
     "status": "completed"
    },
    "tags": []
   },
   "outputs": [
    {
     "data": {
      "text/html": [
       "<div>\n",
       "<style scoped>\n",
       "    .dataframe tbody tr th:only-of-type {\n",
       "        vertical-align: middle;\n",
       "    }\n",
       "\n",
       "    .dataframe tbody tr th {\n",
       "        vertical-align: top;\n",
       "    }\n",
       "\n",
       "    .dataframe thead th {\n",
       "        text-align: right;\n",
       "    }\n",
       "</style>\n",
       "<table border=\"1\" class=\"dataframe\">\n",
       "  <thead>\n",
       "    <tr style=\"text-align: right;\">\n",
       "      <th></th>\n",
       "      <th>Document</th>\n",
       "      <th>Topic_group</th>\n",
       "    </tr>\n",
       "  </thead>\n",
       "  <tbody>\n",
       "    <tr>\n",
       "      <th>6615</th>\n",
       "      <td>for re hi after talking mo looks link function...</td>\n",
       "      <td>Hardware</td>\n",
       "    </tr>\n",
       "  </tbody>\n",
       "</table>\n",
       "</div>"
      ],
      "text/plain": [
       "                                               Document Topic_group\n",
       "6615  for re hi after talking mo looks link function...    Hardware"
      ]
     },
     "execution_count": 11,
     "metadata": {},
     "output_type": "execute_result"
    }
   ],
   "source": [
    "df[df['Document'].astype(str).apply(len) == 7015]"
   ]
  },
  {
   "cell_type": "code",
   "execution_count": 12,
   "id": "bc5238f8",
   "metadata": {
    "execution": {
     "iopub.execute_input": "2025-10-02T10:50:01.281398Z",
     "iopub.status.busy": "2025-10-02T10:50:01.281021Z",
     "iopub.status.idle": "2025-10-02T10:50:01.315158Z",
     "shell.execute_reply": "2025-10-02T10:50:01.314221Z"
    },
    "papermill": {
     "duration": 0.042502,
     "end_time": "2025-10-02T10:50:01.316698",
     "exception": false,
     "start_time": "2025-10-02T10:50:01.274196",
     "status": "completed"
    },
    "tags": []
   },
   "outputs": [
    {
     "data": {
      "text/html": [
       "<div>\n",
       "<style scoped>\n",
       "    .dataframe tbody tr th:only-of-type {\n",
       "        vertical-align: middle;\n",
       "    }\n",
       "\n",
       "    .dataframe tbody tr th {\n",
       "        vertical-align: top;\n",
       "    }\n",
       "\n",
       "    .dataframe thead th {\n",
       "        text-align: right;\n",
       "    }\n",
       "</style>\n",
       "<table border=\"1\" class=\"dataframe\">\n",
       "  <thead>\n",
       "    <tr style=\"text-align: right;\">\n",
       "      <th></th>\n",
       "      <th>Document</th>\n",
       "      <th>Topic_group</th>\n",
       "    </tr>\n",
       "  </thead>\n",
       "  <tbody>\n",
       "    <tr>\n",
       "      <th>4215</th>\n",
       "      <td>open si</td>\n",
       "      <td>Hardware</td>\n",
       "    </tr>\n",
       "    <tr>\n",
       "      <th>36619</th>\n",
       "      <td>bug bug</td>\n",
       "      <td>Miscellaneous</td>\n",
       "    </tr>\n",
       "  </tbody>\n",
       "</table>\n",
       "</div>"
      ],
      "text/plain": [
       "      Document    Topic_group\n",
       "4215   open si       Hardware\n",
       "36619  bug bug  Miscellaneous"
      ]
     },
     "execution_count": 12,
     "metadata": {},
     "output_type": "execute_result"
    }
   ],
   "source": [
    "df[df['Document'].astype(str).apply(len) == 7]"
   ]
  },
  {
   "cell_type": "code",
   "execution_count": 13,
   "id": "c6c82bd8",
   "metadata": {
    "execution": {
     "iopub.execute_input": "2025-10-02T10:50:01.329424Z",
     "iopub.status.busy": "2025-10-02T10:50:01.329063Z",
     "iopub.status.idle": "2025-10-02T10:50:01.385054Z",
     "shell.execute_reply": "2025-10-02T10:50:01.384066Z"
    },
    "papermill": {
     "duration": 0.064484,
     "end_time": "2025-10-02T10:50:01.386910",
     "exception": false,
     "start_time": "2025-10-02T10:50:01.322426",
     "status": "completed"
    },
    "tags": []
   },
   "outputs": [
    {
     "name": "stdout",
     "output_type": "stream",
     "text": [
      "Minimum: 4215     open si\n",
      "36619    bug bug\n",
      "Name: Document, dtype: object\n",
      "\n",
      "\n",
      "Maximum: 6615    for re hi after talking mo looks link function best positioned make change please add routes existing interconnect via added routes which carried across then over connect believe needs done add route also route also add dynamic routing main please hesitate come back thanks infrastructure architect ext october re thanks mo mo please liaise going forward regards infrastructure programme upcoming leave st december october re good morning gents mo taking today looks added route which mean add routing well mo cr change mo please update after taken thanks infrastructure architect ext october re hi looking once routing has setup tested successfully please configuration resolved test prior regards infrastructure programme upcoming leave st december october re hi done work unable connect saying cannot traffic copy thread anybody also include based test seems resolve suspicion routing attached hit routing then connect well thanks number re hi let work scheduled thanks number re hi thanks update pass thanks number re hi found own dedicated which manage legacy traffic jump going over dedicated link which looks manage connected source mentioned filtering user traffic although four addresses traffic whole assigned over possible give flexibility more future without engagement possible then four let flexibility rest range again avoid helps please give shout thanks infrastructure architect ext re hi help quite call believe side hosts user workstations thanks number re thanks makes sense leave liaise detail wondering allowing hosts currently side obviously means overhead perhaps unexpected future niggles side hosts replaced refreshed scaled out tm side change each way re consistent re allowing re hi intention change question come allow users via site site specifically authenticate currently how works premise makes sense number re thanks infrastructure programme upcoming leave st december re hi guess normal he intention tighten things worried documenting needs future imagine upgrades replacements definitely possible medium term regards head infrastructure hi speak regards infrastructure programme upcoming leave st december re thanks networks help questions please number re hi coming addresses please coming addresses supplied were thanks kind regards wrote hi confusion connect listed then connect required number re hi then want tm please setup rules thanks kind regards wrote hi idea directly without having hop connect maybe call help explaining correctly number re hi allows were rules previously think change allow terminal hop terminal gain tm rules thanks kind regards wrote good morning information implies these please let rule allows then submit change add these rule thanks networks mobile forwarded date re hi believe test ad these change number re hello addresses cluster rules restrict these devices networks mobile wrote hi basically looks re right about how clusters intended how much infrastructure cluster depend caused cluster authority plumbing clusters clarify various routes these wrote hi about finished build part connect directly done diagram much best guess misunderstood configuration setup believe idea connect directly remote then similar way connect remote maybe call best thanks number architect largest multimedia publishers award winning portfolio brands important notice attachments meant intended recipient also contain confidential privileged information intended recipient reliance disclosure copying attachments strictly prohibited please notify immediately by received by mistake delete attachments views opinions solely author necessarily represent companies hereinafter referred tm tm accept liability content consequences actions taken basis information provided information subsequently confirmed writing although every reasonable effort made keep free viruses tm accept liability virus transmitted by attachments recipient date virus checking software subject interception monitoring operational reasons lawful practices parent companies registered canada square canary wharf largest multimedia publishers award winning portfolio brands important notice attachments meant intended recipient also contain confidential privileged information intended recipient reliance disclosure copying attachments strictly prohibited please notify immediately by received by mistake delete attachments views opinions solely author necessarily represent companies hereinafter referred tm tm accept liability content consequences actions taken basis information provided information subsequently confirmed writing although every reasonable effort made keep free viruses tm accept liability virus transmitted by attachments recipient date virus checking software subject interception monitoring operational reasons lawful practices parent companies registered canada square canary wharf largest multimedia publishers award winning portfolio brands important notice attachments meant intended recipient also contain confidential privileged information intended recipient reliance disclosure copying attachments strictly prohibited please notify immediately by received by mistake delete attachments views opinions solely author necessarily represent companies hereinafter referred tm tm accept liability content consequences actions taken basis information provided information subsequently confirmed writing although every reasonable effort made keep free viruses tm accept liability virus transmitted by attachments recipient date virus checking software subject interception monitoring operational reasons lawful practices parent companies registered canada square canary wharf largest multimedia publishers award winning portfolio brands important notice attachments meant intended recipient also contain confidential privileged information intended recipient reliance disclosure copying attachments strictly prohibited please notify immediately by received by mistake delete attachments views opinions solely author necessarily represent companies hereinafter referred tm tm accept liability content consequences actions taken basis information provided information subsequently confirmed writing although every reasonable effort made keep free viruses tm accept liability virus transmitted by attachments recipient date virus checking software subject interception monitoring operational reasons lawful practices parent companies registered canada square canary wharf largest multimedia publishers award winning portfolio brands important notice attachments meant intended recipient also contain confidential privileged information intended recipient reliance disclosure copying attachments strictly prohibited please notify immediately by received by mistake delete attachments views opinions solely author necessarily represent companies hereinafter referred tm tm accept liability content consequences actions taken basis information provided information subsequently confirmed writing although every reasonable effort made keep free viruses tm accept liability\n",
      "Name: Document, dtype: object\n"
     ]
    }
   ],
   "source": [
    "with pd.option_context('display.max_colwidth', None):\n",
    "    print(\"Minimum:\",df['Document'][df['Document'].astype(str).apply(len) == 7].astype(str))\n",
    "    print()\n",
    "    print()\n",
    "    print(\"Maximum:\",df['Document'][df['Document'].astype(str).apply(len) == 7015].astype(str))"
   ]
  },
  {
   "cell_type": "code",
   "execution_count": 14,
   "id": "07107541",
   "metadata": {
    "execution": {
     "iopub.execute_input": "2025-10-02T10:50:01.400361Z",
     "iopub.status.busy": "2025-10-02T10:50:01.399988Z",
     "iopub.status.idle": "2025-10-02T10:50:01.445791Z",
     "shell.execute_reply": "2025-10-02T10:50:01.444718Z"
    },
    "papermill": {
     "duration": 0.054732,
     "end_time": "2025-10-02T10:50:01.447644",
     "exception": false,
     "start_time": "2025-10-02T10:50:01.392912",
     "status": "completed"
    },
    "tags": []
   },
   "outputs": [
    {
     "name": "stdout",
     "output_type": "stream",
     "text": [
      "\n",
      "[Hardware] ticket example:\n",
      "connection with icon icon dear please setup icon per icon engineers please let other details needed thanks lead...\n",
      "\n",
      "[Access] ticket example:\n",
      "work experience user work experience user hi work experience student coming next his name much appreciate him duration thank...\n",
      "\n",
      "[Miscellaneous] ticket example:\n",
      "mail verification warning hi has got attached please addresses best regards monitoring analyst verification warning...\n",
      "\n",
      "[HR Support] ticket example:\n",
      "access request dear modules report report cost thank much regards...\n",
      "\n",
      "[Purchase] ticket example:\n",
      "system hello movement has left available device please kind device denmark copenhagen denmark please source quotation shipping by lead...\n",
      "\n",
      "[Administrative rights] ticket example:\n",
      "notification wireless devices upgrade cr medium wireless devices upgrade cr medium hi please announce users about window wireless best regards senior engineer cr medium has by hello summary software upgrade release has approved by please wait until completed starting kind regards ref msg...\n",
      "\n",
      "[Storage] ticket example:\n",
      "mailbox almost full mailbox almost hi mailbox almost kind thanks regards senior infrastructure engineer infrastructure upcoming holiday none id...\n",
      "\n",
      "[Internal Project] ticket example:\n",
      "opportunity into pas known pipeline opportunity known pipeline hi please import bellow opportunity known pipeline opportunity id thanks officer...\n"
     ]
    }
   ],
   "source": [
    "for group in df['Topic_group'].unique():\n",
    "    sample = df[df['Topic_group'] == group]['Document'].iloc[0]\n",
    "    print(f\"\\n[{group}] ticket example:\\n{sample[:500]}...\")"
   ]
  },
  {
   "cell_type": "markdown",
   "id": "c95d8ddc",
   "metadata": {
    "papermill": {
     "duration": 0.005528,
     "end_time": "2025-10-02T10:50:01.459121",
     "exception": false,
     "start_time": "2025-10-02T10:50:01.453593",
     "status": "completed"
    },
    "tags": []
   },
   "source": []
  },
  {
   "cell_type": "code",
   "execution_count": null,
   "id": "9d9dba48",
   "metadata": {
    "papermill": {
     "duration": 0.005351,
     "end_time": "2025-10-02T10:50:01.470095",
     "exception": false,
     "start_time": "2025-10-02T10:50:01.464744",
     "status": "completed"
    },
    "tags": []
   },
   "outputs": [],
   "source": []
  }
 ],
 "metadata": {
  "kaggle": {
   "accelerator": "none",
   "dataSources": [
    {
     "datasetId": 4460055,
     "sourceId": 7650678,
     "sourceType": "datasetVersion"
    }
   ],
   "dockerImageVersionId": 31089,
   "isGpuEnabled": false,
   "isInternetEnabled": true,
   "language": "python",
   "sourceType": "notebook"
  },
  "kernelspec": {
   "display_name": "Python 3",
   "language": "python",
   "name": "python3"
  },
  "language_info": {
   "codemirror_mode": {
    "name": "ipython",
    "version": 3
   },
   "file_extension": ".py",
   "mimetype": "text/x-python",
   "name": "python",
   "nbconvert_exporter": "python",
   "pygments_lexer": "ipython3",
   "version": "3.11.13"
  },
  "papermill": {
   "default_parameters": {},
   "duration": 12.828334,
   "end_time": "2025-10-02T10:50:02.497744",
   "environment_variables": {},
   "exception": null,
   "input_path": "__notebook__.ipynb",
   "output_path": "__notebook__.ipynb",
   "parameters": {},
   "start_time": "2025-10-02T10:49:49.669410",
   "version": "2.6.0"
  }
 },
 "nbformat": 4,
 "nbformat_minor": 5
}
